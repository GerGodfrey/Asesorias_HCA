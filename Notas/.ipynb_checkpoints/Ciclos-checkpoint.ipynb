{
 "cells": [
  {
   "cell_type": "markdown",
   "metadata": {},
   "source": [
    "### *For*"
   ]
  },
  {
   "cell_type": "markdown",
   "metadata": {},
   "source": [
    "Es un **bucle** que repite el bloque de instrucciones un **número predeterminado de veces**. El bloque de instrucciones que se repite se suele llamar cuerpo del bucle y cada repetición se suele llamar iteración.\n",
    "\n",
    "La sintaxis de un bucle `for` es la siguiente:\n",
    "\n",
    "```python\n",
    "for variable in elemento iterable:\n",
    "    bloque que se repetira\n",
    "```\n",
    "\n",
    "`variable` es la que estará tomando los valores de tu elemento iterable\n",
    "`elemento iterable` puede ser una lista,cadena,rango incluso hasta una palabra"
   ]
  },
  {
   "cell_type": "code",
   "execution_count": 1,
   "metadata": {},
   "outputs": [
    {
     "name": "stdout",
     "output_type": "stream",
     "text": [
      "Comienzo\n",
      "Hola 0 \n",
      "Hola 1 \n",
      "Hola 2 \n",
      "\n",
      "Final\n"
     ]
    }
   ],
   "source": [
    "print(\"Comienzo\")\n",
    "for i in [0, 1, 2]:\n",
    "    print(f\"Hola {i} \")\n",
    "print()\n",
    "print(\"Final\")"
   ]
  },
  {
   "cell_type": "markdown",
   "metadata": {},
   "source": [
    "### *While*"
   ]
  },
  {
   "cell_type": "markdown",
   "metadata": {},
   "source": [
    "Un bucle `while` permite repetir la ejecución de un grupo de instrucciones **mientras se cumpla una condición**.\n",
    "\n",
    "La sintaxis del bucle `while` es la siguiente:\n",
    "\n",
    "```python\n",
    "while condicion:\n",
    "    pasa algo\n",
    "    pasa algo\n",
    "```\n",
    "La variable o las variables que aparezcan en la condición se suelen llamar **variables de control**. Las variables de control deben definirse antes del bucle while y **modificarse en el bucle while**."
   ]
  },
  {
   "cell_type": "code",
   "execution_count": 2,
   "metadata": {},
   "outputs": [
    {
     "name": "stdout",
     "output_type": "stream",
     "text": [
      "1\n",
      "2\n",
      "3\n",
      "Programa terminado\n"
     ]
    }
   ],
   "source": [
    "i = 1\n",
    "while i <= 3:\n",
    "    print(i)\n",
    "    i += 1\n",
    "print(\"Programa terminado\")"
   ]
  },
  {
   "cell_type": "code",
   "execution_count": null,
   "metadata": {},
   "outputs": [],
   "source": []
  }
 ],
 "metadata": {
  "kernelspec": {
   "display_name": "Python 3",
   "language": "python",
   "name": "python3"
  },
  "language_info": {
   "codemirror_mode": {
    "name": "ipython",
    "version": 3
   },
   "file_extension": ".py",
   "mimetype": "text/x-python",
   "name": "python",
   "nbconvert_exporter": "python",
   "pygments_lexer": "ipython3",
   "version": "3.8.3"
  }
 },
 "nbformat": 4,
 "nbformat_minor": 4
}
