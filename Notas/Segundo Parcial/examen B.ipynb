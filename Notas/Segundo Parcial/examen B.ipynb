{
 "cells": [
  {
   "cell_type": "markdown",
   "metadata": {},
   "source": [
    "Resuelve el sistema de ecuaciones de dos formas diferentes \n",
    "- 3x 0y - 4z = 0\n",
    "- 6x + 4y = -1\n",
    "- 8y + 2Z = 5"
   ]
  },
  {
   "cell_type": "code",
   "execution_count": 6,
   "metadata": {},
   "outputs": [],
   "source": [
    "import numpy as np"
   ]
  },
  {
   "cell_type": "code",
   "execution_count": 7,
   "metadata": {},
   "outputs": [
    {
     "name": "stdout",
     "output_type": "stream",
     "text": [
      "[[-0.66666667]\n",
      " [ 0.75      ]\n",
      " [-0.5       ]]\n"
     ]
    }
   ],
   "source": [
    "incognitas=np.mat(\"3 0 -4; 6 4 0; 0 8 2\")\n",
    "resul=np.mat(\"0; -1; 5\")\n",
    "resultado=incognitas.I*resul\n",
    "print(resultado)"
   ]
  },
  {
   "cell_type": "code",
   "execution_count": 8,
   "metadata": {},
   "outputs": [
    {
     "name": "stdout",
     "output_type": "stream",
     "text": [
      "X= [[-0.66666667]]  Y= [[0.75]]  Z= [[-0.5]]\n"
     ]
    }
   ],
   "source": [
    "print(\"X=\",resultado[0],\" Y=\",resultado[1],\" Z=\",resultado[2])"
   ]
  },
  {
   "cell_type": "code",
   "execution_count": 9,
   "metadata": {},
   "outputs": [],
   "source": [
    "# otra forma de resolverlo es utilizar el \n",
    "# módulo  de álgebra lineal de la librería numpy"
   ]
  },
  {
   "cell_type": "code",
   "execution_count": 10,
   "metadata": {},
   "outputs": [
    {
     "data": {
      "text/plain": [
       "matrix([[-0.66666667],\n",
       "        [ 0.75      ],\n",
       "        [-0.5       ]])"
      ]
     },
     "execution_count": 10,
     "metadata": {},
     "output_type": "execute_result"
    }
   ],
   "source": [
    "np.linalg.solve(incognitas, resul)"
   ]
  },
  {
   "cell_type": "code",
   "execution_count": null,
   "metadata": {},
   "outputs": [],
   "source": []
  }
 ],
 "metadata": {
  "kernelspec": {
   "display_name": "Python 3",
   "language": "python",
   "name": "python3"
  },
  "language_info": {
   "codemirror_mode": {
    "name": "ipython",
    "version": 3
   },
   "file_extension": ".py",
   "mimetype": "text/x-python",
   "name": "python",
   "nbconvert_exporter": "python",
   "pygments_lexer": "ipython3",
   "version": "3.8.5"
  }
 },
 "nbformat": 4,
 "nbformat_minor": 4
}
