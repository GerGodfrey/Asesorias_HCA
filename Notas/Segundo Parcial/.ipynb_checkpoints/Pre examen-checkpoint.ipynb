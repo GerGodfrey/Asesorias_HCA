{
 "cells": [
  {
   "cell_type": "markdown",
   "metadata": {},
   "source": [
    "1) Genere una lista que contenga 100 numeros de la siguiente forma :\n",
    "    0 , 2 , 4 , 6 , 8, 10 , 12 , ... 200"
   ]
  },
  {
   "cell_type": "code",
   "execution_count": 25,
   "metadata": {},
   "outputs": [
    {
     "name": "stdout",
     "output_type": "stream",
     "text": [
      "[0, 2, 4, 6, 8, 10, 12, 14, 16, 18, 20, 22, 24, 26, 28, 30, 32, 34, 36, 38, 40, 42, 44, 46, 48, 50, 52, 54, 56, 58, 60, 62, 64, 66, 68, 70, 72, 74, 76, 78, 80, 82, 84, 86, 88, 90, 92, 94, 96, 98, 100, 102, 104, 106, 108, 110, 112, 114, 116, 118, 120, 122, 124, 126, 128, 130, 132, 134, 136, 138, 140, 142, 144, 146, 148, 150, 152, 154, 156, 158, 160, 162, 164, 166, 168, 170, 172, 174, 176, 178, 180, 182, 184, 186, 188, 190, 192, 194, 196, 198, 200]\n"
     ]
    }
   ],
   "source": [
    "a=list(range(0,201,2))\n",
    "print(a)"
   ]
  },
  {
   "cell_type": "markdown",
   "metadata": {},
   "source": [
    "2) Agrega los primeros 10 elementos a una nueva lista"
   ]
  },
  {
   "cell_type": "code",
   "execution_count": 40,
   "metadata": {},
   "outputs": [
    {
     "name": "stdout",
     "output_type": "stream",
     "text": [
      "[2, 4, 6, 8, 10, 12, 14, 16, 18, 20]\n"
     ]
    }
   ],
   "source": [
    "lista=[]\n",
    "x=0\n",
    "while x<10:\n",
    "    x=x+1\n",
    "    lista.append(a[x])\n",
    "print(lista)\n",
    "    "
   ]
  },
  {
   "cell_type": "markdown",
   "metadata": {},
   "source": [
    "3) Crea un diccionario con la lista de claves únicas y el que se te da a continuacion:"
   ]
  },
  {
   "cell_type": "code",
   "execution_count": 142,
   "metadata": {},
   "outputs": [
    {
     "name": "stdout",
     "output_type": "stream",
     "text": [
      "{'clave': [2, 4, 6, 8, 10, 12, 14, 16, 18, 20], 'nombre': ['juan', 'pablo', 'maria', 'Estela', 'Pedro', 'Gerardo', 'Salo', 'Andy', 'Langarica', 'david']}\n"
     ]
    }
   ],
   "source": [
    "alumnos = [\"juan\",\"pablo\",\"maria\",\"Estela\",\"Pedro\",\"Gerardo\",\"Salo\",\"Andy\",\"Langarica\",\"david\"]\n",
    "escuela={\"clave\":lista,\n",
    "        \"nombre\":alumnos}\n",
    "print(escuela)"
   ]
  },
  {
   "cell_type": "code",
   "execution_count": 57,
   "metadata": {},
   "outputs": [
    {
     "data": {
      "text/plain": [
       "('maria', 6)"
      ]
     },
     "execution_count": 57,
     "metadata": {},
     "output_type": "execute_result"
    }
   ],
   "source": [
    "escuela[\"nombre\"][2],escuela[\"clave\"][2]"
   ]
  },
  {
   "cell_type": "code",
   "execution_count": null,
   "metadata": {},
   "outputs": [],
   "source": []
  },
  {
   "cell_type": "code",
   "execution_count": 144,
   "metadata": {},
   "outputs": [],
   "source": [
    "import random"
   ]
  },
  {
   "cell_type": "code",
   "execution_count": 145,
   "metadata": {},
   "outputs": [
    {
     "name": "stdout",
     "output_type": "stream",
     "text": [
      "[8, 2, 7, 9, 2, 5, 4, 8, 1, 9]\n"
     ]
    }
   ],
   "source": [
    "\n",
    "lista1=[]\n",
    "for a in range(0,10,1):\n",
    "    aa=random.randrange(0, 10)\n",
    "    lista1.append(aa)\n",
    "print(lista1)"
   ]
  },
  {
   "cell_type": "code",
   "execution_count": 60,
   "metadata": {},
   "outputs": [
    {
     "name": "stdout",
     "output_type": "stream",
     "text": [
      "[0.3747062369799924, 0.8462053910057902, 0.023130246967781765, 0.6151587084386761, 0.3826823833698133, 0.2576377008923961, 0.6100687609183869, 0.6939170251134391, 0.305708383477063, 0.11794468507316946, 0.4128889701499625]\n"
     ]
    }
   ],
   "source": [
    "\n",
    "lista2=[]\n",
    "for a in range(0,11,1):\n",
    "    ab=random.random()\n",
    "    lista2.append(ab)\n",
    "print(lista2)"
   ]
  },
  {
   "cell_type": "markdown",
   "metadata": {},
   "source": [
    "4) Crea dos listas aleatorias con 10 elementos:\n",
    "\n",
    "    4.1) La primera lista reflejara la calificacion de los alumnos ya la formula para hacerlo es : \n",
    "    random.randrange(0, 10)\n",
    "    4.2 ) La segunda lista erá la probabilidad del alumno de pasar la materia y la formula es : \n",
    "    random.random()\n",
    "    NOTA: recuerda importar random ( import random ) "
   ]
  },
  {
   "cell_type": "code",
   "execution_count": null,
   "metadata": {},
   "outputs": [],
   "source": []
  },
  {
   "cell_type": "markdown",
   "metadata": {},
   "source": [
    "5) Crea una funcion que te regrese el nombre del alumno, la calificacion que saco y la palabra \"correcto\" si la probabilidad de que pasara erá arriba de .60 y paso o era menor de .60 y reprobo (menos de 6) , o que imprima la palabra \"incorrecto\" si la probabilidad era arriba de .60 y reprobo o era menor de .60 y aprobo."
   ]
  },
  {
   "cell_type": "code",
   "execution_count": 73,
   "metadata": {},
   "outputs": [],
   "source": [
    "def proba (alumnos,lista1,lista2):\n",
    "    listafinal=[]\n",
    "    for x,y,z in zip(alumnos,lista1,lista2):\n",
    "        if z>=.60 and y>=6:\n",
    "            palabra=(\"corecto\", y,x)\n",
    "            listafinal.append(palabra)\n",
    "        else:\n",
    "            palabra=(\"incorrecto\",y,x)\n",
    "            listafinal.append(palabra)\n",
    "            \n",
    "    return listafinal\n"
   ]
  },
  {
   "cell_type": "code",
   "execution_count": 74,
   "metadata": {},
   "outputs": [
    {
     "data": {
      "text/plain": [
       "[('incorrecto', 9, 'juan'),\n",
       " ('incorrecto', 5, 'pablo'),\n",
       " ('incorrecto', 2, 'maria'),\n",
       " ('incorrecto', 4, 'Estela'),\n",
       " ('incorrecto', 7, 'Pedro'),\n",
       " ('incorrecto', 1, 'Gerardo'),\n",
       " ('corecto', 7, 'Salo'),\n",
       " ('corecto', 9, 'Andy'),\n",
       " ('incorrecto', 0, 'Langarica'),\n",
       " ('incorrecto', 3, 'david')]"
      ]
     },
     "execution_count": 74,
     "metadata": {},
     "output_type": "execute_result"
    }
   ],
   "source": [
    "proba(alumnos,lista1,lista2)"
   ]
  },
  {
   "cell_type": "code",
   "execution_count": 77,
   "metadata": {},
   "outputs": [
    {
     "ename": "NameError",
     "evalue": "name 'bbcito' is not defined",
     "output_type": "error",
     "traceback": [
      "\u001b[0;31m---------------------------------------------------------------------------\u001b[0m",
      "\u001b[0;31mNameError\u001b[0m                                 Traceback (most recent call last)",
      "\u001b[0;32m<ipython-input-77-accd7347774d>\u001b[0m in \u001b[0;36m<module>\u001b[0;34m()\u001b[0m\n\u001b[0;32m----> 1\u001b[0;31m \u001b[0mbbcito\u001b[0m\u001b[0;34m\u001b[0m\u001b[0m\n\u001b[0m",
      "\u001b[0;31mNameError\u001b[0m: name 'bbcito' is not defined"
     ]
    }
   ],
   "source": []
  },
  {
   "cell_type": "markdown",
   "metadata": {},
   "source": [
    "6) Agrega la listas 4.1 y 4.2 a tu diccionario con las llaves \"calificaciones\" y \"probabilidad\" correspondientemente."
   ]
  },
  {
   "cell_type": "code",
   "execution_count": 79,
   "metadata": {},
   "outputs": [],
   "source": [
    "escuela.update({\"clave\":lista,\n",
    "        \"nombre\":alumnos,\n",
    "              \"calififaciones\":lista1,\n",
    "              \"probabilidad\":lista2})"
   ]
  },
  {
   "cell_type": "code",
   "execution_count": 80,
   "metadata": {},
   "outputs": [
    {
     "data": {
      "text/plain": [
       "{'clave': [2, 4, 6, 8, 10, 12, 14, 16, 18, 20],\n",
       " 'nombre': ['juan',\n",
       "  'pablo',\n",
       "  'maria',\n",
       "  'Estela',\n",
       "  'Pedro',\n",
       "  'Gerardo',\n",
       "  'Salo',\n",
       "  'Andy',\n",
       "  'Langarica',\n",
       "  'david'],\n",
       " 'calififaciones': [9, 5, 2, 4, 7, 1, 7, 9, 0, 3, 2],\n",
       " 'probabilidad': [0.3747062369799924,\n",
       "  0.8462053910057902,\n",
       "  0.023130246967781765,\n",
       "  0.6151587084386761,\n",
       "  0.3826823833698133,\n",
       "  0.2576377008923961,\n",
       "  0.6100687609183869,\n",
       "  0.6939170251134391,\n",
       "  0.305708383477063,\n",
       "  0.11794468507316946,\n",
       "  0.4128889701499625]}"
      ]
     },
     "execution_count": 80,
     "metadata": {},
     "output_type": "execute_result"
    }
   ],
   "source": [
    "escuela"
   ]
  },
  {
   "cell_type": "markdown",
   "metadata": {},
   "source": [
    "7)La escuela decidio que a todas las calificaciones se le sumaran 2 puntos, por ejempplo si el alumno tiene 8 pasara a tener 10, pero un alumno no puede tener más de 10. ( si tiene 10 se queda en 10 y si tiene 9 se queda en 10 ).\n",
    "Modificar la llave calificaciones con ese nuevo rubro"
   ]
  },
  {
   "cell_type": "code",
   "execution_count": 89,
   "metadata": {},
   "outputs": [
    {
     "name": "stdout",
     "output_type": "stream",
     "text": [
      "10\n",
      "7\n",
      "4\n",
      "6\n",
      "9\n",
      "3\n",
      "9\n",
      "10\n",
      "2\n",
      "5\n",
      "4\n"
     ]
    }
   ],
   "source": [
    "listacali=[]\n",
    "for x in lista1:\n",
    "    if x<=8:\n",
    "        x=x+2\n",
    "        listacali.append(x)\n",
    "    elif x==9:\n",
    "        x=x+1\n",
    "        listacali.append(x)\n",
    "    else:\n",
    "        x=x+0\n",
    "        listacali.append(x)\n",
    "    print(x)\n",
    "    "
   ]
  },
  {
   "cell_type": "markdown",
   "metadata": {},
   "source": [
    "8) Saca el promedio, calificación mínima , calificacion máxima de esta escuela "
   ]
  },
  {
   "cell_type": "code",
   "execution_count": 93,
   "metadata": {},
   "outputs": [
    {
     "name": "stdout",
     "output_type": "stream",
     "text": [
      "6.2727272727272725\n",
      "2\n",
      "10\n"
     ]
    }
   ],
   "source": [
    "prom=sum(listacali)/len(listacali)\n",
    "minimo=min(listacali)\n",
    "maximo=max(listacali)\n",
    "print(prom)\n",
    "print(minimo)\n",
    "print(maximo)"
   ]
  },
  {
   "cell_type": "markdown",
   "metadata": {},
   "source": [
    "9) Comparacion con las nuevas escuelas : \n",
    "calificaciones_nueva = [8,7,9,10,4,7,9,10,10,10]\n",
    "alumnos_nueva = [\"juan\",\"pablo\",\"maria\",\"Estela\",\"Pedro\",\"Gerardo\",\"Salo\",\"Andy\",\"Langarica\",\"david\"] \n",
    "\n",
    "Saca las operaciones básicas de : promedio, media, minima, etc. Y gráfica esta nueva escuela con la calificacion de la vieja\n"
   ]
  },
  {
   "cell_type": "code",
   "execution_count": 109,
   "metadata": {},
   "outputs": [
    {
     "name": "stdout",
     "output_type": "stream",
     "text": [
      "8.454545454545455\n",
      "4\n",
      "10\n"
     ]
    }
   ],
   "source": [
    "C = [8,7,9,10,4,7,9,10,10,10,9] \n",
    "alumnos_nueva = [\"juan\",\"pablo\",\"maria\",\"Estela\",\"Pedro\",\"Gerardo\",\"Salo\",\"Andy\",\"Langarica\",\"david\"]\n",
    "listaescuela2=[]\n",
    "for x in C:\n",
    "    listaescuela2.append(x)\n",
    "promedio2=sum(listaescuela2)/len(listaescuela2)\n",
    "minima2=min(listaescuela2)\n",
    "maxima2=max(listaescuela2)\n",
    "print(promedio2)\n",
    "print(minima2)\n",
    "print(maxima2)\n",
    "\n",
    "    "
   ]
  },
  {
   "cell_type": "code",
   "execution_count": 110,
   "metadata": {},
   "outputs": [],
   "source": [
    "import numpy as np"
   ]
  },
  {
   "cell_type": "code",
   "execution_count": 115,
   "metadata": {},
   "outputs": [],
   "source": [
    "arr1=np.array(C)\n",
    "arr2=np.array(lista1)\n",
    "arreglo=arr1+arr2\n",
    "promedio=sum(arreglo)/len(arreglo)"
   ]
  },
  {
   "cell_type": "code",
   "execution_count": 118,
   "metadata": {},
   "outputs": [
    {
     "data": {
      "text/plain": [
       "array([8.5, 6. , 5.5, 7. , 5.5, 4. , 8. , 9.5, 5. , 6.5, 5.5])"
      ]
     },
     "execution_count": 118,
     "metadata": {},
     "output_type": "execute_result"
    }
   ],
   "source": [
    "arreglo/2"
   ]
  },
  {
   "cell_type": "code",
   "execution_count": 125,
   "metadata": {
    "scrolled": true
   },
   "outputs": [
    {
     "name": "stdout",
     "output_type": "stream",
     "text": [
      "Using matplotlib backend: MacOSX\n",
      "Populating the interactive namespace from numpy and matplotlib\n"
     ]
    },
    {
     "data": {
      "text/plain": [
       "<BarContainer object of 10 artists>"
      ]
     },
     "execution_count": 125,
     "metadata": {},
     "output_type": "execute_result"
    }
   ],
   "source": [
    "%matplotlib inline\n",
    "%pylab\n",
    "C = [8,7,9,10,4,7,9,10,10,10] \n",
    "alumnos_nueva = [\"juan\",\"pablo\",\"maria\",\"Estela\",\"Pedro\",\"Gerardo\",\"Salo\",\"Andy\",\"Langarica\",\"david\"]\n",
    "barh(alumnos_nueva,C)"
   ]
  },
  {
   "cell_type": "code",
   "execution_count": 136,
   "metadata": {},
   "outputs": [],
   "source": [
    "#Calificaciones de Gerardo en una materia por año\n",
    "año =[2010,2011,2012,2013,2014,2015,2016,2017,2018,2019]\n",
    "califiaciones = [8,7,9,10,4,7,9,10,10,10]\n",
    "plot(año,califiaciones,\"o\")\n",
    "xlabel(\"AÑO\")\n",
    "ylabel(\"Cali\")\n",
    "grid(True)\n"
   ]
  },
  {
   "cell_type": "code",
   "execution_count": 139,
   "metadata": {},
   "outputs": [],
   "source": [
    "from pandas import DataFrame\n",
    "import pandas as pd"
   ]
  },
  {
   "cell_type": "code",
   "execution_count": 146,
   "metadata": {},
   "outputs": [],
   "source": [
    "hola=pd.DataFrame(escuela)"
   ]
  },
  {
   "cell_type": "code",
   "execution_count": 147,
   "metadata": {},
   "outputs": [
    {
     "data": {
      "text/html": [
       "<div>\n",
       "<style scoped>\n",
       "    .dataframe tbody tr th:only-of-type {\n",
       "        vertical-align: middle;\n",
       "    }\n",
       "\n",
       "    .dataframe tbody tr th {\n",
       "        vertical-align: top;\n",
       "    }\n",
       "\n",
       "    .dataframe thead th {\n",
       "        text-align: right;\n",
       "    }\n",
       "</style>\n",
       "<table border=\"1\" class=\"dataframe\">\n",
       "  <thead>\n",
       "    <tr style=\"text-align: right;\">\n",
       "      <th></th>\n",
       "      <th>clave</th>\n",
       "      <th>nombre</th>\n",
       "    </tr>\n",
       "  </thead>\n",
       "  <tbody>\n",
       "    <tr>\n",
       "      <th>0</th>\n",
       "      <td>2</td>\n",
       "      <td>juan</td>\n",
       "    </tr>\n",
       "    <tr>\n",
       "      <th>1</th>\n",
       "      <td>4</td>\n",
       "      <td>pablo</td>\n",
       "    </tr>\n",
       "    <tr>\n",
       "      <th>2</th>\n",
       "      <td>6</td>\n",
       "      <td>maria</td>\n",
       "    </tr>\n",
       "    <tr>\n",
       "      <th>3</th>\n",
       "      <td>8</td>\n",
       "      <td>Estela</td>\n",
       "    </tr>\n",
       "    <tr>\n",
       "      <th>4</th>\n",
       "      <td>10</td>\n",
       "      <td>Pedro</td>\n",
       "    </tr>\n",
       "    <tr>\n",
       "      <th>5</th>\n",
       "      <td>12</td>\n",
       "      <td>Gerardo</td>\n",
       "    </tr>\n",
       "    <tr>\n",
       "      <th>6</th>\n",
       "      <td>14</td>\n",
       "      <td>Salo</td>\n",
       "    </tr>\n",
       "    <tr>\n",
       "      <th>7</th>\n",
       "      <td>16</td>\n",
       "      <td>Andy</td>\n",
       "    </tr>\n",
       "    <tr>\n",
       "      <th>8</th>\n",
       "      <td>18</td>\n",
       "      <td>Langarica</td>\n",
       "    </tr>\n",
       "    <tr>\n",
       "      <th>9</th>\n",
       "      <td>20</td>\n",
       "      <td>david</td>\n",
       "    </tr>\n",
       "  </tbody>\n",
       "</table>\n",
       "</div>"
      ],
      "text/plain": [
       "   clave     nombre\n",
       "0      2       juan\n",
       "1      4      pablo\n",
       "2      6      maria\n",
       "3      8     Estela\n",
       "4     10      Pedro\n",
       "5     12    Gerardo\n",
       "6     14       Salo\n",
       "7     16       Andy\n",
       "8     18  Langarica\n",
       "9     20      david"
      ]
     },
     "execution_count": 147,
     "metadata": {},
     "output_type": "execute_result"
    }
   ],
   "source": [
    "hola"
   ]
  },
  {
   "cell_type": "code",
   "execution_count": 148,
   "metadata": {},
   "outputs": [],
   "source": [
    "archivo=open(\"tipoUSD.txt\",\"r\")\n",
    "datos=archivo.read()\n",
    "archivo.close\n",
    "dolares=datos.split(\",\")\n",
    "tipoUSD=[float(n) for n in dolares]"
   ]
  },
  {
   "cell_type": "code",
   "execution_count": 149,
   "metadata": {},
   "outputs": [
    {
     "data": {
      "text/plain": [
       "[17.2487,\n",
       " 17.3529,\n",
       " 17.3456,\n",
       " 17.4411,\n",
       " 17.6568,\n",
       " 17.9283,\n",
       " 17.9304,\n",
       " 17.9119,\n",
       " 17.85,\n",
       " 17.9121,\n",
       " 18.2108,\n",
       " 18.2327,\n",
       " 18.1947,\n",
       " 18.608,\n",
       " 18.5084,\n",
       " 18.428,\n",
       " 18.5352,\n",
       " 18.4715,\n",
       " 18.453,\n",
       " 18.2906,\n",
       " 18.1935,\n",
       " 18.4902,\n",
       " 18.4537,\n",
       " 18.1891,\n",
       " 18.3748,\n",
       " 18.6959,\n",
       " 18.7818,\n",
       " 18.8089,\n",
       " 19.1754,\n",
       " 19.0392,\n",
       " 18.8471,\n",
       " 18.8148,\n",
       " 18.3895,\n",
       " 18.1439,\n",
       " 18.2762,\n",
       " 18.0568,\n",
       " 18.1948,\n",
       " 18.2893,\n",
       " 18.168,\n",
       " 18.1706,\n",
       " 18.102,\n",
       " 17.9432,\n",
       " 17.8561,\n",
       " 17.8971,\n",
       " 17.7723,\n",
       " 17.7526,\n",
       " 17.9044,\n",
       " 17.7523,\n",
       " 17.8601,\n",
       " 17.7002,\n",
       " 17.7691,\n",
       " 17.926,\n",
       " 17.9308,\n",
       " 17.4034,\n",
       " 17.2995,\n",
       " 17.3361,\n",
       " 17.5273,\n",
       " 17.461,\n",
       " 17.4015,\n",
       " 17.2509,\n",
       " 17.237,\n",
       " 17.3338,\n",
       " 17.4484,\n",
       " 17.7252,\n",
       " 17.7286,\n",
       " 17.893,\n",
       " 17.7391,\n",
       " 17.6452,\n",
       " 17.5719,\n",
       " 17.49,\n",
       " 17.388,\n",
       " 17.5669,\n",
       " 17.4598,\n",
       " 17.2825,\n",
       " 17.3078,\n",
       " 17.4202,\n",
       " 17.4359,\n",
       " 17.5866,\n",
       " 17.4298,\n",
       " 17.3993,\n",
       " 17.2125,\n",
       " 17.1767,\n",
       " 17.2279,\n",
       " 17.5234,\n",
       " 17.7358,\n",
       " 17.7866,\n",
       " 17.9204,\n",
       " 18.1033,\n",
       " 18.0205,\n",
       " 17.9549,\n",
       " 17.9915,\n",
       " 18.1562,\n",
       " 18.1795,\n",
       " 18.3217,\n",
       " 18.3761,\n",
       " 18.5465,\n",
       " 18.3826,\n",
       " 18.4444,\n",
       " 18.4694,\n",
       " 18.452,\n",
       " 18.4572,\n",
       " 18.4527,\n",
       " 18.4777,\n",
       " 18.4118,\n",
       " 18.5299,\n",
       " 18.6097,\n",
       " 18.6283,\n",
       " 18.5889,\n",
       " 18.5067,\n",
       " 18.1491,\n",
       " 18.2742,\n",
       " 18.5046,\n",
       " 18.7915,\n",
       " 18.9814,\n",
       " 18.8672,\n",
       " 18.9968,\n",
       " 18.8527,\n",
       " 18.6559,\n",
       " 18.6444,\n",
       " 18.5325,\n",
       " 18.3207,\n",
       " 18.8716,\n",
       " 19.1283,\n",
       " 18.9113,\n",
       " 18.555,\n",
       " 18.4646,\n",
       " 18.309,\n",
       " 18.3858,\n",
       " 18.7536,\n",
       " 18.8161,\n",
       " 18.8607,\n",
       " 18.5991,\n",
       " 18.4597,\n",
       " 18.3006,\n",
       " 18.3937,\n",
       " 18.3061,\n",
       " 18.492,\n",
       " 18.4879,\n",
       " 18.5719,\n",
       " 18.5729,\n",
       " 18.6022,\n",
       " 18.6089,\n",
       " 18.7569,\n",
       " 18.8114,\n",
       " 18.8602,\n",
       " 18.8979,\n",
       " 18.7837,\n",
       " 18.8504,\n",
       " 18.8966,\n",
       " 18.9117,\n",
       " 18.8612,\n",
       " 18.8691,\n",
       " 18.5716,\n",
       " 18.3842,\n",
       " 18.3479,\n",
       " 18.2678,\n",
       " 18.2455,\n",
       " 18.0363,\n",
       " 17.9869,\n",
       " 18.2598,\n",
       " 18.0832,\n",
       " 18.2674,\n",
       " 18.3023,\n",
       " 18.3202,\n",
       " 18.4971,\n",
       " 18.446,\n",
       " 18.283,\n",
       " 18.5773,\n",
       " 18.7953,\n",
       " 18.8611,\n",
       " 18.8523,\n",
       " 18.6589,\n",
       " 18.5581,\n",
       " 18.3524,\n",
       " 18.3689,\n",
       " 18.5427,\n",
       " 18.8451,\n",
       " 19.0646,\n",
       " 19.152,\n",
       " 19.2275,\n",
       " 19.2514,\n",
       " 19.6097,\n",
       " 19.777,\n",
       " 19.8394,\n",
       " 19.5965,\n",
       " 19.7211,\n",
       " 19.8322,\n",
       " 19.5044,\n",
       " 19.5002,\n",
       " 19.4086,\n",
       " 19.3776,\n",
       " 19.3211,\n",
       " 19.2138,\n",
       " 19.2554,\n",
       " 19.2433,\n",
       " 19.2994,\n",
       " 18.8786,\n",
       " 18.9531,\n",
       " 18.9622,\n",
       " 19.0399,\n",
       " 19.0046,\n",
       " 18.8723,\n",
       " 18.6726,\n",
       " 18.5894,\n",
       " 18.5945,\n",
       " 18.6481,\n",
       " 18.5658,\n",
       " 18.5147,\n",
       " 18.6485,\n",
       " 18.8443,\n",
       " 18.7304,\n",
       " 18.8887,\n",
       " 19.1306,\n",
       " 19.2014,\n",
       " 19.0792,\n",
       " 18.6192,\n",
       " 18.5089,\n",
       " 19.925,\n",
       " 20.4812,\n",
       " 21.0511,\n",
       " 20.8729,\n",
       " 20.349,\n",
       " 20.2884,\n",
       " 20.1898,\n",
       " 20.4193,\n",
       " 20.5205,\n",
       " 20.6901,\n",
       " 20.7051,\n",
       " 20.6475,\n",
       " 20.5521,\n",
       " 20.6225,\n",
       " 20.5155,\n",
       " 20.7488,\n",
       " 20.6149,\n",
       " 20.5927,\n",
       " 20.3863,\n",
       " 20.2967,\n",
       " 20.4162,\n",
       " 20.3305,\n",
       " 20.2567,\n",
       " 20.2226,\n",
       " 20.5973,\n",
       " 20.428,\n",
       " 20.4098,\n",
       " 20.43,\n",
       " 20.4921,\n",
       " 20.7179,\n",
       " 20.6271,\n",
       " 20.6445,\n",
       " 20.7052,\n",
       " 20.7314,\n",
       " 20.664,\n",
       " 20.6194,\n",
       " 20.7323,\n",
       " 20.852,\n",
       " 21.3799,\n",
       " 21.3661,\n",
       " 21.3144,\n",
       " 21.3219,\n",
       " 21.6168,\n",
       " 21.9076,\n",
       " 21.7204]"
      ]
     },
     "execution_count": 149,
     "metadata": {},
     "output_type": "execute_result"
    }
   ],
   "source": [
    "tipoUSD"
   ]
  },
  {
   "cell_type": "code",
   "execution_count": 158,
   "metadata": {},
   "outputs": [],
   "source": [
    "dataf=pd.read_csv(\"InformacionProyecto.csv\", header=0)\n"
   ]
  },
  {
   "cell_type": "code",
   "execution_count": 159,
   "metadata": {},
   "outputs": [
    {
     "data": {
      "text/html": [
       "<div>\n",
       "<style scoped>\n",
       "    .dataframe tbody tr th:only-of-type {\n",
       "        vertical-align: middle;\n",
       "    }\n",
       "\n",
       "    .dataframe tbody tr th {\n",
       "        vertical-align: top;\n",
       "    }\n",
       "\n",
       "    .dataframe thead th {\n",
       "        text-align: right;\n",
       "    }\n",
       "</style>\n",
       "<table border=\"1\" class=\"dataframe\">\n",
       "  <thead>\n",
       "    <tr style=\"text-align: right;\">\n",
       "      <th></th>\n",
       "      <th>Salario</th>\n",
       "      <th>Bonos</th>\n",
       "      <th>Horas_Extra</th>\n",
       "    </tr>\n",
       "  </thead>\n",
       "  <tbody>\n",
       "    <tr>\n",
       "      <th>0</th>\n",
       "      <td>59064</td>\n",
       "      <td>966.313176</td>\n",
       "      <td>36</td>\n",
       "    </tr>\n",
       "    <tr>\n",
       "      <th>1</th>\n",
       "      <td>64822</td>\n",
       "      <td>7786.323346</td>\n",
       "      <td>28</td>\n",
       "    </tr>\n",
       "    <tr>\n",
       "      <th>2</th>\n",
       "      <td>37167</td>\n",
       "      <td>9835.592163</td>\n",
       "      <td>31</td>\n",
       "    </tr>\n",
       "    <tr>\n",
       "      <th>3</th>\n",
       "      <td>53216</td>\n",
       "      <td>2546.274946</td>\n",
       "      <td>45</td>\n",
       "    </tr>\n",
       "    <tr>\n",
       "      <th>4</th>\n",
       "      <td>21858</td>\n",
       "      <td>6698.275287</td>\n",
       "      <td>27</td>\n",
       "    </tr>\n",
       "    <tr>\n",
       "      <th>5</th>\n",
       "      <td>37356</td>\n",
       "      <td>9166.383770</td>\n",
       "      <td>39</td>\n",
       "    </tr>\n",
       "    <tr>\n",
       "      <th>6</th>\n",
       "      <td>42815</td>\n",
       "      <td>9461.007841</td>\n",
       "      <td>41</td>\n",
       "    </tr>\n",
       "    <tr>\n",
       "      <th>7</th>\n",
       "      <td>78674</td>\n",
       "      <td>8695.326318</td>\n",
       "      <td>40</td>\n",
       "    </tr>\n",
       "    <tr>\n",
       "      <th>8</th>\n",
       "      <td>54823</td>\n",
       "      <td>5763.437471</td>\n",
       "      <td>36</td>\n",
       "    </tr>\n",
       "    <tr>\n",
       "      <th>9</th>\n",
       "      <td>96824</td>\n",
       "      <td>5086.908680</td>\n",
       "      <td>39</td>\n",
       "    </tr>\n",
       "    <tr>\n",
       "      <th>10</th>\n",
       "      <td>106354</td>\n",
       "      <td>6662.342316</td>\n",
       "      <td>24</td>\n",
       "    </tr>\n",
       "    <tr>\n",
       "      <th>11</th>\n",
       "      <td>71125</td>\n",
       "      <td>4135.827435</td>\n",
       "      <td>23</td>\n",
       "    </tr>\n",
       "    <tr>\n",
       "      <th>12</th>\n",
       "      <td>12431</td>\n",
       "      <td>3889.697236</td>\n",
       "      <td>37</td>\n",
       "    </tr>\n",
       "    <tr>\n",
       "      <th>13</th>\n",
       "      <td>52897</td>\n",
       "      <td>9534.381732</td>\n",
       "      <td>31</td>\n",
       "    </tr>\n",
       "    <tr>\n",
       "      <th>14</th>\n",
       "      <td>113641</td>\n",
       "      <td>9931.203119</td>\n",
       "      <td>37</td>\n",
       "    </tr>\n",
       "    <tr>\n",
       "      <th>15</th>\n",
       "      <td>86614</td>\n",
       "      <td>6273.813821</td>\n",
       "      <td>23</td>\n",
       "    </tr>\n",
       "    <tr>\n",
       "      <th>16</th>\n",
       "      <td>101760</td>\n",
       "      <td>7183.933303</td>\n",
       "      <td>32</td>\n",
       "    </tr>\n",
       "    <tr>\n",
       "      <th>17</th>\n",
       "      <td>43040</td>\n",
       "      <td>1653.385687</td>\n",
       "      <td>42</td>\n",
       "    </tr>\n",
       "    <tr>\n",
       "      <th>18</th>\n",
       "      <td>112423</td>\n",
       "      <td>2014.336085</td>\n",
       "      <td>28</td>\n",
       "    </tr>\n",
       "    <tr>\n",
       "      <th>19</th>\n",
       "      <td>30424</td>\n",
       "      <td>7731.257587</td>\n",
       "      <td>42</td>\n",
       "    </tr>\n",
       "    <tr>\n",
       "      <th>20</th>\n",
       "      <td>84761</td>\n",
       "      <td>5748.968305</td>\n",
       "      <td>24</td>\n",
       "    </tr>\n",
       "    <tr>\n",
       "      <th>21</th>\n",
       "      <td>117736</td>\n",
       "      <td>4382.555447</td>\n",
       "      <td>24</td>\n",
       "    </tr>\n",
       "    <tr>\n",
       "      <th>22</th>\n",
       "      <td>102093</td>\n",
       "      <td>2450.451866</td>\n",
       "      <td>29</td>\n",
       "    </tr>\n",
       "    <tr>\n",
       "      <th>23</th>\n",
       "      <td>119340</td>\n",
       "      <td>5098.943093</td>\n",
       "      <td>44</td>\n",
       "    </tr>\n",
       "    <tr>\n",
       "      <th>24</th>\n",
       "      <td>46094</td>\n",
       "      <td>5826.113817</td>\n",
       "      <td>25</td>\n",
       "    </tr>\n",
       "    <tr>\n",
       "      <th>25</th>\n",
       "      <td>101649</td>\n",
       "      <td>5918.541516</td>\n",
       "      <td>36</td>\n",
       "    </tr>\n",
       "    <tr>\n",
       "      <th>26</th>\n",
       "      <td>48909</td>\n",
       "      <td>6194.991838</td>\n",
       "      <td>25</td>\n",
       "    </tr>\n",
       "    <tr>\n",
       "      <th>27</th>\n",
       "      <td>12471</td>\n",
       "      <td>343.915834</td>\n",
       "      <td>35</td>\n",
       "    </tr>\n",
       "    <tr>\n",
       "      <th>28</th>\n",
       "      <td>24440</td>\n",
       "      <td>5660.819015</td>\n",
       "      <td>43</td>\n",
       "    </tr>\n",
       "    <tr>\n",
       "      <th>29</th>\n",
       "      <td>115770</td>\n",
       "      <td>8827.809877</td>\n",
       "      <td>50</td>\n",
       "    </tr>\n",
       "    <tr>\n",
       "      <th>...</th>\n",
       "      <td>...</td>\n",
       "      <td>...</td>\n",
       "      <td>...</td>\n",
       "    </tr>\n",
       "    <tr>\n",
       "      <th>110</th>\n",
       "      <td>83416</td>\n",
       "      <td>7504.365809</td>\n",
       "      <td>32</td>\n",
       "    </tr>\n",
       "    <tr>\n",
       "      <th>111</th>\n",
       "      <td>84860</td>\n",
       "      <td>9134.419660</td>\n",
       "      <td>32</td>\n",
       "    </tr>\n",
       "    <tr>\n",
       "      <th>112</th>\n",
       "      <td>44677</td>\n",
       "      <td>2017.539218</td>\n",
       "      <td>35</td>\n",
       "    </tr>\n",
       "    <tr>\n",
       "      <th>113</th>\n",
       "      <td>45828</td>\n",
       "      <td>2211.653108</td>\n",
       "      <td>28</td>\n",
       "    </tr>\n",
       "    <tr>\n",
       "      <th>114</th>\n",
       "      <td>68237</td>\n",
       "      <td>4486.426994</td>\n",
       "      <td>42</td>\n",
       "    </tr>\n",
       "    <tr>\n",
       "      <th>115</th>\n",
       "      <td>87089</td>\n",
       "      <td>5502.978181</td>\n",
       "      <td>24</td>\n",
       "    </tr>\n",
       "    <tr>\n",
       "      <th>116</th>\n",
       "      <td>94534</td>\n",
       "      <td>160.731460</td>\n",
       "      <td>47</td>\n",
       "    </tr>\n",
       "    <tr>\n",
       "      <th>117</th>\n",
       "      <td>108326</td>\n",
       "      <td>2590.770101</td>\n",
       "      <td>30</td>\n",
       "    </tr>\n",
       "    <tr>\n",
       "      <th>118</th>\n",
       "      <td>12195</td>\n",
       "      <td>5769.894827</td>\n",
       "      <td>42</td>\n",
       "    </tr>\n",
       "    <tr>\n",
       "      <th>119</th>\n",
       "      <td>78314</td>\n",
       "      <td>462.831998</td>\n",
       "      <td>28</td>\n",
       "    </tr>\n",
       "    <tr>\n",
       "      <th>120</th>\n",
       "      <td>76092</td>\n",
       "      <td>5263.340460</td>\n",
       "      <td>46</td>\n",
       "    </tr>\n",
       "    <tr>\n",
       "      <th>121</th>\n",
       "      <td>111210</td>\n",
       "      <td>3376.445823</td>\n",
       "      <td>35</td>\n",
       "    </tr>\n",
       "    <tr>\n",
       "      <th>122</th>\n",
       "      <td>77151</td>\n",
       "      <td>3518.746152</td>\n",
       "      <td>41</td>\n",
       "    </tr>\n",
       "    <tr>\n",
       "      <th>123</th>\n",
       "      <td>85156</td>\n",
       "      <td>7068.919755</td>\n",
       "      <td>24</td>\n",
       "    </tr>\n",
       "    <tr>\n",
       "      <th>124</th>\n",
       "      <td>107207</td>\n",
       "      <td>9325.422356</td>\n",
       "      <td>32</td>\n",
       "    </tr>\n",
       "    <tr>\n",
       "      <th>125</th>\n",
       "      <td>101440</td>\n",
       "      <td>8443.345943</td>\n",
       "      <td>35</td>\n",
       "    </tr>\n",
       "    <tr>\n",
       "      <th>126</th>\n",
       "      <td>45646</td>\n",
       "      <td>9572.786902</td>\n",
       "      <td>38</td>\n",
       "    </tr>\n",
       "    <tr>\n",
       "      <th>127</th>\n",
       "      <td>71580</td>\n",
       "      <td>1247.538739</td>\n",
       "      <td>41</td>\n",
       "    </tr>\n",
       "    <tr>\n",
       "      <th>128</th>\n",
       "      <td>20294</td>\n",
       "      <td>6226.285485</td>\n",
       "      <td>37</td>\n",
       "    </tr>\n",
       "    <tr>\n",
       "      <th>129</th>\n",
       "      <td>64980</td>\n",
       "      <td>8152.583051</td>\n",
       "      <td>37</td>\n",
       "    </tr>\n",
       "    <tr>\n",
       "      <th>130</th>\n",
       "      <td>90548</td>\n",
       "      <td>1142.528773</td>\n",
       "      <td>31</td>\n",
       "    </tr>\n",
       "    <tr>\n",
       "      <th>131</th>\n",
       "      <td>33547</td>\n",
       "      <td>3953.756979</td>\n",
       "      <td>40</td>\n",
       "    </tr>\n",
       "    <tr>\n",
       "      <th>132</th>\n",
       "      <td>107095</td>\n",
       "      <td>4358.876680</td>\n",
       "      <td>30</td>\n",
       "    </tr>\n",
       "    <tr>\n",
       "      <th>133</th>\n",
       "      <td>44954</td>\n",
       "      <td>8333.552619</td>\n",
       "      <td>27</td>\n",
       "    </tr>\n",
       "    <tr>\n",
       "      <th>134</th>\n",
       "      <td>22803</td>\n",
       "      <td>2892.622939</td>\n",
       "      <td>31</td>\n",
       "    </tr>\n",
       "    <tr>\n",
       "      <th>135</th>\n",
       "      <td>8009</td>\n",
       "      <td>5327.860771</td>\n",
       "      <td>21</td>\n",
       "    </tr>\n",
       "    <tr>\n",
       "      <th>136</th>\n",
       "      <td>9987</td>\n",
       "      <td>7285.833644</td>\n",
       "      <td>40</td>\n",
       "    </tr>\n",
       "    <tr>\n",
       "      <th>137</th>\n",
       "      <td>114869</td>\n",
       "      <td>6150.419087</td>\n",
       "      <td>35</td>\n",
       "    </tr>\n",
       "    <tr>\n",
       "      <th>138</th>\n",
       "      <td>74485</td>\n",
       "      <td>7508.626436</td>\n",
       "      <td>37</td>\n",
       "    </tr>\n",
       "    <tr>\n",
       "      <th>139</th>\n",
       "      <td>73680</td>\n",
       "      <td>1246.369881</td>\n",
       "      <td>31</td>\n",
       "    </tr>\n",
       "  </tbody>\n",
       "</table>\n",
       "<p>140 rows × 3 columns</p>\n",
       "</div>"
      ],
      "text/plain": [
       "     Salario        Bonos  Horas_Extra\n",
       "0      59064   966.313176           36\n",
       "1      64822  7786.323346           28\n",
       "2      37167  9835.592163           31\n",
       "3      53216  2546.274946           45\n",
       "4      21858  6698.275287           27\n",
       "5      37356  9166.383770           39\n",
       "6      42815  9461.007841           41\n",
       "7      78674  8695.326318           40\n",
       "8      54823  5763.437471           36\n",
       "9      96824  5086.908680           39\n",
       "10    106354  6662.342316           24\n",
       "11     71125  4135.827435           23\n",
       "12     12431  3889.697236           37\n",
       "13     52897  9534.381732           31\n",
       "14    113641  9931.203119           37\n",
       "15     86614  6273.813821           23\n",
       "16    101760  7183.933303           32\n",
       "17     43040  1653.385687           42\n",
       "18    112423  2014.336085           28\n",
       "19     30424  7731.257587           42\n",
       "20     84761  5748.968305           24\n",
       "21    117736  4382.555447           24\n",
       "22    102093  2450.451866           29\n",
       "23    119340  5098.943093           44\n",
       "24     46094  5826.113817           25\n",
       "25    101649  5918.541516           36\n",
       "26     48909  6194.991838           25\n",
       "27     12471   343.915834           35\n",
       "28     24440  5660.819015           43\n",
       "29    115770  8827.809877           50\n",
       "..       ...          ...          ...\n",
       "110    83416  7504.365809           32\n",
       "111    84860  9134.419660           32\n",
       "112    44677  2017.539218           35\n",
       "113    45828  2211.653108           28\n",
       "114    68237  4486.426994           42\n",
       "115    87089  5502.978181           24\n",
       "116    94534   160.731460           47\n",
       "117   108326  2590.770101           30\n",
       "118    12195  5769.894827           42\n",
       "119    78314   462.831998           28\n",
       "120    76092  5263.340460           46\n",
       "121   111210  3376.445823           35\n",
       "122    77151  3518.746152           41\n",
       "123    85156  7068.919755           24\n",
       "124   107207  9325.422356           32\n",
       "125   101440  8443.345943           35\n",
       "126    45646  9572.786902           38\n",
       "127    71580  1247.538739           41\n",
       "128    20294  6226.285485           37\n",
       "129    64980  8152.583051           37\n",
       "130    90548  1142.528773           31\n",
       "131    33547  3953.756979           40\n",
       "132   107095  4358.876680           30\n",
       "133    44954  8333.552619           27\n",
       "134    22803  2892.622939           31\n",
       "135     8009  5327.860771           21\n",
       "136     9987  7285.833644           40\n",
       "137   114869  6150.419087           35\n",
       "138    74485  7508.626436           37\n",
       "139    73680  1246.369881           31\n",
       "\n",
       "[140 rows x 3 columns]"
      ]
     },
     "execution_count": 159,
     "metadata": {},
     "output_type": "execute_result"
    }
   ],
   "source": [
    "dataf"
   ]
  },
  {
   "cell_type": "code",
   "execution_count": 172,
   "metadata": {},
   "outputs": [
    {
     "name": "stdout",
     "output_type": "stream",
     "text": [
      "False\n",
      "True\n",
      "False\n",
      "False\n",
      "False\n",
      "False\n",
      "False\n",
      "True\n",
      "False\n",
      "False\n",
      "2\n"
     ]
    }
   ],
   "source": [
    "alumnos_nueva = [\"Juan\",\"aablo\",\"Maria\",\"Estela\",\"Pedro\",\"Gerardo\",\"Salo\",\"Andy\",\"Langarica\",\"david\"]\n",
    "contador=0\n",
    "for x in alumnos_nueva:\n",
    "    print(x.capitalize().startswith(\"A\"))\n",
    "    if x.capitalize().startswith(\"A\"):\n",
    "        contador=contador +1\n",
    "    else:\n",
    "        contador=contador\n",
    "print(contador)\n",
    "\n"
   ]
  },
  {
   "cell_type": "code",
   "execution_count": 176,
   "metadata": {},
   "outputs": [
    {
     "name": "stdout",
     "output_type": "stream",
     "text": [
      "93939.94\n"
     ]
    }
   ],
   "source": [
    "a=93939.9393030393\n",
    "\n",
    "resultado2=print(\"%.2f\" % a)\n"
   ]
  },
  {
   "cell_type": "code",
   "execution_count": null,
   "metadata": {},
   "outputs": [],
   "source": []
  }
 ],
 "metadata": {
  "kernelspec": {
   "display_name": "Python 3",
   "language": "python",
   "name": "python3"
  },
  "language_info": {
   "codemirror_mode": {
    "name": "ipython",
    "version": 3
   },
   "file_extension": ".py",
   "mimetype": "text/x-python",
   "name": "python",
   "nbconvert_exporter": "python",
   "pygments_lexer": "ipython3",
   "version": "3.8.5"
  }
 },
 "nbformat": 4,
 "nbformat_minor": 2
}
