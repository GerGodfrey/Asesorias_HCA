{
 "cells": [
  {
   "cell_type": "code",
   "execution_count": 14,
   "metadata": {},
   "outputs": [],
   "source": [
    "sueldos=[3176.9,13310.2,6243.4,11265.1,9714.1,5314.7,12546.5,6303.2,9059.8,10241.2,7166.1,11581.9,11759.8,6558.7,10025.6,12288.3,7838.1,7000.4,10733.2,10756.1,8747.7,9565.2,5094.9,11322.3,5426.5,9990.5,10084.6,11521.3,10064.4,8597.9,11145.8,9744.8,12633.1,11532.0,9792.9,13429.9,13189.5,6167.1,14925.3,7067.9,11385.3,8411.1,11107.8,11938.8,5956.3,8580.0,7241.8,8973.8,12833.6,6713.5,10245.3,14002.3,7160.0,14901.2,14806.2,12735.8,14739.8,10230.5,12623.2,9463.6,13873.5,8271.8,11014.3,12412.3,14475.4,12864.6,11429.6,12603.1,10699.4,11866.1,11635.4,7588.5,8822.0,9331.2,11342.4,11707.1,11779.8,9440.3,11748.7,9791.5,11627.5,9920.3,7086.0,7769.7,10954.7,7324.0,5618.3,9479.4,10368.2,6208.0,6242.0,6028.9,8721.2,10380.0,11927.2,12318.2,5251.4,11945.8,11892.7,13800.5]"
   ]
  },
  {
   "cell_type": "code",
   "execution_count": 15,
   "metadata": {},
   "outputs": [
    {
     "name": "stdout",
     "output_type": "stream",
     "text": [
      "[540.0730000000001, 1331.0200000000002, 624.34, 1126.51, 971.4100000000001, 531.47, 1254.65, 630.32, 905.98, 1024.1200000000001, 716.6100000000001, 1158.19, 1175.98, 655.87, 1002.5600000000001, 1228.83, 783.8100000000001, 700.04, 1073.3200000000002, 1075.6100000000001, 874.7700000000001, 956.5200000000001, 509.49, 1132.23, 542.65, 999.0500000000001, 1008.46, 1152.1299999999999, 1006.44, 859.79, 1114.58, 974.48, 1263.3100000000002, 1153.2, 979.29, 1342.99, 1318.95, 616.71, 1492.53, 706.79, 1138.53, 841.1100000000001, 1110.78, 1193.8799999999999, 595.63, 858.0, 724.1800000000001, 897.38, 1283.3600000000001, 671.35, 1024.53, 1400.23, 716.0, 1490.1200000000001, 1480.6200000000001, 1273.58, 1473.98, 1023.0500000000001, 1262.3200000000002, 946.3600000000001, 1387.3500000000001, 827.18, 1101.43, 1241.23, 1447.54, 1286.46, 1142.96, 1260.3100000000002, 1069.94, 1186.6100000000001, 1163.54, 758.85, 882.2, 933.1200000000001, 1134.24, 1170.71, 1177.98, 944.03, 1174.8700000000001, 979.1500000000001, 1162.75, 992.03, 708.6, 776.97, 1095.47, 732.4000000000001, 561.83, 947.94, 1036.8200000000002, 620.8000000000001, 624.2, 602.89, 872.1200000000001, 1038.0, 1192.72, 1231.8200000000002, 525.14, 1194.58, 1189.2700000000002, 1380.0500000000002]\n"
     ]
    }
   ],
   "source": [
    "#aumento \n",
    "aumento=[]\n",
    "for sueldo in sueldos:\n",
    "    if sueldo<5000:\n",
    "        aumento.append(sueldo*0.17)\n",
    "    elif sueldo<15000:\n",
    "        aumento.append(sueldo*0.10)\n",
    "    else:\n",
    "        aumento.append(sueldo*0.05)\n",
    "print(aumento)"
   ]
  },
  {
   "cell_type": "code",
   "execution_count": 16,
   "metadata": {},
   "outputs": [
    {
     "name": "stdout",
     "output_type": "stream",
     "text": [
      "[3716.973, 14641.220000000001, 6867.74, 12391.61, 10685.51, 5846.17, 13801.15, 6933.5199999999995, 9965.779999999999, 11265.320000000002, 7882.710000000001, 12740.09, 12935.779999999999, 7214.57, 11028.16, 13517.13, 8621.91, 7700.44, 11806.52, 11831.710000000001, 9622.470000000001, 10521.720000000001, 5604.389999999999, 12454.529999999999, 5969.15, 10989.55, 11093.060000000001, 12673.429999999998, 11070.84, 9457.689999999999, 12260.38, 10719.279999999999, 13896.41, 12685.2, 10772.189999999999, 14772.89, 14508.45, 6783.81, 16417.829999999998, 7774.69, 12523.83, 9252.210000000001, 12218.58, 13132.679999999998, 6551.93, 9438.0, 7965.9800000000005, 9871.179999999998, 14116.960000000001, 7384.85, 11269.83, 15402.529999999999, 7876.0, 16391.32, 16286.820000000002, 14009.38, 16213.779999999999, 11253.55, 13885.52, 10409.960000000001, 15260.85, 9098.98, 12115.73, 13653.529999999999, 15922.939999999999, 14151.060000000001, 12572.560000000001, 13863.41, 11769.34, 13052.710000000001, 12798.939999999999, 8347.35, 9704.2, 10264.320000000002, 12476.64, 12877.810000000001, 12957.779999999999, 10384.33, 12923.570000000002, 10770.65, 12790.25, 10912.33, 7794.6, 8546.67, 12050.17, 8056.4, 6180.13, 10427.34, 11405.02, 6828.8, 6866.2, 6631.79, 9593.320000000002, 11418.0, 13119.92, 13550.02, 5776.54, 13140.38, 13081.970000000001, 15180.55]\n"
     ]
    }
   ],
   "source": [
    "nuevosueldo=[sueldo+aum for sueldo,aum in zip(sueldos,aumento)]\n",
    "print(nuevosueldo)"
   ]
  },
  {
   "cell_type": "code",
   "execution_count": 17,
   "metadata": {},
   "outputs": [
    {
     "data": {
      "text/plain": [
       "1105213.9629999998"
      ]
     },
     "execution_count": 17,
     "metadata": {},
     "output_type": "execute_result"
    }
   ],
   "source": [
    "sum(nuevosueldo)"
   ]
  },
  {
   "cell_type": "code",
   "execution_count": 18,
   "metadata": {},
   "outputs": [
    {
     "data": {
      "text/plain": [
       "90.89079885249333"
      ]
     },
     "execution_count": 18,
     "metadata": {},
     "output_type": "execute_result"
    }
   ],
   "source": [
    "(sum(sueldos)/sum(nuevosueldo))*100"
   ]
  },
  {
   "cell_type": "code",
   "execution_count": 19,
   "metadata": {},
   "outputs": [
    {
     "data": {
      "text/plain": [
       "16417.829999999998"
      ]
     },
     "execution_count": 19,
     "metadata": {},
     "output_type": "execute_result"
    }
   ],
   "source": [
    "max(nuevosueldo)"
   ]
  },
  {
   "cell_type": "code",
   "execution_count": 20,
   "metadata": {},
   "outputs": [
    {
     "data": {
      "text/plain": [
       "3716.973"
      ]
     },
     "execution_count": 20,
     "metadata": {},
     "output_type": "execute_result"
    }
   ],
   "source": [
    "min(nuevosueldo)"
   ]
  },
  {
   "cell_type": "code",
   "execution_count": 49,
   "metadata": {},
   "outputs": [],
   "source": [
    "# sueldos \n",
    "datos=[(1,1),(1,3),(1,2),(1,1),(1,1),(1,3),(1,2),(1,2),(0,0),(0,0)]"
   ]
  },
  {
   "cell_type": "code",
   "execution_count": 50,
   "metadata": {},
   "outputs": [
    {
     "name": "stdout",
     "output_type": "stream",
     "text": [
      "(1, 1)\n",
      "(1, 3)\n",
      "(1, 2)\n",
      "(1, 1)\n",
      "(1, 1)\n",
      "(1, 3)\n",
      "(1, 2)\n",
      "(1, 2)\n",
      "(0, 0)\n",
      "(0, 0)\n",
      "8\n",
      "2\n"
     ]
    }
   ],
   "source": [
    "sivota=0\n",
    "novota=0\n",
    "for voto in datos:\n",
    "    print(voto)\n",
    "    if voto[0]==0:\n",
    "        novota=novota+1\n",
    "    else:\n",
    "        sivota=sivota+1\n",
    "print(sivota)\n",
    "print(novota)"
   ]
  },
  {
   "cell_type": "code",
   "execution_count": 57,
   "metadata": {},
   "outputs": [
    {
     "name": "stdout",
     "output_type": "stream",
     "text": [
      "Using matplotlib backend: MacOSX\n",
      "Populating the interactive namespace from numpy and matplotlib\n"
     ]
    }
   ],
   "source": [
    "\n",
    "%pylab\n",
    "%matplotlib inline"
   ]
  },
  {
   "cell_type": "code",
   "execution_count": 43,
   "metadata": {},
   "outputs": [],
   "source": [
    "titulo=[\"No vota\",\"Si vota\"]\n",
    "datos=[novota,sivota]"
   ]
  },
  {
   "cell_type": "code",
   "execution_count": 44,
   "metadata": {},
   "outputs": [
    {
     "data": {
      "text/plain": [
       "<BarContainer object of 2 artists>"
      ]
     },
     "execution_count": 44,
     "metadata": {},
     "output_type": "execute_result"
    },
    {
     "data": {
      "image/png": "[encoded data removed]",
      "text/plain": [
       "<Figure size 432x288 with 1 Axes>"
      ]
     },
     "metadata": {},
     "output_type": "display_data"
    }
   ],
   "source": [
    "barh(titulo,datos)"
   ]
  },
  {
   "cell_type": "code",
   "execution_count": 47,
   "metadata": {},
   "outputs": [],
   "source": [
    "titulo1=[\"PRI\",\"PAN\",\"PRD\"]\n",
    "pri=0\n",
    "pan=0\n",
    "prd=0\n"
   ]
  },
  {
   "cell_type": "code",
   "execution_count": 51,
   "metadata": {},
   "outputs": [
    {
     "name": "stdout",
     "output_type": "stream",
     "text": [
      "(1, 1)\n",
      "(1, 3)\n",
      "(1, 2)\n",
      "(1, 1)\n",
      "(1, 1)\n",
      "(1, 3)\n",
      "(1, 2)\n",
      "(1, 2)\n",
      "(0, 0)\n",
      "(0, 0)\n",
      "3\n",
      "3\n",
      "2\n"
     ]
    }
   ],
   "source": [
    "for voto in datos:\n",
    "    print(voto)\n",
    "    if voto[0]==1:\n",
    "        if voto[1]==1:\n",
    "            pan=pan+1\n",
    "        elif voto[1]==2:\n",
    "            prd=prd+1\n",
    "        else:\n",
    "            pri=pri+1\n",
    "  \n",
    "print(pan)\n",
    "print(prd)\n",
    "print(pri)"
   ]
  },
  {
   "cell_type": "code",
   "execution_count": 52,
   "metadata": {},
   "outputs": [
    {
     "data": {
      "text/plain": [
       "<BarContainer object of 3 artists>"
      ]
     },
     "execution_count": 52,
     "metadata": {},
     "output_type": "execute_result"
    },
    {
     "data": {
      "image/png": "[encoded data removed]",
      "text/plain": [
       "<Figure size 432x288 with 1 Axes>"
      ]
     },
     "metadata": {},
     "output_type": "display_data"
    }
   ],
   "source": [
    "datos=[pri,pan,prd]\n",
    "barh(titulo1,datos)"
   ]
  },
  {
   "cell_type": "code",
   "execution_count": 53,
   "metadata": {},
   "outputs": [],
   "source": [
    "archivo2=open(\"tipoUSD.txt\", \"r\")\n",
    "USD=archivo2.read().split(\",\")\n"
   ]
  },
  {
   "cell_type": "code",
   "execution_count": 59,
   "metadata": {},
   "outputs": [],
   "source": [
    "USDlista=[float(x) for x in USD]"
   ]
  },
  {
   "cell_type": "code",
   "execution_count": 61,
   "metadata": {},
   "outputs": [
    {
     "data": {
      "text/plain": [
       "[<matplotlib.lines.Line2D at 0x11faa5be0>]"
      ]
     },
     "execution_count": 61,
     "metadata": {},
     "output_type": "execute_result"
    },
    {
     "data": {
      "image/png": "[encoded data removed]",
      "text/plain": [
       "<Figure size 432x288 with 1 Axes>"
      ]
     },
     "metadata": {},
     "output_type": "display_data"
    }
   ],
   "source": [
    "plot(USDlista)"
   ]
  },
  {
   "cell_type": "code",
   "execution_count": 62,
   "metadata": {},
   "outputs": [
    {
     "data": {
      "image/png": "[encoded data removed]",
      "text/plain": [
       "<Figure size 432x288 with 1 Axes>"
      ]
     },
     "metadata": {},
     "output_type": "display_data"
    }
   ],
   "source": [
    "hist(USDlista,20)\n",
    "title(\"Tipo de cambio (20 clases)\")\n",
    "grid(True)"
   ]
  },
  {
   "cell_type": "code",
   "execution_count": null,
   "metadata": {},
   "outputs": [],
   "source": []
  }
 ],
 "metadata": {
  "kernelspec": {
   "display_name": "Python 3",
   "language": "python",
   "name": "python3"
  },
  "language_info": {
   "codemirror_mode": {
    "name": "ipython",
    "version": 3
   },
   "file_extension": ".py",
   "mimetype": "text/x-python",
   "name": "python",
   "nbconvert_exporter": "python",
   "pygments_lexer": "ipython3",
   "version": "3.8.5"
  }
 },
 "nbformat": 4,
 "nbformat_minor": 2
}
