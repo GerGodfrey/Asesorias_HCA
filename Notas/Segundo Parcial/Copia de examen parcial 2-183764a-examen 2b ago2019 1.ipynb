{
 "cells": [
  {
   "cell_type": "markdown",
   "metadata": {},
   "source": [
    "## Herramientas Computacionales y Algoritmos\n",
    "## Tipo B\n",
    "### Segundo Examen Parcial \n",
    "#### Miércoles 6 de noviembre de 2019      \n",
    " "
   ]
  },
  {
   "cell_type": "markdown",
   "metadata": {},
   "source": [
    "#### Nombre:  Salomon Romero\n",
    "#### Clave unica:  183764"
   ]
  },
  {
   "cell_type": "markdown",
   "metadata": {},
   "source": [
    "### Indicaciones:  \n",
    "#### Escribe tu nombre y clave única. En caso de no escribirlo, se te descontarán 0.5 pts.\n",
    "#### Lee cuidadosamente el enunciado de los problemas antes de contestar. Guarda periódicamente tu trabajo.   \n",
    "#### No se dará asesoría durante el examen; solamente se resolverán dudas de redacción del problema.\n",
    "#### Utiliza las instrucciones de Python necesarias para resolver cada problema.   \n",
    "#### Una vez que termines el examen, envíalo por Comunidad ITAM. \n",
    " "
   ]
  },
  {
   "cell_type": "code",
   "execution_count": 31,
   "metadata": {},
   "outputs": [
    {
     "name": "stdout",
     "output_type": "stream",
     "text": [
      "Using matplotlib backend: MacOSX\n",
      "Populating the interactive namespace from numpy and matplotlib\n"
     ]
    }
   ],
   "source": [
    "%pylab\n",
    "%matplotlib inline\n",
    "import numpy as np\n",
    "import statistics\n",
    "import math"
   ]
  },
  {
   "cell_type": "markdown",
   "metadata": {},
   "source": [
    "### Pregunta 1 (3.0 ptos.)"
   ]
  },
  {
   "cell_type": "markdown",
   "metadata": {},
   "source": [
    "#### El archivo AlumnasInscritas.txt contiene el número de alumnos inscritos en la escuela \"Mi Escuelita\" en los últimos 20 años, es decir, de 2000 a 2019.\n",
    "#### a) (1.0 pto.) Utilizando este archivo, crea una lista y llámala alumnasInscritas.\n",
    "#### b) (0.3 pts.) Crea otra lista con los años y llámala anios.\n",
    "#### b) (0.8 pto.) Genera una gráfica de barras verticales en la que muestres el número de alumnos inscritos y el año; utiliza el color rosa para las barras.\n",
    "#### c) (0.3 pts.) Coloca un título adecuado y etiqueta tus ejes X y Y.\n",
    "\n",
    "#### d) (0.6 pts.) Cuál fue el mayor número de niñas inscritas y en qué año sucedió?  Utiliza instrucciones de Python, no lo hagas \"manualmente\"."
   ]
  },
  {
   "cell_type": "code",
   "execution_count": 135,
   "metadata": {},
   "outputs": [],
   "source": [
    "archivo=open(\"AlumnasInscritas.txt\",\"r\")"
   ]
  },
  {
   "cell_type": "code",
   "execution_count": 136,
   "metadata": {},
   "outputs": [],
   "source": [
    "datos=archivo.read()"
   ]
  },
  {
   "cell_type": "code",
   "execution_count": 137,
   "metadata": {},
   "outputs": [
    {
     "data": {
      "text/plain": [
       "<function TextIOWrapper.close()>"
      ]
     },
     "execution_count": 137,
     "metadata": {},
     "output_type": "execute_result"
    }
   ],
   "source": [
    "alumnasinscritas=datos.split(\",\")\n",
    "archivo.close"
   ]
  },
  {
   "cell_type": "code",
   "execution_count": 138,
   "metadata": {},
   "outputs": [
    {
     "data": {
      "text/plain": [
       "[664.0,\n",
       " 561.0,\n",
       " 684.0,\n",
       " 414.0,\n",
       " 661.0,\n",
       " 676.0,\n",
       " 715.0,\n",
       " 731.0,\n",
       " 785.0,\n",
       " 679.0,\n",
       " 879.0,\n",
       " 893.0,\n",
       " 889.0,\n",
       " 902.0,\n",
       " 855.0,\n",
       " 1117.0,\n",
       " 898.0,\n",
       " 918.0,\n",
       " 790.0,\n",
       " 1087.0]"
      ]
     },
     "execution_count": 138,
     "metadata": {},
     "output_type": "execute_result"
    }
   ],
   "source": [
    "alumnasinscritas1=[float(x)for x in alumnasinscritas]\n",
    "len(alumnasinscritas)\n",
    "alumnasinscritas1"
   ]
  },
  {
   "cell_type": "code",
   "execution_count": 139,
   "metadata": {},
   "outputs": [
    {
     "data": {
      "text/plain": [
       "20"
      ]
     },
     "execution_count": 139,
     "metadata": {},
     "output_type": "execute_result"
    }
   ],
   "source": [
    "años=list(range(2000,2020,1))\n",
    "años\n",
    "len(años)"
   ]
  },
  {
   "cell_type": "code",
   "execution_count": 140,
   "metadata": {},
   "outputs": [
    {
     "name": "stdout",
     "output_type": "stream",
     "text": [
      "1117.0\n",
      "El año con mas fue en el 2015 que fue 1117.0\n"
     ]
    },
    {
     "data": {
      "image/png": "[encoded data removed]",
      "text/plain": [
       "<Figure size 432x288 with 1 Axes>"
      ]
     },
     "metadata": {
      "needs_background": "light"
     },
     "output_type": "display_data"
    }
   ],
   "source": [
    "bar(años,alumnasinscritas1,color=\"pink\")\n",
    "title(\"Grafica Alumnas por año\")\n",
    "xlabel(\"años\")\n",
    "ylabel(\"cantidad\")\n",
    "mayoraño=max(alumnasinscritas1)\n",
    "print(mayoraño)\n",
    "\n",
    "print(\"El año con mas fue en el 2015 que fue\",mayoraño)"
   ]
  },
  {
   "cell_type": "markdown",
   "metadata": {},
   "source": [
    "### Pregunta 2 (2.5 ptos.)"
   ]
  },
  {
   "cell_type": "markdown",
   "metadata": {},
   "source": [
    "#### a) (1.5 pts.) Escribe una función (def) que pida como parámetro el curp de una persona y que devuelva una tupla con la edad de la persona al terminar este año, 2019 y el género de la persona, Hombre o Mujer.\n",
    "\n",
    "#### Para obtener el año de nacimiento se deben considerar los 2 primeros números que aparecen en el curp.\n",
    "#### Para determinar el género, se debe tomar la primera letra después de los dígitos.\n",
    "\n",
    "#### Por ejemplo, si el curp de una persona es: VIRF890629HSLZBR06, tu función deberá regresar una tupla con los valores 30, Hombre.\n",
    "#### Si el curp es: SAOA091121MCHNND03, la función dará como resultado: 10, Mujer"
   ]
  },
  {
   "cell_type": "code",
   "execution_count": 20,
   "metadata": {},
   "outputs": [],
   "source": [
    "def  curp (curpdatos):\n",
    "    resultado = []\n",
    "    for x in curpdatos:\n",
    "        if x[10]==\"M\":\n",
    "        \n",
    "            edad=19-(int(x[4])+int(x[5]))\n",
    "            res=(edad, \"Mujer\")\n",
    "            resultado.append(res)\n",
    "        elif x[10]==\"H\":\n",
    "            edad=19-(int(x[4])+int(x[5]))\n",
    "            res=(edad, \"Hombre\")\n",
    "            resultado.append(res)\n",
    "            \n",
    "        else:\n",
    "            res=(\"Datos incorrectos\")\n",
    "            resultado.append(res)\n",
    "    return resultado"
   ]
  },
  {
   "cell_type": "markdown",
   "metadata": {},
   "source": [
    "curp(\"SAOA091121MCHNND03\")"
   ]
  },
  {
   "cell_type": "code",
   "execution_count": 14,
   "metadata": {},
   "outputs": [],
   "source": [
    "def  curp2 (curpdatos):\n",
    "    for x in curpdatos:\n",
    "        print(x)"
   ]
  },
  {
   "cell_type": "code",
   "execution_count": 21,
   "metadata": {},
   "outputs": [
    {
     "data": {
      "text/plain": [
       "[(8, 'Mujer'),\n",
       " (6, 'Hombre'),\n",
       " (6, 'Mujer'),\n",
       " (9, 'Hombre'),\n",
       " (5, 'Hombre'),\n",
       " (9, 'Hombre'),\n",
       " (6, 'Hombre'),\n",
       " (6, 'Mujer'),\n",
       " (5, 'Hombre'),\n",
       " (5, 'Hombre')]"
      ]
     },
     "execution_count": 21,
     "metadata": {},
     "output_type": "execute_result"
    }
   ],
   "source": [
    "curp(curps)"
   ]
  },
  {
   "cell_type": "markdown",
   "metadata": {},
   "source": [
    "#### b) (0.5 pts.) Prueba tu función con la siguiente lista de curps."
   ]
  },
  {
   "cell_type": "code",
   "execution_count": 7,
   "metadata": {},
   "outputs": [],
   "source": [
    "curps = ['EIGJ920806MCHNYL07', 'GAMJ850314HCHRMR05', 'GOLP850729MCHNNR03', 'GOVD910610HCHNLN02', 'GAAH860926HCHRRC04', \n",
    "         'HEVL910224HCHRLS09', 'HOAE940218HCHLGR02', 'JAAJ761004MCLLGS07', 'LOCJ860921HCHPNN09', 'MAPJ770702HCHRNS08']"
   ]
  },
  {
   "cell_type": "code",
   "execution_count": 128,
   "metadata": {},
   "outputs": [
    {
     "data": {
      "text/plain": [
       "(8, 'Mujer')"
      ]
     },
     "execution_count": 128,
     "metadata": {},
     "output_type": "execute_result"
    }
   ],
   "source": [
    "curp('EIGJ920806MCHNYL07')\n",
    "curp()"
   ]
  },
  {
   "cell_type": "code",
   "execution_count": null,
   "metadata": {},
   "outputs": [],
   "source": []
  },
  {
   "cell_type": "code",
   "execution_count": null,
   "metadata": {},
   "outputs": [],
   "source": []
  },
  {
   "cell_type": "markdown",
   "metadata": {},
   "source": [
    "#### c) (0.5 pts) Escribe cuántas de las personas son hombres y cuántas son mujeres utilizando un letrero adecuado."
   ]
  },
  {
   "cell_type": "code",
   "execution_count": 29,
   "metadata": {},
   "outputs": [],
   "source": [
    "def  curp (curpdatos):\n",
    "    hombres = []\n",
    "    mujeres=[]\n",
    "    for x in curpdatos:\n",
    "        if x[10]==\"M\":\n",
    "            res=(\"Mujer\")\n",
    "            mujeres.append(res)\n",
    "        elif x[10]==\"H\":\n",
    "            res=(\"Hombre\")\n",
    "            hombres.append(res)\n",
    "        else:\n",
    "            res=(\"Datos incorrectos\")\n",
    "            resultado.append(res)\n",
    "    print (len(hombres))\n",
    "    print (len(mujeres))\n",
    "    return res"
   ]
  },
  {
   "cell_type": "code",
   "execution_count": 30,
   "metadata": {},
   "outputs": [
    {
     "name": "stdout",
     "output_type": "stream",
     "text": [
      "7\n",
      "3\n"
     ]
    },
    {
     "data": {
      "text/plain": [
       "'Hombre'"
      ]
     },
     "execution_count": 30,
     "metadata": {},
     "output_type": "execute_result"
    }
   ],
   "source": [
    "curp(curps)"
   ]
  },
  {
   "cell_type": "code",
   "execution_count": null,
   "metadata": {},
   "outputs": [],
   "source": []
  },
  {
   "cell_type": "markdown",
   "metadata": {},
   "source": [
    "### Pregunta 3 (2.5 ptos.)"
   ]
  },
  {
   "cell_type": "markdown",
   "metadata": {},
   "source": [
    "#### Paulina está revisando las carreras que ofrece una Universidad en la Ciudad de México para decidir, junto con sus hermanos, cuál es la mejor opción.\n",
    "#### Carreras: Administracion, Relaciones Internacionales, Finanzas, Mercadotecnia, Ingenieria en Computacion, Medicina, Direccion Financiera, Matematicas, Contaduria Publica, Derecho, Economia, Mecatronica, Negocios Internacionales, Actuaria, Arquitectura, QFB, Filosofia y Letras, Ciencia Politica, Veterinaria, Oceanografia.\n",
    "\n",
    "#### Su hermano Luis le recomienda que considere las siguientes carreras:\n",
    "#### Luis: Ingenieria en Computacion, Medicina, Economia, Mecatronica, Veterinaria, Oceanografia\n",
    "\n",
    "#### Y su hermana Laura prefiere las siguientes carreras:\n",
    "#### Laura: Relaciones Internacionales, Finanzas, Direccion Financiera, Derecho, Economia, Negocios Internacionales, Filosofia y Letras\n",
    "\n",
    "#### Las carreras que prefiere Paulina son:\n",
    "#### Paulina: Relaciones Internacionales, Finanzas, Direccion Financiera, Economia, Mecatronica, Ciencia Politica\n"
   ]
  },
  {
   "cell_type": "markdown",
   "metadata": {},
   "source": [
    "#### a) (0.5) Crea los conjuntos anteriores y ponles los siguientes nombres: Carreras, Luis, Laura, Paulina.\n",
    "#### b) (1.0) Crea un conjunto con el nombre de las Carreras que imparte la Universidad y que no escogieron ni Luis ni Paulina. Muestra este conjunto.  Escribe cuántas carreras son utilizando un letrero adecuado.\n",
    "#### c) (1.0) Crea otro conjunto con las carreras que escogió Luis, pero no escogió Paulina y escríbelo. Escribe cuántas carreras son."
   ]
  },
  {
   "cell_type": "code",
   "execution_count": 47,
   "metadata": {},
   "outputs": [],
   "source": [
    "Luis=str(\"Ingenieria en Computacion, Medicina, Economia, Mecatronica, Veterinaria, Oceanografia\")"
   ]
  },
  {
   "cell_type": "code",
   "execution_count": 50,
   "metadata": {},
   "outputs": [],
   "source": [
    "Luiscorrecto=Luis.split(\",\")"
   ]
  },
  {
   "cell_type": "code",
   "execution_count": 51,
   "metadata": {},
   "outputs": [],
   "source": [
    "Laura=str(\"Relaciones Internacionales, Finanzas, Direccion Financiera, Derecho, Economia, Negocios Internacionales, Filosofia y Letras\")"
   ]
  },
  {
   "cell_type": "code",
   "execution_count": 59,
   "metadata": {},
   "outputs": [],
   "source": [
    "Lauracorrecto=Laura.split(\",\")"
   ]
  },
  {
   "cell_type": "code",
   "execution_count": 60,
   "metadata": {},
   "outputs": [],
   "source": [
    "Paulina=str(\"Relaciones Internacionales, Finanzas, Direccion Financiera, Economia, Mecatronica, Ciencia Politica\")"
   ]
  },
  {
   "cell_type": "code",
   "execution_count": 63,
   "metadata": {},
   "outputs": [],
   "source": [
    "Paulinacorecto=Paulina.split(\",\")"
   ]
  },
  {
   "cell_type": "code",
   "execution_count": 67,
   "metadata": {},
   "outputs": [],
   "source": [
    "carreras=str(\"Carreras: Administracion, Relaciones Internacionales, Finanzas, Mercadotecnia, Ingenieria en Computacion, Medicina, Direccion Financiera, Matematicas, Contaduria Publica, Derecho, Economia, Mecatronica, Negocios Internacionales, Actuaria, Arquitectura, QFB, Filosofia y Letras, Ciencia Politica, Veterinaria, Oceanografia\")\n",
    "carrerascorrecto=carreras.split(\",\")"
   ]
  },
  {
   "cell_type": "code",
   "execution_count": 81,
   "metadata": {},
   "outputs": [
    {
     "name": "stdout",
     "output_type": "stream",
     "text": [
      "La respuesta b es {' Matematicas', ' Actuaria', ' Arquitectura', ' Ingenieria en Computacion', ' Relaciones Internacionales', ' QFB', ' Mercadotecnia', 'Carreras: Administracion', ' Contaduria Publica'}\n",
      "La respuesta c es {' Veterinaria', ' Medicina', ' Oceanografia', 'Ingenieria en Computacion'}\n",
      "La len es 4\n"
     ]
    }
   ],
   "source": [
    "Luisset=set(Luiscorrecto)\n",
    "Lauraset=set(Lauracorrecto)\n",
    "Paulinaset=set(Paulinacorecto)\n",
    "carrerasset=set(carrerascorrecto)\n",
    "b=carrerasset-Luisset-Lauraset-Paulinaset\n",
    "print(\"La respuesta b es\",b)\n",
    "c=Luisset-Paulinaset\n",
    "print(\"La respuesta c es\",c)\n",
    "totalcarreras=len(c)\n",
    "print(\"La len es\",totalcarreras)"
   ]
  },
  {
   "cell_type": "markdown",
   "metadata": {},
   "source": [
    "### Pregunta 4 (2.0 ptos.)"
   ]
  },
  {
   "cell_type": "markdown",
   "metadata": {},
   "source": [
    "Resuelve el siguiente sistema de ecuaciones utilizando primero el método de matrices y después comprueba tu resultado utilizando la función solve."
   ]
  },
  {
   "cell_type": "markdown",
   "metadata": {},
   "source": [
    "#### Un hombre tiene 110 animales entre vacas, caballos y gallinas;\n",
    "#### 2 vacas más 1 gallina hacen un total de 100;\n",
    "#### y la suma del número de gallinas con el de vacas es de 65.\n",
    "#### Cuántos animales de cada especie tiene?"
   ]
  },
  {
   "cell_type": "code",
   "execution_count": 32,
   "metadata": {},
   "outputs": [],
   "source": [
    "datos=np.mat(\"1 1 1;2 0 1; 1 0 1\")\n",
    "datosres=np.mat(\"110;100; 65\")\n"
   ]
  },
  {
   "cell_type": "code",
   "execution_count": 33,
   "metadata": {},
   "outputs": [],
   "source": [
    "total=datos.I*datosres"
   ]
  },
  {
   "cell_type": "code",
   "execution_count": 34,
   "metadata": {},
   "outputs": [
    {
     "name": "stdout",
     "output_type": "stream",
     "text": [
      "[[35.]\n",
      " [45.]\n",
      " [30.]]\n"
     ]
    }
   ],
   "source": [
    "print(total)"
   ]
  },
  {
   "cell_type": "code",
   "execution_count": 36,
   "metadata": {},
   "outputs": [
    {
     "name": "stdout",
     "output_type": "stream",
     "text": [
      "Las vacas son [[35.]]\n",
      "Los caballos son [[45.]]\n",
      "Las gallinas son [[30.]]\n",
      "Con la otra forma es \n",
      " [[35.]\n",
      " [45.]\n",
      " [30.]]\n"
     ]
    }
   ],
   "source": [
    "vacas=total[0]\n",
    "print(\"Las vacas son\",vacas)\n",
    "caballos=total[1]\n",
    "print(\"Los caballos son\",caballos)\n",
    "gallinas=total[2]\n",
    "print(\"Las gallinas son\", gallinas)\n",
    "Otraforma=np.linalg.solve(datos,datosres)\n",
    "print(\"Con la otra forma es \\n\", Otraforma)"
   ]
  },
  {
   "cell_type": "markdown",
   "metadata": {},
   "source": [
    "### ¡Suerte!"
   ]
  },
  {
   "cell_type": "code",
   "execution_count": null,
   "metadata": {},
   "outputs": [],
   "source": []
  }
 ],
 "metadata": {
  "kernelspec": {
   "display_name": "Python 3",
   "language": "python",
   "name": "python3"
  },
  "language_info": {
   "codemirror_mode": {
    "name": "ipython",
    "version": 3
   },
   "file_extension": ".py",
   "mimetype": "text/x-python",
   "name": "python",
   "nbconvert_exporter": "python",
   "pygments_lexer": "ipython3",
   "version": "3.6.5"
  }
 },
 "nbformat": 4,
 "nbformat_minor": 2
}
