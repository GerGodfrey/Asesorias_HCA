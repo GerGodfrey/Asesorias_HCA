{
 "cells": [
  {
   "cell_type": "markdown",
   "metadata": {},
   "source": [
    "# Herramientas Computacionales y Algoritmos\n",
    "## Examen Final\n",
    "### Martes 17 de diciembre de 2019                                     Tipo B"
   ]
  },
  {
   "cell_type": "markdown",
   "metadata": {},
   "source": [
    "#### Nombre:    Salomon Romero"
   ]
  },
  {
   "cell_type": "markdown",
   "metadata": {},
   "source": [
    "#### Clave unica: 183764"
   ]
  },
  {
   "cell_type": "markdown",
   "metadata": {},
   "source": [
    "Indicaciones:  \n",
    "\n",
    "    Copia el archivo de Python en una carpeta en tu disco local.\n",
    "    Lee cuidadosamente el enunciado de los problemas antes de contestar. Guarda periódicamente tu trabajo.  \n",
    "    Utiliza las instrucciones de Python necesarias para resolver cada problema.  \n",
    "    Envía por Comunidad ITAM el examen resuelto."
   ]
  },
  {
   "cell_type": "code",
   "execution_count": 2,
   "metadata": {},
   "outputs": [
    {
     "name": "stdout",
     "output_type": "stream",
     "text": [
      "Using matplotlib backend: Qt5Agg\n",
      "Populating the interactive namespace from numpy and matplotlib\n"
     ]
    }
   ],
   "source": [
    "%pylab\n",
    "%matplotlib inline\n",
    "import numpy as np\n",
    "import statistics\n",
    "import math\n",
    "import pandas as pd\n",
    "from pandas import DataFrame"
   ]
  },
  {
   "cell_type": "markdown",
   "metadata": {},
   "source": [
    "## Pregunta 1 (1.5 pts.)"
   ]
  },
  {
   "cell_type": "markdown",
   "metadata": {},
   "source": [
    " Resuelve el siguiente sistema de ecuaciones, utilizando el método de matrices. "
   ]
  },
  {
   "cell_type": "markdown",
   "metadata": {},
   "source": [
    "#### Un hotel adquirió un total de 200 unidades entre almohadas, mantas y edredones (a + b + c).\n",
    "# a+b+c=200\n",
    "#### El precio de una almohada es de 16 euros, el de una manta es de 50 euros y el de un edredón es de 80 euros y el gasto total que hizo fue de 7500 euros. \n",
    "# \n",
    "#### Además, el número de almohadas compradas es igual al número de mantas más el número de edredones (a = b + c). \n",
    "# a= b+c\n",
    "#### ¿Cuántas almohadas, mantas y edredones ha comprado el hotel?"
   ]
  },
  {
   "cell_type": "code",
   "execution_count": 9,
   "metadata": {},
   "outputs": [
    {
     "name": "stdout",
     "output_type": "stream",
     "text": [
      "[[100.]\n",
      " [ 70.]\n",
      " [ 30.]]\n",
      "El total de almohadas es [[100.]]\n",
      "El total de mantas es [[70.]]\n",
      "El total de edredones es [[30.]]\n"
     ]
    }
   ],
   "source": [
    "datosmat=np.mat(\"1 1 1;16 50 80;1 -1 -1\")\n",
    "datosres=np.mat(\"200;7500;0\")\n",
    "totalmat=datosmat.I*datosres\n",
    "print(totalmat)\n",
    "almohadas=totalmat[0]\n",
    "print(\"El total de almohadas es\", almohadas)\n",
    "mantas=totalmat[1]\n",
    "print(\"El total de mantas es\", mantas)\n",
    "mantas=totalmat[1]\n",
    "edredones=totalmat[2]\n",
    "print(\"El total de edredones es\", edredones)\n"
   ]
  },
  {
   "cell_type": "code",
   "execution_count": null,
   "metadata": {},
   "outputs": [],
   "source": []
  },
  {
   "cell_type": "code",
   "execution_count": null,
   "metadata": {},
   "outputs": [],
   "source": []
  },
  {
   "cell_type": "code",
   "execution_count": null,
   "metadata": {},
   "outputs": [],
   "source": []
  },
  {
   "cell_type": "markdown",
   "metadata": {},
   "source": [
    "## Pregunta 2 (2.0 pts.)"
   ]
  },
  {
   "cell_type": "markdown",
   "metadata": {},
   "source": [
    "#### Una buena forma de determinar si tu peso es saludable para tu estatura, es calcular tu índice de masa corporal (IMC). \n",
    "#### El índice de masa corporal IMC es una razón matemática que asocia el peso y la talla de un individuo. Se calcula dividiendo los kilogramos de peso entre la estatura (dada en metros), al cuadrado. (IMC = peso / estatura al cuadrado).\n",
    "\n",
    "#### Diagnóstico -------- Índice de masa corporal (IMC)¶\n",
    "#### BajoPeso ------ IMC < 19.5\n",
    "#### Normal ----- IMC >=19.5 y <28.9\n",
    "#### Sobrepeso ----- IMC >=28.9 y <=31.9\n",
    "#### Obesidad ----- IMC > 31.9\n",
    "\n",
    "#### Define una función (def) que se llame FDiag que reciba como parámetros el Peso y la Estatura de una persona.  La función debe calcular el IMC y con el IMC obtenido regresar el Diagnóstico (BajoPeso, Normal, SobrePeso, Obesidad).¶\n",
    "#### (FDiag(Peso,Estatura))\n"
   ]
  },
  {
   "cell_type": "code",
   "execution_count": 132,
   "metadata": {},
   "outputs": [],
   "source": [
    "def fdiag  (peso,altura):\n",
    "    Indicemasa=(peso/(altura**2))\n",
    "    if Indicemasa <19.5:\n",
    "        IMC=\"Bajo peso\"\n",
    "    elif Indicemasa<=28.9:\n",
    "        IMC=\"Normal\"\n",
    "    elif Indicemasa<=31.9:\n",
    "        IMC=\"Sobrepeso\"\n",
    "    else:\n",
    "        IMC=\"Obesidad\"\n",
    "    return IMC\n",
    "  "
   ]
  },
  {
   "cell_type": "code",
   "execution_count": 133,
   "metadata": {},
   "outputs": [
    {
     "data": {
      "text/plain": [
       "'Normal'"
      ]
     },
     "execution_count": 133,
     "metadata": {},
     "output_type": "execute_result"
    }
   ],
   "source": [
    "fdiag(60,1.65)"
   ]
  },
  {
   "cell_type": "code",
   "execution_count": null,
   "metadata": {},
   "outputs": [],
   "source": [
    "\n",
    "        \n",
    "        "
   ]
  },
  {
   "cell_type": "code",
   "execution_count": 19,
   "metadata": {},
   "outputs": [],
   "source": []
  },
  {
   "cell_type": "code",
   "execution_count": 20,
   "metadata": {},
   "outputs": [
    {
     "name": "stdout",
     "output_type": "stream",
     "text": [
      "<function FDIAG at 0x0000021586A4C1E0>\n"
     ]
    }
   ],
   "source": []
  },
  {
   "cell_type": "code",
   "execution_count": null,
   "metadata": {},
   "outputs": [],
   "source": []
  },
  {
   "cell_type": "code",
   "execution_count": null,
   "metadata": {},
   "outputs": [],
   "source": []
  },
  {
   "cell_type": "code",
   "execution_count": null,
   "metadata": {},
   "outputs": [],
   "source": []
  },
  {
   "cell_type": "markdown",
   "metadata": {},
   "source": [
    "## Pregunta 3 (2.0 pts.)"
   ]
  },
  {
   "cell_type": "markdown",
   "metadata": {},
   "source": [
    "#### El archivo Pesos.txt contiene los pesos de un grupo de personas encuestadas.  El archivo Estaturas contiene la estatura en metros del mismo grupo de personas. \n",
    "#### a) (1.0 pto.) Abre los archivos y crea una lista de pesos y otra de estaturas.\n",
    "#### b) (0.5 pts.) Aplica la función definida en la pregunta 2 y genera una nueva lista con el diagnóstico de estas personas.\n",
    "#### c) (0.5 pts.) Cuántas personas del grupo encuestado presentan un Diagnóstico Normal?"
   ]
  },
  {
   "cell_type": "code",
   "execution_count": 136,
   "metadata": {},
   "outputs": [],
   "source": [
    "archivo=open(\"Pesos.txt\",\"r\")\n",
    "datos=archivo.read()\n",
    "archivo.close\n",
    "pesos=datos.split(\",\")\n",
    "pesostxt=[float(n) for n in pesos]"
   ]
  },
  {
   "cell_type": "code",
   "execution_count": 137,
   "metadata": {},
   "outputs": [
    {
     "data": {
      "text/plain": [
       "[75.85,\n",
       " 86.22,\n",
       " 56.7,\n",
       " 56.78,\n",
       " 72.28,\n",
       " 87.44,\n",
       " 53.54,\n",
       " 85.08,\n",
       " 80.83,\n",
       " 97.9,\n",
       " 67.46,\n",
       " 79.8,\n",
       " 77.73,\n",
       " 64.43,\n",
       " 99.63,\n",
       " 81.65,\n",
       " 73.44,\n",
       " 79.18,\n",
       " 61.4,\n",
       " 79.47,\n",
       " 70.68,\n",
       " 52.74,\n",
       " 88.39,\n",
       " 69.42,\n",
       " 88.81]"
      ]
     },
     "execution_count": 137,
     "metadata": {},
     "output_type": "execute_result"
    }
   ],
   "source": [
    "pesostxt"
   ]
  },
  {
   "cell_type": "code",
   "execution_count": 138,
   "metadata": {},
   "outputs": [],
   "source": [
    "archivo2=open(\"Estaturas.txt\",\"r\")\n",
    "datos=archivo2.read()\n",
    "archivo2.close\n",
    "estaturas=datos.split(\",\")\n",
    "estaturastxt=[float(n) for n in estaturas]"
   ]
  },
  {
   "cell_type": "code",
   "execution_count": 139,
   "metadata": {},
   "outputs": [
    {
     "data": {
      "text/plain": [
       "[1.73,\n",
       " 1.71,\n",
       " 1.44,\n",
       " 1.54,\n",
       " 1.78,\n",
       " 1.28,\n",
       " 1.73,\n",
       " 1.56,\n",
       " 1.69,\n",
       " 1.51,\n",
       " 1.63,\n",
       " 1.58,\n",
       " 1.67,\n",
       " 1.72,\n",
       " 1.77,\n",
       " 1.63,\n",
       " 1.44,\n",
       " 1.77,\n",
       " 1.79,\n",
       " 1.79,\n",
       " 1.66,\n",
       " 1.74,\n",
       " 1.81,\n",
       " 1.52,\n",
       " 1.46]"
      ]
     },
     "execution_count": 139,
     "metadata": {},
     "output_type": "execute_result"
    }
   ],
   "source": [
    "estaturastxt"
   ]
  },
  {
   "cell_type": "code",
   "execution_count": 140,
   "metadata": {},
   "outputs": [
    {
     "name": "stdout",
     "output_type": "stream",
     "text": [
      "[25.343312506264823, 29.48599569098184, 27.343750000000004, 23.941642772811605, 22.812776164625678, 53.36914062499999, 17.889003976076715, 34.96055226824457, 28.300829802878052, 42.936713302048155, 25.39049267943844, 31.96603108476205, 27.871203700383667, 21.778664142779885, 31.801206549841996, 30.731303398697733, 35.416666666666664, 25.273708066009128, 19.162947473549515, 24.8025966730127, 25.649586296995214, 17.41973840665874, 26.98025090809194, 30.04674515235457, 41.66353912553951]\n"
     ]
    }
   ],
   "source": [
    "IMCdatos=[x/(y**2) for x,y in zip(pesostxt,estaturastxt)]\n",
    "print(IMCdatos)"
   ]
  },
  {
   "cell_type": "code",
   "execution_count": null,
   "metadata": {},
   "outputs": [],
   "source": [
    "IMC_new = []\n",
    "for x,y in zip(pesostxt,estaturastxt):\n",
    "    IM_new.append(fdiga(x,y))\n",
    "    \n"
   ]
  },
  {
   "cell_type": "code",
   "execution_count": 146,
   "metadata": {},
   "outputs": [],
   "source": [
    "def IMCLISTA  (IMCdatos):\n",
    "    diagnostico=[]\n",
    "    for x in IMCdatos:\n",
    "        if x <19.5:\n",
    "        \n",
    "            IMC=\"Bajo peso\"\n",
    "            diagnostico.append(IMC)\n",
    "        elif x<=28.9:\n",
    "            IMC=\"Normal\"\n",
    "            diagnostico.append(IMC)\n",
    "        elif x<=31.9:\n",
    "            IMC=\"Sobrepeso\"\n",
    "            diagnostico.append(IMC)\n",
    "        else:\n",
    "            IMC=\"Obesidad\"\n",
    "            diagnostico.append(IMC)\n",
    "    return diagnostico"
   ]
  },
  {
   "cell_type": "code",
   "execution_count": 147,
   "metadata": {},
   "outputs": [
    {
     "name": "stdout",
     "output_type": "stream",
     "text": [
      "['Normal', 'Sobrepeso', 'Normal', 'Normal', 'Normal', 'Obesidad', 'Bajo peso', 'Obesidad', 'Normal', 'Obesidad', 'Normal', 'Obesidad', 'Normal', 'Normal', 'Sobrepeso', 'Sobrepeso', 'Obesidad', 'Normal', 'Bajo peso', 'Normal', 'Normal', 'Bajo peso', 'Normal', 'Sobrepeso', 'Obesidad']\n"
     ]
    }
   ],
   "source": [
    "A=IMCLISTA(IMCdatos)\n",
    "print(A)"
   ]
  },
  {
   "cell_type": "code",
   "execution_count": 156,
   "metadata": {},
   "outputs": [
    {
     "name": "stdout",
     "output_type": "stream",
     "text": [
      "Las veces que se repite Normal es 12\n"
     ]
    }
   ],
   "source": [
    "CONTADOR=A.count(\"Normal\") \n",
    "print(\"Las veces que se repite Normal es\",CONTADOR)\n",
    "##el primer numero lo correjï con usted por lo cual puede ver una variacion de un dato en normal\n"
   ]
  },
  {
   "cell_type": "markdown",
   "metadata": {},
   "source": [
    "## Pregunta 4 (1.5 pts.)"
   ]
  },
  {
   "cell_type": "markdown",
   "metadata": {},
   "source": [
    "#### a) (0.4 pts.) Crea 3 conjuntos con las letras de los siguientes estados:  “Veracruz”, “Zacatecas” y “Merida\" y ponles los siguientes nombres: conj1, conj2 y conj3.\n",
    "\n",
    "#### b) (0.6 pts.) Utilizando operaciones de conjuntos, encuentra el conjunto de las letras que son comunes a los tres estados y también escribe cuántas letras son.\n",
    "\n",
    "#### c) (0.5 pts.) Utilizando operaciones de conjuntos, encuentra el conjunto de las letras que están en conj1 pero que no están en conj2. Cuántas son?\n",
    "\n"
   ]
  },
  {
   "cell_type": "code",
   "execution_count": 26,
   "metadata": {},
   "outputs": [],
   "source": [
    "conj1=set(\"Veracruz\")\n",
    "conj2=set(\"Zacatecas\")\n",
    "conj3=set(\"Merida\")\n"
   ]
  },
  {
   "cell_type": "code",
   "execution_count": 92,
   "metadata": {},
   "outputs": [
    {
     "name": "stdout",
     "output_type": "stream",
     "text": [
      "La interseccion es {'a', 'e'}\n",
      "El numero de letras es 2\n"
     ]
    }
   ],
   "source": [
    "inter=conj1.intersection(conj2,conj3)\n",
    "letras=len(conj1.intersection(conj2,conj3))\n",
    "print(\"La interseccion es\", inter)\n",
    "print(\"El numero de letras es\",letras)"
   ]
  },
  {
   "cell_type": "code",
   "execution_count": 154,
   "metadata": {},
   "outputs": [
    {
     "name": "stdout",
     "output_type": "stream",
     "text": [
      "La diferencia es {'r', 'V', 'z', 'u'}\n",
      "El numero de letras es 4\n"
     ]
    }
   ],
   "source": [
    "diferencia=conj1.difference(conj2)\n",
    "print(\"La diferencia es\", diferencia)\n",
    "letras1=len(conj1.difference(conj2))\n",
    "print(\"El numero de letras es\",letras1)"
   ]
  },
  {
   "cell_type": "code",
   "execution_count": null,
   "metadata": {},
   "outputs": [],
   "source": []
  },
  {
   "cell_type": "markdown",
   "metadata": {},
   "source": [
    "## Pregunta 5 (1.5 pts.)"
   ]
  },
  {
   "cell_type": "markdown",
   "metadata": {},
   "source": [
    "#### (0.4 pts.) Crea un diccionario con la información que se muestra a continuación:\n",
    "#### 'nombre': 'Cynthia','Israel','Gerardo','Astrid','Andrea','Santiago','Melisa','Emilio','Carmen','Carolina'\n",
    "#### 'puesto':'Director','Gerente','Subdirector','Gerente','Soporte','Director','Contabilidad','Tecnico','Soporte','Subdirector'\n",
    "#### 'edad':39,42,44,33,26,39,45,61,20,28\n",
    "#### 'salario': 76416.42,73118.39,79315.10,71089.28,63055.09,70440.33,63989.68,60105.04,65553.13,73316.59"
   ]
  },
  {
   "cell_type": "code",
   "execution_count": 36,
   "metadata": {},
   "outputs": [
    {
     "name": "stdout",
     "output_type": "stream",
     "text": [
      "{'nombre': ('Cynthia', 'Israel', 'Gerardo', 'Astrid', 'Andrea', 'Santiago', 'Melisa', 'Emilio', 'Carmen', 'Carolina'), 'puesto': ('Director', 'Gerente', 'Subdirector', 'Gerente', 'Soporte', 'Director', 'Contabilidad', 'Tecnico', 'Soporte', 'Subdirector'), 'edad': (39, 42, 44, 33, 26, 39, 45, 61, 20, 28), 'salario': (76416.42, 73118.39, 79315.1, 71089.28, 63055.09, 70440.33, 63989.68, 60105.04, 65553.13, 73316.59)}\n"
     ]
    }
   ],
   "source": [
    "import pandas as pd\n",
    "dato1=('Cynthia','Israel','Gerardo','Astrid','Andrea','Santiago','Melisa','Emilio','Carmen','Carolina')\n",
    "dato2=('Director','Gerente','Subdirector','Gerente','Soporte','Director','Contabilidad','Tecnico','Soporte','Subdirector')\n",
    "dato3=(39,42,44,33,26,39,45,61,20,28)\n",
    "dato4=(76416.42,73118.39,79315.10,71089.28,63055.09,70440.33,63989.68,60105.04,65553.13,73316.59)\n",
    "tabla={\"nombre\":dato1,\"puesto\":dato2,\"edad\":dato3,\"salario\":dato4}\n",
    "print(tabla)\n"
   ]
  },
  {
   "cell_type": "code",
   "execution_count": null,
   "metadata": {},
   "outputs": [],
   "source": []
  },
  {
   "cell_type": "markdown",
   "metadata": {},
   "source": [
    "#### (0.5 pts.) Crea una tabla a partir del diccionario creado anteriormente y muéstrala."
   ]
  },
  {
   "cell_type": "code",
   "execution_count": 38,
   "metadata": {},
   "outputs": [
    {
     "data": {
      "text/html": [
       "<div>\n",
       "<style scoped>\n",
       "    .dataframe tbody tr th:only-of-type {\n",
       "        vertical-align: middle;\n",
       "    }\n",
       "\n",
       "    .dataframe tbody tr th {\n",
       "        vertical-align: top;\n",
       "    }\n",
       "\n",
       "    .dataframe thead th {\n",
       "        text-align: right;\n",
       "    }\n",
       "</style>\n",
       "<table border=\"1\" class=\"dataframe\">\n",
       "  <thead>\n",
       "    <tr style=\"text-align: right;\">\n",
       "      <th></th>\n",
       "      <th>nombre</th>\n",
       "      <th>puesto</th>\n",
       "      <th>edad</th>\n",
       "      <th>salario</th>\n",
       "    </tr>\n",
       "  </thead>\n",
       "  <tbody>\n",
       "    <tr>\n",
       "      <th>0</th>\n",
       "      <td>Cynthia</td>\n",
       "      <td>Director</td>\n",
       "      <td>39</td>\n",
       "      <td>76416.42</td>\n",
       "    </tr>\n",
       "    <tr>\n",
       "      <th>1</th>\n",
       "      <td>Israel</td>\n",
       "      <td>Gerente</td>\n",
       "      <td>42</td>\n",
       "      <td>73118.39</td>\n",
       "    </tr>\n",
       "    <tr>\n",
       "      <th>2</th>\n",
       "      <td>Gerardo</td>\n",
       "      <td>Subdirector</td>\n",
       "      <td>44</td>\n",
       "      <td>79315.10</td>\n",
       "    </tr>\n",
       "    <tr>\n",
       "      <th>3</th>\n",
       "      <td>Astrid</td>\n",
       "      <td>Gerente</td>\n",
       "      <td>33</td>\n",
       "      <td>71089.28</td>\n",
       "    </tr>\n",
       "    <tr>\n",
       "      <th>4</th>\n",
       "      <td>Andrea</td>\n",
       "      <td>Soporte</td>\n",
       "      <td>26</td>\n",
       "      <td>63055.09</td>\n",
       "    </tr>\n",
       "    <tr>\n",
       "      <th>5</th>\n",
       "      <td>Santiago</td>\n",
       "      <td>Director</td>\n",
       "      <td>39</td>\n",
       "      <td>70440.33</td>\n",
       "    </tr>\n",
       "    <tr>\n",
       "      <th>6</th>\n",
       "      <td>Melisa</td>\n",
       "      <td>Contabilidad</td>\n",
       "      <td>45</td>\n",
       "      <td>63989.68</td>\n",
       "    </tr>\n",
       "    <tr>\n",
       "      <th>7</th>\n",
       "      <td>Emilio</td>\n",
       "      <td>Tecnico</td>\n",
       "      <td>61</td>\n",
       "      <td>60105.04</td>\n",
       "    </tr>\n",
       "    <tr>\n",
       "      <th>8</th>\n",
       "      <td>Carmen</td>\n",
       "      <td>Soporte</td>\n",
       "      <td>20</td>\n",
       "      <td>65553.13</td>\n",
       "    </tr>\n",
       "    <tr>\n",
       "      <th>9</th>\n",
       "      <td>Carolina</td>\n",
       "      <td>Subdirector</td>\n",
       "      <td>28</td>\n",
       "      <td>73316.59</td>\n",
       "    </tr>\n",
       "  </tbody>\n",
       "</table>\n",
       "</div>"
      ],
      "text/plain": [
       "     nombre        puesto  edad   salario\n",
       "0   Cynthia      Director    39  76416.42\n",
       "1    Israel       Gerente    42  73118.39\n",
       "2   Gerardo   Subdirector    44  79315.10\n",
       "3    Astrid       Gerente    33  71089.28\n",
       "4    Andrea       Soporte    26  63055.09\n",
       "5  Santiago      Director    39  70440.33\n",
       "6    Melisa  Contabilidad    45  63989.68\n",
       "7    Emilio       Tecnico    61  60105.04\n",
       "8    Carmen       Soporte    20  65553.13\n",
       "9  Carolina   Subdirector    28  73316.59"
      ]
     },
     "execution_count": 38,
     "metadata": {},
     "output_type": "execute_result"
    }
   ],
   "source": [
    "tabla1=pd.DataFrame(tabla)\n",
    "tabla1"
   ]
  },
  {
   "cell_type": "code",
   "execution_count": null,
   "metadata": {},
   "outputs": [],
   "source": []
  },
  {
   "cell_type": "markdown",
   "metadata": {},
   "source": [
    "#### (0.3 pts.) Cuál es la edad promedio de los empleados en esa empresa?\n",
    "#### (0.3 pts.) Muestra la tabla ordenada por puesto"
   ]
  },
  {
   "cell_type": "code",
   "execution_count": 155,
   "metadata": {},
   "outputs": [
    {
     "name": "stdout",
     "output_type": "stream",
     "text": [
      "El promedio es 37.7\n"
     ]
    }
   ],
   "source": [
    "\n",
    "promediotabla1=tabla1[\"edad\"].mean()\n",
    "print(\"El promedio es\",promediotabla1)"
   ]
  },
  {
   "cell_type": "code",
   "execution_count": 83,
   "metadata": {},
   "outputs": [
    {
     "data": {
      "text/plain": [
       "0        Director\n",
       "1         Gerente\n",
       "2     Subdirector\n",
       "3         Gerente\n",
       "4         Soporte\n",
       "5        Director\n",
       "6    Contabilidad\n",
       "7         Tecnico\n",
       "8         Soporte\n",
       "9     Subdirector\n",
       "Name: puesto, dtype: object"
      ]
     },
     "execution_count": 83,
     "metadata": {},
     "output_type": "execute_result"
    }
   ],
   "source": [
    "tabla1[\"puesto\"]"
   ]
  },
  {
   "cell_type": "code",
   "execution_count": 151,
   "metadata": {},
   "outputs": [
    {
     "data": {
      "text/html": [
       "<div>\n",
       "<style scoped>\n",
       "    .dataframe tbody tr th:only-of-type {\n",
       "        vertical-align: middle;\n",
       "    }\n",
       "\n",
       "    .dataframe tbody tr th {\n",
       "        vertical-align: top;\n",
       "    }\n",
       "\n",
       "    .dataframe thead th {\n",
       "        text-align: right;\n",
       "    }\n",
       "</style>\n",
       "<table border=\"1\" class=\"dataframe\">\n",
       "  <thead>\n",
       "    <tr style=\"text-align: right;\">\n",
       "      <th></th>\n",
       "      <th>edad</th>\n",
       "      <th>salario</th>\n",
       "    </tr>\n",
       "  </thead>\n",
       "  <tbody>\n",
       "    <tr>\n",
       "      <th>count</th>\n",
       "      <td>10.00000</td>\n",
       "      <td>10.000000</td>\n",
       "    </tr>\n",
       "    <tr>\n",
       "      <th>mean</th>\n",
       "      <td>37.70000</td>\n",
       "      <td>69639.905000</td>\n",
       "    </tr>\n",
       "    <tr>\n",
       "      <th>std</th>\n",
       "      <td>11.66238</td>\n",
       "      <td>6243.129593</td>\n",
       "    </tr>\n",
       "    <tr>\n",
       "      <th>min</th>\n",
       "      <td>20.00000</td>\n",
       "      <td>60105.040000</td>\n",
       "    </tr>\n",
       "    <tr>\n",
       "      <th>25%</th>\n",
       "      <td>29.25000</td>\n",
       "      <td>64380.542500</td>\n",
       "    </tr>\n",
       "    <tr>\n",
       "      <th>50%</th>\n",
       "      <td>39.00000</td>\n",
       "      <td>70764.805000</td>\n",
       "    </tr>\n",
       "    <tr>\n",
       "      <th>75%</th>\n",
       "      <td>43.50000</td>\n",
       "      <td>73267.040000</td>\n",
       "    </tr>\n",
       "    <tr>\n",
       "      <th>max</th>\n",
       "      <td>61.00000</td>\n",
       "      <td>79315.100000</td>\n",
       "    </tr>\n",
       "  </tbody>\n",
       "</table>\n",
       "</div>"
      ],
      "text/plain": [
       "           edad       salario\n",
       "count  10.00000     10.000000\n",
       "mean   37.70000  69639.905000\n",
       "std    11.66238   6243.129593\n",
       "min    20.00000  60105.040000\n",
       "25%    29.25000  64380.542500\n",
       "50%    39.00000  70764.805000\n",
       "75%    43.50000  73267.040000\n",
       "max    61.00000  79315.100000"
      ]
     },
     "execution_count": 151,
     "metadata": {},
     "output_type": "execute_result"
    }
   ],
   "source": [
    "tabla1.describe()"
   ]
  },
  {
   "cell_type": "code",
   "execution_count": null,
   "metadata": {},
   "outputs": [],
   "source": []
  },
  {
   "cell_type": "markdown",
   "metadata": {},
   "source": [
    "## Pregunta 6 (1.5 pts.)"
   ]
  },
  {
   "cell_type": "markdown",
   "metadata": {},
   "source": [
    "#### Se tienen los datos de la Población Masculina Total y de la Población Masculina sin ningún tipo de estudios de 1990 a 2009. \n",
    "\n",
    "#### a) Genera una gráfica con ambas series; la Población Masculina Total en color negro y la Población Masculina sin ningún tipo de estudios en color azul.\n",
    "#### b) Muestra en el eje de las X el año que representa (de 1990 a 2009).\n",
    "#### c) Coloca títulos adecuados.\n",
    "\n",
    "MasTot = [458424, 1190566, 235801, 319582, 1051602, 254133, 1765951, 1273091, 3760337, 620034, 2159163, 1296493, 1058077, 2863196, 5956056, 1711845, 715146, 415713, 1801366, 1508722]\n",
    "\n",
    "\n",
    "MasSinEdu = [75466, 180088, 40688, 48658, 182891, 43431, 141488, 181422, 947712, 80681, 220634, 136641, 124874, 438579, 874371, 178770, 110661, 66265, 351864, 129479]\n"
   ]
  },
  {
   "cell_type": "code",
   "execution_count": 76,
   "metadata": {},
   "outputs": [],
   "source": [
    "MasTot = [458424, 1190566, 235801, 319582, 1051602, 254133, 1765951, 1273091, 3760337, 620034, 2159163, 1296493, 1058077, 2863196, 5956056, 1711845, 715146, 415713, 1801366, 1508722]\n",
    "MasSinEdu = [75466, 180088, 40688, 48658, 182891, 43431, 141488, 181422, 947712, 80681, 220634, 136641, 124874, 438579, 874371, 178770, 110661, 66265, 351864, 129479]\n",
    "años=[1989,1990,1991,1992,1993,1994,1995,1996,1997,1998,1999,2000,2001,2002,2003,2004,2005,2006,2007,2008]"
   ]
  },
  {
   "cell_type": "code",
   "execution_count": 152,
   "metadata": {},
   "outputs": [
    {
     "data": {
      "text/plain": [
       "Text(0.5, 1.0, 'Comparacion poblacion')"
      ]
     },
     "execution_count": 152,
     "metadata": {},
     "output_type": "execute_result"
    },
    {
     "data": {
      "image/png": "[encoded data removed]",
      "text/plain": [
       "<Figure size 432x288 with 1 Axes>"
      ]
     },
     "metadata": {
      "needs_background": "light"
     },
     "output_type": "display_data"
    }
   ],
   "source": [
    "plot(años,MasTot,\"black\",años,MasSinEdu,\"b\")\n",
    "xlabel(\"año que representa de 1990 a 2009\")\n",
    "title(\"Comparacion poblacion\")"
   ]
  },
  {
   "cell_type": "code",
   "execution_count": null,
   "metadata": {},
   "outputs": [],
   "source": []
  },
  {
   "cell_type": "code",
   "execution_count": null,
   "metadata": {},
   "outputs": [],
   "source": []
  },
  {
   "cell_type": "markdown",
   "metadata": {},
   "source": [
    "## Suerte!!"
   ]
  },
  {
   "cell_type": "code",
   "execution_count": null,
   "metadata": {},
   "outputs": [],
   "source": []
  }
 ],
 "metadata": {
  "kernelspec": {
   "display_name": "Python 3",
   "language": "python",
   "name": "python3"
  },
  "language_info": {
   "codemirror_mode": {
    "name": "ipython",
    "version": 3
   },
   "file_extension": ".py",
   "mimetype": "text/x-python",
   "name": "python",
   "nbconvert_exporter": "python",
   "pygments_lexer": "ipython3",
   "version": "3.6.5"
  }
 },
 "nbformat": 4,
 "nbformat_minor": 2
}
