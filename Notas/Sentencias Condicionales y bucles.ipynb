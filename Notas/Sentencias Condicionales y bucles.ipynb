{
 "cells": [
  {
   "cell_type": "markdown",
   "metadata": {},
   "source": [
    "# If, Else, Elif, For, While "
   ]
  },
  {
   "cell_type": "markdown",
   "metadata": {},
   "source": [
    "## *If*"
   ]
  },
  {
   "cell_type": "markdown",
   "metadata": {},
   "source": [
    "La estructura de control `if` permite que un programa ejecute intrucciones específicas si cumple la condición que sea asignada. La sintaxis de la contrucción `if`  es de la siguiente forma:\n",
    "```python\n",
    "if(condicion):\n",
    "    pasa algo\n",
    "    pasa algo\n",
    "```\n",
    "\n",
    "La condición siempre se va a evaluar. \n",
    "+ Si la condición es *verdadera* entrara y ejecutará el bloque de sentencias.\n",
    "+ Si la condición es *falsa* se saltara el bloque de sentencias."
   ]
  },
  {
   "cell_type": "code",
   "execution_count": 1,
   "metadata": {},
   "outputs": [
    {
     "name": "stdout",
     "output_type": "stream",
     "text": [
      "Escriba un número positivo: 8\n",
      "Ha escrito el número 8\n"
     ]
    }
   ],
   "source": [
    "numero = int(input(\"Escriba un número positivo: \"))\n",
    "if numero < 0:\n",
    "    print(\"¡Le he dicho que escriba un número positivo!\")\n",
    "print(f\"Ha escrito el número {numero}\")"
   ]
  },
  {
   "cell_type": "markdown",
   "metadata": {},
   "source": [
    "### *If Else*"
   ]
  },
  {
   "cell_type": "markdown",
   "metadata": {},
   "source": [
    "La estructura de control `if else` permite que un programa ejecute unas instrucciones cuando se cumple una condición y otras instrucciones cuando no se cumple esa condición.La sintaxis de la contrucción `if else`  es de la siguiente forma:\n",
    "```python\n",
    "if(condicion):\n",
    "    pasa algo\n",
    "    pasa algo\n",
    "else:\n",
    "    pasa otra cosa\n",
    "    pasa otra cosa\n",
    "```\n",
    "\n",
    "La condición siempre se va a evaluar. \n",
    "+ Si la condición es *verdadera* entrara y ejecutará  **únicamente** el primer bloque de sentencias.\n",
    "+ Si la condición es *falsa* **únicamente** se ejecutara el segundo bloque de sentencias."
   ]
  },
  {
   "cell_type": "code",
   "execution_count": 3,
   "metadata": {},
   "outputs": [
    {
     "name": "stdout",
     "output_type": "stream",
     "text": [
      "¿Cuántos años tiene? 90\n",
      "Es usted mayor de edad\n"
     ]
    }
   ],
   "source": [
    "edad = int(input(\"¿Cuántos años tiene? \"))\n",
    "if edad < 18:\n",
    "    print(\"Es usted menor de edad\")\n",
    "else:\n",
    "    print(\"Es usted mayor de edad\")"
   ]
  },
  {
   "cell_type": "markdown",
   "metadata": {},
   "source": [
    "### *Elif*"
   ]
  },
  {
   "cell_type": "markdown",
   "metadata": {},
   "source": [
    "La estructura de control `if .. elif .. else` permite encadenar **varias** condiciones. `Elif` solamente es una contracción de `else if`. La sintaxis de la contrucción `if .. elif .. else`  es de la siguiente forma:\n",
    "```python\n",
    "if(condicion):\n",
    "    bloque1\n",
    "elif(condicion2):\n",
    "    bloque2\n",
    "else:\n",
    "    bloque3\n",
    "```\n",
    "\n",
    "La condición siempre se va a evaluar. \n",
    "+ Si la condición es *verdadera* entrara y ejecutará el bloque de sentencias uno.\n",
    "+ Si la condición es *falsa* preguntara sobre **condicion2**.\n",
    "    + Si la condicion2 es *verdadera* entra y ejecuta el segundo bloque\n",
    "    + SI la condicion2 es *falsa* ejecutara el bloque3"
   ]
  },
  {
   "cell_type": "code",
   "execution_count": 4,
   "metadata": {},
   "outputs": [
    {
     "name": "stdout",
     "output_type": "stream",
     "text": [
      "Escriba un número: 9\n",
      "9 es impar\n"
     ]
    }
   ],
   "source": [
    "numero = int(input(\"Escriba un número: \"))\n",
    "if numero % 2:\n",
    "    print(f\"{numero} es impar\")\n",
    "else:\n",
    "    print(f\"{numero} es par\")"
   ]
  },
  {
   "cell_type": "code",
   "execution_count": 6,
   "metadata": {},
   "outputs": [
    {
     "data": {
      "text/plain": [
       "0"
      ]
     },
     "execution_count": 6,
     "metadata": {},
     "output_type": "execute_result"
    }
   ],
   "source": [
    "4%2"
   ]
  },
  {
   "cell_type": "markdown",
   "metadata": {},
   "source": [
    "### *For*"
   ]
  },
  {
   "cell_type": "markdown",
   "metadata": {},
   "source": [
    "Es un **bucle** que repite el bloque de instrucciones un **número predeterminado de veces**. El bloque de instrucciones que se repite se suele llamar cuerpo del bucle y cada repetición se suele llamar iteración.\n",
    "\n",
    "La sintaxis de un bucle `for` es la siguiente:\n",
    "\n",
    "```python\n",
    "for variable in elemento iterable:\n",
    "    bloque que se repetira\n",
    "```\n",
    "\n",
    "`variable` es la que estará tomando los valores de tu elemento iterable\n",
    "`elemento iterable` puede ser una lista,cadena,rango incluso hasta una palabra"
   ]
  },
  {
   "cell_type": "code",
   "execution_count": 13,
   "metadata": {},
   "outputs": [
    {
     "name": "stdout",
     "output_type": "stream",
     "text": [
      "Comienzo\n",
      "Hola 0 \n",
      "Hola 1 \n",
      "Hola 2 \n",
      "\n",
      "Final\n"
     ]
    }
   ],
   "source": [
    "print(\"Comienzo\")\n",
    "for i in [0, 1, 2]:\n",
    "    print(f\"Hola {i} \")\n",
    "print()\n",
    "print(\"Final\")"
   ]
  },
  {
   "cell_type": "markdown",
   "metadata": {},
   "source": [
    "### *While*"
   ]
  },
  {
   "cell_type": "markdown",
   "metadata": {},
   "source": [
    "Un bucle `while` permite repetir la ejecución de un grupo de instrucciones **mientras se cumpla una condición**.\n",
    "\n",
    "La sintaxis del bucle `while` es la siguiente:\n",
    "\n",
    "```python\n",
    "while condicion:\n",
    "    pasa algo\n",
    "    pasa algo\n",
    "```\n",
    "La variable o las variables que aparezcan en la condición se suelen llamar **variables de control**. Las variables de control deben definirse antes del bucle while y **modificarse en el bucle while**."
   ]
  },
  {
   "cell_type": "code",
   "execution_count": 14,
   "metadata": {},
   "outputs": [
    {
     "name": "stdout",
     "output_type": "stream",
     "text": [
      "1\n",
      "2\n",
      "3\n",
      "Programa terminado\n"
     ]
    }
   ],
   "source": [
    "i = 1\n",
    "while i <= 3:\n",
    "    print(i)\n",
    "    i += 1\n",
    "print(\"Programa terminado\")"
   ]
  }
 ],
 "metadata": {
  "kernelspec": {
   "display_name": "Python 3",
   "language": "python",
   "name": "python3"
  },
  "language_info": {
   "codemirror_mode": {
    "name": "ipython",
    "version": 3
   },
   "file_extension": ".py",
   "mimetype": "text/x-python",
   "name": "python",
   "nbconvert_exporter": "python",
   "pygments_lexer": "ipython3",
   "version": "3.7.3"
  }
 },
 "nbformat": 4,
 "nbformat_minor": 2
}
