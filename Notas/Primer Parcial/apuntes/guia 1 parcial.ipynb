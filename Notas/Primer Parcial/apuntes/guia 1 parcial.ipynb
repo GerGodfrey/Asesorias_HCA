{
 "cells": [
  {
   "cell_type": "code",
   "execution_count": 5,
   "metadata": {},
   "outputs": [
    {
     "name": "stdout",
     "output_type": "stream",
     "text": [
      "Using matplotlib backend: Qt5Agg\n",
      "Populating the interactive namespace from numpy and matplotlib\n"
     ]
    }
   ],
   "source": [
    "%pylab"
   ]
  },
  {
   "cell_type": "markdown",
   "metadata": {},
   "source": [
    "Una bandeja de 30 huevos cuesta $2.50 ¿Cuánto costaráuna docena?"
   ]
  },
  {
   "cell_type": "code",
   "execution_count": 2,
   "metadata": {},
   "outputs": [
    {
     "name": "stdout",
     "output_type": "stream",
     "text": [
      "El costo de una docena es huevos \n",
      " 1.0\n"
     ]
    }
   ],
   "source": [
    "# entrada\n",
    "h1=30\n",
    "co1=2.50\n",
    "h2=12\n",
    "# cálculo\n",
    "co2=h2*co1/h1\n",
    "# Salida\n",
    "print(\"El costo de una docena es huevos \\n\",co2)"
   ]
  },
  {
   "cell_type": "markdown",
   "metadata": {},
   "source": [
    "Un vehículo tarda dos horas y media en recorrer una distancia a una velocidad promedio de 80 km. por hora. ¿Cuánto tardará a una velocidad de 100 km. por hora en recorrer la misma distancia?"
   ]
  },
  {
   "cell_type": "code",
   "execution_count": 3,
   "metadata": {},
   "outputs": [
    {
     "name": "stdout",
     "output_type": "stream",
     "text": [
      "El tiempo que tarda es: 2.0 horas\n"
     ]
    }
   ],
   "source": [
    "# entrada\n",
    "t1=2.5\n",
    "v1=80\n",
    "v2=100\n",
    "# cálculo INVERSA\n",
    "t2=t1*v1/v2\n",
    "# salida\n",
    "print(\"El tiempo que tarda es:\", t2, \"horas\")"
   ]
  },
  {
   "cell_type": "markdown",
   "metadata": {},
   "source": [
    "En el mes de julio a la joven Isui la tarjeta de crédito Bancomer le cobróel 3.83% de intereses (tasa mensual) mientras que la tarjeta de crédito Banamex le cobró el 1.61% de intereses (tasa mensual). ¿Cuál es la razón entre los intereses de Bancomer y el de Banamex?"
   ]
  },
  {
   "cell_type": "code",
   "execution_count": 4,
   "metadata": {},
   "outputs": [
    {
     "name": "stdout",
     "output_type": "stream",
     "text": [
      "La razón entre los intereses de Bancomer y Banamex es 2.3788819875776395\n"
     ]
    }
   ],
   "source": [
    "# entrada\n",
    "b1=3.83\n",
    "b2=1.61\n",
    "# cálculo\n",
    "r=b1/b2\n",
    "# salida\n",
    "print(\"La razón entre los intereses de Bancomer y Banamex es\", r)"
   ]
  },
  {
   "cell_type": "markdown",
   "metadata": {},
   "source": [
    "Un coche que va a 100 km por hora necesita 20 minutos para recorrer la distancia que hay entre dos pueblos. ¿A quévelocidad debería ir el coche para hacer el recorrido en una hora y 10 minutos?"
   ]
  },
  {
   "cell_type": "code",
   "execution_count": 5,
   "metadata": {},
   "outputs": [
    {
     "name": "stdout",
     "output_type": "stream",
     "text": [
      "El cohe deberia ir a 28.571428571428573 km/h\n"
     ]
    }
   ],
   "source": [
    "# entrada \n",
    "v1=100\n",
    "t1=20\n",
    "t2=70\n",
    "# cálculo\n",
    "v2= t1*v1/t2\n",
    "# salida\n",
    "print(\"El cohe deberia ir a\", v2, \"km/h\")"
   ]
  },
  {
   "cell_type": "markdown",
   "metadata": {},
   "source": [
    "Si 1 y media gallinas producen 1 y medio huevos en un día y medio, ¿cuántos huevos produce una gallina en tres días?"
   ]
  },
  {
   "cell_type": "code",
   "execution_count": 6,
   "metadata": {},
   "outputs": [
    {
     "name": "stdout",
     "output_type": "stream",
     "text": [
      "producirá 2.0 huevos en tres dias\n"
     ]
    }
   ],
   "source": [
    "# entrada\n",
    "g1=1.5\n",
    "h1=1.5\n",
    "d1=1.5\n",
    "g2=1\n",
    "d2=3\n",
    "# cálculo\n",
    "h2=(g1/g2)*(d1/d2)\n",
    "r=h1/h2\n",
    "# salida\n",
    "print(\"producirá\", r, \"huevos en tres dias\")"
   ]
  },
  {
   "cell_type": "code",
   "execution_count": 7,
   "metadata": {},
   "outputs": [
    {
     "name": "stdout",
     "output_type": "stream",
     "text": [
      "con 3 decimales 3.658\n",
      "con 2 decimales 3.66\n",
      "con 1 decimales 3.7\n"
     ]
    }
   ],
   "source": [
    "# funcion round(n,d)\n",
    "m=3.6579\n",
    "print(\"con 3 decimales\",round(m,3))\n",
    "print(\"con 2 decimales\",round(m,2))\n",
    "print(\"con 1 decimales\", round(m,1))"
   ]
  },
  {
   "cell_type": "code",
   "execution_count": 8,
   "metadata": {},
   "outputs": [
    {
     "name": "stdout",
     "output_type": "stream",
     "text": [
      "El iva del monto $ 2500 es 400.0\n",
      "El iva del monto $ 2500 es 400.0\n"
     ]
    }
   ],
   "source": [
    "#entrada\n",
    "tasa=.16\n",
    "monto=2500\n",
    "#cálculo\n",
    "iva=monto*tasa\n",
    "#salida\n",
    "print(\"El iva del monto $ {} es {}\".format(monto,iva))\n",
    "print(\"El iva del monto $\", monto, \"es\", iva)"
   ]
  },
  {
   "cell_type": "code",
   "execution_count": 9,
   "metadata": {},
   "outputs": [
    {
     "name": "stdout",
     "output_type": "stream",
     "text": [
      "Dame la tasa \n",
      ".16\n",
      "Dame el monto \n",
      "2500\n"
     ]
    },
    {
     "data": {
      "text/plain": [
       "float"
      ]
     },
     "execution_count": 9,
     "metadata": {},
     "output_type": "execute_result"
    }
   ],
   "source": [
    "#entrada\n",
    "tasa1=input(\"Dame la tasa \\n\")\n",
    "monto1=input(\"Dame el monto \\n\")\n",
    "tasa2=float(tasa1)\n",
    "monto2=float(monto1)\n",
    "type(tasa2)"
   ]
  },
  {
   "cell_type": "code",
   "execution_count": 10,
   "metadata": {},
   "outputs": [
    {
     "data": {
      "text/plain": [
       "str"
      ]
     },
     "execution_count": 10,
     "metadata": {},
     "output_type": "execute_result"
    }
   ],
   "source": [
    "type(tasa1)"
   ]
  },
  {
   "cell_type": "code",
   "execution_count": 11,
   "metadata": {},
   "outputs": [
    {
     "data": {
      "text/plain": [
       "float"
      ]
     },
     "execution_count": 11,
     "metadata": {},
     "output_type": "execute_result"
    }
   ],
   "source": [
    "a=4.5\n",
    "type(4.5)"
   ]
  },
  {
   "cell_type": "code",
   "execution_count": 12,
   "metadata": {},
   "outputs": [
    {
     "name": "stdout",
     "output_type": "stream",
     "text": [
      "Dame un número \n",
      "4\n",
      "Dame otro número \n",
      "5\n",
      "La suma de 4 y 5 es 9\n"
     ]
    }
   ],
   "source": [
    "#entrada\n",
    "n1=int(input(\"Dame un número \\n\"))\n",
    "n2=int(input(\"Dame otro número \\n\"))\n",
    "#cálculo\n",
    "nt=n1+n2\n",
    "print(\"La suma de {} y {} es {}\".format(n1,n2,nt))"
   ]
  },
  {
   "cell_type": "code",
   "execution_count": 13,
   "metadata": {},
   "outputs": [
    {
     "name": "stdout",
     "output_type": "stream",
     "text": [
      "Dame la tasa.16\n",
      "Dame el monto2500\n",
      "El iva del monto $ 2500.0 es 400.0\n"
     ]
    }
   ],
   "source": [
    "#entrada\n",
    "tasa1=float(input(\"Dame la tasa\"))\n",
    "monto1=float(input(\"Dame el monto\"))\n",
    "# cálculos\n",
    "iva1=tasa1*monto1\n",
    "# salida\n",
    "print(\"El iva del monto $ {} es {}\".format(monto1,iva1))\n"
   ]
  },
  {
   "cell_type": "code",
   "execution_count": 14,
   "metadata": {},
   "outputs": [],
   "source": [
    "def iva3(t,m):\n",
    "    r=t*m\n",
    "    return r"
   ]
  },
  {
   "cell_type": "code",
   "execution_count": 15,
   "metadata": {},
   "outputs": [
    {
     "data": {
      "text/plain": [
       "375.2"
      ]
     },
     "execution_count": 15,
     "metadata": {},
     "output_type": "execute_result"
    }
   ],
   "source": [
    "iva3(.16,2345)"
   ]
  },
  {
   "cell_type": "markdown",
   "metadata": {},
   "source": [
    "Define una función cuya entrada sean 4 números como resultado indicar cero si C +D es cero o negativo, en otro caso resuelve: A+B / C+D"
   ]
  },
  {
   "cell_type": "code",
   "execution_count": 16,
   "metadata": {},
   "outputs": [
    {
     "name": "stdout",
     "output_type": "stream",
     "text": [
      "Dame un número5\n",
      "Dame un número5\n",
      "Dame un número5\n",
      "Dame un número5\n",
      "El resultado es \n",
      " 1.0\n"
     ]
    }
   ],
   "source": [
    "A=int(input(\"Dame un número\"))\n",
    "B=int(input(\"Dame un número\"))\n",
    "C=int(input(\"Dame un número\"))\n",
    "D=int(input(\"Dame un número\"))\n",
    "if C+D==0:\n",
    "    print(\"C+D es cero\")\n",
    "else:\n",
    "    if C+D<0:\n",
    "        print(\"C+D es negativo\")\n",
    "    else:\n",
    "        s=(A+B)/(C+D)\n",
    "        print(\"El resultado es \\n\",s)"
   ]
  },
  {
   "cell_type": "markdown",
   "metadata": {},
   "source": [
    "Define una función tal que dados los lados de un rectángulo entregue el perímetro Recuerda: Perímetro = 2(lado A) + 2(lado B)\n",
    "Utilizando la función anterior determina los resultados para los siguientes casos a) ladoA=7 ladoB=2 b) ladoA=3 ladoB=5"
   ]
  },
  {
   "cell_type": "code",
   "execution_count": 17,
   "metadata": {},
   "outputs": [],
   "source": [
    "def pr(ladoA,ladoB): #perímetro de un rectángulo\n",
    "    a=ladoA*2\n",
    "    b=ladoB*2\n",
    "    return (a+b)"
   ]
  },
  {
   "cell_type": "code",
   "execution_count": 18,
   "metadata": {},
   "outputs": [
    {
     "data": {
      "text/plain": [
       "18"
      ]
     },
     "execution_count": 18,
     "metadata": {},
     "output_type": "execute_result"
    }
   ],
   "source": [
    "pr(7,2)"
   ]
  },
  {
   "cell_type": "code",
   "execution_count": 19,
   "metadata": {},
   "outputs": [
    {
     "data": {
      "text/plain": [
       "16"
      ]
     },
     "execution_count": 19,
     "metadata": {},
     "output_type": "execute_result"
    }
   ],
   "source": [
    "pr(3,5)"
   ]
  },
  {
   "cell_type": "markdown",
   "metadata": {},
   "source": [
    "Se sabe que la velocidad es función de la distancia y el tiempo, define una función que calcule la velocidad recibiendo distancia y tiempo."
   ]
  },
  {
   "cell_type": "code",
   "execution_count": 1,
   "metadata": {},
   "outputs": [],
   "source": [
    "def velocidad(d,t):\n",
    "    v=d/t\n",
    "    return (v)"
   ]
  },
  {
   "cell_type": "code",
   "execution_count": 2,
   "metadata": {},
   "outputs": [
    {
     "name": "stdout",
     "output_type": "stream",
     "text": [
      "dame la distancia10\n",
      "dame el tiempo5\n",
      "la velocidad es \n",
      " 2.0\n"
     ]
    }
   ],
   "source": [
    "dis=int(input(\"dame la distancia\"))\n",
    "tie=int(input(\"dame el tiempo\"))\n",
    "print(\"la velocidad es \\n\", velocidad(dis,tie))"
   ]
  },
  {
   "cell_type": "code",
   "execution_count": 3,
   "metadata": {},
   "outputs": [
    {
     "name": "stdout",
     "output_type": "stream",
     "text": [
      "Dame tu promedio final5\n",
      "reprobado\n"
     ]
    }
   ],
   "source": [
    "calif=int(input(\"Dame tu promedio final\"))\n",
    "if calif>=6: #prueba lógica\n",
    "    print(\"aprobado\") #verdadero\n",
    "else:\n",
    "    print(\"reprobado\") # falso (no se cumple)"
   ]
  },
  {
   "cell_type": "code",
   "execution_count": 1,
   "metadata": {},
   "outputs": [],
   "source": [
    "def pago(h):\n",
    "    if h<=40:\n",
    "        p=45*h\n",
    "    else:\n",
    "        e=h-40\n",
    "        p=((h-e)*45)+(e*1.5*45)\n",
    "    return p"
   ]
  },
  {
   "cell_type": "code",
   "execution_count": 2,
   "metadata": {},
   "outputs": [
    {
     "data": {
      "text/plain": [
       "1800"
      ]
     },
     "execution_count": 2,
     "metadata": {},
     "output_type": "execute_result"
    }
   ],
   "source": [
    "pago(40)"
   ]
  },
  {
   "cell_type": "code",
   "execution_count": 3,
   "metadata": {},
   "outputs": [
    {
     "data": {
      "text/plain": [
       "1867.5"
      ]
     },
     "execution_count": 3,
     "metadata": {},
     "output_type": "execute_result"
    }
   ],
   "source": [
    "pago(41)"
   ]
  },
  {
   "cell_type": "markdown",
   "metadata": {},
   "source": [
    "Una aproximación racional de la constante Pi(la razón entre el perímetro de una circunferencia y su diametro) conocida por matemáticos chinos en el siglo V es 355/113\n",
    "\n",
    "¿cuál es la diferencia entre el valor real de Pi y la aproximación mencionada?\n",
    "¿qué valor es el mayor?"
   ]
  },
  {
   "cell_type": "code",
   "execution_count": 6,
   "metadata": {},
   "outputs": [
    {
     "name": "stdout",
     "output_type": "stream",
     "text": [
      "El valor de pi 3.14159265358979\n",
      "El valor de pi 3.14159292035398\n",
      "La diferencia es 0.00000026676419\n"
     ]
    }
   ],
   "source": [
    "# entrada\n",
    "pi\n",
    "pch=355/113\n",
    "# cálculo\n",
    "d=pch-pi\n",
    "print(\"El valor de pi %1.14f\"%pi)\n",
    "print(\"El valor de pi %1.14f\"%pch)\n",
    "print(\"La diferencia es %1.14f\"%d)"
   ]
  },
  {
   "cell_type": "code",
   "execution_count": 7,
   "metadata": {},
   "outputs": [
    {
     "name": "stdout",
     "output_type": "stream",
     "text": [
      "pch es mayor\n"
     ]
    }
   ],
   "source": [
    "if pi>pch:\n",
    "    print(\"pi es mayor\")\n",
    "else:\n",
    "    print(\"pch es mayor\")"
   ]
  },
  {
   "cell_type": "code",
   "execution_count": 8,
   "metadata": {},
   "outputs": [
    {
     "name": "stdout",
     "output_type": "stream",
     "text": [
      "El valor de pi 3.14159265358979\n",
      "El valor de pi 3.1415926535898\n",
      "El valor de pi 3.141592653590\n",
      "El valor de pi 3.14159265359\n",
      "El valor de pi 3.1415926536\n",
      "El valor de pi 3.141592654\n",
      "El valor de pi 3.14159265\n",
      "El valor de pi 3.1415927\n",
      "El valor de pi 3.141593\n"
     ]
    }
   ],
   "source": [
    "print(\"El valor de pi %1.14f\"%pi)\n",
    "print(\"El valor de pi %1.13f\"%pi)\n",
    "print(\"El valor de pi %1.12f\"%pi)\n",
    "print(\"El valor de pi %1.11f\"%pi)\n",
    "print(\"El valor de pi %1.10f\"%pi)\n",
    "print(\"El valor de pi %1.9f\"%pi)\n",
    "print(\"El valor de pi %1.8f\"%pi)\n",
    "print(\"El valor de pi %1.7f\"%pi)\n",
    "print(\"El valor de pi %1.6f\"%pi)"
   ]
  },
  {
   "cell_type": "code",
   "execution_count": 9,
   "metadata": {},
   "outputs": [
    {
     "name": "stdout",
     "output_type": "stream",
     "text": [
      "Dame tu nombre \n",
      "ana\n",
      "Escribe tu edad \n",
      "17\n",
      "ana el doble de tu edad es 34\n"
     ]
    }
   ],
   "source": [
    "nombre=input(\"Dame tu nombre \\n\")\n",
    "edad=int(input(\"Escribe tu edad \\n\"))\n",
    "print(\"{} el doble de tu edad es {}\".format(nombre,edad*2))"
   ]
  },
  {
   "cell_type": "code",
   "execution_count": 10,
   "metadata": {},
   "outputs": [],
   "source": [
    "def resultado(cf):\n",
    "    if cf>=6:\n",
    "        r=\"Aprobado\"\n",
    "    else:\n",
    "        r=\"reprobado\"\n",
    "    return r"
   ]
  },
  {
   "cell_type": "code",
   "execution_count": 11,
   "metadata": {},
   "outputs": [
    {
     "name": "stdout",
     "output_type": "stream",
     "text": [
      "Dame la calificación del alumno7.7\n",
      "El alumno está Aprobado\n"
     ]
    }
   ],
   "source": [
    "cf=float(input(\"Dame la calificación del alumno\"))\n",
    "print(\"El alumno está\", resultado(cf))"
   ]
  },
  {
   "cell_type": "markdown",
   "metadata": {},
   "source": [
    "Realiza un programa que calcule los impuestos a pagar de un sueldo en particular de acuerdo con los siguientes criterios:\n",
    "\n",
    "si gana menos de 5,000----3%\n",
    "Entre 5,000 y 10,000----10%\n",
    "Entre 10,000 incluido y 20,000----15%\n",
    "Mayores o iguales a 20,000----30%\n",
    "Tu programa debera solicitar el sueldo a calcular"
   ]
  },
  {
   "cell_type": "code",
   "execution_count": 12,
   "metadata": {},
   "outputs": [
    {
     "name": "stdout",
     "output_type": "stream",
     "text": [
      "Dame el sueldo1600\n",
      "El impuesto que debe pagar por un sueldo $1600.0 es de $48.0\n"
     ]
    }
   ],
   "source": [
    "#Forma 1\n",
    "sueldo=float(input(\"Dame el sueldo\"))\n",
    "if sueldo<5000:\n",
    "    i=sueldo*.03\n",
    "else:\n",
    "    if sueldo>=5000 and sueldo<10000:\n",
    "        i=sueldo*.1\n",
    "    else:\n",
    "        if sueldo>=10000 and sueldo<20000:\n",
    "                i=sueldo*.15\n",
    "        else:\n",
    "            i=sueldo*.30\n",
    "print(\"El impuesto que debe pagar por un sueldo ${} es de ${}\".format(sueldo,i))"
   ]
  },
  {
   "cell_type": "code",
   "execution_count": 13,
   "metadata": {},
   "outputs": [
    {
     "name": "stdout",
     "output_type": "stream",
     "text": [
      "Dame el sueldo1600\n",
      "El impuesto que debe pagar por un sueldo 1600.0 es de $ 48.0\n"
     ]
    }
   ],
   "source": [
    "#Forma 2\n",
    "sueldo=float(input(\"Dame el sueldo\"))\n",
    "if sueldo<5000:\n",
    "    i=sueldo*.03\n",
    "else:\n",
    "    if sueldo>=5000 and sueldo<10000:\n",
    "        i=sueldo*.1\n",
    "    else:\n",
    "        if sueldo>=10000 and sueldo<20000:\n",
    "                i=sueldo*.15\n",
    "        else:\n",
    "            i=sueldo*.30\n",
    "print(\"El impuesto que debe pagar por un sueldo\",sueldo,\"es de $\",i)"
   ]
  },
  {
   "cell_type": "code",
   "execution_count": 14,
   "metadata": {},
   "outputs": [
    {
     "name": "stdout",
     "output_type": "stream",
     "text": [
      "Dame tu sueldo1600\n",
      "El impuesto que debe pagar por un sueldo 1600.0 es de $ 48.0\n"
     ]
    }
   ],
   "source": [
    "#Forma 3\n",
    "sueldo2=float(input(\"Dame tu sueldo\"))\n",
    "if sueldo2<5000:\n",
    "    imp=sueldo2*.03\n",
    "elif sueldo2<10000:\n",
    "    imp=sueldo2*.1\n",
    "elif sueldo2<20000:\n",
    "    imp=sueldo2*.15\n",
    "else:\n",
    "    imp=sueldo2*.3\n",
    "print(\"El impuesto que debe pagar por un sueldo\",sueldo2,\"es de $\",imp)"
   ]
  },
  {
   "cell_type": "code",
   "execution_count": 15,
   "metadata": {},
   "outputs": [],
   "source": [
    "def ppy (h,p): # h=horas, p=proyecto\n",
    "    if p==\"A\" or p==\"a\":\n",
    "        pago=h*120\n",
    "    else:\n",
    "        pago=h*180\n",
    "    return pago"
   ]
  },
  {
   "cell_type": "code",
   "execution_count": 16,
   "metadata": {},
   "outputs": [
    {
     "data": {
      "text/plain": [
       "2400"
      ]
     },
     "execution_count": 16,
     "metadata": {},
     "output_type": "execute_result"
    }
   ],
   "source": [
    "ppy(20,\"a\")"
   ]
  },
  {
   "cell_type": "code",
   "execution_count": 17,
   "metadata": {},
   "outputs": [
    {
     "data": {
      "text/plain": [
       "1800"
      ]
     },
     "execution_count": 17,
     "metadata": {},
     "output_type": "execute_result"
    }
   ],
   "source": [
    "ppy(10,\"B\")"
   ]
  },
  {
   "cell_type": "code",
   "execution_count": 18,
   "metadata": {},
   "outputs": [
    {
     "name": "stdout",
     "output_type": "stream",
     "text": [
      "Tu regalo es Computadora\n"
     ]
    }
   ],
   "source": [
    "dado=randint(1,6,1)\n",
    "if dado==1:\n",
    "    reg=\"Computadora\"\n",
    "else:\n",
    "    if dado==2:\n",
    "        reg=\"Pantalla\"\n",
    "    else:\n",
    "        if dado==3:\n",
    "            reg=\"iPhone\"\n",
    "        else:\n",
    "            if dado==4:\n",
    "                reg=\"iPad PRO\"\n",
    "            else:\n",
    "                if dado==5:\n",
    "                    reg=\"Auto\"\n",
    "                else:\n",
    "                    reg=\"Casa\"\n",
    "print(\"Tu regalo es\",reg)"
   ]
  },
  {
   "cell_type": "code",
   "execution_count": 19,
   "metadata": {},
   "outputs": [],
   "source": [
    "def ce(edad):\n",
    "    if edad<3:\n",
    "        cat=\"bebé\"\n",
    "    else:\n",
    "        if edad<10:\n",
    "            cat=\"peque\"\n",
    "        else:\n",
    "            if edad<18:\n",
    "                cat=\"adolescente\"\n",
    "            else:\n",
    "                if edad<30:\n",
    "                    cat=\"joven\"\n",
    "                else:\n",
    "                    if edad<50:\n",
    "                        cat=\"maduro\"\n",
    "                    else:\n",
    "                        if edad<65:\n",
    "                            cat=\"adulto\"\n",
    "                        else:\n",
    "                            cat=\"tercera edad\"\n",
    "    return cat"
   ]
  },
  {
   "cell_type": "code",
   "execution_count": 20,
   "metadata": {},
   "outputs": [
    {
     "data": {
      "text/plain": [
       "'adolescente'"
      ]
     },
     "execution_count": 20,
     "metadata": {},
     "output_type": "execute_result"
    }
   ],
   "source": [
    "ce(10)"
   ]
  },
  {
   "cell_type": "markdown",
   "metadata": {},
   "source": [
    "Tuplas"
   ]
  },
  {
   "cell_type": "code",
   "execution_count": 21,
   "metadata": {},
   "outputs": [
    {
     "data": {
      "text/plain": [
       "tuple"
      ]
     },
     "execution_count": 21,
     "metadata": {},
     "output_type": "execute_result"
    }
   ],
   "source": [
    "a=1,56,\"hola\",\"a\",\"adiós\",7\n",
    "type(a)"
   ]
  },
  {
   "cell_type": "code",
   "execution_count": 22,
   "metadata": {},
   "outputs": [
    {
     "data": {
      "text/plain": [
       "1"
      ]
     },
     "execution_count": 22,
     "metadata": {},
     "output_type": "execute_result"
    }
   ],
   "source": [
    "a.count(\"hola\")"
   ]
  },
  {
   "cell_type": "code",
   "execution_count": 23,
   "metadata": {},
   "outputs": [
    {
     "data": {
      "text/plain": [
       "2"
      ]
     },
     "execution_count": 23,
     "metadata": {},
     "output_type": "execute_result"
    }
   ],
   "source": [
    "a.index(\"hola\")"
   ]
  },
  {
   "cell_type": "code",
   "execution_count": 24,
   "metadata": {},
   "outputs": [
    {
     "data": {
      "text/plain": [
       "0"
      ]
     },
     "execution_count": 24,
     "metadata": {},
     "output_type": "execute_result"
    }
   ],
   "source": [
    "a.index(1)"
   ]
  },
  {
   "cell_type": "code",
   "execution_count": 25,
   "metadata": {},
   "outputs": [
    {
     "data": {
      "text/plain": [
       "(1, 56, 'hola')"
      ]
     },
     "execution_count": 25,
     "metadata": {},
     "output_type": "execute_result"
    }
   ],
   "source": [
    "a[0:3] # [primero incluido:último no incluido]"
   ]
  },
  {
   "cell_type": "code",
   "execution_count": 27,
   "metadata": {},
   "outputs": [
    {
     "data": {
      "text/plain": [
       "tuple"
      ]
     },
     "execution_count": 27,
     "metadata": {},
     "output_type": "execute_result"
    }
   ],
   "source": [
    "b=(12,45,67,\"excel\",\"python\")\n",
    "type(b)"
   ]
  },
  {
   "cell_type": "code",
   "execution_count": 28,
   "metadata": {},
   "outputs": [
    {
     "data": {
      "text/plain": [
       "('excel', 'python')"
      ]
     },
     "execution_count": 28,
     "metadata": {},
     "output_type": "execute_result"
    }
   ],
   "source": [
    "b[3:5]"
   ]
  },
  {
   "cell_type": "markdown",
   "metadata": {},
   "source": [
    "Textos"
   ]
  },
  {
   "cell_type": "code",
   "execution_count": 29,
   "metadata": {},
   "outputs": [
    {
     "data": {
      "text/plain": [
       "str"
      ]
     },
     "execution_count": 29,
     "metadata": {},
     "output_type": "execute_result"
    }
   ],
   "source": [
    "t1=\"Python me encanta\"\n",
    "type(t1)"
   ]
  },
  {
   "cell_type": "code",
   "execution_count": 30,
   "metadata": {},
   "outputs": [
    {
     "data": {
      "text/plain": [
       "'PYTHON ME ENCANTA'"
      ]
     },
     "execution_count": 30,
     "metadata": {},
     "output_type": "execute_result"
    }
   ],
   "source": [
    "t2=t1.upper()\n",
    "t2"
   ]
  },
  {
   "cell_type": "code",
   "execution_count": 31,
   "metadata": {},
   "outputs": [
    {
     "data": {
      "text/plain": [
       "'python me encanta'"
      ]
     },
     "execution_count": 31,
     "metadata": {},
     "output_type": "execute_result"
    }
   ],
   "source": [
    "t3=t2.lower()\n",
    "t3"
   ]
  },
  {
   "cell_type": "code",
   "execution_count": 32,
   "metadata": {},
   "outputs": [
    {
     "data": {
      "text/plain": [
       "'Python me encanta'"
      ]
     },
     "execution_count": 32,
     "metadata": {},
     "output_type": "execute_result"
    }
   ],
   "source": [
    "t3.capitalize()"
   ]
  },
  {
   "cell_type": "code",
   "execution_count": 33,
   "metadata": {},
   "outputs": [
    {
     "data": {
      "text/plain": [
       "2"
      ]
     },
     "execution_count": 33,
     "metadata": {},
     "output_type": "execute_result"
    }
   ],
   "source": [
    "t1.count(\"a\")"
   ]
  },
  {
   "cell_type": "code",
   "execution_count": 34,
   "metadata": {},
   "outputs": [
    {
     "data": {
      "text/plain": [
       "2"
      ]
     },
     "execution_count": 34,
     "metadata": {},
     "output_type": "execute_result"
    }
   ],
   "source": [
    "t1.count(\"e\")"
   ]
  },
  {
   "cell_type": "code",
   "execution_count": 35,
   "metadata": {},
   "outputs": [
    {
     "data": {
      "text/plain": [
       "5"
      ]
     },
     "execution_count": 35,
     "metadata": {},
     "output_type": "execute_result"
    }
   ],
   "source": [
    "t1.index(\"n\")"
   ]
  },
  {
   "cell_type": "code",
   "execution_count": 36,
   "metadata": {},
   "outputs": [
    {
     "data": {
      "text/plain": [
       "'encanta'"
      ]
     },
     "execution_count": 36,
     "metadata": {},
     "output_type": "execute_result"
    }
   ],
   "source": [
    "t1[10:17]"
   ]
  },
  {
   "cell_type": "code",
   "execution_count": 37,
   "metadata": {},
   "outputs": [
    {
     "data": {
      "text/plain": [
       "'Python mE Encanta'"
      ]
     },
     "execution_count": 37,
     "metadata": {},
     "output_type": "execute_result"
    }
   ],
   "source": [
    "t1.replace(\"e\",\"E\")"
   ]
  },
  {
   "cell_type": "markdown",
   "metadata": {},
   "source": [
    "Conjuntos"
   ]
  },
  {
   "cell_type": "code",
   "execution_count": 38,
   "metadata": {},
   "outputs": [
    {
     "name": "stdout",
     "output_type": "stream",
     "text": [
      "['Hola', 'buenos', 'dias']\n"
     ]
    }
   ],
   "source": [
    "t1=\"Hola buenos dias\"\n",
    "l1=t1.split()\n",
    "print(l1)"
   ]
  },
  {
   "cell_type": "code",
   "execution_count": 39,
   "metadata": {},
   "outputs": [
    {
     "name": "stdout",
     "output_type": "stream",
     "text": [
      "['Hola', 'buenos', 'dias']\n"
     ]
    }
   ],
   "source": [
    "l2=[\"Hola\",\"buenos\", \"dias\"]\n",
    "print(l2)"
   ]
  },
  {
   "cell_type": "code",
   "execution_count": 40,
   "metadata": {},
   "outputs": [
    {
     "name": "stdout",
     "output_type": "stream",
     "text": [
      "['naranja', 'rojo', 'azul', 'amarillo', 'naranja', 'rojo']\n",
      "['rosa', 'azul', 'rojo', 'verde', 'gris', 'rosa', 'morado']\n",
      "['naranja', 'azul', 'gris', 'negro', 'azul', 'gris']\n"
     ]
    }
   ],
   "source": [
    "t2=\"naranja rojo azul amarillo naranja rojo\"\n",
    "t3=\"rosa azul rojo verde gris rosa morado\"\n",
    "t4=\"naranja azul gris negro azul gris\"\n",
    "l3=t2.split()\n",
    "l4=t3.split()\n",
    "l5=t4.split()\n",
    "print(l3)\n",
    "print(l4)\n",
    "print(l5)"
   ]
  },
  {
   "cell_type": "code",
   "execution_count": 41,
   "metadata": {},
   "outputs": [
    {
     "name": "stdout",
     "output_type": "stream",
     "text": [
      "{'amarillo', 'azul', 'rojo', 'naranja'}\n",
      "{'rojo', 'rosa', 'azul', 'verde', 'morado', 'gris'}\n",
      "{'azul', 'gris', 'negro', 'naranja'}\n"
     ]
    }
   ],
   "source": [
    "c1=set(l3) \n",
    "c2=set(l4)\n",
    "c3=set(l5)\n",
    "print(c1)\n",
    "print(c2)\n",
    "print(c3)"
   ]
  },
  {
   "cell_type": "code",
   "execution_count": 42,
   "metadata": {},
   "outputs": [
    {
     "name": "stdout",
     "output_type": "stream",
     "text": [
      "Num elemenento conjunto 4\n",
      "Num elemenento conjunto 6\n",
      "Num elemenento conjunto 4\n"
     ]
    }
   ],
   "source": [
    "print(\"Num elemenento conjunto\",len(c1)) \n",
    "print(\"Num elemenento conjunto\",len(c2))\n",
    "print(\"Num elemenento conjunto\",len(c3))"
   ]
  },
  {
   "cell_type": "code",
   "execution_count": 43,
   "metadata": {},
   "outputs": [
    {
     "name": "stdout",
     "output_type": "stream",
     "text": [
      "num elemento lista l3 6\n",
      "num elemento lista l4 7\n",
      "num elemento lista l5 6\n"
     ]
    }
   ],
   "source": [
    "print(\"num elemento lista l3\",len(l3))\n",
    "print(\"num elemento lista l4\",len(l4))\n",
    "print(\"num elemento lista l5\",len(l5))"
   ]
  },
  {
   "cell_type": "code",
   "execution_count": 44,
   "metadata": {},
   "outputs": [
    {
     "name": "stdout",
     "output_type": "stream",
     "text": [
      "{'rojo', 'rosa', 'azul', 'verde', 'morado', 'amarillo', 'gris', 'naranja'}\n",
      "8\n"
     ]
    }
   ],
   "source": [
    "#unión\n",
    "\n",
    "c1c2=c1|c2\n",
    "print(c1c2)\n",
    "print(len(c1c2))"
   ]
  },
  {
   "cell_type": "code",
   "execution_count": 45,
   "metadata": {},
   "outputs": [
    {
     "data": {
      "text/plain": [
       "{'amarillo', 'azul', 'gris', 'morado', 'naranja', 'rojo', 'rosa', 'verde'}"
      ]
     },
     "execution_count": 45,
     "metadata": {},
     "output_type": "execute_result"
    }
   ],
   "source": [
    "#forma 2\n",
    "c1.union(c2)"
   ]
  },
  {
   "cell_type": "code",
   "execution_count": 46,
   "metadata": {},
   "outputs": [
    {
     "data": {
      "text/plain": [
       "{'azul', 'rojo'}"
      ]
     },
     "execution_count": 46,
     "metadata": {},
     "output_type": "execute_result"
    }
   ],
   "source": [
    "#intersección\n",
    "c1&c2"
   ]
  },
  {
   "cell_type": "code",
   "execution_count": 47,
   "metadata": {},
   "outputs": [
    {
     "data": {
      "text/plain": [
       "{'azul', 'rojo'}"
      ]
     },
     "execution_count": 47,
     "metadata": {},
     "output_type": "execute_result"
    }
   ],
   "source": [
    "#forma 2\n",
    "c1.intersection(c2)"
   ]
  },
  {
   "cell_type": "code",
   "execution_count": 48,
   "metadata": {},
   "outputs": [
    {
     "data": {
      "text/plain": [
       "{'amarillo', 'naranja'}"
      ]
     },
     "execution_count": 48,
     "metadata": {},
     "output_type": "execute_result"
    }
   ],
   "source": [
    "#diferencia \n",
    "c1-c2 #no es conmutativa"
   ]
  },
  {
   "cell_type": "code",
   "execution_count": 49,
   "metadata": {},
   "outputs": [
    {
     "data": {
      "text/plain": [
       "{'amarillo', 'naranja'}"
      ]
     },
     "execution_count": 49,
     "metadata": {},
     "output_type": "execute_result"
    }
   ],
   "source": [
    "#forma 2\n",
    "c1.difference(c2)"
   ]
  },
  {
   "cell_type": "markdown",
   "metadata": {},
   "source": [
    "función range"
   ]
  },
  {
   "cell_type": "code",
   "execution_count": 50,
   "metadata": {},
   "outputs": [
    {
     "name": "stdout",
     "output_type": "stream",
     "text": [
      "[2, 4, 6, 8, 10, 12, 14, 16, 18, 20, 22, 24, 26, 28, 30, 32, 34, 36, 38, 40]\n"
     ]
    }
   ],
   "source": [
    "r1=range(2,41,2) #inicial_incluido, final_no_incluido, incremento\n",
    "print(list(r1))"
   ]
  },
  {
   "cell_type": "code",
   "execution_count": 51,
   "metadata": {},
   "outputs": [
    {
     "name": "stdout",
     "output_type": "stream",
     "text": [
      "[3, 6, 9, 12, 15, 18, 21, 24, 27, 30, 33, 36, 39, 42, 45, 48, 51, 54, 57, 60]\n"
     ]
    }
   ],
   "source": [
    "r2=range(3,61,3)\n",
    "print(list(r2))"
   ]
  },
  {
   "cell_type": "code",
   "execution_count": 52,
   "metadata": {},
   "outputs": [
    {
     "data": {
      "text/plain": [
       "[1, 2, 3, 4, 5, 6, 7, 8, 9, 10, 11, 12, 13, 14, 15, 16, 17, 18, 19, 20]"
      ]
     },
     "execution_count": 52,
     "metadata": {},
     "output_type": "execute_result"
    }
   ],
   "source": [
    "list(range(1,21,1))"
   ]
  },
  {
   "cell_type": "code",
   "execution_count": 53,
   "metadata": {},
   "outputs": [
    {
     "name": "stdout",
     "output_type": "stream",
     "text": [
      "[7, 14, 21, 28, 35, 42, 49, 56, 63, 70]\n"
     ]
    }
   ],
   "source": [
    "r4=list(range(7,71,7))\n",
    "print(r4)"
   ]
  },
  {
   "cell_type": "markdown",
   "metadata": {},
   "source": [
    "conj7-multiplos de 7\n",
    "\n",
    "conj2-multiplos de 2\n",
    "\n",
    "conj5-multiplos de 5\n",
    "\n",
    "¿Cuál es el conjunto de los números que son múltiplos de 5 y de 7?\n",
    "\n",
    "¿Cuál es el conjunto de los números que son múltiplos de 2 y de 5?\n",
    "\n",
    "Determina cuántos son"
   ]
  },
  {
   "cell_type": "code",
   "execution_count": 54,
   "metadata": {},
   "outputs": [
    {
     "name": "stdout",
     "output_type": "stream",
     "text": [
      "[7, 14, 21, 28, 35, 42, 49, 56, 63, 70, 77, 84, 91, 98, 105, 112, 119, 126, 133, 140, 147, 154, 161, 168, 175, 182, 189, 196, 203, 210]\n",
      "[2, 4, 6, 8, 10, 12, 14, 16, 18, 20, 22, 24, 26, 28, 30, 32, 34, 36, 38, 40, 42, 44, 46, 48, 50, 52, 54, 56, 58, 60]\n",
      "[5, 10, 15, 20, 25, 30, 35, 40, 45, 50, 55, 60, 65, 70, 75, 80, 85, 90, 95, 100, 105, 110, 115, 120, 125, 130, 135, 140, 145, 150]\n"
     ]
    }
   ],
   "source": [
    "l7=list(range(7,211,7))\n",
    "print(l7)\n",
    "l2=list(range(2,61,2))\n",
    "print(l2)\n",
    "l5=list(range(5,151,5))\n",
    "print(l5)"
   ]
  },
  {
   "cell_type": "code",
   "execution_count": 55,
   "metadata": {},
   "outputs": [
    {
     "name": "stdout",
     "output_type": "stream",
     "text": [
      "{133, 7, 140, 14, 147, 21, 154, 28, 161, 35, 168, 42, 175, 49, 182, 56, 189, 63, 196, 70, 203, 77, 210, 84, 91, 98, 105, 112, 119, 126}\n",
      "{2, 4, 6, 8, 10, 12, 14, 16, 18, 20, 22, 24, 26, 28, 30, 32, 34, 36, 38, 40, 42, 44, 46, 48, 50, 52, 54, 56, 58, 60}\n",
      "{130, 5, 135, 10, 140, 15, 145, 20, 150, 25, 30, 35, 40, 45, 50, 55, 60, 65, 70, 75, 80, 85, 90, 95, 100, 105, 110, 115, 120, 125}\n"
     ]
    }
   ],
   "source": [
    "conj7=set(l7)\n",
    "conj2=set(l2)\n",
    "conj5=set(l5)\n",
    "print(conj7)\n",
    "print(conj2)\n",
    "print(conj5)"
   ]
  },
  {
   "cell_type": "code",
   "execution_count": 56,
   "metadata": {},
   "outputs": [
    {
     "name": "stdout",
     "output_type": "stream",
     "text": [
      "30\n",
      "30\n",
      "30\n"
     ]
    }
   ],
   "source": [
    "print(len(conj7))\n",
    "print(len(conj2))\n",
    "print(len(conj5))"
   ]
  },
  {
   "cell_type": "code",
   "execution_count": 57,
   "metadata": {},
   "outputs": [
    {
     "name": "stdout",
     "output_type": "stream",
     "text": [
      "{105, 35, 140, 70}\n"
     ]
    }
   ],
   "source": [
    "c7c5=conj7&conj5\n",
    "print(c7c5)"
   ]
  },
  {
   "cell_type": "code",
   "execution_count": 58,
   "metadata": {},
   "outputs": [
    {
     "name": "stdout",
     "output_type": "stream",
     "text": [
      "{40, 10, 50, 20, 60, 30}\n"
     ]
    }
   ],
   "source": [
    "c2c5=conj2&conj5\n",
    "print(c2c5)"
   ]
  },
  {
   "cell_type": "markdown",
   "metadata": {},
   "source": [
    "Instrucciones repetitivas"
   ]
  },
  {
   "cell_type": "code",
   "execution_count": 59,
   "metadata": {},
   "outputs": [
    {
     "name": "stdout",
     "output_type": "stream",
     "text": [
      "El valor de i es 0\n",
      "El valor de i es 1\n",
      "El valor de i es 2\n",
      "El valor de i es 3\n",
      "El valor de i es 4\n"
     ]
    }
   ],
   "source": [
    "n=5\n",
    "i=0\n",
    "while i<n:\n",
    "    print(\"El valor de i es\",i)\n",
    "    i=i+1 #incrementar i"
   ]
  },
  {
   "cell_type": "code",
   "execution_count": 60,
   "metadata": {},
   "outputs": [
    {
     "name": "stdout",
     "output_type": "stream",
     "text": [
      "[7 7 1 4 9 2 8 6 2 8 8 2 4 9 8 6 1 6 2 2]\n",
      "20\n"
     ]
    }
   ],
   "source": [
    "prom=randint(1,11,20)\n",
    "print(prom)\n",
    "print(len(prom))"
   ]
  },
  {
   "cell_type": "code",
   "execution_count": 61,
   "metadata": {},
   "outputs": [
    {
     "name": "stdout",
     "output_type": "stream",
     "text": [
      "La calificación del alumno 1 es 7\n",
      "La calificación del alumno 2 es 7\n",
      "La calificación del alumno 3 es 1\n",
      "La calificación del alumno 4 es 4\n",
      "La calificación del alumno 5 es 9\n",
      "La calificación del alumno 6 es 2\n",
      "La calificación del alumno 7 es 8\n",
      "La calificación del alumno 8 es 6\n",
      "La calificación del alumno 9 es 2\n",
      "La calificación del alumno 10 es 8\n",
      "La calificación del alumno 11 es 8\n",
      "La calificación del alumno 12 es 2\n",
      "La calificación del alumno 13 es 4\n",
      "La calificación del alumno 14 es 9\n",
      "La calificación del alumno 15 es 8\n",
      "La calificación del alumno 16 es 6\n",
      "La calificación del alumno 17 es 1\n",
      "La calificación del alumno 18 es 6\n",
      "La calificación del alumno 19 es 2\n",
      "La calificación del alumno 20 es 2\n"
     ]
    }
   ],
   "source": [
    "i=0\n",
    "while i<len(prom):\n",
    "    print(\"La calificación del alumno\",i+1,\"es\",prom[i])\n",
    "    i=i+1"
   ]
  },
  {
   "cell_type": "code",
   "execution_count": 62,
   "metadata": {},
   "outputs": [
    {
     "name": "stdout",
     "output_type": "stream",
     "text": [
      "El alumno 1 está Aprobado\n",
      "El alumno 2 está Aprobado\n",
      "El alumno 3 está Reprobado\n",
      "El alumno 4 está Reprobado\n",
      "El alumno 5 está Aprobado\n",
      "El alumno 6 está Reprobado\n",
      "El alumno 7 está Aprobado\n",
      "El alumno 8 está Reprobado\n",
      "El alumno 9 está Reprobado\n",
      "El alumno 10 está Aprobado\n",
      "El alumno 11 está Aprobado\n",
      "El alumno 12 está Reprobado\n",
      "El alumno 13 está Reprobado\n",
      "El alumno 14 está Aprobado\n",
      "El alumno 15 está Aprobado\n",
      "El alumno 16 está Reprobado\n",
      "El alumno 17 está Reprobado\n",
      "El alumno 18 está Reprobado\n",
      "El alumno 19 está Reprobado\n",
      "El alumno 20 está Reprobado\n"
     ]
    }
   ],
   "source": [
    "i=0\n",
    "while i<len(prom):\n",
    "    if prom[i]<=6:\n",
    "        r=\"Reprobado\"\n",
    "    else:\n",
    "        r=\"Aprobado\"\n",
    "    print (\"El alumno\",i+1,\"está\",r)\n",
    "    i=i+1"
   ]
  },
  {
   "cell_type": "code",
   "execution_count": 63,
   "metadata": {},
   "outputs": [
    {
     "name": "stdout",
     "output_type": "stream",
     "text": [
      "La lista 1 \n",
      " [239 264 445 110 130 478 277 424 205 225 410 313 407 274 175 152 204 444\n",
      " 366 172]\n",
      "La lista 2 \n",
      " [17 16 41 39 36 31 44 18 24 22 12 17 16 31 13 10 15 24 22 49]\n"
     ]
    }
   ],
   "source": [
    "num1=randint(100,500,20)\n",
    "num2=randint(10,50,20)\n",
    "print(\"La lista 1 \\n\",num1)\n",
    "print(\"La lista 2 \\n\",num2)"
   ]
  },
  {
   "cell_type": "code",
   "execution_count": 64,
   "metadata": {},
   "outputs": [
    {
     "name": "stdout",
     "output_type": "stream",
     "text": [
      "la resta de 239 menos 17 es 222\n",
      "la resta de 264 menos 16 es 248\n",
      "la resta de 445 menos 41 es 404\n",
      "la resta de 110 menos 39 es 71\n",
      "la resta de 130 menos 36 es 94\n",
      "la resta de 478 menos 31 es 447\n",
      "la resta de 277 menos 44 es 233\n",
      "la resta de 424 menos 18 es 406\n",
      "la resta de 205 menos 24 es 181\n",
      "la resta de 225 menos 22 es 203\n",
      "la resta de 410 menos 12 es 398\n",
      "la resta de 313 menos 17 es 296\n",
      "la resta de 407 menos 16 es 391\n",
      "la resta de 274 menos 31 es 243\n",
      "la resta de 175 menos 13 es 162\n",
      "la resta de 152 menos 10 es 142\n",
      "la resta de 204 menos 15 es 189\n",
      "la resta de 444 menos 24 es 420\n",
      "la resta de 366 menos 22 es 344\n",
      "la resta de 172 menos 49 es 123\n"
     ]
    }
   ],
   "source": [
    "i=0\n",
    "while i<len(num1):\n",
    "    print(\"la resta de\",num1[i],\"menos\",num2[i],\"es\",num1[i]-num2[i])\n",
    "    i=i+1"
   ]
  },
  {
   "cell_type": "code",
   "execution_count": 65,
   "metadata": {},
   "outputs": [
    {
     "name": "stdout",
     "output_type": "stream",
     "text": [
      "Lista de nombres: ['Ana', 'Andrea', 'Claudia', 'Gonzalo', 'Rodrigo', 'Paola']\n",
      "Lista de edades: [18 18 20 18 18 19]\n"
     ]
    }
   ],
   "source": [
    "nom1=\"Ana Andrea Claudia Gonzalo Rodrigo Paola\"\n",
    "nom=nom1.split()\n",
    "edad=randint(18,21,6)\n",
    "print(\"Lista de nombres:\",nom)\n",
    "print(\"Lista de edades:\",edad)"
   ]
  },
  {
   "cell_type": "code",
   "execution_count": 67,
   "metadata": {},
   "outputs": [
    {
     "name": "stdout",
     "output_type": "stream",
     "text": [
      "Ana tiene 18 años\n",
      "Andrea tiene 18 años\n",
      "Claudia tiene 20 años\n",
      "Gonzalo tiene 18 años\n",
      "Rodrigo tiene 18 años\n",
      "Paola tiene 19 años\n"
     ]
    }
   ],
   "source": [
    "i=0\n",
    "while i<len(nom):\n",
    "    print(nom[i],\"tiene\",edad[i],\"años\")\n",
    "    i=i+1"
   ]
  },
  {
   "cell_type": "code",
   "execution_count": 66,
   "metadata": {},
   "outputs": [
    {
     "data": {
      "text/plain": [
       "[5]"
      ]
     },
     "execution_count": 66,
     "metadata": {},
     "output_type": "execute_result"
    }
   ],
   "source": [
    "#listas vacias\n",
    "prueba=[]\n",
    "prueba.append(5)\n",
    "prueba"
   ]
  },
  {
   "cell_type": "code",
   "execution_count": 68,
   "metadata": {},
   "outputs": [],
   "source": [
    "#Define una función que calcule  el IVA y como entrada pida una lista de montos\n",
    "monto=randint(5000,10000,100)"
   ]
  },
  {
   "cell_type": "code",
   "execution_count": 69,
   "metadata": {},
   "outputs": [],
   "source": [
    "def iva(monto):\n",
    "    i=0\n",
    "    sal=[]\n",
    "    while i<len(monto):\n",
    "        r=round(monto[i]*.16,2)\n",
    "        sal.append(r)\n",
    "        i=i+1\n",
    "    return sal"
   ]
  },
  {
   "cell_type": "code",
   "execution_count": 70,
   "metadata": {},
   "outputs": [
    {
     "name": "stdout",
     "output_type": "stream",
     "text": [
      "La lista de ivas es: [1272.96, 1068.96, 1416.8, 1412.0, 980.16, 1015.52, 992.0, 989.12, 1524.0, 1405.76, 885.28, 876.48, 1104.8, 1454.08, 1532.8, 1236.32, 954.4, 962.72, 1190.88, 826.4, 975.52, 1012.96, 1504.16, 1452.96, 812.64, 1537.28, 1251.68, 1232.32, 1507.04, 821.28, 1163.36, 1583.04, 1181.12, 1532.64, 1215.84, 1066.56, 1588.48, 1277.92, 1449.44, 1505.44, 1124.48, 1114.08, 905.6, 809.12, 1263.52, 1495.36, 1572.48, 1004.48, 890.4, 1399.04, 976.32, 915.68, 1515.2, 834.88, 1438.56, 1420.16, 866.24, 1192.32, 1044.0, 1580.8, 1326.72, 910.56, 1073.28, 918.88, 998.08, 875.04, 1400.64, 813.12, 1425.6, 1188.64, 1423.36, 1254.88, 1140.0, 1192.48, 1465.92, 1331.04, 1324.16, 1371.04, 1200.32, 1428.96, 874.4, 1298.56, 1428.64, 1380.96, 1444.16, 1531.36, 1558.56, 930.08, 948.8, 960.64, 952.0, 1398.88, 1496.48, 1306.72, 1124.96, 1550.56, 1250.56, 1530.4, 1055.68, 902.24]\n"
     ]
    }
   ],
   "source": [
    "print(\"La lista de ivas es:\",iva(monto))"
   ]
  },
  {
   "cell_type": "code",
   "execution_count": 71,
   "metadata": {},
   "outputs": [
    {
     "name": "stdout",
     "output_type": "stream",
     "text": [
      "['p', 'y', 't', 'h', 'o', 'n', ' ', 'e', 's', ' ', 'u', 'n', ' ', 'l', 'e', 'n', 'g', 'u', 'a', 'j', 'e', ' ', 'd', 'e', ' ', 'p', 'r', 'o', 'g', 'r', 'a', 'm', 'a', 'c', 'i', 'ó', 'n']\n"
     ]
    }
   ],
   "source": [
    "t=\"python es un lenguaje de programación\"\n",
    "l=list(t)\n",
    "print(l)"
   ]
  },
  {
   "cell_type": "code",
   "execution_count": 72,
   "metadata": {},
   "outputs": [
    {
     "name": "stdout",
     "output_type": "stream",
     "text": [
      "el elemento 36 es n\n",
      "el elemento 35 es ó\n",
      "el elemento 34 es i\n",
      "el elemento 33 es c\n",
      "el elemento 32 es a\n",
      "el elemento 31 es m\n",
      "el elemento 30 es a\n",
      "el elemento 29 es r\n",
      "el elemento 28 es g\n",
      "el elemento 27 es o\n",
      "el elemento 26 es r\n",
      "el elemento 25 es p\n",
      "el elemento 24 es  \n",
      "el elemento 23 es e\n",
      "el elemento 22 es d\n",
      "el elemento 21 es  \n",
      "el elemento 20 es e\n",
      "el elemento 19 es j\n",
      "el elemento 18 es a\n",
      "el elemento 17 es u\n",
      "el elemento 16 es g\n",
      "el elemento 15 es n\n",
      "el elemento 14 es e\n",
      "el elemento 13 es l\n",
      "el elemento 12 es  \n",
      "el elemento 11 es n\n",
      "el elemento 10 es u\n",
      "el elemento 9 es  \n",
      "el elemento 8 es s\n",
      "el elemento 7 es e\n",
      "el elemento 6 es  \n",
      "el elemento 5 es n\n",
      "el elemento 4 es o\n",
      "el elemento 3 es h\n",
      "el elemento 2 es t\n",
      "el elemento 1 es y\n",
      "el elemento 0 es p\n",
      "el elemento -1 es n\n",
      "el elemento -2 es ó\n",
      "el elemento -3 es i\n",
      "el elemento -4 es c\n",
      "el elemento -5 es a\n",
      "el elemento -6 es m\n",
      "el elemento -7 es a\n",
      "el elemento -8 es r\n",
      "el elemento -9 es g\n",
      "el elemento -10 es o\n",
      "el elemento -11 es r\n",
      "el elemento -12 es p\n",
      "el elemento -13 es  \n",
      "el elemento -14 es e\n",
      "el elemento -15 es d\n",
      "el elemento -16 es  \n",
      "el elemento -17 es e\n",
      "el elemento -18 es j\n",
      "el elemento -19 es a\n",
      "el elemento -20 es u\n",
      "el elemento -21 es g\n",
      "el elemento -22 es n\n",
      "el elemento -23 es e\n",
      "el elemento -24 es l\n",
      "el elemento -25 es  \n",
      "el elemento -26 es n\n",
      "el elemento -27 es u\n",
      "el elemento -28 es  \n",
      "el elemento -29 es s\n",
      "el elemento -30 es e\n",
      "el elemento -31 es  \n",
      "el elemento -32 es n\n",
      "el elemento -33 es o\n",
      "el elemento -34 es h\n",
      "el elemento -35 es t\n",
      "el elemento -36 es y\n",
      "el elemento -37 es p\n"
     ]
    },
    {
     "ename": "IndexError",
     "evalue": "list index out of range",
     "output_type": "error",
     "traceback": [
      "\u001b[1;31m---------------------------------------------------------------------------\u001b[0m",
      "\u001b[1;31mIndexError\u001b[0m                                Traceback (most recent call last)",
      "\u001b[1;32m<ipython-input-72-a2ad042ab2c7>\u001b[0m in \u001b[0;36m<module>\u001b[1;34m\u001b[0m\n\u001b[0;32m      1\u001b[0m \u001b[0mi\u001b[0m\u001b[1;33m=\u001b[0m\u001b[0mlen\u001b[0m\u001b[1;33m(\u001b[0m\u001b[0ml\u001b[0m\u001b[1;33m)\u001b[0m\u001b[1;33m-\u001b[0m\u001b[1;36m1\u001b[0m\u001b[1;33m\u001b[0m\u001b[1;33m\u001b[0m\u001b[0m\n\u001b[0;32m      2\u001b[0m \u001b[1;32mwhile\u001b[0m \u001b[0mi\u001b[0m\u001b[1;33m<\u001b[0m\u001b[0mlen\u001b[0m\u001b[1;33m(\u001b[0m\u001b[0ml\u001b[0m\u001b[1;33m)\u001b[0m\u001b[1;33m:\u001b[0m\u001b[1;33m\u001b[0m\u001b[1;33m\u001b[0m\u001b[0m\n\u001b[1;32m----> 3\u001b[1;33m     \u001b[0mprint\u001b[0m\u001b[1;33m(\u001b[0m\u001b[1;34m\"el elemento\"\u001b[0m\u001b[1;33m,\u001b[0m \u001b[0mi\u001b[0m\u001b[1;33m,\u001b[0m\u001b[1;34m\"es\"\u001b[0m\u001b[1;33m,\u001b[0m\u001b[0ml\u001b[0m\u001b[1;33m[\u001b[0m\u001b[0mi\u001b[0m\u001b[1;33m]\u001b[0m\u001b[1;33m)\u001b[0m\u001b[1;33m\u001b[0m\u001b[1;33m\u001b[0m\u001b[0m\n\u001b[0m\u001b[0;32m      4\u001b[0m     \u001b[0mi\u001b[0m\u001b[1;33m=\u001b[0m\u001b[0mi\u001b[0m\u001b[1;33m-\u001b[0m\u001b[1;36m1\u001b[0m\u001b[1;33m\u001b[0m\u001b[1;33m\u001b[0m\u001b[0m\n",
      "\u001b[1;31mIndexError\u001b[0m: list index out of range"
     ]
    }
   ],
   "source": [
    "i=len(l)-1\n",
    "while i<len(l):\n",
    "    print(\"el elemento\", i,\"es\",l[i])\n",
    "    i=i-1"
   ]
  },
  {
   "cell_type": "code",
   "execution_count": 73,
   "metadata": {},
   "outputs": [
    {
     "data": {
      "text/plain": [
       "6"
      ]
     },
     "execution_count": 73,
     "metadata": {},
     "output_type": "execute_result"
    }
   ],
   "source": [
    "prom=[5,6,7,8,9,10]\n",
    "len(prom)"
   ]
  },
  {
   "cell_type": "code",
   "execution_count": 74,
   "metadata": {},
   "outputs": [
    {
     "data": {
      "text/plain": [
       "10"
      ]
     },
     "execution_count": 74,
     "metadata": {},
     "output_type": "execute_result"
    }
   ],
   "source": [
    "prom[len(prom)-1]"
   ]
  },
  {
   "cell_type": "code",
   "execution_count": 75,
   "metadata": {},
   "outputs": [
    {
     "data": {
      "text/plain": [
       "10"
      ]
     },
     "execution_count": 75,
     "metadata": {},
     "output_type": "execute_result"
    }
   ],
   "source": [
    "prom[5]"
   ]
  },
  {
   "cell_type": "code",
   "execution_count": 76,
   "metadata": {},
   "outputs": [
    {
     "name": "stdout",
     "output_type": "stream",
     "text": [
      "El elemento 5 de esta lista es 10\n",
      "El elemento 4 de esta lista es 9\n",
      "El elemento 3 de esta lista es 8\n",
      "El elemento 2 de esta lista es 7\n",
      "El elemento 1 de esta lista es 6\n",
      "El elemento 0 de esta lista es 5\n"
     ]
    }
   ],
   "source": [
    "i=len(prom)-1\n",
    "while i>=0:\n",
    "    print(\"El elemento\",i,\"de esta lista es\",prom[i])\n",
    "    i=i-1"
   ]
  },
  {
   "cell_type": "code",
   "execution_count": 77,
   "metadata": {},
   "outputs": [
    {
     "name": "stdout",
     "output_type": "stream",
     "text": [
      "lista de pesos en kg \n",
      " [ 77  69  83  82  59 101  64 104  78  78  41  66  56  42  66  76 109  69\n",
      "  78  70  62  58  54 105  83]\n",
      "la lista de categorias \n",
      " ['sobrepeso', 'ideal', 'sobrepeso', 'sobrepeso', 'ideal', 'peligro', 'ideal', 'peligro', 'sobrepeso', 'sobrepeso', 'flaquito', 'ideal', 'ideal', 'flaquito', 'ideal', 'sobrepeso', 'peligro', 'ideal', 'sobrepeso', 'ideal', 'ideal', 'ideal', 'delgado', 'peligro', 'sobrepeso']\n",
      "total de personas flaquitas \n",
      " 2\n",
      "total de personas delgadas \n",
      " 1\n",
      "total de personas con peso ideal \n",
      " 10\n",
      "total de personas con sobrepeso \n",
      " 8\n",
      "total de personas obesas \n",
      " 0\n",
      "total de personas en peligro \n",
      " 4\n",
      "total de personas \n",
      " 25\n"
     ]
    }
   ],
   "source": [
    "p=randint(40,111,25)\n",
    "#inicializar variables\n",
    "tf=0 #contador flaquitos\n",
    "td=0\n",
    "ti=0\n",
    "ts=0\n",
    "to=0\n",
    "tp=0\n",
    "i=0\n",
    "cat=[] #esto es inicializar una lista vacia\n",
    "\n",
    "while i<len(p):\n",
    "    if p[i]<=45:\n",
    "        ca=\"flaquito\"\n",
    "        tf=tf+1\n",
    "    elif p[i]<=55:\n",
    "        ca=\"delgado\"\n",
    "        td=td+1\n",
    "    elif p[i]<=70:\n",
    "        ca=\"ideal\"\n",
    "        ti=ti+1\n",
    "    elif p[i]<=85:\n",
    "        ca=\"sobrepeso\"\n",
    "        ts=ts+1\n",
    "    elif p[i]<=100:\n",
    "        ca=\"obeso\"\n",
    "        to=to+1\n",
    "    else:\n",
    "        ca=\"peligro\"\n",
    "        tp=tp+1\n",
    "    cat.append(ca) #lista de salida\n",
    "    i=i+1\n",
    "print(\"lista de pesos en kg \\n\",p)\n",
    "print(\"la lista de categorias \\n\",cat)\n",
    "print(\"total de personas flaquitas \\n\",tf)\n",
    "print(\"total de personas delgadas \\n\",td)\n",
    "print(\"total de personas con peso ideal \\n\",ti)\n",
    "print(\"total de personas con sobrepeso \\n\",ts)\n",
    "print(\"total de personas obesas \\n\",to)\n",
    "print(\"total de personas en peligro \\n\",tp)\n",
    "print(\"total de personas \\n\",tf+td+ti+ts+to+tp)"
   ]
  },
  {
   "cell_type": "code",
   "execution_count": 78,
   "metadata": {},
   "outputs": [],
   "source": [
    "calif=[5,9,7,10,6]\n",
    "por=[0.20,0.10,0.10,0.30,0.30]"
   ]
  },
  {
   "cell_type": "code",
   "execution_count": 79,
   "metadata": {},
   "outputs": [
    {
     "name": "stdout",
     "output_type": "stream",
     "text": [
      "El promedio final es 7.4\n"
     ]
    }
   ],
   "source": [
    "i=0\n",
    "pp=0\n",
    "while i<len(calif):\n",
    "    ppn=calif[i]*por[i]\n",
    "    pp=pp+ppn #acumuladores\n",
    "    i=i+1\n",
    "print(\"El promedio final es\",round(pp,2))"
   ]
  },
  {
   "cell_type": "code",
   "execution_count": 80,
   "metadata": {},
   "outputs": [
    {
     "name": "stdout",
     "output_type": "stream",
     "text": [
      "que tipo de hamburguesa quieres? (S,D,T)s\n",
      "Quieres queso? (si,no)si\n",
      "Quieres papas? (si,no)si\n",
      "Quieres refresco? (si,no)si\n",
      "Tu pago es con tarjeta? (si,no)no\n",
      "Tu pago total es de $ 83\n"
     ]
    }
   ],
   "source": [
    "#procedimiento con variables\n",
    "th=0\n",
    "tq=0\n",
    "tp=0\n",
    "tr=0\n",
    "t=0\n",
    "pt=0\n",
    "#entrada\n",
    "# hamburguesa\n",
    "h=input(\"que tipo de hamburguesa quieres? (S,D,T)\")\n",
    "\n",
    "if h==\"S\" or h==\"s\":\n",
    "    th=35\n",
    "elif h==\"d\" or h==\"D\":\n",
    "    th=45\n",
    "elif h==\"T\" or h==\"t\":\n",
    "    th=60\n",
    "else:\n",
    "    th=\"error\"\n",
    "#queso\n",
    "q=input(\"Quieres queso? (si,no)\")\n",
    "if q==\"Si\" or q==\"si\" or q==\"Sì\":\n",
    "    tq=10\n",
    "else:\n",
    "    tq=0\n",
    "    \n",
    "#papas\n",
    "p=input(\"Quieres papas? (si,no)\")\n",
    "if p==\"Si\" or p==\"si\" or p==\"Sì\":\n",
    "    tp=18\n",
    "else:\n",
    "    tp=0\n",
    "    \n",
    "#refresco\n",
    "r=input(\"Quieres refresco? (si,no)\")\n",
    "if r==\"Si\" or r==\"si\" or r==\"Sì\":\n",
    "    tr=20\n",
    "else:\n",
    "    tr=0 \n",
    "    \n",
    "#pago con tarjeta\n",
    "t=input(\"Tu pago es con tarjeta? (si,no)\")\n",
    "if t==\"Si\" or t==\"si\" or t==\"Sì\":\n",
    "    pt=(th+tq+tr+tp)*1.06\n",
    "else:\n",
    "    pt=th+tq+tr+tp\n",
    "\n",
    "#salida\n",
    "print(\"Tu pago total es de $\",pt)"
   ]
  },
  {
   "cell_type": "code",
   "execution_count": 81,
   "metadata": {},
   "outputs": [
    {
     "name": "stdout",
     "output_type": "stream",
     "text": [
      "los pagos totales son de [68.9, 58.300000000000004, 60, 87.98, 65, 82.68, 35, 55, 93.28, 87.98, 77.38000000000001, 63, 80, 66.78, 84.80000000000001, 66.78, 63.6, 84.80000000000001, 77.38000000000001, 73] pesos\n"
     ]
    }
   ],
   "source": [
    "# procedimiento con listas\n",
    "lh=[\"s\",\"d\",\"t\",\"s\",\"d\",\"t\",\"s\",\"s\",\"t\",\"d\",\"d\",\"s\",\"t\",\"s\",\"t\",\"d\",\"t\",\"t\",\"d\",\"s\"] \n",
    "lq=[\"si\",\"si\",\"no\",\"si\",\"no\",\"no\",\"no\",\"no\",\"si\",\"no\",\"si\",\"si\",\"no\",\"si\",\"no\",\"no\",\"no\",\"no\",\"si\",\"no\"] \n",
    "lp=[\"no\",\"no\",\"no\",\"si\",\"no\",\"si\",\"no\",\"no\",\"si\",\"si\",\"si\",\"si\",\"no\",\"si\",\"no\",\"si\",\"no\",\"no\",\"si\",\"si\"] \n",
    "lr=[\"si\",\"no\",\"no\",\"si\",\"si\",\"no\",\"no\",\"si\",\"no\",\"si\",\"no\",\"no\",\"si\",\"no\",\"si\",\"no\",\"no\",\"si\",\"no\",\"si\"] \n",
    "lt=[\"si\",\"si\",\"no\",\"si\",\"no\",\"si\",\"no\",\"no\",\"si\",\"si\",\"si\",\"no\",\"no\",\"si\",\"si\",\"si\",\"si\",\"si\",\"si\",\"no\"] \n",
    "lpt=[ ] \n",
    "i=0\n",
    "ha=0\n",
    "qu=0\n",
    "re=0\n",
    "pa=0\n",
    "ta=0\n",
    "while i<len(lh):\n",
    "    if lh[i]==\"s\":\n",
    "        ha=35\n",
    "    elif lh[i]==\"d\":\n",
    "        ha=45\n",
    "    elif lh[i]==\"t\":\n",
    "        ha=60\n",
    "    else:\n",
    "        ha=\"error\"\n",
    "    if lq[i]==\"si\":\n",
    "        qu=10\n",
    "    else:\n",
    "        qu=0\n",
    "    if lr[i]==\"si\":\n",
    "        re=20\n",
    "    else:\n",
    "        re=0\n",
    "    if lp[i]==\"si\":\n",
    "        pa=18\n",
    "    else:\n",
    "        pa=0\n",
    "    if lt[i]==\"si\":\n",
    "        ta=(ha+qu+re+pa)*1.06\n",
    "    else:\n",
    "        ta=ha+qu+re+pa\n",
    "    i=i+1\n",
    "    lpt.append(ta)\n",
    "print(\"los pagos totales son de\",lpt,\"pesos\")   \n"
   ]
  },
  {
   "cell_type": "code",
   "execution_count": 82,
   "metadata": {},
   "outputs": [],
   "source": [
    "#función con variables\n",
    "def hamburguesa(h1,q1,p1,r1,t1):\n",
    "    th1=0\n",
    "    tq1=0\n",
    "    tp1=0\n",
    "    tr1=0\n",
    "    pt1=0\n",
    "#hamburguesa    \n",
    "    if h1==\"s\" or h1==\"S\":\n",
    "        th1=35\n",
    "    elif h1==\"d\" or h1==\"D\":\n",
    "        th1=45\n",
    "    elif h1==\"t\" or h1==\"T\":\n",
    "        th1=60\n",
    "    else:\n",
    "        th1=\"error\"\n",
    "#queso        \n",
    "    if q1==\"Si\" or q1==\"si\":\n",
    "        tq1=10\n",
    "    else:\n",
    "        tq1=0\n",
    "#papas       \n",
    "    if p1==\"Si\" or p1==\"si\":\n",
    "        tp1=18\n",
    "    else:\n",
    "        tp1=0\n",
    "#refresco\n",
    "    if r1==\"Si\" or r1==\"si\":\n",
    "        tr1=20\n",
    "    else:\n",
    "        tr1=0\n",
    "#pago con tarjeta\n",
    "    if t1==\"Si\" or t1==\"si\":\n",
    "        pt1=(th1+tq1+tp1+tr1)*1.06\n",
    "    else:\n",
    "        pt1=th1+tq1+tp1+tr1\n",
    "        \n",
    "    return(\"tu pago total es de\",pt1,\"pesos\")\n",
    "\n",
    "\n",
    "        "
   ]
  },
  {
   "cell_type": "code",
   "execution_count": 83,
   "metadata": {},
   "outputs": [
    {
     "data": {
      "text/plain": [
       "('tu pago total es de', 55, 'pesos')"
      ]
     },
     "execution_count": 83,
     "metadata": {},
     "output_type": "execute_result"
    }
   ],
   "source": [
    "hamburguesa(\"s\",\"no\",\"no\",\"si\",\"no\")"
   ]
  },
  {
   "cell_type": "code",
   "execution_count": 84,
   "metadata": {},
   "outputs": [],
   "source": [
    "#función con listas\n",
    "def hamburguesa1(lh1,lq1,lp1,lr1,lt1):\n",
    "    th2=0\n",
    "    tq2=0\n",
    "    tp2=0\n",
    "    tr2=0\n",
    "    pt2=0\n",
    "    lpt=[]\n",
    "    i=0\n",
    "    \n",
    "    while i<len(lh1):\n",
    "        if lh1[i]==\"s\":\n",
    "            th2=35\n",
    "        elif lh1[i]==\"d\":\n",
    "            th2=45\n",
    "        elif lh1[i]==\"t\":\n",
    "            th2=60\n",
    "        else:\n",
    "            th2=\"error\"\n",
    "        if lq1[i]==\"si\":\n",
    "            tq2=10\n",
    "        else:\n",
    "            tq2=0\n",
    "        if lp1[i]==\"si\":\n",
    "            tp2=18\n",
    "        else:\n",
    "            tp2=0\n",
    "        if lr1[i]==\"si\":\n",
    "            tr2=20\n",
    "        else:\n",
    "            tr2=0\n",
    "        if lt1[i]==\"si\":\n",
    "            pt2=(th2+tq2+tp2+tr2)*1.06\n",
    "        else:\n",
    "            pt2=th2+tq2+tp2+tr2\n",
    "        i=i+1\n",
    "        lpt.append(pt2)\n",
    "    return(lpt)\n",
    "        \n",
    "    "
   ]
  },
  {
   "cell_type": "code",
   "execution_count": 85,
   "metadata": {},
   "outputs": [
    {
     "name": "stdout",
     "output_type": "stream",
     "text": [
      "los precios totales son [68.9, 58.300000000000004, 60, 87.98, 65, 82.68, 35, 55, 93.28, 87.98, 77.38000000000001, 63, 80, 66.78, 84.80000000000001, 66.78, 63.6, 84.80000000000001, 77.38000000000001, 73]\n"
     ]
    }
   ],
   "source": [
    "lh1=[\"s\",\"d\",\"t\",\"s\",\"d\",\"t\",\"s\",\"s\",\"t\",\"d\",\"d\",\"s\",\"t\",\"s\",\"t\",\"d\",\"t\",\"t\",\"d\",\"s\"] \n",
    "lq1=[\"si\",\"si\",\"no\",\"si\",\"no\",\"no\",\"no\",\"no\",\"si\",\"no\",\"si\",\"si\",\"no\",\"si\",\"no\",\"no\",\"no\",\"no\",\"si\",\"no\"] \n",
    "lp1=[\"no\",\"no\",\"no\",\"si\",\"no\",\"si\",\"no\",\"no\",\"si\",\"si\",\"si\",\"si\",\"no\",\"si\",\"no\",\"si\",\"no\",\"no\",\"si\",\"si\"] \n",
    "lr1=[\"si\",\"no\",\"no\",\"si\",\"si\",\"no\",\"no\",\"si\",\"no\",\"si\",\"no\",\"no\",\"si\",\"no\",\"si\",\"no\",\"no\",\"si\",\"no\",\"si\"] \n",
    "lt1=[\"si\",\"si\",\"no\",\"si\",\"no\",\"si\",\"no\",\"no\",\"si\",\"si\",\"si\",\"no\",\"no\",\"si\",\"si\",\"si\",\"si\",\"si\",\"si\",\"no\"] \n",
    "print(\"los precios totales son\", hamburguesa1(lh1,lq1,lp1,lr1,lt1))"
   ]
  },
  {
   "cell_type": "code",
   "execution_count": null,
   "metadata": {},
   "outputs": [],
   "source": []
  }
 ],
 "metadata": {
  "kernelspec": {
   "display_name": "Python 3",
   "language": "python",
   "name": "python3"
  },
  "language_info": {
   "codemirror_mode": {
    "name": "ipython",
    "version": 3
   },
   "file_extension": ".py",
   "mimetype": "text/x-python",
   "name": "python",
   "nbconvert_exporter": "python",
   "pygments_lexer": "ipython3",
   "version": "3.8.5"
  }
 },
 "nbformat": 4,
 "nbformat_minor": 4
}
