{
 "cells": [
  {
   "cell_type": "markdown",
   "metadata": {},
   "source": [
    "# Ciclos"
   ]
  },
  {
   "cell_type": "markdown",
   "metadata": {},
   "source": [
    "## For\n",
    "\n",
    "Es un **bucle** que repite el bloque de instrucciones un **número predeterminado de veces**. El bloque de instrucciones que se repite se suele llamar cuerpo del bucle y cada repetición se suele llamar iteración.\n",
    "\n",
    "La sintaxis de un bucle `for` es la siguiente:\n",
    "\n",
    "```python\n",
    "for variable in elementoIterable:\n",
    "    bloque que se repetira\n",
    "```\n",
    "\n",
    "* `variable` es la que estará tomando los valores de tu elemento iterable\n",
    "`elemento iterable` puede ser una lista,cadena,rango incluso hasta una palabra"
   ]
  },
  {
   "cell_type": "code",
   "execution_count": 2,
   "metadata": {},
   "outputs": [
    {
     "name": "stdout",
     "output_type": "stream",
     "text": [
      "Comienzo\n",
      "Hola 0 \n",
      "Hola 1 \n",
      "Hola 2 \n",
      "\n",
      "Final\n"
     ]
    }
   ],
   "source": [
    "## for con lista 1\n",
    "print(\"Comienzo\")\n",
    "for i in [0, 1, 2]:\n",
    "    print(f\"Hola {i} \")\n",
    "print()\n",
    "print(\"Final\")"
   ]
  },
  {
   "cell_type": "code",
   "execution_count": 4,
   "metadata": {},
   "outputs": [
    {
     "name": "stdout",
     "output_type": "stream",
     "text": [
      "a\n",
      "......\n",
      "b\n",
      "......\n",
      "c\n",
      "......\n"
     ]
    }
   ],
   "source": [
    "## for con lista 2\n",
    "lista = [\"a\", \"b\", \"c\"]\n",
    "for elemento in lista:\n",
    "    print(elemento)\n",
    "    print(\"......\")"
   ]
  },
  {
   "cell_type": "code",
   "execution_count": 9,
   "metadata": {},
   "outputs": [
    {
     "name": "stdout",
     "output_type": "stream",
     "text": [
      "I\n",
      "T\n",
      "A\n",
      "M\n"
     ]
    }
   ],
   "source": [
    "palabra = \"ITAM\"\n",
    "for x in word:\n",
    "    print(x)"
   ]
  },
  {
   "cell_type": "code",
   "execution_count": 6,
   "metadata": {},
   "outputs": [
    {
     "ename": "IndentationError",
     "evalue": "expected an indented block (<ipython-input-6-d530060d2759>, line 6)",
     "output_type": "error",
     "traceback": [
      "\u001b[0;36m  File \u001b[0;32m\"<ipython-input-6-d530060d2759>\"\u001b[0;36m, line \u001b[0;32m6\u001b[0m\n\u001b[0;31m    print(elemento)\u001b[0m\n\u001b[0m    ^\u001b[0m\n\u001b[0;31mIndentationError\u001b[0m\u001b[0;31m:\u001b[0m expected an indented block\n"
     ]
    }
   ],
   "source": [
    "## for con lista error\n",
    "# Líneas de código sin sangría se consideran fuera del loop.\n",
    "\n",
    "lista = [\"a\", \"b\", \"c\"]\n",
    "for elemento in lista:\n",
    "print(elemento)"
   ]
  },
  {
   "cell_type": "markdown",
   "metadata": {},
   "source": [
    "### Rangos\n",
    "\n",
    "La forma de crear un rango de números en Python es con la función `range` que tiene 3 vertientes: \n",
    "\n",
    "* `range(a)` crea un rango de valores de `0` hasta `a-1`\n",
    "* `range(a, b)` crea un rango de valores de `a` hasta `b-1`\n",
    "* `range(a, b, c)` crea un rango de valores de `a` hasta `b-1` de `c` en `c`"
   ]
  },
  {
   "cell_type": "code",
   "execution_count": 10,
   "metadata": {},
   "outputs": [
    {
     "name": "stdout",
     "output_type": "stream",
     "text": [
      "4\n",
      "6\n",
      "8\n",
      "10\n"
     ]
    }
   ],
   "source": [
    "for n in range(4, 12, 2):\n",
    "    print(n)"
   ]
  },
  {
   "cell_type": "markdown",
   "metadata": {},
   "source": [
    "## While\n",
    "\n",
    "Un bucle `while` permite repetir la ejecución de un grupo de instrucciones **mientras se cumpla una condición**.\n",
    "\n",
    "La sintaxis del bucle `while` es la siguiente:\n",
    "\n",
    "```python\n",
    "while condicion:\n",
    "    pasa algo\n",
    "    pasa algo\n",
    "```\n",
    "* La variable o las variables que aparezcan en la condición se suelen llamar **variables de control**. Las variables de control deben definirse antes del bucle while y **modificarse en el bucle while**.\n",
    "* La `condicion` se representa como un booleano y el ciclo siempre se repitira mientras `condicion == True`."
   ]
  },
  {
   "cell_type": "code",
   "execution_count": 1,
   "metadata": {},
   "outputs": [
    {
     "name": "stdout",
     "output_type": "stream",
     "text": [
      "1\n",
      "2\n",
      "3\n",
      "Programa terminado\n"
     ]
    }
   ],
   "source": [
    "i = 1\n",
    "while i <= 3:\n",
    "    print(i)\n",
    "    i += 1\n",
    "print(\"Programa terminado\")"
   ]
  },
  {
   "cell_type": "code",
   "execution_count": 2,
   "metadata": {},
   "outputs": [
    {
     "name": "stdout",
     "output_type": "stream",
     "text": [
      "El valor de i es 0\n",
      "El valor de i es 1\n",
      "El valor de i es 2\n",
      "El valor de i es 3\n",
      "El valor de i es 4\n"
     ]
    }
   ],
   "source": [
    "n=5\n",
    "i=0\n",
    "while i<n:\n",
    "    print(\"El valor de i es\",i)\n",
    "    i=i+1 #incrementar i"
   ]
  },
  {
   "cell_type": "markdown",
   "metadata": {},
   "source": [
    "### Break \n",
    "\n",
    "En el momento que nosotros deseemos interrumpir el ciclo de repetición podemos ocupar `break` para terminar el loop con anticipación. \n"
   ]
  },
  {
   "cell_type": "code",
   "execution_count": 22,
   "metadata": {},
   "outputs": [
    {
     "name": "stdout",
     "output_type": "stream",
     "text": [
      "Ingresa las claves únicas que están inscritas a esta materia\n",
      "Escribe 'fin' para terminar el programa\n",
      "C.U inscritas: 1\n",
      "C.U inscritas: 2\n",
      "C.U inscritas: 3\n",
      "C.U inscritas: fin\n",
      "Llenando el grupo...\n"
     ]
    }
   ],
   "source": [
    "clavesInscritas = []\n",
    "print(\"Ingresa las claves únicas que están inscritas a esta materia\")\n",
    "print(\"Escribe 'fin' para terminar el programa\")\n",
    "\n",
    "while True:\n",
    "    cu = input(\"C.U inscritas: \")\n",
    "    if cu != \"fin\":\n",
    "        clavesInscritas.append(cu)\n",
    "    else:\n",
    "        print(\"Llenando el grupo...\")\n",
    "        break"
   ]
  },
  {
   "cell_type": "code",
   "execution_count": 23,
   "metadata": {},
   "outputs": [
    {
     "data": {
      "text/plain": [
       "['1', '2', '3']"
      ]
     },
     "execution_count": 23,
     "metadata": {},
     "output_type": "execute_result"
    }
   ],
   "source": [
    "clavesInscritas"
   ]
  },
  {
   "cell_type": "markdown",
   "metadata": {},
   "source": [
    "<h2 style=\"color:#d62728\">Ejercicios</h2>"
   ]
  },
  {
   "cell_type": "markdown",
   "metadata": {},
   "source": [
    "## Ejercicio 1 \n",
    "\n",
    "Dada una lista de calificaciones, imprime si el alumno aprobo o reprobo hasta que un alumno tenga 2 de calificación"
   ]
  },
  {
   "cell_type": "code",
   "execution_count": 4,
   "metadata": {},
   "outputs": [
    {
     "data": {
      "text/plain": [
       "6"
      ]
     },
     "execution_count": 4,
     "metadata": {},
     "output_type": "execute_result"
    }
   ],
   "source": [
    "cal = [5, 6 , 8 , 9 ,1 , 5 ,10, 7 , 7 ,2 ,5 ,4,3]\n",
    "cal[0]\n",
    "cal[1]"
   ]
  },
  {
   "cell_type": "code",
   "execution_count": 9,
   "metadata": {},
   "outputs": [
    {
     "name": "stdout",
     "output_type": "stream",
     "text": [
      "El alumno 1 está Reprobado con:  5\n",
      "El alumno 2 está Aprobado con:  6\n",
      "El alumno 3 está Aprobado con:  8\n",
      "El alumno 4 está Aprobado con:  9\n",
      "El alumno 5 está Reprobado con:  1\n",
      "El alumno 6 está Reprobado con:  5\n",
      "El alumno 7 está Aprobado con:  10\n",
      "El alumno 8 está Aprobado con:  7\n",
      "El alumno 9 está Aprobado con:  7\n"
     ]
    }
   ],
   "source": [
    "cal = [5, 6 , 8 , 9 ,1 , 5 ,10, 7 , 7 ,2 ,5 ,4,3]\n",
    "i=0\n",
    "while cal[i]!= 2:\n",
    "    if cal[i]<6:\n",
    "        r=\"Reprobado\"\n",
    "    else:\n",
    "        r=\"Aprobado\"\n",
    "    print (\"El alumno\",i+1,\"está\",r, \"con: \", cal[i])\n",
    "    i=i+1"
   ]
  },
  {
   "cell_type": "markdown",
   "metadata": {},
   "source": [
    "Dadas dos listas, imprime la resta de cada elemento correspondiente.\n",
    "l1 = [1,2,3,4,5,6,7,8,9,10]\n",
    "l2 = [10,9,8,7,6,5,4,3,2,1]\n",
    "Es decir, 1-10 , 2-9, ..., 10-1 "
   ]
  },
  {
   "cell_type": "code",
   "execution_count": 14,
   "metadata": {},
   "outputs": [],
   "source": [
    "l1 = [1,2,3,4,5,6,7,8,9,10]\n",
    "l2 = [10,9,8,7,6,5,4,3,2,1]"
   ]
  },
  {
   "cell_type": "code",
   "execution_count": 15,
   "metadata": {},
   "outputs": [
    {
     "name": "stdout",
     "output_type": "stream",
     "text": [
      "la resta de 1 menos 10 es -9\n",
      "la resta de 2 menos 9 es -7\n",
      "la resta de 3 menos 8 es -5\n",
      "la resta de 4 menos 7 es -3\n",
      "la resta de 5 menos 6 es -1\n",
      "la resta de 6 menos 5 es 1\n",
      "la resta de 7 menos 4 es 3\n",
      "la resta de 8 menos 3 es 5\n",
      "la resta de 9 menos 2 es 7\n",
      "la resta de 10 menos 1 es 9\n"
     ]
    }
   ],
   "source": [
    "i=0\n",
    "while i<len(l1):\n",
    "    print(\"la resta de\",l1[i],\"menos\",l2[i],\"es\",l1[i]-l2[i])\n",
    "    i=i+1"
   ]
  },
  {
   "cell_type": "code",
   "execution_count": null,
   "metadata": {},
   "outputs": [],
   "source": []
  }
 ],
 "metadata": {
  "kernelspec": {
   "display_name": "Python 3",
   "language": "python",
   "name": "python3"
  },
  "language_info": {
   "codemirror_mode": {
    "name": "ipython",
    "version": 3
   },
   "file_extension": ".py",
   "mimetype": "text/x-python",
   "name": "python",
   "nbconvert_exporter": "python",
   "pygments_lexer": "ipython3",
   "version": "3.8.5"
  }
 },
 "nbformat": 4,
 "nbformat_minor": 4
}
