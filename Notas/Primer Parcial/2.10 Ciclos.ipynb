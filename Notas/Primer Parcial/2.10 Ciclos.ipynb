{
 "cells": [
  {
   "cell_type": "markdown",
   "metadata": {},
   "source": [
    "<img src=\"../../files/logo.png\" width=200>"
   ]
  },
  {
   "cell_type": "markdown",
   "metadata": {},
   "source": [
    "# Ciclos"
   ]
  },
  {
   "cell_type": "markdown",
   "metadata": {},
   "source": [
    "## For\n",
    "\n",
    "Es un **bucle** que repite el bloque de instrucciones un **número predeterminado de veces**. El bloque de instrucciones que se repite se suele llamar cuerpo del bucle y cada repetición se suele llamar iteración.\n",
    "\n",
    "La sintaxis de un bucle `for` es la siguiente:\n",
    "\n",
    "```python\n",
    "for variable in elementoIterable:\n",
    "    bloque que se repetira\n",
    "    bloque que se repetira\n",
    "    bloque que se repetira\n",
    "    bloque que se repetira\n",
    "```\n",
    "\n",
    "* `variable` es la que estará tomando los valores de tu elemento iterable\n",
    "`elemento iterable` puede ser una lista,cadena,rango incluso hasta una palabra"
   ]
  },
  {
   "cell_type": "code",
   "execution_count": 18,
   "metadata": {},
   "outputs": [
    {
     "name": "stdout",
     "output_type": "stream",
     "text": [
      "comienzo\n",
      "Este es el elemento 0\n",
      "Esta es mi x modificada 0\n",
      "----------------------------------------\n",
      "Este es el elemento 1\n",
      "Esta es mi x modificada 2\n",
      "----------------------------------------\n",
      "Este es el elemento 2\n",
      "Esta es mi x modificada 4\n",
      "----------------------------------------\n",
      "Final\n"
     ]
    }
   ],
   "source": [
    "## for con lista 1\n",
    "print(\"comienzo\")\n",
    "\n",
    "for x in [0,1,2]:\n",
    "    print(f\"Este es el elemento {x}\")\n",
    "    #Más operaciones\n",
    "    #Más operaciones\n",
    "    #Más operaciones\n",
    "    variable = x * 2\n",
    "    #Más operaciones\n",
    "    #Más operaciones\n",
    "    print(f\"Esta es mi x modificada {variable}\")\n",
    "    print(20*\"--\")\n",
    "    #Más operaciones\n",
    "       \n",
    "print(\"Final\")"
   ]
  },
  {
   "cell_type": "code",
   "execution_count": 19,
   "metadata": {},
   "outputs": [
    {
     "name": "stdout",
     "output_type": "stream",
     "text": [
      "a\n",
      ".....\n",
      "b\n",
      ".....\n",
      "c\n",
      ".....\n"
     ]
    }
   ],
   "source": [
    "## for con lista 2\n",
    "lista = [\"a\",\"b\",\"c\"]\n",
    "for letra in lista:\n",
    "    print(letra)\n",
    "    print(\".....\")"
   ]
  },
  {
   "cell_type": "code",
   "execution_count": 20,
   "metadata": {},
   "outputs": [
    {
     "name": "stdout",
     "output_type": "stream",
     "text": [
      "I\n",
      "T\n",
      "A\n",
      "M\n"
     ]
    }
   ],
   "source": [
    "palabra = \"ITAM\"\n",
    "for x in palabra:\n",
    "    print(x)"
   ]
  },
  {
   "cell_type": "code",
   "execution_count": 27,
   "metadata": {},
   "outputs": [
    {
     "ename": "IndentationError",
     "evalue": "expected an indented block (<ipython-input-27-b3f51976bddc>, line 10)",
     "output_type": "error",
     "traceback": [
      "\u001b[0;36m  File \u001b[0;32m\"<ipython-input-27-b3f51976bddc>\"\u001b[0;36m, line \u001b[0;32m10\u001b[0m\n\u001b[0;31m    print(letra)\u001b[0m\n\u001b[0m    ^\u001b[0m\n\u001b[0;31mIndentationError\u001b[0m\u001b[0;31m:\u001b[0m expected an indented block\n"
     ]
    }
   ],
   "source": [
    "## for con lista error\n",
    "# Líneas de código sin sangría se consideran fuera del loop.\n",
    "lista = [\"a\",\"b\",\"c\"]\n",
    "for letra in lista:\n",
    "    #operaciones\n",
    "    #operaciones\n",
    "    #operaciones\n",
    "\n",
    "    \n",
    "print(letra)"
   ]
  },
  {
   "cell_type": "markdown",
   "metadata": {},
   "source": [
    "## While\n",
    "\n",
    "Un bucle `while` permite repetir la ejecución de un grupo de instrucciones **mientras se cumpla una condición**.\n",
    "\n",
    "La sintaxis del bucle `while` es la siguiente:\n",
    "\n",
    "```python\n",
    "while condicion:\n",
    "    pasa algo\n",
    "    pasa algo\n",
    "```\n",
    "* La variable o las variables que aparezcan en la condición se suelen llamar **variables de control**. Las variables de control deben definirse antes del bucle while y **modificarse en el bucle while**.\n",
    "* La `condicion` se representa como un booleano y el ciclo siempre se repitira mientras `condicion == True`."
   ]
  },
  {
   "cell_type": "code",
   "execution_count": 37,
   "metadata": {},
   "outputs": [
    {
     "name": "stdout",
     "output_type": "stream",
     "text": [
      "1\n",
      "2\n",
      "3\n"
     ]
    }
   ],
   "source": [
    "i = 1 #bandera \n",
    "while i <= 3:\n",
    "    print(i)\n",
    "    i += 1 # i = i +1 \n"
   ]
  },
  {
   "cell_type": "code",
   "execution_count": 38,
   "metadata": {},
   "outputs": [
    {
     "data": {
      "text/plain": [
       "False"
      ]
     },
     "execution_count": 38,
     "metadata": {},
     "output_type": "execute_result"
    }
   ],
   "source": [
    "4<=3"
   ]
  },
  {
   "cell_type": "code",
   "execution_count": 29,
   "metadata": {},
   "outputs": [
    {
     "data": {
      "text/plain": [
       "True"
      ]
     },
     "execution_count": 29,
     "metadata": {},
     "output_type": "execute_result"
    }
   ],
   "source": [
    "3 <= 3"
   ]
  },
  {
   "cell_type": "markdown",
   "metadata": {},
   "source": [
    "### Break \n",
    "\n",
    "En el momento que nosotros deseemos interrumpir el ciclo de repetición podemos ocupar `break` para terminar el loop con anticipación. \n"
   ]
  },
  {
   "cell_type": "code",
   "execution_count": 39,
   "metadata": {},
   "outputs": [
    {
     "name": "stdout",
     "output_type": "stream",
     "text": [
      "Ingresa las claves únicas que están inscritas a esta materia\n",
      "Escribe 'fin' para terminar el programa\n",
      "C.U inscritas: 1\n",
      "C.U inscritas: 2\n",
      "C.U inscritas: 3\n",
      "C.U inscritas: 4\n",
      "C.U inscritas: 5\n",
      "C.U inscritas: 6\n",
      "C.U inscritas: 7\n",
      "C.U inscritas: 9\n",
      "C.U inscritas: 12\n",
      "C.U inscritas: 3\n",
      "C.U inscritas: 4\n",
      "C.U inscritas: fin\n",
      "Llenando el grupo...\n"
     ]
    }
   ],
   "source": [
    "clavesInscritas = []\n",
    "print(\"Ingresa las claves únicas que están inscritas a esta materia\")\n",
    "print(\"Escribe 'fin' para terminar el programa\")\n",
    "\n",
    "while True:\n",
    "    cu = input(\"C.U inscritas: \")\n",
    "    if cu != \"fin\":\n",
    "        clavesInscritas.append(cu)\n",
    "    else:\n",
    "        print(\"Llenando el grupo...\")\n",
    "        break"
   ]
  },
  {
   "cell_type": "code",
   "execution_count": null,
   "metadata": {},
   "outputs": [],
   "source": []
  },
  {
   "cell_type": "markdown",
   "metadata": {},
   "source": [
    "<h2 style=\"color:#d62728\">Ejercicios</h2>"
   ]
  },
  {
   "cell_type": "markdown",
   "metadata": {},
   "source": [
    "## Ejercicio 1 \n",
    "\n",
    "Dada una lista de calificaciones, imprime si el alumno aprobo o reprobo hasta que un alumno tenga 2 de calificación"
   ]
  },
  {
   "cell_type": "code",
   "execution_count": 46,
   "metadata": {},
   "outputs": [],
   "source": [
    "cal = [5, 6 , 8 , 9 ,1 , 5 ,10, 7 , 7 ,2 ,5 ,4,3]"
   ]
  },
  {
   "cell_type": "code",
   "execution_count": 47,
   "metadata": {},
   "outputs": [
    {
     "data": {
      "text/plain": [
       "6"
      ]
     },
     "execution_count": 47,
     "metadata": {},
     "output_type": "execute_result"
    }
   ],
   "source": [
    "cal[1]"
   ]
  },
  {
   "cell_type": "code",
   "execution_count": 48,
   "metadata": {},
   "outputs": [
    {
     "name": "stdout",
     "output_type": "stream",
     "text": [
      "El alumno 1 está Reprobado con:  5\n",
      "El alumno 2 está Aprobado con:  6\n",
      "El alumno 3 está Aprobado con:  8\n",
      "El alumno 4 está Aprobado con:  9\n",
      "El alumno 5 está Reprobado con:  1\n",
      "El alumno 6 está Reprobado con:  5\n",
      "El alumno 7 está Aprobado con:  10\n",
      "El alumno 8 está Aprobado con:  7\n",
      "El alumno 9 está Aprobado con:  7\n"
     ]
    }
   ],
   "source": [
    "i = 0 \n",
    "while cal[i] != 2:\n",
    "    if cal[i]< 6:\n",
    "        r=\"Reprobado\"\n",
    "    else:\n",
    "        r=\"Aprobado\"\n",
    "    print(\"El alumno\",i+1,\"está\",r, \"con: \", cal[i])\n",
    "    i = i +1"
   ]
  },
  {
   "cell_type": "markdown",
   "metadata": {},
   "source": [
    "## Ejercicio 2"
   ]
  },
  {
   "cell_type": "markdown",
   "metadata": {},
   "source": [
    "Dadas dos listas, imprime la resta de cada elemento correspondiente.\n",
    "l1 = [1,2,3,4,5,6,7,8,9,10]\n",
    "l2 = [10,9,8,7,6,5,4,3,2,1]\n",
    "Es decir, 1-10 , 2-9, ..., 10-1 "
   ]
  },
  {
   "cell_type": "code",
   "execution_count": 50,
   "metadata": {},
   "outputs": [],
   "source": [
    "l1 = [1,2,3,4,5,6,7,8,9,10]\n",
    "l2 = [10,9,8,7,6,5,4,3,2,1]"
   ]
  },
  {
   "cell_type": "code",
   "execution_count": 51,
   "metadata": {},
   "outputs": [
    {
     "name": "stdout",
     "output_type": "stream",
     "text": [
      "la resta de 1 menos 10 es -9\n",
      "la resta de 2 menos 9 es -7\n",
      "la resta de 3 menos 8 es -5\n",
      "la resta de 4 menos 7 es -3\n",
      "la resta de 5 menos 6 es -1\n",
      "la resta de 6 menos 5 es 1\n",
      "la resta de 7 menos 4 es 3\n",
      "la resta de 8 menos 3 es 5\n",
      "la resta de 9 menos 2 es 7\n",
      "la resta de 10 menos 1 es 9\n"
     ]
    }
   ],
   "source": [
    "i=0\n",
    "while i < len(l1):\n",
    "    print(\"la resta de\",l1[i],\"menos\",l2[i],\"es\",l1[i]-l2[i])\n",
    "    i = i+1"
   ]
  },
  {
   "cell_type": "code",
   "execution_count": 52,
   "metadata": {},
   "outputs": [
    {
     "name": "stdout",
     "output_type": "stream",
     "text": [
      "-9\n",
      "-7\n"
     ]
    }
   ],
   "source": [
    "print(l1[0]-l2[0])\n",
    "print(l1[1]-l2[1])"
   ]
  },
  {
   "cell_type": "markdown",
   "metadata": {},
   "source": [
    "## Ejercicio 3"
   ]
  },
  {
   "cell_type": "markdown",
   "metadata": {},
   "source": [
    "Ocupa la función `range` para facilitar la creación de las siguientes listas con 20 elementos cada una:\n",
    "\n",
    "#### a) 10,20,30,...,200\n",
    "#### b) 2.5, 5.0, 7.5, 10.0, 12.5, ... , 50\n"
   ]
  },
  {
   "cell_type": "code",
   "execution_count": 57,
   "metadata": {},
   "outputs": [
    {
     "name": "stdout",
     "output_type": "stream",
     "text": [
      "[10, 20, 30, 40, 50, 60, 70, 80, 90, 100, 110, 120, 130, 140, 150, 160, 170, 180, 190, 200]\n",
      "[2.5, 5.0, 7.5, 10.0, 12.5, 15.0, 17.5, 20.0, 22.5, 25.0, 27.5, 30.0, 32.5, 35.0, 37.5, 40.0, 42.5, 45.0, 47.5, 50.0]\n"
     ]
    }
   ],
   "source": [
    "listA = list(range(10,210,10))\n",
    "print(listA)\n",
    "listB = [x/4 for x in list(range(10,210,10))]\n",
    "print(listB)"
   ]
  },
  {
   "cell_type": "markdown",
   "metadata": {},
   "source": [
    "#### c) 0, 2, 12, 36, 80, 150, 252, ... , 980100\n",
    "\n",
    "\n",
    "- 0 es  (1 * 0^2),\n",
    "- 2 es  (2 * 1^2), \n",
    "- 12 es (3 * 2^2),\n",
    "- etc. "
   ]
  },
  {
   "cell_type": "code",
   "execution_count": 58,
   "metadata": {},
   "outputs": [
    {
     "name": "stdout",
     "output_type": "stream",
     "text": [
      "[0, 2, 12, 36, 80, 150, 252, 392, 576, 810, 1100, 1452, 1872, 2366, 2940, 3600, 4352, 5202, 6156, 7220, 8400, 9702, 11132, 12696, 14400, 16250, 18252, 20412, 22736, 25230, 27900, 30752, 33792, 37026, 40460, 44100, 47952, 52022, 56316, 60840, 65600, 70602, 75852, 81356, 87120, 93150, 99452, 106032, 112896, 120050, 127500, 135252, 143312, 151686, 160380, 169400, 178752, 188442, 198476, 208860, 219600, 230702, 242172, 254016, 266240, 278850, 291852, 305252, 319056, 333270, 347900, 362952, 378432, 394346, 410700, 427500, 444752, 462462, 480636, 499280, 518400, 538002, 558092, 578676, 599760, 621350, 643452, 666072, 689216, 712890, 737100, 761852, 787152, 813006, 839420, 866400, 893952, 922082, 950796, 980100]\n"
     ]
    }
   ],
   "source": [
    "lista = [x * ((x-1)**2) for x in list(range(1,101))]\n",
    "print(lista)"
   ]
  },
  {
   "cell_type": "code",
   "execution_count": 63,
   "metadata": {},
   "outputs": [],
   "source": [
    "lista = [(x+1) * ((x)**2) for x in list(range(0,100))]"
   ]
  },
  {
   "cell_type": "code",
   "execution_count": 64,
   "metadata": {},
   "outputs": [
    {
     "name": "stdout",
     "output_type": "stream",
     "text": [
      "[0, 2, 12, 36, 80, 150, 252, 392, 576, 810, 1100, 1452, 1872, 2366, 2940, 3600, 4352, 5202, 6156, 7220, 8400, 9702, 11132, 12696, 14400, 16250, 18252, 20412, 22736, 25230, 27900, 30752, 33792, 37026, 40460, 44100, 47952, 52022, 56316, 60840, 65600, 70602, 75852, 81356, 87120, 93150, 99452, 106032, 112896, 120050, 127500, 135252, 143312, 151686, 160380, 169400, 178752, 188442, 198476, 208860, 219600, 230702, 242172, 254016, 266240, 278850, 291852, 305252, 319056, 333270, 347900, 362952, 378432, 394346, 410700, 427500, 444752, 462462, 480636, 499280, 518400, 538002, 558092, 578676, 599760, 621350, 643452, 666072, 689216, 712890, 737100, 761852, 787152, 813006, 839420, 866400, 893952, 922082, 950796, 980100]\n"
     ]
    }
   ],
   "source": [
    "print(lista)"
   ]
  },
  {
   "cell_type": "code",
   "execution_count": null,
   "metadata": {},
   "outputs": [],
   "source": []
  }
 ],
 "metadata": {
  "kernelspec": {
   "display_name": "Python 3",
   "language": "python",
   "name": "python3"
  },
  "language_info": {
   "codemirror_mode": {
    "name": "ipython",
    "version": 3
   },
   "file_extension": ".py",
   "mimetype": "text/x-python",
   "name": "python",
   "nbconvert_exporter": "python",
   "pygments_lexer": "ipython3",
   "version": "3.8.5"
  }
 },
 "nbformat": 4,
 "nbformat_minor": 4
}
