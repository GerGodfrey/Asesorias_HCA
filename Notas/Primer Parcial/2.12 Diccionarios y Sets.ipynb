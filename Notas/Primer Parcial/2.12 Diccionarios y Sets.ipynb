{
 "cells": [
  {
   "cell_type": "markdown",
   "metadata": {},
   "source": [
    "<img src=\"../../files/logo.png\" width=200>"
   ]
  },
  {
   "cell_type": "markdown",
   "metadata": {},
   "source": [
    "# Diccionarios y Conjuntos"
   ]
  },
  {
   "cell_type": "markdown",
   "metadata": {},
   "source": [
    "## Diccionarios { }  `dict`\n",
    "\n",
    "Hasta el momento hemos visto colecciones de elementos ordenados por un único índice número y numerado. Ahora veremos otra clase de objetos, los **diccionarios**, los cuáles son listas asociativas indexadas por llave; no por orden.\n",
    "\n",
    "La sintáxis de un diccionario:\n",
    "```python\n",
    "{llave1: valor1,\n",
    " llave2: valor2,\n",
    " ...\n",
    " llaven: valorn}\n",
    "```"
   ]
  },
  {
   "cell_type": "code",
   "execution_count": 79,
   "metadata": {},
   "outputs": [],
   "source": [
    "alumnos = [\n",
    "    [\"José\", 11, \"rojo\", \"Administración\"],\n",
    "    [\"Charlie\", 33, \"Violeta\", \"Actuaría\"],\n",
    "    [\"Luis\", 23, \"Negro\", \"Matemáticas\"],\n",
    "    [\"Johanna\", 18, \"Gris\", \"Actuaría\"]\n",
    "]"
   ]
  },
  {
   "cell_type": "code",
   "execution_count": 85,
   "metadata": {},
   "outputs": [
    {
     "name": "stdout",
     "output_type": "stream",
     "text": [
      "23\n"
     ]
    }
   ],
   "source": [
    "edad = alumnos[2][1]\n",
    "print(edad)"
   ]
  },
  {
   "cell_type": "markdown",
   "metadata": {},
   "source": [
    "### ¿Por qué usaríamos un diccionario y no una lista?:\n",
    "Un diccionario de personas"
   ]
  },
  {
   "cell_type": "code",
   "execution_count": 82,
   "metadata": {},
   "outputs": [],
   "source": [
    "alumnosDic = {\n",
    "    \"José\":    [11, \"rojo\", \"Administración\"],\n",
    "    \"Charlie\": [33, \"Violeta\", \"Ingeniería\"],\n",
    "    \"Luis\": [23, \"Negro\", \"Matemáticas\"],\n",
    "    \"Johanna\": {\n",
    "        \"edad\": 18,\n",
    "        \"color\": \"Gris\",\n",
    "        \"Lic\": \"Actuaria\"\n",
    "    }\n",
    "}"
   ]
  },
  {
   "cell_type": "code",
   "execution_count": 84,
   "metadata": {},
   "outputs": [
    {
     "name": "stdout",
     "output_type": "stream",
     "text": [
      "18\n"
     ]
    }
   ],
   "source": [
    "edadJ = alumnosDic[\"Johanna\"][\"edad\"]\n",
    "print(edadJ)"
   ]
  },
  {
   "cell_type": "code",
   "execution_count": 87,
   "metadata": {},
   "outputs": [
    {
     "name": "stdout",
     "output_type": "stream",
     "text": [
      "{'José': [11, 'rojo', 'Administración'], 'Charlie': [33, 'Violeta', 'Ingeniería'], 'Luis': [23, 'Negro', 'Matemáticas'], 'Johanna': {'edad': 18, 'color': 'Gris', 'Lic': 'Actuaria'}}\n"
     ]
    }
   ],
   "source": [
    "print(alumnosDic)"
   ]
  },
  {
   "cell_type": "code",
   "execution_count": 88,
   "metadata": {},
   "outputs": [
    {
     "data": {
      "text/plain": [
       "dict"
      ]
     },
     "execution_count": 88,
     "metadata": {},
     "output_type": "execute_result"
    }
   ],
   "source": [
    "type(alumnosDic)"
   ]
  },
  {
   "cell_type": "code",
   "execution_count": 89,
   "metadata": {},
   "outputs": [
    {
     "data": {
      "text/plain": [
       "{'José': [11, 'rojo', 'Administración'],\n",
       " 'Charlie': [33, 'Violeta', 'Ingeniería'],\n",
       " 'Johanna': {'edad': 18, 'color': 'Gris', 'Lic': 'Actuaria'}}"
      ]
     },
     "execution_count": 89,
     "metadata": {},
     "output_type": "execute_result"
    }
   ],
   "source": [
    "del alumnosDic[\"Luis\"]\n",
    "alumnosDic"
   ]
  },
  {
   "cell_type": "markdown",
   "metadata": {},
   "source": [
    "Agregamos un elemento a un diccionario indexándolo sobre la llave de referencia y asignandole el valor deseado."
   ]
  },
  {
   "cell_type": "code",
   "execution_count": 90,
   "metadata": {},
   "outputs": [],
   "source": [
    "#dando de alta\n",
    "alumnosDic[\"gerardo\"] = \"Falta por llenar\""
   ]
  },
  {
   "cell_type": "code",
   "execution_count": 91,
   "metadata": {},
   "outputs": [
    {
     "data": {
      "text/plain": [
       "{'José': [11, 'rojo', 'Administración'],\n",
       " 'Charlie': [33, 'Violeta', 'Ingeniería'],\n",
       " 'Johanna': {'edad': 18, 'color': 'Gris', 'Lic': 'Actuaria'},\n",
       " 'gerardo': 'Falta por llenar'}"
      ]
     },
     "execution_count": 91,
     "metadata": {},
     "output_type": "execute_result"
    }
   ],
   "source": [
    "alumnosDic"
   ]
  },
  {
   "cell_type": "code",
   "execution_count": 92,
   "metadata": {},
   "outputs": [],
   "source": [
    "#modificando\n",
    "alumnosDic[\"gerardo\"] = (22,\"rojo\",\"computacion\")"
   ]
  },
  {
   "cell_type": "code",
   "execution_count": 93,
   "metadata": {},
   "outputs": [
    {
     "data": {
      "text/plain": [
       "{'José': [11, 'rojo', 'Administración'],\n",
       " 'Charlie': [33, 'Violeta', 'Ingeniería'],\n",
       " 'Johanna': {'edad': 18, 'color': 'Gris', 'Lic': 'Actuaria'},\n",
       " 'gerardo': (22, 'rojo', 'computacion')}"
      ]
     },
     "execution_count": 93,
     "metadata": {},
     "output_type": "execute_result"
    }
   ],
   "source": [
    "alumnosDic"
   ]
  },
  {
   "cell_type": "markdown",
   "metadata": {},
   "source": [
    "### Métodos dentro de un diccionario\n"
   ]
  },
  {
   "cell_type": "markdown",
   "metadata": {},
   "source": [
    "* **clear()**. Este método remueve todos los elementos del diccionario.\n",
    "* **copy()** . Este método devuelve una copia del diccionario\n",
    "* **get()** . Este método devuelve el valor en base a una coincidencia de búsqueda en un diccionario mediante una clave, de lo contrario devuelve el objeto None\n",
    "* **items()**. Este método devuelve una lista de pares de diccionarios (clave, valor), como 2 tuplas.\n",
    "* **pop()**. Este método remueve específicamente una clave de diccionario y devuelve valor correspondiente\n",
    "* **keys()**. Este método devuelve una lista de las claves del diccionario\n",
    "* **values()**. Este método devuelve una lista de los valores del diccionario\n",
    "* **update()**. Este método actualiza un diccionario agregando los pares clave-valores"
   ]
  },
  {
   "cell_type": "code",
   "execution_count": 94,
   "metadata": {},
   "outputs": [
    {
     "name": "stdout",
     "output_type": "stream",
     "text": [
      "dict_keys(['José', 'Charlie', 'Johanna', 'gerardo'])\n"
     ]
    }
   ],
   "source": [
    "# Las llaves del diccionario\n",
    "print(alumnosDic.keys())"
   ]
  },
  {
   "cell_type": "code",
   "execution_count": 95,
   "metadata": {},
   "outputs": [
    {
     "data": {
      "text/plain": [
       "dict_items([('José', [11, 'rojo', 'Administración']), ('Charlie', [33, 'Violeta', 'Ingeniería']), ('Johanna', {'edad': 18, 'color': 'Gris', 'Lic': 'Actuaria'}), ('gerardo', (22, 'rojo', 'computacion'))])"
      ]
     },
     "execution_count": 95,
     "metadata": {},
     "output_type": "execute_result"
    }
   ],
   "source": [
    "#Imprimir los elementos\n",
    "alumnosDic.items()"
   ]
  },
  {
   "cell_type": "markdown",
   "metadata": {},
   "source": [
    "También se pueden construir tablas con los diccionarios."
   ]
  },
  {
   "cell_type": "code",
   "execution_count": 96,
   "metadata": {},
   "outputs": [],
   "source": [
    "dato1 =('Sandy','Diego','Laura')\n",
    "dato2 = (18, 20, 18)\n",
    "dato3 = ('Eco', 'Conta', 'Eco')\n",
    "tabla = {'nombre': dato1, \"edad\": dato2, \"carrera\": dato3}"
   ]
  },
  {
   "cell_type": "code",
   "execution_count": 103,
   "metadata": {},
   "outputs": [
    {
     "name": "stdout",
     "output_type": "stream",
     "text": [
      "{'nombre': ('Sandy', 'Diego', 'Laura'), 'edad': (18, 20, 18), 'carrera': ('Eco', 'Conta', 'Eco')}\n",
      "Sandy\n",
      "Diego\n",
      "Laura\n"
     ]
    }
   ],
   "source": [
    "print(tabla)\n",
    "print(tabla[\"nombre\"][0])\n",
    "print(tabla[\"nombre\"][1])\n",
    "print(tabla[\"nombre\"][2])"
   ]
  },
  {
   "cell_type": "markdown",
   "metadata": {},
   "source": [
    "Otra forma más directa"
   ]
  },
  {
   "cell_type": "code",
   "execution_count": 104,
   "metadata": {},
   "outputs": [],
   "source": [
    "numeros = {\"positivos\": {\"uno\": 1,\"dos\": 2,\"tres\": 3}, \"negativos\":{\"mUno\": -1 , \"mDos\": -2, \"mTres\": -3}\n",
    "    }"
   ]
  },
  {
   "cell_type": "code",
   "execution_count": 106,
   "metadata": {},
   "outputs": [
    {
     "name": "stdout",
     "output_type": "stream",
     "text": [
      "{'mUno': -1, 'mDos': -2, 'mTres': -3}\n"
     ]
    }
   ],
   "source": [
    "print(numeros[\"negativos\"])"
   ]
  },
  {
   "cell_type": "markdown",
   "metadata": {},
   "source": [
    "## {Sets}\n",
    "\n",
    "Un `set` (conjunto) es una colección no ordenada de valores únicos. Para dos conjuntos `A`, `B` y valores `a` dentro de `A` y `b` dentro de `B`, se cumplen con las siguientes características\n",
    "* `A & B` (Intersección): Elementos en `A` y en `B`\n",
    "* `A | B` (Unión): Elementos en `A` o en `B`\n",
    "* `A - B` (Diferencia): Elementos en `A` no presentes en `B`\n",
    "* `A ^ B` (Diferencia Simétrica): Elementos en cualquiera de los conjuntos `A` o `B`, mas no en los dos.\n",
    "* `A <= B` (Subconjunto): Prueba si todos los elementos en `A` se encuentran dentro de `B`\n",
    "* `A >= B` (Superconjunto): Prueba si todos los elementos en `B` se encuentran dentro de `A`"
   ]
  },
  {
   "cell_type": "code",
   "execution_count": 107,
   "metadata": {},
   "outputs": [],
   "source": [
    "vocales = {'a', 'e', 'i', 'o', 'u'}\n",
    "p1 = {'c', 'a', 'r', 'r', 'o'}"
   ]
  },
  {
   "cell_type": "code",
   "execution_count": 108,
   "metadata": {},
   "outputs": [
    {
     "data": {
      "text/plain": [
       "set"
      ]
     },
     "execution_count": 108,
     "metadata": {},
     "output_type": "execute_result"
    }
   ],
   "source": [
    "type(vocales)"
   ]
  },
  {
   "cell_type": "code",
   "execution_count": 109,
   "metadata": {},
   "outputs": [
    {
     "data": {
      "text/plain": [
       "{'a', 'o'}"
      ]
     },
     "execution_count": 109,
     "metadata": {},
     "output_type": "execute_result"
    }
   ],
   "source": [
    "p1 & vocales"
   ]
  },
  {
   "cell_type": "code",
   "execution_count": 110,
   "metadata": {},
   "outputs": [
    {
     "data": {
      "text/plain": [
       "{'a', 'o'}"
      ]
     },
     "execution_count": 110,
     "metadata": {},
     "output_type": "execute_result"
    }
   ],
   "source": [
    "p1.intersection(vocales)"
   ]
  },
  {
   "cell_type": "code",
   "execution_count": 111,
   "metadata": {},
   "outputs": [
    {
     "data": {
      "text/plain": [
       "{'a', 'o'}"
      ]
     },
     "execution_count": 111,
     "metadata": {},
     "output_type": "execute_result"
    }
   ],
   "source": [
    "vocales.intersection(p1)"
   ]
  },
  {
   "cell_type": "code",
   "execution_count": 112,
   "metadata": {},
   "outputs": [
    {
     "data": {
      "text/plain": [
       "{'a', 'c', 'e', 'i', 'o', 'r', 'u'}"
      ]
     },
     "execution_count": 112,
     "metadata": {},
     "output_type": "execute_result"
    }
   ],
   "source": [
    "p1.union(vocales)"
   ]
  },
  {
   "cell_type": "code",
   "execution_count": 113,
   "metadata": {},
   "outputs": [
    {
     "data": {
      "text/plain": [
       "{'a', 'c', 'e', 'i', 'o', 'r', 'u'}"
      ]
     },
     "execution_count": 113,
     "metadata": {},
     "output_type": "execute_result"
    }
   ],
   "source": [
    "p1 | vocales"
   ]
  },
  {
   "cell_type": "code",
   "execution_count": 114,
   "metadata": {},
   "outputs": [
    {
     "data": {
      "text/plain": [
       "{'c', 'r'}"
      ]
     },
     "execution_count": 114,
     "metadata": {},
     "output_type": "execute_result"
    }
   ],
   "source": [
    "p1 - vocales"
   ]
  },
  {
   "cell_type": "code",
   "execution_count": 115,
   "metadata": {},
   "outputs": [
    {
     "data": {
      "text/plain": [
       "{'e', 'i', 'u'}"
      ]
     },
     "execution_count": 115,
     "metadata": {},
     "output_type": "execute_result"
    }
   ],
   "source": [
    "vocales - p1"
   ]
  },
  {
   "cell_type": "code",
   "execution_count": 116,
   "metadata": {},
   "outputs": [
    {
     "data": {
      "text/plain": [
       "{'c', 'e', 'i', 'r', 'u'}"
      ]
     },
     "execution_count": 116,
     "metadata": {},
     "output_type": "execute_result"
    }
   ],
   "source": [
    "p1 ^ vocales"
   ]
  },
  {
   "cell_type": "code",
   "execution_count": 117,
   "metadata": {},
   "outputs": [
    {
     "data": {
      "text/plain": [
       "{'c', 'e', 'i', 'r', 'u'}"
      ]
     },
     "execution_count": 117,
     "metadata": {},
     "output_type": "execute_result"
    }
   ],
   "source": [
    "vocales ^ p1"
   ]
  },
  {
   "cell_type": "code",
   "execution_count": 119,
   "metadata": {},
   "outputs": [
    {
     "data": {
      "text/plain": [
       "True"
      ]
     },
     "execution_count": 119,
     "metadata": {},
     "output_type": "execute_result"
    }
   ],
   "source": [
    "vocales <= vocales"
   ]
  },
  {
   "cell_type": "markdown",
   "metadata": {},
   "source": [
    "## Ejercicio 1\n",
    "Dados 3 strings, sepáralos y agrupalos en una lista para que después convertir cada uno en un conjunto diferente.\n",
    "Al final compara el tamaño de la primera lista con el primer conjunto y así sucesivamente. Explica que pasa.\n",
    "\n",
    "\"naranja rojo azul amarillo naranja rojo\" , \"rosa azul rojo verde gris rosa morado\", \"naranja azul gris negro azul gris\""
   ]
  },
  {
   "cell_type": "code",
   "execution_count": 120,
   "metadata": {},
   "outputs": [],
   "source": [
    "l1 = \"naranja rojo azul amarillo naranja rojo\".split() \n",
    "l2 = \"rosa azul rojo verde gris rosa morado\".split()\n",
    "l3 = \"naranja azul gris negro azul gris\".split()"
   ]
  },
  {
   "cell_type": "code",
   "execution_count": 122,
   "metadata": {},
   "outputs": [],
   "source": [
    "c1 = set(l1)\n",
    "c2 = set(l2)\n",
    "c3 = set (l3)"
   ]
  },
  {
   "cell_type": "code",
   "execution_count": 124,
   "metadata": {},
   "outputs": [
    {
     "name": "stdout",
     "output_type": "stream",
     "text": [
      "Tamaño de la lista 1: 6 y tamaño del conjunto 1: 4\n",
      "Tamaño de la lista 1: 7 y tamaño del conjunto 1: 6\n",
      "Tamaño de la lista 1: 6 y tamaño del conjunto 1: 4\n"
     ]
    }
   ],
   "source": [
    "print(f\"Tamaño de la lista 1: {len(l1)} y tamaño del conjunto 1: {len(c1)}\") \n",
    "print(f\"Tamaño de la lista 1: {len(l2)} y tamaño del conjunto 1: {len(c2)}\") \n",
    "print(f\"Tamaño de la lista 1: {len(l3)} y tamaño del conjunto 1: {len(c3)}\") "
   ]
  },
  {
   "cell_type": "code",
   "execution_count": null,
   "metadata": {},
   "outputs": [],
   "source": []
  },
  {
   "cell_type": "markdown",
   "metadata": {},
   "source": [
    "## Ejercicio 2 \n",
    "\n",
    "Define dos conjuntos sets con las siguientes características: \n",
    "- El conjunto \"gamma\" debe de tener una enumeración del 1 al 200.\n",
    "- El conjunto \"theta\" debe de tener una enumeración del 100 al 200 en saltos de 3.\n",
    "- Saca la intersección de estos dos conjuntos\n",
    "- Saca la diferencia de los dos conjuntos\n",
    "- Saca la intersección de estos dos últimos conjuntos calculados"
   ]
  },
  {
   "cell_type": "code",
   "execution_count": 127,
   "metadata": {},
   "outputs": [],
   "source": [
    "gamma = set(range(1,201))\n",
    "theta = set(range(100,203,3))"
   ]
  },
  {
   "cell_type": "code",
   "execution_count": 129,
   "metadata": {},
   "outputs": [],
   "source": [
    "i =gamma.intersection(theta)\n",
    "d = gamma.difference(theta)"
   ]
  },
  {
   "cell_type": "code",
   "execution_count": 130,
   "metadata": {},
   "outputs": [
    {
     "data": {
      "text/plain": [
       "set()"
      ]
     },
     "execution_count": 130,
     "metadata": {},
     "output_type": "execute_result"
    }
   ],
   "source": [
    "i.intersection(d)"
   ]
  },
  {
   "cell_type": "code",
   "execution_count": 131,
   "metadata": {},
   "outputs": [
    {
     "name": "stdout",
     "output_type": "stream",
     "text": [
      "{130, 133, 136, 139, 142, 145, 148, 151, 154, 157, 160, 163, 166, 169, 172, 175, 178, 181, 184, 187, 190, 193, 196, 199, 100, 103, 106, 109, 112, 115, 118, 121, 124, 127}\n"
     ]
    }
   ],
   "source": [
    "print(i)"
   ]
  },
  {
   "cell_type": "code",
   "execution_count": 132,
   "metadata": {},
   "outputs": [
    {
     "name": "stdout",
     "output_type": "stream",
     "text": [
      "{1, 2, 3, 4, 5, 6, 7, 8, 9, 10, 11, 12, 13, 14, 15, 16, 17, 18, 19, 20, 21, 22, 23, 24, 25, 26, 27, 28, 29, 30, 31, 32, 33, 34, 35, 36, 37, 38, 39, 40, 41, 42, 43, 44, 45, 46, 47, 48, 49, 50, 51, 52, 53, 54, 55, 56, 57, 58, 59, 60, 61, 62, 63, 64, 65, 66, 67, 68, 69, 70, 71, 72, 73, 74, 75, 76, 77, 78, 79, 80, 81, 82, 83, 84, 85, 86, 87, 88, 89, 90, 91, 92, 93, 94, 95, 96, 97, 98, 99, 101, 102, 104, 105, 107, 108, 110, 111, 113, 114, 116, 117, 119, 120, 122, 123, 125, 126, 128, 129, 131, 132, 134, 135, 137, 138, 140, 141, 143, 144, 146, 147, 149, 150, 152, 153, 155, 156, 158, 159, 161, 162, 164, 165, 167, 168, 170, 171, 173, 174, 176, 177, 179, 180, 182, 183, 185, 186, 188, 189, 191, 192, 194, 195, 197, 198, 200}\n"
     ]
    }
   ],
   "source": [
    "print(d)"
   ]
  },
  {
   "cell_type": "code",
   "execution_count": null,
   "metadata": {},
   "outputs": [],
   "source": []
  }
 ],
 "metadata": {
  "kernelspec": {
   "display_name": "Python 3",
   "language": "python",
   "name": "python3"
  },
  "language_info": {
   "codemirror_mode": {
    "name": "ipython",
    "version": 3
   },
   "file_extension": ".py",
   "mimetype": "text/x-python",
   "name": "python",
   "nbconvert_exporter": "python",
   "pygments_lexer": "ipython3",
   "version": "3.8.5"
  }
 },
 "nbformat": 4,
 "nbformat_minor": 4
}
