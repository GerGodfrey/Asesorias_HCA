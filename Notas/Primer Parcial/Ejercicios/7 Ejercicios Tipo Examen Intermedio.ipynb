{
 "cells": [
  {
   "cell_type": "markdown",
   "metadata": {},
   "source": [
    "# Herramientas Computacionales y Algoritmos  \n",
    "## Primer Examen Parcial Prueba"
   ]
  },
  {
   "cell_type": "markdown",
   "metadata": {},
   "source": [
    "Intrucciones:\n",
    "    \n",
    "    Descarga el archivo en una carpeta que tengas bien localizadada.\n",
    "    Recuerda que no tienes un tiempo marcado, pero lo recomendado es de 1 Hr. \n",
    "    Para e"
   ]
  },
  {
   "cell_type": "markdown",
   "metadata": {},
   "source": [
    "## Pregunta 1 (2.5 pts.)"
   ]
  },
  {
   "cell_type": "markdown",
   "metadata": {},
   "source": [
    "Una Escuela de Computación necesita que le ayudes a calcular lo que tiene que pagar un alumno por cada semestre.  \n",
    "Para ello te pide que realices una función (def) que tenga como parámetros, el tipo de alumno (Nacional o Extranjero) y el número de créditos que está cursando, y que regrese la cantidad que tiene que pagar el alumno.  \n",
    "El criterio que se sigue para calcular el costo del semestre es el siguiente:  \n",
    "\n",
    "Si el alumno es Nacional, solamente tendrá que pagar el costo por crédito (que es de 2,610.00) multiplicado por el número de créditos que lleva el alumno.  \n",
    "\n",
    "Si se trata de un alumno extranjero, al costo anterior, se le tendrá que añadir un monto de 5,000.00 pesos por seguro de gastos médicos.  \n"
   ]
  },
  {
   "cell_type": "code",
   "execution_count": 1,
   "metadata": {},
   "outputs": [],
   "source": [
    "\n",
    "def costo (x,y):\n",
    "    if y==\"mexicana\":\n",
    "        x=x*2610\n",
    "    else:\n",
    "        x=(x*2610)+5000\n",
    "    return x\n",
    "\n",
    "    "
   ]
  },
  {
   "cell_type": "code",
   "execution_count": 2,
   "metadata": {},
   "outputs": [
    {
     "name": "stdout",
     "output_type": "stream",
     "text": [
      "Dame tu nacionalidadmexicana\n",
      "Dame tu numero de credito2\n"
     ]
    },
    {
     "data": {
      "text/plain": [
       "5220"
      ]
     },
     "execution_count": 2,
     "metadata": {},
     "output_type": "execute_result"
    }
   ],
   "source": [
    "y=str(input(\"Dame tu nacionalidad\"))\n",
    "x=int(input(\"Dame tu numero de credito\"))\n",
    "costo(x,y)"
   ]
  },
  {
   "cell_type": "code",
   "execution_count": null,
   "metadata": {},
   "outputs": [],
   "source": [
    "y=str(input(\"Dame tu nacionalidad\"))\n",
    "x=int(input(\"Dame tu numero de credito\"))\n"
   ]
  },
  {
   "cell_type": "code",
   "execution_count": 55,
   "metadata": {},
   "outputs": [
    {
     "name": "stdout",
     "output_type": "stream",
     "text": [
      "Dame tu credito5\n",
      "Dame tu nacionalidadmexicana\n"
     ]
    }
   ],
   "source": []
  },
  {
   "cell_type": "markdown",
   "metadata": {},
   "source": [
    "## Pregunta 2 (1.5 pts.)"
   ]
  },
  {
   "cell_type": "markdown",
   "metadata": {},
   "source": [
    "Se sabe que para cubrir un jardín de 2 metros de largo se necesitan 6 rollos de alambre. En un proyecto se requiere cubrir un jardín que tiene 25 metros de largo.\n",
    "\n",
    "¿Cuántos rollos de alambre necesitaremos?  \n",
    "Utiliza variables para indicar el planteamiento y solución.\n"
   ]
  },
  {
   "cell_type": "code",
   "execution_count": 1,
   "metadata": {},
   "outputs": [
    {
     "name": "stdout",
     "output_type": "stream",
     "text": [
      "75.0\n"
     ]
    }
   ],
   "source": [
    "x=2\n",
    "y=6\n",
    "z=25\n",
    "resultado=(z*y)/x\n",
    "print(resultado)"
   ]
  },
  {
   "cell_type": "code",
   "execution_count": null,
   "metadata": {},
   "outputs": [],
   "source": []
  },
  {
   "cell_type": "code",
   "execution_count": null,
   "metadata": {},
   "outputs": [],
   "source": []
  },
  {
   "cell_type": "markdown",
   "metadata": {},
   "source": [
    "## Pregunta 3 (1.5 pts.)"
   ]
  },
  {
   "cell_type": "markdown",
   "metadata": {},
   "source": [
    "En un trayecto por varios sitios turísticos del Norte del país, un auto que va a 75 Km/hr., tarda 2 horas 20 min., en hacer su recorrido, cuanto tardará otro auto que hace exactamente el mismo recorrido pero a una velocidad de 110 Km/hr.?\n",
    "\n",
    "No olvides utilizar variables para representar tu información."
   ]
  },
  {
   "cell_type": "code",
   "execution_count": 5,
   "metadata": {},
   "outputs": [
    {
     "name": "stdout",
     "output_type": "stream",
     "text": [
      "95.45454545454545\n"
     ]
    }
   ],
   "source": [
    "x=75\n",
    "y=140\n",
    "z=110\n",
    "resultado=(x*y)/z\n",
    "print(resultado)"
   ]
  },
  {
   "cell_type": "code",
   "execution_count": null,
   "metadata": {},
   "outputs": [],
   "source": []
  },
  {
   "cell_type": "code",
   "execution_count": null,
   "metadata": {},
   "outputs": [],
   "source": []
  },
  {
   "cell_type": "markdown",
   "metadata": {},
   "source": [
    "## Pregunta 4 (2.5 pts.)"
   ]
  },
  {
   "cell_type": "markdown",
   "metadata": {},
   "source": [
    "Una empresa que se dedica a reparar smartphones tiene en su catálogo de servicios el siguiente registro de marcas de celular:\n",
    "\n",
    "Marcas=['Iphone','Samsung','Sony','LG','Huawei',Motorola','Lenovo','Nokia','ZTE','Oppo']\n",
    "\n",
    "Y se tiene el número de reparaciones de cada marca:\n",
    "\n",
    "cantidad=[17,2,43,14,10,17,21,8,15,27]\n",
    "\n",
    "La siguiente lista muestra el costo de cada reparación según la marca correspondiente:\n",
    "\n",
    "costo=[4900,9800,2700,987,3700,856,452,560,1347,2680]\n",
    "\n",
    "a) Genera una nueva lista con las ganancias obtenidas de cada una de las marcas (Las ganancias se obtienen multiplicando el costo por la cantidad).  \n",
    "\n",
    "Nota: recuerda que puedes crear una lista vacía con: lista=[]\n"
   ]
  },
  {
   "cell_type": "code",
   "execution_count": 6,
   "metadata": {},
   "outputs": [
    {
     "name": "stdout",
     "output_type": "stream",
     "text": [
      "[83300, 19600, 116100, 13818, 37000, 14552, 9492, 4480, 20205, 72360]\n"
     ]
    }
   ],
   "source": [
    "costo=[4900,9800,2700,987,3700,856,452,560,1347,2680]\n",
    "cantidad=[17,2,43,14,10,17,21,8,15,27]\n",
    "resultado=[x*y for x,y in zip(costo,cantidad)]\n",
    "print(resultado)"
   ]
  },
  {
   "cell_type": "code",
   "execution_count": 7,
   "metadata": {},
   "outputs": [
    {
     "name": "stdout",
     "output_type": "stream",
     "text": [
      "39090.7\n"
     ]
    }
   ],
   "source": [
    "promedio= sum(resultado)/10\n",
    "print(promedio)"
   ]
  },
  {
   "cell_type": "code",
   "execution_count": null,
   "metadata": {},
   "outputs": [],
   "source": []
  },
  {
   "cell_type": "markdown",
   "metadata": {},
   "source": [
    "b) Escribe cuál fue la ganancia promedio de todas las marcas que maneja la empresa. Escribe tu respuesta utilizando un letrero adecuado y el número con 3 decimales."
   ]
  },
  {
   "cell_type": "code",
   "execution_count": 15,
   "metadata": {},
   "outputs": [],
   "source": []
  },
  {
   "cell_type": "code",
   "execution_count": 21,
   "metadata": {},
   "outputs": [
    {
     "data": {
      "text/plain": [
       "390907"
      ]
     },
     "execution_count": 21,
     "metadata": {},
     "output_type": "execute_result"
    }
   ],
   "source": []
  },
  {
   "cell_type": "code",
   "execution_count": 22,
   "metadata": {},
   "outputs": [],
   "source": []
  },
  {
   "cell_type": "code",
   "execution_count": 23,
   "metadata": {},
   "outputs": [
    {
     "name": "stdout",
     "output_type": "stream",
     "text": [
      "39090.7\n"
     ]
    }
   ],
   "source": []
  },
  {
   "cell_type": "markdown",
   "metadata": {},
   "source": [
    "## Pregunta 5 (2.0 pts.)"
   ]
  },
  {
   "cell_type": "raw",
   "metadata": {},
   "source": [
    "Se te pide que realices un programa (no una función) que escriba una secuencia de números de acuerdo a los siguientes criterios:\n",
    "Tu programa deberá pedir un número y, mientras no se llegue a 1 realizar lo siguiente:  \n",
    "\n",
    "Si el número es par, deberá dividirse entre 2 y escribir este número.  \n",
    "\n",
    "Esto se deberá repetir hasta que el número sea 1.  \n",
    "\n",
    "Ejemplo: si el número es 23, deberá escribir:  \n",
    "11  5  2  1\n"
   ]
  },
  {
   "cell_type": "code",
   "execution_count": 17,
   "metadata": {},
   "outputs": [
    {
     "name": "stdout",
     "output_type": "stream",
     "text": [
      "Dame tu numero23\n",
      "11.0\n",
      "5.0\n",
      "2.0\n",
      "1.0\n"
     ]
    }
   ],
   "source": [
    "x=int(input(\"Dame tu numero\"))\n",
    "while x!=1:\n",
    "    if x%2==0:\n",
    "        x=x/2\n",
    "        print(x)\n",
    "    else:\n",
    "        x=x-1\n",
    "        \n",
    "        \n",
    "\n",
    "    "
   ]
  },
  {
   "cell_type": "code",
   "execution_count": 11,
   "metadata": {},
   "outputs": [
    {
     "data": {
      "text/plain": [
       "0"
      ]
     },
     "execution_count": 11,
     "metadata": {},
     "output_type": "execute_result"
    }
   ],
   "source": [
    "2%2"
   ]
  },
  {
   "cell_type": "code",
   "execution_count": null,
   "metadata": {},
   "outputs": [],
   "source": []
  },
  {
   "cell_type": "markdown",
   "metadata": {},
   "source": [
    "##  Suerte!!!"
   ]
  },
  {
   "cell_type": "code",
   "execution_count": 1,
   "metadata": {},
   "outputs": [
    {
     "ename": "KeyboardInterrupt",
     "evalue": "Interrupted by user",
     "output_type": "error",
     "traceback": [
      "\u001b[0;31m---------------------------------------------------------------------------\u001b[0m",
      "\u001b[0;31mKeyboardInterrupt\u001b[0m                         Traceback (most recent call last)",
      "\u001b[0;32m<ipython-input-1-4e4b4d919e14>\u001b[0m in \u001b[0;36m<module>\u001b[0;34m\u001b[0m\n\u001b[1;32m      8\u001b[0m \u001b[0;31m#entrada\u001b[0m\u001b[0;34m\u001b[0m\u001b[0;34m\u001b[0m\u001b[0;34m\u001b[0m\u001b[0m\n\u001b[1;32m      9\u001b[0m \u001b[0;31m# hamburguesa\u001b[0m\u001b[0;34m\u001b[0m\u001b[0;34m\u001b[0m\u001b[0;34m\u001b[0m\u001b[0m\n\u001b[0;32m---> 10\u001b[0;31m \u001b[0mh\u001b[0m\u001b[0;34m=\u001b[0m\u001b[0minput\u001b[0m\u001b[0;34m(\u001b[0m\u001b[0;34m\"que tipo de hamburguesa quieres? (S,D,T)\"\u001b[0m\u001b[0;34m)\u001b[0m\u001b[0;34m\u001b[0m\u001b[0;34m\u001b[0m\u001b[0m\n\u001b[0m\u001b[1;32m     11\u001b[0m \u001b[0;34m\u001b[0m\u001b[0m\n\u001b[1;32m     12\u001b[0m \u001b[0;32mif\u001b[0m \u001b[0mh\u001b[0m\u001b[0;34m==\u001b[0m\u001b[0;34m\"S\"\u001b[0m \u001b[0;32mor\u001b[0m \u001b[0mh\u001b[0m\u001b[0;34m==\u001b[0m\u001b[0;34m\"s\"\u001b[0m\u001b[0;34m:\u001b[0m\u001b[0;34m\u001b[0m\u001b[0;34m\u001b[0m\u001b[0m\n",
      "\u001b[0;32m/opt/anaconda3/lib/python3.8/site-packages/ipykernel/kernelbase.py\u001b[0m in \u001b[0;36mraw_input\u001b[0;34m(self, prompt)\u001b[0m\n\u001b[1;32m    858\u001b[0m                 \u001b[0;34m\"raw_input was called, but this frontend does not support input requests.\"\u001b[0m\u001b[0;34m\u001b[0m\u001b[0;34m\u001b[0m\u001b[0m\n\u001b[1;32m    859\u001b[0m             )\n\u001b[0;32m--> 860\u001b[0;31m         return self._input_request(str(prompt),\n\u001b[0m\u001b[1;32m    861\u001b[0m             \u001b[0mself\u001b[0m\u001b[0;34m.\u001b[0m\u001b[0m_parent_ident\u001b[0m\u001b[0;34m,\u001b[0m\u001b[0;34m\u001b[0m\u001b[0;34m\u001b[0m\u001b[0m\n\u001b[1;32m    862\u001b[0m             \u001b[0mself\u001b[0m\u001b[0;34m.\u001b[0m\u001b[0m_parent_header\u001b[0m\u001b[0;34m,\u001b[0m\u001b[0;34m\u001b[0m\u001b[0;34m\u001b[0m\u001b[0m\n",
      "\u001b[0;32m/opt/anaconda3/lib/python3.8/site-packages/ipykernel/kernelbase.py\u001b[0m in \u001b[0;36m_input_request\u001b[0;34m(self, prompt, ident, parent, password)\u001b[0m\n\u001b[1;32m    902\u001b[0m             \u001b[0;32mexcept\u001b[0m \u001b[0mKeyboardInterrupt\u001b[0m\u001b[0;34m:\u001b[0m\u001b[0;34m\u001b[0m\u001b[0;34m\u001b[0m\u001b[0m\n\u001b[1;32m    903\u001b[0m                 \u001b[0;31m# re-raise KeyboardInterrupt, to truncate traceback\u001b[0m\u001b[0;34m\u001b[0m\u001b[0;34m\u001b[0m\u001b[0;34m\u001b[0m\u001b[0m\n\u001b[0;32m--> 904\u001b[0;31m                 \u001b[0;32mraise\u001b[0m \u001b[0mKeyboardInterrupt\u001b[0m\u001b[0;34m(\u001b[0m\u001b[0;34m\"Interrupted by user\"\u001b[0m\u001b[0;34m)\u001b[0m \u001b[0;32mfrom\u001b[0m \u001b[0;32mNone\u001b[0m\u001b[0;34m\u001b[0m\u001b[0;34m\u001b[0m\u001b[0m\n\u001b[0m\u001b[1;32m    905\u001b[0m             \u001b[0;32mexcept\u001b[0m \u001b[0mException\u001b[0m \u001b[0;32mas\u001b[0m \u001b[0me\u001b[0m\u001b[0;34m:\u001b[0m\u001b[0;34m\u001b[0m\u001b[0;34m\u001b[0m\u001b[0m\n\u001b[1;32m    906\u001b[0m                 \u001b[0mself\u001b[0m\u001b[0;34m.\u001b[0m\u001b[0mlog\u001b[0m\u001b[0;34m.\u001b[0m\u001b[0mwarning\u001b[0m\u001b[0;34m(\u001b[0m\u001b[0;34m\"Invalid Message:\"\u001b[0m\u001b[0;34m,\u001b[0m \u001b[0mexc_info\u001b[0m\u001b[0;34m=\u001b[0m\u001b[0;32mTrue\u001b[0m\u001b[0;34m)\u001b[0m\u001b[0;34m\u001b[0m\u001b[0;34m\u001b[0m\u001b[0m\n",
      "\u001b[0;31mKeyboardInterrupt\u001b[0m: Interrupted by user"
     ]
    }
   ],
   "source": [
    "#procedimiento con variables\n",
    "th=0\n",
    "tq=0\n",
    "tp=0\n",
    "tr=0\n",
    "t=0\n",
    "pt=0\n",
    "#entrada\n",
    "# hamburguesa\n",
    "h=input(\"que tipo de hamburguesa quieres? (S,D,T)\")\n",
    "\n",
    "if h==\"S\" or h==\"s\":\n",
    "    th=35\n",
    "elif h==\"d\" or h==\"D\":\n",
    "    th=45\n",
    "elif h==\"T\" or h==\"t\":\n",
    "    th=60\n",
    "else:\n",
    "    th=\"error\"\n",
    "#queso\n",
    "q=input(\"Quieres queso? (si,no)\")\n",
    "if q==\"Si\" or q==\"si\" or q==\"Sì\":\n",
    "    tq=10\n",
    "else:\n",
    "    tq=0\n",
    "    \n",
    "#papas\n",
    "p=input(\"Quieres papas? (si,no)\")\n",
    "if p==\"Si\" or p==\"si\" or p==\"Sì\":\n",
    "    tp=18\n",
    "else:\n",
    "    tp=0\n",
    "    \n",
    "#refresco\n",
    "r=input(\"Quieres refresco? (si,no)\")\n",
    "if r==\"Si\" or r==\"si\" or r==\"Sì\":\n",
    "    tr=20\n",
    "else:\n",
    "    tr=0 \n",
    "    \n",
    "#pago con tarjeta\n",
    "t=input(\"Tu pago es con tarjeta? (si,no)\")\n",
    "if t==\"Si\" or t==\"si\" or t==\"Sì\":\n",
    "    pt=(th+tq+tr+tp)*1.06\n",
    "else:\n",
    "    pt=th+tq+tr+tp\n",
    "\n",
    "#salida\n",
    "print(\"Tu pago total es de $\",pt)"
   ]
  },
  {
   "cell_type": "code",
   "execution_count": null,
   "metadata": {},
   "outputs": [],
   "source": [
    "# procedimiento con listas\n",
    "lh=[\"s\",\"d\",\"t\",\"s\",\"d\",\"t\",\"s\",\"s\",\"t\",\"d\",\"d\",\"s\",\"t\",\"s\",\"t\",\"d\",\"t\",\"t\",\"d\",\"s\"] \n",
    "lq=[\"si\",\"si\",\"no\",\"si\",\"no\",\"no\",\"no\",\"no\",\"si\",\"no\",\"si\",\"si\",\"no\",\"si\",\"no\",\"no\",\"no\",\"no\",\"si\",\"no\"] \n",
    "lp=[\"no\",\"no\",\"no\",\"si\",\"no\",\"si\",\"no\",\"no\",\"si\",\"si\",\"si\",\"si\",\"no\",\"si\",\"no\",\"si\",\"no\",\"no\",\"si\",\"si\"] \n",
    "lr=[\"si\",\"no\",\"no\",\"si\",\"si\",\"no\",\"no\",\"si\",\"no\",\"si\",\"no\",\"no\",\"si\",\"no\",\"si\",\"no\",\"no\",\"si\",\"no\",\"si\"] \n",
    "lt=[\"si\",\"si\",\"no\",\"si\",\"no\",\"si\",\"no\",\"no\",\"si\",\"si\",\"si\",\"no\",\"no\",\"si\",\"si\",\"si\",\"si\",\"si\",\"si\",\"no\"] \n",
    "lpt=[ ] \n",
    "i=0\n",
    "ha=0\n",
    "qu=0\n",
    "re=0\n",
    "pa=0\n",
    "ta=0\n",
    "while i<len(lh):\n",
    "    if lh[i]==\"s\":\n",
    "        ha=35\n",
    "    elif lh[i]==\"d\":\n",
    "        ha=45\n",
    "    elif lh[i]==\"t\":\n",
    "        ha=60\n",
    "    else:\n",
    "        ha=\"error\"\n",
    "    if lq[i]==\"si\":\n",
    "        qu=10\n",
    "    else:\n",
    "        qu=0\n",
    "    if lr[i]==\"si\":\n",
    "        re=20\n",
    "    else:\n",
    "        re=0\n",
    "    if lp[i]==\"si\":\n",
    "        pa=18\n",
    "    else:\n",
    "        pa=0\n",
    "    if lt[i]==\"si\":\n",
    "        ta=(ha+qu+re+pa)*1.06\n",
    "    else:\n",
    "        ta=ha+qu+re+pa\n",
    "    i=i+1\n",
    "    lpt.append(ta)\n",
    "print(\"los pagos totales son de\",lpt,\"pesos\")   \n"
   ]
  },
  {
   "cell_type": "code",
   "execution_count": null,
   "metadata": {},
   "outputs": [],
   "source": [
    "#función con variables\n",
    "def hamburguesa(h1,q1,p1,r1,t1):\n",
    "    th1=0\n",
    "    tq1=0\n",
    "    tp1=0\n",
    "    tr1=0\n",
    "    pt1=0\n",
    "#hamburguesa    \n",
    "    if h1==\"s\" or h1==\"S\":\n",
    "        th1=35\n",
    "    elif h1==\"d\" or h1==\"D\":\n",
    "        th1=45\n",
    "    elif h1==\"t\" or h1==\"T\":\n",
    "        th1=60\n",
    "    else:\n",
    "        th1=\"error\"\n",
    "#queso        \n",
    "    if q1==\"Si\" or q1==\"si\":\n",
    "        tq1=10\n",
    "    else:\n",
    "        tq1=0\n",
    "#papas       \n",
    "    if p1==\"Si\" or p1==\"si\":\n",
    "        tp1=18\n",
    "    else:\n",
    "        tp1=0\n",
    "#refresco\n",
    "    if r1==\"Si\" or r1==\"si\":\n",
    "        tr1=20\n",
    "    else:\n",
    "        tr1=0\n",
    "#pago con tarjeta\n",
    "    if t1==\"Si\" or t1==\"si\":\n",
    "        pt1=(th1+tq1+tp1+tr1)*1.06\n",
    "    else:\n",
    "        pt1=th1+tq1+tp1+tr1\n",
    "        \n",
    "    return(\"tu pago total es de\",pt1,\"pesos\")\n",
    "\n",
    "\n",
    "        "
   ]
  },
  {
   "cell_type": "code",
   "execution_count": null,
   "metadata": {},
   "outputs": [],
   "source": [
    "hamburguesa(\"s\",\"no\",\"no\",\"si\",\"no\")"
   ]
  },
  {
   "cell_type": "code",
   "execution_count": null,
   "metadata": {},
   "outputs": [],
   "source": []
  }
 ],
 "metadata": {
  "kernelspec": {
   "display_name": "Python 3",
   "language": "python",
   "name": "python3"
  },
  "language_info": {
   "codemirror_mode": {
    "name": "ipython",
    "version": 3
   },
   "file_extension": ".py",
   "mimetype": "text/x-python",
   "name": "python",
   "nbconvert_exporter": "python",
   "pygments_lexer": "ipython3",
   "version": "3.8.5"
  }
 },
 "nbformat": 4,
 "nbformat_minor": 2
}
