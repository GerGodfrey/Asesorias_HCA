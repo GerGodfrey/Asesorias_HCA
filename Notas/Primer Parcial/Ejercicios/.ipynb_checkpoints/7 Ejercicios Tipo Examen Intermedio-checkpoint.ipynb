{
 "cells": [
  {
   "cell_type": "markdown",
   "metadata": {},
   "source": [
    "# Herramientas Computacionales y Algoritmos  \n",
    "## Primer Examen Parcial Prueba"
   ]
  },
  {
   "cell_type": "markdown",
   "metadata": {},
   "source": [
    "Intrucciones:\n",
    "    \n",
    "    Descarga el archivo en una carpeta que tengas bien localizadada.\n",
    "    Recuerda que no tienes un tiempo marcado, pero lo recomendado es de 1 Hr. \n",
    "    Para e"
   ]
  },
  {
   "cell_type": "markdown",
   "metadata": {},
   "source": [
    "## Pregunta 1 (2.5 pts.)"
   ]
  },
  {
   "cell_type": "markdown",
   "metadata": {},
   "source": [
    "Una Escuela de Computación necesita que le ayudes a calcular lo que tiene que pagar un alumno por cada semestre.  \n",
    "Para ello te pide que realices una función (def) que tenga como parámetros, el tipo de alumno (Nacional o Extranjero) y el número de créditos que está cursando, y que regrese la cantidad que tiene que pagar el alumno.  \n",
    "El criterio que se sigue para calcular el costo del semestre es el siguiente:  \n",
    "\n",
    "Si el alumno es Nacional, solamente tendrá que pagar el costo por crédito (que es de 2,610.00) multiplicado por el número de créditos que lleva el alumno.  \n",
    "\n",
    "Si se trata de un alumno extranjero, al costo anterior, se le tendrá que añadir un monto de 5,000.00 pesos por seguro de gastos médicos.  \n"
   ]
  },
  {
   "cell_type": "code",
   "execution_count": 1,
   "metadata": {},
   "outputs": [],
   "source": [
    "\n",
    "def costo (x,y):\n",
    "    if y==\"mexicana\":\n",
    "        x=x*2610\n",
    "    else:\n",
    "        x=(x*2610)+5000\n",
    "    return x\n",
    "\n",
    "    "
   ]
  },
  {
   "cell_type": "code",
   "execution_count": 2,
   "metadata": {},
   "outputs": [
    {
     "name": "stdout",
     "output_type": "stream",
     "text": [
      "Dame tu nacionalidadmexicana\n",
      "Dame tu numero de credito2\n"
     ]
    },
    {
     "data": {
      "text/plain": [
       "5220"
      ]
     },
     "execution_count": 2,
     "metadata": {},
     "output_type": "execute_result"
    }
   ],
   "source": [
    "y=str(input(\"Dame tu nacionalidad\"))\n",
    "x=int(input(\"Dame tu numero de credito\"))\n",
    "costo(x,y)"
   ]
  },
  {
   "cell_type": "code",
   "execution_count": null,
   "metadata": {},
   "outputs": [],
   "source": [
    "y=str(input(\"Dame tu nacionalidad\"))\n",
    "x=int(input(\"Dame tu numero de credito\"))\n"
   ]
  },
  {
   "cell_type": "code",
   "execution_count": 55,
   "metadata": {},
   "outputs": [
    {
     "name": "stdout",
     "output_type": "stream",
     "text": [
      "Dame tu credito5\n",
      "Dame tu nacionalidadmexicana\n"
     ]
    }
   ],
   "source": []
  },
  {
   "cell_type": "markdown",
   "metadata": {},
   "source": [
    "## Pregunta 2 (1.5 pts.)"
   ]
  },
  {
   "cell_type": "markdown",
   "metadata": {},
   "source": [
    "Se sabe que para cubrir un jardín de 2 metros de largo se necesitan 6 rollos de alambre. En un proyecto se requiere cubrir un jardín que tiene 25 metros de largo.\n",
    "\n",
    "¿Cuántos rollos de alambre necesitaremos?  \n",
    "Utiliza variables para indicar el planteamiento y solución.\n"
   ]
  },
  {
   "cell_type": "code",
   "execution_count": 4,
   "metadata": {},
   "outputs": [
    {
     "name": "stdout",
     "output_type": "stream",
     "text": [
      "75.0\n"
     ]
    }
   ],
   "source": [
    "x=2\n",
    "y=6\n",
    "z=25\n",
    "resultado=(z*y)/x\n",
    "print(resultado)"
   ]
  },
  {
   "cell_type": "code",
   "execution_count": null,
   "metadata": {},
   "outputs": [],
   "source": []
  },
  {
   "cell_type": "code",
   "execution_count": null,
   "metadata": {},
   "outputs": [],
   "source": []
  },
  {
   "cell_type": "markdown",
   "metadata": {},
   "source": [
    "## Pregunta 3 (1.5 pts.)"
   ]
  },
  {
   "cell_type": "markdown",
   "metadata": {},
   "source": [
    "En un trayecto por varios sitios turísticos del Norte del país, un auto que va a 75 Km/hr., tarda 2 horas 20 min., en hacer su recorrido, cuanto tardará otro auto que hace exactamente el mismo recorrido pero a una velocidad de 110 Km/hr.?\n",
    "\n",
    "No olvides utilizar variables para representar tu información."
   ]
  },
  {
   "cell_type": "code",
   "execution_count": 5,
   "metadata": {},
   "outputs": [
    {
     "name": "stdout",
     "output_type": "stream",
     "text": [
      "95.45454545454545\n"
     ]
    }
   ],
   "source": [
    "x=75\n",
    "y=140\n",
    "z=110\n",
    "resultado=(x*y)/z\n",
    "print(resultado)"
   ]
  },
  {
   "cell_type": "code",
   "execution_count": null,
   "metadata": {},
   "outputs": [],
   "source": []
  },
  {
   "cell_type": "code",
   "execution_count": null,
   "metadata": {},
   "outputs": [],
   "source": []
  },
  {
   "cell_type": "markdown",
   "metadata": {},
   "source": [
    "## Pregunta 4 (2.5 pts.)"
   ]
  },
  {
   "cell_type": "markdown",
   "metadata": {},
   "source": [
    "Una empresa que se dedica a reparar smartphones tiene en su catálogo de servicios el siguiente registro de marcas de celular:\n",
    "\n",
    "Marcas=['Iphone','Samsung','Sony','LG','Huawei',Motorola','Lenovo','Nokia','ZTE','Oppo']\n",
    "\n",
    "Y se tiene el número de reparaciones de cada marca:\n",
    "\n",
    "cantidad=[17,2,43,14,10,17,21,8,15,27]\n",
    "\n",
    "La siguiente lista muestra el costo de cada reparación según la marca correspondiente:\n",
    "\n",
    "costo=[4900,9800,2700,987,3700,856,452,560,1347,2680]\n",
    "\n",
    "a) Genera una nueva lista con las ganancias obtenidas de cada una de las marcas (Las ganancias se obtienen multiplicando el costo por la cantidad).  \n",
    "\n",
    "Nota: recuerda que puedes crear una lista vacía con: lista=[]\n"
   ]
  },
  {
   "cell_type": "code",
   "execution_count": 6,
   "metadata": {},
   "outputs": [
    {
     "name": "stdout",
     "output_type": "stream",
     "text": [
      "[83300, 19600, 116100, 13818, 37000, 14552, 9492, 4480, 20205, 72360]\n"
     ]
    }
   ],
   "source": [
    "costo=[4900,9800,2700,987,3700,856,452,560,1347,2680]\n",
    "cantidad=[17,2,43,14,10,17,21,8,15,27]\n",
    "resultado=[x*y for x,y in zip(costo,cantidad)]\n",
    "print(resultado)"
   ]
  },
  {
   "cell_type": "code",
   "execution_count": 7,
   "metadata": {},
   "outputs": [
    {
     "name": "stdout",
     "output_type": "stream",
     "text": [
      "39090.7\n"
     ]
    }
   ],
   "source": [
    "promedio= sum(resultado)/10\n",
    "print(promedio)"
   ]
  },
  {
   "cell_type": "code",
   "execution_count": null,
   "metadata": {},
   "outputs": [],
   "source": []
  },
  {
   "cell_type": "markdown",
   "metadata": {},
   "source": [
    "b) Escribe cuál fue la ganancia promedio de todas las marcas que maneja la empresa. Escribe tu respuesta utilizando un letrero adecuado y el número con 3 decimales."
   ]
  },
  {
   "cell_type": "code",
   "execution_count": 15,
   "metadata": {},
   "outputs": [],
   "source": []
  },
  {
   "cell_type": "code",
   "execution_count": 21,
   "metadata": {},
   "outputs": [
    {
     "data": {
      "text/plain": [
       "390907"
      ]
     },
     "execution_count": 21,
     "metadata": {},
     "output_type": "execute_result"
    }
   ],
   "source": []
  },
  {
   "cell_type": "code",
   "execution_count": 22,
   "metadata": {},
   "outputs": [],
   "source": []
  },
  {
   "cell_type": "code",
   "execution_count": 23,
   "metadata": {},
   "outputs": [
    {
     "name": "stdout",
     "output_type": "stream",
     "text": [
      "39090.7\n"
     ]
    }
   ],
   "source": []
  },
  {
   "cell_type": "markdown",
   "metadata": {},
   "source": [
    "## Pregunta 5 (2.0 pts.)"
   ]
  },
  {
   "cell_type": "raw",
   "metadata": {},
   "source": [
    "Se te pide que realices un programa (no una función) que escriba una secuencia de números de acuerdo a los siguientes criterios:\n",
    "Tu programa deberá pedir un número y, mientras no se llegue a 1 realizar lo siguiente:  \n",
    "\n",
    "Si el número es par, deberá dividirse entre 2 y escribir este número.  \n",
    "\n",
    "Esto se deberá repetir hasta que el número sea 1.  \n",
    "\n",
    "Ejemplo: si el número es 23, deberá escribir:  \n",
    "11  5  2  1\n"
   ]
  },
  {
   "cell_type": "code",
   "execution_count": 17,
   "metadata": {},
   "outputs": [
    {
     "name": "stdout",
     "output_type": "stream",
     "text": [
      "Dame tu numero23\n",
      "11.0\n",
      "5.0\n",
      "2.0\n",
      "1.0\n"
     ]
    }
   ],
   "source": [
    "x=int(input(\"Dame tu numero\"))\n",
    "while x!=1:\n",
    "    if x%2==0:\n",
    "        x=x/2\n",
    "        print(x)\n",
    "    else:\n",
    "        x=x-1\n",
    "        \n",
    "        \n",
    "\n",
    "    "
   ]
  },
  {
   "cell_type": "code",
   "execution_count": 11,
   "metadata": {},
   "outputs": [
    {
     "data": {
      "text/plain": [
       "0"
      ]
     },
     "execution_count": 11,
     "metadata": {},
     "output_type": "execute_result"
    }
   ],
   "source": [
    "2%2"
   ]
  },
  {
   "cell_type": "code",
   "execution_count": null,
   "metadata": {},
   "outputs": [],
   "source": []
  },
  {
   "cell_type": "markdown",
   "metadata": {},
   "source": [
    "##  Suerte!!!"
   ]
  },
  {
   "cell_type": "code",
   "execution_count": null,
   "metadata": {},
   "outputs": [],
   "source": []
  }
 ],
 "metadata": {
  "kernelspec": {
   "display_name": "Python 3",
   "language": "python",
   "name": "python3"
  },
  "language_info": {
   "codemirror_mode": {
    "name": "ipython",
    "version": 3
   },
   "file_extension": ".py",
   "mimetype": "text/x-python",
   "name": "python",
   "nbconvert_exporter": "python",
   "pygments_lexer": "ipython3",
   "version": "3.8.5"
  }
 },
 "nbformat": 4,
 "nbformat_minor": 2
}
