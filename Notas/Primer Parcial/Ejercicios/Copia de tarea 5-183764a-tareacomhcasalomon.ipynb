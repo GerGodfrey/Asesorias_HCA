{
 "cells": [
  {
   "cell_type": "markdown",
   "metadata": {},
   "source": [
    "Dado el número (10110)2 en base 2 conviértelo al sistema decimal, en base 10. Crea una función que convierta un número arbitrario en base 2 a decimal."
   ]
  },
  {
   "cell_type": "code",
   "execution_count": 23,
   "metadata": {},
   "outputs": [],
   "source": [
    "def decimalabinario (x):\n",
    "    resultado=[]\n",
    "    while x>0:\n",
    "            \n",
    "            resultado.append(x%2)\n",
    "            \n",
    "            x=int(x/2)\n",
    "    resultado.reverse()\n",
    "    return resultado"
   ]
  },
  {
   "cell_type": "code",
   "execution_count": 24,
   "metadata": {},
   "outputs": [
    {
     "data": {
      "text/plain": [
       "[1, 0, 0, 0, 1, 1, 0]"
      ]
     },
     "execution_count": 24,
     "metadata": {},
     "output_type": "execute_result"
    }
   ],
   "source": [
    "decimalabinario(70)\n"
   ]
  },
  {
   "cell_type": "markdown",
   "metadata": {},
   "source": [
    "Un número de Armstrong también conocido como narcisista es un número que es igual a la suma de los\n",
    "cubos de sus dígitos. Por ejemplo 370 es un numero de Armstrong porque 370 = 27 + 343 + 0. El 407 es otro\n",
    "ejemplo de número narcisista. Crea una función lógica que reciba un número y determine si es o no número\n",
    "de Armstrong."
   ]
  },
  {
   "cell_type": "code",
   "execution_count": 27,
   "metadata": {},
   "outputs": [],
   "source": [
    "def armstrong (x):\n",
    "    res=0\n",
    "    for i in range(0, len(str(x))):\n",
    "        res=res+int(str(x)[i])**3\n",
    "    if(res==x):\n",
    "        return True\n",
    "    else:\n",
    "        return False"
   ]
  },
  {
   "cell_type": "code",
   "execution_count": 32,
   "metadata": {},
   "outputs": [
    {
     "data": {
      "text/plain": [
       "False"
      ]
     },
     "execution_count": 32,
     "metadata": {},
     "output_type": "execute_result"
    }
   ],
   "source": [
    "armstrong(372)"
   ]
  },
  {
   "cell_type": "markdown",
   "metadata": {},
   "source": [
    "24. ¿Cuál es el conjunto de los números enteros entre 1 y 10,000 que son iguales al cubo de un número entero?\n",
    "Entre estos números ¿Cuáles son divisibles entre 13? (¿Podría responder estas preguntas para los números entre 1 y 1,000,000?)\n"
   ]
  },
  {
   "cell_type": "code",
   "execution_count": 14,
   "metadata": {},
   "outputs": [
    {
     "name": "stdout",
     "output_type": "stream",
     "text": [
      "{0, 1, 512, 4096, 8, 2197, 27, 9261, 3375, 4913, 1331, 2744, 64, 1728, 8000, 5832, 6859, 343, 216, 729, 1000, 125}\n",
      "{0, 2197}\n"
     ]
    }
   ],
   "source": [
    "y=[y for y in range(0,10000,1)]\n",
    "setu=set(y)\n",
    "x=[x**3 for x in range(0,10000,1)]\n",
    "seta=set(x)\n",
    "l=[l for l in range (0,10000,13)]\n",
    "seto=set(l)\n",
    "resultado=seta.intersection(setu)\n",
    "resultadob=resultado.intersection(seto)\n",
    "print(resultado)\n",
    "print(resultadob)"
   ]
  },
  {
   "cell_type": "markdown",
   "metadata": {},
   "source": [
    "25. Se dice que en el siglo VI a.c., el inventor del juego de ajedrez ofreció a su monarca este juego y como recompensa le pidió los granos de trigo que resultaran de la siguiente prescripción: un grano por la primera casilla del tablero, dos granos por la segunda casilla, cuatro granos por la tercera casilla, ocho granos por la cuarta, dieciséis granos por la quinta, y así sucesivamente hasta terminar con la casilla número 64 (el tablero del juego de ajedrez tiene 64 casillas). Observando que el número de granos pedidos por una casilla, a partir de la segunda, es igual al doble de los granos pedidos por la casilla anterior. El monarca, un poco molesto por lo que le pareció una cantidad insignificante de granos que el inventor solicitaba, pidió a sus calculistas determinaran la cantidad total de granos de trigo, se trajera ésta de los graneros del reino y de inmediato se le entregara al inventor."
   ]
  },
  {
   "cell_type": "code",
   "execution_count": 21,
   "metadata": {},
   "outputs": [],
   "source": [
    "resultado=[2**n for n in range(1,64,1)]"
   ]
  },
  {
   "cell_type": "code",
   "execution_count": 23,
   "metadata": {},
   "outputs": [
    {
     "name": "stdout",
     "output_type": "stream",
     "text": [
      "[2, 4, 8, 16, 32, 64, 128, 256, 512, 1024, 2048, 4096, 8192, 16384, 32768, 65536, 131072, 262144, 524288, 1048576, 2097152, 4194304, 8388608, 16777216, 33554432, 67108864, 134217728, 268435456, 536870912, 1073741824, 2147483648, 4294967296, 8589934592, 17179869184, 34359738368, 68719476736, 137438953472, 274877906944, 549755813888, 1099511627776, 2199023255552, 4398046511104, 8796093022208, 17592186044416, 35184372088832, 70368744177664, 140737488355328, 281474976710656, 562949953421312, 1125899906842624, 2251799813685248, 4503599627370496, 9007199254740992, 18014398509481984, 36028797018963968, 72057594037927936, 144115188075855872, 288230376151711744, 576460752303423488, 1152921504606846976, 2305843009213693952, 4611686018427387904, 9223372036854775808]\n"
     ]
    },
    {
     "data": {
      "text/plain": [
       "18446744073709551614"
      ]
     },
     "execution_count": 23,
     "metadata": {},
     "output_type": "execute_result"
    }
   ],
   "source": [
    "print(resultado)\n",
    "sum(resultado)"
   ]
  },
  {
   "cell_type": "markdown",
   "metadata": {},
   "source": [
    "n bebé midió al nacer 42 centímetros. Durante los siguientes años de vida la estatura aumentó de la siguiente manera:\n",
    "-en el primer año, la estatura se incrementó 24 %;\n",
    "-en el segundo año, la estatura se incrementó 20 %;\n",
    "-en el tercer año, la estatura se incrementó 14 %; -en el cuarto año, la estatura se incrementó 13 %; -en el quinto año, la estatura se incrementó 10 %; -en el sexto año, la estatura se incrementó 9 %;\n",
    "-y en el séptimo año, se dio un estirón, pues la estatura se incrementó 12 %. ¿Cuánto mide el nene después de siete años de vida?"
   ]
  },
  {
   "cell_type": "code",
   "execution_count": 25,
   "metadata": {},
   "outputs": [
    {
     "name": "stdout",
     "output_type": "stream",
     "text": [
      "108.11170640793601\n"
     ]
    }
   ],
   "source": [
    "inicial=42\n",
    "año1=inicial*1.24\n",
    "año2=año1*1.20\n",
    "año3=año2*1.14\n",
    "año4=año3*1.13\n",
    "año5=año4*1.10\n",
    "año6=año5*1.09\n",
    "año7=año6*1.12\n",
    "print(año7)"
   ]
  },
  {
   "cell_type": "code",
   "execution_count": null,
   "metadata": {},
   "outputs": [],
   "source": []
  }
 ],
 "metadata": {
  "kernelspec": {
   "display_name": "Python 3",
   "language": "python",
   "name": "python3"
  },
  "language_info": {
   "codemirror_mode": {
    "name": "ipython",
    "version": 3
   },
   "file_extension": ".py",
   "mimetype": "text/x-python",
   "name": "python",
   "nbconvert_exporter": "python",
   "pygments_lexer": "ipython3",
   "version": "3.6.5"
  }
 },
 "nbformat": 4,
 "nbformat_minor": 2
}
