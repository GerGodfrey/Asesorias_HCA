{
 "cells": [
  {
   "cell_type": "code",
   "execution_count": 1,
   "metadata": {},
   "outputs": [],
   "source": [
    "#clase 2\n"
   ]
  },
  {
   "cell_type": "code",
   "execution_count": 2,
   "metadata": {},
   "outputs": [
    {
     "name": "stdout",
     "output_type": "stream",
     "text": [
      "223.45600000000002\n"
     ]
    },
    {
     "ename": "TypeError",
     "evalue": "unsupported operand type(s) for +: 'int' and 'str'",
     "output_type": "error",
     "traceback": [
      "\u001b[1;31m---------------------------------------------------------------------------\u001b[0m",
      "\u001b[1;31mTypeError\u001b[0m                                 Traceback (most recent call last)",
      "\u001b[1;32m<ipython-input-2-7df54c389e7a>\u001b[0m in \u001b[0;36m<module>\u001b[1;34m()\u001b[0m\n\u001b[0;32m      4\u001b[0m \u001b[1;33m\u001b[0m\u001b[0m\n\u001b[0;32m      5\u001b[0m \u001b[0mprint\u001b[0m\u001b[1;33m(\u001b[0m\u001b[0mx\u001b[0m\u001b[1;33m+\u001b[0m\u001b[0my\u001b[0m\u001b[1;33m)\u001b[0m\u001b[1;33m\u001b[0m\u001b[0m\n\u001b[1;32m----> 6\u001b[1;33m \u001b[0mprint\u001b[0m\u001b[1;33m(\u001b[0m\u001b[0mx\u001b[0m\u001b[1;33m+\u001b[0m\u001b[0mz\u001b[0m\u001b[1;33m)\u001b[0m\u001b[1;33m\u001b[0m\u001b[0m\n\u001b[0m\u001b[0;32m      7\u001b[0m \u001b[0mprint\u001b[0m\u001b[1;33m(\u001b[0m\u001b[0mz\u001b[0m\u001b[1;33m+\u001b[0m\u001b[0mx\u001b[0m\u001b[1;33m)\u001b[0m\u001b[1;33m\u001b[0m\u001b[0m\n",
      "\u001b[1;31mTypeError\u001b[0m: unsupported operand type(s) for +: 'int' and 'str'"
     ]
    }
   ],
   "source": [
    "x=100\n",
    "y=123.456\n",
    "z='hola'\n",
    "\n",
    "print(x+y)\n",
    "print(x+z) # es error por que no se puede sumar string con int\n",
    "print(z+x)"
   ]
  },
  {
   "cell_type": "code",
   "execution_count": 4,
   "metadata": {},
   "outputs": [
    {
     "name": "stdout",
     "output_type": "stream",
     "text": [
      "123.456\n",
      "123.456\n",
      "True\n",
      "123.456\n",
      "123.456\n",
      "True\n"
     ]
    }
   ],
   "source": [
    "\n",
    "\n",
    "# aqui se pregunta si x es igual a y\n",
    "\n",
    "print(x)\n",
    "print(y)\n",
    "\n",
    "print(x==y) \n",
    "\n",
    "# aqui se guarda el valor de la variable y a la variable x\n",
    "\n",
    "x=y\n",
    "\n",
    "print(x)\n",
    "print(y)\n",
    "\n",
    "w=456\n",
    "print(x != w)\n"
   ]
  },
  {
   "cell_type": "code",
   "execution_count": 6,
   "metadata": {},
   "outputs": [
    {
     "ename": "SyntaxError",
     "evalue": "invalid syntax (<ipython-input-6-187175c20dbd>, line 1)",
     "output_type": "error",
     "traceback": [
      "\u001b[1;36m  File \u001b[1;32m\"<ipython-input-6-187175c20dbd>\"\u001b[1;36m, line \u001b[1;32m1\u001b[0m\n\u001b[1;33m    anticipe el resultado de la expresión 45+3*5-20/3**2 y verifique su respuesta con Python.  \u001b[0m\n\u001b[1;37m              ^\u001b[0m\n\u001b[1;31mSyntaxError\u001b[0m\u001b[1;31m:\u001b[0m invalid syntax\n"
     ]
    }
   ],
   "source": [
    "# ejercicios pag 16 2_ elementos\n",
    "\n",
    "anticipe el resultado de la expresión 45+3*5-20/3**2 y verifique su respuesta con Python. \n"
   ]
  },
  {
   "cell_type": "code",
   "execution_count": 7,
   "metadata": {},
   "outputs": [
    {
     "data": {
      "text/plain": [
       "57.77777777777778"
      ]
     },
     "execution_count": 7,
     "metadata": {},
     "output_type": "execute_result"
    }
   ],
   "source": [
    "45+3*5-20/3**2\n"
   ]
  },
  {
   "cell_type": "code",
   "execution_count": 8,
   "metadata": {},
   "outputs": [
    {
     "ename": "SyntaxError",
     "evalue": "invalid syntax (<ipython-input-8-9783906a176f>, line 1)",
     "output_type": "error",
     "traceback": [
      "\u001b[1;36m  File \u001b[1;32m\"<ipython-input-8-9783906a176f>\"\u001b[1;36m, line \u001b[1;32m1\u001b[0m\n\u001b[1;33m    evalúe 43 // 13 y 43 % 13\u001b[0m\n\u001b[1;37m            ^\u001b[0m\n\u001b[1;31mSyntaxError\u001b[0m\u001b[1;31m:\u001b[0m invalid syntax\n"
     ]
    }
   ],
   "source": [
    "evalúe 43 // 13 y 43 % 13 "
   ]
  },
  {
   "cell_type": "code",
   "execution_count": 10,
   "metadata": {},
   "outputs": [
    {
     "data": {
      "text/plain": [
       "3"
      ]
     },
     "execution_count": 10,
     "metadata": {},
     "output_type": "execute_result"
    }
   ],
   "source": [
    "43 // 13 "
   ]
  },
  {
   "cell_type": "code",
   "execution_count": 11,
   "metadata": {},
   "outputs": [
    {
     "data": {
      "text/plain": [
       "4"
      ]
     },
     "execution_count": 11,
     "metadata": {},
     "output_type": "execute_result"
    }
   ],
   "source": [
    " 43 % 13 "
   ]
  },
  {
   "cell_type": "code",
   "execution_count": 12,
   "metadata": {},
   "outputs": [
    {
     "ename": "SyntaxError",
     "evalue": "invalid syntax (<ipython-input-12-a32d3b25bf47>, line 1)",
     "output_type": "error",
     "traceback": [
      "\u001b[1;36m  File \u001b[1;32m\"<ipython-input-12-a32d3b25bf47>\"\u001b[1;36m, line \u001b[1;32m1\u001b[0m\n\u001b[1;33m    anticipe los resultados de -3**3, (-3)**2, -3**2\u001b[0m\n\u001b[1;37m               ^\u001b[0m\n\u001b[1;31mSyntaxError\u001b[0m\u001b[1;31m:\u001b[0m invalid syntax\n"
     ]
    }
   ],
   "source": [
    "anticipe los resultados de -3**3, (-3)**2, -3**2 \n"
   ]
  },
  {
   "cell_type": "code",
   "execution_count": 13,
   "metadata": {},
   "outputs": [
    {
     "data": {
      "text/plain": [
       "-27"
      ]
     },
     "execution_count": 13,
     "metadata": {},
     "output_type": "execute_result"
    }
   ],
   "source": [
    " -3**3"
   ]
  },
  {
   "cell_type": "code",
   "execution_count": 14,
   "metadata": {},
   "outputs": [
    {
     "data": {
      "text/plain": [
       "9"
      ]
     },
     "execution_count": 14,
     "metadata": {},
     "output_type": "execute_result"
    }
   ],
   "source": [
    " (-3)**2"
   ]
  },
  {
   "cell_type": "code",
   "execution_count": 15,
   "metadata": {},
   "outputs": [
    {
     "data": {
      "text/plain": [
       "-9"
      ]
     },
     "execution_count": 15,
     "metadata": {},
     "output_type": "execute_result"
    }
   ],
   "source": [
    " -3**2 "
   ]
  },
  {
   "cell_type": "code",
   "execution_count": 16,
   "metadata": {},
   "outputs": [
    {
     "data": {
      "text/plain": [
       "False"
      ]
     },
     "execution_count": 16,
     "metadata": {},
     "output_type": "execute_result"
    }
   ],
   "source": [
    "not not not 1<2"
   ]
  },
  {
   "cell_type": "code",
   "execution_count": 17,
   "metadata": {},
   "outputs": [
    {
     "ename": "SyntaxError",
     "evalue": "invalid syntax (<ipython-input-17-97d41e7af050>, line 1)",
     "output_type": "error",
     "traceback": [
      "\u001b[1;36m  File \u001b[1;32m\"<ipython-input-17-97d41e7af050>\"\u001b[1;36m, line \u001b[1;32m1\u001b[0m\n\u001b[1;33m    observe la diferencia en el resultado de 3**3**3 y (3**3)**3\u001b[0m\n\u001b[1;37m             ^\u001b[0m\n\u001b[1;31mSyntaxError\u001b[0m\u001b[1;31m:\u001b[0m invalid syntax\n"
     ]
    }
   ],
   "source": [
    "observe la diferencia en el resultado de 3**3**3 y (3**3)**3 "
   ]
  },
  {
   "cell_type": "code",
   "execution_count": 18,
   "metadata": {},
   "outputs": [
    {
     "data": {
      "text/plain": [
       "7625597484987"
      ]
     },
     "execution_count": 18,
     "metadata": {},
     "output_type": "execute_result"
    }
   ],
   "source": [
    " 3**3**3 "
   ]
  },
  {
   "cell_type": "code",
   "execution_count": 19,
   "metadata": {},
   "outputs": [
    {
     "data": {
      "text/plain": [
       "19683"
      ]
     },
     "execution_count": 19,
     "metadata": {},
     "output_type": "execute_result"
    }
   ],
   "source": [
    " (3**3)**3 "
   ]
  },
  {
   "cell_type": "code",
   "execution_count": 20,
   "metadata": {},
   "outputs": [
    {
     "data": {
      "text/plain": [
       "3.141592653589793"
      ]
     },
     "execution_count": 20,
     "metadata": {},
     "output_type": "execute_result"
    }
   ],
   "source": [
    "# importo \n",
    "\n",
    "from numpy import math\n",
    "\n",
    "math.pi"
   ]
  },
  {
   "cell_type": "code",
   "execution_count": 21,
   "metadata": {},
   "outputs": [
    {
     "data": {
      "text/plain": [
       "9"
      ]
     },
     "execution_count": 21,
     "metadata": {},
     "output_type": "execute_result"
    }
   ],
   "source": [
    "pow(3,2)"
   ]
  },
  {
   "cell_type": "code",
   "execution_count": 22,
   "metadata": {},
   "outputs": [
    {
     "name": "stdout",
     "output_type": "stream",
     "text": [
      "3.0\n",
      "-3.0\n"
     ]
    }
   ],
   "source": [
    "print(round(2.6,0)) \n",
    "print(round(-2.6,0))\n"
   ]
  },
  {
   "cell_type": "code",
   "execution_count": 23,
   "metadata": {},
   "outputs": [
    {
     "name": "stdout",
     "output_type": "stream",
     "text": [
      "2\n",
      "-3\n"
     ]
    }
   ],
   "source": [
    "print(math.floor(2.6)) \n",
    "print(math.floor(-2.6))\n",
    " "
   ]
  },
  {
   "cell_type": "code",
   "execution_count": 24,
   "metadata": {},
   "outputs": [
    {
     "name": "stdout",
     "output_type": "stream",
     "text": [
      "3\n",
      "-2\n"
     ]
    }
   ],
   "source": [
    "\n",
    "print(math.ceil(2.6)) \n",
    "print(math.ceil(-2.6)) "
   ]
  },
  {
   "cell_type": "code",
   "execution_count": 25,
   "metadata": {},
   "outputs": [
    {
     "data": {
      "text/plain": [
       "33"
      ]
     },
     "execution_count": 25,
     "metadata": {},
     "output_type": "execute_result"
    }
   ],
   "source": [
    "max(1,5,9,2,33)"
   ]
  },
  {
   "cell_type": "code",
   "execution_count": 26,
   "metadata": {},
   "outputs": [
    {
     "data": {
      "text/plain": [
       "1"
      ]
     },
     "execution_count": 26,
     "metadata": {},
     "output_type": "execute_result"
    }
   ],
   "source": [
    "min(1,5,9,2,33)"
   ]
  },
  {
   "cell_type": "code",
   "execution_count": 37,
   "metadata": {},
   "outputs": [
    {
     "name": "stdout",
     "output_type": "stream",
     "text": [
      "1234.56789 100 3.141592653589793\n",
      "valor de pi=  3.142\n"
     ]
    }
   ],
   "source": [
    "a=1234.56789\n",
    "b=100\n",
    "\n",
    "print(a,b, math.pi)\n",
    "print('valor de pi= %6.3f' %math.pi)\n"
   ]
  },
  {
   "cell_type": "code",
   "execution_count": 38,
   "metadata": {},
   "outputs": [],
   "source": [
    "#lista y string"
   ]
  },
  {
   "cell_type": "code",
   "execution_count": 43,
   "metadata": {},
   "outputs": [
    {
     "name": "stdout",
     "output_type": "stream",
     "text": [
      "hola ITAM\n",
      "l\n"
     ]
    },
    {
     "ename": "IndexError",
     "evalue": "string index out of range",
     "output_type": "error",
     "traceback": [
      "\u001b[1;31m---------------------------------------------------------------------------\u001b[0m",
      "\u001b[1;31mIndexError\u001b[0m                                Traceback (most recent call last)",
      "\u001b[1;32m<ipython-input-43-7ddabad1705f>\u001b[0m in \u001b[0;36m<module>\u001b[1;34m()\u001b[0m\n\u001b[0;32m      3\u001b[0m \u001b[0mprint\u001b[0m\u001b[1;33m(\u001b[0m\u001b[0mtexto\u001b[0m\u001b[1;33m)\u001b[0m\u001b[1;33m\u001b[0m\u001b[0m\n\u001b[0;32m      4\u001b[0m \u001b[0mprint\u001b[0m\u001b[1;33m(\u001b[0m\u001b[0mtexto\u001b[0m\u001b[1;33m[\u001b[0m\u001b[1;36m2\u001b[0m\u001b[1;33m]\u001b[0m\u001b[1;33m)\u001b[0m\u001b[1;33m\u001b[0m\u001b[0m\n\u001b[1;32m----> 5\u001b[1;33m \u001b[0mprint\u001b[0m\u001b[1;33m(\u001b[0m\u001b[0mtexto\u001b[0m\u001b[1;33m[\u001b[0m\u001b[1;36m9\u001b[0m\u001b[1;33m]\u001b[0m\u001b[1;33m)\u001b[0m \u001b[1;31m# no existe esta celda\u001b[0m\u001b[1;33m\u001b[0m\u001b[0m\n\u001b[0m",
      "\u001b[1;31mIndexError\u001b[0m: string index out of range"
     ]
    }
   ],
   "source": [
    "texto= 'hola ITAM'\n",
    "#inicia en cero\n",
    "print(texto)\n",
    "print(texto[2])\n",
    "print(texto[9]) # no existe esta celda"
   ]
  },
  {
   "cell_type": "code",
   "execution_count": 42,
   "metadata": {},
   "outputs": [
    {
     "name": "stdout",
     "output_type": "stream",
     "text": [
      "la I\n",
      "hola I\n",
      "TAM\n"
     ]
    }
   ],
   "source": [
    "print(texto[2:6])\n",
    "print(texto[:6])\n",
    "print(texto[6:])"
   ]
  },
  {
   "cell_type": "code",
   "execution_count": 49,
   "metadata": {},
   "outputs": [
    {
     "name": "stdout",
     "output_type": "stream",
     "text": [
      "Me llamo Jorge Pablo\n",
      "l\n",
      " llamo\n",
      "llamo Jorge Pablo\n",
      "e ll\n"
     ]
    }
   ],
   "source": [
    "texto= 'Me llamo Jorge Pablo'\n",
    "\n",
    "print(texto)\n",
    "print(texto[3])\n",
    "print(texto[2:8]) # [2,8)\n",
    "print(texto[3:])  # [3:final]\n",
    "print(texto[1:5:1]) # [inicio, final,brinco]\n",
    "                    # [inicio, final]"
   ]
  },
  {
   "cell_type": "code",
   "execution_count": 50,
   "metadata": {},
   "outputs": [
    {
     "name": "stdout",
     "output_type": "stream",
     "text": [
      "[1, 2, 3, 4, 5, 6, 7, 8, 9, 10]\n",
      "[3, 4, 5, 6]\n",
      "[1, 2, 3, 4, 5, 6]\n",
      "[7, 8, 9, 10]\n"
     ]
    }
   ],
   "source": [
    "lista= [1,2,3,4,5,6,7,8,9,10]\n",
    "\n",
    "print(lista)\n",
    "print(lista[2:6])\n",
    "print(lista[:6])\n",
    "print(lista[6:])"
   ]
  },
  {
   "cell_type": "code",
   "execution_count": 51,
   "metadata": {},
   "outputs": [
    {
     "data": {
      "text/plain": [
       "range(0, 10)"
      ]
     },
     "execution_count": 51,
     "metadata": {},
     "output_type": "execute_result"
    }
   ],
   "source": [
    "range(10)"
   ]
  },
  {
   "cell_type": "code",
   "execution_count": 53,
   "metadata": {},
   "outputs": [
    {
     "data": {
      "text/plain": [
       "[0, 1, 2, 3, 4, 5, 6, 7, 8, 9]"
      ]
     },
     "execution_count": 53,
     "metadata": {},
     "output_type": "execute_result"
    }
   ],
   "source": [
    "list(range(10))"
   ]
  },
  {
   "cell_type": "code",
   "execution_count": 54,
   "metadata": {},
   "outputs": [
    {
     "data": {
      "text/plain": [
       "[2, 3, 4, 5, 6, 7, 8, 9]"
      ]
     },
     "execution_count": 54,
     "metadata": {},
     "output_type": "execute_result"
    }
   ],
   "source": [
    "list(range(2,10))"
   ]
  },
  {
   "cell_type": "code",
   "execution_count": null,
   "metadata": {},
   "outputs": [],
   "source": []
  },
  {
   "cell_type": "code",
   "execution_count": 55,
   "metadata": {},
   "outputs": [
    {
     "data": {
      "text/plain": [
       "[2, 5, 8]"
      ]
     },
     "execution_count": 55,
     "metadata": {},
     "output_type": "execute_result"
    }
   ],
   "source": [
    "list(range(2,10,3))"
   ]
  },
  {
   "cell_type": "code",
   "execution_count": null,
   "metadata": {},
   "outputs": [],
   "source": []
  },
  {
   "cell_type": "code",
   "execution_count": null,
   "metadata": {},
   "outputs": [],
   "source": []
  },
  {
   "cell_type": "code",
   "execution_count": null,
   "metadata": {},
   "outputs": [],
   "source": [
    "# clase 3"
   ]
  },
  {
   "cell_type": "code",
   "execution_count": null,
   "metadata": {},
   "outputs": [],
   "source": []
  },
  {
   "cell_type": "code",
   "execution_count": 3,
   "metadata": {},
   "outputs": [
    {
     "name": "stdout",
     "output_type": "stream",
     "text": [
      "<class 'list'>\n"
     ]
    }
   ],
   "source": [
    "lst1= [1,3,5.5,[2,4,6],'texto', True]\n",
    "print(type(lst1))"
   ]
  },
  {
   "cell_type": "code",
   "execution_count": 4,
   "metadata": {},
   "outputs": [
    {
     "data": {
      "text/plain": [
       "True"
      ]
     },
     "execution_count": 4,
     "metadata": {},
     "output_type": "execute_result"
    }
   ],
   "source": [
    "lst1[5]"
   ]
  },
  {
   "cell_type": "code",
   "execution_count": 5,
   "metadata": {},
   "outputs": [
    {
     "data": {
      "text/plain": [
       "'texto'"
      ]
     },
     "execution_count": 5,
     "metadata": {},
     "output_type": "execute_result"
    }
   ],
   "source": [
    "lst1[4]"
   ]
  },
  {
   "cell_type": "code",
   "execution_count": 6,
   "metadata": {},
   "outputs": [
    {
     "data": {
      "text/plain": [
       "[2, 4, 6]"
      ]
     },
     "execution_count": 6,
     "metadata": {},
     "output_type": "execute_result"
    }
   ],
   "source": [
    "lst1[3]"
   ]
  },
  {
   "cell_type": "code",
   "execution_count": 9,
   "metadata": {},
   "outputs": [
    {
     "data": {
      "text/plain": [
       "4"
      ]
     },
     "execution_count": 9,
     "metadata": {},
     "output_type": "execute_result"
    }
   ],
   "source": [
    "# me muestra el elemento de la posicion 1 de la lista interna\n",
    "lst1[3][1]"
   ]
  },
  {
   "cell_type": "code",
   "execution_count": 8,
   "metadata": {},
   "outputs": [
    {
     "data": {
      "text/plain": [
       "True"
      ]
     },
     "execution_count": 8,
     "metadata": {},
     "output_type": "execute_result"
    }
   ],
   "source": [
    "# pregunto por el elemento de la posición 2 de lst y 1 \n",
    "\n",
    "lst1[2]>1"
   ]
  },
  {
   "cell_type": "code",
   "execution_count": 11,
   "metadata": {},
   "outputs": [
    {
     "name": "stdout",
     "output_type": "stream",
     "text": [
      "[1, 2, 3, 4, 5, 6, 7, 8, 9, 10, 11, 12, 13, 14, 15, 16, 17, 18, 19, 20]\n"
     ]
    }
   ],
   "source": [
    "lst20= list(range(1,21))\n",
    "print(lst20)"
   ]
  },
  {
   "cell_type": "code",
   "execution_count": 12,
   "metadata": {},
   "outputs": [
    {
     "data": {
      "text/plain": [
       "True"
      ]
     },
     "execution_count": 12,
     "metadata": {},
     "output_type": "execute_result"
    }
   ],
   "source": [
    "# veo si es divisible entre 2\n",
    "\n",
    "x=16\n",
    "\n",
    "x%2==0"
   ]
  },
  {
   "cell_type": "code",
   "execution_count": 13,
   "metadata": {},
   "outputs": [
    {
     "data": {
      "text/plain": [
       "False"
      ]
     },
     "execution_count": 13,
     "metadata": {},
     "output_type": "execute_result"
    }
   ],
   "source": [
    "x=17\n",
    "\n",
    "x%2==0"
   ]
  },
  {
   "cell_type": "code",
   "execution_count": 15,
   "metadata": {},
   "outputs": [
    {
     "data": {
      "text/plain": [
       "[1, 2, 0, 1, 2, 0, 1, 2, 0, 1, 2, 0, 1, 2, 0, 1, 2, 0, 1, 2]"
      ]
     },
     "execution_count": 15,
     "metadata": {},
     "output_type": "execute_result"
    }
   ],
   "source": [
    "[x%3 for x in lst20]"
   ]
  },
  {
   "cell_type": "code",
   "execution_count": 16,
   "metadata": {},
   "outputs": [
    {
     "name": "stdout",
     "output_type": "stream",
     "text": [
      "[1, 2, 100, 4, 5, 6, 7, 8, 9, 10, 11, 12, 13, 14, 15, 16, 17, 18, 19, 20]\n"
     ]
    }
   ],
   "source": [
    "lst20[2]=100\n",
    "print(lst20)"
   ]
  },
  {
   "cell_type": "code",
   "execution_count": 19,
   "metadata": {},
   "outputs": [],
   "source": [
    "#conjuntos"
   ]
  },
  {
   "cell_type": "code",
   "execution_count": 20,
   "metadata": {},
   "outputs": [
    {
     "name": "stdout",
     "output_type": "stream",
     "text": [
      "{2, 4, 6, 8, 10, 12, 14, 16, 18, 20, 22, 24, 26, 28, 30}\n"
     ]
    },
    {
     "data": {
      "text/plain": [
       "set"
      ]
     },
     "execution_count": 20,
     "metadata": {},
     "output_type": "execute_result"
    }
   ],
   "source": [
    "conj2=set(range(2,31,2))\n",
    "print(conj2)\n",
    "type(conj2)"
   ]
  },
  {
   "cell_type": "code",
   "execution_count": 21,
   "metadata": {},
   "outputs": [
    {
     "name": "stdout",
     "output_type": "stream",
     "text": [
      "{5, 10, 15, 20, 25}\n"
     ]
    }
   ],
   "source": [
    "conj5=set(range(5,30,5))\n",
    "print(conj5)"
   ]
  },
  {
   "cell_type": "code",
   "execution_count": 23,
   "metadata": {},
   "outputs": [
    {
     "name": "stdout",
     "output_type": "stream",
     "text": [
      "{35, 7, 42, 14, 49, 21, 28}\n"
     ]
    }
   ],
   "source": [
    "conj7=set(range(7,50,7))\n",
    "print(conj7)"
   ]
  },
  {
   "cell_type": "code",
   "execution_count": 24,
   "metadata": {},
   "outputs": [
    {
     "name": "stdout",
     "output_type": "stream",
     "text": [
      "{8, 1, 10, 5}\n"
     ]
    }
   ],
   "source": [
    "conjTS={1,5,8,10}\n",
    "print(conjTS)"
   ]
  },
  {
   "cell_type": "code",
   "execution_count": 25,
   "metadata": {},
   "outputs": [
    {
     "data": {
      "text/plain": [
       "{1, 2, 4, 5, 6, 8, 10, 12, 14, 16, 18, 20, 22, 24, 26, 28, 30}"
      ]
     },
     "execution_count": 25,
     "metadata": {},
     "output_type": "execute_result"
    }
   ],
   "source": [
    "conj2.union(conjTS)"
   ]
  },
  {
   "cell_type": "code",
   "execution_count": 26,
   "metadata": {},
   "outputs": [
    {
     "data": {
      "text/plain": [
       "{8, 10}"
      ]
     },
     "execution_count": 26,
     "metadata": {},
     "output_type": "execute_result"
    }
   ],
   "source": [
    "conj2 & conjTS"
   ]
  },
  {
   "cell_type": "code",
   "execution_count": 27,
   "metadata": {},
   "outputs": [
    {
     "data": {
      "text/plain": [
       "{1, 2, 4, 5, 6, 12, 14, 16, 18, 20, 22, 24, 26, 28, 30}"
      ]
     },
     "execution_count": 27,
     "metadata": {},
     "output_type": "execute_result"
    }
   ],
   "source": [
    "conj2 ^ conjTS"
   ]
  },
  {
   "cell_type": "code",
   "execution_count": 28,
   "metadata": {},
   "outputs": [
    {
     "data": {
      "text/plain": [
       "{1, 2, 4, 5, 6, 12, 14, 16, 18, 20, 22, 24, 26, 28, 30}"
      ]
     },
     "execution_count": 28,
     "metadata": {},
     "output_type": "execute_result"
    }
   ],
   "source": [
    "conj2.symmetric_difference(conjTS)"
   ]
  },
  {
   "cell_type": "code",
   "execution_count": 29,
   "metadata": {},
   "outputs": [
    {
     "data": {
      "text/plain": [
       "{2, 4, 6, 12, 14, 16, 18, 20, 22, 24, 26, 28, 30}"
      ]
     },
     "execution_count": 29,
     "metadata": {},
     "output_type": "execute_result"
    }
   ],
   "source": [
    "conj2-conjTS"
   ]
  },
  {
   "cell_type": "code",
   "execution_count": 37,
   "metadata": {},
   "outputs": [
    {
     "name": "stdout",
     "output_type": "stream",
     "text": [
      "{2, 4, 6, 8, 10, 12, 14, 16, 18, 20, 22, 24, 26, 28, 30}\n"
     ]
    }
   ],
   "source": [
    "conj2=set(range(2,31,2))\n",
    "print(conj2)"
   ]
  },
  {
   "cell_type": "markdown",
   "metadata": {},
   "source": []
  },
  {
   "cell_type": "code",
   "execution_count": 38,
   "metadata": {},
   "outputs": [
    {
     "name": "stdout",
     "output_type": "stream",
     "text": [
      "{3, 6, 9, 12, 15, 18, 21, 24, 27, 30}\n"
     ]
    }
   ],
   "source": [
    "conj3=set(range(3,31,3))\n",
    "print(conj3)"
   ]
  },
  {
   "cell_type": "code",
   "execution_count": 36,
   "metadata": {},
   "outputs": [
    {
     "name": "stdout",
     "output_type": "stream",
     "text": [
      "{5, 10, 15, 20, 25, 30}\n"
     ]
    }
   ],
   "source": [
    "conj5=set(range(5,31,5))\n",
    "print(conj5)"
   ]
  },
  {
   "cell_type": "code",
   "execution_count": 39,
   "metadata": {},
   "outputs": [
    {
     "data": {
      "text/plain": [
       "{30}"
      ]
     },
     "execution_count": 39,
     "metadata": {},
     "output_type": "execute_result"
    }
   ],
   "source": [
    "# intersección\n",
    "\n",
    "conj2&conj3&conj5"
   ]
  },
  {
   "cell_type": "code",
   "execution_count": 64,
   "metadata": {},
   "outputs": [
    {
     "name": "stdout",
     "output_type": "stream",
     "text": [
      "{6, 12, 18, 24, 30}\n",
      "{10, 20, 30}\n",
      "{30, 15}\n",
      "{18, 20, 6, 24, 10, 12, 30, 15}\n",
      "{6, 10, 12, 15, 18, 20, 24, 30}\n"
     ]
    },
    {
     "ename": "TypeError",
     "evalue": "unsupported operand type(s) for |: 'set' and 'builtin_function_or_method'",
     "output_type": "error",
     "traceback": [
      "\u001b[1;31m---------------------------------------------------------------------------\u001b[0m",
      "\u001b[1;31mTypeError\u001b[0m                                 Traceback (most recent call last)",
      "\u001b[1;32m<ipython-input-64-6efe71f01183>\u001b[0m in \u001b[0;36m<module>\u001b[1;34m()\u001b[0m\n\u001b[0;32m     12\u001b[0m \u001b[1;33m\u001b[0m\u001b[0m\n\u001b[0;32m     13\u001b[0m \u001b[0mb\u001b[0m\u001b[1;33m=\u001b[0m\u001b[1;33m(\u001b[0m\u001b[0mx\u001b[0m\u001b[1;33m|\u001b[0m\u001b[0my\u001b[0m\u001b[1;33m|\u001b[0m\u001b[0mz\u001b[0m\u001b[1;33m|\u001b[0m\u001b[0ma\u001b[0m\u001b[1;33m)\u001b[0m\u001b[1;33m\u001b[0m\u001b[0m\n\u001b[1;32m---> 14\u001b[1;33m \u001b[0mprint\u001b[0m\u001b[1;33m(\u001b[0m\u001b[0mconj2\u001b[0m\u001b[1;33m|\u001b[0m\u001b[0mconj3\u001b[0m\u001b[1;33m|\u001b[0m\u001b[0mconj5\u001b[0m\u001b[1;33m.\u001b[0m\u001b[0mdifference\u001b[0m\u001b[1;33m)\u001b[0m\u001b[1;33m\u001b[0m\u001b[0m\n\u001b[0m",
      "\u001b[1;31mTypeError\u001b[0m: unsupported operand type(s) for |: 'set' and 'builtin_function_or_method'"
     ]
    }
   ],
   "source": [
    "x=(conj2&conj3)\n",
    "y=(conj2&conj5)\n",
    "z=(conj3&conj5)\n",
    "\n",
    "print(x)\n",
    "print(y)\n",
    "print(z)\n",
    "\n",
    "print(x|z|y)\n",
    "a=conj2&conj3&conj5\n",
    "print(x|y|z|a)\n",
    "\n",
    "b=(x|y|z|a)\n"
   ]
  },
  {
   "cell_type": "code",
   "execution_count": 47,
   "metadata": {},
   "outputs": [
    {
     "data": {
      "text/plain": [
       "{2, 4, 8, 14, 16, 22, 26, 28}"
      ]
     },
     "execution_count": 47,
     "metadata": {},
     "output_type": "execute_result"
    }
   ],
   "source": [
    "conj2-conj3-conj5\n"
   ]
  },
  {
   "cell_type": "code",
   "execution_count": 48,
   "metadata": {},
   "outputs": [
    {
     "data": {
      "text/plain": [
       "{2, 3, 4, 5, 8, 9, 14, 16, 21, 22, 25, 26, 27, 28, 30}"
      ]
     },
     "execution_count": 48,
     "metadata": {},
     "output_type": "execute_result"
    }
   ],
   "source": [
    "conj2^conj3^conj5"
   ]
  },
  {
   "cell_type": "code",
   "execution_count": 49,
   "metadata": {},
   "outputs": [
    {
     "data": {
      "text/plain": [
       "{2,\n",
       " 3,\n",
       " 4,\n",
       " 5,\n",
       " 6,\n",
       " 8,\n",
       " 9,\n",
       " 10,\n",
       " 12,\n",
       " 14,\n",
       " 15,\n",
       " 16,\n",
       " 18,\n",
       " 20,\n",
       " 21,\n",
       " 22,\n",
       " 24,\n",
       " 25,\n",
       " 26,\n",
       " 27,\n",
       " 28,\n",
       " 30}"
      ]
     },
     "execution_count": 49,
     "metadata": {},
     "output_type": "execute_result"
    }
   ],
   "source": [
    "conj2.union(conj3.union(conj5))"
   ]
  },
  {
   "cell_type": "code",
   "execution_count": 67,
   "metadata": {},
   "outputs": [
    {
     "data": {
      "text/plain": [
       "{2, 3, 4, 5, 8, 9, 14, 16, 21, 22, 25, 26, 27, 28}"
      ]
     },
     "execution_count": 67,
     "metadata": {},
     "output_type": "execute_result"
    }
   ],
   "source": [
    "conj2.symmetric_difference(conj3.symmetric_difference (conj5)) - (conj2 & conj3 & conj5)"
   ]
  },
  {
   "cell_type": "code",
   "execution_count": 68,
   "metadata": {},
   "outputs": [
    {
     "data": {
      "text/plain": [
       "{30}"
      ]
     },
     "execution_count": 68,
     "metadata": {},
     "output_type": "execute_result"
    }
   ],
   "source": [
    "(conj2 & conj3 & conj5)"
   ]
  },
  {
   "cell_type": "code",
   "execution_count": null,
   "metadata": {},
   "outputs": [],
   "source": []
  },
  {
   "cell_type": "code",
   "execution_count": null,
   "metadata": {},
   "outputs": [],
   "source": [
    "#clase 4"
   ]
  },
  {
   "cell_type": "code",
   "execution_count": null,
   "metadata": {},
   "outputs": [],
   "source": []
  },
  {
   "cell_type": "code",
   "execution_count": null,
   "metadata": {},
   "outputs": [],
   "source": [
    "#funciones"
   ]
  },
  {
   "cell_type": "code",
   "execution_count": 2,
   "metadata": {},
   "outputs": [],
   "source": [
    "#una funcion que suma dos valores\n",
    "       #entrada dos valores\n",
    "        #la suma de los valores\n",
    "        \n",
    "def miSuma(x,y):\n",
    "    return x+y"
   ]
  },
  {
   "cell_type": "code",
   "execution_count": 3,
   "metadata": {},
   "outputs": [
    {
     "data": {
      "text/plain": [
       "19"
      ]
     },
     "execution_count": 3,
     "metadata": {},
     "output_type": "execute_result"
    }
   ],
   "source": [
    "miSuma(10,9)"
   ]
  },
  {
   "cell_type": "code",
   "execution_count": 4,
   "metadata": {},
   "outputs": [
    {
     "data": {
      "text/plain": [
       "11"
      ]
     },
     "execution_count": 4,
     "metadata": {},
     "output_type": "execute_result"
    }
   ],
   "source": [
    "z=miSuma(5,6)\n",
    "z"
   ]
  },
  {
   "cell_type": "code",
   "execution_count": 6,
   "metadata": {},
   "outputs": [],
   "source": [
    "#función para el perimetro y área de un círculo\n",
    "\n",
    "#importo\n",
    "\n",
    "from numpy import math\n",
    "\n"
   ]
  },
  {
   "cell_type": "code",
   "execution_count": 13,
   "metadata": {},
   "outputs": [],
   "source": [
    "def circulo(radio):\n",
    "    return math.pi*radio**2, math.pi*2*radio"
   ]
  },
  {
   "cell_type": "code",
   "execution_count": 15,
   "metadata": {},
   "outputs": [
    {
     "data": {
      "text/plain": [
       "tuple"
      ]
     },
     "execution_count": 15,
     "metadata": {},
     "output_type": "execute_result"
    }
   ],
   "source": [
    "c = circulo(10)\n",
    "type(c)"
   ]
  },
  {
   "cell_type": "code",
   "execution_count": 16,
   "metadata": {},
   "outputs": [
    {
     "data": {
      "text/plain": [
       "314.1592653589793"
      ]
     },
     "execution_count": 16,
     "metadata": {},
     "output_type": "execute_result"
    }
   ],
   "source": [
    "c[0]"
   ]
  },
  {
   "cell_type": "code",
   "execution_count": 20,
   "metadata": {},
   "outputs": [
    {
     "ename": "TypeError",
     "evalue": "'int' object does not support item assignment",
     "output_type": "error",
     "traceback": [
      "\u001b[1;31m---------------------------------------------------------------------------\u001b[0m",
      "\u001b[1;31mTypeError\u001b[0m                                 Traceback (most recent call last)",
      "\u001b[1;32m<ipython-input-20-492c7bbdd56b>\u001b[0m in \u001b[0;36m<module>\u001b[1;34m()\u001b[0m\n\u001b[0;32m      1\u001b[0m \u001b[1;31m#tuple son inmutables\u001b[0m\u001b[1;33m\u001b[0m\u001b[1;33m\u001b[0m\u001b[0m\n\u001b[0;32m      2\u001b[0m \u001b[1;33m\u001b[0m\u001b[0m\n\u001b[1;32m----> 3\u001b[1;33m \u001b[0mc\u001b[0m\u001b[1;33m[\u001b[0m\u001b[1;36m0\u001b[0m\u001b[1;33m]\u001b[0m\u001b[1;33m=\u001b[0m\u001b[1;36m100\u001b[0m\u001b[1;33m\u001b[0m\u001b[0m\n\u001b[0m",
      "\u001b[1;31mTypeError\u001b[0m: 'int' object does not support item assignment"
     ]
    }
   ],
   "source": [
    "#tuple son inmutables\n",
    "\n",
    "c[0]=100"
   ]
  },
  {
   "cell_type": "code",
   "execution_count": 12,
   "metadata": {},
   "outputs": [
    {
     "name": "stdout",
     "output_type": "stream",
     "text": [
      "[0, 1, 2, 3, 4, 5, 6, 7, 8, 9, 10, 11, 12, 13, 14, 15, 16, 17, 18, 19, 20, 21, 22, 23, 24, 25, 26, 27, 28, 29, 30, 31, 32, 33, 34, 35, 36, 37, 38, 39, 40, 41, 42, 43, 44, 45, 46, 47, 48, 49, 50]\n"
     ]
    }
   ],
   "source": [
    "lista6= list(range(0,51))\n",
    "print(lst6)"
   ]
  },
  {
   "cell_type": "code",
   "execution_count": 27,
   "metadata": {},
   "outputs": [],
   "source": [
    "#funcion multiplica x2 los vaores de la lista\n",
    "#IN una lista de numeros\n",
    "#OUT devuelve la lista donde cada elemento es multiplicado x 2\n",
    "\n",
    "def mult2(lst):\n",
    "    return [x*2 for x in lst]\n",
    "    "
   ]
  },
  {
   "cell_type": "code",
   "execution_count": 29,
   "metadata": {},
   "outputs": [
    {
     "name": "stdout",
     "output_type": "stream",
     "text": [
      "[0, 2, 4, 6, 8, 10, 12, 14, 16, 18, 20, 22, 24, 26, 28, 30, 32, 34, 36, 38, 40, 42, 44, 46, 48, 50, 52, 54, 56, 58, 60, 62, 64, 66, 68, 70, 72, 74, 76, 78, 80, 82, 84, 86, 88, 90, 92, 94, 96, 98, 100]\n",
      "[2, 4, 6, 8, 10]\n"
     ]
    }
   ],
   "source": [
    "print(mult2(lista6))\n",
    "print(mult2([1,2,3,4,5]))"
   ]
  },
  {
   "cell_type": "code",
   "execution_count": 25,
   "metadata": {},
   "outputs": [
    {
     "data": {
      "text/plain": [
       "[0,\n",
       " 2,\n",
       " 4,\n",
       " 6,\n",
       " 8,\n",
       " 10,\n",
       " 12,\n",
       " 14,\n",
       " 16,\n",
       " 18,\n",
       " 20,\n",
       " 22,\n",
       " 24,\n",
       " 26,\n",
       " 28,\n",
       " 30,\n",
       " 32,\n",
       " 34,\n",
       " 36,\n",
       " 38,\n",
       " 40,\n",
       " 42,\n",
       " 44,\n",
       " 46,\n",
       " 48,\n",
       " 50,\n",
       " 52,\n",
       " 54,\n",
       " 56,\n",
       " 58,\n",
       " 60,\n",
       " 62,\n",
       " 64,\n",
       " 66,\n",
       " 68,\n",
       " 70,\n",
       " 72,\n",
       " 74,\n",
       " 76,\n",
       " 78,\n",
       " 80,\n",
       " 82,\n",
       " 84,\n",
       " 86,\n",
       " 88,\n",
       " 90,\n",
       " 92,\n",
       " 94,\n",
       " 96,\n",
       " 98,\n",
       " 100]"
      ]
     },
     "execution_count": 25,
     "metadata": {},
     "output_type": "execute_result"
    }
   ],
   "source": [
    "lista6= list(range(0,51))\n",
    "\n",
    "#prueblo que funcione la idea\n",
    "\n",
    "[x*2 for x in lista6]"
   ]
  },
  {
   "cell_type": "code",
   "execution_count": 31,
   "metadata": {},
   "outputs": [
    {
     "data": {
      "text/plain": [
       "1275"
      ]
     },
     "execution_count": 31,
     "metadata": {},
     "output_type": "execute_result"
    }
   ],
   "source": [
    "sum(lista6)"
   ]
  },
  {
   "cell_type": "code",
   "execution_count": 33,
   "metadata": {},
   "outputs": [
    {
     "name": "stdout",
     "output_type": "stream",
     "text": [
      "Using matplotlib backend: Qt5Agg\n",
      "Populating the interactive namespace from numpy and matplotlib\n"
     ]
    },
    {
     "data": {
      "text/plain": [
       "25.0"
      ]
     },
     "execution_count": 33,
     "metadata": {},
     "output_type": "execute_result"
    }
   ],
   "source": [
    "#encontrar el promedio (suma de todos los elementos dividio por la cantidad de elementos)\n",
    "\n",
    "%pylab\n",
    "\n",
    "mean(lista6)"
   ]
  },
  {
   "cell_type": "code",
   "execution_count": null,
   "metadata": {},
   "outputs": [],
   "source": [
    "# calcula la desviacion estandar \n",
    "#IN lista de datos(list)\n",
    "#OUT la desviacion(float)\n"
   ]
  },
  {
   "cell_type": "code",
   "execution_count": 35,
   "metadata": {},
   "outputs": [],
   "source": [
    "def prueba(a,y):\n",
    "    z=a * 2 \n",
    "    return z + y"
   ]
  },
  {
   "cell_type": "code",
   "execution_count": null,
   "metadata": {},
   "outputs": [],
   "source": []
  },
  {
   "cell_type": "code",
   "execution_count": null,
   "metadata": {},
   "outputs": [],
   "source": [
    "#clase 5"
   ]
  },
  {
   "cell_type": "code",
   "execution_count": null,
   "metadata": {},
   "outputs": [],
   "source": []
  },
  {
   "cell_type": "code",
   "execution_count": null,
   "metadata": {},
   "outputs": [],
   "source": []
  },
  {
   "cell_type": "code",
   "execution_count": null,
   "metadata": {},
   "outputs": [],
   "source": []
  },
  {
   "cell_type": "code",
   "execution_count": null,
   "metadata": {},
   "outputs": [],
   "source": [
    "#hacer una funcion en la que podamos saber el sexo del curp\n",
    "\n"
   ]
  },
  {
   "cell_type": "code",
   "execution_count": 4,
   "metadata": {},
   "outputs": [],
   "source": [
    "miCURP= 'SOTT641124MDFLRRA0'\n",
    "\n"
   ]
  },
  {
   "cell_type": "code",
   "execution_count": 1,
   "metadata": {},
   "outputs": [],
   "source": [
    "def esMujer(unaCURP):\n",
    "    return unaCURP[10] == 'M'"
   ]
  },
  {
   "cell_type": "code",
   "execution_count": 5,
   "metadata": {},
   "outputs": [
    {
     "data": {
      "text/plain": [
       "True"
      ]
     },
     "execution_count": 5,
     "metadata": {},
     "output_type": "execute_result"
    }
   ],
   "source": [
    "esMujer(miCURP)"
   ]
  },
  {
   "cell_type": "code",
   "execution_count": 19,
   "metadata": {},
   "outputs": [],
   "source": [
    "lstCURP= ['ABV641124MMFLRRA0','SONB676124HDFLRRA0' ,'SOTT641124MDFLRRA0' ]"
   ]
  },
  {
   "cell_type": "code",
   "execution_count": 20,
   "metadata": {},
   "outputs": [
    {
     "data": {
      "text/plain": [
       "[True, False, True]"
      ]
     },
     "execution_count": 20,
     "metadata": {},
     "output_type": "execute_result"
    }
   ],
   "source": [
    "[curp[10]=='M' for curp in lstCURP ]"
   ]
  },
  {
   "cell_type": "code",
   "execution_count": 29,
   "metadata": {
    "scrolled": true
   },
   "outputs": [
    {
     "ename": "FileNotFoundError",
     "evalue": "[Errno 2] No such file or directory: 'clavesCURP.txt'",
     "output_type": "error",
     "traceback": [
      "\u001b[1;31m---------------------------------------------------------------------------\u001b[0m",
      "\u001b[1;31mFileNotFoundError\u001b[0m                         Traceback (most recent call last)",
      "\u001b[1;32m<ipython-input-29-13135052e4b2>\u001b[0m in \u001b[0;36m<module>\u001b[1;34m()\u001b[0m\n\u001b[0;32m      1\u001b[0m \u001b[1;31m#lectura de archivos\u001b[0m\u001b[1;33m\u001b[0m\u001b[1;33m\u001b[0m\u001b[0m\n\u001b[0;32m      2\u001b[0m \u001b[1;33m\u001b[0m\u001b[0m\n\u001b[1;32m----> 3\u001b[1;33m \u001b[0mid\u001b[0m \u001b[1;33m=\u001b[0m \u001b[0mopen\u001b[0m\u001b[1;33m(\u001b[0m\u001b[1;34m'clavesCURP.txt'\u001b[0m\u001b[1;33m,\u001b[0m\u001b[1;34m'r'\u001b[0m\u001b[1;33m)\u001b[0m\u001b[1;33m\u001b[0m\u001b[0m\n\u001b[0m\u001b[0;32m      4\u001b[0m \u001b[0mcontenido\u001b[0m \u001b[1;33m=\u001b[0m \u001b[0mid\u001b[0m\u001b[1;33m.\u001b[0m\u001b[0mread\u001b[0m\u001b[1;33m(\u001b[0m\u001b[1;33m)\u001b[0m\u001b[1;33m\u001b[0m\u001b[0m\n\u001b[0;32m      5\u001b[0m \u001b[0mlistaCURP\u001b[0m\u001b[1;33m=\u001b[0m\u001b[0mcontenido\u001b[0m\u001b[1;33m.\u001b[0m\u001b[0msplit\u001b[0m\u001b[1;33m(\u001b[0m\u001b[1;34m'\\n'\u001b[0m\u001b[1;33m)\u001b[0m\u001b[1;33m\u001b[0m\u001b[0m\n",
      "\u001b[1;31mFileNotFoundError\u001b[0m: [Errno 2] No such file or directory: 'clavesCURP.txt'"
     ]
    }
   ],
   "source": [
    "#lectura de archivos\n",
    "\n",
    "id = open('clavesCURP.txt','r')\n",
    "contenido = id.read()\n",
    "listaCURP=contenido.split('\\n')\n",
    "id.close()\n",
    "listaCURP"
   ]
  },
  {
   "cell_type": "code",
   "execution_count": null,
   "metadata": {},
   "outputs": [],
   "source": [
    "\n",
    "\n"
   ]
  },
  {
   "cell_type": "code",
   "execution_count": null,
   "metadata": {},
   "outputs": [],
   "source": []
  },
  {
   "cell_type": "code",
   "execution_count": null,
   "metadata": {},
   "outputs": [],
   "source": [
    "#clase 6)\n"
   ]
  },
  {
   "cell_type": "code",
   "execution_count": null,
   "metadata": {},
   "outputs": [],
   "source": []
  },
  {
   "cell_type": "code",
   "execution_count": 12,
   "metadata": {},
   "outputs": [],
   "source": [
    "#encontrar el perimetro de un rectangulo\n",
    "#IN 2 valores numéricos\n",
    "#OUT perimetro\n",
    "\n",
    "from numpy import math"
   ]
  },
  {
   "cell_type": "code",
   "execution_count": 13,
   "metadata": {},
   "outputs": [],
   "source": [
    "def perRect(lado1,lado2):\n",
    "    return 2*lado1+2*lado2\n"
   ]
  },
  {
   "cell_type": "code",
   "execution_count": 18,
   "metadata": {},
   "outputs": [
    {
     "name": "stdout",
     "output_type": "stream",
     "text": [
      "[(5, 2), (10, 2), (15, 4)]\n"
     ]
    }
   ],
   "source": [
    "lstLado1= [5,10,15]\n",
    "lstLado2= [2,2,4]\n",
    "\n",
    "\n",
    "lstTuplaL =[(lstLado1[i], lstLado2[i]) for i in range (0,len(lstLado1))]\n",
    "print(lstTuplaL)\n",
    "perRect()"
   ]
  },
  {
   "cell_type": "code",
   "execution_count": 20,
   "metadata": {},
   "outputs": [
    {
     "ename": "TypeError",
     "evalue": "'list' object is not callable",
     "output_type": "error",
     "traceback": [
      "\u001b[0;31m---------------------------------------------------------------------------\u001b[0m",
      "\u001b[0;31mTypeError\u001b[0m                                 Traceback (most recent call last)",
      "\u001b[0;32m<ipython-input-20-c9c31a2b15df>\u001b[0m in \u001b[0;36m<module>\u001b[0;34m\u001b[0m\n\u001b[1;32m      1\u001b[0m \u001b[0;34m\u001b[0m\u001b[0m\n\u001b[0;32m----> 2\u001b[0;31m \u001b[0mprint\u001b[0m\u001b[0;34m(\u001b[0m \u001b[0;34m[\u001b[0m\u001b[0mperRect\u001b[0m\u001b[0;34m(\u001b[0m\u001b[0mlstTuplaL\u001b[0m\u001b[0;34m[\u001b[0m\u001b[0mi\u001b[0m\u001b[0;34m]\u001b[0m\u001b[0;34m[\u001b[0m\u001b[0;36m0\u001b[0m\u001b[0;34m]\u001b[0m\u001b[0;34m,\u001b[0m \u001b[0mlstTuplaL\u001b[0m\u001b[0;34m[\u001b[0m\u001b[0mi\u001b[0m\u001b[0;34m]\u001b[0m\u001b[0;34m[\u001b[0m\u001b[0;36m1\u001b[0m\u001b[0;34m]\u001b[0m\u001b[0;34m)\u001b[0m \u001b[0;32mfor\u001b[0m \u001b[0mi\u001b[0m \u001b[0;32min\u001b[0m \u001b[0mrange\u001b[0m\u001b[0;34m(\u001b[0m\u001b[0;36m0\u001b[0m\u001b[0;34m,\u001b[0m\u001b[0mlen\u001b[0m\u001b[0;34m(\u001b[0m\u001b[0mlstTuplaL\u001b[0m\u001b[0;34m)\u001b[0m\u001b[0;34m)\u001b[0m\u001b[0;34m]\u001b[0m\u001b[0;34m)\u001b[0m\u001b[0;34m\u001b[0m\u001b[0;34m\u001b[0m\u001b[0m\n\u001b[0m",
      "\u001b[0;32m<ipython-input-20-c9c31a2b15df>\u001b[0m in \u001b[0;36m<listcomp>\u001b[0;34m(.0)\u001b[0m\n\u001b[1;32m      1\u001b[0m \u001b[0;34m\u001b[0m\u001b[0m\n\u001b[0;32m----> 2\u001b[0;31m \u001b[0mprint\u001b[0m\u001b[0;34m(\u001b[0m \u001b[0;34m[\u001b[0m\u001b[0mperRect\u001b[0m\u001b[0;34m(\u001b[0m\u001b[0mlstTuplaL\u001b[0m\u001b[0;34m[\u001b[0m\u001b[0mi\u001b[0m\u001b[0;34m]\u001b[0m\u001b[0;34m[\u001b[0m\u001b[0;36m0\u001b[0m\u001b[0;34m]\u001b[0m\u001b[0;34m,\u001b[0m \u001b[0mlstTuplaL\u001b[0m\u001b[0;34m[\u001b[0m\u001b[0mi\u001b[0m\u001b[0;34m]\u001b[0m\u001b[0;34m[\u001b[0m\u001b[0;36m1\u001b[0m\u001b[0;34m]\u001b[0m\u001b[0;34m)\u001b[0m \u001b[0;32mfor\u001b[0m \u001b[0mi\u001b[0m \u001b[0;32min\u001b[0m \u001b[0mrange\u001b[0m\u001b[0;34m(\u001b[0m\u001b[0;36m0\u001b[0m\u001b[0;34m,\u001b[0m\u001b[0mlen\u001b[0m\u001b[0;34m(\u001b[0m\u001b[0mlstTuplaL\u001b[0m\u001b[0;34m)\u001b[0m\u001b[0;34m)\u001b[0m\u001b[0;34m]\u001b[0m\u001b[0;34m)\u001b[0m\u001b[0;34m\u001b[0m\u001b[0;34m\u001b[0m\u001b[0m\n\u001b[0m",
      "\u001b[0;31mTypeError\u001b[0m: 'list' object is not callable"
     ]
    }
   ],
   "source": [
    "\n",
    "print( [perRect(lstTuplaL[i][0], lstTuplaL[i][1]) for i in range(0,len(lstTuplaL))])"
   ]
  },
  {
   "cell_type": "code",
   "execution_count": 21,
   "metadata": {},
   "outputs": [
    {
     "ename": "NameError",
     "evalue": "name 'lstTuplaLados' is not defined",
     "output_type": "error",
     "traceback": [
      "\u001b[0;31m---------------------------------------------------------------------------\u001b[0m",
      "\u001b[0;31mNameError\u001b[0m                                 Traceback (most recent call last)",
      "\u001b[0;32m<ipython-input-21-967bf56f3eb1>\u001b[0m in \u001b[0;36m<module>\u001b[0;34m\u001b[0m\n\u001b[0;32m----> 1\u001b[0;31m \u001b[0mlstTuplaLados\u001b[0m\u001b[0;34m[\u001b[0m\u001b[0;36m0\u001b[0m\u001b[0;34m]\u001b[0m\u001b[0;34m\u001b[0m\u001b[0;34m\u001b[0m\u001b[0m\n\u001b[0m",
      "\u001b[0;31mNameError\u001b[0m: name 'lstTuplaLados' is not defined"
     ]
    }
   ],
   "source": [
    "lstTuplaLados[0]"
   ]
  },
  {
   "cell_type": "code",
   "execution_count": null,
   "metadata": {},
   "outputs": [],
   "source": [
    "lstTuplaLados[0][0]"
   ]
  },
  {
   "cell_type": "code",
   "execution_count": null,
   "metadata": {},
   "outputs": [],
   "source": [
    "print(lstTuplaLados)"
   ]
  },
  {
   "cell_type": "code",
   "execution_count": 6,
   "metadata": {},
   "outputs": [],
   "source": [
    "# usando el map"
   ]
  },
  {
   "cell_type": "code",
   "execution_count": 8,
   "metadata": {},
   "outputs": [
    {
     "ename": "NameError",
     "evalue": "name 'perRect' is not defined",
     "output_type": "error",
     "traceback": [
      "\u001b[0;31m---------------------------------------------------------------------------\u001b[0m",
      "\u001b[0;31mNameError\u001b[0m                                 Traceback (most recent call last)",
      "\u001b[0;32m<ipython-input-8-bbc79d5dcea8>\u001b[0m in \u001b[0;36m<module>\u001b[0;34m\u001b[0m\n\u001b[0;32m----> 1\u001b[0;31m \u001b[0mmap\u001b[0m\u001b[0;34m(\u001b[0m\u001b[0mperRect\u001b[0m\u001b[0;34m,\u001b[0m\u001b[0mlstLado1\u001b[0m\u001b[0;34m,\u001b[0m\u001b[0mlstLado2\u001b[0m\u001b[0;34m)\u001b[0m\u001b[0;34m\u001b[0m\u001b[0;34m\u001b[0m\u001b[0m\n\u001b[0m",
      "\u001b[0;31mNameError\u001b[0m: name 'perRect' is not defined"
     ]
    }
   ],
   "source": [
    "map(perRect,lstLado1,lstLado2)"
   ]
  },
  {
   "cell_type": "code",
   "execution_count": null,
   "metadata": {},
   "outputs": [],
   "source": []
  },
  {
   "cell_type": "code",
   "execution_count": 25,
   "metadata": {},
   "outputs": [
    {
     "data": {
      "text/plain": [
       "[0, 1, 2]"
      ]
     },
     "execution_count": 25,
     "metadata": {},
     "output_type": "execute_result"
    }
   ],
   "source": [
    "list( range(0,len(lstLado1)))"
   ]
  },
  {
   "cell_type": "code",
   "execution_count": 26,
   "metadata": {},
   "outputs": [
    {
     "data": {
      "text/plain": [
       "'22222'"
      ]
     },
     "execution_count": 26,
     "metadata": {},
     "output_type": "execute_result"
    }
   ],
   "source": [
    "x= '2'\n",
    "x*5"
   ]
  },
  {
   "cell_type": "code",
   "execution_count": 27,
   "metadata": {},
   "outputs": [
    {
     "data": {
      "text/plain": [
       "str"
      ]
     },
     "execution_count": 27,
     "metadata": {},
     "output_type": "execute_result"
    }
   ],
   "source": [
    "type(x)"
   ]
  },
  {
   "cell_type": "code",
   "execution_count": null,
   "metadata": {},
   "outputs": [],
   "source": []
  },
  {
   "cell_type": "code",
   "execution_count": null,
   "metadata": {},
   "outputs": [],
   "source": [
    "#clase 7"
   ]
  },
  {
   "cell_type": "code",
   "execution_count": 2,
   "metadata": {},
   "outputs": [
    {
     "ename": "FileNotFoundError",
     "evalue": "[Errno 2] No such file or directory: 'clavesCURP.txt'",
     "output_type": "error",
     "traceback": [
      "\u001b[0;31m---------------------------------------------------------------------------\u001b[0m",
      "\u001b[0;31mFileNotFoundError\u001b[0m                         Traceback (most recent call last)",
      "\u001b[0;32m<ipython-input-2-64e011dd5183>\u001b[0m in \u001b[0;36m<module>\u001b[0;34m\u001b[0m\n\u001b[1;32m      2\u001b[0m \u001b[0;34m\u001b[0m\u001b[0m\n\u001b[1;32m      3\u001b[0m \u001b[0;34m\u001b[0m\u001b[0m\n\u001b[0;32m----> 4\u001b[0;31m \u001b[0mid\u001b[0m \u001b[0;34m=\u001b[0m \u001b[0mopen\u001b[0m\u001b[0;34m(\u001b[0m\u001b[0;34m'clavesCURP.txt'\u001b[0m\u001b[0;34m,\u001b[0m\u001b[0;34m'r'\u001b[0m\u001b[0;34m)\u001b[0m\u001b[0;34m\u001b[0m\u001b[0;34m\u001b[0m\u001b[0m\n\u001b[0m\u001b[1;32m      5\u001b[0m \u001b[0mcontenido\u001b[0m \u001b[0;34m=\u001b[0m \u001b[0mid\u001b[0m\u001b[0;34m.\u001b[0m\u001b[0mread\u001b[0m\u001b[0;34m(\u001b[0m\u001b[0;34m)\u001b[0m\u001b[0;34m\u001b[0m\u001b[0;34m\u001b[0m\u001b[0m\n\u001b[1;32m      6\u001b[0m \u001b[0mlistaCURP\u001b[0m\u001b[0;34m=\u001b[0m\u001b[0mcontenido\u001b[0m\u001b[0;34m.\u001b[0m\u001b[0msplit\u001b[0m\u001b[0;34m(\u001b[0m\u001b[0;34m'\\n'\u001b[0m\u001b[0;34m)\u001b[0m\u001b[0;34m\u001b[0m\u001b[0;34m\u001b[0m\u001b[0m\n",
      "\u001b[0;31mFileNotFoundError\u001b[0m: [Errno 2] No such file or directory: 'clavesCURP.txt'"
     ]
    }
   ],
   "source": [
    "#formulario para abrir archivos\n",
    "\n",
    "\n",
    "id = open('clavesCURP.txt','r')\n",
    "contenido = id.read()\n",
    "listaCURP=contenido.split('\\n')\n",
    "id.close()\n",
    "listaCURP"
   ]
  },
  {
   "cell_type": "code",
   "execution_count": null,
   "metadata": {},
   "outputs": [],
   "source": [
    "#tarea ir a bolasa de trabajo anotar requisitos de un trabajo de carrera \n",
    "\n"
   ]
  },
  {
   "cell_type": "code",
   "execution_count": null,
   "metadata": {},
   "outputs": [],
   "source": [
    "#diccionarios"
   ]
  },
  {
   "cell_type": "code",
   "execution_count": 2,
   "metadata": {},
   "outputs": [
    {
     "data": {
      "text/plain": [
       "dict"
      ]
     },
     "execution_count": 2,
     "metadata": {},
     "output_type": "execute_result"
    }
   ],
   "source": [
    "diccA={}\n",
    "type(diccA)"
   ]
  },
  {
   "cell_type": "code",
   "execution_count": 24,
   "metadata": {},
   "outputs": [
    {
     "name": "stdout",
     "output_type": "stream",
     "text": [
      "<class 'dict'>\n",
      "10\n"
     ]
    }
   ],
   "source": [
    "diccB={'Camila':10, 'Xavier':8, 'Lola':9}\n",
    "\n",
    "print(type(diccB))\n",
    "print(diccB['Camila'])"
   ]
  },
  {
   "cell_type": "code",
   "execution_count": 4,
   "metadata": {},
   "outputs": [
    {
     "data": {
      "text/plain": [
       "10"
      ]
     },
     "execution_count": 4,
     "metadata": {},
     "output_type": "execute_result"
    }
   ],
   "source": [
    "diccB['Camila']"
   ]
  },
  {
   "cell_type": "code",
   "execution_count": 5,
   "metadata": {},
   "outputs": [
    {
     "data": {
      "text/plain": [
       "False"
      ]
     },
     "execution_count": 5,
     "metadata": {},
     "output_type": "execute_result"
    }
   ],
   "source": [
    "'Eduardo' in diccB"
   ]
  },
  {
   "cell_type": "code",
   "execution_count": 6,
   "metadata": {},
   "outputs": [
    {
     "data": {
      "text/plain": [
       "True"
      ]
     },
     "execution_count": 6,
     "metadata": {},
     "output_type": "execute_result"
    }
   ],
   "source": [
    "'Camila' in diccB"
   ]
  },
  {
   "cell_type": "code",
   "execution_count": 8,
   "metadata": {},
   "outputs": [
    {
     "data": {
      "text/plain": [
       "{'Camila': 10, 'Xavier': 8, 'Lola': 9, 'Carlos': 7}"
      ]
     },
     "execution_count": 8,
     "metadata": {},
     "output_type": "execute_result"
    }
   ],
   "source": [
    "diccB['Carlos']= 7\n",
    "\n",
    "diccB"
   ]
  },
  {
   "cell_type": "code",
   "execution_count": 25,
   "metadata": {},
   "outputs": [
    {
     "name": "stdout",
     "output_type": "stream",
     "text": [
      "dict_keys(['Camila', 'Xavier', 'Lola'])\n",
      "<class 'dict_keys'>\n"
     ]
    }
   ],
   "source": [
    "llaves=diccB.keys()\n",
    "print(llaves)\n",
    "print(type(llaves))"
   ]
  },
  {
   "cell_type": "code",
   "execution_count": 26,
   "metadata": {},
   "outputs": [
    {
     "data": {
      "text/plain": [
       "{'Camila': 10, 'Xavier': 8, 'Lola': 9, 'Carlos': 10, 'cc': 9}"
      ]
     },
     "execution_count": 26,
     "metadata": {},
     "output_type": "execute_result"
    }
   ],
   "source": [
    "diccB['Carlos']= 10\n",
    "diccB['cc']=9\n",
    "\n",
    "diccB"
   ]
  },
  {
   "cell_type": "code",
   "execution_count": 27,
   "metadata": {},
   "outputs": [
    {
     "name": "stdout",
     "output_type": "stream",
     "text": [
      "dict_values([10, 8, 9, 10, 9])\n",
      "<class 'dict_values'>\n"
     ]
    }
   ],
   "source": [
    "valores=diccB.values()\n",
    "print(valores)\n",
    "print(type(valores))"
   ]
  },
  {
   "cell_type": "code",
   "execution_count": 31,
   "metadata": {},
   "outputs": [
    {
     "name": "stdout",
     "output_type": "stream",
     "text": [
      "Using matplotlib backend: Qt5Agg\n",
      "Populating the interactive namespace from numpy and matplotlib\n"
     ]
    }
   ],
   "source": [
    "%pylab\n"
   ]
  },
  {
   "cell_type": "code",
   "execution_count": 33,
   "metadata": {},
   "outputs": [
    {
     "data": {
      "text/plain": [
       "False"
      ]
     },
     "execution_count": 33,
     "metadata": {},
     "output_type": "execute_result"
    }
   ],
   "source": [
    "list(diccB.values()) in range(1,10,1)"
   ]
  },
  {
   "cell_type": "code",
   "execution_count": 29,
   "metadata": {},
   "outputs": [
    {
     "data": {
      "text/plain": [
       "9.2"
      ]
     },
     "execution_count": 29,
     "metadata": {},
     "output_type": "execute_result"
    }
   ],
   "source": [
    "mean(list(diccB.values()))"
   ]
  },
  {
   "cell_type": "code",
   "execution_count": 21,
   "metadata": {},
   "outputs": [
    {
     "name": "stdout",
     "output_type": "stream",
     "text": [
      "<class 'float'>\n",
      "123\n",
      "12.5\n",
      "12\n",
      "123.5\n",
      "<class 'str'>\n"
     ]
    }
   ],
   "source": [
    "x=123.5\n",
    "y='12.5'\n",
    "print(type(x))\n",
    "\n",
    "print(   int(x)     )\n",
    "print(   float(y)   )\n",
    "print(   int(float(y) )   )\n",
    "z= str(x)\n",
    "print(z)\n",
    "print(type(z))"
   ]
  },
  {
   "cell_type": "code",
   "execution_count": 1,
   "metadata": {},
   "outputs": [
    {
     "ename": "FileNotFoundError",
     "evalue": "[Errno 2] No such file or directory: 'clavesCURP.txt'",
     "output_type": "error",
     "traceback": [
      "\u001b[0;31m---------------------------------------------------------------------------\u001b[0m",
      "\u001b[0;31mFileNotFoundError\u001b[0m                         Traceback (most recent call last)",
      "\u001b[0;32m<ipython-input-1-dfdc7bd53820>\u001b[0m in \u001b[0;36m<module>\u001b[0;34m\u001b[0m\n\u001b[0;32m----> 1\u001b[0;31m \u001b[0mid\u001b[0m \u001b[0;34m=\u001b[0m \u001b[0mopen\u001b[0m\u001b[0;34m(\u001b[0m\u001b[0;34m'clavesCURP.txt'\u001b[0m\u001b[0;34m,\u001b[0m\u001b[0;34m'r'\u001b[0m\u001b[0;34m)\u001b[0m\u001b[0;34m\u001b[0m\u001b[0;34m\u001b[0m\u001b[0m\n\u001b[0m\u001b[1;32m      2\u001b[0m \u001b[0mcontenido\u001b[0m \u001b[0;34m=\u001b[0m \u001b[0mid\u001b[0m\u001b[0;34m.\u001b[0m\u001b[0mread\u001b[0m\u001b[0;34m(\u001b[0m\u001b[0;34m)\u001b[0m\u001b[0;34m\u001b[0m\u001b[0;34m\u001b[0m\u001b[0m\n\u001b[1;32m      3\u001b[0m \u001b[0mlistaCURP\u001b[0m\u001b[0;34m=\u001b[0m\u001b[0mcontenido\u001b[0m\u001b[0;34m.\u001b[0m\u001b[0msplit\u001b[0m\u001b[0;34m(\u001b[0m\u001b[0;34m'\\n'\u001b[0m\u001b[0;34m)\u001b[0m\u001b[0;34m\u001b[0m\u001b[0;34m\u001b[0m\u001b[0m\n\u001b[1;32m      4\u001b[0m \u001b[0mid\u001b[0m\u001b[0;34m.\u001b[0m\u001b[0mclose\u001b[0m\u001b[0;34m(\u001b[0m\u001b[0;34m)\u001b[0m\u001b[0;34m\u001b[0m\u001b[0;34m\u001b[0m\u001b[0m\n\u001b[1;32m      5\u001b[0m \u001b[0mlistaCURP\u001b[0m\u001b[0;34m\u001b[0m\u001b[0;34m\u001b[0m\u001b[0m\n",
      "\u001b[0;31mFileNotFoundError\u001b[0m: [Errno 2] No such file or directory: 'clavesCURP.txt'"
     ]
    }
   ],
   "source": [
    "id = open('clavesCURP.txt','r')\n",
    "contenido = id.read()\n",
    "listaCURP=contenido.split('\\n')\n",
    "id.close()\n",
    "listaCURP"
   ]
  },
  {
   "cell_type": "code",
   "execution_count": 31,
   "metadata": {},
   "outputs": [],
   "source": [
    "\n",
    "def porSexoDicc(lstCURP):\n",
    "    \n",
    "    lstSexo= [curp[10] for curp in lstCURP]\n",
    "    \n",
    "    dicc={}\n",
    "    \n",
    "    porM=lstSexo.count('M')/len(lstCURP)\n",
    "    porH= 1-porM\n",
    "    \n",
    "    dicc['M']= porM\n",
    "    dicc['H']=porH\n",
    "    \n",
    "    return dicc\n",
    "\n"
   ]
  },
  {
   "cell_type": "code",
   "execution_count": 32,
   "metadata": {},
   "outputs": [
    {
     "data": {
      "text/plain": [
       "{'M': 0.3333333333333333, 'H': 0.6666666666666667}"
      ]
     },
     "execution_count": 32,
     "metadata": {},
     "output_type": "execute_result"
    }
   ],
   "source": [
    "porSexoDicc(listaCURP)"
   ]
  },
  {
   "cell_type": "code",
   "execution_count": 1,
   "metadata": {},
   "outputs": [
    {
     "data": {
      "text/plain": [
       "['AECJ940429HCHRRS01',\n",
       " 'AIHP911101MCHRRR03',\n",
       " 'BAVC840614HCHRLR04',\n",
       " 'CAMJ900421HCHRRN05',\n",
       " 'CEMR880711MCHBRB00',\n",
       " 'CEJE930315HCHRRD06',\n",
       " 'COBC891127MCHRLR08',\n",
       " 'COCA761007MDGRNN02',\n",
       " 'DEMS901008HCHLXR04',\n",
       " 'EIGJ920806MCHNYL07',\n",
       " 'GAMJ850314HCHRMR05',\n",
       " 'GOLP850729MCHNNR03',\n",
       " 'GOVD910610HCHNLN02',\n",
       " 'GAAH860926HCHRRC04',\n",
       " 'HEVL910224HCHRLS09',\n",
       " 'HOAE940218HCHLGR02',\n",
       " 'JAAJ761004MCLLGS07',\n",
       " 'LOCJ860921HCHPNN09',\n",
       " 'MAPJ770702HCHRNS08',\n",
       " 'OOSJ830720HCHCLZ04',\n",
       " 'OIAA900907MCHLYN00',\n",
       " 'OITG691112MCHLNL26',\n",
       " 'OIVA860210HCHLGR05',\n",
       " 'PAVE910731HCHYLN05',\n",
       " 'PEAR680418HCHRRM00',\n",
       " 'RARR900621HCHMDB00',\n",
       " 'ROPL910407HCHDRS08',\n",
       " 'SAOA791121MCHNND03',\n",
       " 'VICJ900513HCHLHR04',\n",
       " 'VIRF890629HSLZBR06']"
      ]
     },
     "execution_count": 1,
     "metadata": {},
     "output_type": "execute_result"
    }
   ],
   "source": [
    "id = open('clavesCURP.txt','r')\n",
    "contenido = id.read()\n",
    "listaCURP=contenido.split('\\n')\n",
    "id.close()\n",
    "listaCURP"
   ]
  },
  {
   "cell_type": "code",
   "execution_count": 8,
   "metadata": {},
   "outputs": [],
   "source": [
    "#IN una lista CURP\n",
    "#refleja cuantas personas hay por estado \n",
    "\n",
    "\n",
    "def estadoDICC(curp):\n",
    "    listaEDO= [curp[i][11:13]for i in range(0,len(listaCURP))]\n",
    "      dicc={}\n",
    "    edo= listaEDO.count('CH') , listaEDO.count('DG'), listaEDO.count('CL'), listaEDO.count('SL')  \n",
    "    \n",
    "    #llenar DICC\n",
    "    \n",
    "    dicc['Chihuahua']= edo[0]\n",
    "    dicc['Durango']= edo[1]\n",
    "    dicc['Coahuila']= edo[2]\n",
    "    dicc['Sinaloa']= edo[3]\n",
    "    return dicc"
   ]
  },
  {
   "cell_type": "code",
   "execution_count": 10,
   "metadata": {},
   "outputs": [
    {
     "data": {
      "text/plain": [
       "{'Chihuahua': 27, 'Durango': 1, 'Coahuila': 1, 'Sinaloa': 1}"
      ]
     },
     "execution_count": 10,
     "metadata": {},
     "output_type": "execute_result"
    }
   ],
   "source": [
    "estadoDICC(listaCURP)"
   ]
  },
  {
   "cell_type": "code",
   "execution_count": 11,
   "metadata": {},
   "outputs": [
    {
     "data": {
      "text/plain": [
       "['AECJ940429HCHRRS01',\n",
       " 'AIHP911101MCHRRR03',\n",
       " 'BAVC840614HCHRLR04',\n",
       " 'CAMJ900421HCHRRN05',\n",
       " 'CEMR880711MCHBRB00',\n",
       " 'CEJE930315HCHRRD06',\n",
       " 'COBC891127MCHRLR08',\n",
       " 'COCA761007MDGRNN02',\n",
       " 'DEMS901008HCHLXR04',\n",
       " 'EIGJ920806MCHNYL07',\n",
       " 'GAMJ850314HCHRMR05',\n",
       " 'GOLP850729MCHNNR03',\n",
       " 'GOVD910610HCHNLN02',\n",
       " 'GAAH860926HCHRRC04',\n",
       " 'HEVL910224HCHRLS09',\n",
       " 'HOAE940218HCHLGR02',\n",
       " 'JAAJ761004MCLLGS07',\n",
       " 'LOCJ860921HCHPNN09',\n",
       " 'MAPJ770702HCHRNS08',\n",
       " 'OOSJ830720HCHCLZ04',\n",
       " 'OIAA900907MCHLYN00',\n",
       " 'OITG691112MCHLNL26',\n",
       " 'OIVA860210HCHLGR05',\n",
       " 'PAVE910731HCHYLN05',\n",
       " 'PEAR680418HCHRRM00',\n",
       " 'RARR900621HCHMDB00',\n",
       " 'ROPL910407HCHDRS08',\n",
       " 'SAOA791121MCHNND03',\n",
       " 'VICJ900513HCHLHR04',\n",
       " 'VIRF890629HSLZBR06']"
      ]
     },
     "execution_count": 11,
     "metadata": {},
     "output_type": "execute_result"
    }
   ],
   "source": [
    "id = open('clavesCURP.txt','r')\n",
    "contenido = id.read()\n",
    "listaCURP=contenido.split('\\n')\n",
    "id.close()\n",
    "listaCURP"
   ]
  },
  {
   "cell_type": "code",
   "execution_count": 24,
   "metadata": {
    "scrolled": true
   },
   "outputs": [
    {
     "ename": "SyntaxError",
     "evalue": "invalid syntax (<ipython-input-24-9ca5d2c0d86e>, line 6)",
     "output_type": "error",
     "traceback": [
      "\u001b[1;36m  File \u001b[1;32m\"<ipython-input-24-9ca5d2c0d86e>\"\u001b[1;36m, line \u001b[1;32m6\u001b[0m\n\u001b[1;33m    def estadoDICC(listaCURP)\u001b[0m\n\u001b[1;37m                             ^\u001b[0m\n\u001b[1;31mSyntaxError\u001b[0m\u001b[1;31m:\u001b[0m invalid syntax\n"
     ]
    }
   ],
   "source": [
    "# funcion que cuenta la cantidad de personas en cada estado\n",
    "#IN una lista con CURP\n",
    "#OUT una DICC con la cantidad de personas en cada estado\n",
    "\n",
    "\n",
    "def estadoDICC(listaCURP)\n",
    "\n",
    "#genera una lista con los edos extraidos de la lista de CURP\n",
    "    lstEDO=[curp[11:13] for curp in listaCURP]\n",
    "    \n",
    "    \n",
    "#quito repetidos\n",
    " setEDO= lst(set(lstEDO) )\n",
    "    \n",
    "    \n",
    "#creo un diccionario\n",
    "\n",
    "dicc={}\n",
    "\n",
    "lstCant = [(edo, lstEdo.count(edo)) for edo in setEDO ]\n",
    "\n",
    "return lstCant\n",
    "    "
   ]
  },
  {
   "cell_type": "code",
   "execution_count": 22,
   "metadata": {},
   "outputs": [
    {
     "data": {
      "text/plain": [
       "{'Chihuahua': 27, 'Durango': 1, 'Coahuila': 1, 'Sinaloa': 1}"
      ]
     },
     "execution_count": 22,
     "metadata": {},
     "output_type": "execute_result"
    }
   ],
   "source": [
    "estadoDICC(listaCURP)"
   ]
  },
  {
   "cell_type": "code",
   "execution_count": 25,
   "metadata": {},
   "outputs": [
    {
     "data": {
      "text/plain": [
       "['AECJ940429HCHRRS01',\n",
       " 'AIHP911101MCHRRR03',\n",
       " 'BAVC840614HCHRLR04',\n",
       " 'CAMJ900421HCHRRN05',\n",
       " 'CEMR880711MCHBRB00',\n",
       " 'CEJE930315HCHRRD06',\n",
       " 'COBC891127MCHRLR08',\n",
       " 'COCA761007MDGRNN02',\n",
       " 'DEMS901008HCHLXR04',\n",
       " 'EIGJ920806MCHNYL07',\n",
       " 'GAMJ850314HCHRMR05',\n",
       " 'GOLP850729MCHNNR03',\n",
       " 'GOVD910610HCHNLN02',\n",
       " 'GAAH860926HCHRRC04',\n",
       " 'HEVL910224HCHRLS09',\n",
       " 'HOAE940218HCHLGR02',\n",
       " 'JAAJ761004MCLLGS07',\n",
       " 'LOCJ860921HCHPNN09',\n",
       " 'MAPJ770702HCHRNS08',\n",
       " 'OOSJ830720HCHCLZ04',\n",
       " 'OIAA900907MCHLYN00',\n",
       " 'OITG691112MCHLNL26',\n",
       " 'OIVA860210HCHLGR05',\n",
       " 'PAVE910731HCHYLN05',\n",
       " 'PEAR680418HCHRRM00',\n",
       " 'RARR900621HCHMDB00',\n",
       " 'ROPL910407HCHDRS08',\n",
       " 'SAOA791121MCHNND03',\n",
       " 'VICJ900513HCHLHR04',\n",
       " 'VIRF890629HSLZBR06']"
      ]
     },
     "execution_count": 25,
     "metadata": {},
     "output_type": "execute_result"
    }
   ],
   "source": [
    "listaCURP"
   ]
  },
  {
   "cell_type": "code",
   "execution_count": 28,
   "metadata": {},
   "outputs": [
    {
     "ename": "SyntaxError",
     "evalue": "invalid syntax (<ipython-input-28-c2d8f857944f>, line 1)",
     "output_type": "error",
     "traceback": [
      "\u001b[1;36m  File \u001b[1;32m\"<ipython-input-28-c2d8f857944f>\"\u001b[1;36m, line \u001b[1;32m1\u001b[0m\n\u001b[1;33m    def curpDEC(curp)\u001b[0m\n\u001b[1;37m                     ^\u001b[0m\n\u001b[1;31mSyntaxError\u001b[0m\u001b[1;31m:\u001b[0m invalid syntax\n"
     ]
    }
   ],
   "source": [
    "def curpDEC(curp)\n",
    "    listaDEC=[curp[i][4:6]for i in range(0,len(listaCURP))]\n",
    "    \n",
    "    lstA= set(range(60,70,1))\n",
    "    lstB= set(range(70,80,1))\n",
    "    lstC= set(range(80,90,1))\n",
    "    lstD= set(range(90,99,1))\n",
    "    \n",
    "    dicc={}\n",
    "    \n",
    "    dec= listaDEC.count('lstA'), listaDEC.count('lstB'), listaDEC.count('lstC'), listaDEC.count('lstD')\n",
    "    \n",
    "    dicc['Decada 60s']= dec[0]\n",
    "    dicc['Decada 70s']= dec[1]\n",
    "    dicc['Decada 80s']= dec[2]\n",
    "    dicc['Decada 90s']= dec[3]\n",
    "    \n",
    "    return dicc\n",
    "    "
   ]
  },
  {
   "cell_type": "code",
   "execution_count": 29,
   "metadata": {},
   "outputs": [
    {
     "ename": "NameError",
     "evalue": "name 'curpDEC' is not defined",
     "output_type": "error",
     "traceback": [
      "\u001b[1;31m---------------------------------------------------------------------------\u001b[0m",
      "\u001b[1;31mNameError\u001b[0m                                 Traceback (most recent call last)",
      "\u001b[1;32m<ipython-input-29-6f2154808e2f>\u001b[0m in \u001b[0;36m<module>\u001b[1;34m()\u001b[0m\n\u001b[1;32m----> 1\u001b[1;33m \u001b[0mcurpDEC\u001b[0m\u001b[1;33m(\u001b[0m\u001b[0mlistaCURP\u001b[0m\u001b[1;33m)\u001b[0m\u001b[1;33m\u001b[0m\u001b[0m\n\u001b[0m",
      "\u001b[1;31mNameError\u001b[0m: name 'curpDEC' is not defined"
     ]
    }
   ],
   "source": [
    " curpDEC(listaCURP)"
   ]
  },
  {
   "cell_type": "code",
   "execution_count": 30,
   "metadata": {},
   "outputs": [
    {
     "data": {
      "text/plain": [
       "['ZADI900429MASPQHY9',\n",
       " 'GUSI051204MBSJPDT6',\n",
       " 'QISJ761227MCLDYDU5',\n",
       " 'DIFR960725MGTNTR72',\n",
       " 'UEGJ780410HGRLWBK5',\n",
       " 'TOSB650518HGRZSBF9',\n",
       " 'VAFK090929HASJFRX8',\n",
       " 'AULJ811124MSLVBL98',\n",
       " 'DIOU101119HHGJDPI9',\n",
       " 'QUGK510817MDGYDBS8',\n",
       " 'GINW760822HZSKYZR6',\n",
       " 'LOHR850627HHGKTS7B',\n",
       " 'XAGD500721MCCZMY5P',\n",
       " 'BUHG400416HHGJFY4U',\n",
       " 'OANR130905HCLYXW9G',\n",
       " 'BOJE750918MHGFRX14',\n",
       " 'FAJH460120MJCHQKT5',\n",
       " 'NINN070715HSPGLJ26',\n",
       " 'QIUA540122MHGZYLNF',\n",
       " 'SEKJ470608MBCGYM12',\n",
       " 'JIIU051107HMNXNMR4',\n",
       " 'NOUV530907MMCZQKO3',\n",
       " 'YOKM950320HQRPZZF2',\n",
       " 'WABT971226HTLRNHL2',\n",
       " 'BONW770213MYNZGJ08',\n",
       " 'KIWU850807HMCHRNH3',\n",
       " 'ZUWW910905HZSZCD6E',\n",
       " 'ZOXH490113MCHBFG87',\n",
       " 'MORX830926HPLLSQD7',\n",
       " 'CEZE480923HSLFGW13',\n",
       " 'LUSA530116HPLXBNI2',\n",
       " 'HEMZ751114MJCXRNP6',\n",
       " 'LIBV080605MTLKKSX3',\n",
       " 'XESE970918MGTYGHH8',\n",
       " 'EOIT760303HSLLXGT6',\n",
       " 'DUGT120504MBSSMCY5',\n",
       " 'MIPT810225MMSXPVV3',\n",
       " 'JULW630725MZSLBK1P',\n",
       " 'YOQP540511HASYJYY9',\n",
       " 'AIWR411226MGTJDD07',\n",
       " 'YIQK870213HBCGJK68',\n",
       " 'WAGP080321HMSZRWS2',\n",
       " 'JAYE710504HDGNBK41',\n",
       " 'LAFY950413HTLZHBT0',\n",
       " 'UEZO590103MTCFPWS2',\n",
       " 'XEXR640409HCSQNTJB',\n",
       " 'JIWI670324MCMZWD4E',\n",
       " 'TEDI451116HCSFCYJI',\n",
       " 'ZORD921010HCSZTCZO',\n",
       " 'HESA830508HTLKWFW8',\n",
       " 'VAUP400225HTSZNP71',\n",
       " 'GAPR960501MTCDTL79',\n",
       " 'RACG091128HQTWQQ4A',\n",
       " 'IIPU131128MGTDRF32',\n",
       " 'GAVB840129HPLLZJ00',\n",
       " 'RAEW691221HASYHN44',\n",
       " 'WULU920901HMCNPP29',\n",
       " 'RAVC501117MASKQKJ5',\n",
       " 'FOJO500119HCHSKFA1',\n",
       " 'BEWI881118HSRHHSTD',\n",
       " 'AUOG920213HCSMDD56',\n",
       " 'JILO540604HJCDWYE8',\n",
       " 'XOWY950411HNLFST51',\n",
       " 'UUZH741022MCLQTXV8',\n",
       " 'FUGW671219HGTDYLH9',\n",
       " 'EUKL490812MCSSSBI8',\n",
       " 'AOPJ850919MBCHFQXK',\n",
       " 'XEQJ440210HSRRKKU1',\n",
       " 'AAIR970814HMNJLX24',\n",
       " 'GEPX031202MPLDPC4Z',\n",
       " 'PUTQ120214MMCXVWJ2',\n",
       " 'DIWP731216HQTMDPW9',\n",
       " 'MUSL900630MNLZCMNW',\n",
       " 'KOGX800228MMSPCWZ0',\n",
       " 'RULL860308HGTKQM48',\n",
       " 'OANX801116MJCWXY14',\n",
       " 'BEWO770110MDFFGVC4',\n",
       " 'CIRN920510HVZCSFO5',\n",
       " 'XUET831027MTCMMD0Z',\n",
       " 'QAJE910129HDGXJM93',\n",
       " 'AIYW820827HBCCCFO1',\n",
       " 'HIPR831105HCLDTLK1',\n",
       " 'WAQV070508HGRTXL46',\n",
       " 'UUQG081226MTSVXHT3',\n",
       " 'JASC660420MCSXPCGA',\n",
       " 'MAEO521230HCLHLHV9',\n",
       " 'XEIC401111MPLRSRC8',\n",
       " 'VECV830829MYNSFVHW',\n",
       " 'LOIL970319HTCVPT25',\n",
       " 'IUGM861123MQRFRW9I',\n",
       " 'HIRW700217HQRRFV71',\n",
       " 'YOWM420625HQRBGR00',\n",
       " 'DUJH960507HNTWNV25',\n",
       " 'TOSR840116HTLYCLKJ',\n",
       " 'NUXR990903HGRBTC03',\n",
       " 'FIHD700817MSLQJKZ4',\n",
       " 'CIWN870924HCHHLWP7',\n",
       " 'IUWF550413HTLLWDG3',\n",
       " 'HUTX990412MMCZVKBU',\n",
       " 'PURS751129HNLGPNNF',\n",
       " 'SEKN720821MCCHTDKG',\n",
       " 'UEQU790230HSRNTSMQ',\n",
       " 'IURG780206HQTNRV90',\n",
       " 'BEBN480402MDGJBHI9',\n",
       " 'HUWY960808HVZCZB53',\n",
       " 'EIBB460918HMSDVQ17',\n",
       " 'ROWY720223MSRYGB94',\n",
       " 'VAEH900223HNTHJM22',\n",
       " 'RESK080214MMCKFJ02',\n",
       " 'UEAK010501MCCQQPP5',\n",
       " 'OISM790613MNLWWXW1',\n",
       " 'HOQT510914MTCRGM0V',\n",
       " 'RUYF590304HGRFDS96',\n",
       " 'YUAZ850601MBCVBRV3',\n",
       " 'SASN410314HOCSZQJ2',\n",
       " 'OAPQ850921MNTBLJF6',\n",
       " 'VAEG560619MPLPPGM3',\n",
       " 'LUTB810624MJCMWY97',\n",
       " 'BIVD010202MZSMPBL0',\n",
       " 'QUYN050122HNTSVZE7',\n",
       " 'SUEF400607MCLSBG7N',\n",
       " 'KORB931110MHGNVFB5',\n",
       " 'YEMJ620718HGTTQD65',\n",
       " 'VIVB891111MQTJPFI0',\n",
       " 'OEXI460301HPLBKTV5',\n",
       " 'JIUY910521MOCKCB6E',\n",
       " 'GEMV041130MZSGKCU2',\n",
       " 'VAGK580721HMSHLWG5',\n",
       " 'MEGO991209HSLHWYH2',\n",
       " 'TIJZ130701HJCZGG97',\n",
       " 'CIYQ560522HGTTHQG8',\n",
       " 'KIUS071118HZSSTQ04',\n",
       " 'HEDO960605HBSPDL74',\n",
       " 'ZITG950511MOCPXC28',\n",
       " 'KURL791014MSRWQH45',\n",
       " 'ZAPK531006HNLRWH29',\n",
       " 'UEBD541221HDGWGYW4',\n",
       " 'OUNA040422HVZBDHAO',\n",
       " 'DOTI080520MMNXPL4D',\n",
       " 'IISU751104HGRNSJ10',\n",
       " 'NIDU800202HVZMBSOQ',\n",
       " 'RAPR050801HDFKNLK6',\n",
       " 'MIMZ790505MSLFCV5R',\n",
       " 'HIAQ590817HBCRVNOP',\n",
       " 'GIJF990222MZSDRMR6',\n",
       " 'HIEZ911203HCHMFMB9',\n",
       " 'LURO090124HCMXXCX8',\n",
       " 'NATK800811HGRXVY7O',\n",
       " 'IEWN930914MJCDRYR9',\n",
       " 'MASW060614HMSBCXJ4',\n",
       " 'EEAA910128HYNTKBC3',\n",
       " 'UAOR511119MNTRRQ0U',\n",
       " 'JUMG971227HYNPCN93',\n",
       " 'DUZJ610325HPLNMMO9',\n",
       " 'TIVA411104HASBRWZ3',\n",
       " 'NETK680510HMCLQJ65',\n",
       " 'IIIO881208HTSKHF27',\n",
       " 'LOZX141219HSRNPNE8',\n",
       " 'VAXY680317HNLSWZFF',\n",
       " 'OUFE470713HOCTTRW5',\n",
       " 'GICD021201HBSLHCPL',\n",
       " 'OICF920909HNTLDBK7',\n",
       " 'ZOWW641014MMNWSXHA',\n",
       " 'DUNV010719HYNZTGNJ',\n",
       " 'MOPP421015HGRBBWZ9',\n",
       " 'PAHE681129MPLPNSZ2',\n",
       " 'GAKA890716HJCYSH08',\n",
       " 'WOFH490118MCSZRK2M',\n",
       " 'AIOM780520HNTSMSY1',\n",
       " 'SIPB921230HSPGLPA7',\n",
       " 'OUFU410407HBCQDD26',\n",
       " 'FOME750202HYNYZY78',\n",
       " 'HIHW620223MNTMYLD9',\n",
       " 'AAWA820527HDFSZM48',\n",
       " 'WEXB960429MZSHSY97',\n",
       " 'AOZG430706MZSPXVB7',\n",
       " 'KICA850116MYNHJFW9',\n",
       " 'RESP910920HMNQHYZR',\n",
       " 'SADJ800920MDGNTBH3',\n",
       " 'UECN850229HMCNPJ02',\n",
       " 'JONK710701HDFCKJWU',\n",
       " 'VUEF081129MSLFKJ79',\n",
       " 'JIXV011204MCHZLJ70',\n",
       " 'KAHO651217MTLWXN6E',\n",
       " 'CETV500707MBCYSP07',\n",
       " 'JUKK120326HTCVVR55',\n",
       " 'OUIU480610HCLPHB5Z',\n",
       " 'HINM841027MVZMWBU8',\n",
       " 'KUQV980318HZSBJN83',\n",
       " 'YABS810918MOCTZG1I',\n",
       " 'XATU040210MQRLQH06',\n",
       " 'GIVT890307HCLVDRR0',\n",
       " 'IEFA550718MQTMFX43',\n",
       " 'LEPT810227MSLWZVN1',\n",
       " 'MOIX900427MCHTBV47',\n",
       " 'VIVJ670717MHGDFJ85',\n",
       " 'AAKQ930814HCCNDR94',\n",
       " 'SEHC850213HTSBCMP2',\n",
       " 'VAUS441019MSRVJLA7',\n",
       " 'YENE520626HOCTGVE3',\n",
       " 'AUKY070703MQTSLYY3',\n",
       " 'BOHN071218HDGQLKI0',\n",
       " 'PUUS830724MHGNGK14',\n",
       " 'GUNM701025HMCFWM65',\n",
       " 'OAKL050724MCHMVLW3',\n",
       " 'YATE061214HGTTQRHY',\n",
       " 'PISK550930HMSVQBY6',\n",
       " 'DIVD880523HMCLMDE6',\n",
       " 'WUXH551204MTSYDZ5P',\n",
       " 'MIIV080318HMCZSW19',\n",
       " 'VOMQ840105MYNLPWA3',\n",
       " 'NIJS940502MMNQKDC6',\n",
       " 'FEQF690305MZSVPSK2',\n",
       " 'BUUT801010MQRRRX24',\n",
       " 'XISJ100701HDFYXXDI',\n",
       " 'YOLA990716HCLSGS92',\n",
       " 'XIXK530118HMCPTS47',\n",
       " 'IESU621101HTSKJSM8',\n",
       " 'FIIN740813HMNFNNY5',\n",
       " 'FEEG690224HJCSTX9O',\n",
       " 'MIJE781106MGTZSV97',\n",
       " 'KECI770624HVZMFZ12',\n",
       " 'DUAT151222HCSXJLT9',\n",
       " 'WEOF910222HNLKNVU4',\n",
       " 'GORB150910MTCGTL01',\n",
       " 'UUNT001207MMSBHZKB',\n",
       " 'REBA710815HGRVJM6Z',\n",
       " 'FIFT021030MASYTT31',\n",
       " 'EUTM051027HDGVVL12',\n",
       " 'WOUU670825HCMYTLEY',\n",
       " 'RIPU490102MMNNYDA1',\n",
       " 'HUYG820710HDGZGY79',\n",
       " 'JOWV090516MCCWMXG6',\n",
       " 'KUKW760301MTLCLCJ7',\n",
       " 'LIVP530303HCHZFVC1',\n",
       " 'PUOA040914MHGDDH2P',\n",
       " 'KIGI050524MCCDZTRX',\n",
       " 'SEJT791220MCCXFNT4',\n",
       " 'PORB060311HTCWFCJ7',\n",
       " 'ZUYE420221HBSVWMB2',\n",
       " 'GOJS580206HMSDCJW2',\n",
       " 'PUGH780919MZSVZD3L',\n",
       " 'XIDC981107HSLLCKM4',\n",
       " 'DELM800104HPLBYMZ4',\n",
       " 'GAYL800524HCHNTSV1',\n",
       " 'PEPR900522MBCZPD75',\n",
       " 'XAMQ070923MJCKLK90',\n",
       " 'FECC790928MDFVDCL7',\n",
       " 'ZOGZ860216MQRHBW60',\n",
       " 'EUBH450415HQRFBT2L',\n",
       " 'KAWO400729MVZSVNPI',\n",
       " 'TENY770508MZSDLZWU',\n",
       " 'TUIZ530702HCMHGGK4',\n",
       " 'BUJN131207MPLJZC86',\n",
       " 'JASR600810HCHZFN43',\n",
       " 'FUOL070925HMCQCZ89',\n",
       " 'HAXS780104MCSPWG07',\n",
       " 'PUMW730104HTCMJF08',\n",
       " 'VEMO730902HVZTQZS8',\n",
       " 'LUSH820423HCHRYPZQ',\n",
       " 'VOCM030403HCCVMX38',\n",
       " 'MEOZ581001HOCFFRS0',\n",
       " 'ZITW430303MOCGQY72',\n",
       " 'OUSH930409HHGBMV5S',\n",
       " 'AOVV800906MNTYPCH5',\n",
       " 'MUJW951104HCMLWV89',\n",
       " 'NOGH760311HPLLYFZ5',\n",
       " 'QEEI510927HPLQGTDE',\n",
       " 'QAOS071228HBCRTWN4',\n",
       " 'SAZZ811102MTLMXRH4',\n",
       " 'QESU681025HQTHQKN4',\n",
       " 'OOHR411022HBCTVJRM',\n",
       " 'XUAJ010111HYNWTN84',\n",
       " 'TUCB631229HMSBHQQ1',\n",
       " 'BACC060726HCHKBVT3',\n",
       " 'WAQU721205MSRKWQH0',\n",
       " 'NOBS980227HHGGLQG3',\n",
       " 'PAXH940127MCLBFQL6',\n",
       " 'YOJV730512MTCVYG88',\n",
       " 'AOVW910804MGRMLDHT',\n",
       " 'TUDC771229MBCQYGK9',\n",
       " 'ROOJ051016HMSPJBC1',\n",
       " 'IAXQ521106MSRSZVK5',\n",
       " 'YUTA410122MQTHNRV9',\n",
       " 'VULH550105HMNDRPP0',\n",
       " 'YAGU790801HJCLLWO4',\n",
       " 'PAPJ530614HSPRFFW5',\n",
       " 'CAFS511128MCLNLC92',\n",
       " 'PIDZ140309HYNRGPOK',\n",
       " 'MOLN051102HZSFVQJ9',\n",
       " 'VUVL850415HCCGLB26',\n",
       " 'BOIB011028MMSGHK30',\n",
       " 'PEMN120609HSRXQF33',\n",
       " 'XUXI000903HYNRMLV4',\n",
       " 'UATB080426HYNCQQUV',\n",
       " 'ZUMR780719HTCJRFA9',\n",
       " 'HAXM780513HMSDRP1Q',\n",
       " 'ZUDM760922MJCWPJ1Q',\n",
       " 'KOUA590315MQTTYV99',\n",
       " 'QEEB091021HMSTBZ08',\n",
       " 'COXG660120HBSVVB19',\n",
       " 'REOB840606HNTNBPT1',\n",
       " 'OIMI890705HZSRZVW7',\n",
       " 'RUMM140127HYNSXWO3',\n",
       " 'ZUJR050524HQRVGD49',\n",
       " 'UIGA800428HCMYSGY6',\n",
       " 'EAOP810405MDFGHMC7',\n",
       " 'XABL740216MVZVRFQ2',\n",
       " 'LUFY060623MMCLHQ66',\n",
       " 'TOAS970626HCLVCW97',\n",
       " 'WAGV991008HCMNVSR3',\n",
       " 'XEPK610926HGTJZHZ6',\n",
       " 'EUHR571011HSRXDDC4',\n",
       " 'HUNK080822HPLMFGA0',\n",
       " 'RAXD670219HCCWRHJ1',\n",
       " 'JOLL670808HCHPZRW8',\n",
       " 'LUAN510329HOCWNM33',\n",
       " 'CUCC000822MGRSHYG7',\n",
       " 'EIXP400909HBCFWX4A',\n",
       " 'IENG070207HDFCNPV2',\n",
       " 'RIAQ940101HPLQYKM9',\n",
       " 'YEAT960628HOCRWGY0',\n",
       " 'GEZR710704HCCRYZ3R',\n",
       " 'LEVU510304HCCWQSTP',\n",
       " 'KEUZ711214HPLYHCB3',\n",
       " 'NEVW950809HSRXTS96',\n",
       " 'UEMJ470920HCCZBHC1',\n",
       " 'MAYB900306HMNFXSJ6',\n",
       " 'SEJS450927HSRYJB37',\n",
       " 'DAFY550523HSRSRK40',\n",
       " 'HEXM090711HBSZQDG3',\n",
       " 'UUZZ530530MMCHYJ00',\n",
       " 'XEXX120501MZSRGPB8',\n",
       " 'OURQ960303HMCFXCC2',\n",
       " 'NEYX820817HGRZNDTH',\n",
       " 'BULO490816HBSWDM41',\n",
       " 'POME451007HCMPBPZ9',\n",
       " 'NAGX110715MDGTMR2J',\n",
       " 'JULL140322HCCZLP34',\n",
       " 'VUEZ870325HGTLDQS7',\n",
       " 'PAOU840417MCLMZYH9',\n",
       " 'CIUX861018HZSTRRA1',\n",
       " 'TITK650506MOCMCNH9',\n",
       " 'YAQN420709HSRYFY20',\n",
       " 'PUDW740801HGTFVR68',\n",
       " 'AUUC720814HVZWSC26',\n",
       " 'NADH510207HGRPSNH5',\n",
       " 'ZUFQ670812HMNFFX99',\n",
       " 'TEWA420916HDFVRWY2',\n",
       " 'LEDJ640511HTSBYWN0',\n",
       " 'MICG820429HDFTPYY2',\n",
       " 'KEXF080727HQTSZYW1',\n",
       " 'HONS030613HTLDPJH7',\n",
       " 'NEYF700126MOCCKNV0',\n",
       " 'AOTF020509HCHQDB09',\n",
       " 'MIRK920718HJCWQDT4',\n",
       " 'UOAA850729HJCSGTN6',\n",
       " 'SUMA130402MTSBWK31',\n",
       " 'EEGG930430MNLNXJMH',\n",
       " 'CUPK430812HDGYBP64',\n",
       " 'TURL450504MMSVJR6Q',\n",
       " 'JUZC001216MCMPYGI9',\n",
       " 'BEAM860702MQTVBNC4',\n",
       " 'UUCP860520HVZNWGR6',\n",
       " 'LUCD121217MSRXMXV1',\n",
       " 'HAVM400830HDFMTQY7',\n",
       " 'UUHK011109HTCLTY93',\n",
       " 'QIZG781215MMCQKTT2',\n",
       " 'BUPF720609HBCBDBO9',\n",
       " 'VAKZ770924HCHVJZLC',\n",
       " 'WARP060628HCHKGP39',\n",
       " 'BENM030707HNTBRWI1',\n",
       " 'EOMW510823MGRBDCNE',\n",
       " 'EARD820701HQTGVQL7',\n",
       " 'WEVD750127HDGGSK8O',\n",
       " 'JUXO790606HNLSBFA6',\n",
       " 'ZAZV001127MMNKWL66',\n",
       " 'HETC040219HTCZWTD4',\n",
       " 'VOQJ820306HTLZCX37',\n",
       " 'JEKN021129HCLZFL4D',\n",
       " 'EUBS930315HMNJXZX9',\n",
       " 'QOIR470801HVZQLBE0',\n",
       " 'HESZ780629MCLHMM9S',\n",
       " 'MEBD701128HYNCQLX9',\n",
       " 'AIRT130827MNLMZPIE',\n",
       " 'LEHS061205HTSGSN0K',\n",
       " 'XAQM970507HNTPQW7Q',\n",
       " 'RIBS780926HOCRYLP0',\n",
       " 'HAQR400618HGTCPZ00',\n",
       " 'OEED981025HPLJTG3S',\n",
       " 'DUZZ760608MGTLRQE8',\n",
       " 'WORF921101HPLPGKM9',\n",
       " 'CENZ801212HMNKDQM0',\n",
       " 'FUXM470316HASLDBJ8',\n",
       " 'DEQM810904HMCGFTS1',\n",
       " 'BOTQ441206HDFYQLS8',\n",
       " 'SESU060719HOCLLX92',\n",
       " 'MEZH510228MCHYTSZ0',\n",
       " 'KINP060320MQRSRVB6',\n",
       " 'OUTH580903HVZNJD02',\n",
       " 'WAQF800609HBCYCYY7',\n",
       " 'DAHQ780414HCCNBQ43',\n",
       " 'HASR590725HNTMHSIV',\n",
       " 'HOIG541216HVZGLW38',\n",
       " 'GUIW661026HNLPHG67',\n",
       " 'RIIE800326HJCXTPU1',\n",
       " 'BIFZ931015HCSWLLJ3',\n",
       " 'WEWG870823HMCXXVT4',\n",
       " 'EEZH660201MSRTDS49',\n",
       " 'FOMK970420MCCDCXB4',\n",
       " 'VEKO960310MJCZMY3F',\n",
       " 'GUJK860316HSPCKFP7',\n",
       " 'ROGN960627HMNKJYHK',\n",
       " 'UUJD580406HDGQVSK4',\n",
       " 'VOHY460224HYNPDYI2',\n",
       " 'SERB040611HCCSTQQ1',\n",
       " 'YUNG040720MBCRSZH7',\n",
       " 'KEJN810709HDGKCV82',\n",
       " 'JAMT110513HGTRZV94',\n",
       " 'KUWL730301MCHMFJK1',\n",
       " 'EIIT730705HMNQNVR5',\n",
       " 'EETR651206MBSZZF84',\n",
       " 'MEBQ440719HCCKBQ4Z',\n",
       " 'RURQ690115MHGQMQV1',\n",
       " 'XEPG010128HCHQHZ05',\n",
       " 'AUXA820320HMNYQB95',\n",
       " 'FIXY600419HGTLVM08',\n",
       " 'QAOI141221HMCFDQY5',\n",
       " 'ZAQC470214HCCFPN08',\n",
       " 'DACK590526HCMHDP15',\n",
       " 'YIXA560402MTSMGY66',\n",
       " 'EACB760119HZSWNY77',\n",
       " 'LENW150923HPLSTY54',\n",
       " 'GAPS830118HCCLPNII',\n",
       " 'OEZX030324MASJQDZ0',\n",
       " 'PASB970123HCMBWJ06',\n",
       " 'NAYW910904HTLTYZL9',\n",
       " 'JAXR140730MGTHCBNC',\n",
       " 'NIEB500407MVZFXM38',\n",
       " 'JIOD450604HYNJJB65',\n",
       " 'IADF940411MMNHQP52',\n",
       " 'AOHP920825HZSZBRVY',\n",
       " 'QIXW401109HGTDTYE7',\n",
       " 'AIGZ400310MMCVQH70',\n",
       " 'HEVZ021124MCCJMW31',\n",
       " 'LUMT540330MSLLTVDF',\n",
       " 'UEJP630229HTCBCQU6',\n",
       " 'FARA430418MSRHHFV8',\n",
       " 'OIVC610807HCHWYTAI',\n",
       " 'VALD680615HNLTQYI9',\n",
       " 'TAPT600313MJCYTCX1',\n",
       " 'EAHA710919MHGQDNR6',\n",
       " 'WOWS030325MBSJXHC8',\n",
       " 'RIDK610321MNLZXMQ6',\n",
       " 'IIBC510123MBSXMCZ0',\n",
       " 'HAKW771019HTLJHVQ7',\n",
       " 'ZUVY970309HGTNVD42',\n",
       " 'SAUD400519HMCFJKC0',\n",
       " 'WOVK400415MCSRXSO0',\n",
       " 'UUGD421216HBCLXMU8',\n",
       " 'QOEB960714MSLDGJ35',\n",
       " 'UASB841021HTLYLL70',\n",
       " 'PIFB800405HQRDJG18',\n",
       " 'SUIH020725HJCZZTH1',\n",
       " 'QAYQ100610HCCPWJTN',\n",
       " 'CUCF650813MMCBWNGI',\n",
       " 'GORR710802HQRGYLI5',\n",
       " 'UUZT611218MCMBRT90',\n",
       " 'NOML800412HCHWTLZT',\n",
       " 'JUOI921030HBCQKS63',\n",
       " 'JURI710324HASPXLM9',\n",
       " 'FOAR650420HDGCHGEF',\n",
       " 'EERG410703MJCDMG75',\n",
       " 'QOVJ090129MOCZGMK4',\n",
       " 'HEFW420420HGRFXZXM',\n",
       " 'HEKI510603HDGKRGJA',\n",
       " 'YOHE670810HTSRBZT5',\n",
       " 'CIXJ440404MPLDDGF3',\n",
       " 'BOCF540612HCCWWN4P',\n",
       " 'AACZ980609MQRVHDJ8',\n",
       " 'MAWR980824HSLXNYCV',\n",
       " 'HAOI541116HYNPDKT5',\n",
       " 'VIXX950128HJCSSQU2',\n",
       " 'YUXJ551228MMCWZGD7',\n",
       " 'EISM680422MTSTGCG1',\n",
       " 'NOUA460507HBCLHHMT',\n",
       " 'KUAU910501MZSBVM29',\n",
       " 'VELJ500501MMSPHYU9',\n",
       " 'WOJY061023MNTPMF75',\n",
       " 'DIVR860524HSPNFQTH',\n",
       " 'VAEQ550701MSLWPGCM',\n",
       " 'AUJL010111HMCQZVO2',\n",
       " 'AEZG731021HDGSDJLX',\n",
       " 'QEGJ531229HYNBQST1',\n",
       " 'GOBO950124MZSLYHDQ',\n",
       " 'DIXT130722MSPQFMTZ',\n",
       " 'TEUE780520MCMTKFE4',\n",
       " 'KAXP030424HJCRQP18',\n",
       " 'HAZP811211HHGLZJG7',\n",
       " 'AEQP031113MDGTPSZ3',\n",
       " 'NIZH530612MOCSRLM1',\n",
       " 'FOCY980714MNTHKD8Z',\n",
       " 'TOCO590212HBCHTX86',\n",
       " 'FUHS100401HNTJMKL5',\n",
       " 'PEVL590208MTLBFD4L',\n",
       " 'XEDC811029MTCYBL71',\n",
       " 'MIZC660630HCHJPB2M',\n",
       " 'BAXV030830HCSYZZ74',\n",
       " 'PADU670112MTLPSNL1',\n",
       " 'ROOM690308MTLMHSY3',\n",
       " 'YECA020301MMSKGT4L',\n",
       " 'SOMX900229MSRTGG59',\n",
       " 'AUZU400401MHGFHF19',\n",
       " 'YOCD450324HMNFLQR4',\n",
       " 'HURX030827HCMNTLJ6',\n",
       " 'ROFU461117HCLXHZV8',\n",
       " 'IEBI900310HVZBHPA8',\n",
       " 'KAFV720213MZSWPM2Y',\n",
       " 'SOAS730426MNTTVVNA',\n",
       " 'DEYS770924MBCHKJJ1',\n",
       " 'KUKL150905MNLJBHX5',\n",
       " 'UOZR790308MOCMCPUO',\n",
       " 'WOHN791018MYNGVQ80',\n",
       " 'PUOJ860220MDFVWH7V',\n",
       " 'AOBV020529MTSZVC3G',\n",
       " 'FEAS510913MOCVTJ15',\n",
       " 'ZUFN791107MTCTHFB7',\n",
       " 'FUEF860814HNLNVTH5',\n",
       " 'HOVC140828MDGLFC00',\n",
       " 'KUJW130613HBSNWY49',\n",
       " 'JALZ130304MNTWKM54',\n",
       " 'IANC140920HTSVRKK9',\n",
       " 'BOAN970226HOCQDHO5',\n",
       " 'SATQ501122MGRXYMX8',\n",
       " 'FUEK971216HGTJJXDN',\n",
       " 'NIBS471010MMNYGK48',\n",
       " 'PIMI550730HCCTFT38',\n",
       " 'NUXZ030909MCMZFWXS',\n",
       " 'POZZ090801HBCMGPO1',\n",
       " 'WEEI030601HDGRYLHT',\n",
       " 'IUYF450429HNLHCB30',\n",
       " 'COCN141013MCHRJVW8',\n",
       " 'OEVL030512MQTJNXR0',\n",
       " 'HIIZ570322MASSWYT8',\n",
       " 'AAXB860719MDGYMT29',\n",
       " 'SAYT971228HCHQCQO6',\n",
       " 'JOOX761208HCLDYWX7',\n",
       " 'XIPP610409MOCRDC4M',\n",
       " 'UEUE900313MZSKNS66',\n",
       " 'BUIC000319MGTGHTD1',\n",
       " 'CAZG840320HZSPXFGM',\n",
       " 'ZURV660215MMCNNY70',\n",
       " 'LAUK001218HCSVLMM2',\n",
       " 'COCH420627MVZZCCH9',\n",
       " 'IUNM001206HBCVWYI6',\n",
       " 'EOZU760922HJCYCXZ1',\n",
       " 'VUJZ540411MQRFTPE6',\n",
       " 'UOBC990817HSLXNGS2',\n",
       " 'BEJX430813MVZTGN29',\n",
       " 'JIZL801102HZSYLYQ2',\n",
       " 'MAOG530429HCMTLJV5',\n",
       " 'IEBN741010HNTFFMB7',\n",
       " 'HALK110224MCSWBD06',\n",
       " 'NANM061202HQRHPV61',\n",
       " 'PEDZ520929HDGXHS07',\n",
       " 'HOFX961230HDGMGQ0X',\n",
       " 'BABB740501MMCNZNH5',\n",
       " 'HUBJ601008MASSGG05',\n",
       " 'KODV561124HTCBKPIB',\n",
       " 'SEGC721201HGRRNC63',\n",
       " 'XUJX641004HQRPPF6Y',\n",
       " 'IEGM570324MGTKNFE6',\n",
       " 'KILG960529HTSDJD38',\n",
       " 'UODY080830MOCBWCW4',\n",
       " 'FUFN690123MZSWNLK2',\n",
       " 'EUTM910206HYNGFT29',\n",
       " 'SUGM611211MSLYSSS9',\n",
       " 'BUCT141226MTCGRK63',\n",
       " 'DEIU540706HGTHLD82',\n",
       " 'XEZV410821HDGDQVT0',\n",
       " 'VIKP951227HCLKMSXI',\n",
       " 'OOQG541211HNLYJNU0',\n",
       " 'RECP821117MTCJTNR1',\n",
       " 'YIOJ560527HTLRDH81',\n",
       " 'NABJ520408MSLNMSZ7',\n",
       " 'CUEA590109HCSBQG47',\n",
       " 'JAEV701002HCSGSRW9',\n",
       " 'KETQ740903HGRZBBA0',\n",
       " 'IANE530405HOCWZSG6',\n",
       " 'XUYD430508HBSYHX69',\n",
       " 'SILL971108HCLQJFOY',\n",
       " 'ZERV631014MBSQZSL0',\n",
       " 'CACT470502HSRNDK34',\n",
       " 'NATX410218MGTXZHW6',\n",
       " 'HUFE621224MBCJVNGE',\n",
       " 'XAQB140407HCSYGGM0',\n",
       " 'KIVV770325HTLYVLO6',\n",
       " 'NUIS640816HGTDXT29',\n",
       " 'KOLQ081028MMNMWYB6',\n",
       " 'OIXU470414HNLKKJ07',\n",
       " 'UUNB120215MZSTHZRR',\n",
       " 'LIGW970124HJCHXKX3',\n",
       " 'PODF830713MVZTJNP0',\n",
       " 'PAFC560806HBCDSSZ2',\n",
       " 'AOZK821029HQTQDTM4',\n",
       " 'KUAL400219HMNXBW57',\n",
       " 'CEZR421111MCHTZNG7',\n",
       " 'PEGS510709MBCHHMU0',\n",
       " 'PIXF931004MMCJNR90',\n",
       " 'JOWE671024MSRLNWU0',\n",
       " 'ZEFE950929HZSXFV82',\n",
       " 'RAJW090804HCHKMRG1',\n",
       " 'RULM711212MGRPFJA2',\n",
       " 'MAEP980228MTSJMN2R',\n",
       " 'UAMP831128HTSBRVKA',\n",
       " 'BIYV991124MJCNXR76',\n",
       " 'UOOQ040811HBSLVG4V',\n",
       " 'PEHB400805HVZLKZY5',\n",
       " 'FOKS001028MJCTSDL2',\n",
       " 'LIMD470705MQTPPVL8',\n",
       " 'CELI960529MOCTBMU9',\n",
       " 'VOXJ560613HBCCDXMR',\n",
       " 'BIGZ700427HDGTHVPQ',\n",
       " 'JUCG140512HBCKKFY9',\n",
       " 'KITV900812HTSYDQFK',\n",
       " 'EAAW830620MCMBWC04',\n",
       " 'MEDO671214HSRPZK3D',\n",
       " 'BOAK771012MCLZQRVA',\n",
       " 'KIMD900407HYNWFTG4',\n",
       " 'RUKU660406HSLGXN8A',\n",
       " 'AUDJ100613MDFGPMP8',\n",
       " 'SIWP690526HCCVYR90',\n",
       " 'GUFJ060809HCHKMXG7',\n",
       " 'NAFK790325HCSQVB97',\n",
       " 'CEKK150912HYNKSYMD',\n",
       " 'FADK771214HVZNCWC2',\n",
       " 'UEYG510707HSRYRPO4',\n",
       " 'ROPE670904MQRQNT58',\n",
       " 'YOYB410801MCHJNN7E',\n",
       " 'LEOT041121HTSSYCI8',\n",
       " 'ZENN460921MGTVNQR4',\n",
       " 'OETB020506MTLSSPN8',\n",
       " 'IUVK700609HBCVFQ75',\n",
       " 'CEJP431125MOCKJMI2',\n",
       " 'LIHR621027MASJKSB3',\n",
       " 'IEOA680328MTCNCHZ1',\n",
       " 'BECM651219MNTCJK58',\n",
       " 'FETH841227MYNGHTL8',\n",
       " 'RIZU980624HYNKYR52',\n",
       " 'QOAT531029HCSRWVE2',\n",
       " 'FOWP540715MGRXQGQ0',\n",
       " 'RADL720924HCCTBVT2',\n",
       " 'SOJS811211MJCFLTJ7',\n",
       " 'EUAV701202MQTRLG71',\n",
       " 'ZIDY841211HBSTBWD3',\n",
       " 'IAKN440209MCHZNFY8',\n",
       " 'TATH711114MQRMFWV1',\n",
       " 'SUTY010822HDGRYZA1',\n",
       " 'XAXW520604HCLHRLA9',\n",
       " 'YEBE620910HTCLBNL9',\n",
       " 'GURW720324MNLHKB84',\n",
       " 'BIVZ030828MCLRZV15',\n",
       " 'QAHF901229MGTQBWB9',\n",
       " 'JOUT730818MTCDYCH3',\n",
       " 'JEZA031102HMNYGX56',\n",
       " 'NAHW840808MTLBQH26',\n",
       " 'NUTJ471124MNTQVV88',\n",
       " 'IUZG650514HVZPLZK7',\n",
       " 'RUGW731206MVZRWQV0',\n",
       " 'UIFQ410318HCCMHSS9',\n",
       " 'UIYY791006HPLSDHI2',\n",
       " 'LAIW530924HTSPWGP1',\n",
       " 'LEXZ631224HGTTQH01',\n",
       " 'LEBC510306HDGTGKCO',\n",
       " 'EEZM551219HNTCRW37',\n",
       " 'MITK990217HMSXPM02',\n",
       " 'LENP890323HCLTSX15',\n",
       " 'YITO481123MMNCPM68',\n",
       " 'LAMM410620HVZHRSH5',\n",
       " 'WAYL630813HDFQFJJ4',\n",
       " 'SAPH910920HNLQBYC0',\n",
       " 'HOBI861122MSLVZJE0',\n",
       " 'TECC900703HTLGMMK6',\n",
       " 'GESU930526MSRMFWH2',\n",
       " 'ZUXP531107MQRTZVG6',\n",
       " 'AALK141205HYNNGXA3',\n",
       " 'OIYW810827MSRCNT06',\n",
       " 'SATR940403MJCVWZ2K',\n",
       " 'ZUVQ640705MJCDGG19',\n",
       " 'EUZP660328HBSFXB29',\n",
       " 'HAWN050728HHGZKVZ4',\n",
       " 'HIDO870405MSLQZQ19',\n",
       " 'JUPX570127HOCNNZK6',\n",
       " 'KOBG990627HMSRXXP4',\n",
       " 'EUJW440810MNLNHZT7',\n",
       " 'ROTG980920HASPJQB2',\n",
       " 'NOMM600203MSPMLVX0',\n",
       " 'SEDW810628HNLVWM77',\n",
       " 'XUTU900403HHGQFD5F',\n",
       " 'RIBI551023MNLJWG57',\n",
       " 'MAQD630316HDGYJZ1G',\n",
       " 'MOJU501028HCHFFM3M',\n",
       " 'VONV600529MQRTQN46',\n",
       " 'ZAQD670413MSPLJRL1',\n",
       " 'TOUL880721MCHBMS21',\n",
       " 'AUIA430114HBCTGFD7',\n",
       " 'ZIJS620523HTSKXB04',\n",
       " 'NEIO570108MGRPLFU6',\n",
       " 'YEOH491002MGTHDL40',\n",
       " 'AISG581208HGTCTFW1',\n",
       " 'XOIE520820MDFWMHUD',\n",
       " 'YURO731027MTSKCXJ6',\n",
       " 'CEOI720517HSPPWDB1',\n",
       " 'TOET060109HQRTJSSW',\n",
       " 'GAUW951124HSLTKR59',\n",
       " 'QELF920813MCLDTWD2',\n",
       " 'SIUK890108MSRHTFG0',\n",
       " 'GOMV740204MOCTMH37',\n",
       " 'WECG990326HCHYHMY8',\n",
       " 'BITJ450912HQRZYLW2',\n",
       " 'SUGS420909MBSFGG52',\n",
       " 'NOFA580703MMCLMQ8N',\n",
       " 'JUHC640430MSPZRPW4',\n",
       " 'QURL051212MMSQTPI1',\n",
       " 'RIVX791212MGTNMLP5',\n",
       " 'OOFZ140706HQRCVR65',\n",
       " 'MAVK711109MTSGZF6S',\n",
       " 'KIVB840602HTLMHX70',\n",
       " 'XIBI850924MGRXMQ41',\n",
       " 'UACO000622HNLJDHB2',\n",
       " 'JUSW520902MOCLDVMJ',\n",
       " 'UUTM020219MDGKHB6O',\n",
       " 'DICE861014HSPWKZL4',\n",
       " 'UUQJ531221HGRBNWJZ',\n",
       " 'AUHN590628HMNTLCP7',\n",
       " 'OOJZ530516HNTHGJ90',\n",
       " 'KUMW141004HCLSNC6O',\n",
       " 'CAJQ690226HNTFXY99',\n",
       " 'XANN070926HSLNTKA3',\n",
       " 'MUPY101022HMNCJS44',\n",
       " 'KIDW780627HJCDVCG2',\n",
       " 'SEUV150704MPLZMPBU',\n",
       " 'OUUL611018HGTFQC16',\n",
       " 'KAZR670611HTLYTQT3',\n",
       " 'YOHJ540522MCCYFR98',\n",
       " 'QALN810516MNLWZQR9',\n",
       " 'VUUB491202HTCPXJT3',\n",
       " 'YOFF960407HZSSCFJ5',\n",
       " 'HUXJ650605HTSXJL56',\n",
       " 'OUEM970824MCMSCDE3',\n",
       " 'UAAG460930HMSZPGE2',\n",
       " 'ZIBI120624MCSSWME9',\n",
       " 'GEUT621113MYNXSXB6',\n",
       " 'WILW990425HNLYQY71',\n",
       " 'FOIQ920922HSPBLJJ9',\n",
       " 'YUNC100612MNTPZBA6',\n",
       " 'ZEOZ521012HJCLPT41',\n",
       " 'BOYZ450907HGRWWQR0',\n",
       " 'VONN560521HYNFWQ3M',\n",
       " 'WEML661215HQTSNGZI',\n",
       " 'KITK860318HSLTXJ19',\n",
       " 'QOTH700213MBCKYVV2',\n",
       " 'IENK061014HCLMZS94',\n",
       " 'ZUFF941205HQRGBDK5',\n",
       " 'EAIK720406HSLQBB04',\n",
       " 'COGK890315HTCGDMNN',\n",
       " 'WUOD590517HJCMZV4E',\n",
       " 'SILH710822HSLXHB85',\n",
       " 'AESZ710307HMCRJD76',\n",
       " 'YAWE530621MNLGZPCL',\n",
       " 'NINB640318MBCLZJWK',\n",
       " 'TIUC560118HGRYKQ86',\n",
       " 'UADS460403MQTCGXI3',\n",
       " 'DEKJ640702MVZLVGH1',\n",
       " 'LAYC630815HSRPWLU4',\n",
       " 'KELC030123HTLFHGL9',\n",
       " 'BIUT801007HCCKSF67',\n",
       " 'VAIH120828HSRJMJ04',\n",
       " 'LIII130520MBCWCNS6',\n",
       " 'DERZ770726HCHSZGR5',\n",
       " 'FESU400503MSLKWKW0',\n",
       " 'VOVO480517HSPJQFLM',\n",
       " 'ZAXN971030HSRLFCG6',\n",
       " 'HICZ951102HBCDLSF3',\n",
       " 'UOVY620913HQTXGJ8S',\n",
       " 'FIPC880305MPLDVTV8',\n",
       " 'IOIX870711MTLXBC53',\n",
       " 'PIYC090703MBCCCKS4',\n",
       " 'XAAH970713HSRLRCC1',\n",
       " 'VUEB610628MJCRTQ14',\n",
       " 'TOHS650109HYNYJSY0',\n",
       " 'FIWP490601HVZZNGY7',\n",
       " 'BONP081204MBCTSKZ4',\n",
       " 'KIHH960625HMCMLSLV',\n",
       " 'KIKI681226MHGTNX61',\n",
       " 'PIDI011115HPLCFFA8',\n",
       " 'YADS500117MPLSRL9R',\n",
       " 'CEIG570707HTLJGRA8',\n",
       " 'BIJX020609HJCWRZZ8',\n",
       " 'CACG150329MJCBNVF0',\n",
       " 'QOQY900517MYNCJLH0',\n",
       " 'MADB710507MTLVBCOV',\n",
       " 'HEVX810625HYNZZKU4',\n",
       " 'HIMG110909MBSGXM65',\n",
       " 'WUVU810929HYNMBWEF',\n",
       " 'WUFL040722MZSPWTN5',\n",
       " 'PAEI690813HSLCBNQA',\n",
       " 'UOPE570510HSRKXR03',\n",
       " 'IUIM680920HVZBZLL7',\n",
       " 'JIHG470512HPLHKKLN',\n",
       " 'JIYT520912HNTVGF32',\n",
       " 'XEUR131027MTSLTDS9',\n",
       " 'RIUI871129MMCPBNE7',\n",
       " 'HOES990528HJCCBG30',\n",
       " 'EUHA030616HZSZMDQ9',\n",
       " 'WUCC711024HGRKRF90',\n",
       " 'VEBC560917HMCCRTGX',\n",
       " 'NUMS430123MCLGJJ29',\n",
       " 'MOAA640202HASSVGV1',\n",
       " 'TORM490823HGTHBSI8',\n",
       " 'CUXY741212MDGDKJ09',\n",
       " 'KIGZ820519MMCXHHS1',\n",
       " 'OIEQ720114MNTCMNGN',\n",
       " 'JALR560113MBCGHPN3',\n",
       " 'BEWR060130HZSCTHP9',\n",
       " 'HUXO961203MQTQDP9Q',\n",
       " 'ZINQ860809HDGDLCT8',\n",
       " 'FAQQ070423HGTRSK33',\n",
       " 'LAHO680415HNLDTJQ5',\n",
       " 'YEME861106HNTTYB88',\n",
       " 'GIHW570503MGTXZKV0',\n",
       " 'FESV400221HTSRZM4G',\n",
       " 'XISZ750213HGTXSRR4',\n",
       " 'OEMU780623MGRSXD9X',\n",
       " 'POHZ681119HGTZLG7U',\n",
       " 'MUBO591120MTSBPGT0',\n",
       " 'IASC901213MPLNQQG8',\n",
       " 'JOGR481012HQTRCBIG',\n",
       " 'IUYO920410MPLDDL92',\n",
       " 'FAHQ711112HMCWSQCD',\n",
       " 'XELD860126MDGMST4D',\n",
       " 'NOWY740821HCSPGBV1',\n",
       " 'VOYC460305HVZZBJW3',\n",
       " 'GIWX661122MNLWHQU8',\n",
       " 'VERR980612MDGYWJ92',\n",
       " 'IUZO561210MTLNPY9Z',\n",
       " 'WIME151015HNTXSB93',\n",
       " 'UAEZ921128HDFCRMH1',\n",
       " 'VIZO940204HCLPWM05',\n",
       " 'SEPU001106HGRSFDET',\n",
       " 'SEPL710601HTLHQC07',\n",
       " 'DEAV101103HCCKXTB1',\n",
       " 'MAZU050214HPLGKBT9',\n",
       " 'JOBI890325HCSRQWE0',\n",
       " 'AIBJ150626HBSXPT61',\n",
       " 'KACX001117MSPQTY75',\n",
       " 'LIOQ060630MVZGBYY9',\n",
       " 'HICL800829MTLMWKC8',\n",
       " 'MEDB441101MCSWSYH5',\n",
       " 'RUJX011011HNTKYMN0',\n",
       " 'BIZL420622HQRYGLV5',\n",
       " 'EILU590228MOCQSJ4E',\n",
       " 'ZIVX410101HTCFSP4D',\n",
       " 'BEYW680711HBSMNRO8',\n",
       " 'TIWD950330MVZLKT08',\n",
       " 'UUSG790808MMNPFK67',\n",
       " 'CABK150903MYNFXCPT',\n",
       " 'VAJM610404MTSXRG70',\n",
       " 'UOVG661207HSRNZPY1',\n",
       " 'CEKW940403MTLWKC02',\n",
       " 'TUVJ130618HCCLPDS1',\n",
       " 'COOZ640828HTCSXVM1',\n",
       " 'PEPF731103MDFGYXC1',\n",
       " 'LISO841002HHGDWMS2',\n",
       " 'XAPD790809HBSSCLL0',\n",
       " 'VIJE870907HJCCQJX3',\n",
       " 'GARE100511HMCLRHX4',\n",
       " 'MOIX870405HZSWKL88',\n",
       " 'FAHX670123HCMKWM97',\n",
       " 'VIQN521022MBCTYDCZ',\n",
       " 'KEMA761125HJCBGNT0',\n",
       " 'OAQS881008HZSRVT37',\n",
       " 'TEBG520229MTCXWQE5',\n",
       " 'HUVY850207HGRNBN20',\n",
       " 'IADO630226HQTPSBG1',\n",
       " 'HOWQ020128HDFYMYJ7',\n",
       " 'BUFV860530HNLJCXV5',\n",
       " 'NUER521202MGRDYH95',\n",
       " 'KAAF430430MNTKDL54',\n",
       " 'GIBR130528MOCTZG5N',\n",
       " 'JUHU990726MDFXHMG1',\n",
       " 'PUKJ600723MGRDCB4U',\n",
       " 'SAFB841002MQRBKH0Q',\n",
       " 'KAOD410410HBSPSL97',\n",
       " 'PAZG401113HOCKTYQ4',\n",
       " 'FUMS911026MTSRQBM7',\n",
       " 'PUUO001102MOCDRM90',\n",
       " 'RIHX880610HTLNRX41',\n",
       " 'OOCN950128MCCVCF2U',\n",
       " 'TOFK000112HVZDFG30',\n",
       " 'IUWF510308HASNRMR8',\n",
       " 'OESH110523MTCJQT38',\n",
       " 'LAWP891227MSPLXM91',\n",
       " 'MOJO750328MVZNDB76',\n",
       " 'BAWW881125MPLYPKXR',\n",
       " 'QAOY760428HCCZYLY6',\n",
       " 'DAGZ970404HMSHXMV4',\n",
       " 'EEZH580502HASTGYX7',\n",
       " 'PIWN140316MSRDPZT3',\n",
       " 'ZOYY890530MPLKCF7G',\n",
       " 'MOSI130511HTLRKNMZ',\n",
       " 'BIBZ600803HBCSSVT8',\n",
       " 'HOIT840202HZSKZWQ6',\n",
       " 'WEQL440522HDFKSG50',\n",
       " 'RANI870307HCCLHPGT',\n",
       " 'RUZN910701MBSVQKR8',\n",
       " 'AAJY601129HSPVBP68',\n",
       " 'HOBQ980622MVZWRPS2',\n",
       " 'JUVL761027HCHRMHY5',\n",
       " 'WEUI571025HSPCNBC9',\n",
       " 'SAKW540612MJCLRTT3',\n",
       " 'LEOF510418HCMWMC07',\n",
       " 'XILY681124MCMTWD8H',\n",
       " 'DADF720529HVZXBJ61',\n",
       " 'UOGT450108HNTQTMV0',\n",
       " 'COWM640318HNLCMZBB',\n",
       " 'WAQA771112HSRCWC72',\n",
       " 'SIXC890408MHGLQQN6',\n",
       " 'XENV150416MYNJWZJ4',\n",
       " 'BEPU690820HYNYDNA8',\n",
       " 'CUIO630811HQTCXPW8',\n",
       " 'DOZC971103HPLMBR70',\n",
       " 'LAYQ881008HASTKV4Z',\n",
       " 'LESV050120MCHGCZ86',\n",
       " 'HUOE550917HSRDCYX2',\n",
       " 'GEMW501022HNLQYD9D',\n",
       " 'PUHY821122HGTLQPY6',\n",
       " 'YATZ620502HVZSBJLH',\n",
       " 'WIAP821203HYNPXVM3',\n",
       " 'SUTX990327HCCCHVR4',\n",
       " 'MAJC000421MCCXTS36',\n",
       " 'XOLS670823HJCHKBU9',\n",
       " 'TECA681123HGRJCBSC',\n",
       " 'NUMK891223MGTLDG33',\n",
       " 'TERV510904HCLYWLC0',\n",
       " 'GOEL860918HPLJNB99',\n",
       " 'PODU770821MTCGNQA6',\n",
       " 'PICV591015HGTMRG86',\n",
       " 'SUWJ510124HCCLCP19',\n",
       " 'DEPB490810MTLGSKBK',\n",
       " 'EEUT540125MDFRDNZI',\n",
       " 'JIPB910213HBCMXW29',\n",
       " 'CUOH560317MNLVZZO9',\n",
       " 'LUCV480108HQRGGT79',\n",
       " 'CAKG830114HVZPWFR4',\n",
       " 'EIFD860220HCHCDPF5',\n",
       " 'WEXR831012HDGVWPU3',\n",
       " 'FOEC920826HCCGWPC1',\n",
       " 'GAVQ440919MASTQKJ1',\n",
       " 'VESF920324HSPJVWJ5',\n",
       " 'LING870130HVZJWK32',\n",
       " 'BIDX801130HNLWQG63',\n",
       " 'JOSN771209MNLWJKU3',\n",
       " 'MOPX120317MSRRNCK6',\n",
       " 'QIIJ060313HPLLCZM2',\n",
       " 'SUNF421227HCCTFR61',\n",
       " 'JASB420326HGRHCJ06',\n",
       " 'IUNO621110HCSPLR8V',\n",
       " 'MOSQ450109MBCTPV53',\n",
       " 'KOFD731019HZSDVY33',\n",
       " 'HAKW870329HPLHMJS3',\n",
       " 'SAMY620126HBSQKT80',\n",
       " 'KOCZ431229MCLFLMF7',\n",
       " 'RIVX530904HMCKBBR3',\n",
       " 'VUAV411109MBSKMZKZ',\n",
       " 'MISM580120HTLVYNJC',\n",
       " 'YISZ030904MMCXWC5S',\n",
       " 'OAEG790920MCSFMR42',\n",
       " 'XUON811106MGTSVX28',\n",
       " 'MIFP530213HQRPDRA0',\n",
       " 'FETJ070608MCMBTVJ8',\n",
       " 'FUAW770622HCHDXTQ0',\n",
       " 'FUVS850311HTLJRMD1',\n",
       " 'OECJ930425HTCDRLDS',\n",
       " 'TIMI730414MMSRLFR1',\n",
       " 'MUOK700919MQRJVBPD',\n",
       " 'EUKM800618HTLBXL59',\n",
       " 'IUDI061004HCHMVML5',\n",
       " 'MIAC671203MGTQVXK9',\n",
       " 'HOAT870122MCHXQV0W',\n",
       " 'DAUV020829HQRLLZ04',\n",
       " 'QUPP450819HHGPKY22',\n",
       " 'DIWX960626MQRQHD40',\n",
       " 'EEZO821208HCHKKQ20',\n",
       " 'BETH921230HMSBMHQ9',\n",
       " 'MOFH691023HZSRWX92',\n",
       " 'VENG910516HNLBSSXZ',\n",
       " 'WIXC570507HTSRMM78',\n",
       " 'WELJ490916HMCKKYX6',\n",
       " 'FARJ550302HGRFSMRR',\n",
       " ...]"
      ]
     },
     "execution_count": 30,
     "metadata": {},
     "output_type": "execute_result"
    }
   ],
   "source": [
    "id = open('MuchasCURPs.csv','r')\n",
    "contenido = id.read()\n",
    "lstCURP=contenido.split('\\n')\n",
    "id.close()\n",
    "listaCURP\n",
    "\n",
    "lstCURP"
   ]
  },
  {
   "cell_type": "code",
   "execution_count": 33,
   "metadata": {},
   "outputs": [],
   "source": [
    "\n",
    "def porSexoDicc(lstCURP):\n",
    "    \n",
    "    lstSexo= [curp[10] for curp in lstCURP]\n",
    "    \n",
    "    dicc={}\n",
    "    \n",
    "    porM=lstSexo.count('M')/len(lstCURP)\n",
    "    porH= 1-porM\n",
    "    \n",
    "    dicc['M']= porM\n",
    "    dicc['H']=porH\n",
    "    \n",
    "    return dicc\n"
   ]
  },
  {
   "cell_type": "code",
   "execution_count": 34,
   "metadata": {},
   "outputs": [
    {
     "ename": "IndexError",
     "evalue": "string index out of range",
     "output_type": "error",
     "traceback": [
      "\u001b[1;31m---------------------------------------------------------------------------\u001b[0m",
      "\u001b[1;31mIndexError\u001b[0m                                Traceback (most recent call last)",
      "\u001b[1;32m<ipython-input-34-2e183c6e5fef>\u001b[0m in \u001b[0;36m<module>\u001b[1;34m()\u001b[0m\n\u001b[1;32m----> 1\u001b[1;33m \u001b[0mporSexoDicc\u001b[0m\u001b[1;33m(\u001b[0m\u001b[0mlstCURP\u001b[0m\u001b[1;33m)\u001b[0m\u001b[1;33m\u001b[0m\u001b[0m\n\u001b[0m",
      "\u001b[1;32m<ipython-input-33-fdf9410a4210>\u001b[0m in \u001b[0;36mporSexoDicc\u001b[1;34m(lstCURP)\u001b[0m\n\u001b[0;32m      2\u001b[0m \u001b[1;32mdef\u001b[0m \u001b[0mporSexoDicc\u001b[0m\u001b[1;33m(\u001b[0m\u001b[0mlstCURP\u001b[0m\u001b[1;33m)\u001b[0m\u001b[1;33m:\u001b[0m\u001b[1;33m\u001b[0m\u001b[0m\n\u001b[0;32m      3\u001b[0m \u001b[1;33m\u001b[0m\u001b[0m\n\u001b[1;32m----> 4\u001b[1;33m     \u001b[0mlstSexo\u001b[0m\u001b[1;33m=\u001b[0m \u001b[1;33m[\u001b[0m\u001b[0mcurp\u001b[0m\u001b[1;33m[\u001b[0m\u001b[1;36m10\u001b[0m\u001b[1;33m]\u001b[0m \u001b[1;32mfor\u001b[0m \u001b[0mcurp\u001b[0m \u001b[1;32min\u001b[0m \u001b[0mlstCURP\u001b[0m\u001b[1;33m]\u001b[0m\u001b[1;33m\u001b[0m\u001b[0m\n\u001b[0m\u001b[0;32m      5\u001b[0m \u001b[1;33m\u001b[0m\u001b[0m\n\u001b[0;32m      6\u001b[0m     \u001b[0mdicc\u001b[0m\u001b[1;33m=\u001b[0m\u001b[1;33m{\u001b[0m\u001b[1;33m}\u001b[0m\u001b[1;33m\u001b[0m\u001b[0m\n",
      "\u001b[1;32m<ipython-input-33-fdf9410a4210>\u001b[0m in \u001b[0;36m<listcomp>\u001b[1;34m(.0)\u001b[0m\n\u001b[0;32m      2\u001b[0m \u001b[1;32mdef\u001b[0m \u001b[0mporSexoDicc\u001b[0m\u001b[1;33m(\u001b[0m\u001b[0mlstCURP\u001b[0m\u001b[1;33m)\u001b[0m\u001b[1;33m:\u001b[0m\u001b[1;33m\u001b[0m\u001b[0m\n\u001b[0;32m      3\u001b[0m \u001b[1;33m\u001b[0m\u001b[0m\n\u001b[1;32m----> 4\u001b[1;33m     \u001b[0mlstSexo\u001b[0m\u001b[1;33m=\u001b[0m \u001b[1;33m[\u001b[0m\u001b[0mcurp\u001b[0m\u001b[1;33m[\u001b[0m\u001b[1;36m10\u001b[0m\u001b[1;33m]\u001b[0m \u001b[1;32mfor\u001b[0m \u001b[0mcurp\u001b[0m \u001b[1;32min\u001b[0m \u001b[0mlstCURP\u001b[0m\u001b[1;33m]\u001b[0m\u001b[1;33m\u001b[0m\u001b[0m\n\u001b[0m\u001b[0;32m      5\u001b[0m \u001b[1;33m\u001b[0m\u001b[0m\n\u001b[0;32m      6\u001b[0m     \u001b[0mdicc\u001b[0m\u001b[1;33m=\u001b[0m\u001b[1;33m{\u001b[0m\u001b[1;33m}\u001b[0m\u001b[1;33m\u001b[0m\u001b[0m\n",
      "\u001b[1;31mIndexError\u001b[0m: string index out of range"
     ]
    }
   ],
   "source": [
    "porSexoDicc(lstCURP)"
   ]
  },
  {
   "cell_type": "code",
   "execution_count": null,
   "metadata": {},
   "outputs": [],
   "source": []
  }
 ],
 "metadata": {
  "kernelspec": {
   "display_name": "Python 3",
   "language": "python",
   "name": "python3"
  },
  "language_info": {
   "codemirror_mode": {
    "name": "ipython",
    "version": 3
   },
   "file_extension": ".py",
   "mimetype": "text/x-python",
   "name": "python",
   "nbconvert_exporter": "python",
   "pygments_lexer": "ipython3",
   "version": "3.7.3"
  }
 },
 "nbformat": 4,
 "nbformat_minor": 2
}
