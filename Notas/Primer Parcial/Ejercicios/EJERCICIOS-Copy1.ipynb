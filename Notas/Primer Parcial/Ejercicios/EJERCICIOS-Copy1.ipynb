{
 "cells": [
  {
   "cell_type": "markdown",
   "metadata": {},
   "source": [
    "# selección de ejercicios B"
   ]
  },
  {
   "cell_type": "markdown",
   "metadata": {},
   "source": [
    "### ejercicio 1\n",
    "Para las secuencias numéricas sugeridas a continuación, genere listas de **40 valores** y asígne un nombre o identificador a cada una.  Los valores deben mostrarse en notación entera o decimal, según sea el caso.\n",
    "#### a) 2,4,6,8,...,78,80\n",
    "#### b) 3,5,7,9,11,13,...\n",
    "#### c) 0.25, 0.5, 0.75, 1.0, 1.25, 1.5,...\n",
    "#### d) 1, 4, 9, 16, 25, 36,...\n",
    "#### e) 1, 2, 4, 8, 16, 32,...\n",
    "#### f)  1, -2, 4, -8, 16, -32,...\n",
    "#### g) 0.25, 1.25, 6.25, 31.25, 156.25, 781.25,..."
   ]
  },
  {
   "cell_type": "code",
   "execution_count": 8,
   "metadata": {},
   "outputs": [
    {
     "data": {
      "text/plain": [
       "[2,\n",
       " 4,\n",
       " 6,\n",
       " 8,\n",
       " 10,\n",
       " 12,\n",
       " 14,\n",
       " 16,\n",
       " 18,\n",
       " 20,\n",
       " 22,\n",
       " 24,\n",
       " 26,\n",
       " 28,\n",
       " 30,\n",
       " 32,\n",
       " 34,\n",
       " 36,\n",
       " 38,\n",
       " 40,\n",
       " 42,\n",
       " 44,\n",
       " 46,\n",
       " 48,\n",
       " 50,\n",
       " 52,\n",
       " 54,\n",
       " 56,\n",
       " 58,\n",
       " 60,\n",
       " 62,\n",
       " 64,\n",
       " 66,\n",
       " 68,\n",
       " 70,\n",
       " 72,\n",
       " 74,\n",
       " 76,\n",
       " 78,\n",
       " 80]"
      ]
     },
     "execution_count": 8,
     "metadata": {},
     "output_type": "execute_result"
    }
   ],
   "source": [
    "# a)\n",
    "\n",
    "lstA= list(range(2,81,2))\n",
    "lstA"
   ]
  },
  {
   "cell_type": "code",
   "execution_count": 10,
   "metadata": {},
   "outputs": [
    {
     "data": {
      "text/plain": [
       "[3, 5, 7, 9, 11, 13, 15, 17, 19]"
      ]
     },
     "execution_count": 10,
     "metadata": {},
     "output_type": "execute_result"
    }
   ],
   "source": [
    "#b)\n",
    "\n",
    "lstB = list(range (3,21,2))\n",
    "lstB\n",
    "\n"
   ]
  },
  {
   "cell_type": "code",
   "execution_count": null,
   "metadata": {
    "collapsed": true
   },
   "outputs": [],
   "source": [
    "# c)\n",
    "\n"
   ]
  },
  {
   "cell_type": "code",
   "execution_count": 8,
   "metadata": {},
   "outputs": [
    {
     "data": {
      "text/plain": [
       "[1, 4, 9, 16, 25]"
      ]
     },
     "execution_count": 8,
     "metadata": {},
     "output_type": "execute_result"
    }
   ],
   "source": [
    "# d)\n",
    "\n",
    "[x**2 for x in list(range(1,6))]"
   ]
  },
  {
   "cell_type": "code",
   "execution_count": 10,
   "metadata": {},
   "outputs": [
    {
     "data": {
      "text/plain": [
       "[2, 4, 8, 16, 32]"
      ]
     },
     "execution_count": 10,
     "metadata": {},
     "output_type": "execute_result"
    }
   ],
   "source": [
    "# e)\n",
    "\n",
    "[2**n for n in list(range(1,6))]"
   ]
  },
  {
   "cell_type": "code",
   "execution_count": 12,
   "metadata": {},
   "outputs": [
    {
     "data": {
      "text/plain": [
       "[1, -2, 4, -8, 16, -32]"
      ]
     },
     "execution_count": 12,
     "metadata": {},
     "output_type": "execute_result"
    }
   ],
   "source": [
    "# f)\n",
    "\n",
    "[(-2)**n for n in list(range(0,6))]"
   ]
  },
  {
   "cell_type": "code",
   "execution_count": 14,
   "metadata": {},
   "outputs": [
    {
     "data": {
      "text/plain": [
       "[0.25, 1.25, 6.25, 31.25, 156.25]"
      ]
     },
     "execution_count": 14,
     "metadata": {},
     "output_type": "execute_result"
    }
   ],
   "source": [
    "# g) \n",
    "\n",
    "# convertir decimales a fracciones\n",
    "\n",
    "[5**n/4 for n in list(range(0,5))]"
   ]
  },
  {
   "cell_type": "markdown",
   "metadata": {},
   "source": [
    "### ejercicio 2\n",
    "Calcula el promedio aritmético de la siguiente lista de *n* números, a partir de la suma de los valores y la división entre la cantidad de ellos:\n",
    "12.5, 14.3, 56.7, 28.1, 18.0, 25.6, 33.0, 11.0, 2.5, 39.7, 3.0, 28.1, 14.2, 11.3  \n",
    "$$\\frac{1}{n}\\sum_{i=1}^{n} valor_i$$"
   ]
  },
  {
   "cell_type": "code",
   "execution_count": 1,
   "metadata": {},
   "outputs": [
    {
     "name": "stdout",
     "output_type": "stream",
     "text": [
      "[12.5, 14.3, 56.7, 28.1, 18.0, 25.6, 33.0, 11.0, 2.5, 39.7, 3.0, 28.1, 14.2, 11.3]\n"
     ]
    }
   ],
   "source": [
    "list4= [12.5, 14.3, 56.7, 28.1, 18.0, 25.6, 33.0, 11.0, 2.5, 39.7, 3.0, 28.1, 14.2, 11.3]\n",
    "\n",
    "print(list4)"
   ]
  },
  {
   "cell_type": "code",
   "execution_count": 4,
   "metadata": {},
   "outputs": [
    {
     "name": "stdout",
     "output_type": "stream",
     "text": [
      "Using matplotlib backend: Qt5Agg\n",
      "Populating the interactive namespace from numpy and matplotlib\n"
     ]
    },
    {
     "data": {
      "text/plain": [
       "21.285714285714285"
      ]
     },
     "execution_count": 4,
     "metadata": {},
     "output_type": "execute_result"
    }
   ],
   "source": [
    "%pylab\n",
    "\n",
    "mean(list4)"
   ]
  },
  {
   "cell_type": "code",
   "execution_count": null,
   "metadata": {
    "collapsed": true
   },
   "outputs": [],
   "source": []
  },
  {
   "cell_type": "code",
   "execution_count": null,
   "metadata": {
    "collapsed": true
   },
   "outputs": [],
   "source": []
  },
  {
   "cell_type": "markdown",
   "metadata": {},
   "source": [
    "### ejercicio 3\n",
    "Los precios en pesos mexicanos del tipo de cambio del dólar americano (USD) para solventar obligaciones y publicados del 4 de enero de 2016 al 17 de enero de 2018 en los días hábiles bancarios se listan en la siguiente celda:  \n",
    "(El tipo de cambio FIX se determina a las 12:00 del día por el Banco de México y publicado en el Diario Oficial de la Federación el día hábil bancario inmediato siguiente al de su determinación:   http://www.banxico.org.mx/dyn/portal-mercado-cambiario/index.html)\n",
    "  \n",
    "a) A partir de los *n* valores listados, calcule el valor promedio del tipo de cambio (calculando la suma y dividiendo entre la cantidad de valores) y llámelo *media*:  \n",
    "$$media=\\frac{1}{n}\\sum_{i=1}^{n} tc_i$$\n",
    "b) Para conocer la dispersión de los valores, calcule la desviación estándar:\n",
    "* i) Primero, calculando la lista de los cuadrados de las diferencias del valor del tipo de cambio y su *media*;  \n",
    "\n",
    "* ii) Segundo, calculando la raíz cuadrada del promedio de los cuadrados calculados en i): \n",
    "\n",
    "$$\\sqrt{\\frac{1}{n}\\sum_{i=1}^{n} (tc_i-media)^{2}}$$"
   ]
  },
  {
   "cell_type": "code",
   "execution_count": 1,
   "metadata": {},
   "outputs": [
    {
     "name": "stdout",
     "output_type": "stream",
     "text": [
      "[17.2487, 17.3529, 17.3456, 17.4411, 17.6568, 17.9283, 17.9304, 17.9119, 17.85, 17.9121, 18.2108, 18.2327, 18.1947, 18.608, 18.5084, 18.428, 18.5352, 18.4715, 18.453, 18.2906, 18.1935, 18.4902, 18.4537, 18.1891, 18.3748, 18.6959, 18.7818, 18.8089, 19.1754, 19.0392, 18.8471, 18.8148, 18.3895, 18.1439, 18.2762, 18.0568, 18.1948, 18.2893, 18.168, 18.1706, 18.102, 17.9432, 17.8561, 17.8971, 17.7723, 17.7526, 17.9044, 17.7523, 17.8601, 17.7002, 17.7691, 17.926, 17.9308, 17.4034, 17.2995, 17.3361, 17.5273, 17.461, 17.4015, 17.2509, 17.237, 17.3338, 17.4484, 17.7252, 17.7286, 17.893, 17.7391, 17.6452, 17.5719, 17.49, 17.388, 17.5669, 17.4598, 17.2825, 17.3078, 17.4202, 17.4359, 17.5866, 17.4298, 17.3993, 17.2125, 17.1767, 17.2279, 17.5234, 17.7358, 17.7866, 17.9204, 18.1033, 18.0205, 17.9549, 17.9915, 18.1562, 18.1795, 18.3217, 18.3761, 18.5465, 18.3826, 18.4444, 18.4694, 18.452, 18.4572, 18.4527, 18.4777, 18.4118, 18.5299, 18.6097, 18.6283, 18.5889, 18.5067, 18.1491, 18.2742, 18.5046, 18.7915, 18.9814, 18.8672, 18.9968, 18.8527, 18.6559, 18.6444, 18.5325, 18.3207, 18.8716, 19.1283, 18.9113, 18.555, 18.4646, 18.309, 18.3858, 18.7536, 18.8161, 18.8607, 18.5991, 18.4597, 18.3006, 18.3937, 18.3061, 18.492, 18.4879, 18.5719, 18.5729, 18.6022, 18.6089, 18.7569, 18.8114, 18.8602, 18.8979, 18.7837, 18.8504, 18.8966, 18.9117, 18.8612, 18.8691, 18.5716, 18.3842, 18.3479, 18.2678, 18.2455, 18.0363, 17.9869, 18.2598, 18.0832, 18.2674, 18.3023, 18.3202, 18.4971, 18.446, 18.283, 18.5773, 18.7953, 18.8611, 18.8523, 18.6589, 18.5581, 18.3524, 18.3689, 18.5427, 18.8451, 19.0646, 19.152, 19.2275, 19.2514, 19.6097, 19.777, 19.8394, 19.5965, 19.7211, 19.8322, 19.5044, 19.5002, 19.4086, 19.3776, 19.3211, 19.2138, 19.2554, 19.2433, 19.2994, 18.8786, 18.9531, 18.9622, 19.0399, 19.0046, 18.8723, 18.6726, 18.5894, 18.5945, 18.6481, 18.5658, 18.5147, 18.6485, 18.8443, 18.7304, 18.8887, 19.1306, 19.2014, 19.0792, 18.6192, 18.5089, 19.925, 20.4812, 21.0511, 20.8729, 20.349, 20.2884, 20.1898, 20.4193, 20.5205, 20.6901, 20.7051, 20.6475, 20.5521, 20.6225, 20.5155, 20.7488, 20.6149, 20.5927, 20.3863, 20.2967, 20.4162, 20.3305, 20.2567, 20.2226, 20.5973, 20.428, 20.4098, 20.43, 20.4921, 20.7179, 20.6271, 20.6445, 20.7052, 20.7314, 20.664, 20.6194, 20.7323, 20.852, 21.3799, 21.3661, 21.3144, 21.3219, 21.6168, 21.9076, 21.7204]\n"
     ]
    }
   ],
   "source": [
    "tipoUSD=[17.2487,17.3529,17.3456,17.4411,17.6568,17.9283,17.9304,17.9119,17.85,17.9121,18.2108,18.2327,18.1947,18.608,18.5084,18.428,18.5352,18.4715,18.453,18.2906,18.1935,18.4902,18.4537,18.1891,18.3748,18.6959,18.7818,18.8089,19.1754,19.0392,18.8471,18.8148,18.3895,18.1439,18.2762,18.0568,18.1948,18.2893,18.168,18.1706,18.102,17.9432,17.8561,17.8971,17.7723,17.7526,17.9044,17.7523,17.8601,17.7002,17.7691,17.926,17.9308,17.4034,17.2995,17.3361,17.5273,17.461,17.4015,17.2509,17.237,17.3338,17.4484,17.7252,17.7286,17.893,17.7391,17.6452,17.5719,17.49,17.388,17.5669,17.4598,17.2825,17.3078,17.4202,17.4359,17.5866,17.4298,17.3993,17.2125,17.1767,17.2279,17.5234,17.7358,17.7866,17.9204,18.1033,18.0205,17.9549,17.9915,18.1562,18.1795,18.3217,18.3761,18.5465,18.3826,18.4444,18.4694,18.452,18.4572,18.4527,18.4777,18.4118,18.5299,18.6097,18.6283,18.5889,18.5067,18.1491,18.2742,18.5046,18.7915,18.9814,18.8672,18.9968,18.8527,18.6559,18.6444,18.5325,18.3207,18.8716,19.1283,18.9113,18.555,18.4646,18.309,18.3858,18.7536,18.8161,18.8607,18.5991,18.4597,18.3006,18.3937,18.3061,18.492,18.4879,18.5719,18.5729,18.6022,18.6089,18.7569,18.8114,18.8602,18.8979,18.7837,18.8504,18.8966,18.9117,18.8612,18.8691,18.5716,18.3842,18.3479,18.2678,18.2455,18.0363,17.9869,18.2598,18.0832,18.2674,18.3023,18.3202,18.4971,18.446,18.283,18.5773,18.7953,18.8611,18.8523,18.6589,18.5581,18.3524,18.3689,18.5427,18.8451,19.0646,19.152,19.2275,19.2514,19.6097,19.777,19.8394,19.5965,19.7211,19.8322,19.5044,19.5002,19.4086,19.3776,19.3211,19.2138,19.2554,19.2433,19.2994,18.8786,18.9531,18.9622,19.0399,19.0046,18.8723,18.6726,18.5894,18.5945,18.6481,18.5658,18.5147,18.6485,18.8443,18.7304,18.8887,19.1306,19.2014,19.0792,18.6192,18.5089,19.925,20.4812,21.0511,20.8729,20.349,20.2884,20.1898,20.4193,20.5205,20.6901,20.7051,20.6475,20.5521,20.6225,20.5155,20.7488,20.6149,20.5927,20.3863,20.2967,20.4162,20.3305,20.2567,20.2226,20.5973,20.428,20.4098,20.43,20.4921,20.7179,20.6271,20.6445,20.7052,20.7314,20.664,20.6194,20.7323,20.852,21.3799,21.3661,21.3144,21.3219,21.6168,21.9076,21.7204]\n",
    "print(tipoUSD)"
   ]
  },
  {
   "cell_type": "code",
   "execution_count": 5,
   "metadata": {},
   "outputs": [
    {
     "name": "stdout",
     "output_type": "stream",
     "text": [
      "[17.2487, 17.3529, 17.3456, 17.4411, 17.6568, 17.9283, 17.9304, 17.9119, 17.85, 17.9121, 18.2108, 18.2327, 18.1947, 18.608, 18.5084, 18.428, 18.5352, 18.4715, 18.453, 18.2906, 18.1935, 18.4902, 18.4537, 18.1891, 18.3748, 18.6959, 18.7818, 18.8089, 19.1754, 19.0392, 18.8471, 18.8148, 18.3895, 18.1439, 18.2762, 18.0568, 18.1948, 18.2893, 18.168, 18.1706, 18.102, 17.9432, 17.8561, 17.8971, 17.7723, 17.7526, 17.9044, 17.7523, 17.8601, 17.7002, 17.7691, 17.926, 17.9308, 17.4034, 17.2995, 17.3361, 17.5273, 17.461, 17.4015, 17.2509, 17.237, 17.3338, 17.4484, 17.7252, 17.7286, 17.893, 17.7391, 17.6452, 17.5719, 17.49, 17.388, 17.5669, 17.4598, 17.2825, 17.3078, 17.4202, 17.4359, 17.5866, 17.4298, 17.3993, 17.2125, 17.1767, 17.2279, 17.5234, 17.7358, 17.7866, 17.9204, 18.1033, 18.0205, 17.9549, 17.9915, 18.1562, 18.1795, 18.3217, 18.3761, 18.5465, 18.3826, 18.4444, 18.4694, 18.452, 18.4572, 18.4527, 18.4777, 18.4118, 18.5299, 18.6097, 18.6283, 18.5889, 18.5067, 18.1491, 18.2742, 18.5046, 18.7915, 18.9814, 18.8672, 18.9968, 18.8527, 18.6559, 18.6444, 18.5325, 18.3207, 18.8716, 19.1283, 18.9113, 18.555, 18.4646, 18.309, 18.3858, 18.7536, 18.8161, 18.8607, 18.5991, 18.4597, 18.3006, 18.3937, 18.3061, 18.492, 18.4879, 18.5719, 18.5729, 18.6022, 18.6089, 18.7569, 18.8114, 18.8602, 18.8979, 18.7837, 18.8504, 18.8966, 18.9117, 18.8612, 18.8691, 18.5716, 18.3842, 18.3479, 18.2678, 18.2455, 18.0363, 17.9869, 18.2598, 18.0832, 18.2674, 18.3023, 18.3202, 18.4971, 18.446, 18.283, 18.5773, 18.7953, 18.8611, 18.8523, 18.6589, 18.5581, 18.3524, 18.3689, 18.5427, 18.8451, 19.0646, 19.152, 19.2275, 19.2514, 19.6097, 19.777, 19.8394, 19.5965, 19.7211, 19.8322, 19.5044, 19.5002, 19.4086, 19.3776, 19.3211, 19.2138, 19.2554, 19.2433, 19.2994, 18.8786, 18.9531, 18.9622, 19.0399, 19.0046, 18.8723, 18.6726, 18.5894, 18.5945, 18.6481, 18.5658, 18.5147, 18.6485, 18.8443, 18.7304, 18.8887, 19.1306, 19.2014, 19.0792, 18.6192, 18.5089, 19.925, 20.4812, 21.0511, 20.8729, 20.349, 20.2884, 20.1898, 20.4193, 20.5205, 20.6901, 20.7051, 20.6475, 20.5521, 20.6225, 20.5155, 20.7488, 20.6149, 20.5927, 20.3863, 20.2967, 20.4162, 20.3305, 20.2567, 20.2226, 20.5973, 20.428, 20.4098, 20.43, 20.4921, 20.7179, 20.6271, 20.6445, 20.7052, 20.7314, 20.664, 20.6194, 20.7323, 20.852, 21.3799, 21.3661, 21.3144, 21.3219, 21.6168, 21.9076, 21.7204]\n"
     ]
    }
   ],
   "source": [
    "#a)\n",
    "\n",
    "list3= [17.2487, 17.3529, 17.3456, 17.4411, 17.6568, 17.9283, 17.9304, 17.9119, 17.85, 17.9121, 18.2108, 18.2327, 18.1947, 18.608, 18.5084, 18.428, 18.5352, 18.4715, 18.453, 18.2906, 18.1935, 18.4902, 18.4537, 18.1891, 18.3748, 18.6959, 18.7818, 18.8089, 19.1754, 19.0392, 18.8471, 18.8148, 18.3895, 18.1439, 18.2762, 18.0568, 18.1948, 18.2893, 18.168, 18.1706, 18.102, 17.9432, 17.8561, 17.8971, 17.7723, 17.7526, 17.9044, 17.7523, 17.8601, 17.7002, 17.7691, 17.926, 17.9308, 17.4034, 17.2995, 17.3361, 17.5273, 17.461, 17.4015, 17.2509, 17.237, 17.3338, 17.4484, 17.7252, 17.7286, 17.893, 17.7391, 17.6452, 17.5719, 17.49, 17.388, 17.5669, 17.4598, 17.2825, 17.3078, 17.4202, 17.4359, 17.5866, 17.4298, 17.3993, 17.2125, 17.1767, 17.2279, 17.5234, 17.7358, 17.7866, 17.9204, 18.1033, 18.0205, 17.9549, 17.9915, 18.1562, 18.1795, 18.3217, 18.3761, 18.5465, 18.3826, 18.4444, 18.4694, 18.452, 18.4572, 18.4527, 18.4777, 18.4118, 18.5299, 18.6097, 18.6283, 18.5889, 18.5067, 18.1491, 18.2742, 18.5046, 18.7915, 18.9814, 18.8672, 18.9968, 18.8527, 18.6559, 18.6444, 18.5325, 18.3207, 18.8716, 19.1283, 18.9113, 18.555, 18.4646, 18.309, 18.3858, 18.7536, 18.8161, 18.8607, 18.5991, 18.4597, 18.3006, 18.3937, 18.3061, 18.492, 18.4879, 18.5719, 18.5729, 18.6022, 18.6089, 18.7569, 18.8114, 18.8602, 18.8979, 18.7837, 18.8504, 18.8966, 18.9117, 18.8612, 18.8691, 18.5716, 18.3842, 18.3479, 18.2678, 18.2455, 18.0363, 17.9869, 18.2598, 18.0832, 18.2674, 18.3023, 18.3202, 18.4971, 18.446, 18.283, 18.5773, 18.7953, 18.8611, 18.8523, 18.6589, 18.5581, 18.3524, 18.3689, 18.5427, 18.8451, 19.0646, 19.152, 19.2275, 19.2514, 19.6097, 19.777, 19.8394, 19.5965, 19.7211, 19.8322, 19.5044, 19.5002, 19.4086, 19.3776, 19.3211, 19.2138, 19.2554, 19.2433, 19.2994, 18.8786, 18.9531, 18.9622, 19.0399, 19.0046, 18.8723, 18.6726, 18.5894, 18.5945, 18.6481, 18.5658, 18.5147, 18.6485, 18.8443, 18.7304, 18.8887, 19.1306, 19.2014, 19.0792, 18.6192, 18.5089, 19.925, 20.4812, 21.0511, 20.8729, 20.349, 20.2884, 20.1898, 20.4193, 20.5205, 20.6901, 20.7051, 20.6475, 20.5521, 20.6225, 20.5155, 20.7488, 20.6149, 20.5927, 20.3863, 20.2967, 20.4162, 20.3305, 20.2567, 20.2226, 20.5973, 20.428, 20.4098, 20.43, 20.4921, 20.7179, 20.6271, 20.6445, 20.7052, 20.7314, 20.664, 20.6194, 20.7323, 20.852, 21.3799, 21.3661, 21.3144, 21.3219, 21.6168, 21.9076, 21.7204]\n",
    "\n",
    "print(list3)"
   ]
  },
  {
   "cell_type": "code",
   "execution_count": 6,
   "metadata": {},
   "outputs": [
    {
     "name": "stdout",
     "output_type": "stream",
     "text": [
      "Using matplotlib backend: Qt5Agg\n",
      "Populating the interactive namespace from numpy and matplotlib\n"
     ]
    },
    {
     "data": {
      "text/plain": [
       "18.774778625954198"
      ]
     },
     "execution_count": 6,
     "metadata": {},
     "output_type": "execute_result"
    }
   ],
   "source": [
    "%pylab\n",
    "\n",
    "mean(list3)"
   ]
  },
  {
   "cell_type": "code",
   "execution_count": 10,
   "metadata": {},
   "outputs": [],
   "source": [
    "#b\n",
    "\n",
    "def desviacionA(lst):\n",
    "    media=mean(lst)\n",
    "    lstTempo=[(x-media)**2 for x in lst]\n",
    "    sumaTempo= sum(lstTempo)/ len(lst)\n",
    "    resultado=sqrt(sumaTempo)\n",
    "    return resultado\n",
    "    \n",
    "    \n",
    "    "
   ]
  },
  {
   "cell_type": "code",
   "execution_count": 11,
   "metadata": {},
   "outputs": [
    {
     "data": {
      "text/plain": [
       "1.0386061094252799"
      ]
     },
     "execution_count": 11,
     "metadata": {},
     "output_type": "execute_result"
    }
   ],
   "source": [
    "desviacionA(list3)"
   ]
  },
  {
   "cell_type": "code",
   "execution_count": null,
   "metadata": {},
   "outputs": [],
   "source": []
  },
  {
   "cell_type": "code",
   "execution_count": null,
   "metadata": {},
   "outputs": [],
   "source": []
  },
  {
   "cell_type": "code",
   "execution_count": null,
   "metadata": {},
   "outputs": [],
   "source": []
  },
  {
   "cell_type": "markdown",
   "metadata": {},
   "source": [
    "### ejercicio 4\n",
    "Se dice que en el siglo VI a.c., el inventor del juego de ajedrez ofreció a su monarca este juego y como recompensa le pidió los granos de trigo que resultaran de la siguiente prescripción: un grano por la primera casilla del tablero, dos granos por la segunda casilla, cuatro granos por la tercera casilla, ocho granos por la cuarta, dieciséis granos por la quinta, y así sucesivamente hasta terminar con la casilla número 64 (el tablero del juego de ajedrez tiene 64 casillas). Observando que el número de granos pedidos por una casilla, a partir de la segunda, es igual al doble de los granos pedidos por la casilla anterior. El monarca, un poco molesto por lo que le pareció una cantidad insignificante de granos que el inventor solicitaba, pidió a sus calculistas determinaran la cantidad total de granos de trigo, se trajera ésta de los graneros del reino y de inmediato se le entregara al inventor.  \n",
    "\n",
    "a) Calcule la cantidad total de granos de trigo que el inventor del ajedrez de la historia\n",
    "solicitó a su monarca. (Después de algunas semanas los calculistas reconocieron que lo que\n",
    "pedía el inventor rebasaba los recursos del reino.) \n",
    "\n",
    "b) Si la producción mundial anual en granos de trigo es:  \n",
    "$$2.377 \\cdot 10^{16}$$\n",
    "determine cuántos años de producción mundial son nevesario para obteher la cantidad obtenida\n",
    "en a).  "
   ]
  },
  {
   "cell_type": "code",
   "execution_count": null,
   "metadata": {
    "collapsed": true
   },
   "outputs": [],
   "source": []
  },
  {
   "cell_type": "code",
   "execution_count": null,
   "metadata": {
    "collapsed": true
   },
   "outputs": [],
   "source": []
  },
  {
   "cell_type": "markdown",
   "metadata": {},
   "source": [
    "### ejercicio 5\n",
    "Un bebé midió al nacer 42 centímetros. Durante los siguientes años de vida la estatura aumentó de la siguiente manera:  \n",
    "* en el primer año, la estatura se incrementó 24 %;\n",
    "* en el segundo año, la estatura se incrementó 20 %;\n",
    "* en el tercer año, la estatura se incrementó 14 %;\n",
    "* en el cuarto año, la estatura se incrementó 13 %;\n",
    "* en el quinto año, la estatura se incrementó 10 %;\n",
    "* en el sexto año, la estatura se incrementó 9 %, y\n",
    "* en el séptimo año, se dio un estirón, pues la estatura se incrementó 12 %.  \n",
    "\n",
    "¿Cuánto mide el nene después de siete años de vida?\n",
    "\n"
   ]
  },
  {
   "cell_type": "code",
   "execution_count": null,
   "metadata": {
    "collapsed": true
   },
   "outputs": [],
   "source": []
  },
  {
   "cell_type": "code",
   "execution_count": null,
   "metadata": {
    "collapsed": true
   },
   "outputs": [],
   "source": []
  },
  {
   "cell_type": "code",
   "execution_count": null,
   "metadata": {},
   "outputs": [],
   "source": []
  },
  {
   "cell_type": "markdown",
   "metadata": {},
   "source": [
    "### ejercicio 6\n",
    "A fines del año pasado Jaime decidió depositar \\$10,000.00 (diez mil pesos)en el banco ABC S.A. a un plazo de dos años. El plan de ahorro comenzó el 1° de enero de 2016 y se fijaron las siguientes condiciones:  \n",
    "A partir del 1° de enero de 2016, la lista de las tasas mensuales de interés aplicables a cada uno de los meses de los años 2016-2017, de enero 2016 a diciembre de 2017, es la siguiente:  \n",
    "(de acuerdo con el orden de los meses)\n",
    "#### [0.001, 0.003,0.005, 0.007,0.009,0.011,0.013,0.015,0.017,0.019,0.021,0.023,0.025, 0.027, 0.029, 0.031, 0.033, 0.035, 0.037, 0.039, 0.041, 0.043, 0.045, 0.047]  \n",
    "  \n",
    "El plan, para la conveniencia de Jaime, estipula que al final de cada mes \n",
    "los intereses ganados se abonarán al capital (capitalización mensual):  \n",
    "#### (capital al final del mes) = (capital al inicio del mes) + (intereses ganados en el mes y calculados sobre el capital al inicio del mes)\n",
    "  \n",
    "Es decir, si se considera sólo los tres primeros meses de 2016, al final cada uno de éstos,  \n",
    "Jaime contará con una cantidad que se incrementaría de la siguiente manera:  \n",
    "  \n",
    "* #### al final de enero: \\$10,000.00 + \\$10,000.00\\*0.1% = \\$10,010.00 (diez mil diez pesos);  \n",
    "* #### al final de febrero: \\$10,010.00 + \\$10,010.00\\*0.3% = \\$10,040.03 (diez mil cuarenta pesos con tres centavos, 3/100)  \n",
    "* #### al final de marzo: \\$10,040.03 + \\$10,040.03\\*0.5% = \\$10,090.23 (diez mil noventa pesos con ventitrés centavos, 23/100)  \n",
    "* #### etc.\n",
    "\n",
    "debiéndose considerar la tasa mensual aplicable a cada uno de los meses siguientes y calculando de manera análoga los intereses y el nuevo capital mes tras mes.\n",
    "\n",
    "- a) Defina una lista con las tasas mensuales aplicables a cada uno de los meses de 2016 y 2017.\n",
    "- b) A partir de la lista definida en a), calcule la cantidad final que tendrá Jaime al terminar el año 2017,  después de 24 meses de tener depositado el dinero en el banco ABC S.A."
   ]
  },
  {
   "cell_type": "code",
   "execution_count": null,
   "metadata": {},
   "outputs": [],
   "source": []
  },
  {
   "cell_type": "code",
   "execution_count": null,
   "metadata": {},
   "outputs": [],
   "source": []
  },
  {
   "cell_type": "code",
   "execution_count": null,
   "metadata": {},
   "outputs": [],
   "source": []
  },
  {
   "cell_type": "markdown",
   "metadata": {},
   "source": [
    "### ejercicio 7\n",
    "Las cantidades dadas en la celda de abajo indican la tasa de inflación mensual^, es decir, una medida de la *tasa de cambio mensual* de los precios para el periodo de diciembre de 2005 a junio e 2018; nótese que las cantidades están ordenadas según los meses sucesivos de este periodo indicado.\n",
    "\n",
    "Por ejemplo, el porcentaje de incremento del precio del terreno durante el mes de diciembre de 2005 fue 0.59 %, lo cual significa un incremento de valor en este mes de 0.0059; es decir, durante ese mes el terreno cambió su valor en un factor de 1.0059.\n",
    "\n",
    " Define una tupla con las tasas dadas:\n",
    " \n",
    "- ¿Cuales son los valores máximo y mínimo de las tasas?\n",
    "\n",
    "- Define una lista con las tasa ordenadas de manera descendente.\n",
    "\n",
    "- Si el terreno estaba valuado en $60,000 (sesenta mil pesos M.N.) al final de noviembre de 2005, incrementándose, o disminuyéndose, el valor en cada uno de los meses siguientes durante varios años, según la tasa de cambio y hasta junio de 2018  ¿Qué valor tenía el terreno al final de junio de 2018 después de varios años?\n",
    "\n",
    "^Fuente: Consulta de los Índices de Precios al Consumidor de Banxico, http://www.banxico.org.mx/"
   ]
  },
  {
   "cell_type": "code",
   "execution_count": 2,
   "metadata": {},
   "outputs": [
    {
     "name": "stdout",
     "output_type": "stream",
     "text": [
      "(0.59, 0.15, 0.13, 0.15, -0.45, 0.09, 0.27, 0.51, 1.01, 0.44, 0.52, 0.58, 0.52, 0.28, 0.22, -0.06, -0.49, 0.12, 0.42, 0.41, 0.78, 0.39, 0.71, 0.41, 0.46, 0.3, 0.72, 0.23, -0.11, 0.41, 0.56, 0.58, 0.68, 0.68, 1.14, 0.69, 0.23, 0.22, 0.58, 0.35, -0.29, 0.18, 0.27, 0.24, 0.5, 0.3, 0.52, 0.41, 1.09, 0.58, 0.71, -0.32, -0.63, -0.03, 0.22, 0.28, 0.52, 0.62, 0.8, 0.5, 0.49, 0.38, 0.19, -0.01, -0.74, 0, 0.48, 0.16, 0.25, 0.67, 1.08, 0.82, 0.71, 0.2, 0.06, -0.31, -0.32, 0.46, 0.56, 0.3, 0.44, 0.51, 0.68, 0.23, 0.4, 0.49, 0.73, 0.07, -0.33, -0.06, -0.03, 0.28, 0.38, 0.48, 0.93, 0.57, 0.89, 0.25, 0.27, -0.19, -0.32, 0.17, 0.28, 0.36, 0.44, 0.55, 0.81, 0.49, -0.09, 0.19, 0.41, -0.26, -0.5, 0.17, 0.15, 0.21, 0.37, 0.51, 0.55, 0.41, 0.38, 0.44, 0.15, -0.32, -0.45, 0.11, 0.26, 0.28, 0.61, 0.61, 0.78, 0.46, 1.7, 0.58, 0.61, 0.12, -0.12, 0.25, 0.38, 0.49, 0.31, 0.63, 1.03, 0.59, 0.53, 0.38, 0.32, -0.34, -0.16, 0.39, 0.54)\n"
     ]
    }
   ],
   "source": [
    "tasas=(0.59,0.15,0.13,0.15,-0.45,0.09,0.27,0.51,1.01,0.44,0.52,0.58,0.52,0.28,0.22,-0.06,-0.49,0.12,0.42,0.41,0.78,0.39,0.71,0.41,0.46,0.3,0.72,0.23,-0.11,0.41,0.56,0.58,0.68,0.68,1.14,0.69,0.23,0.22,0.58,0.35,-0.29,0.18,0.27,0.24,0.5,0.3,0.52,0.41,1.09,0.58,0.71,-0.32,-0.63,-0.03,0.22,0.28,0.52,0.62,0.8,0.5,0.49,0.38,0.19,-0.01,-0.74,0,0.48,0.16,0.25,0.67,1.08,0.82,0.71,0.2,0.06,-0.31,-0.32,0.46,0.56,0.3,0.44,0.51,0.68,0.23,0.4,0.49,0.73,0.07,-0.33,-0.06,-0.03,0.28,0.38,0.48,0.93,0.57,0.89,0.25,0.27,-0.19,-0.32,0.17,0.28,0.36,0.44,0.55,0.81,0.49,-0.09,0.19,0.41,-0.26,-0.5,0.17,0.15,0.21,0.37,0.51,0.55,0.41,0.38,0.44,0.15,-0.32,-0.45,0.11,0.26,0.28,0.61,0.61,0.78,0.46,1.7,0.58,0.61,0.12,-0.12,0.25,0.38,0.49,0.31,0.63,1.03,0.59,0.53,0.38,0.32,-0.34,-0.16,0.39,0.54)\n",
    "print(tasas)"
   ]
  },
  {
   "cell_type": "code",
   "execution_count": null,
   "metadata": {},
   "outputs": [],
   "source": []
  },
  {
   "cell_type": "code",
   "execution_count": null,
   "metadata": {},
   "outputs": [],
   "source": []
  },
  {
   "cell_type": "markdown",
   "metadata": {},
   "source": [
    "### ejercicio 8\n",
    "Genere exactamente 50 elementos de la sucesión sugerida:\n",
    "\n",
    "#### 1, 7, 19, 37, 61, 91, 127, 169, 217, 271,... \n",
    "\n",
    "a partir de las diferencias entre dos enteros consecutivos elevados al cubo*, es decir:\n",
    "- 1 es (1-0),\n",
    "- 7 es (8-1), \n",
    "- 19 es (27-8), \n",
    "- 37 es (64-27), \n",
    "- 61 es (125-64), etc.\n",
    "\n",
    "*Note que de las diferencias entre dos enteros elevados al cuadrado (0,1,4,9,16,25,36,...) resultan los números impares (1,3,5,7,9,11,...), y que esto se puede ilustrar con una construcción geométrica de cuadrados de lado entero e inscritos sucesivamente con un vértice en común. Esta construcción puede extenderse a cubos de lado entero para dar lugar a la sucesión requerida."
   ]
  },
  {
   "cell_type": "code",
   "execution_count": null,
   "metadata": {
    "collapsed": true
   },
   "outputs": [],
   "source": []
  },
  {
   "cell_type": "code",
   "execution_count": null,
   "metadata": {
    "collapsed": true
   },
   "outputs": [],
   "source": []
  },
  {
   "cell_type": "markdown",
   "metadata": {},
   "source": [
    "### ejercicio 9\n",
    "a) Se tienen dos listas, en la primera de ellas se guardan las calificaciones de 5 trabajos de un estudiante, [5,9,7,10,6]; en la segunda se guardan las ponderaciones correspondientes a cada uno de los trabajos de la primera lista (esto es qué porcentaje vale cada trabajo al calcular la calificación final), [0.20,0.10,0.10,0.30,0.30].  \n",
    "Se le pide obtener la calificación final del estudiante según un promedio ponderado: multiplicando cada calificación por el peso correspondiente y sumando los productos obtenidos.\n",
    "\n",
    "b) ¿Cuál es el promedio aritmético de la siguiente lista [5, 5, 9, 7, 10, 10, 10, 6, 6, 6]?  \n",
    "¿coincide con el promedio obtenido en a)? ¿por qué?\n",
    "\n",
    "\n"
   ]
  },
  {
   "cell_type": "code",
   "execution_count": 8,
   "metadata": {},
   "outputs": [
    {
     "name": "stdout",
     "output_type": "stream",
     "text": [
      "[5, 9, 7, 10, 6]\n",
      "[0.2, 0.1, 0.1, 0.3, 0.3]\n"
     ]
    }
   ],
   "source": [
    "lst1=[5,9,7,10,6]\n",
    "\n",
    "print(lst1)\n",
    "\n",
    "lst2=[0.20,0.10,0.10,0.30,0.30]\n",
    "print(lst2)"
   ]
  },
  {
   "cell_type": "code",
   "execution_count": 16,
   "metadata": {},
   "outputs": [],
   "source": [
    " def prom(lista1,lista2):\n",
    "    return lista1*lista2"
   ]
  },
  {
   "cell_type": "code",
   "execution_count": 18,
   "metadata": {},
   "outputs": [
    {
     "data": {
      "text/plain": [
       "7.3999999999999995"
      ]
     },
     "execution_count": 18,
     "metadata": {},
     "output_type": "execute_result"
    }
   ],
   "source": [
    "sum([prom(lst1[i], lst2[i]) for i in range (0,len(lst1))])"
   ]
  },
  {
   "cell_type": "markdown",
   "metadata": {},
   "source": [
    "### ejercicio 10\n",
    "Se tiene una lista de productos que compró Pedro en el mercado:\n",
    "\n",
    "['peras', 'naranjas', 'papaya', 'ciruelas', 'manzanas', 'chicozapotes', 'uvas', 'mandarinas'];\n",
    "\n",
    "los precios correspondientes por kilogramo, según el orden dado en la lista de productos, son:\n",
    "\n",
    "[31.50, 8.50, 15.40, 25.30, 18.80, 32.20, 21.40, 6.50];\n",
    "\n",
    "y la cantidad de kilogramos de cada producto compredo, según el orden dado en las listas dadas:\n",
    "\n",
    "[1, 3, 3.50, 0, 2, 2, 1.5, 0].\n",
    "\n",
    "¿Cuánto debe pagar el cliente en total?\n"
   ]
  },
  {
   "cell_type": "code",
   "execution_count": null,
   "metadata": {
    "collapsed": true
   },
   "outputs": [],
   "source": []
  },
  {
   "cell_type": "code",
   "execution_count": null,
   "metadata": {
    "collapsed": true
   },
   "outputs": [],
   "source": []
  },
  {
   "cell_type": "markdown",
   "metadata": {
    "collapsed": true
   },
   "source": [
    "### ejercicio 11\n",
    "Encuentre el conjunto de símbolos tipográficos (letras, espacios, signos de puntuación, etc.) que aparecen en el texto de Sor Juana Inés de la Cruz que se escribe abajo y calcule la cantidad de estos símbolos que hay en el conjunto. El texto es el siguiente:\n",
    "\n",
    "Si ves el ciervo herido/Que baja por el monte, acelerado/Buscando dolorido/Alivio del mal en un arroyo helado,/Y sediento al cristal se precipita,/No en el alivio en el dolor me imita,/Si la liebre encogida/Huye medrosa de los galgos fieros,/Y por salvar la vida/No deja estampa de los pies ligeros,/Tal mi esperanza en dudas y recelos/Se ve acosa de villanos celos.\n",
    "\n",
    "- a) Defina el conjunto de símbolos tipográficos (letras, espacios, signos de puntuación, etc.) que aparecen en el texto.\n",
    "- b) Calcule la cantidad de símbolos que hay en el conjunto definido en a); es decir, la cantidad de elementos del conjunto.\n",
    "- c) ¿Cuántas veces aparece la letra 'a', en letra minúscula o mayúscula, en la escritura del texto?\n",
    "- d) ¿Cuántas veces aparecen las dos letras 'er' (seguidas), en letra minúscula o mayúscula, en la escritura del texto? ¿Y cuántas las letras 'el'?"
   ]
  },
  {
   "cell_type": "code",
   "execution_count": null,
   "metadata": {},
   "outputs": [],
   "source": []
  },
  {
   "cell_type": "code",
   "execution_count": null,
   "metadata": {},
   "outputs": [],
   "source": []
  },
  {
   "cell_type": "code",
   "execution_count": null,
   "metadata": {},
   "outputs": [],
   "source": []
  },
  {
   "cell_type": "markdown",
   "metadata": {},
   "source": [
    "### ejercicio 12\n",
    "¿Qué letras del alfabeto tienen en común las siguientes 5 palabras (se omiten acentos)?  \n",
    "'esternocleidomastoideo' (es un músculo del cuello): 'e','s','t','r','n','o','c','l','i','d','m','a'  \n",
    "'estereocinematografia': 'e','s','t','r','n','o','c','i','m','a','g','f'  \n",
    "'eurocomunismo':'e','s','r','n','o','c','i','m','u'  \n",
    "'estafilococo': 'e','s','t','o','c','l','i','a','f'  \n",
    "'espectrofotometria': 'e','s','t','r','o','c','i','m','a','f','p'  \n",
    "¿Qué letras del alfabeto aparecen en la palabra 'esternocleidomastoideo' pero no aparecen en ninguna de las palabras 'estereocinematografia' y 'espectrofotometria'?"
   ]
  },
  {
   "cell_type": "code",
   "execution_count": null,
   "metadata": {
    "collapsed": true
   },
   "outputs": [],
   "source": []
  },
  {
   "cell_type": "code",
   "execution_count": null,
   "metadata": {
    "collapsed": true
   },
   "outputs": [],
   "source": []
  },
  {
   "cell_type": "code",
   "execution_count": null,
   "metadata": {
    "collapsed": true
   },
   "outputs": [],
   "source": []
  },
  {
   "cell_type": "markdown",
   "metadata": {},
   "source": [
    "### ejercicio 13\n",
    "Considera los siguientes tres conjuntos de números enteros, positivos, menores a 10,000:\n",
    "* los múltiplos de 9,\n",
    "\n",
    "{9,18,27,...,9999}\n",
    "\n",
    "* los múltiplos de 11,\n",
    "\n",
    "{11,22,33,44,...9999}\n",
    "\n",
    "* los múltiplos de 7,\n",
    "\n",
    "{7,14,21,28,...9996}\n",
    "  \n",
    "Genera los elementos de los conjuntos descritos y asigna nombres apropiados que\n",
    "identifiquen cada conjunto. \n",
    "  \n",
    "* Con los conjuntos definidos anteriormente y operaciones apropiadas contesta lo siguiente:  \n",
    "  \n",
    "a) Encuentra el conjunto de los números que a la vez son múltiplos de 9 y 11, pero que no son múltiplos de 7 (un elemento de este conjunto es el número 99) y responde, ¿Cuántos elementos tiene el conjunto encontrado?\n",
    "\n",
    "b) Encuentra el conjunto de los números que a la vez son múltiplos de 11 y 7, pero que no son múltiplos de 9 (un elemento de este conjunto es el número 77) y responde, ¿Cuántos elementos tiene el conjunto encontrado?\n",
    "\n",
    "c) Encuentra el conjunto de los números que a la vez son múltiplos de 9 y 7, pero que no son múltiplos de 11 (un elemento de este conjunto es el número 63) y responde, ¿Cuántos elementos tiene el conjunto encontrado?"
   ]
  },
  {
   "cell_type": "code",
   "execution_count": null,
   "metadata": {
    "collapsed": true
   },
   "outputs": [],
   "source": [
    "#TAREA "
   ]
  },
  {
   "cell_type": "code",
   "execution_count": 2,
   "metadata": {},
   "outputs": [
    {
     "name": "stdout",
     "output_type": "stream",
     "text": [
      "{6147, 2052, 8199, 4104, 9, 6156, 2061, 8208, 4113, 18, 6165, 2070, 8217, 4122, 27, 6174, 2079, 8226, 4131, 36, 6183, 2088, 8235, 4140, 45, 6192, 2097, 8244, 4149, 54, 6201, 2106, 8253, 4158, 63, 6210, 2115, 8262, 4167, 72, 6219, 2124, 8271, 4176, 81, 6228, 2133, 8280, 4185, 90, 6237, 2142, 8289, 4194, 99, 6246, 2151, 8298, 4203, 108, 6255, 2160, 8307, 4212, 117, 6264, 2169, 8316, 4221, 126, 6273, 2178, 8325, 4230, 135, 6282, 2187, 8334, 4239, 144, 6291, 2196, 8343, 4248, 153, 6300, 2205, 8352, 4257, 162, 6309, 2214, 8361, 4266, 171, 6318, 2223, 8370, 4275, 180, 6327, 2232, 8379, 4284, 189, 6336, 2241, 8388, 4293, 198, 6345, 2250, 8397, 4302, 207, 6354, 2259, 8406, 4311, 216, 6363, 2268, 8415, 4320, 225, 6372, 2277, 8424, 4329, 234, 6381, 2286, 8433, 4338, 243, 6390, 2295, 8442, 4347, 252, 6399, 2304, 8451, 4356, 261, 6408, 2313, 8460, 4365, 270, 6417, 2322, 8469, 4374, 279, 6426, 2331, 8478, 4383, 288, 6435, 2340, 8487, 4392, 297, 6444, 2349, 8496, 4401, 306, 6453, 2358, 8505, 4410, 315, 6462, 2367, 8514, 4419, 324, 6471, 2376, 8523, 4428, 333, 6480, 2385, 8532, 4437, 342, 6489, 2394, 8541, 4446, 351, 6498, 2403, 8550, 4455, 360, 6507, 2412, 8559, 4464, 369, 6516, 2421, 8568, 4473, 378, 6525, 2430, 8577, 4482, 387, 6534, 2439, 8586, 4491, 396, 6543, 2448, 8595, 4500, 405, 6552, 2457, 8604, 4509, 414, 6561, 2466, 8613, 4518, 423, 6570, 2475, 8622, 4527, 432, 6579, 2484, 8631, 4536, 441, 6588, 2493, 8640, 4545, 450, 6597, 2502, 8649, 4554, 459, 6606, 2511, 8658, 4563, 468, 6615, 2520, 8667, 4572, 477, 6624, 2529, 8676, 4581, 486, 6633, 2538, 8685, 4590, 495, 6642, 2547, 8694, 4599, 504, 6651, 2556, 8703, 4608, 513, 6660, 2565, 8712, 4617, 522, 6669, 2574, 8721, 4626, 531, 6678, 2583, 8730, 4635, 540, 6687, 2592, 8739, 4644, 549, 6696, 2601, 8748, 4653, 558, 6705, 2610, 8757, 4662, 567, 6714, 2619, 8766, 4671, 576, 6723, 2628, 8775, 4680, 585, 6732, 2637, 8784, 4689, 594, 6741, 2646, 8793, 4698, 603, 6750, 2655, 8802, 4707, 612, 6759, 2664, 8811, 4716, 621, 6768, 2673, 8820, 4725, 630, 6777, 2682, 8829, 4734, 639, 6786, 2691, 8838, 4743, 648, 6795, 2700, 8847, 4752, 657, 6804, 2709, 8856, 4761, 666, 6813, 2718, 8865, 4770, 675, 6822, 2727, 8874, 4779, 684, 6831, 2736, 8883, 4788, 693, 6840, 2745, 8892, 4797, 702, 6849, 2754, 8901, 4806, 711, 6858, 2763, 8910, 4815, 720, 6867, 2772, 8919, 4824, 729, 6876, 2781, 8928, 4833, 738, 6885, 2790, 8937, 4842, 747, 6894, 2799, 8946, 4851, 756, 6903, 2808, 8955, 4860, 765, 6912, 2817, 8964, 4869, 774, 6921, 2826, 8973, 4878, 783, 6930, 2835, 8982, 4887, 792, 6939, 2844, 8991, 4896, 801, 6948, 2853, 9000, 4905, 810, 6957, 2862, 9009, 4914, 819, 6966, 2871, 9018, 4923, 828, 6975, 2880, 9027, 4932, 837, 6984, 2889, 9036, 4941, 846, 6993, 2898, 9045, 4950, 855, 7002, 2907, 9054, 4959, 864, 7011, 2916, 9063, 4968, 873, 7020, 2925, 9072, 4977, 882, 7029, 2934, 9081, 4986, 891, 7038, 2943, 9090, 4995, 900, 7047, 2952, 9099, 5004, 909, 7056, 2961, 9108, 5013, 918, 7065, 2970, 9117, 5022, 927, 7074, 2979, 9126, 5031, 936, 7083, 2988, 9135, 5040, 945, 7092, 2997, 9144, 5049, 954, 7101, 3006, 9153, 5058, 963, 7110, 3015, 9162, 5067, 972, 7119, 3024, 9171, 5076, 981, 7128, 3033, 9180, 5085, 990, 7137, 3042, 9189, 5094, 999, 7146, 3051, 9198, 5103, 1008, 7155, 3060, 9207, 5112, 1017, 7164, 3069, 9216, 5121, 1026, 7173, 3078, 9225, 5130, 1035, 7182, 3087, 9234, 5139, 1044, 7191, 3096, 9243, 5148, 1053, 7200, 3105, 9252, 5157, 1062, 7209, 3114, 9261, 5166, 1071, 7218, 3123, 9270, 5175, 1080, 7227, 3132, 9279, 5184, 1089, 7236, 3141, 9288, 5193, 1098, 7245, 3150, 9297, 5202, 1107, 7254, 3159, 9306, 5211, 1116, 7263, 3168, 9315, 5220, 1125, 7272, 3177, 9324, 5229, 1134, 7281, 3186, 9333, 5238, 1143, 7290, 3195, 9342, 5247, 1152, 7299, 3204, 9351, 5256, 1161, 7308, 3213, 9360, 5265, 1170, 7317, 3222, 9369, 5274, 1179, 7326, 3231, 9378, 5283, 1188, 7335, 3240, 9387, 5292, 1197, 7344, 3249, 9396, 5301, 1206, 7353, 3258, 9405, 5310, 1215, 7362, 3267, 9414, 5319, 1224, 7371, 3276, 9423, 5328, 1233, 7380, 3285, 9432, 5337, 1242, 7389, 3294, 9441, 5346, 1251, 7398, 3303, 9450, 5355, 1260, 7407, 3312, 9459, 5364, 1269, 7416, 3321, 9468, 5373, 1278, 7425, 3330, 9477, 5382, 1287, 7434, 3339, 9486, 5391, 1296, 7443, 3348, 9495, 5400, 1305, 7452, 3357, 9504, 5409, 1314, 7461, 3366, 9513, 5418, 1323, 7470, 3375, 9522, 5427, 1332, 7479, 3384, 9531, 5436, 1341, 7488, 3393, 9540, 5445, 1350, 7497, 3402, 9549, 5454, 1359, 7506, 3411, 9558, 5463, 1368, 7515, 3420, 9567, 5472, 1377, 7524, 3429, 9576, 5481, 1386, 7533, 3438, 9585, 5490, 1395, 7542, 3447, 9594, 5499, 1404, 7551, 3456, 9603, 5508, 1413, 7560, 3465, 9612, 5517, 1422, 7569, 3474, 9621, 5526, 1431, 7578, 3483, 9630, 5535, 1440, 7587, 3492, 9639, 5544, 1449, 7596, 3501, 9648, 5553, 1458, 7605, 3510, 9657, 5562, 1467, 7614, 3519, 9666, 5571, 1476, 7623, 3528, 9675, 5580, 1485, 7632, 3537, 9684, 5589, 1494, 7641, 3546, 9693, 5598, 1503, 7650, 3555, 9702, 5607, 1512, 7659, 3564, 9711, 5616, 1521, 7668, 3573, 9720, 5625, 1530, 7677, 3582, 9729, 5634, 1539, 7686, 3591, 9738, 5643, 1548, 7695, 3600, 9747, 5652, 1557, 7704, 3609, 9756, 5661, 1566, 7713, 3618, 9765, 5670, 1575, 7722, 3627, 9774, 5679, 1584, 7731, 3636, 9783, 5688, 1593, 7740, 3645, 9792, 5697, 1602, 7749, 3654, 9801, 5706, 1611, 7758, 3663, 9810, 5715, 1620, 7767, 3672, 9819, 5724, 1629, 7776, 3681, 9828, 5733, 1638, 7785, 3690, 9837, 5742, 1647, 7794, 3699, 9846, 5751, 1656, 7803, 3708, 9855, 5760, 1665, 7812, 3717, 9864, 5769, 1674, 7821, 3726, 9873, 5778, 1683, 7830, 3735, 9882, 5787, 1692, 7839, 3744, 9891, 5796, 1701, 7848, 3753, 9900, 5805, 1710, 7857, 3762, 9909, 5814, 1719, 7866, 3771, 9918, 5823, 1728, 7875, 3780, 9927, 5832, 1737, 7884, 3789, 9936, 5841, 1746, 7893, 3798, 9945, 5850, 1755, 7902, 3807, 9954, 5859, 1764, 7911, 3816, 9963, 5868, 1773, 7920, 3825, 9972, 5877, 1782, 7929, 3834, 9981, 5886, 1791, 7938, 3843, 9990, 5895, 1800, 7947, 3852, 9999, 5904, 1809, 7956, 3861, 5913, 1818, 7965, 3870, 5922, 1827, 7974, 3879, 5931, 1836, 7983, 3888, 5940, 1845, 7992, 3897, 5949, 1854, 8001, 3906, 5958, 1863, 8010, 3915, 5967, 1872, 8019, 3924, 5976, 1881, 8028, 3933, 5985, 1890, 8037, 3942, 5994, 1899, 8046, 3951, 6003, 1908, 8055, 3960, 6012, 1917, 8064, 3969, 6021, 1926, 8073, 3978, 6030, 1935, 8082, 3987, 6039, 1944, 8091, 3996, 6048, 1953, 8100, 4005, 6057, 1962, 8109, 4014, 6066, 1971, 8118, 4023, 6075, 1980, 8127, 4032, 6084, 1989, 8136, 4041, 6093, 1998, 8145, 4050, 6102, 2007, 8154, 4059, 6111, 2016, 8163, 4068, 6120, 2025, 8172, 4077, 6129, 2034, 8181, 4086, 6138, 2043, 8190, 4095}\n"
     ]
    }
   ],
   "source": [
    "conj9= set(range(9,10000,9))\n",
    "print(conj9)"
   ]
  },
  {
   "cell_type": "code",
   "execution_count": 3,
   "metadata": {},
   "outputs": [
    {
     "name": "stdout",
     "output_type": "stream",
     "text": [
      "{8195, 6149, 4103, 2057, 11, 8206, 6160, 4114, 2068, 22, 8217, 6171, 4125, 2079, 33, 8228, 6182, 4136, 2090, 44, 8239, 6193, 4147, 2101, 55, 8250, 6204, 4158, 2112, 66, 8261, 6215, 4169, 2123, 77, 8272, 6226, 4180, 2134, 88, 8283, 6237, 4191, 2145, 99, 8294, 6248, 4202, 2156, 110, 8305, 6259, 4213, 2167, 121, 8316, 6270, 4224, 2178, 132, 8327, 6281, 4235, 2189, 143, 8338, 6292, 4246, 2200, 154, 8349, 6303, 4257, 2211, 165, 8360, 6314, 4268, 2222, 176, 8371, 6325, 4279, 2233, 187, 8382, 6336, 4290, 2244, 198, 8393, 6347, 4301, 2255, 209, 8404, 6358, 4312, 2266, 220, 8415, 6369, 4323, 2277, 231, 8426, 6380, 4334, 2288, 242, 8437, 6391, 4345, 2299, 253, 8448, 6402, 4356, 2310, 264, 8459, 6413, 4367, 2321, 275, 8470, 6424, 4378, 2332, 286, 8481, 6435, 4389, 2343, 297, 8492, 6446, 4400, 2354, 308, 8503, 6457, 4411, 2365, 319, 8514, 6468, 4422, 2376, 330, 8525, 6479, 4433, 2387, 341, 8536, 6490, 4444, 2398, 352, 8547, 6501, 4455, 2409, 363, 8558, 6512, 4466, 2420, 374, 8569, 6523, 4477, 2431, 385, 8580, 6534, 4488, 2442, 396, 8591, 6545, 4499, 2453, 407, 8602, 6556, 4510, 2464, 418, 8613, 6567, 4521, 2475, 429, 8624, 6578, 4532, 2486, 440, 8635, 6589, 4543, 2497, 451, 8646, 6600, 4554, 2508, 462, 8657, 6611, 4565, 2519, 473, 8668, 6622, 4576, 2530, 484, 8679, 6633, 4587, 2541, 495, 8690, 6644, 4598, 2552, 506, 8701, 6655, 4609, 2563, 517, 8712, 6666, 4620, 2574, 528, 8723, 6677, 4631, 2585, 539, 8734, 6688, 4642, 2596, 550, 8745, 6699, 4653, 2607, 561, 8756, 6710, 4664, 2618, 572, 8767, 6721, 4675, 2629, 583, 8778, 6732, 4686, 2640, 594, 8789, 6743, 4697, 2651, 605, 8800, 6754, 4708, 2662, 616, 8811, 6765, 4719, 2673, 627, 8822, 6776, 4730, 2684, 638, 8833, 6787, 4741, 2695, 649, 8844, 6798, 4752, 2706, 660, 8855, 6809, 4763, 2717, 671, 8866, 6820, 4774, 2728, 682, 8877, 6831, 4785, 2739, 693, 8888, 6842, 4796, 2750, 704, 8899, 6853, 4807, 2761, 715, 8910, 6864, 4818, 2772, 726, 8921, 6875, 4829, 2783, 737, 8932, 6886, 4840, 2794, 748, 8943, 6897, 4851, 2805, 759, 8954, 6908, 4862, 2816, 770, 8965, 6919, 4873, 2827, 781, 8976, 6930, 4884, 2838, 792, 8987, 6941, 4895, 2849, 803, 8998, 6952, 4906, 2860, 814, 9009, 6963, 4917, 2871, 825, 9020, 6974, 4928, 2882, 836, 9031, 6985, 4939, 2893, 847, 9042, 6996, 4950, 2904, 858, 9053, 7007, 4961, 2915, 869, 9064, 7018, 4972, 2926, 880, 9075, 7029, 4983, 2937, 891, 9086, 7040, 4994, 2948, 902, 9097, 7051, 5005, 2959, 913, 9108, 7062, 5016, 2970, 924, 9119, 7073, 5027, 2981, 935, 9130, 7084, 5038, 2992, 946, 9141, 7095, 5049, 3003, 957, 9152, 7106, 5060, 3014, 968, 9163, 7117, 5071, 3025, 979, 9174, 7128, 5082, 3036, 990, 9185, 7139, 5093, 3047, 1001, 9196, 7150, 5104, 3058, 1012, 9207, 7161, 5115, 3069, 1023, 9218, 7172, 5126, 3080, 1034, 9229, 7183, 5137, 3091, 1045, 9240, 7194, 5148, 3102, 1056, 9251, 7205, 5159, 3113, 1067, 9262, 7216, 5170, 3124, 1078, 9273, 7227, 5181, 3135, 1089, 9284, 7238, 5192, 3146, 1100, 9295, 7249, 5203, 3157, 1111, 9306, 7260, 5214, 3168, 1122, 9317, 7271, 5225, 3179, 1133, 9328, 7282, 5236, 3190, 1144, 9339, 7293, 5247, 3201, 1155, 9350, 7304, 5258, 3212, 1166, 9361, 7315, 5269, 3223, 1177, 9372, 7326, 5280, 3234, 1188, 9383, 7337, 5291, 3245, 1199, 9394, 7348, 5302, 3256, 1210, 9405, 7359, 5313, 3267, 1221, 9416, 7370, 5324, 3278, 1232, 9427, 7381, 5335, 3289, 1243, 9438, 7392, 5346, 3300, 1254, 9449, 7403, 5357, 3311, 1265, 9460, 7414, 5368, 3322, 1276, 9471, 7425, 5379, 3333, 1287, 9482, 7436, 5390, 3344, 1298, 9493, 7447, 5401, 3355, 1309, 9504, 7458, 5412, 3366, 1320, 9515, 7469, 5423, 3377, 1331, 9526, 7480, 5434, 3388, 1342, 9537, 7491, 5445, 3399, 1353, 9548, 7502, 5456, 3410, 1364, 9559, 7513, 5467, 3421, 1375, 9570, 7524, 5478, 3432, 1386, 9581, 7535, 5489, 3443, 1397, 9592, 7546, 5500, 3454, 1408, 9603, 7557, 5511, 3465, 1419, 9614, 7568, 5522, 3476, 1430, 9625, 7579, 5533, 3487, 1441, 9636, 7590, 5544, 3498, 1452, 9647, 7601, 5555, 3509, 1463, 9658, 7612, 5566, 3520, 1474, 9669, 7623, 5577, 3531, 1485, 9680, 7634, 5588, 3542, 1496, 9691, 7645, 5599, 3553, 1507, 9702, 7656, 5610, 3564, 1518, 9713, 7667, 5621, 3575, 1529, 9724, 7678, 5632, 3586, 1540, 9735, 7689, 5643, 3597, 1551, 9746, 7700, 5654, 3608, 1562, 9757, 7711, 5665, 3619, 1573, 9768, 7722, 5676, 3630, 1584, 9779, 7733, 5687, 3641, 1595, 9790, 7744, 5698, 3652, 1606, 9801, 7755, 5709, 3663, 1617, 9812, 7766, 5720, 3674, 1628, 9823, 7777, 5731, 3685, 1639, 9834, 7788, 5742, 3696, 1650, 9845, 7799, 5753, 3707, 1661, 9856, 7810, 5764, 3718, 1672, 9867, 7821, 5775, 3729, 1683, 9878, 7832, 5786, 3740, 1694, 9889, 7843, 5797, 3751, 1705, 9900, 7854, 5808, 3762, 1716, 9911, 7865, 5819, 3773, 1727, 9922, 7876, 5830, 3784, 1738, 9933, 7887, 5841, 3795, 1749, 9944, 7898, 5852, 3806, 1760, 9955, 7909, 5863, 3817, 1771, 9966, 7920, 5874, 3828, 1782, 9977, 7931, 5885, 3839, 1793, 9988, 7942, 5896, 3850, 1804, 9999, 7953, 5907, 3861, 1815, 7964, 5918, 3872, 1826, 7975, 5929, 3883, 1837, 7986, 5940, 3894, 1848, 7997, 5951, 3905, 1859, 8008, 5962, 3916, 1870, 8019, 5973, 3927, 1881, 8030, 5984, 3938, 1892, 8041, 5995, 3949, 1903, 8052, 6006, 3960, 1914, 8063, 6017, 3971, 1925, 8074, 6028, 3982, 1936, 8085, 6039, 3993, 1947, 8096, 6050, 4004, 1958, 8107, 6061, 4015, 1969, 8118, 6072, 4026, 1980, 8129, 6083, 4037, 1991, 8140, 6094, 4048, 2002, 8151, 6105, 4059, 2013, 8162, 6116, 4070, 2024, 8173, 6127, 4081, 2035, 8184, 6138, 4092, 2046}\n"
     ]
    }
   ],
   "source": [
    "conj11=set(range(11,10000,11))\n",
    "print(conj11)"
   ]
  },
  {
   "cell_type": "code",
   "execution_count": 4,
   "metadata": {},
   "outputs": [
    {
     "name": "stdout",
     "output_type": "stream",
     "text": [
      "{8197, 7, 8204, 14, 8211, 21, 8218, 28, 8225, 35, 8232, 42, 8239, 49, 8246, 56, 8253, 63, 8260, 70, 8267, 77, 8274, 84, 8281, 91, 8288, 98, 8295, 105, 8302, 112, 8309, 119, 8316, 126, 8323, 133, 8330, 140, 8337, 147, 8344, 154, 8351, 161, 8358, 168, 8365, 175, 8372, 182, 8379, 189, 8386, 196, 8393, 203, 8400, 210, 8407, 217, 8414, 224, 8421, 231, 8428, 238, 8435, 245, 8442, 252, 8449, 259, 8456, 266, 8463, 273, 8470, 280, 8477, 287, 8484, 294, 8491, 301, 8498, 308, 8505, 315, 8512, 322, 8519, 329, 8526, 336, 8533, 343, 8540, 350, 8547, 357, 8554, 364, 8561, 371, 8568, 378, 8575, 385, 8582, 392, 8589, 399, 8596, 406, 8603, 413, 8610, 420, 8617, 427, 8624, 434, 8631, 441, 8638, 448, 8645, 455, 8652, 462, 8659, 469, 8666, 476, 8673, 483, 8680, 490, 8687, 497, 8694, 504, 8701, 511, 8708, 518, 8715, 525, 8722, 532, 8729, 539, 8736, 546, 8743, 553, 8750, 560, 8757, 567, 8764, 574, 8771, 581, 8778, 588, 8785, 595, 8792, 602, 8799, 609, 8806, 616, 8813, 623, 8820, 630, 8827, 637, 8834, 644, 8841, 651, 8848, 658, 8855, 665, 8862, 672, 8869, 679, 8876, 686, 8883, 693, 8890, 700, 8897, 707, 8904, 714, 8911, 721, 8918, 728, 8925, 735, 8932, 742, 8939, 749, 8946, 756, 8953, 763, 8960, 770, 8967, 777, 8974, 784, 8981, 791, 8988, 798, 8995, 805, 9002, 812, 9009, 819, 9016, 826, 9023, 833, 9030, 840, 9037, 847, 9044, 854, 9051, 861, 9058, 868, 9065, 875, 9072, 882, 9079, 889, 9086, 896, 9093, 903, 9100, 910, 9107, 917, 9114, 924, 9121, 931, 9128, 938, 9135, 945, 9142, 952, 9149, 959, 9156, 966, 9163, 973, 9170, 980, 9177, 987, 9184, 994, 9191, 1001, 9198, 1008, 9205, 1015, 9212, 1022, 9219, 1029, 9226, 1036, 9233, 1043, 9240, 1050, 9247, 1057, 9254, 1064, 9261, 1071, 9268, 1078, 9275, 1085, 9282, 1092, 9289, 1099, 9296, 1106, 9303, 1113, 9310, 1120, 9317, 1127, 9324, 1134, 9331, 1141, 9338, 1148, 9345, 1155, 9352, 1162, 9359, 1169, 9366, 1176, 9373, 1183, 9380, 1190, 9387, 1197, 9394, 1204, 9401, 1211, 9408, 1218, 9415, 1225, 9422, 1232, 9429, 1239, 9436, 1246, 9443, 1253, 9450, 1260, 9457, 1267, 9464, 1274, 9471, 1281, 9478, 1288, 9485, 1295, 9492, 1302, 9499, 1309, 9506, 1316, 9513, 1323, 9520, 1330, 9527, 1337, 9534, 1344, 9541, 1351, 9548, 1358, 9555, 1365, 9562, 1372, 9569, 1379, 9576, 1386, 9583, 1393, 9590, 1400, 9597, 1407, 9604, 1414, 9611, 1421, 9618, 1428, 9625, 1435, 9632, 1442, 9639, 1449, 9646, 1456, 9653, 1463, 9660, 1470, 9667, 1477, 9674, 1484, 9681, 1491, 9688, 1498, 9695, 1505, 9702, 1512, 9709, 1519, 9716, 1526, 9723, 1533, 9730, 1540, 9737, 1547, 9744, 1554, 9751, 1561, 9758, 1568, 9765, 1575, 9772, 1582, 9779, 1589, 9786, 1596, 9793, 1603, 9800, 1610, 9807, 1617, 9814, 1624, 9821, 1631, 9828, 1638, 9835, 1645, 9842, 1652, 9849, 1659, 9856, 1666, 9863, 1673, 9870, 1680, 9877, 1687, 9884, 1694, 9891, 1701, 9898, 1708, 9905, 1715, 9912, 1722, 9919, 1729, 9926, 1736, 9933, 1743, 9940, 1750, 9947, 1757, 9954, 1764, 9961, 1771, 9968, 1778, 9975, 1785, 9982, 1792, 9989, 1799, 9996, 1806, 1813, 1820, 1827, 1834, 1841, 1848, 1855, 1862, 1869, 1876, 1883, 1890, 1897, 1904, 1911, 1918, 1925, 1932, 1939, 1946, 1953, 1960, 1967, 1974, 1981, 1988, 1995, 2002, 2009, 2016, 2023, 2030, 2037, 2044, 2051, 2058, 2065, 2072, 2079, 2086, 2093, 2100, 2107, 2114, 2121, 2128, 2135, 2142, 2149, 2156, 2163, 2170, 2177, 2184, 2191, 2198, 2205, 2212, 2219, 2226, 2233, 2240, 2247, 2254, 2261, 2268, 2275, 2282, 2289, 2296, 2303, 2310, 2317, 2324, 2331, 2338, 2345, 2352, 2359, 2366, 2373, 2380, 2387, 2394, 2401, 2408, 2415, 2422, 2429, 2436, 2443, 2450, 2457, 2464, 2471, 2478, 2485, 2492, 2499, 2506, 2513, 2520, 2527, 2534, 2541, 2548, 2555, 2562, 2569, 2576, 2583, 2590, 2597, 2604, 2611, 2618, 2625, 2632, 2639, 2646, 2653, 2660, 2667, 2674, 2681, 2688, 2695, 2702, 2709, 2716, 2723, 2730, 2737, 2744, 2751, 2758, 2765, 2772, 2779, 2786, 2793, 2800, 2807, 2814, 2821, 2828, 2835, 2842, 2849, 2856, 2863, 2870, 2877, 2884, 2891, 2898, 2905, 2912, 2919, 2926, 2933, 2940, 2947, 2954, 2961, 2968, 2975, 2982, 2989, 2996, 3003, 3010, 3017, 3024, 3031, 3038, 3045, 3052, 3059, 3066, 3073, 3080, 3087, 3094, 3101, 3108, 3115, 3122, 3129, 3136, 3143, 3150, 3157, 3164, 3171, 3178, 3185, 3192, 3199, 3206, 3213, 3220, 3227, 3234, 3241, 3248, 3255, 3262, 3269, 3276, 3283, 3290, 3297, 3304, 3311, 3318, 3325, 3332, 3339, 3346, 3353, 3360, 3367, 3374, 3381, 3388, 3395, 3402, 3409, 3416, 3423, 3430, 3437, 3444, 3451, 3458, 3465, 3472, 3479, 3486, 3493, 3500, 3507, 3514, 3521, 3528, 3535, 3542, 3549, 3556, 3563, 3570, 3577, 3584, 3591, 3598, 3605, 3612, 3619, 3626, 3633, 3640, 3647, 3654, 3661, 3668, 3675, 3682, 3689, 3696, 3703, 3710, 3717, 3724, 3731, 3738, 3745, 3752, 3759, 3766, 3773, 3780, 3787, 3794, 3801, 3808, 3815, 3822, 3829, 3836, 3843, 3850, 3857, 3864, 3871, 3878, 3885, 3892, 3899, 3906, 3913, 3920, 3927, 3934, 3941, 3948, 3955, 3962, 3969, 3976, 3983, 3990, 3997, 4004, 4011, 4018, 4025, 4032, 4039, 4046, 4053, 4060, 4067, 4074, 4081, 4088, 4095, 4102, 4109, 4116, 4123, 4130, 4137, 4144, 4151, 4158, 4165, 4172, 4179, 4186, 4193, 4200, 4207, 4214, 4221, 4228, 4235, 4242, 4249, 4256, 4263, 4270, 4277, 4284, 4291, 4298, 4305, 4312, 4319, 4326, 4333, 4340, 4347, 4354, 4361, 4368, 4375, 4382, 4389, 4396, 4403, 4410, 4417, 4424, 4431, 4438, 4445, 4452, 4459, 4466, 4473, 4480, 4487, 4494, 4501, 4508, 4515, 4522, 4529, 4536, 4543, 4550, 4557, 4564, 4571, 4578, 4585, 4592, 4599, 4606, 4613, 4620, 4627, 4634, 4641, 4648, 4655, 4662, 4669, 4676, 4683, 4690, 4697, 4704, 4711, 4718, 4725, 4732, 4739, 4746, 4753, 4760, 4767, 4774, 4781, 4788, 4795, 4802, 4809, 4816, 4823, 4830, 4837, 4844, 4851, 4858, 4865, 4872, 4879, 4886, 4893, 4900, 4907, 4914, 4921, 4928, 4935, 4942, 4949, 4956, 4963, 4970, 4977, 4984, 4991, 4998, 5005, 5012, 5019, 5026, 5033, 5040, 5047, 5054, 5061, 5068, 5075, 5082, 5089, 5096, 5103, 5110, 5117, 5124, 5131, 5138, 5145, 5152, 5159, 5166, 5173, 5180, 5187, 5194, 5201, 5208, 5215, 5222, 5229, 5236, 5243, 5250, 5257, 5264, 5271, 5278, 5285, 5292, 5299, 5306, 5313, 5320, 5327, 5334, 5341, 5348, 5355, 5362, 5369, 5376, 5383, 5390, 5397, 5404, 5411, 5418, 5425, 5432, 5439, 5446, 5453, 5460, 5467, 5474, 5481, 5488, 5495, 5502, 5509, 5516, 5523, 5530, 5537, 5544, 5551, 5558, 5565, 5572, 5579, 5586, 5593, 5600, 5607, 5614, 5621, 5628, 5635, 5642, 5649, 5656, 5663, 5670, 5677, 5684, 5691, 5698, 5705, 5712, 5719, 5726, 5733, 5740, 5747, 5754, 5761, 5768, 5775, 5782, 5789, 5796, 5803, 5810, 5817, 5824, 5831, 5838, 5845, 5852, 5859, 5866, 5873, 5880, 5887, 5894, 5901, 5908, 5915, 5922, 5929, 5936, 5943, 5950, 5957, 5964, 5971, 5978, 5985, 5992, 5999, 6006, 6013, 6020, 6027, 6034, 6041, 6048, 6055, 6062, 6069, 6076, 6083, 6090, 6097, 6104, 6111, 6118, 6125, 6132, 6139, 6146, 6153, 6160, 6167, 6174, 6181, 6188, 6195, 6202, 6209, 6216, 6223, 6230, 6237, 6244, 6251, 6258, 6265, 6272, 6279, 6286, 6293, 6300, 6307, 6314, 6321, 6328, 6335, 6342, 6349, 6356, 6363, 6370, 6377, 6384, 6391, 6398, 6405, 6412, 6419, 6426, 6433, 6440, 6447, 6454, 6461, 6468, 6475, 6482, 6489, 6496, 6503, 6510, 6517, 6524, 6531, 6538, 6545, 6552, 6559, 6566, 6573, 6580, 6587, 6594, 6601, 6608, 6615, 6622, 6629, 6636, 6643, 6650, 6657, 6664, 6671, 6678, 6685, 6692, 6699, 6706, 6713, 6720, 6727, 6734, 6741, 6748, 6755, 6762, 6769, 6776, 6783, 6790, 6797, 6804, 6811, 6818, 6825, 6832, 6839, 6846, 6853, 6860, 6867, 6874, 6881, 6888, 6895, 6902, 6909, 6916, 6923, 6930, 6937, 6944, 6951, 6958, 6965, 6972, 6979, 6986, 6993, 7000, 7007, 7014, 7021, 7028, 7035, 7042, 7049, 7056, 7063, 7070, 7077, 7084, 7091, 7098, 7105, 7112, 7119, 7126, 7133, 7140, 7147, 7154, 7161, 7168, 7175, 7182, 7189, 7196, 7203, 7210, 7217, 7224, 7231, 7238, 7245, 7252, 7259, 7266, 7273, 7280, 7287, 7294, 7301, 7308, 7315, 7322, 7329, 7336, 7343, 7350, 7357, 7364, 7371, 7378, 7385, 7392, 7399, 7406, 7413, 7420, 7427, 7434, 7441, 7448, 7455, 7462, 7469, 7476, 7483, 7490, 7497, 7504, 7511, 7518, 7525, 7532, 7539, 7546, 7553, 7560, 7567, 7574, 7581, 7588, 7595, 7602, 7609, 7616, 7623, 7630, 7637, 7644, 7651, 7658, 7665, 7672, 7679, 7686, 7693, 7700, 7707, 7714, 7721, 7728, 7735, 7742, 7749, 7756, 7763, 7770, 7777, 7784, 7791, 7798, 7805, 7812, 7819, 7826, 7833, 7840, 7847, 7854, 7861, 7868, 7875, 7882, 7889, 7896, 7903, 7910, 7917, 7924, 7931, 7938, 7945, 7952, 7959, 7966, 7973, 7980, 7987, 7994, 8001, 8008, 8015, 8022, 8029, 8036, 8043, 8050, 8057, 8064, 8071, 8078, 8085, 8092, 8099, 8106, 8113, 8120, 8127, 8134, 8141, 8148, 8155, 8162, 8169, 8176, 8183, 8190}\n"
     ]
    }
   ],
   "source": [
    "conj7=set(range(7,9997,7))\n",
    "\n",
    "print(conj7)"
   ]
  },
  {
   "cell_type": "code",
   "execution_count": 5,
   "metadata": {},
   "outputs": [
    {
     "name": "stdout",
     "output_type": "stream",
     "text": [
      "{7686, 3591, 7182, 3087, 6678, 2583, 6174, 9765, 5670, 1575, 9261, 5166, 1071, 8757, 4662, 567, 8253, 63, 7749, 3654, 7245, 3150, 6741, 2646, 2142, 9828, 5733, 1638, 9324, 5229, 1134, 8820, 4725, 630, 4221, 126, 7812, 3717, 7308, 3213, 6804, 2709, 6300, 2205, 9891, 5796, 1701, 9387, 5292, 1197, 8883, 4788, 8379, 4284, 189, 7875, 3780, 7371, 3276, 6867, 6363, 2268, 9954, 5859, 1764, 9450, 5355, 1260, 8946, 756, 8442, 4347, 252, 7938, 3843, 7434, 3339, 2835, 6426, 2331, 5922, 1827, 9513, 5418, 1323, 4914, 819, 8505, 4410, 315, 8001, 3906, 7497, 3402, 6993, 2898, 6489, 2394, 5985, 1890, 9576, 5481, 9072, 4977, 882, 8568, 4473, 378, 8064, 3969, 7560, 7056, 2961, 6552, 2457, 6048, 1953, 9639, 1449, 9135, 5040, 945, 8631, 4536, 441, 8127, 4032, 3528, 7119, 3024, 6615, 2520, 6111, 2016, 5607, 1512, 9198, 5103, 1008, 8694, 4599, 504, 8190, 4095}\n"
     ]
    }
   ],
   "source": [
    "conj2=(conj7&conj9)-conj11\n",
    "\n",
    "print(conj2)"
   ]
  },
  {
   "cell_type": "code",
   "execution_count": 6,
   "metadata": {},
   "outputs": [
    {
     "data": {
      "text/plain": [
       "144"
      ]
     },
     "execution_count": 6,
     "metadata": {},
     "output_type": "execute_result"
    }
   ],
   "source": [
    "len(conj2)"
   ]
  },
  {
   "cell_type": "markdown",
   "metadata": {
    "collapsed": true
   },
   "source": [
    "### ejercicio 14\n",
    "Jimena y Enrique van a tener un bebé, de quien no saben si es niño o niña, y van a selecionar algunos nombres del siguiente grupo,  \n",
    "  \n",
    "'Olontetl', 'Ollin', 'Azcatl', 'Acatl', 'Chimalma', 'Tecpatl', 'Necucyaotl', 'Tonatiuh', 'Tepochtli', 'Ixualxochiotl', 'Quetzalxilotl', 'Xiuhcóatl', 'Omecatl', 'Huitzilihuitl', 'Mazatzin', 'Yaotl', 'Ixtlixóchitl', 'Tlexochitl', 'Mixtle', 'Tlanextli', 'Cuicacani', 'Tlecuauhtli', 'Tepiltzin', 'Topiltzin', 'Tlacaelel', 'Ohtonqui', 'Tlazohtzin', 'Cihuateopixqui', 'Xocoyotzin', 'Nicté', 'Cuauhtli', 'Xalaquia', 'Opochtli', 'Nelli', 'Quetzalzin', 'Aztlan', 'Nezahualcóyotl', 'Tzilmiztli', 'Iztli', 'Noxochicoztli', 'Yohualticitl', 'Atototzin', 'Cuauhcihuatl', 'Cuauhtémoc', 'Anáhuac', 'Xochiyotl', 'Xihuitl', 'Ehécatl', 'Cihuacoatl', 'Citlalinicue', 'Chalchiuhtlicue', 'Zipactonal', 'Hiuhtonal', 'Tezcatlipoca', 'Ueman', 'Alotl', 'Ilhuitemoc', 'Quecholli', 'Tlayolohtli', 'Zyanya', 'Nahui', 'Imacatlezohtzin', 'Huitzillin', 'Cozcaapa', 'Yolyamanitzin', 'Teotl', 'Papalotl', 'Atlanxochitl', 'Yaocihuatl', 'Tonahuac', 'Cihuaxochitl', 'Tlahcuilo', 'Ameyal', 'Iztapapalotl', 'Tlazohtlaloni', 'Ilhuicamina', 'Matlalcóatl', 'Cihuatl', 'Malinaltzin', 'Coatlicue', 'Ixcatzin', 'Chicomecoatl', 'Xochiquiahuitl', 'Quetzalli', 'Tochtli', 'Ayauhtli', 'Tonalna', 'Ahuizotl', 'Xilonen', 'Pelaxilla', 'Xochicotzin', 'Xochiltlanezi'  \n",
    "  \n",
    "Después de meditar detenidamente, los futuros padres seleccionaron dos conjuntos: 1) los nombres elegidos por Jimena, y 2) los nombres elegidos por Enrique.  Los dos conjuntos mencionados son los siguientes:  \n",
    "  \n",
    "Los nombres elegidos por Jimena son,  \n",
    "  \n",
    "'Cihuacoatl', 'Tonalna', 'Quetzalli', 'Cozcaapa', 'Tlayolohtli', 'Ilhuicamina', 'Yaotl', 'Cihuatl', 'Mixtle', 'Xihuitl', 'Ayauhtli', 'Xalaquia', 'Ollin', 'Nezahualcóyotl', 'Iztapapalotl', 'Tlanextli', 'Necucyaotl', 'Opochtli', 'Hiuhtonal', 'Teotl', 'Malinaltzin', 'Acatl', 'Chimalma', 'Pelaxilla', 'Tezcatlipoca', 'Tlazohtlaloni', 'Aztlan', 'Tepiltzin', 'Cihuaxochitl', 'Cuauhtémoc', 'Huitzilihuitl', 'Olontetl', 'Ehécatl', 'Cuicacani', 'Yohualticitl', 'Cuauhtli', 'Azcatl', 'Yaocihuatl', 'Xiuhcóatl', 'Xochicotzin', 'Ohtonqui', 'Imacatlezohtzin', 'Chicomecoatl', 'Tlexochitl', 'Nicté'  \n",
    "  \n",
    "Los nombres elegidos por Enrique son,  \n",
    "  \n",
    "'Xihuitl', 'Atlanxochitl', 'Quetzalxilotl', 'Necucyaotl', 'Ehécatl', 'Topiltzin', 'Cihuatl', 'Xochiltlanezi', 'Ixtlixóchitl', 'Nahui', 'Yohualticitl', 'Tepiltzin', 'Aztlan', 'Cihuacoatl', 'Zyanya', 'Iztli', 'Xochiyotl', 'Imacatlezohtzin', 'Tlacaelel', 'Nicté', 'Tonahuac', 'Ohtonqui', 'Tlayolohtli', 'Tlecuauhtli', 'Ixcatzin', 'Huitzilihuitl', 'Anáhuac', 'Nezahualcóyotl', 'Quecholli', 'Chimalma', 'Cozcaapa', 'Hiuhtonal', 'Cihuaxochitl', 'Opochtli', 'Iztapapalotl', 'Tlazohtlaloni'  \n",
    "  \n",
    "Para ayudar con el proceso de decisión del nombre del bebé de Jimena y Enrique, encuentre lo que se pide a continuación, aplicando las operaciones apropiadas.  \n",
    "  \n",
    "a) Encuentre el conjunto con los nombres coincidentes, elegidos igualmente por ambos padres, Jimena y Enrique ¿Cuántos nombres son?  \n",
    "  \n",
    "b) Encuentre el conjunto de los nombres que fueron elegidos por solo uno de los papás, Jimena o Enrique, sin incluir los nombres donde ambos padres coinciden ¿Cuántos nombres son?  \n",
    "  \n",
    "c) Encuentre el conjunto de los nombres que pertenecen al grupo original de todos los nombres, pero que no fueron considerados por los futuros padres ¿Cuántos nombres son? \n",
    "  \n"
   ]
  },
  {
   "cell_type": "code",
   "execution_count": null,
   "metadata": {},
   "outputs": [],
   "source": []
  },
  {
   "cell_type": "code",
   "execution_count": null,
   "metadata": {},
   "outputs": [],
   "source": []
  },
  {
   "cell_type": "code",
   "execution_count": null,
   "metadata": {},
   "outputs": [],
   "source": []
  },
  {
   "cell_type": "markdown",
   "metadata": {},
   "source": [
    "### ejercicio 15\n",
    "Considera la sucesión de nombres de algunos países de América que se escribe en la celda de abajo.\n",
    "\n",
    "\n",
    "a) Genera una lista con la primera letra que aparece en mayúscula de cada uno de los nombres de los países.\n",
    "\n",
    "\n",
    "\n",
    "b) Define un conjunto con las letras iniciales de los nombres dados\n",
    "\n",
    "\n",
    "\n",
    "c) Genera una nueva lista con los nombres en sentido inverso.\n",
    "\n",
    "\n",
    "\n",
    "d) Genera una lista con la última letra de cada uno de los nombres de países.\n",
    "\n"
   ]
  },
  {
   "cell_type": "code",
   "execution_count": 4,
   "metadata": {},
   "outputs": [
    {
     "name": "stdout",
     "output_type": "stream",
     "text": [
      "('Guatemala', 'Costa Rica', 'México', 'Venezuela', 'Chile', 'Belice', 'Cuba', 'Jamaica', 'Argentina', 'Ecuador', 'Perú', 'Bolivia', 'Uruguay', 'Paraguay', 'Colombia', 'Panamá', 'Guyana', 'Brasil', 'Honduras', 'Nicaragua', 'República Dominicana', 'Haití', 'Canadá', 'Estados Unidos', 'Trinidad y Tobago', 'El Salvador')\n"
     ]
    }
   ],
   "source": [
    "nombrePais=('Guatemala','Costa Rica','México','Venezuela','Chile','Belice','Cuba','Jamaica','Argentina','Ecuador','Perú','Bolivia','Uruguay','Paraguay','Colombia', 'Panamá','Guyana','Brasil','Honduras','Nicaragua','República Dominicana','Haití','Canadá','Estados Unidos','Trinidad y Tobago','El Salvador')\n",
    "print(nombrePais)"
   ]
  },
  {
   "cell_type": "code",
   "execution_count": null,
   "metadata": {},
   "outputs": [],
   "source": []
  },
  {
   "cell_type": "code",
   "execution_count": null,
   "metadata": {},
   "outputs": [],
   "source": []
  },
  {
   "cell_type": "markdown",
   "metadata": {},
   "source": [
    "### ejercicio 16\n",
    "¿Cuál es el conjunto de los números enteros entre 1 y 10,000 que son iguales al cubo de un número entero?\n",
    "\n",
    "De los números del conjunto encontrado,\n",
    "\n",
    "¿Cuáles son divisibles entre 13?\n",
    "\n",
    "Responda estas preguntas para los números entre 1 y 1,000,000 (un millón)"
   ]
  },
  {
   "cell_type": "code",
   "execution_count": null,
   "metadata": {},
   "outputs": [],
   "source": []
  },
  {
   "cell_type": "code",
   "execution_count": null,
   "metadata": {},
   "outputs": [],
   "source": []
  },
  {
   "cell_type": "code",
   "execution_count": null,
   "metadata": {},
   "outputs": [],
   "source": []
  }
 ],
 "metadata": {
  "kernelspec": {
   "display_name": "Python 3",
   "language": "python",
   "name": "python3"
  },
  "language_info": {
   "codemirror_mode": {
    "name": "ipython",
    "version": 3
   },
   "file_extension": ".py",
   "mimetype": "text/x-python",
   "name": "python",
   "nbconvert_exporter": "python",
   "pygments_lexer": "ipython3",
   "version": "3.7.1"
  }
 },
 "nbformat": 4,
 "nbformat_minor": 1
}
