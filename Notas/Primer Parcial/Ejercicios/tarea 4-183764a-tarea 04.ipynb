{
 "cells": [
  {
   "cell_type": "code",
   "execution_count": null,
   "metadata": {},
   "outputs": [],
   "source": [
    " Salomon Romero 183764"
   ]
  },
  {
   "cell_type": "markdown",
   "metadata": {},
   "source": [
    "## 17. Elabora una función que calcule el factorial de un número entero no negativo, calculaFactorial(n) calcula y regresa el factorial de n (con n  0)."
   ]
  },
  {
   "cell_type": "code",
   "execution_count": 25,
   "metadata": {},
   "outputs": [],
   "source": [
    "def factorial (n):\n",
    "    factorial=1\n",
    "    for x in range(1,n+1,1):\n",
    "        factorial=factorial*x\n",
    "    return factorial\n",
    "        "
   ]
  },
  {
   "cell_type": "code",
   "execution_count": 29,
   "metadata": {},
   "outputs": [
    {
     "data": {
      "text/plain": [
       "720"
      ]
     },
     "execution_count": 29,
     "metadata": {},
     "output_type": "execute_result"
    }
   ],
   "source": [
    "factorial(factorial(3))"
   ]
  },
  {
   "cell_type": "code",
   "execution_count": 30,
   "metadata": {},
   "outputs": [
    {
     "data": {
      "text/plain": [
       "720"
      ]
     },
     "execution_count": 30,
     "metadata": {},
     "output_type": "execute_result"
    }
   ],
   "source": [
    "factorial(6)"
   ]
  },
  {
   "cell_type": "code",
   "execution_count": 31,
   "metadata": {},
   "outputs": [
    {
     "data": {
      "text/plain": [
       "6"
      ]
     },
     "execution_count": 31,
     "metadata": {},
     "output_type": "execute_result"
    }
   ],
   "source": [
    "factorial(3)"
   ]
  },
  {
   "cell_type": "markdown",
   "metadata": {},
   "source": [
    "## 19. Progresiones. Para las sucesiones numéricas sugeridas a continuación, genere listas de 40 valores y asígne un nombre o identificador a cada una. Los valores deben mostrarse en notación entera o decimal, según sea el caso.\n",
    "a. 2, 4, 6, 8, ...,78, 80\n",
    "b. 3, 5, 7, 9, 11, 13, ...\n",
    "c. 0.25, 0.5, 0.75, 1.0, 1.25, 1.5, ...\n",
    "d. 1, 4, 9, 16, 25, 36, ...\n",
    "e. 1, 2, 4, 8, 16, 32, ...\n",
    "f. 1, -2, 4, -8, 16, -32, ...\n",
    "g. 0.25, 1.25, 6.25, 31.25, 156.25, 781.25, ..."
   ]
  },
  {
   "cell_type": "code",
   "execution_count": 41,
   "metadata": {},
   "outputs": [],
   "source": [
    "a=[x for x in range(2,81,2)]"
   ]
  },
  {
   "cell_type": "code",
   "execution_count": 43,
   "metadata": {},
   "outputs": [
    {
     "name": "stdout",
     "output_type": "stream",
     "text": [
      "[2, 4, 6, 8, 10, 12, 14, 16, 18, 20, 22, 24, 26, 28, 30, 32, 34, 36, 38, 40, 42, 44, 46, 48, 50, 52, 54, 56, 58, 60, 62, 64, 66, 68, 70, 72, 74, 76, 78, 80]\n"
     ]
    }
   ],
   "source": [
    "print(a)"
   ]
  },
  {
   "cell_type": "code",
   "execution_count": 47,
   "metadata": {},
   "outputs": [],
   "source": [
    "b=[x for x in range(3,83,2)]"
   ]
  },
  {
   "cell_type": "code",
   "execution_count": 48,
   "metadata": {},
   "outputs": [
    {
     "name": "stdout",
     "output_type": "stream",
     "text": [
      "[3, 5, 7, 9, 11, 13, 15, 17, 19, 21, 23, 25, 27, 29, 31, 33, 35, 37, 39, 41, 43, 45, 47, 49, 51, 53, 55, 57, 59, 61, 63, 65, 67, 69, 71, 73, 75, 77, 79, 81]\n",
      "40\n"
     ]
    }
   ],
   "source": [
    "print(b)\n",
    "print(len(b))"
   ]
  },
  {
   "cell_type": "code",
   "execution_count": 57,
   "metadata": {},
   "outputs": [],
   "source": [
    "c=[x*0.25 for x in range(1,41,1)]"
   ]
  },
  {
   "cell_type": "code",
   "execution_count": 58,
   "metadata": {},
   "outputs": [
    {
     "name": "stdout",
     "output_type": "stream",
     "text": [
      "[0.25, 0.5, 0.75, 1.0, 1.25, 1.5, 1.75, 2.0, 2.25, 2.5, 2.75, 3.0, 3.25, 3.5, 3.75, 4.0, 4.25, 4.5, 4.75, 5.0, 5.25, 5.5, 5.75, 6.0, 6.25, 6.5, 6.75, 7.0, 7.25, 7.5, 7.75, 8.0, 8.25, 8.5, 8.75, 9.0, 9.25, 9.5, 9.75, 10.0]\n",
      "40\n"
     ]
    }
   ],
   "source": [
    "print(c)\n",
    "print(len(c))"
   ]
  },
  {
   "cell_type": "code",
   "execution_count": 85,
   "metadata": {},
   "outputs": [],
   "source": [
    "d=[x*x for x in range(1,41,1)]"
   ]
  },
  {
   "cell_type": "code",
   "execution_count": 86,
   "metadata": {},
   "outputs": [
    {
     "name": "stdout",
     "output_type": "stream",
     "text": [
      "[1, 4, 9, 16, 25, 36, 49, 64, 81, 100, 121, 144, 169, 196, 225, 256, 289, 324, 361, 400, 441, 484, 529, 576, 625, 676, 729, 784, 841, 900, 961, 1024, 1089, 1156, 1225, 1296, 1369, 1444, 1521, 1600]\n",
      "40\n"
     ]
    }
   ],
   "source": [
    "print(d)\n",
    "print(len(d))"
   ]
  },
  {
   "cell_type": "code",
   "execution_count": 91,
   "metadata": {},
   "outputs": [
    {
     "name": "stdout",
     "output_type": "stream",
     "text": [
      "40\n"
     ]
    }
   ],
   "source": [
    "e=[2**x for x in range(0,40,1)]\n",
    "print(len(e))"
   ]
  },
  {
   "cell_type": "code",
   "execution_count": 92,
   "metadata": {},
   "outputs": [
    {
     "name": "stdout",
     "output_type": "stream",
     "text": [
      "[1, 2, 4, 8, 16, 32, 64, 128, 256, 512, 1024, 2048, 4096, 8192, 16384, 32768, 65536, 131072, 262144, 524288, 1048576, 2097152, 4194304, 8388608, 16777216, 33554432, 67108864, 134217728, 268435456, 536870912, 1073741824, 2147483648, 4294967296, 8589934592, 17179869184, 34359738368, 68719476736, 137438953472, 274877906944, 549755813888]\n"
     ]
    }
   ],
   "source": [
    "print(e)"
   ]
  },
  {
   "cell_type": "code",
   "execution_count": 95,
   "metadata": {},
   "outputs": [
    {
     "name": "stdout",
     "output_type": "stream",
     "text": [
      "[1, -2, 4, -8, 16, -32, 64, -128, 256, -512, 1024, -2048, 4096, -8192, 16384, -32768, 65536, -131072, 262144, -524288, 1048576, -2097152, 4194304, -8388608, 16777216, -33554432, 67108864, -134217728, 268435456, -536870912, 1073741824, -2147483648, 4294967296, -8589934592, 17179869184, -34359738368, 68719476736, -137438953472, 274877906944, -549755813888]\n",
      "40\n"
     ]
    }
   ],
   "source": [
    "f=[(2**x)*((-1)**x) for x in range(0,40,1)]\n",
    "print(f)\n",
    "print(len(f))"
   ]
  },
  {
   "cell_type": "code",
   "execution_count": 96,
   "metadata": {},
   "outputs": [],
   "source": [
    "g=[(5**x)/4 for x in range(0,40,1)]"
   ]
  },
  {
   "cell_type": "code",
   "execution_count": 97,
   "metadata": {},
   "outputs": [
    {
     "name": "stdout",
     "output_type": "stream",
     "text": [
      "[0.25, 1.25, 6.25, 31.25, 156.25, 781.25, 3906.25, 19531.25, 97656.25, 488281.25, 2441406.25, 12207031.25, 61035156.25, 305175781.25, 1525878906.25, 7629394531.25, 38146972656.25, 190734863281.25, 953674316406.25, 4768371582031.25, 23841857910156.25, 119209289550781.25, 596046447753906.2, 2980232238769531.0, 1.4901161193847656e+16, 7.450580596923829e+16, 3.725290298461914e+17, 1.862645149230957e+18, 9.313225746154785e+18, 4.656612873077392e+19, 2.3283064365386963e+20, 1.1641532182693481e+21, 5.820766091346741e+21, 2.91038304567337e+22, 1.4551915228366851e+23, 7.275957614183426e+23, 3.637978807091713e+24, 1.8189894035458564e+25, 9.094947017729282e+25, 4.547473508864641e+26]\n",
      "40\n"
     ]
    }
   ],
   "source": [
    "print(g)\n",
    "print(len(g))"
   ]
  },
  {
   "cell_type": "markdown",
   "metadata": {},
   "source": [
    "## 21. La lista del mercado. Se tiene una lista de productos que se vende en un mercado: \n",
    "frutas=[‘peras’, ‘naranjas’, ‘papaya’, ‘ciruelas’, ‘manzanas’, ‘chicozapotes’, ‘uvas’, ‘mandarinas’]\n",
    "Los precios por kilogramo de los productos del mercado, según el orden dado en la lista de 'frutas', son\n",
    "los siguientes:\n",
    "precios= [31.50,8.50,15.40,25.30,18.80,32.20,21.40,6.50]\n",
    "Si un cliente compra las siguientes cantidades de productos en kilogramos, según el orden dado en la\n",
    "lista de 'frutas' ,\n",
    "compras= [1,3,3.50,0,2,2,1.5,0]\n",
    "¿Cuánto debe pagar el cliente en total?"
   ]
  },
  {
   "cell_type": "code",
   "execution_count": 99,
   "metadata": {},
   "outputs": [],
   "source": [
    "precios= [31.50,8.50,15.40,25.30,18.80,32.20,21.40,6.50]\n",
    "compras= [1,3,3.50,0,2,2,1.5,0]\n",
    "listamercado=[p*c for p,c in zip(precios,compras)]"
   ]
  },
  {
   "cell_type": "code",
   "execution_count": 100,
   "metadata": {},
   "outputs": [
    {
     "data": {
      "text/plain": [
       "[31.5, 25.5, 53.9, 0.0, 37.6, 64.4, 32.099999999999994, 0.0]"
      ]
     },
     "execution_count": 100,
     "metadata": {},
     "output_type": "execute_result"
    }
   ],
   "source": [
    "listamercado"
   ]
  },
  {
   "cell_type": "code",
   "execution_count": 103,
   "metadata": {},
   "outputs": [
    {
     "name": "stdout",
     "output_type": "stream",
     "text": [
      "245.0\n"
     ]
    }
   ],
   "source": [
    "totalapagar=sum(listamercado)\n",
    "print(totalapagar)"
   ]
  },
  {
   "cell_type": "code",
   "execution_count": null,
   "metadata": {},
   "outputs": [],
   "source": []
  }
 ],
 "metadata": {
  "kernelspec": {
   "display_name": "Python 3",
   "language": "python",
   "name": "python3"
  },
  "language_info": {
   "codemirror_mode": {
    "name": "ipython",
    "version": 3
   },
   "file_extension": ".py",
   "mimetype": "text/x-python",
   "name": "python",
   "nbconvert_exporter": "python",
   "pygments_lexer": "ipython3",
   "version": "3.6.5"
  }
 },
 "nbformat": 4,
 "nbformat_minor": 2
}
