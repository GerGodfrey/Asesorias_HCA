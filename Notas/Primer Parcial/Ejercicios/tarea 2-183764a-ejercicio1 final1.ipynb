{
 "cells": [
  {
   "cell_type": "markdown",
   "metadata": {},
   "source": [
    "# Ejercicio 1"
   ]
  },
  {
   "cell_type": "markdown",
   "metadata": {},
   "source": [
    " Si se consideran las alturas sobre el nivel del piso de la Torre Mayor del Paseo de la Reforma (aprox. 226 m.) y el obelisco del ITAM (aprox. 18 m.), situado en el paso del Estacionamiento de Maestros a la Plaza de las Palmeras, ¿Cuántas veces cabe el obelisco en la torre? Escriba su respuesta de dos maneras: i) Con un valor numérico aproximado con decimales ii) Con un valor racional exacto, mostrando un valor entero (cantidad de obeliscos enteros) y un valor racional (una fracción propia de obelisco). \n",
    " "
   ]
  },
  {
   "cell_type": "code",
   "execution_count": null,
   "metadata": {},
   "outputs": [],
   "source": [
    "a=226/18\n",
    "int(a)"
   ]
  },
  {
   "cell_type": "code",
   "execution_count": null,
   "metadata": {},
   "outputs": [],
   "source": [
    "226/18"
   ]
  },
  {
   "cell_type": "markdown",
   "metadata": {},
   "source": [
    "# Ejercicio 2"
   ]
  },
  {
   "cell_type": "markdown",
   "metadata": {},
   "source": [
    " De acuerdo con la organización internacional Food and Agriculture Organization (FAO), en el año 2017 la producción mundial anual de trigo fue de 771.7 millones de toneladas métricas, donde cada tonelada métrica equivale a 1000 kg, y podemos considerar que 1000 granos de trigo pesan 0.030 kg en promedio (esto es una consideración aproximada), ¿Cuántos granos de trigo tuvo la producción mundial anual en 2017?\" \n"
   ]
  },
  {
   "cell_type": "code",
   "execution_count": null,
   "metadata": {},
   "outputs": [],
   "source": [
    "A=771.7*1000\n",
    "B=A*1000/0.030\n",
    "int(B)\n",
    "print(\"granos de trigo son {0}\".format(B))"
   ]
  },
  {
   "cell_type": "markdown",
   "metadata": {},
   "source": [
    "# Ejercico 3"
   ]
  },
  {
   "cell_type": "markdown",
   "metadata": {},
   "source": [
    "\n",
    " 3. En una empresa textil, 25 sastres fabrican 45 pantalones en un día de trabajo, ¿Cuántos pantalones fabricarán 60 sastres en un día de trabajo? \n",
    " "
   ]
  },
  {
   "cell_type": "code",
   "execution_count": null,
   "metadata": {},
   "outputs": [],
   "source": [
    "unsastre=45/25\n",
    "total=unsastre*60\n",
    "t=int(total)\n",
    "print(\"pantalones \", t)"
   ]
  },
  {
   "cell_type": "markdown",
   "metadata": {},
   "source": [
    "# Ejercicio 4"
   ]
  },
  {
   "cell_type": "markdown",
   "metadata": {},
   "source": [
    "4. Si 1 y media gallinas producen dos y medio huevos en cinco días, ¿cuántos huevos produce una gallina en seis días"
   ]
  },
  {
   "cell_type": "code",
   "execution_count": null,
   "metadata": {},
   "outputs": [],
   "source": [
    "gallinaundia=2.5/1.5\n",
    "gallinaseisdias=gallinaundia*6\n",
    "int(gallinaseisdias)\n",
    "print(\"gallinas {0}\".format(gallinaseisdias))"
   ]
  },
  {
   "cell_type": "markdown",
   "metadata": {},
   "source": [
    "# Ejercicio 5"
   ]
  },
  {
   "cell_type": "markdown",
   "metadata": {},
   "source": [
    "Si en una fábrica, 48 obreros (todos ellos igualmente calificados) ensamblan 30 motores en 10 días de trabajo, ¿Cuántos motores ensamblarán 42 obreros en 8 días de trabajo"
   ]
  },
  {
   "cell_type": "code",
   "execution_count": null,
   "metadata": {},
   "outputs": [],
   "source": [
    "trabajadores42aldia=42*3/48\n",
    "trabajadoresen8dias=trabajadores42aldia*8\n",
    "int(trabajadoresen8dias)\n",
    "print(\"motores {0}\".format(trabajadoresen8dias))"
   ]
  },
  {
   "cell_type": "markdown",
   "metadata": {},
   "source": [
    "# Ejercicio 6"
   ]
  },
  {
   "cell_type": "markdown",
   "metadata": {},
   "source": [
    " Actualmente Juanita tiene una cuenta de banco con $1,256.757 donde acaban de ser abonados los intereses correspondientes al mes pasado, calculados con una tasa de interés mensual de 0.14 % (cero punto catorce por ciento).  Si no se hicieron otros depósitos distintos de los intereses del banco, ¿Cuál era la cantidad que Juanita tenía al inicio del mes pasado?\" \n",
    " "
   ]
  },
  {
   "cell_type": "code",
   "execution_count": null,
   "metadata": {},
   "outputs": [],
   "source": [
    "cantidadinicial=100*1256.757/100.14\n",
    "print(\"cantidad inicial {0}\".format(cantidadinicial))"
   ]
  },
  {
   "cell_type": "markdown",
   "metadata": {},
   "source": [
    "# Ejercicio 7"
   ]
  },
  {
   "cell_type": "markdown",
   "metadata": {},
   "source": [
    "En la mueblería El Diván, S.A., el precio final de un comedor para el público en general es de $44,244.25 (cuarenta y cuatro mil doscientos cuarenta y cuatro pesos con 25 centavos), incluyendo el impuesto al valor agregado (IVA) de 16%. Responda las dos siguientes preguntas, considerando que todos los muebles vendidos en la tienda están gravados con una tasa de impuesto IVA de 16 % y recuerde que la tasa de impuesto incrementa el precio y es aplicada al subtotal con todos los descuentos, i) ¿Cuál es el precio del comedor antes de aplicar el impuesto? ii) Para los empleados de la mueblería, se ofrece un descuento especial de 16% sobre el precio sin impuesto ¿Cuál es el precio final, con el descuento y el impuesto, del comedor si un empleado es quien lo compra"
   ]
  },
  {
   "cell_type": "code",
   "execution_count": null,
   "metadata": {},
   "outputs": [],
   "source": [
    "precioconimpuesto=44244\n",
    "Preciosinimpuesto=100*precioconimpuesto/116\n",
    "print(\"El precio sin impuesto es {:,.2f}\".format(Preciosinimpuesto), \"pesos\")"
   ]
  },
  {
   "cell_type": "code",
   "execution_count": null,
   "metadata": {},
   "outputs": [],
   "source": [
    "Preciosinimpuesto=38141.59\n",
    "Descuentotrabajadores=Preciosinimpuesto*84/100\n",
    "print(\"El precio de los trabajadores es {:,.2f}\".format(Descuentotrabajadores), \"$\")"
   ]
  },
  {
   "cell_type": "markdown",
   "metadata": {},
   "source": [
    "# Ejercicio 8"
   ]
  },
  {
   "cell_type": "markdown",
   "metadata": {},
   "source": [
    "8. Ya comenzó la temporada de descuentos de una tienda de electrodomésticos; los precios de algunos artículos han sido rebajados y etiquetados nuevamente. i) Si el precio de un refrigerador era 9,534.25 antes de iniciada la temporada, y ahora tiene una etiqueta del 27.5 por ciento de descuento ¿Qué precio tiene el refrigerador?   ii) Si un cliente pagó 5,235.75 por un horno de microondas con un descuento de 33.5% ¿Qué precio tenía el horno antes de iniciada la temporada de descuentos? iii) ¿Qué porcentaje de descuento debe aplicarse a un artículo para que el precio sea rebajado de 5,355.20 a 4,225.50?"
   ]
  },
  {
   "cell_type": "code",
   "execution_count": null,
   "metadata": {},
   "outputs": [],
   "source": [
    "precio1=9534.25\n",
    "Precio2=precio1*72.5/100\n",
    "print(\"El precio con descuento es {:,.2f}\".format(Precio2), \"$\")"
   ]
  },
  {
   "cell_type": "code",
   "execution_count": null,
   "metadata": {},
   "outputs": [],
   "source": [
    "precio1=5235.75\n",
    "precio2=precio1*100/66.5\n",
    "precioint=int(precio2)\n",
    "print(\"Precio antes de descuento \", precioint)"
   ]
  },
  {
   "cell_type": "code",
   "execution_count": null,
   "metadata": {},
   "outputs": [],
   "source": [
    "Precio1=5355.20\n",
    "Precio2=4255.50\n",
    "Porcentaje=Precio2*100/Precio1\n",
    "Porcentajeint=int(Porcentaje)\n",
    "print(\"El descuento que debe aplicarse es \", 100-Porcentajeint, \"%\")"
   ]
  },
  {
   "cell_type": "code",
   "execution_count": null,
   "metadata": {},
   "outputs": [],
   "source": [
    "import math"
   ]
  },
  {
   "cell_type": "code",
   "execution_count": null,
   "metadata": {},
   "outputs": [],
   "source": [
    "numero=7\n",
    "math.sqrt(9)"
   ]
  },
  {
   "cell_type": "code",
   "execution_count": null,
   "metadata": {},
   "outputs": [],
   "source": [
    "import sys"
   ]
  },
  {
   "cell_type": "code",
   "execution_count": null,
   "metadata": {},
   "outputs": [],
   "source": [
    "sys.version"
   ]
  },
  {
   "cell_type": "code",
   "execution_count": null,
   "metadata": {},
   "outputs": [],
   "source": [
    "import math as m\n",
    "m."
   ]
  },
  {
   "cell_type": "code",
   "execution_count": null,
   "metadata": {},
   "outputs": [],
   "source": [
    "from math import sqrt"
   ]
  },
  {
   "cell_type": "code",
   "execution_count": null,
   "metadata": {},
   "outputs": [],
   "source": [
    "# importar la función mágica\n",
    "%pylab"
   ]
  },
  {
   "cell_type": "code",
   "execution_count": null,
   "metadata": {},
   "outputs": [],
   "source": [
    "print (\"Tu calificación final es de \", round(9.9))"
   ]
  },
  {
   "cell_type": "markdown",
   "metadata": {},
   "source": [
    "### Realiza un programa que pida una calificación y que se escriba \"NA\" o la calificacion entera segun corresponda"
   ]
  },
  {
   "cell_type": "code",
   "execution_count": 5,
   "metadata": {},
   "outputs": [
    {
     "name": "stdout",
     "output_type": "stream",
     "text": [
      "Dame tu calificaciòn4\n",
      "NA\n"
     ]
    }
   ],
   "source": [
    "x=float(input(\"Dame tu calificaciòn\"))\n",
    "if x>=6:\n",
    "    print(int(x))\n",
    "else:\n",
    "    print(\"NA\")"
   ]
  },
  {
   "cell_type": "markdown",
   "metadata": {},
   "source": [
    "# Ejercicio 9"
   ]
  },
  {
   "cell_type": "markdown",
   "metadata": {},
   "source": [
    "9.El gerente de la tienda de ropa notó que las utilidades mensuales fueron $114,847.47, lo cual corresponde a una disminución de 0.15 porciento (cero punto quince por ciento) con respecto a las utilidades del mes pasado,¿Cuál fue el valor delas utilidades del mes pasado?"
   ]
  },
  {
   "cell_type": "code",
   "execution_count": null,
   "metadata": {},
   "outputs": [],
   "source": [
    "utilidadactual=114847.47\n",
    "utilidadmespasado=utilidadactual*100/85\n",
    "print(\"Tu utilidad del mes pasado es\", utilidadmespasado, \"$\")"
   ]
  },
  {
   "cell_type": "markdown",
   "metadata": {},
   "source": [
    "# Ejercicio 10"
   ]
  },
  {
   "cell_type": "markdown",
   "metadata": {},
   "source": [
    "10.Una tienda ofrece descuentos a sus clientes de acuerdo a la siguiente política(los descuentos son aplicados antes del impuesto al consumo, IVA):5%, si elmonto de compra es inferior a $ 800.00;15porciento, si el monto de compra es mayor o igual a $ 800.00 y menor a $ 1,500.00;25porciento, si el monto de compra es mayor o igual a $ 1,500.00.  a)Escriba una función que use como entrada un valor del monto de compra, y calcule como salida el precio pagado por elcliente con el descuento incluido y el impuesto IVA (16%) según el criterio dado.b)Aplique la función creada a los montos dados en la siguiente listade montos:1500.00, 224.50, 525.00, 2000.00, 1250.00, 825.00"
   ]
  },
  {
   "cell_type": "code",
   "execution_count": 6,
   "metadata": {},
   "outputs": [
    {
     "name": "stdout",
     "output_type": "stream",
     "text": [
      "Dame tu numero50000\n",
      "43500.0\n"
     ]
    }
   ],
   "source": [
    "x=(int(input(\"Dame tu numero\")))\n",
    "if x<800:\n",
    "    x=((x*95)/100)*1.16\n",
    "elif x>=800 and x<=1500:\n",
    "    x=((x*85)/100)*1.16\n",
    "else:\n",
    "    x=((x*75)/100)*1.16\n",
    "print(x)"
   ]
  },
  {
   "cell_type": "markdown",
   "metadata": {},
   "source": [
    "# Ejercicio 11"
   ]
  },
  {
   "cell_type": "markdown",
   "metadata": {},
   "source": [
    "11.Para el 30 de junio de 2017, la cantidad total estimada de usuarios de Internet en el mundo era 3,885,567,619 personas**.  Si suponemos que esta cantidad es resultado de un incremento anual de 11.5% con respecto a la cantidad de usuarios que había el 30 de junio de 2016 (un año antes),¿En promedio, cuántas personas nuevas se agregaron al grupo de usuarios de Internet cada segundo del año, del 30 de junio de 2016 al 30 de junio del 2017? ¿Es 2017 un año bisiesto?"
   ]
  },
  {
   "cell_type": "code",
   "execution_count": null,
   "metadata": {},
   "outputs": [],
   "source": [
    "usuario2017=3885567619\n",
    "usuario2016=usuario2017*100/115.5\n",
    "segundosalaño=365*24*60*60\n",
    "usuariosporsegundo=usuario2016/segundosalaño\n",
    "print (\"Los segundos al año son \", usuariosporsegundo)\n",
    "if 2017%4==0 and 2017%100!=0:\n",
    "    print(\"2017 es bisiesto\")"
   ]
  },
  {
   "cell_type": "code",
   "execution_count": null,
   "metadata": {},
   "outputs": [],
   "source": []
  }
 ],
 "metadata": {
  "kernelspec": {
   "display_name": "Python 3",
   "language": "python",
   "name": "python3"
  },
  "language_info": {
   "codemirror_mode": {
    "name": "ipython",
    "version": 3
   },
   "file_extension": ".py",
   "mimetype": "text/x-python",
   "name": "python",
   "nbconvert_exporter": "python",
   "pygments_lexer": "ipython3",
   "version": "3.6.5"
  }
 },
 "nbformat": 4,
 "nbformat_minor": 2
}
