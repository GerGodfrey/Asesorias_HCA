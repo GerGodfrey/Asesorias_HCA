{
 "cells": [
  {
   "cell_type": "markdown",
   "metadata": {},
   "source": [
    "## Ejercicio de Ciclos (for-while)"
   ]
  },
  {
   "cell_type": "markdown",
   "metadata": {},
   "source": [
    "## Ejercicio 1\n",
    "\n",
    "Genera una lista con 30 elementos con saltos de uno en uno"
   ]
  },
  {
   "cell_type": "code",
   "execution_count": 29,
   "metadata": {},
   "outputs": [
    {
     "name": "stdout",
     "output_type": "stream",
     "text": [
      "[0, 2, 4, 6, 8, 10, 12, 14, 16, 18, 20, 22, 24, 26, 28, 30, 32, 34, 36, 38, 40, 42, 44, 46, 48, 50, 52, 54, 56, 58]\n"
     ]
    }
   ],
   "source": [
    "lista = list(range(0,60,2))\n",
    "print(lista)"
   ]
  },
  {
   "cell_type": "markdown",
   "metadata": {},
   "source": [
    "Recorre la lista e imprime el elemento leído hasta encontrar el número 36."
   ]
  },
  {
   "cell_type": "code",
   "execution_count": 30,
   "metadata": {},
   "outputs": [
    {
     "name": "stdout",
     "output_type": "stream",
     "text": [
      "0\n",
      "2\n",
      "4\n",
      "6\n",
      "8\n",
      "10\n",
      "12\n",
      "14\n",
      "16\n",
      "18\n",
      "20\n",
      "22\n",
      "24\n",
      "26\n",
      "28\n",
      "30\n",
      "32\n",
      "34\n"
     ]
    }
   ],
   "source": [
    "indice = 0\n",
    "while (lista[indice] != 36):\n",
    "    print(lista[indice])\n",
    "    indice = indice + 1"
   ]
  },
  {
   "cell_type": "markdown",
   "metadata": {},
   "source": [
    "## Ejercicio 2 *\n",
    "\n",
    "Ocupa la función `range` para facilitar la creación de las siguientes listas:\n",
    "\n",
    "#### a) 2,4,6,8,...,78,80\n",
    "#### b) 3,5,7,9,11,13,...\n",
    "#### c) 0.25, 0.5, 0.75, 1.0, 1.25, 1.5,...\n",
    "#### d) 1, 4, 9, 16, 25, 36,...\n",
    "#### e) 1, 2, 4, 8, 16, 32,...\n",
    "#### f)  1, -2, 4, -8, 16, -32,...\n",
    "#### g) 0.25, 1.25, 6.25, 31.25, 156.25, 781.25,...\n"
   ]
  },
  {
   "cell_type": "code",
   "execution_count": 32,
   "metadata": {},
   "outputs": [
    {
     "name": "stdout",
     "output_type": "stream",
     "text": [
      "[2, 4, 6, 8, 10, 12, 14, 16, 18, 20, 22, 24, 26, 28, 30, 32, 34, 36, 38, 40, 42, 44, 46, 48, 50, 52, 54, 56, 58, 60, 62, 64, 66, 68, 70, 72, 74, 76, 78, 80]\n",
      "-------------------------------------\n",
      "[3, 5, 7, 9, 11, 13, 15, 17, 19, 21, 23, 25, 27, 29, 31, 33, 35, 37, 39, 41, 43, 45, 47, 49, 51, 53, 55, 57, 59, 61, 63, 65, 67, 69, 71, 73, 75, 77, 79, 81]\n",
      "-------------------------------------\n",
      "[0.0, 0.25, 0.5, 0.75, 1.0, 1.25, 1.5, 1.75, 2.0, 2.25, 2.5, 2.75, 3.0, 3.25, 3.5, 3.75, 4.0, 4.25, 4.5, 4.75, 5.0, 5.25, 5.5, 5.75, 6.0, 6.25, 6.5, 6.75, 7.0, 7.25, 7.5, 7.75, 8.0, 8.25, 8.5, 8.75, 9.0, 9.25, 9.5, 9.75]\n",
      "-------------------------------------\n",
      "[1, 4, 9, 16, 25, 36, 49, 64, 81, 100, 121, 144, 169, 196, 225, 256, 289, 324, 361, 400, 441, 484, 529, 576, 625, 676, 729, 784, 841, 900, 961, 1024, 1089, 1156, 1225, 1296, 1369, 1444, 1521]\n",
      "-------------------------------------\n",
      "[1, 2, 4, 8, 16, 32, 64, 128, 256, 512, 1024, 2048, 4096, 8192, 16384, 32768, 65536, 131072, 262144, 524288, 1048576, 2097152, 4194304, 8388608, 16777216, 33554432, 67108864, 134217728, 268435456, 536870912, 1073741824, 2147483648, 4294967296, 8589934592, 17179869184, 34359738368, 68719476736, 137438953472, 274877906944, 549755813888]\n",
      "-------------------------------------\n",
      "[1, -2, 4, -8, 16, -32, 64, -128, 256, -512, 1024, -2048, 4096, -8192, 16384, -32768, 65536, -131072, 262144, -524288, 1048576, -2097152, 4194304, -8388608, 16777216, -33554432, 67108864, -134217728, 268435456, -536870912, 1073741824, -2147483648, 4294967296, -8589934592, 17179869184, -34359738368, 68719476736, -137438953472, 274877906944, -549755813888]\n",
      "-------------------------------------\n",
      "[0.25, 1.25, 6.25, 31.25, 156.25, 781.25, 3906.25, 19531.25, 97656.25, 488281.25, 2441406.25]\n",
      "-------------------------------------\n"
     ]
    }
   ],
   "source": [
    "listaA  = list(range(2,82,2))\n",
    "print( listaA )\n",
    "print (\"-------------------------------------\")\n",
    "listaB  = list(range(3,83,2))\n",
    "print( listaB )\n",
    "print (\"-------------------------------------\")\n",
    "listaC = [x * .25 for x in list ( range(0,40)) ]\n",
    "print(listaC)\n",
    "print (\"-------------------------------------\")\n",
    "y= 3\n",
    "listaD  = [valor**2   for valor  in list(range(1,40,1)) ]\n",
    "print (listaD)\n",
    "print (\"-------------------------------------\")\n",
    "#EXPONENTE\n",
    "listaE  = [2**x   for x  in list(range(0,40)) ]\n",
    "print( listaE )\n",
    "print (\"-------------------------------------\")\n",
    "listaF = [ (2**x) * ((-1)**x)  for x  in list(range(0,40)) ]\n",
    "print (listaF)\n",
    "print (\"-------------------------------------\")\n",
    "listaG  = [(5**x)/4   for x  in list(range(0,11,1)) ]\n",
    "print(listaG)\n",
    "print (\"-------------------------------------\")"
   ]
  },
  {
   "cell_type": "markdown",
   "metadata": {},
   "source": [
    "## Ejercicio 3\n",
    "\n",
    "Ocupa la función `range` para facilitar la creación de las siguientes listas con 20 elementos cada una:\n",
    "\n",
    "#### a) 10,20,30,...,200\n",
    "#### b) 2.5, 5.0, 7.5, 10.0, 12.5, ... , 50\n"
   ]
  },
  {
   "cell_type": "code",
   "execution_count": 36,
   "metadata": {},
   "outputs": [
    {
     "name": "stdout",
     "output_type": "stream",
     "text": [
      "[10, 20, 30, 40, 50, 60, 70, 80, 90, 100, 110, 120, 130, 140, 150, 160, 170, 180, 190, 200]\n",
      "Número de elementos:  20\n",
      "-------------------------------------\n",
      "[2.5, 5.0, 7.5, 10.0, 12.5, 15.0, 17.5, 20.0, 22.5, 25.0, 27.5, 30.0, 32.5, 35.0, 37.5, 40.0, 42.5, 45.0, 47.5, 50.0]\n",
      "-------------------------------------\n"
     ]
    }
   ],
   "source": [
    "listaA  = list(range(10,210,10))\n",
    "print( listaA )\n",
    "print(\"Número de elementos: \" , len(listaA))\n",
    "print (\"-------------------------------------\")\n",
    "listaB = [x/4 for x in list ( range(10,210,10)) ]\n",
    "print(listaB)\n",
    "print (\"-------------------------------------\")"
   ]
  },
  {
   "cell_type": "markdown",
   "metadata": {},
   "source": [
    "## Ejercicio 4\n",
    "\n",
    "Genere exactamente 100 elementos de la sucesión sugerida:\n",
    "\n",
    "#### 0, 2, 12, 36, 80, 150, 252, ... , 980100\n",
    "\n",
    "\n",
    "- 0 es  (1 * 0^2),\n",
    "- 2 es  (2 * 1^2), \n",
    "- 12 es (3 * 2^2),\n",
    "- etc. "
   ]
  },
  {
   "cell_type": "code",
   "execution_count": 49,
   "metadata": {},
   "outputs": [
    {
     "name": "stdout",
     "output_type": "stream",
     "text": [
      "[0, 2, 12, 36, 80, 150, 252, 392, 576, 810, 1100, 1452, 1872, 2366, 2940, 3600, 4352, 5202, 6156, 7220, 8400, 9702, 11132, 12696, 14400, 16250, 18252, 20412, 22736, 25230, 27900, 30752, 33792, 37026, 40460, 44100, 47952, 52022, 56316, 60840, 65600, 70602, 75852, 81356, 87120, 93150, 99452, 106032, 112896, 120050, 127500, 135252, 143312, 151686, 160380, 169400, 178752, 188442, 198476, 208860, 219600, 230702, 242172, 254016, 266240, 278850, 291852, 305252, 319056, 333270, 347900, 362952, 378432, 394346, 410700, 427500, 444752, 462462, 480636, 499280, 518400, 538002, 558092, 578676, 599760, 621350, 643452, 666072, 689216, 712890, 737100, 761852, 787152, 813006, 839420, 866400, 893952, 922082, 950796, 980100]\n"
     ]
    },
    {
     "data": {
      "text/plain": [
       "100"
      ]
     },
     "execution_count": 49,
     "metadata": {},
     "output_type": "execute_result"
    }
   ],
   "source": [
    "lista  = [x*((x-1)**2)for x in list (range (1, 101))]\n",
    "print (lista)\n",
    "len (lista)"
   ]
  },
  {
   "cell_type": "markdown",
   "metadata": {},
   "source": [
    "## Ejercicio 5\n",
    "\n",
    "a) En la primera lista esta la cantidad de productos en un carrito online, [5,3,7,5,6]; en la segunda se guardan los precios correspondientes, [1200,100,877,99.99,30].  \n",
    "Calcula cuál es el monto que se le retirará de tu tarjeta de crédito.\n",
    "\n",
    "b) ¿Cuál es el costo promedio? "
   ]
  },
  {
   "cell_type": "code",
   "execution_count": 3,
   "metadata": {},
   "outputs": [
    {
     "name": "stdout",
     "output_type": "stream",
     "text": [
      "13118.95\n"
     ]
    }
   ],
   "source": [
    "cantidades = [5,3,7,5,6]\n",
    "costos = [1200,100,877,99.99,30]\n",
    "\n",
    "lista_multi = [a*b for a,b in zip(cantidades, costos)]\n",
    "tot = sum ( lista_multi)\n",
    "print (tot)"
   ]
  },
  {
   "cell_type": "code",
   "execution_count": 4,
   "metadata": {},
   "outputs": [
    {
     "name": "stdout",
     "output_type": "stream",
     "text": [
      "461.39799999999997\n"
     ]
    }
   ],
   "source": [
    "t = len ( costos)\n",
    "suma = sum (costos)\n",
    "promedio = suma / t\n",
    "print (promedio)"
   ]
  },
  {
   "cell_type": "markdown",
   "metadata": {},
   "source": [
    "## Ejercicio 6\n",
    "\n",
    "Se tiene una lista de productos de amazon:\n",
    "\n",
    "['freidora de aire', 'Xbox One x', 'toalla de batman', 'cartera', 'drone', 'Mochila', 'uvas de juguete'];\n",
    "\n",
    "Precios de cada producto están ordenados correspondientemente:\n",
    "\n",
    "[2080.50, 10000.50, 421.40, 349.30, 2499.00, 799.00, 21.40]\n",
    "\n",
    "Juan compró la siguiente cantidad por producto:\n",
    "\n",
    "[0, 1, 0, 0, 2, 0, 1]\n",
    "\n",
    "Luis compró lo siguiente: \n",
    "\n",
    "[1, 0, 8, 8, 1, 8, 100]\n",
    "\n",
    "¿Quién gastó más?\n"
   ]
  },
  {
   "cell_type": "code",
   "execution_count": 10,
   "metadata": {},
   "outputs": [],
   "source": [
    "precios = [2080.50, 10000.50, 421.40, 349.30, 2499.00, 799.00, 21.40]\n",
    "juan = [0, 1, 0, 5, 2, 0, 1]\n",
    "luis = [1, 0, 8, 8, 1, 8, 100]\n",
    "\n",
    "totalJuan = sum( [precios[i] * juan[i] for i in  list( range(0,len(precios)) )]  )\n",
    "totalLuis = sum( [precios[i] * luis[i] for i in  list( range(0,len(precios)) )]  )\n",
    "\n"
   ]
  },
  {
   "cell_type": "code",
   "execution_count": 11,
   "metadata": {},
   "outputs": [
    {
     "name": "stdout",
     "output_type": "stream",
     "text": [
      "16766.4\n",
      "19277.1\n"
     ]
    }
   ],
   "source": [
    "print(totalJuan)\n",
    "print(totalLuis)"
   ]
  },
  {
   "cell_type": "markdown",
   "metadata": {},
   "source": [
    "## Ejercicio 7\n",
    "\n",
    "Gerardo empezo a invertir en una institución llamada 'AGÑ' el cuál le promete un rendimiento diferente por los primeros 7 meses. Si Gerardo inicia con una inversión de $10,000.00 y las tasas de rendimiento netas son del : 30%, 20%,10%,50%,40%,30% y 30%. ¿Cuál es el monto que tendrá al final Gerardo si todo sale bien?\n",
    "\n",
    "a) Resuelve el problema tomando cada valor de la lista implícita en el problema\n",
    "\n",
    "b) Resuelve el problema por medio del índice de la lista implícita en el problema\n"
   ]
  },
  {
   "cell_type": "code",
   "execution_count": 23,
   "metadata": {},
   "outputs": [
    {
     "name": "stdout",
     "output_type": "stream",
     "text": [
      "60900.840000000004\n"
     ]
    }
   ],
   "source": [
    "#a \n",
    "lista_final = []\n",
    "invInicial = 10000\n",
    "lista = [.30,.20,.10,.50,.40,.30,.30]\n",
    "\n",
    "for x in lista : \n",
    "    invInicial = invInicial + (invInicial * x)\n",
    "    \n",
    "print(invInicial)"
   ]
  },
  {
   "cell_type": "code",
   "execution_count": 25,
   "metadata": {},
   "outputs": [
    {
     "name": "stdout",
     "output_type": "stream",
     "text": [
      "60900.840000000004\n"
     ]
    }
   ],
   "source": [
    "#b\n",
    "lista_final = []\n",
    "invInicial = 10000\n",
    "lista = [.30,.20,.10,.50,.40,.30,.30]\n",
    "\n",
    "for x in range(0,7,1) :\n",
    "    invInicial = invInicial + (invInicial * lista[x])\n",
    "    \n",
    "print(invInicial)"
   ]
  },
  {
   "cell_type": "markdown",
   "metadata": {},
   "source": [
    "## Ejercicio 8 *\n",
    "\n",
    "Encuentre el conjunto de símbolos tipográficos (letras, espacios, signos de puntuación, etc.) que aparecen en el texto de Sor Juana Inés de la Cruz que se escribe abajo y calcule la cantidad de estos símbolos que hay en el conjunto. El texto es el siguiente:\n",
    "\n",
    "Si ves el ciervo herido/Que baja por el monte, acelerado/Buscando dolorido/Alivio del mal en un arroyo helado,/Y sediento al cristal se precipita,/No en el alivio en el dolor me imita,/Si la liebre encogida/Huye medrosa de los galgos fieros,/Y por salvar la vida/No deja estampa de los pies ligeros,/Tal mi esperanza en dudas y recelos/Se ve acosa de villanos celos.\n",
    "\n",
    "- a) Defina el conjunto de símbolos tipográficos (letras, espacios, signos de puntuación, etc.) que aparecen en el texto.\n",
    "- b) Calcule la cantidad de símbolos que hay en el conjunto definido en a); es decir, la cantidad de elementos del conjunto.\n",
    "- c) ¿Cuántas veces aparece la letra 'a', en letra minúscula o mayúscula, en la escritura del texto?\n",
    "- d) ¿Cuántas veces aparecen las dos letras 'er' (seguidas), en letra minúscula o mayúscula, en la escritura del texto? ¿Y cuántas las letras 'el'?"
   ]
  },
  {
   "cell_type": "code",
   "execution_count": 26,
   "metadata": {},
   "outputs": [
    {
     "name": "stdout",
     "output_type": "stream",
     "text": [
      "36\n"
     ]
    }
   ],
   "source": [
    "texto = 'Si ves el ciervo herido/Que baja por el monte, acelerado/Buscando dolorido/Alivio del mal en un arroyo helado,/Y sediento al cristal se precipita,/No en el alivio en el dolor me imita,/Si la liebre encogida/Huye medrosa de los galgos fieros,/Y por salvar la vida/No deja estampa de los pies ligeros,/Tal mi esperanza en dudas y recelos/Se ve acosa de villanos celos.'\n",
    "\n",
    "lista = texto.split()\n",
    "carac = \"qwertyuiop´+}{ñlkjhgfdsazxcvbnm-_/,.\"\n",
    "tam = len (carac)\n",
    "print (tam)"
   ]
  },
  {
   "cell_type": "code",
   "execution_count": 27,
   "metadata": {},
   "outputs": [
    {
     "name": "stdout",
     "output_type": "stream",
     "text": [
      "32\n"
     ]
    }
   ],
   "source": [
    "sum_a = 0\n",
    "for x in lista: \n",
    "    if 'a' in x or 'A' in x:\n",
    "        for y in x:\n",
    "            if y == 'a' or y == 'A':\n",
    "                sum_a = sum_a + 1\n",
    "print (sum_a)"
   ]
  },
  {
   "cell_type": "code",
   "execution_count": 28,
   "metadata": {},
   "outputs": [
    {
     "name": "stdout",
     "output_type": "stream",
     "text": [
      "6\n"
     ]
    }
   ],
   "source": [
    "sum_er = 0\n",
    "\n",
    "for x in lista: \n",
    "    if 'er' in x or 'ER' in x:\n",
    "        sum_er = sum_er + 1\n",
    "print (sum_er)"
   ]
  },
  {
   "cell_type": "code",
   "execution_count": 29,
   "metadata": {},
   "outputs": [
    {
     "name": "stdout",
     "output_type": "stream",
     "text": [
      "9\n"
     ]
    }
   ],
   "source": [
    "sum_el = 0\n",
    "\n",
    "for x in lista: \n",
    "    if 'el' in x or 'EL' in x:\n",
    "        sum_el = sum_el + 1\n",
    "print (sum_el)"
   ]
  },
  {
   "cell_type": "markdown",
   "metadata": {},
   "source": [
    "## Ejercicio 9 \n",
    "\n"
   ]
  },
  {
   "cell_type": "code",
   "execution_count": 4,
   "metadata": {},
   "outputs": [
    {
     "name": "stdout",
     "output_type": "stream",
     "text": [
      "Ya llevas 1 tiro/s\n",
      "Ya llevas 2 tiro/s\n",
      "Ya llevas 3 tiro/s\n",
      "Ya llevas 4 tiro/s\n",
      "Ya llevas 5 tiro/s\n",
      "Ya llevas 6 tiro/s\n",
      "Ya llevas 7 tiro/s\n",
      "Ya llevas 8 tiro/s\n",
      "Ya llevas 9 tiro/s\n",
      "Ya llevas 10 tiro/s\n"
     ]
    }
   ],
   "source": [
    "import random as r \n",
    "dado = r.randint(1,6)\n",
    "cont = 1 \n",
    "while dado != 5: \n",
    "    print(f\"Ya llevas {cont} tiro/s\")\n",
    "    cont = cont +1 \n",
    "    dado = r.randint(1,6)"
   ]
  },
  {
   "cell_type": "markdown",
   "metadata": {},
   "source": [
    "## Ejercicio 10 \n",
    "\n",
    "Dada una lista, modifique cada elemento multiplicandolo por 1.181534 y redondee a dos decimales. Imprima una lista con estos nuevos elementos."
   ]
  },
  {
   "cell_type": "code",
   "execution_count": 50,
   "metadata": {},
   "outputs": [],
   "source": [
    "def modificar(monto):\n",
    "    i=0\n",
    "    sal=[]\n",
    "    while i<len(monto):\n",
    "        r=round(monto[i]*1.181534,2)\n",
    "        sal.append(r)\n",
    "        i=i+1\n",
    "    return sal"
   ]
  },
  {
   "cell_type": "code",
   "execution_count": 51,
   "metadata": {},
   "outputs": [],
   "source": [
    "monto=list(range(5000,10000,50))"
   ]
  },
  {
   "cell_type": "code",
   "execution_count": 52,
   "metadata": {},
   "outputs": [
    {
     "name": "stdout",
     "output_type": "stream",
     "text": [
      "[5907.67, 5966.75, 6025.82, 6084.9, 6143.98, 6203.05, 6262.13, 6321.21, 6380.28, 6439.36, 6498.44, 6557.51, 6616.59, 6675.67, 6734.74, 6793.82, 6852.9, 6911.97, 6971.05, 7030.13, 7089.2, 7148.28, 7207.36, 7266.43, 7325.51, 7384.59, 7443.66, 7502.74, 7561.82, 7620.89, 7679.97, 7739.05, 7798.12, 7857.2, 7916.28, 7975.35, 8034.43, 8093.51, 8152.58, 8211.66, 8270.74, 8329.81, 8388.89, 8447.97, 8507.04, 8566.12, 8625.2, 8684.27, 8743.35, 8802.43, 8861.51, 8920.58, 8979.66, 9038.74, 9097.81, 9156.89, 9215.97, 9275.04, 9334.12, 9393.2, 9452.27, 9511.35, 9570.43, 9629.5, 9688.58, 9747.66, 9806.73, 9865.81, 9924.89, 9983.96, 10043.04, 10102.12, 10161.19, 10220.27, 10279.35, 10338.42, 10397.5, 10456.58, 10515.65, 10574.73, 10633.81, 10692.88, 10751.96, 10811.04, 10870.11, 10929.19, 10988.27, 11047.34, 11106.42, 11165.5, 11224.57, 11283.65, 11342.73, 11401.8, 11460.88, 11519.96, 11579.03, 11638.11, 11697.19, 11756.26]\n"
     ]
    }
   ],
   "source": [
    "print(modificar(monto))"
   ]
  },
  {
   "cell_type": "code",
   "execution_count": null,
   "metadata": {},
   "outputs": [],
   "source": []
  }
 ],
 "metadata": {
  "kernelspec": {
   "display_name": "Python 3",
   "language": "python",
   "name": "python3"
  },
  "language_info": {
   "codemirror_mode": {
    "name": "ipython",
    "version": 3
   },
   "file_extension": ".py",
   "mimetype": "text/x-python",
   "name": "python",
   "nbconvert_exporter": "python",
   "pygments_lexer": "ipython3",
   "version": "3.8.5"
  }
 },
 "nbformat": 4,
 "nbformat_minor": 2
}
