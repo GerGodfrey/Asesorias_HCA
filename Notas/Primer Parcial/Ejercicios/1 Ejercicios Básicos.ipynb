{
 "cells": [
  {
   "cell_type": "markdown",
   "metadata": {},
   "source": [
    "# Ejercicios Básicos"
   ]
  },
  {
   "cell_type": "markdown",
   "metadata": {},
   "source": [
    "## Ejercicio 1\n",
    "\n",
    "Calcula el **promedio aritmético** de una lista de *n* números.Suma todos los valores para que después puedas dividir entre el total de elementos de la lista. \n",
    "\n",
    "lista = [1.0, 2.0, 5.0, 8.1, 7.7, 25.6, 333.0, 0.9, 25.35, 9.7, 0.1, 18.0, 4.4, 0.0]\n",
    "\n",
    "$$\\frac{1}{n}\\sum_{i=1}^{n} valor_i$$"
   ]
  },
  {
   "cell_type": "code",
   "execution_count": 6,
   "metadata": {},
   "outputs": [],
   "source": [
    "datos= [1.0, 2.0, 5.0, 8.1, 7.7, 25.6, 333.0, 0.9, 25.35, 9.7, 0.1, 18.0, 4.4, 0.0]"
   ]
  },
  {
   "cell_type": "code",
   "execution_count": 7,
   "metadata": {},
   "outputs": [],
   "source": [
    "# hace la suma de los elementos de la lista\n",
    "sumaDatos = sum(datos)\n",
    "# cuenta la cantidad de elementos de la lista\n",
    "tam = len(datos)\n",
    "res = sumaDatos/tam"
   ]
  },
  {
   "cell_type": "code",
   "execution_count": 8,
   "metadata": {},
   "outputs": [
    {
     "name": "stdout",
     "output_type": "stream",
     "text": [
      "31.48928571428571\n"
     ]
    }
   ],
   "source": [
    "print(res)"
   ]
  },
  {
   "cell_type": "code",
   "execution_count": 20,
   "metadata": {},
   "outputs": [
    {
     "name": "stdout",
     "output_type": "stream",
     "text": [
      "Using matplotlib backend: MacOSX\n",
      "Populating the interactive namespace from numpy and matplotlib\n"
     ]
    },
    {
     "data": {
      "text/plain": [
       "31.489285714285717"
      ]
     },
     "execution_count": 20,
     "metadata": {},
     "output_type": "execute_result"
    }
   ],
   "source": [
    "# carga la libreria para hacerlo más rápido\n",
    "%pylab\n",
    "mean(datos)"
   ]
  },
  {
   "cell_type": "markdown",
   "metadata": {},
   "source": [
    "## Ejercicio 2\n",
    "\n",
    "Un árbol encino midé 60 centímetros. El estudió de este árbol nos reveló que la mayoría tienen un patrón de crecimiento de la siguiente forma: \n",
    "\n",
    "1) En el primer y segundo año, incremente 35% por año.\n",
    "\n",
    "2) En el tercer año, el tamaño se incrementó 30%.\n",
    "\n",
    "3) En el cuarto año, incrementó 18%.\n",
    "\n",
    "4) En el quinto año, incrementó 18%.\n",
    "\n",
    "5) En el sexto año, incrementó 18%.\n",
    "\n",
    "6) En el séptimo año, incrementó 20%.\n",
    "\n",
    "¿Cuántos metros mide nuestro encino?"
   ]
  },
  {
   "cell_type": "code",
   "execution_count": 11,
   "metadata": {},
   "outputs": [
    {
     "name": "stdout",
     "output_type": "stream",
     "text": [
      "5.5363606272\n"
     ]
    }
   ],
   "source": [
    "inicial=160\n",
    "final=inicial*1.35*1.30*1.18*1.18*1.18*1.20\n",
    "print(final/100)"
   ]
  },
  {
   "cell_type": "markdown",
   "metadata": {},
   "source": [
    "## Ejercicio 3\n",
    "\n",
    "Se dice que en el siglo VI a.c., el inventor del juego de ajedrez ofreció a su monarca este juego y como recompensa le pidió los granos de trigo que resultaran de la siguiente prescripción: un grano por la primera casilla del tablero, dos granos por la segunda casilla, cuatro granos por la tercera casilla, ocho granos por la cuarta, dieciséis granos por la quinta, y así sucesivamente hasta terminar con la casilla número 64 (el tablero del juego de ajedrez tiene 64 casillas). Observando que el número de granos pedidos por una casilla, a partir de la segunda, es igual al doble de los granos pedidos por la casilla anterior. El monarca, un poco molesto por lo que le pareció una cantidad insignificante de granos que el inventor solicitaba, pidió a sus calculistas determinaran la cantidad total de granos de trigo, se trajera ésta de los graneros del reino y de inmediato se le entregara al inventor.  \n",
    "\n",
    "a) Calcule la cantidad total de granos de trigo que el inventor del ajedrez de la historia\n",
    "solicitó a su monarca. (Después de algunas semanas los calculistas reconocieron que lo que\n",
    "pedía el inventor rebasaba los recursos del reino.) \n",
    "\n",
    "b) Si la producción mundial anual en granos de trigo es:  \n",
    "$$2.377 \\cdot 10^{16}$$\n",
    "determine cuántos años de producción mundial son nevesario para obteher la cantidad obtenida\n",
    "en a).  \n"
   ]
  },
  {
   "cell_type": "code",
   "execution_count": 18,
   "metadata": {},
   "outputs": [
    {
     "name": "stdout",
     "output_type": "stream",
     "text": [
      "7058277186446634.0\n"
     ]
    }
   ],
   "source": [
    "produccion=(2436/947) * 1016\n",
    "años=total/produccion\n",
    "print(años)"
   ]
  },
  {
   "cell_type": "code",
   "execution_count": 21,
   "metadata": {},
   "outputs": [
    {
     "name": "stdout",
     "output_type": "stream",
     "text": [
      "1.8446744073709552e+19\n"
     ]
    }
   ],
   "source": [
    "lista = [2**x for x in list (range(0,64))]\n",
    "total_granos = sum(lista)\n",
    "print (total_granos)"
   ]
  },
  {
   "cell_type": "code",
   "execution_count": 22,
   "metadata": {},
   "outputs": [
    {
     "name": "stdout",
     "output_type": "stream",
     "text": [
      "Los años totales son 776.0514965801243\n"
     ]
    }
   ],
   "source": [
    "p_t = 2.377 * 10 **16\n",
    "a_t = total_granos / p_t\n",
    "print ('Los años totales son {}' .format(a_t))"
   ]
  },
  {
   "cell_type": "markdown",
   "metadata": {},
   "source": [
    "## Ejercicio 4\n",
    " Si se consideran las alturas sobre el nivel del piso de la Torre Mayor del Paseo de la Reforma (aprox. 226 m.) y el obelisco del ITAM (aprox. 18 m.), situado en el paso del Estacionamiento de Maestros a la Plaza de las Palmeras, ¿Cuántas veces cabe el obelisco en la torre? Escriba su respuesta de dos maneras: i) Con un valor numérico aproximado con decimales ii) Con un valor racional exacto, mostrando un valor entero (cantidad de obeliscos enteros) y un valor racional (una fracción propia de obelisco)."
   ]
  },
  {
   "cell_type": "code",
   "execution_count": 23,
   "metadata": {},
   "outputs": [
    {
     "data": {
      "text/plain": [
       "12"
      ]
     },
     "execution_count": 23,
     "metadata": {},
     "output_type": "execute_result"
    }
   ],
   "source": [
    "a=226/18\n",
    "int(a)"
   ]
  },
  {
   "cell_type": "code",
   "execution_count": 24,
   "metadata": {},
   "outputs": [
    {
     "data": {
      "text/plain": [
       "12.555555555555555"
      ]
     },
     "execution_count": 24,
     "metadata": {},
     "output_type": "execute_result"
    }
   ],
   "source": [
    "226/18"
   ]
  },
  {
   "cell_type": "markdown",
   "metadata": {},
   "source": [
    "## Ejercicio 5\n",
    "\n",
    " De acuerdo con la organización internacional Food and Agriculture Organization (FAO), en el año 2017 la producción mundial anual de trigo fue de 771.7 millones de toneladas métricas, donde cada tonelada métrica equivale a 1000 kg, y podemos considerar que 1000 granos de trigo pesan 0.030 kg en promedio (esto es una consideración aproximada), ¿Cuántos granos de trigo tuvo la producción mundial anual en 2017?\" \n",
    "\n"
   ]
  },
  {
   "cell_type": "code",
   "execution_count": 25,
   "metadata": {},
   "outputs": [
    {
     "name": "stdout",
     "output_type": "stream",
     "text": [
      "granos de trigo son 25723333333.333336\n"
     ]
    }
   ],
   "source": [
    "A=771.7*1000\n",
    "B=A*1000/0.030\n",
    "int(B)\n",
    "print(\"granos de trigo son {0}\".format(B))"
   ]
  },
  {
   "cell_type": "markdown",
   "metadata": {},
   "source": [
    "## Ejercicio 6\n",
    "\n",
    "En una empresa textil, 25 sastres fabrican 45 pantalones en un día de trabajo, ¿Cuántos pantalones fabricarán 60 sastres en un día de trabajo?"
   ]
  },
  {
   "cell_type": "code",
   "execution_count": 26,
   "metadata": {},
   "outputs": [
    {
     "name": "stdout",
     "output_type": "stream",
     "text": [
      "pantalones  108\n"
     ]
    }
   ],
   "source": [
    "unsastre=45/25\n",
    "total=unsastre*60\n",
    "t=int(total)\n",
    "print(\"pantalones \", t)"
   ]
  },
  {
   "cell_type": "markdown",
   "metadata": {},
   "source": [
    "## Ejercicio 7\n",
    "\n",
    "Si 1 y media gallinas producen dos y medio huevos en cinco días, ¿cuántos huevos produce una gallina en seis días"
   ]
  },
  {
   "cell_type": "code",
   "execution_count": 27,
   "metadata": {},
   "outputs": [
    {
     "name": "stdout",
     "output_type": "stream",
     "text": [
      "gallinas 10.0\n"
     ]
    }
   ],
   "source": [
    "gallinaundia=2.5/1.5\n",
    "gallinaseisdias=gallinaundia*6\n",
    "int(gallinaseisdias)\n",
    "print(\"gallinas {0}\".format(gallinaseisdias))"
   ]
  },
  {
   "cell_type": "markdown",
   "metadata": {},
   "source": [
    "## Ejercicio 8\n",
    "\n",
    "Si en una fábrica, 48 obreros (todos ellos igualmente calificados) ensamblan 30 motores en 10 días de trabajo, ¿Cuántos motores ensamblarán 42 obreros en 8 días de trabajo"
   ]
  },
  {
   "cell_type": "code",
   "execution_count": 28,
   "metadata": {},
   "outputs": [
    {
     "name": "stdout",
     "output_type": "stream",
     "text": [
      "motores 21.0\n"
     ]
    }
   ],
   "source": [
    "trabajadores42aldia=42*3/48\n",
    "trabajadoresen8dias=trabajadores42aldia*8\n",
    "int(trabajadoresen8dias)\n",
    "print(\"motores {0}\".format(trabajadoresen8dias))"
   ]
  },
  {
   "cell_type": "markdown",
   "metadata": {},
   "source": [
    "## Ejercicio 9\n",
    "\n",
    "Actualmente Juanita tiene una cuenta de banco con $1,256.757 donde acaban de ser abonados los intereses correspondientes al mes pasado, calculados con una tasa de interés mensual de 0.14 % (cero punto catorce por ciento).  Si no se hicieron otros depósitos distintos de los intereses del banco, ¿Cuál era la cantidad que Juanita tenía al inicio del mes pasado?\" \n",
    " "
   ]
  },
  {
   "cell_type": "code",
   "execution_count": 29,
   "metadata": {},
   "outputs": [
    {
     "name": "stdout",
     "output_type": "stream",
     "text": [
      "cantidad inicial 1255.0\n"
     ]
    }
   ],
   "source": [
    "cantidadinicial=100*1256.757/100.14\n",
    "print(\"cantidad inicial {0}\".format(cantidadinicial))"
   ]
  },
  {
   "cell_type": "markdown",
   "metadata": {},
   "source": [
    "## Ejercicio 10 \n",
    "\n",
    "En la mueblería El Diván, S.A., el precio final de un comedor para el público en general es de $44,244.25 (cuarenta y cuatro mil doscientos cuarenta y cuatro pesos con 25 centavos), incluyendo el impuesto al valor agregado (IVA) de 16%. Responda las dos siguientes preguntas, considerando que todos los muebles vendidos en la tienda están gravados con una tasa de impuesto IVA de 16 % y recuerde que la tasa de impuesto incrementa el precio y es aplicada al subtotal con todos los descuentos, i) ¿Cuál es el precio del comedor antes de aplicar el impuesto? ii) Para los empleados de la mueblería, se ofrece un descuento especial de 16% sobre el precio sin impuesto ¿Cuál es el precio final, con el descuento y el impuesto, del comedor si un empleado es quien lo compra"
   ]
  },
  {
   "cell_type": "code",
   "execution_count": 30,
   "metadata": {},
   "outputs": [
    {
     "name": "stdout",
     "output_type": "stream",
     "text": [
      "El precio sin impuesto es 38,141.38 pesos\n"
     ]
    }
   ],
   "source": [
    "precioconimpuesto=44244\n",
    "Preciosinimpuesto=100*precioconimpuesto/116\n",
    "print(\"El precio sin impuesto es {:,.2f}\".format(Preciosinimpuesto), \"pesos\")"
   ]
  },
  {
   "cell_type": "code",
   "execution_count": 31,
   "metadata": {},
   "outputs": [
    {
     "name": "stdout",
     "output_type": "stream",
     "text": [
      "El precio de los trabajadores es 32,038.94 $\n"
     ]
    }
   ],
   "source": [
    "Preciosinimpuesto=38141.59\n",
    "Descuentotrabajadores=Preciosinimpuesto*84/100\n",
    "print(\"El precio de los trabajadores es {:,.2f}\".format(Descuentotrabajadores), \"$\")"
   ]
  },
  {
   "cell_type": "markdown",
   "metadata": {},
   "source": [
    "## Ejercicio 11\n",
    "\n",
    "Ya comenzó la temporada de descuentos de una tienda de electrodomésticos; los precios de algunos artículos han sido rebajados y etiquetados nuevamente. i) Si el precio de un refrigerador era 9,534.25 antes de iniciada la temporada, y ahora tiene una etiqueta del 27.5 por ciento de descuento ¿Qué precio tiene el refrigerador?   ii) Si un cliente pagó 5,235.75 por un horno de microondas con un descuento de 33.5% ¿Qué precio tenía el horno antes de iniciada la temporada de descuentos? iii) ¿Qué porcentaje de descuento debe aplicarse a un artículo para que el precio sea rebajado de 5,355.20 a 4,225.50?"
   ]
  },
  {
   "cell_type": "code",
   "execution_count": 32,
   "metadata": {},
   "outputs": [
    {
     "name": "stdout",
     "output_type": "stream",
     "text": [
      "El precio con descuento es 6,912.33 $\n"
     ]
    }
   ],
   "source": [
    "precio1=9534.25\n",
    "Precio2=precio1*72.5/100\n",
    "print(\"El precio con descuento es {:,.2f}\".format(Precio2), \"$\")"
   ]
  },
  {
   "cell_type": "code",
   "execution_count": 33,
   "metadata": {},
   "outputs": [
    {
     "name": "stdout",
     "output_type": "stream",
     "text": [
      "Precio antes de descuento  7873\n"
     ]
    }
   ],
   "source": [
    "precio1=5235.75\n",
    "precio2=precio1*100/66.5\n",
    "precioint=int(precio2)\n",
    "print(\"Precio antes de descuento \", precioint)"
   ]
  },
  {
   "cell_type": "code",
   "execution_count": 34,
   "metadata": {},
   "outputs": [
    {
     "name": "stdout",
     "output_type": "stream",
     "text": [
      "El descuento que debe aplicarse es  21 %\n"
     ]
    }
   ],
   "source": [
    "Precio1=5355.20\n",
    "Precio2=4255.50\n",
    "Porcentaje=Precio2*100/Precio1\n",
    "Porcentajeint=int(Porcentaje)\n",
    "print(\"El descuento que debe aplicarse es \", 100-Porcentajeint, \"%\")"
   ]
  },
  {
   "cell_type": "code",
   "execution_count": 36,
   "metadata": {},
   "outputs": [
    {
     "data": {
      "text/plain": [
       "3.0"
      ]
     },
     "execution_count": 36,
     "metadata": {},
     "output_type": "execute_result"
    }
   ],
   "source": [
    "import math\n",
    "numero=7\n",
    "math.sqrt(9)"
   ]
  },
  {
   "cell_type": "code",
   "execution_count": 37,
   "metadata": {},
   "outputs": [
    {
     "data": {
      "text/plain": [
       "'3.8.5 (default, Sep  4 2020, 02:22:02) \\n[Clang 10.0.0 ]'"
      ]
     },
     "execution_count": 37,
     "metadata": {},
     "output_type": "execute_result"
    }
   ],
   "source": [
    "import sys\n",
    "sys.version"
   ]
  },
  {
   "cell_type": "code",
   "execution_count": 39,
   "metadata": {},
   "outputs": [
    {
     "data": {
      "text/plain": [
       "<module 'math' from '/opt/anaconda3/lib/python3.8/lib-dynload/math.cpython-38-darwin.so'>"
      ]
     },
     "execution_count": 39,
     "metadata": {},
     "output_type": "execute_result"
    }
   ],
   "source": [
    "import math as m\n",
    "m"
   ]
  },
  {
   "cell_type": "code",
   "execution_count": 40,
   "metadata": {},
   "outputs": [],
   "source": [
    "from math import sqrt"
   ]
  },
  {
   "cell_type": "code",
   "execution_count": null,
   "metadata": {},
   "outputs": [],
   "source": [
    "# importar la función mágica\n",
    "%pylab"
   ]
  },
  {
   "cell_type": "code",
   "execution_count": null,
   "metadata": {},
   "outputs": [],
   "source": [
    "print (\"Tu calificación final es de \", round(9.9))"
   ]
  },
  {
   "cell_type": "markdown",
   "metadata": {},
   "source": [
    "## Ejercicio  12 \n",
    "\n",
    "Realiza un programa que pida una calificación y que se escriba \"NA\" o la calificacion entera segun corresponda"
   ]
  },
  {
   "cell_type": "code",
   "execution_count": 41,
   "metadata": {},
   "outputs": [
    {
     "name": "stdout",
     "output_type": "stream",
     "text": [
      "Dame tu calificaciòn4\n",
      "NA\n"
     ]
    }
   ],
   "source": [
    "x=float(input(\"Dame tu calificaciòn\"))\n",
    "if x>=6:\n",
    "    print(int(x))\n",
    "else:\n",
    "    print(\"NA\")"
   ]
  },
  {
   "cell_type": "markdown",
   "metadata": {},
   "source": [
    "## Ejercicio 13\n",
    "\n",
    "El gerente de la tienda de ropa notó que las utilidades mensuales fueron $114,847.47, lo cual corresponde a una disminución de 0.15 porciento (cero punto quince por ciento) con respecto a las utilidades del mes pasado,¿Cuál fue el valor delas utilidades del mes pasado?"
   ]
  },
  {
   "cell_type": "code",
   "execution_count": 42,
   "metadata": {},
   "outputs": [
    {
     "name": "stdout",
     "output_type": "stream",
     "text": [
      "Tu utilidad del mes pasado es 135114.67058823528 $\n"
     ]
    }
   ],
   "source": [
    "utilidadactual=114847.47\n",
    "utilidadmespasado=utilidadactual*100/85\n",
    "print(\"Tu utilidad del mes pasado es\", utilidadmespasado, \"$\")"
   ]
  },
  {
   "cell_type": "markdown",
   "metadata": {},
   "source": [
    "## Ejercicio 14\n",
    "\n",
    "Para el 30 de junio de 2017, la cantidad total estimada de usuarios de Internet en el mundo era 3,885,567,619 personas**.  Si suponemos que esta cantidad es resultado de un incremento anual de 11.5% con respecto a la cantidad de usuarios que había el 30 de junio de 2016 (un año antes),¿En promedio, cuántas personas nuevas se agregaron al grupo de usuarios de Internet cada segundo del año, del 30 de junio de 2016 al 30 de junio del 2017? ¿Es 2017 un año bisiesto?"
   ]
  },
  {
   "cell_type": "code",
   "execution_count": 43,
   "metadata": {},
   "outputs": [
    {
     "name": "stdout",
     "output_type": "stream",
     "text": [
      "Los segundos al año son  106.67579301934325\n"
     ]
    }
   ],
   "source": [
    "usuario2017=3885567619\n",
    "usuario2016=usuario2017*100/115.5\n",
    "segundosalaño=365*24*60*60\n",
    "usuariosporsegundo=usuario2016/segundosalaño\n",
    "print (\"Los segundos al año son \", usuariosporsegundo)\n",
    "if 2017%4==0 and 2017%100!=0:\n",
    "    print(\"2017 es bisiesto\")"
   ]
  },
  {
   "cell_type": "markdown",
   "metadata": {},
   "source": [
    "## Ejercicio 15 \n",
    "\n",
    "Una tienda ofrece descuentos a sus clientes de acuerdo a la siguiente política(los descuentos son aplicados antes del impuesto al consumo, IVA):5%, si elmonto de compra es inferior a $ 800.00;15porciento, si el monto de compra es mayor o igual a $ 800.00 y menor a $ 1,500.00;25porciento, si el monto de compra es mayor o igual a $ 1,500.00.  a)Escriba una función que use como entrada un valor del monto de compra, y calcule como salida el precio pagado por elcliente con el descuento incluido y el impuesto IVA (16%) según el criterio dado.b)Aplique la función creada a los montos dados en la siguiente listade montos:1500.00, 224.50, 525.00, 2000.00, 1250.00, 825.00"
   ]
  },
  {
   "cell_type": "code",
   "execution_count": 44,
   "metadata": {},
   "outputs": [
    {
     "name": "stdout",
     "output_type": "stream",
     "text": [
      "Dame tu numero4\n",
      "4.4079999999999995\n"
     ]
    }
   ],
   "source": [
    "x=(int(input(\"Dame tu numero\")))\n",
    "if x<800:\n",
    "    x=((x*95)/100)*1.16\n",
    "elif x>=800 and x<=1500:\n",
    "    x=((x*85)/100)*1.16\n",
    "else:\n",
    "    x=((x*75)/100)*1.16\n",
    "print(x)"
   ]
  },
  {
   "cell_type": "markdown",
   "metadata": {},
   "source": [
    "## Ejercicio 16\n",
    "Los precios en pesos mexicanos del tipo de cambio del dólar americano (USD) para solventar obligaciones y publicados del 4 de enero de 2016 al 17 de enero de 2018 en los días hábiles bancarios se listan en la siguiente celda:  \n",
    "(El tipo de cambio FIX se determina a las 12:00 del día por el Banco de México y publicado en el Diario Oficial de la Federación el día hábil bancario inmediato siguiente al de su determinación:   http://www.banxico.org.mx/dyn/portal-mercado-cambiario/index.html)\n",
    "  \n",
    "a) A partir de los *n* valores listados, calcule el valor promedio del tipo de cambio (calculando la suma y dividiendo entre la cantidad de valores) y llámelo *media*:  \n",
    "$$media=\\frac{1}{n}\\sum_{i=1}^{n} tc_i$$\n",
    "b) Para conocer la dispersión de los valores, calcule la desviación estándar:\n",
    "* i) Primero, calculando la lista de los cuadrados de las diferencias del valor del tipo de cambio y su *media*;  \n",
    "\n",
    "* ii) Segundo, calculando la raíz cuadrada del promedio de los cuadrados calculados en i): \n",
    "\n",
    "$$\\sqrt{\\frac{1}{n}\\sum_{i=1}^{n} (tc_i-media)^{2}}$$"
   ]
  },
  {
   "cell_type": "code",
   "execution_count": 1,
   "metadata": {},
   "outputs": [
    {
     "name": "stdout",
     "output_type": "stream",
     "text": [
      "[17.2487, 17.3529, 17.3456, 17.4411, 17.6568, 17.9283, 17.9304, 17.9119, 17.85, 17.9121, 18.2108, 18.2327, 18.1947, 18.608, 18.5084, 18.428, 18.5352, 18.4715, 18.453, 18.2906, 18.1935, 18.4902, 18.4537, 18.1891, 18.3748, 18.6959, 18.7818, 18.8089, 19.1754, 19.0392, 18.8471, 18.8148, 18.3895, 18.1439, 18.2762, 18.0568, 18.1948, 18.2893, 18.168, 18.1706, 18.102, 17.9432, 17.8561, 17.8971, 17.7723, 17.7526, 17.9044, 17.7523, 17.8601, 17.7002, 17.7691, 17.926, 17.9308, 17.4034, 17.2995, 17.3361, 17.5273, 17.461, 17.4015, 17.2509, 17.237, 17.3338, 17.4484, 17.7252, 17.7286, 17.893, 17.7391, 17.6452, 17.5719, 17.49, 17.388, 17.5669, 17.4598, 17.2825, 17.3078, 17.4202, 17.4359, 17.5866, 17.4298, 17.3993, 17.2125, 17.1767, 17.2279, 17.5234, 17.7358, 17.7866, 17.9204, 18.1033, 18.0205, 17.9549, 17.9915, 18.1562, 18.1795, 18.3217, 18.3761, 18.5465, 18.3826, 18.4444, 18.4694, 18.452, 18.4572, 18.4527, 18.4777, 18.4118, 18.5299, 18.6097, 18.6283, 18.5889, 18.5067, 18.1491, 18.2742, 18.5046, 18.7915, 18.9814, 18.8672, 18.9968, 18.8527, 18.6559, 18.6444, 18.5325, 18.3207, 18.8716, 19.1283, 18.9113, 18.555, 18.4646, 18.309, 18.3858, 18.7536, 18.8161, 18.8607, 18.5991, 18.4597, 18.3006, 18.3937, 18.3061, 18.492, 18.4879, 18.5719, 18.5729, 18.6022, 18.6089, 18.7569, 18.8114, 18.8602, 18.8979, 18.7837, 18.8504, 18.8966, 18.9117, 18.8612, 18.8691, 18.5716, 18.3842, 18.3479, 18.2678, 18.2455, 18.0363, 17.9869, 18.2598, 18.0832, 18.2674, 18.3023, 18.3202, 18.4971, 18.446, 18.283, 18.5773, 18.7953, 18.8611, 18.8523, 18.6589, 18.5581, 18.3524, 18.3689, 18.5427, 18.8451, 19.0646, 19.152, 19.2275, 19.2514, 19.6097, 19.777, 19.8394, 19.5965, 19.7211, 19.8322, 19.5044, 19.5002, 19.4086, 19.3776, 19.3211, 19.2138, 19.2554, 19.2433, 19.2994, 18.8786, 18.9531, 18.9622, 19.0399, 19.0046, 18.8723, 18.6726, 18.5894, 18.5945, 18.6481, 18.5658, 18.5147, 18.6485, 18.8443, 18.7304, 18.8887, 19.1306, 19.2014, 19.0792, 18.6192, 18.5089, 19.925, 20.4812, 21.0511, 20.8729, 20.349, 20.2884, 20.1898, 20.4193, 20.5205, 20.6901, 20.7051, 20.6475, 20.5521, 20.6225, 20.5155, 20.7488, 20.6149, 20.5927, 20.3863, 20.2967, 20.4162, 20.3305, 20.2567, 20.2226, 20.5973, 20.428, 20.4098, 20.43, 20.4921, 20.7179, 20.6271, 20.6445, 20.7052, 20.7314, 20.664, 20.6194, 20.7323, 20.852, 21.3799, 21.3661, 21.3144, 21.3219, 21.6168, 21.9076, 21.7204]\n"
     ]
    }
   ],
   "source": [
    "tipoUSD=[17.2487,17.3529,17.3456,17.4411,17.6568,17.9283,17.9304,17.9119,17.85,17.9121,18.2108,18.2327,18.1947,18.608,18.5084,18.428,18.5352,18.4715,18.453,18.2906,18.1935,18.4902,18.4537,18.1891,18.3748,18.6959,18.7818,18.8089,19.1754,19.0392,18.8471,18.8148,18.3895,18.1439,18.2762,18.0568,18.1948,18.2893,18.168,18.1706,18.102,17.9432,17.8561,17.8971,17.7723,17.7526,17.9044,17.7523,17.8601,17.7002,17.7691,17.926,17.9308,17.4034,17.2995,17.3361,17.5273,17.461,17.4015,17.2509,17.237,17.3338,17.4484,17.7252,17.7286,17.893,17.7391,17.6452,17.5719,17.49,17.388,17.5669,17.4598,17.2825,17.3078,17.4202,17.4359,17.5866,17.4298,17.3993,17.2125,17.1767,17.2279,17.5234,17.7358,17.7866,17.9204,18.1033,18.0205,17.9549,17.9915,18.1562,18.1795,18.3217,18.3761,18.5465,18.3826,18.4444,18.4694,18.452,18.4572,18.4527,18.4777,18.4118,18.5299,18.6097,18.6283,18.5889,18.5067,18.1491,18.2742,18.5046,18.7915,18.9814,18.8672,18.9968,18.8527,18.6559,18.6444,18.5325,18.3207,18.8716,19.1283,18.9113,18.555,18.4646,18.309,18.3858,18.7536,18.8161,18.8607,18.5991,18.4597,18.3006,18.3937,18.3061,18.492,18.4879,18.5719,18.5729,18.6022,18.6089,18.7569,18.8114,18.8602,18.8979,18.7837,18.8504,18.8966,18.9117,18.8612,18.8691,18.5716,18.3842,18.3479,18.2678,18.2455,18.0363,17.9869,18.2598,18.0832,18.2674,18.3023,18.3202,18.4971,18.446,18.283,18.5773,18.7953,18.8611,18.8523,18.6589,18.5581,18.3524,18.3689,18.5427,18.8451,19.0646,19.152,19.2275,19.2514,19.6097,19.777,19.8394,19.5965,19.7211,19.8322,19.5044,19.5002,19.4086,19.3776,19.3211,19.2138,19.2554,19.2433,19.2994,18.8786,18.9531,18.9622,19.0399,19.0046,18.8723,18.6726,18.5894,18.5945,18.6481,18.5658,18.5147,18.6485,18.8443,18.7304,18.8887,19.1306,19.2014,19.0792,18.6192,18.5089,19.925,20.4812,21.0511,20.8729,20.349,20.2884,20.1898,20.4193,20.5205,20.6901,20.7051,20.6475,20.5521,20.6225,20.5155,20.7488,20.6149,20.5927,20.3863,20.2967,20.4162,20.3305,20.2567,20.2226,20.5973,20.428,20.4098,20.43,20.4921,20.7179,20.6271,20.6445,20.7052,20.7314,20.664,20.6194,20.7323,20.852,21.3799,21.3661,21.3144,21.3219,21.6168,21.9076,21.7204]\n",
    "print(tipoUSD)"
   ]
  },
  {
   "cell_type": "code",
   "execution_count": 2,
   "metadata": {},
   "outputs": [
    {
     "name": "stdout",
     "output_type": "stream",
     "text": [
      "Using matplotlib backend: MacOSX\n",
      "Populating the interactive namespace from numpy and matplotlib\n",
      "18.774778625954198\n"
     ]
    }
   ],
   "source": [
    "%pylab\n",
    "media = mean(tipoUSD)\n",
    "print( media )"
   ]
  },
  {
   "cell_type": "code",
   "execution_count": 3,
   "metadata": {},
   "outputs": [
    {
     "name": "stdout",
     "output_type": "stream",
     "text": [
      "18.774778625954198\n",
      "1.0386061094252799\n"
     ]
    }
   ],
   "source": [
    "# en varios pasos\n",
    "\n",
    "suma = sum(tipoUSD)\n",
    "n = len(tipoUSD)\n",
    "media = suma / n\n",
    "\n",
    "print( media )\n",
    "\n",
    "#1\n",
    "terminos = [(tc-media)**2 for tc in tipoUSD]\n",
    "#2\n",
    "varianzaPasos = sqrt( sum(terminos) / n )\n",
    "print( varianzaPasos )"
   ]
  },
  {
   "cell_type": "code",
   "execution_count": 4,
   "metadata": {},
   "outputs": [
    {
     "name": "stdout",
     "output_type": "stream",
     "text": [
      "1.0386061094252799\n"
     ]
    }
   ],
   "source": [
    "varianzaUnPaso = sqrt( sum([(tc-media)**2for tc in tipoUSD]) / len(tipoUSD) )\n",
    "print( varianzaUnPaso )"
   ]
  },
  {
   "cell_type": "code",
   "execution_count": null,
   "metadata": {},
   "outputs": [],
   "source": []
  }
 ],
 "metadata": {
  "kernelspec": {
   "display_name": "Python 3",
   "language": "python",
   "name": "python3"
  },
  "language_info": {
   "codemirror_mode": {
    "name": "ipython",
    "version": 3
   },
   "file_extension": ".py",
   "mimetype": "text/x-python",
   "name": "python",
   "nbconvert_exporter": "python",
   "pygments_lexer": "ipython3",
   "version": "3.8.5"
  }
 },
 "nbformat": 4,
 "nbformat_minor": 4
}
