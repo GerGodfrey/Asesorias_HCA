{
 "cells": [
  {
   "cell_type": "markdown",
   "metadata": {},
   "source": [
    "# Ejercicios de Sets"
   ]
  },
  {
   "cell_type": "markdown",
   "metadata": {},
   "source": [
    "## Ejercicio 1 \n",
    "\n",
    "Define las siguientes palabras como un conjunto de sets. \n",
    "+ seudohermafroditismo\n",
    "+ magnetohidrodinámica\n",
    "+ electroencefalografista \n",
    "+ itam \n",
    "+ desproporcionadamente"
   ]
  },
  {
   "cell_type": "code",
   "execution_count": 3,
   "metadata": {},
   "outputs": [],
   "source": [
    "set1=set(\"seudohermafroditismo\")"
   ]
  },
  {
   "cell_type": "code",
   "execution_count": 4,
   "metadata": {},
   "outputs": [],
   "source": [
    "set2=set(\"magnetohidrodinámica\")"
   ]
  },
  {
   "cell_type": "code",
   "execution_count": 5,
   "metadata": {},
   "outputs": [],
   "source": [
    "set3=set(\"electroencefalografista\")"
   ]
  },
  {
   "cell_type": "code",
   "execution_count": 6,
   "metadata": {},
   "outputs": [],
   "source": [
    "set4=set(\"itam\")"
   ]
  },
  {
   "cell_type": "code",
   "execution_count": 7,
   "metadata": {},
   "outputs": [],
   "source": [
    "set5=set(\"desproporcionadamente\")"
   ]
  },
  {
   "cell_type": "markdown",
   "metadata": {},
   "source": [
    "Imprime la palabra más chica\n"
   ]
  },
  {
   "cell_type": "code",
   "execution_count": 8,
   "metadata": {},
   "outputs": [
    {
     "name": "stdout",
     "output_type": "stream",
     "text": [
      "{'i', 't', 'm', 'a'}\n"
     ]
    }
   ],
   "source": [
    "print(set4)"
   ]
  },
  {
   "cell_type": "markdown",
   "metadata": {},
   "source": [
    "Saca la intersección entre todas las palabras"
   ]
  },
  {
   "cell_type": "code",
   "execution_count": 9,
   "metadata": {},
   "outputs": [
    {
     "data": {
      "text/plain": [
       "{'a', 'i', 't'}"
      ]
     },
     "execution_count": 9,
     "metadata": {},
     "output_type": "execute_result"
    }
   ],
   "source": [
    "set1.intersection(set2,set3,set4,set5)"
   ]
  },
  {
   "cell_type": "code",
   "execution_count": 11,
   "metadata": {},
   "outputs": [
    {
     "data": {
      "text/plain": [
       "{'a', 'i', 't'}"
      ]
     },
     "execution_count": 11,
     "metadata": {},
     "output_type": "execute_result"
    }
   ],
   "source": [
    "set1 & set2 & set3 & set4 & set5"
   ]
  },
  {
   "cell_type": "markdown",
   "metadata": {},
   "source": [
    "Saca la diferencia entre todas las palabras"
   ]
  },
  {
   "cell_type": "code",
   "execution_count": 10,
   "metadata": {},
   "outputs": [
    {
     "data": {
      "text/plain": [
       "{'u'}"
      ]
     },
     "execution_count": 10,
     "metadata": {},
     "output_type": "execute_result"
    }
   ],
   "source": [
    "set1.difference(set2,set3,set4,set5)"
   ]
  },
  {
   "cell_type": "markdown",
   "metadata": {},
   "source": [
    "## Ejercicio 2\n",
    "\n",
    "Define dos conjuntos sets con las siguientes características: \n",
    "- El conjunto \"alpha\" debe de tener una enumeración del 100 al 200.\n",
    "- El conjunto \"betha\" debe de tener una enumeración del 100 al 200 en saltos de 2. "
   ]
  },
  {
   "cell_type": "code",
   "execution_count": 26,
   "metadata": {},
   "outputs": [
    {
     "name": "stdout",
     "output_type": "stream",
     "text": [
      "{100, 101, 102, 103, 104, 105, 106, 107, 108, 109, 110, 111, 112, 113, 114, 115, 116, 117, 118, 119, 120, 121, 122, 123, 124, 125, 126, 127, 128, 129, 130, 131, 132, 133, 134, 135, 136, 137, 138, 139, 140, 141, 142, 143, 144, 145, 146, 147, 148, 149, 150, 151, 152, 153, 154, 155, 156, 157, 158, 159, 160, 161, 162, 163, 164, 165, 166, 167, 168, 169, 170, 171, 172, 173, 174, 175, 176, 177, 178, 179, 180, 181, 182, 183, 184, 185, 186, 187, 188, 189, 190, 191, 192, 193, 194, 195, 196, 197, 198, 199, 200}\n"
     ]
    }
   ],
   "source": [
    "alpha=set(range (100,201))\n",
    "print(alpha)"
   ]
  },
  {
   "cell_type": "code",
   "execution_count": 27,
   "metadata": {},
   "outputs": [
    {
     "name": "stdout",
     "output_type": "stream",
     "text": [
      "{128, 130, 132, 134, 136, 138, 140, 142, 144, 146, 148, 150, 152, 154, 156, 158, 160, 162, 164, 166, 168, 170, 172, 174, 176, 178, 180, 182, 184, 186, 188, 190, 192, 194, 196, 198, 100, 102, 104, 106, 108, 110, 112, 114, 116, 118, 120, 122, 124, 126}\n"
     ]
    }
   ],
   "source": [
    "betha=set(range(100,200,2))\n",
    "print(betha)"
   ]
  },
  {
   "cell_type": "markdown",
   "metadata": {},
   "source": [
    "Saca la intersección de estos dos conjuntos"
   ]
  },
  {
   "cell_type": "code",
   "execution_count": 28,
   "metadata": {},
   "outputs": [
    {
     "name": "stdout",
     "output_type": "stream",
     "text": [
      "{128, 130, 132, 134, 136, 138, 140, 142, 144, 146, 148, 150, 152, 154, 156, 158, 160, 162, 164, 166, 168, 170, 172, 174, 176, 178, 180, 182, 184, 186, 188, 190, 192, 194, 196, 198, 100, 102, 104, 106, 108, 110, 112, 114, 116, 118, 120, 122, 124, 126}\n"
     ]
    }
   ],
   "source": [
    "i = alpha.intersection(betha)\n",
    "print(i)"
   ]
  },
  {
   "cell_type": "markdown",
   "metadata": {},
   "source": [
    "Saca la diferencia de estos dos conjuntos"
   ]
  },
  {
   "cell_type": "code",
   "execution_count": 29,
   "metadata": {},
   "outputs": [
    {
     "name": "stdout",
     "output_type": "stream",
     "text": [
      "{129, 131, 133, 135, 137, 139, 141, 143, 145, 147, 149, 151, 153, 155, 157, 159, 161, 163, 165, 167, 169, 171, 173, 175, 177, 179, 181, 183, 185, 187, 189, 191, 193, 195, 197, 199, 200, 101, 103, 105, 107, 109, 111, 113, 115, 117, 119, 121, 123, 125, 127}\n"
     ]
    }
   ],
   "source": [
    "d =  alpha.difference(betha)\n",
    "print(d)"
   ]
  },
  {
   "cell_type": "markdown",
   "metadata": {},
   "source": [
    "Saca la intersección de estos dos últimos conjuntos"
   ]
  },
  {
   "cell_type": "code",
   "execution_count": 30,
   "metadata": {},
   "outputs": [
    {
     "name": "stdout",
     "output_type": "stream",
     "text": [
      "set()\n"
     ]
    }
   ],
   "source": [
    "res = i.intersection(d)\n",
    "print (res)"
   ]
  },
  {
   "cell_type": "markdown",
   "metadata": {},
   "source": [
    "## Ejercicio 3 \n",
    "\n",
    "Dada la lista de colores inviertela y obten lo siguiente (agrupandolo correspondientemente a un conjunto de tipo set) :\n",
    "\n",
    "colores = [\"morado\", \"amarillo\", \"cafe\", \"negro\", \"blanco\", \"ázul\" , \"naranja\", \"gris\", \"verde\", \"rosa\"]\n",
    "\n",
    "1) La letra inicial de cada color\n",
    "\n",
    "2) La letra final de cada color \n",
    "\n",
    "3) La tercera letra de cada color\n",
    "\n"
   ]
  },
  {
   "cell_type": "code",
   "execution_count": 58,
   "metadata": {},
   "outputs": [],
   "source": [
    "colores = [\"morado\", \"amarillo\", \"cafe\", \"negro\", \"blanco\", \"ázul\" , \"naranja\", \"gris\", \"verde\", \"rosa\"]"
   ]
  },
  {
   "cell_type": "code",
   "execution_count": 59,
   "metadata": {},
   "outputs": [
    {
     "name": "stdout",
     "output_type": "stream",
     "text": [
      "['rosa', 'verde', 'gris', 'naranja', 'ázul', 'blanco', 'negro', 'cafe', 'amarillo', 'morado']\n"
     ]
    }
   ],
   "source": [
    "colores.reverse()\n",
    "print(colores)"
   ]
  },
  {
   "cell_type": "code",
   "execution_count": 60,
   "metadata": {},
   "outputs": [
    {
     "name": "stdout",
     "output_type": "stream",
     "text": [
      "{'r', 'g', 'á', 'm', 'b', 'v', 'c', 'n', 'a'}\n"
     ]
    }
   ],
   "source": [
    "letrainicial=[pais[0] for pais in colores]\n",
    "letrainicial = set(letrainicial)\n",
    "print ( letrainicial)"
   ]
  },
  {
   "cell_type": "code",
   "execution_count": 61,
   "metadata": {},
   "outputs": [
    {
     "name": "stdout",
     "output_type": "stream",
     "text": [
      "{'l', 'o', 's', 'e', 'a'}\n"
     ]
    }
   ],
   "source": [
    "letrafinal=[x[-1] for x in colores]\n",
    "letrafinal = set(letrafinal)\n",
    "print(letrafinal)"
   ]
  },
  {
   "cell_type": "code",
   "execution_count": 62,
   "metadata": {},
   "outputs": [
    {
     "name": "stdout",
     "output_type": "stream",
     "text": [
      "{'u', 'r', 'g', 'i', 'f', 's', 'a'}\n"
     ]
    }
   ],
   "source": [
    "terceraLetra=[x[2] for x in colores]\n",
    "terceraLetra = set(terceraLetra)\n",
    "print(terceraLetra)"
   ]
  },
  {
   "cell_type": "markdown",
   "metadata": {},
   "source": [
    "## Ejercicio 4 \n",
    "\n",
    "A un alumno del ITAM le han proporcionado sus calificaciones parciales(primer examen, segundo examen, tercer examen, controles y examen final) por medio de dos listas diferentes y no sabe como obtener el resultado final. Ayuda al alumno por medio de dos métodos diferentes:\n",
    "1) Agrupa las dos listas por medio de un zip.\n",
    "\n",
    "2) Por medio de los índices de cada lista. \n",
    "\n",
    "NOTA: Tienes que comprobar que el tamaño de las dos listas es el mismo. "
   ]
  },
  {
   "cell_type": "markdown",
   "metadata": {},
   "source": [
    "LISTAS: "
   ]
  },
  {
   "cell_type": "code",
   "execution_count": 63,
   "metadata": {},
   "outputs": [],
   "source": [
    "calificaciones=[5,4.3,6,9,6]"
   ]
  },
  {
   "cell_type": "code",
   "execution_count": 64,
   "metadata": {},
   "outputs": [],
   "source": [
    "ponderaciones=[0.20,0.20,0.20,0.10,0.30]"
   ]
  },
  {
   "cell_type": "code",
   "execution_count": 66,
   "metadata": {},
   "outputs": [
    {
     "data": {
      "text/plain": [
       "True"
      ]
     },
     "execution_count": 66,
     "metadata": {},
     "output_type": "execute_result"
    }
   ],
   "source": [
    "len(calificaciones) == len(ponderaciones)"
   ]
  },
  {
   "cell_type": "code",
   "execution_count": 67,
   "metadata": {},
   "outputs": [
    {
     "data": {
      "text/plain": [
       "5.76"
      ]
     },
     "execution_count": 67,
     "metadata": {},
     "output_type": "execute_result"
    }
   ],
   "source": [
    "## 1) \n",
    "a = [x*y for (x,y) in zip (calificaciones,ponderaciones)]\n",
    "sum(a)"
   ]
  },
  {
   "cell_type": "code",
   "execution_count": 71,
   "metadata": {},
   "outputs": [
    {
     "name": "stdout",
     "output_type": "stream",
     "text": [
      "5.76\n"
     ]
    }
   ],
   "source": [
    "## 2)\n",
    "calFinal=0\n",
    "for n in range(0,len(calificaciones)):\n",
    "    calFinal=calificaciones[n]*ponderaciones[n]+calFinal\n",
    "print(calFinal)"
   ]
  },
  {
   "cell_type": "markdown",
   "metadata": {},
   "source": [
    "## Ejercicio 5"
   ]
  },
  {
   "cell_type": "code",
   "execution_count": 74,
   "metadata": {},
   "outputs": [],
   "source": [
    "informacion = {100:('Laura','Contaduria',2), 120:('Juan','Finanzas',5), \n",
    "               130:('Xime','Finanzas', 4), 125:('Rodrigo','Act', 2)}"
   ]
  },
  {
   "cell_type": "code",
   "execution_count": 75,
   "metadata": {},
   "outputs": [
    {
     "data": {
      "text/plain": [
       "dict_values([('Laura', 'Contaduria', 2), ('Juan', 'Finanzas', 5), ('Xime', 'Finanzas', 4), ('Rodrigo', 'Act', 2)])"
      ]
     },
     "execution_count": 75,
     "metadata": {},
     "output_type": "execute_result"
    }
   ],
   "source": [
    "informacion.values()"
   ]
  },
  {
   "cell_type": "code",
   "execution_count": 76,
   "metadata": {},
   "outputs": [
    {
     "data": {
      "text/plain": [
       "dict_items([(100, ('Laura', 'Contaduria', 2)), (120, ('Juan', 'Finanzas', 5)), (130, ('Xime', 'Finanzas', 4)), (125, ('Rodrigo', 'Act', 2))])"
      ]
     },
     "execution_count": 76,
     "metadata": {},
     "output_type": "execute_result"
    }
   ],
   "source": [
    "informacion.items()"
   ]
  },
  {
   "cell_type": "code",
   "execution_count": 77,
   "metadata": {},
   "outputs": [
    {
     "data": {
      "text/plain": [
       "dict_keys([100, 120, 130, 125])"
      ]
     },
     "execution_count": 77,
     "metadata": {},
     "output_type": "execute_result"
    }
   ],
   "source": [
    "informacion.keys()"
   ]
  },
  {
   "cell_type": "code",
   "execution_count": 78,
   "metadata": {},
   "outputs": [],
   "source": [
    "informacion.get(109)"
   ]
  },
  {
   "cell_type": "code",
   "execution_count": 79,
   "metadata": {},
   "outputs": [
    {
     "data": {
      "text/plain": [
       "dict_items([(100, ('Laura', 'Contaduria', 2)), (120, ('Juan', 'Finanzas', 5)), (130, ('Xime', 'Finanzas', 4)), (125, ('Rodrigo', 'Act', 2)), (109, ('Xime', 'Finansas', 5))])"
      ]
     },
     "execution_count": 79,
     "metadata": {},
     "output_type": "execute_result"
    }
   ],
   "source": [
    "informacion.update({109:(\"Xime\",\"Finansas\",5)})\n",
    "informacion.items()\n",
    "                   "
   ]
  },
  {
   "cell_type": "code",
   "execution_count": 80,
   "metadata": {},
   "outputs": [
    {
     "data": {
      "text/plain": [
       "{tuple}"
      ]
     },
     "execution_count": 80,
     "metadata": {},
     "output_type": "execute_result"
    }
   ],
   "source": [
    "{type(x) for x in informacion.items()}"
   ]
  },
  {
   "cell_type": "code",
   "execution_count": 81,
   "metadata": {},
   "outputs": [
    {
     "data": {
      "text/plain": [
       "{(100, 2), (109, 5), (120, 5), (125, 2), (130, 4)}"
      ]
     },
     "execution_count": 81,
     "metadata": {},
     "output_type": "execute_result"
    }
   ],
   "source": [
    "{(x[0], x[1][2]) for x in informacion.items()}"
   ]
  },
  {
   "cell_type": "code",
   "execution_count": 82,
   "metadata": {},
   "outputs": [
    {
     "data": {
      "text/plain": [
       "{'Act', 'Contaduria', 'Finansas', 'Finanzas'}"
      ]
     },
     "execution_count": 82,
     "metadata": {},
     "output_type": "execute_result"
    }
   ],
   "source": [
    "{x[1][1] for x in informacion.items()}"
   ]
  },
  {
   "cell_type": "markdown",
   "metadata": {},
   "source": [
    "## Ejercicio 5\n",
    "\n",
    "El sistema de una escuela ha decidido cambiar la forma de almacenar los datos de sus alumnos inscritos y ha decidido ocupar diccionarios en python. Es por eso que nos han encargado iniciar el diseño que debe incluir : clave, nombre, apellido, edad. \n",
    "Da de alta un alumno con los siguientes datos : Fernanda Calderón 18 años y clave 1402."
   ]
  },
  {
   "cell_type": "markdown",
   "metadata": {},
   "source": [
    "Da de alta e imprime los elementos del alumno"
   ]
  },
  {
   "cell_type": "code",
   "execution_count": 88,
   "metadata": {},
   "outputs": [
    {
     "data": {
      "text/plain": [
       "dict_items([('clave', 1402), ('nombre', 'Fernanda'), ('apellido', 'Calderón'), ('edad', 18)])"
      ]
     },
     "execution_count": 88,
     "metadata": {},
     "output_type": "execute_result"
    }
   ],
   "source": [
    "alumno1= {'clave':1402, 'nombre':'Fernanda', 'apellido':'Calderón', 'edad': 18}\n",
    "alumno1.items()"
   ]
  },
  {
   "cell_type": "markdown",
   "metadata": {},
   "source": [
    "Imprime las llaves primarias"
   ]
  },
  {
   "cell_type": "code",
   "execution_count": 89,
   "metadata": {},
   "outputs": [
    {
     "data": {
      "text/plain": [
       "dict_keys(['clave', 'nombre', 'apellido', 'edad'])"
      ]
     },
     "execution_count": 89,
     "metadata": {},
     "output_type": "execute_result"
    }
   ],
   "source": [
    "alumno1.keys()"
   ]
  },
  {
   "cell_type": "markdown",
   "metadata": {},
   "source": [
    "Imprime los valores de tu diccionario"
   ]
  },
  {
   "cell_type": "code",
   "execution_count": 90,
   "metadata": {},
   "outputs": [
    {
     "data": {
      "text/plain": [
       "dict_values([1402, 'Fernanda', 'Calderón', 18])"
      ]
     },
     "execution_count": 90,
     "metadata": {},
     "output_type": "execute_result"
    }
   ],
   "source": [
    "alumno1.values()"
   ]
  },
  {
   "cell_type": "markdown",
   "metadata": {},
   "source": [
    "Cambia la edad de la alumna por 20 años"
   ]
  },
  {
   "cell_type": "code",
   "execution_count": 91,
   "metadata": {},
   "outputs": [
    {
     "data": {
      "text/plain": [
       "dict_items([('clave', 1402), ('nombre', 'Fernanda'), ('apellido', 'Calderón'), ('edad', 20)])"
      ]
     },
     "execution_count": 91,
     "metadata": {},
     "output_type": "execute_result"
    }
   ],
   "source": [
    "alumno1['edad']=20\n",
    "alumno1.items()"
   ]
  },
  {
   "cell_type": "markdown",
   "metadata": {},
   "source": [
    "## Ejercicio 6\n",
    "\n",
    "Escribe un programa que pase a mayúsculas la \"clave\" del siguiente diccionario  \n",
    "dic={\"hca\":10,\"eco\":9,\"cálculo\":9,\"redacción\":8}"
   ]
  },
  {
   "cell_type": "code",
   "execution_count": 93,
   "metadata": {},
   "outputs": [
    {
     "name": "stdout",
     "output_type": "stream",
     "text": [
      "['Hca', 'Eco', 'Cálculo', 'Redacción']\n"
     ]
    }
   ],
   "source": [
    "dic={\"hca\":10,\"eco\":9,\"cálculo\":9,\"redacción\":8}\n",
    "a=[x.capitalize() for x in dic]\n",
    "print(a)"
   ]
  },
  {
   "cell_type": "markdown",
   "metadata": {},
   "source": [
    "## Ejercicio 7\n",
    "\n",
    "Escribe un programa que multiplique por dos el valor del siguiente diccionario  \n",
    "d7={\"peras\":12,\"manzanas\":35,\"uvas\":39,\"platanos\":12}"
   ]
  },
  {
   "cell_type": "code",
   "execution_count": 94,
   "metadata": {},
   "outputs": [],
   "source": [
    "d7={\"peras\":12,\"manzanas\":35,\"uvas\":39,\"platanos\":12}"
   ]
  },
  {
   "cell_type": "code",
   "execution_count": 95,
   "metadata": {},
   "outputs": [
    {
     "data": {
      "text/plain": [
       "[24, 70, 78, 24]"
      ]
     },
     "execution_count": 95,
     "metadata": {},
     "output_type": "execute_result"
    }
   ],
   "source": [
    "[x*2 for x in d7.values()]"
   ]
  },
  {
   "cell_type": "markdown",
   "metadata": {},
   "source": [
    "## Ejercicio 8\n",
    "\n",
    "Considera los siguientes tres conjuntos de números enteros, positivos, menores a 10,000:\n",
    "* los múltiplos de 9,\n",
    "\n",
    "{9,18,27,...,9999}\n",
    "\n",
    "* los múltiplos de 11,\n",
    "\n",
    "{11,22,33,44,...9999}\n",
    "\n",
    "* los múltiplos de 7,\n",
    "\n",
    "{7,14,21,28,...9996}\n",
    "  \n",
    "Genera los elementos de los conjuntos descritos y asigna nombres apropiados que\n",
    "identifiquen cada conjunto. \n",
    "  \n",
    "* Con los conjuntos definidos anteriormente y operaciones apropiadas contesta lo siguiente:  \n",
    "  \n",
    "a) Encuentra el conjunto de los números que a la vez son múltiplos de 9 y 11, pero que no son múltiplos de 7 (un elemento de este conjunto es el número 99) y responde, ¿Cuántos elementos tiene el conjunto encontrado?\n",
    "\n",
    "b) Encuentra el conjunto de los números que a la vez son múltiplos de 11 y 7, pero que no son múltiplos de 9 (un elemento de este conjunto es el número 77) y responde, ¿Cuántos elementos tiene el conjunto encontrado?\n",
    "\n",
    "c) Encuentra el conjunto de los números que a la vez son múltiplos de 9 y 7, pero que no son múltiplos de 11 (un elemento de este conjunto es el número 63) y responde, ¿Cuántos elementos tiene el conjunto encontrado?"
   ]
  },
  {
   "cell_type": "code",
   "execution_count": 1,
   "metadata": {},
   "outputs": [],
   "source": [
    "conj9= set(range(9,10000,9))\n",
    "conj11=set(range(11,10000,11))\n",
    "conj7=set(range(7,9997,7))\n"
   ]
  },
  {
   "cell_type": "code",
   "execution_count": 3,
   "metadata": {},
   "outputs": [
    {
     "data": {
      "text/plain": [
       "144"
      ]
     },
     "execution_count": 3,
     "metadata": {},
     "output_type": "execute_result"
    }
   ],
   "source": [
    "conj2=(conj7&conj9)-conj11\n",
    "len(conj2)"
   ]
  },
  {
   "cell_type": "markdown",
   "metadata": {},
   "source": [
    "## Ejercicio 9 "
   ]
  },
  {
   "cell_type": "code",
   "execution_count": null,
   "metadata": {},
   "outputs": [],
   "source": []
  }
 ],
 "metadata": {
  "kernelspec": {
   "display_name": "Python 3",
   "language": "python",
   "name": "python3"
  },
  "language_info": {
   "codemirror_mode": {
    "name": "ipython",
    "version": 3
   },
   "file_extension": ".py",
   "mimetype": "text/x-python",
   "name": "python",
   "nbconvert_exporter": "python",
   "pygments_lexer": "ipython3",
   "version": "3.8.5"
  }
 },
 "nbformat": 4,
 "nbformat_minor": 2
}
