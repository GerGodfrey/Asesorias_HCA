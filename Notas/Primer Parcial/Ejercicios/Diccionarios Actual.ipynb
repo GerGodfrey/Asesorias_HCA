{
 "cells": [
  {
   "cell_type": "markdown",
   "metadata": {},
   "source": [
    "## Diccionarios"
   ]
  },
  {
   "cell_type": "markdown",
   "metadata": {},
   "source": [
    "Permite establecer una relación entre la información y sus claves (o llaves), lo cual permite un acceso directo."
   ]
  },
  {
   "cell_type": "code",
   "execution_count": 7,
   "metadata": {},
   "outputs": [],
   "source": [
    "informacion = {100:('Laura','Contaduria',2), 120:('Juan','Finanzas',5), \n",
    "               130:('Xime','Finanzas', 4), 125:('Rodrigo','Act', 2)}"
   ]
  },
  {
   "cell_type": "code",
   "execution_count": 2,
   "metadata": {},
   "outputs": [
    {
     "data": {
      "text/plain": [
       "dict_values([('Juan', 'Finanzas', 5), ('Xime', 'Finanzas', 4), ('Rodrigo', 'Act', 2)])"
      ]
     },
     "execution_count": 2,
     "metadata": {},
     "output_type": "execute_result"
    }
   ],
   "source": [
    "informacion.values()"
   ]
  },
  {
   "cell_type": "code",
   "execution_count": 3,
   "metadata": {},
   "outputs": [
    {
     "data": {
      "text/plain": [
       "dict_items([(100, ('Laura', 'Contaduria', 2)), (120, ('Juan', 'Finanzas', 5)), (130, ('Xime', 'Finanzas', 4)), (125, ('Rodrigo', 'Act', 2))])"
      ]
     },
     "execution_count": 3,
     "metadata": {},
     "output_type": "execute_result"
    }
   ],
   "source": [
    "informacion.items()"
   ]
  },
  {
   "cell_type": "code",
   "execution_count": 4,
   "metadata": {},
   "outputs": [
    {
     "data": {
      "text/plain": [
       "dict_keys([100, 120, 130, 125])"
      ]
     },
     "execution_count": 4,
     "metadata": {},
     "output_type": "execute_result"
    }
   ],
   "source": [
    "informacion.keys()"
   ]
  },
  {
   "cell_type": "code",
   "execution_count": 3,
   "metadata": {},
   "outputs": [],
   "source": [
    "informacion.get(109)"
   ]
  },
  {
   "cell_type": "code",
   "execution_count": 8,
   "metadata": {},
   "outputs": [
    {
     "data": {
      "text/plain": [
       "dict_items([(100, ('Laura', 'Contaduria', 2)), (120, ('Juan', 'Finanzas', 5)), (130, ('Xime', 'Finanzas', 4)), (125, ('Rodrigo', 'Act', 2)), (109, ('Xime', 'Finansas', 5))])"
      ]
     },
     "execution_count": 8,
     "metadata": {},
     "output_type": "execute_result"
    }
   ],
   "source": [
    "informacion.update({109:(\"Xime\",\"Finansas\",5)})\n",
    "informacion.items()\n",
    "                   "
   ]
  },
  {
   "cell_type": "code",
   "execution_count": 14,
   "metadata": {},
   "outputs": [
    {
     "data": {
      "text/plain": [
       "{tuple}"
      ]
     },
     "execution_count": 14,
     "metadata": {},
     "output_type": "execute_result"
    }
   ],
   "source": [
    "{type(x) for x in informacion.items()}"
   ]
  },
  {
   "cell_type": "code",
   "execution_count": 7,
   "metadata": {},
   "outputs": [
    {
     "data": {
      "text/plain": [
       "{(100, 2), (120, 5), (125, 2), (130, 5)}"
      ]
     },
     "execution_count": 7,
     "metadata": {},
     "output_type": "execute_result"
    }
   ],
   "source": [
    "{(x[0], x[1][2]) for x in informacion.items()}"
   ]
  },
  {
   "cell_type": "code",
   "execution_count": 8,
   "metadata": {},
   "outputs": [
    {
     "data": {
      "text/plain": [
       "{'Act', 'Contaduria', 'Finansas', 'Finanzas'}"
      ]
     },
     "execution_count": 8,
     "metadata": {},
     "output_type": "execute_result"
    }
   ],
   "source": [
    "{x[1][1] for x in informacion.items()}"
   ]
  },
  {
   "cell_type": "markdown",
   "metadata": {},
   "source": [
    "Si se tiene información de varios tipos, se puede utilizar un diccionario"
   ]
  },
  {
   "cell_type": "code",
   "execution_count": 17,
   "metadata": {},
   "outputs": [
    {
     "data": {
      "text/plain": [
       "dict_items([('clave', 100), ('nombre', 'Carolina'), ('carrera', 'RI'), ('edad', 20)])"
      ]
     },
     "execution_count": 17,
     "metadata": {},
     "output_type": "execute_result"
    }
   ],
   "source": [
    "alumno1= {'clave':100, 'nombre':'Carolina', 'carrera':'RI', 'edad': 20}\n",
    "alumno1.items()"
   ]
  },
  {
   "cell_type": "code",
   "execution_count": 10,
   "metadata": {},
   "outputs": [
    {
     "data": {
      "text/plain": [
       "dict_keys(['clave', 'nombre', 'carrera', 'edad'])"
      ]
     },
     "execution_count": 10,
     "metadata": {},
     "output_type": "execute_result"
    }
   ],
   "source": [
    "alumno1.keys()"
   ]
  },
  {
   "cell_type": "code",
   "execution_count": 11,
   "metadata": {},
   "outputs": [
    {
     "data": {
      "text/plain": [
       "dict_values([100, 'Carolina', 'RI', 20])"
      ]
     },
     "execution_count": 11,
     "metadata": {},
     "output_type": "execute_result"
    }
   ],
   "source": [
    "alumno1.values()"
   ]
  },
  {
   "cell_type": "code",
   "execution_count": 18,
   "metadata": {},
   "outputs": [
    {
     "data": {
      "text/plain": [
       "dict_items([('clave', 100), ('nombre', 'Carolina'), ('carrera', 'Economia'), ('edad', 20)])"
      ]
     },
     "execution_count": 18,
     "metadata": {},
     "output_type": "execute_result"
    }
   ],
   "source": [
    "alumno1['carrera']='Economia'\n",
    "\n",
    "alumno1.items()"
   ]
  },
  {
   "cell_type": "markdown",
   "metadata": {},
   "source": [
    "También se pueden construir tablas con los diccionarios."
   ]
  },
  {
   "cell_type": "code",
   "execution_count": 22,
   "metadata": {},
   "outputs": [
    {
     "name": "stdout",
     "output_type": "stream",
     "text": [
      "{'nombre': ('Sandy', 'Diego', 'Laura'), 'edad': (18, 20, 18), 'carrera': ('Eco', 'Conta', 'Eco')}\n"
     ]
    }
   ],
   "source": [
    "dato1 =('Sandy','Diego','Laura')\n",
    "dato2 = (18, 20, 18)\n",
    "dato3 = ('Eco', 'Conta', 'Eco')\n",
    "tabla = {'nombre':dato1, 'edad':dato2, 'carrera': dato3}\n",
    "print(tabla)"
   ]
  },
  {
   "cell_type": "code",
   "execution_count": 31,
   "metadata": {},
   "outputs": [
    {
     "name": "stdout",
     "output_type": "stream",
     "text": [
      "Sandy\n",
      "Eco\n",
      "18\n"
     ]
    }
   ],
   "source": [
    "print(tabla[\"nombre\"][0]) \n",
    "print(tabla[\"carrera\"][0])\n",
    "print(tabla[\"edad\"][0])"
   ]
  },
  {
   "cell_type": "code",
   "execution_count": 14,
   "metadata": {},
   "outputs": [
    {
     "data": {
      "text/plain": [
       "dict_items([('nombre', ('Sandy', 'Diego', 'Laura')), ('edad', (18, 20, 18)), ('carrera', ('Eco', 'Conta', 'Eco'))])"
      ]
     },
     "execution_count": 14,
     "metadata": {},
     "output_type": "execute_result"
    }
   ],
   "source": [
    "tabla.items()"
   ]
  },
  {
   "cell_type": "code",
   "execution_count": 32,
   "metadata": {},
   "outputs": [
    {
     "data": {
      "text/plain": [
       "('Sandy', 18, 'Eco')"
      ]
     },
     "execution_count": 32,
     "metadata": {},
     "output_type": "execute_result"
    }
   ],
   "source": [
    "tabla['nombre'][0], tabla['edad'][0], tabla['carrera'][0]"
   ]
  },
  {
   "cell_type": "code",
   "execution_count": 16,
   "metadata": {},
   "outputs": [
    {
     "data": {
      "text/plain": [
       "dict_keys(['nombre', 'edad', 'carrera'])"
      ]
     },
     "execution_count": 16,
     "metadata": {},
     "output_type": "execute_result"
    }
   ],
   "source": [
    "tabla.keys()"
   ]
  },
  {
   "cell_type": "code",
   "execution_count": null,
   "metadata": {},
   "outputs": [],
   "source": []
  },
  {
   "cell_type": "code",
   "execution_count": null,
   "metadata": {},
   "outputs": [],
   "source": []
  },
  {
   "cell_type": "code",
   "execution_count": 17,
   "metadata": {},
   "outputs": [],
   "source": [
    "dicc={'nombre':('Hugo','Paco','Luis','Ximena','Ari'),\n",
    "      'edad':(18,16,18,23,19),\n",
    "      'carrera':('Mate','Finanzas','Eco','Act','Act y Mate'),\n",
    "      'semestre':(2,2,1,4,3)}"
   ]
  },
  {
   "cell_type": "code",
   "execution_count": 18,
   "metadata": {},
   "outputs": [
    {
     "name": "stdout",
     "output_type": "stream",
     "text": [
      "{'nombre': ('Hugo', 'Paco', 'Luis', 'Ximena', 'Ari'), 'edad': (18, 16, 18, 23, 19), 'carrera': ('Mate', 'Finanzas', 'Eco', 'Act', 'Act y Mate'), 'semestre': (2, 2, 1, 4, 3)}\n"
     ]
    }
   ],
   "source": [
    "print(dicc)"
   ]
  },
  {
   "cell_type": "code",
   "execution_count": 19,
   "metadata": {},
   "outputs": [
    {
     "data": {
      "text/plain": [
       "dict_items([('nombre', ('Hugo', 'Paco', 'Luis', 'Ximena', 'Ari')), ('edad', (18, 16, 18, 23, 19)), ('carrera', ('Mate', 'Finanzas', 'Eco', 'Act', 'Act y Mate')), ('semestre', (2, 2, 1, 4, 3))])"
      ]
     },
     "execution_count": 19,
     "metadata": {},
     "output_type": "execute_result"
    }
   ],
   "source": [
    "dicc.items()"
   ]
  },
  {
   "cell_type": "code",
   "execution_count": 20,
   "metadata": {},
   "outputs": [
    {
     "data": {
      "text/plain": [
       "dict_values([('Hugo', 'Paco', 'Luis', 'Ximena', 'Ari'), (18, 16, 18, 23, 19), ('Mate', 'Finanzas', 'Eco', 'Act', 'Act y Mate'), (2, 2, 1, 4, 3)])"
      ]
     },
     "execution_count": 20,
     "metadata": {},
     "output_type": "execute_result"
    }
   ],
   "source": [
    "dicc.values()"
   ]
  },
  {
   "cell_type": "code",
   "execution_count": 21,
   "metadata": {},
   "outputs": [
    {
     "data": {
      "text/plain": [
       "dict_keys(['nombre', 'edad', 'carrera', 'semestre'])"
      ]
     },
     "execution_count": 21,
     "metadata": {},
     "output_type": "execute_result"
    }
   ],
   "source": [
    "dicc.keys()"
   ]
  },
  {
   "cell_type": "code",
   "execution_count": 22,
   "metadata": {},
   "outputs": [
    {
     "data": {
      "text/plain": [
       "'Mate'"
      ]
     },
     "execution_count": 22,
     "metadata": {},
     "output_type": "execute_result"
    }
   ],
   "source": [
    "dicc['carrera'][0]"
   ]
  },
  {
   "cell_type": "code",
   "execution_count": 23,
   "metadata": {},
   "outputs": [
    {
     "name": "stdout",
     "output_type": "stream",
     "text": [
      "['nombre', 'edad', 'carrera', 'semestre']\n"
     ]
    }
   ],
   "source": [
    "prueba= [i for i in dicc]   # muestra el nombre de las llaves\n",
    "print(prueba)"
   ]
  },
  {
   "cell_type": "code",
   "execution_count": 24,
   "metadata": {},
   "outputs": [
    {
     "name": "stdout",
     "output_type": "stream",
     "text": [
      "[('Hugo', 'Paco', 'Luis', 'Ximena', 'Ari'), (18, 16, 18, 23, 19), ('Mate', 'Finanzas', 'Eco', 'Act', 'Act y Mate'), (2, 2, 1, 4, 3)]\n"
     ]
    }
   ],
   "source": [
    "print([dicc[i] for i in dicc])  # muestra la informacion"
   ]
  },
  {
   "cell_type": "code",
   "execution_count": null,
   "metadata": {},
   "outputs": [],
   "source": []
  },
  {
   "cell_type": "code",
   "execution_count": null,
   "metadata": {},
   "outputs": [],
   "source": []
  },
  {
   "cell_type": "markdown",
   "metadata": {},
   "source": [
    "## Métodos\n",
    "* **clear()**. Este método remueve todos los elementos del diccionario.\n",
    "* **copy()** . Este método devuelve una copia del diccionario\n",
    "* **get()** . Este método devuelve el valor en base a una coincidencia de búsqueda en un diccionario mediante una clave, de lo contrario devuelve el objeto None\n",
    "* **items()**. Este método devuelve una lista de pares de diccionarios (clave, valor), como 2 tuplas.\n",
    "* **pop()**. Este método remueve específicamente una clave de diccionario y devuelve valor correspondiente\n",
    "* **keys()**. Este método devuelve una lista de las claves del diccionario\n",
    "* **values()**. Este método devuelve una lista de los valores del diccionario\n",
    "* **update()**. Este método actualiza un diccionario agregando los pares clave-valores\n"
   ]
  },
  {
   "cell_type": "markdown",
   "metadata": {},
   "source": [
    "## Problema 1"
   ]
  },
  {
   "cell_type": "markdown",
   "metadata": {},
   "source": [
    "Escribe un programa que pase a mayúsculas la \"clave\" del siguiente diccionario  \n",
    "dic={\"hca\":10,\"eco\":9,\"cálculo\":9,\"redacción\":8}"
   ]
  },
  {
   "cell_type": "code",
   "execution_count": 44,
   "metadata": {},
   "outputs": [],
   "source": [
    "dic={\"hca\":10,\"eco\":9,\"cálculo\":9,\"redacción\":8}"
   ]
  },
  {
   "cell_type": "code",
   "execution_count": 59,
   "metadata": {},
   "outputs": [
    {
     "name": "stdout",
     "output_type": "stream",
     "text": [
      "['Hca', 'Eco', 'Cálculo', 'Redacción']\n"
     ]
    }
   ],
   "source": [
    "a=[x.capitalize() for x in dic]\n",
    "print(a)"
   ]
  },
  {
   "cell_type": "code",
   "execution_count": 51,
   "metadata": {},
   "outputs": [
    {
     "data": {
      "text/plain": [
       "{'hca': 10, 'eco': 9, 'cálculo': 9, 'redacción': 8}"
      ]
     },
     "execution_count": 51,
     "metadata": {},
     "output_type": "execute_result"
    }
   ],
   "source": [
    "dic"
   ]
  },
  {
   "cell_type": "code",
   "execution_count": null,
   "metadata": {},
   "outputs": [],
   "source": []
  },
  {
   "cell_type": "markdown",
   "metadata": {},
   "source": [
    "Escribe un programa que multiplique por dos el valor del siguiente diccionario  \n",
    "d7={\"peras\":12,\"manzanas\":35,\"uvas\":39,\"platanos\":12}"
   ]
  },
  {
   "cell_type": "code",
   "execution_count": 61,
   "metadata": {},
   "outputs": [],
   "source": [
    "d7={\"peras\":12,\"manzanas\":35,\"uvas\":39,\"platanos\":12}"
   ]
  },
  {
   "cell_type": "code",
   "execution_count": 65,
   "metadata": {},
   "outputs": [
    {
     "data": {
      "text/plain": [
       "[24, 70, 78, 24]"
      ]
     },
     "execution_count": 65,
     "metadata": {},
     "output_type": "execute_result"
    }
   ],
   "source": [
    "[x*2 for x in d7.values()]"
   ]
  },
  {
   "cell_type": "code",
   "execution_count": 29,
   "metadata": {},
   "outputs": [
    {
     "data": {
      "text/plain": [
       "[24, 70, 78, 24]"
      ]
     },
     "execution_count": 29,
     "metadata": {},
     "output_type": "execute_result"
    }
   ],
   "source": []
  },
  {
   "cell_type": "code",
   "execution_count": 30,
   "metadata": {},
   "outputs": [
    {
     "data": {
      "text/plain": [
       "[24, 70, 78, 24]"
      ]
     },
     "execution_count": 30,
     "metadata": {},
     "output_type": "execute_result"
    }
   ],
   "source": []
  },
  {
   "cell_type": "code",
   "execution_count": null,
   "metadata": {},
   "outputs": [],
   "source": []
  },
  {
   "cell_type": "code",
   "execution_count": 31,
   "metadata": {},
   "outputs": [],
   "source": []
  },
  {
   "cell_type": "code",
   "execution_count": 32,
   "metadata": {},
   "outputs": [
    {
     "data": {
      "text/plain": [
       "[24, 70, 78, 24]"
      ]
     },
     "execution_count": 32,
     "metadata": {},
     "output_type": "execute_result"
    }
   ],
   "source": []
  },
  {
   "cell_type": "code",
   "execution_count": 33,
   "metadata": {},
   "outputs": [
    {
     "data": {
      "text/plain": [
       "[(12, 3.2, 12, 3.2), (35, 1, 35, 1), (39, 0, 39, 0), (12, 1.5, 12, 1.5)]"
      ]
     },
     "execution_count": 33,
     "metadata": {},
     "output_type": "execute_result"
    }
   ],
   "source": []
  },
  {
   "cell_type": "code",
   "execution_count": null,
   "metadata": {},
   "outputs": [],
   "source": []
  },
  {
   "cell_type": "code",
   "execution_count": null,
   "metadata": {},
   "outputs": [],
   "source": []
  },
  {
   "cell_type": "markdown",
   "metadata": {},
   "source": [
    "## Un ejercicio de matrices"
   ]
  },
  {
   "cell_type": "markdown",
   "metadata": {},
   "source": [
    "Ana tiene el triple de edad que su hijo.  Dentro de 15 años, la edad de Ana será el doble de la de su hijo.\n",
    "Cuántos años tiene Ana y su hijo?"
   ]
  },
  {
   "cell_type": "markdown",
   "metadata": {},
   "source": [
    "a=3h\n",
    "\n",
    "a+15=2(h+15)"
   ]
  },
  {
   "cell_type": "code",
   "execution_count": 34,
   "metadata": {},
   "outputs": [],
   "source": [
    "import numpy as np"
   ]
  },
  {
   "cell_type": "code",
   "execution_count": 35,
   "metadata": {},
   "outputs": [
    {
     "name": "stdout",
     "output_type": "stream",
     "text": [
      "Ana tiene [[45.]] años y su hijo tiene [[15.]]\n"
     ]
    }
   ],
   "source": [
    "ecuaciones=np.mat('1 -3; 1 -2')\n",
    "resultados=np.mat('0;15')\n",
    "\n",
    "edades=ecuaciones.I*resultados\n",
    "print('Ana tiene', edades[0],'años y su hijo tiene', edades[1])"
   ]
  },
  {
   "cell_type": "markdown",
   "metadata": {},
   "source": [
    "En el salón de Santiago, hay un total de 27 alumnos, habiendo el doble de mujeres que de hombres.\n",
    "Cuántos hombres hay en la clase de Santiago?"
   ]
  },
  {
   "cell_type": "markdown",
   "metadata": {},
   "source": [
    "### m+h=27\n",
    "### m=2h"
   ]
  },
  {
   "cell_type": "code",
   "execution_count": 36,
   "metadata": {},
   "outputs": [
    {
     "name": "stdout",
     "output_type": "stream",
     "text": [
      "La cantidad de mujeres es de [[18.]] y la de hombres es de [[9.]]\n"
     ]
    }
   ],
   "source": [
    "matriz1= np.mat(\"1 1; 1 -2\")\n",
    "resultados= np.mat(\"27;0\")\n",
    "alumnos= matriz1.I*resultados\n",
    "\n",
    "print(\"La cantidad de mujeres es de\", alumnos[0], \"y la de hombres es de\", alumnos[1])"
   ]
  },
  {
   "cell_type": "code",
   "execution_count": 37,
   "metadata": {},
   "outputs": [
    {
     "name": "stdout",
     "output_type": "stream",
     "text": [
      "18 mujeres\n",
      "9 hombres\n"
     ]
    }
   ],
   "source": [
    "# utilizando algebra lineal\n",
    "alumnos2 = np.linalg.solve(matriz1, resultados)\n",
    "print(int(alumnos2[0]), \"mujeres\")\n",
    "print(int(alumnos2[1]), \"hombres\")"
   ]
  },
  {
   "cell_type": "code",
   "execution_count": null,
   "metadata": {},
   "outputs": [],
   "source": []
  },
  {
   "cell_type": "code",
   "execution_count": null,
   "metadata": {},
   "outputs": [],
   "source": []
  },
  {
   "cell_type": "markdown",
   "metadata": {},
   "source": [
    "### Retomando diccionarios"
   ]
  },
  {
   "cell_type": "markdown",
   "metadata": {},
   "source": [
    "### Uso de pandas"
   ]
  },
  {
   "cell_type": "code",
   "execution_count": 67,
   "metadata": {},
   "outputs": [],
   "source": [
    "import pandas as pd"
   ]
  },
  {
   "cell_type": "code",
   "execution_count": 68,
   "metadata": {},
   "outputs": [],
   "source": [
    "from pandas import DataFrame"
   ]
  },
  {
   "cell_type": "code",
   "execution_count": 77,
   "metadata": {},
   "outputs": [],
   "source": [
    "# Primeo voy a crear un diccionario\n",
    "dicci = {'nombre':('Santiago','Xime','Sandy', 'Fernanda','Francisco','Luis'),\n",
    "         'edad':(18,21,18,23,20,19),\n",
    "         'carrera':('Eco','Finanzas','Actuaria','Eco','Eco','Finanzas')}"
   ]
  },
  {
   "cell_type": "code",
   "execution_count": 78,
   "metadata": {},
   "outputs": [
    {
     "data": {
      "text/plain": [
       "dict_keys(['nombre', 'edad', 'carrera'])"
      ]
     },
     "execution_count": 78,
     "metadata": {},
     "output_type": "execute_result"
    }
   ],
   "source": [
    "# muestra solo las llaves\n",
    "dicci.keys()"
   ]
  },
  {
   "cell_type": "code",
   "execution_count": 79,
   "metadata": {},
   "outputs": [
    {
     "data": {
      "text/plain": [
       "dict_values([('Santiago', 'Xime', 'Sandy', 'Fernanda', 'Francisco', 'Luis'), (18, 21, 18, 23, 20, 19), ('Eco', 'Finanzas', 'Actuaria', 'Eco', 'Eco', 'Finanzas')])"
      ]
     },
     "execution_count": 79,
     "metadata": {},
     "output_type": "execute_result"
    }
   ],
   "source": [
    "# muestra solo los valores\n",
    "dicci.values()"
   ]
  },
  {
   "cell_type": "code",
   "execution_count": 80,
   "metadata": {},
   "outputs": [
    {
     "data": {
      "text/plain": [
       "dict_items([('nombre', ('Santiago', 'Xime', 'Sandy', 'Fernanda', 'Francisco', 'Luis')), ('edad', (18, 21, 18, 23, 20, 19)), ('carrera', ('Eco', 'Finanzas', 'Actuaria', 'Eco', 'Eco', 'Finanzas'))])"
      ]
     },
     "execution_count": 80,
     "metadata": {},
     "output_type": "execute_result"
    }
   ],
   "source": [
    "# muestra llaves y datos(informacion)\n",
    "dicci.items()"
   ]
  },
  {
   "cell_type": "code",
   "execution_count": 81,
   "metadata": {},
   "outputs": [
    {
     "data": {
      "text/html": [
       "<div>\n",
       "<style scoped>\n",
       "    .dataframe tbody tr th:only-of-type {\n",
       "        vertical-align: middle;\n",
       "    }\n",
       "\n",
       "    .dataframe tbody tr th {\n",
       "        vertical-align: top;\n",
       "    }\n",
       "\n",
       "    .dataframe thead th {\n",
       "        text-align: right;\n",
       "    }\n",
       "</style>\n",
       "<table border=\"1\" class=\"dataframe\">\n",
       "  <thead>\n",
       "    <tr style=\"text-align: right;\">\n",
       "      <th></th>\n",
       "      <th>nombre</th>\n",
       "      <th>edad</th>\n",
       "      <th>carrera</th>\n",
       "    </tr>\n",
       "  </thead>\n",
       "  <tbody>\n",
       "    <tr>\n",
       "      <th>0</th>\n",
       "      <td>Santiago</td>\n",
       "      <td>18</td>\n",
       "      <td>Eco</td>\n",
       "    </tr>\n",
       "    <tr>\n",
       "      <th>1</th>\n",
       "      <td>Xime</td>\n",
       "      <td>21</td>\n",
       "      <td>Finanzas</td>\n",
       "    </tr>\n",
       "    <tr>\n",
       "      <th>2</th>\n",
       "      <td>Sandy</td>\n",
       "      <td>18</td>\n",
       "      <td>Actuaria</td>\n",
       "    </tr>\n",
       "    <tr>\n",
       "      <th>3</th>\n",
       "      <td>Fernanda</td>\n",
       "      <td>23</td>\n",
       "      <td>Eco</td>\n",
       "    </tr>\n",
       "    <tr>\n",
       "      <th>4</th>\n",
       "      <td>Francisco</td>\n",
       "      <td>20</td>\n",
       "      <td>Eco</td>\n",
       "    </tr>\n",
       "    <tr>\n",
       "      <th>5</th>\n",
       "      <td>Luis</td>\n",
       "      <td>19</td>\n",
       "      <td>Finanzas</td>\n",
       "    </tr>\n",
       "  </tbody>\n",
       "</table>\n",
       "</div>"
      ],
      "text/plain": [
       "      nombre  edad   carrera\n",
       "0   Santiago    18       Eco\n",
       "1       Xime    21  Finanzas\n",
       "2      Sandy    18  Actuaria\n",
       "3   Fernanda    23       Eco\n",
       "4  Francisco    20       Eco\n",
       "5       Luis    19  Finanzas"
      ]
     },
     "execution_count": 81,
     "metadata": {},
     "output_type": "execute_result"
    }
   ],
   "source": [
    "defi = pd.DataFrame(dicci)\n",
    "defi"
   ]
  },
  {
   "cell_type": "code",
   "execution_count": 45,
   "metadata": {},
   "outputs": [
    {
     "data": {
      "text/html": [
       "<div>\n",
       "<style scoped>\n",
       "    .dataframe tbody tr th:only-of-type {\n",
       "        vertical-align: middle;\n",
       "    }\n",
       "\n",
       "    .dataframe tbody tr th {\n",
       "        vertical-align: top;\n",
       "    }\n",
       "\n",
       "    .dataframe thead th {\n",
       "        text-align: right;\n",
       "    }\n",
       "</style>\n",
       "<table border=\"1\" class=\"dataframe\">\n",
       "  <thead>\n",
       "    <tr style=\"text-align: right;\">\n",
       "      <th></th>\n",
       "      <th>nombre</th>\n",
       "      <th>edad</th>\n",
       "      <th>carrera</th>\n",
       "    </tr>\n",
       "  </thead>\n",
       "  <tbody>\n",
       "    <tr>\n",
       "      <th>0</th>\n",
       "      <td>Santiago</td>\n",
       "      <td>18</td>\n",
       "      <td>Eco</td>\n",
       "    </tr>\n",
       "    <tr>\n",
       "      <th>1</th>\n",
       "      <td>Xime</td>\n",
       "      <td>21</td>\n",
       "      <td>Finanzas</td>\n",
       "    </tr>\n",
       "  </tbody>\n",
       "</table>\n",
       "</div>"
      ],
      "text/plain": [
       "     nombre  edad   carrera\n",
       "0  Santiago    18       Eco\n",
       "1      Xime    21  Finanzas"
      ]
     },
     "execution_count": 45,
     "metadata": {},
     "output_type": "execute_result"
    }
   ],
   "source": [
    "defi[0:2]"
   ]
  },
  {
   "cell_type": "code",
   "execution_count": 46,
   "metadata": {},
   "outputs": [
    {
     "data": {
      "text/html": [
       "<div>\n",
       "<style scoped>\n",
       "    .dataframe tbody tr th:only-of-type {\n",
       "        vertical-align: middle;\n",
       "    }\n",
       "\n",
       "    .dataframe tbody tr th {\n",
       "        vertical-align: top;\n",
       "    }\n",
       "\n",
       "    .dataframe thead th {\n",
       "        text-align: right;\n",
       "    }\n",
       "</style>\n",
       "<table border=\"1\" class=\"dataframe\">\n",
       "  <thead>\n",
       "    <tr style=\"text-align: right;\">\n",
       "      <th></th>\n",
       "      <th>nombre</th>\n",
       "      <th>edad</th>\n",
       "      <th>carrera</th>\n",
       "    </tr>\n",
       "  </thead>\n",
       "  <tbody>\n",
       "    <tr>\n",
       "      <th>5</th>\n",
       "      <td>Luis</td>\n",
       "      <td>19</td>\n",
       "      <td>Finanzas</td>\n",
       "    </tr>\n",
       "    <tr>\n",
       "      <th>4</th>\n",
       "      <td>Francisco</td>\n",
       "      <td>20</td>\n",
       "      <td>Eco</td>\n",
       "    </tr>\n",
       "    <tr>\n",
       "      <th>3</th>\n",
       "      <td>Fernanda</td>\n",
       "      <td>23</td>\n",
       "      <td>Eco</td>\n",
       "    </tr>\n",
       "  </tbody>\n",
       "</table>\n",
       "</div>"
      ],
      "text/plain": [
       "      nombre  edad   carrera\n",
       "5       Luis    19  Finanzas\n",
       "4  Francisco    20       Eco\n",
       "3   Fernanda    23       Eco"
      ]
     },
     "execution_count": 46,
     "metadata": {},
     "output_type": "execute_result"
    }
   ],
   "source": [
    "defi[5:2:-1]"
   ]
  },
  {
   "cell_type": "code",
   "execution_count": 47,
   "metadata": {},
   "outputs": [
    {
     "data": {
      "text/html": [
       "<div>\n",
       "<style scoped>\n",
       "    .dataframe tbody tr th:only-of-type {\n",
       "        vertical-align: middle;\n",
       "    }\n",
       "\n",
       "    .dataframe tbody tr th {\n",
       "        vertical-align: top;\n",
       "    }\n",
       "\n",
       "    .dataframe thead th {\n",
       "        text-align: right;\n",
       "    }\n",
       "</style>\n",
       "<table border=\"1\" class=\"dataframe\">\n",
       "  <thead>\n",
       "    <tr style=\"text-align: right;\">\n",
       "      <th></th>\n",
       "      <th>nombre</th>\n",
       "      <th>edad</th>\n",
       "      <th>carrera</th>\n",
       "    </tr>\n",
       "  </thead>\n",
       "  <tbody>\n",
       "    <tr>\n",
       "      <th>5</th>\n",
       "      <td>Luis</td>\n",
       "      <td>19</td>\n",
       "      <td>Finanzas</td>\n",
       "    </tr>\n",
       "    <tr>\n",
       "      <th>4</th>\n",
       "      <td>Francisco</td>\n",
       "      <td>20</td>\n",
       "      <td>Eco</td>\n",
       "    </tr>\n",
       "    <tr>\n",
       "      <th>3</th>\n",
       "      <td>Fernanda</td>\n",
       "      <td>23</td>\n",
       "      <td>Eco</td>\n",
       "    </tr>\n",
       "    <tr>\n",
       "      <th>2</th>\n",
       "      <td>Sandy</td>\n",
       "      <td>18</td>\n",
       "      <td>Actuaria</td>\n",
       "    </tr>\n",
       "    <tr>\n",
       "      <th>1</th>\n",
       "      <td>Xime</td>\n",
       "      <td>21</td>\n",
       "      <td>Finanzas</td>\n",
       "    </tr>\n",
       "    <tr>\n",
       "      <th>0</th>\n",
       "      <td>Santiago</td>\n",
       "      <td>18</td>\n",
       "      <td>Eco</td>\n",
       "    </tr>\n",
       "  </tbody>\n",
       "</table>\n",
       "</div>"
      ],
      "text/plain": [
       "      nombre  edad   carrera\n",
       "5       Luis    19  Finanzas\n",
       "4  Francisco    20       Eco\n",
       "3   Fernanda    23       Eco\n",
       "2      Sandy    18  Actuaria\n",
       "1       Xime    21  Finanzas\n",
       "0   Santiago    18       Eco"
      ]
     },
     "execution_count": 47,
     "metadata": {},
     "output_type": "execute_result"
    }
   ],
   "source": [
    "defi[::-1]"
   ]
  },
  {
   "cell_type": "code",
   "execution_count": 74,
   "metadata": {},
   "outputs": [],
   "source": [
    "import numpy as np"
   ]
  },
  {
   "cell_type": "code",
   "execution_count": 49,
   "metadata": {},
   "outputs": [
    {
     "data": {
      "text/plain": [
       "nombre     Fernanda\n",
       "edad             18\n",
       "carrera    Actuaria\n",
       "dtype: object"
      ]
     },
     "execution_count": 49,
     "metadata": {},
     "output_type": "execute_result"
    }
   ],
   "source": [
    "defi.min()"
   ]
  },
  {
   "cell_type": "code",
   "execution_count": 50,
   "metadata": {},
   "outputs": [
    {
     "data": {
      "text/plain": [
       "nombre         Xime\n",
       "edad             23\n",
       "carrera    Finanzas\n",
       "dtype: object"
      ]
     },
     "execution_count": 50,
     "metadata": {},
     "output_type": "execute_result"
    }
   ],
   "source": [
    "defi.max()"
   ]
  },
  {
   "cell_type": "code",
   "execution_count": 51,
   "metadata": {},
   "outputs": [
    {
     "data": {
      "text/plain": [
       "18"
      ]
     },
     "execution_count": 51,
     "metadata": {},
     "output_type": "execute_result"
    }
   ],
   "source": [
    "defi['edad'].min()"
   ]
  },
  {
   "cell_type": "code",
   "execution_count": 52,
   "metadata": {},
   "outputs": [
    {
     "data": {
      "text/plain": [
       "'Xime'"
      ]
     },
     "execution_count": 52,
     "metadata": {},
     "output_type": "execute_result"
    }
   ],
   "source": [
    "defi['nombre'].max()"
   ]
  },
  {
   "cell_type": "code",
   "execution_count": 53,
   "metadata": {},
   "outputs": [
    {
     "data": {
      "text/plain": [
       "edad    19.833333\n",
       "dtype: float64"
      ]
     },
     "execution_count": 53,
     "metadata": {},
     "output_type": "execute_result"
    }
   ],
   "source": [
    "defi.mean()"
   ]
  },
  {
   "cell_type": "code",
   "execution_count": 54,
   "metadata": {},
   "outputs": [
    {
     "data": {
      "text/plain": [
       "19.833333333333332"
      ]
     },
     "execution_count": 54,
     "metadata": {},
     "output_type": "execute_result"
    }
   ],
   "source": [
    "defi['edad'].mean()"
   ]
  },
  {
   "cell_type": "code",
   "execution_count": 55,
   "metadata": {},
   "outputs": [
    {
     "data": {
      "text/html": [
       "<div>\n",
       "<style scoped>\n",
       "    .dataframe tbody tr th:only-of-type {\n",
       "        vertical-align: middle;\n",
       "    }\n",
       "\n",
       "    .dataframe tbody tr th {\n",
       "        vertical-align: top;\n",
       "    }\n",
       "\n",
       "    .dataframe thead th {\n",
       "        text-align: right;\n",
       "    }\n",
       "</style>\n",
       "<table border=\"1\" class=\"dataframe\">\n",
       "  <thead>\n",
       "    <tr style=\"text-align: right;\">\n",
       "      <th></th>\n",
       "      <th>edad</th>\n",
       "    </tr>\n",
       "  </thead>\n",
       "  <tbody>\n",
       "    <tr>\n",
       "      <th>count</th>\n",
       "      <td>6.000000</td>\n",
       "    </tr>\n",
       "    <tr>\n",
       "      <th>mean</th>\n",
       "      <td>19.833333</td>\n",
       "    </tr>\n",
       "    <tr>\n",
       "      <th>std</th>\n",
       "      <td>1.940790</td>\n",
       "    </tr>\n",
       "    <tr>\n",
       "      <th>min</th>\n",
       "      <td>18.000000</td>\n",
       "    </tr>\n",
       "    <tr>\n",
       "      <th>25%</th>\n",
       "      <td>18.250000</td>\n",
       "    </tr>\n",
       "    <tr>\n",
       "      <th>50%</th>\n",
       "      <td>19.500000</td>\n",
       "    </tr>\n",
       "    <tr>\n",
       "      <th>75%</th>\n",
       "      <td>20.750000</td>\n",
       "    </tr>\n",
       "    <tr>\n",
       "      <th>max</th>\n",
       "      <td>23.000000</td>\n",
       "    </tr>\n",
       "  </tbody>\n",
       "</table>\n",
       "</div>"
      ],
      "text/plain": [
       "            edad\n",
       "count   6.000000\n",
       "mean   19.833333\n",
       "std     1.940790\n",
       "min    18.000000\n",
       "25%    18.250000\n",
       "50%    19.500000\n",
       "75%    20.750000\n",
       "max    23.000000"
      ]
     },
     "execution_count": 55,
     "metadata": {},
     "output_type": "execute_result"
    }
   ],
   "source": [
    "defi.describe()"
   ]
  },
  {
   "cell_type": "code",
   "execution_count": 56,
   "metadata": {},
   "outputs": [
    {
     "data": {
      "text/plain": [
       "edad    19.833333\n",
       "dtype: float64"
      ]
     },
     "execution_count": 56,
     "metadata": {},
     "output_type": "execute_result"
    }
   ],
   "source": [
    "defi.mean()"
   ]
  },
  {
   "cell_type": "markdown",
   "metadata": {},
   "source": [
    "# Lectura de archivos csv"
   ]
  },
  {
   "cell_type": "code",
   "execution_count": 57,
   "metadata": {},
   "outputs": [],
   "source": [
    "dataf= pd.read_csv(\"datosEmpleo.csv\", header=0)"
   ]
  },
  {
   "cell_type": "code",
   "execution_count": 58,
   "metadata": {},
   "outputs": [
    {
     "data": {
      "text/html": [
       "<div>\n",
       "<style scoped>\n",
       "    .dataframe tbody tr th:only-of-type {\n",
       "        vertical-align: middle;\n",
       "    }\n",
       "\n",
       "    .dataframe tbody tr th {\n",
       "        vertical-align: top;\n",
       "    }\n",
       "\n",
       "    .dataframe thead th {\n",
       "        text-align: right;\n",
       "    }\n",
       "</style>\n",
       "<table border=\"1\" class=\"dataframe\">\n",
       "  <thead>\n",
       "    <tr style=\"text-align: right;\">\n",
       "      <th></th>\n",
       "      <th>Name</th>\n",
       "      <th>Position</th>\n",
       "      <th>Office</th>\n",
       "      <th>Age</th>\n",
       "      <th>Start date</th>\n",
       "      <th>year</th>\n",
       "      <th>month</th>\n",
       "      <th>day</th>\n",
       "      <th>Salary</th>\n",
       "    </tr>\n",
       "  </thead>\n",
       "  <tbody>\n",
       "    <tr>\n",
       "      <th>0</th>\n",
       "      <td>Airi Satou</td>\n",
       "      <td>Accountant</td>\n",
       "      <td>Tokyo</td>\n",
       "      <td>33</td>\n",
       "      <td>28/11/2008</td>\n",
       "      <td>2008</td>\n",
       "      <td>11</td>\n",
       "      <td>28</td>\n",
       "      <td>162700</td>\n",
       "    </tr>\n",
       "    <tr>\n",
       "      <th>1</th>\n",
       "      <td>Angelica Ramos</td>\n",
       "      <td>Chief Executive Officer (CEO)</td>\n",
       "      <td>London</td>\n",
       "      <td>47</td>\n",
       "      <td>09/10/2009</td>\n",
       "      <td>2009</td>\n",
       "      <td>10</td>\n",
       "      <td>9</td>\n",
       "      <td>1200000</td>\n",
       "    </tr>\n",
       "    <tr>\n",
       "      <th>2</th>\n",
       "      <td>Ashton Cox</td>\n",
       "      <td>Junior Technical Author</td>\n",
       "      <td>San Francisco</td>\n",
       "      <td>66</td>\n",
       "      <td>12/01/2009</td>\n",
       "      <td>2009</td>\n",
       "      <td>1</td>\n",
       "      <td>12</td>\n",
       "      <td>86000</td>\n",
       "    </tr>\n",
       "    <tr>\n",
       "      <th>3</th>\n",
       "      <td>Bradley Greer</td>\n",
       "      <td>Software Engineer</td>\n",
       "      <td>London</td>\n",
       "      <td>41</td>\n",
       "      <td>13/10/2012</td>\n",
       "      <td>2012</td>\n",
       "      <td>10</td>\n",
       "      <td>13</td>\n",
       "      <td>132000</td>\n",
       "    </tr>\n",
       "    <tr>\n",
       "      <th>4</th>\n",
       "      <td>Brenden Wagner</td>\n",
       "      <td>Software Engineer</td>\n",
       "      <td>San Francisco</td>\n",
       "      <td>28</td>\n",
       "      <td>07/06/2011</td>\n",
       "      <td>2011</td>\n",
       "      <td>6</td>\n",
       "      <td>7</td>\n",
       "      <td>206850</td>\n",
       "    </tr>\n",
       "    <tr>\n",
       "      <th>5</th>\n",
       "      <td>Brielle Williamson</td>\n",
       "      <td>Integration Specialist</td>\n",
       "      <td>New York</td>\n",
       "      <td>61</td>\n",
       "      <td>02/12/2012</td>\n",
       "      <td>2012</td>\n",
       "      <td>12</td>\n",
       "      <td>2</td>\n",
       "      <td>372000</td>\n",
       "    </tr>\n",
       "    <tr>\n",
       "      <th>6</th>\n",
       "      <td>Bruno Nash</td>\n",
       "      <td>Software Engineer</td>\n",
       "      <td>London</td>\n",
       "      <td>38</td>\n",
       "      <td>03/05/2011</td>\n",
       "      <td>2011</td>\n",
       "      <td>5</td>\n",
       "      <td>3</td>\n",
       "      <td>163500</td>\n",
       "    </tr>\n",
       "    <tr>\n",
       "      <th>7</th>\n",
       "      <td>Caesar Vance</td>\n",
       "      <td>Pre/Sales Support</td>\n",
       "      <td>New York</td>\n",
       "      <td>21</td>\n",
       "      <td>12/12/2011</td>\n",
       "      <td>2011</td>\n",
       "      <td>12</td>\n",
       "      <td>12</td>\n",
       "      <td>106450</td>\n",
       "    </tr>\n",
       "    <tr>\n",
       "      <th>8</th>\n",
       "      <td>Cara Stevens</td>\n",
       "      <td>Sales Assistant</td>\n",
       "      <td>New York</td>\n",
       "      <td>46</td>\n",
       "      <td>06/12/2011</td>\n",
       "      <td>2011</td>\n",
       "      <td>12</td>\n",
       "      <td>6</td>\n",
       "      <td>145600</td>\n",
       "    </tr>\n",
       "    <tr>\n",
       "      <th>9</th>\n",
       "      <td>Cedric Kelly</td>\n",
       "      <td>Senior Javascript Developer</td>\n",
       "      <td>Edinburgh</td>\n",
       "      <td>22</td>\n",
       "      <td>29/03/2012</td>\n",
       "      <td>2012</td>\n",
       "      <td>3</td>\n",
       "      <td>29</td>\n",
       "      <td>433060</td>\n",
       "    </tr>\n",
       "    <tr>\n",
       "      <th>10</th>\n",
       "      <td>Charde Marshall</td>\n",
       "      <td>Regional Director</td>\n",
       "      <td>San Francisco</td>\n",
       "      <td>36</td>\n",
       "      <td>16/10/2008</td>\n",
       "      <td>2008</td>\n",
       "      <td>10</td>\n",
       "      <td>16</td>\n",
       "      <td>470600</td>\n",
       "    </tr>\n",
       "    <tr>\n",
       "      <th>11</th>\n",
       "      <td>Colleen Hurst</td>\n",
       "      <td>Javascript Developer</td>\n",
       "      <td>San Francisco</td>\n",
       "      <td>39</td>\n",
       "      <td>15/09/2009</td>\n",
       "      <td>2009</td>\n",
       "      <td>9</td>\n",
       "      <td>15</td>\n",
       "      <td>205500</td>\n",
       "    </tr>\n",
       "    <tr>\n",
       "      <th>12</th>\n",
       "      <td>Dai Rios</td>\n",
       "      <td>Personnel Lead</td>\n",
       "      <td>Edinburgh</td>\n",
       "      <td>35</td>\n",
       "      <td>26/09/2012</td>\n",
       "      <td>2012</td>\n",
       "      <td>9</td>\n",
       "      <td>26</td>\n",
       "      <td>217500</td>\n",
       "    </tr>\n",
       "    <tr>\n",
       "      <th>13</th>\n",
       "      <td>Donna Snider</td>\n",
       "      <td>Customer Support</td>\n",
       "      <td>New York</td>\n",
       "      <td>27</td>\n",
       "      <td>25/01/2011</td>\n",
       "      <td>2011</td>\n",
       "      <td>1</td>\n",
       "      <td>25</td>\n",
       "      <td>112000</td>\n",
       "    </tr>\n",
       "    <tr>\n",
       "      <th>14</th>\n",
       "      <td>Doris Wilder</td>\n",
       "      <td>Sales Assistant</td>\n",
       "      <td>Sidney</td>\n",
       "      <td>23</td>\n",
       "      <td>20/09/2010</td>\n",
       "      <td>2010</td>\n",
       "      <td>9</td>\n",
       "      <td>20</td>\n",
       "      <td>85600</td>\n",
       "    </tr>\n",
       "    <tr>\n",
       "      <th>15</th>\n",
       "      <td>Finn Camacho</td>\n",
       "      <td>Support Engineer</td>\n",
       "      <td>San Francisco</td>\n",
       "      <td>47</td>\n",
       "      <td>07/07/2009</td>\n",
       "      <td>2009</td>\n",
       "      <td>7</td>\n",
       "      <td>7</td>\n",
       "      <td>87500</td>\n",
       "    </tr>\n",
       "    <tr>\n",
       "      <th>16</th>\n",
       "      <td>Fiona Green</td>\n",
       "      <td>Chief Operating Officer (COO)</td>\n",
       "      <td>San Francisco</td>\n",
       "      <td>48</td>\n",
       "      <td>11/03/2010</td>\n",
       "      <td>2010</td>\n",
       "      <td>3</td>\n",
       "      <td>11</td>\n",
       "      <td>850000</td>\n",
       "    </tr>\n",
       "    <tr>\n",
       "      <th>17</th>\n",
       "      <td>Garrett Winters</td>\n",
       "      <td>Accountant</td>\n",
       "      <td>Tokyo</td>\n",
       "      <td>63</td>\n",
       "      <td>25/07/2011</td>\n",
       "      <td>2011</td>\n",
       "      <td>7</td>\n",
       "      <td>25</td>\n",
       "      <td>170750</td>\n",
       "    </tr>\n",
       "    <tr>\n",
       "      <th>18</th>\n",
       "      <td>Gavin Cortez</td>\n",
       "      <td>Team Leader</td>\n",
       "      <td>San Francisco</td>\n",
       "      <td>22</td>\n",
       "      <td>26/10/2008</td>\n",
       "      <td>2008</td>\n",
       "      <td>10</td>\n",
       "      <td>26</td>\n",
       "      <td>235500</td>\n",
       "    </tr>\n",
       "    <tr>\n",
       "      <th>19</th>\n",
       "      <td>Gavin Joyce</td>\n",
       "      <td>Developer</td>\n",
       "      <td>Edinburgh</td>\n",
       "      <td>42</td>\n",
       "      <td>22/12/2010</td>\n",
       "      <td>2010</td>\n",
       "      <td>12</td>\n",
       "      <td>22</td>\n",
       "      <td>92575</td>\n",
       "    </tr>\n",
       "    <tr>\n",
       "      <th>20</th>\n",
       "      <td>Gloria Little</td>\n",
       "      <td>Systems Administrator</td>\n",
       "      <td>New York</td>\n",
       "      <td>59</td>\n",
       "      <td>10/04/2009</td>\n",
       "      <td>2009</td>\n",
       "      <td>4</td>\n",
       "      <td>10</td>\n",
       "      <td>237500</td>\n",
       "    </tr>\n",
       "    <tr>\n",
       "      <th>21</th>\n",
       "      <td>Haley Kennedy</td>\n",
       "      <td>Senior Marketing Designer</td>\n",
       "      <td>London</td>\n",
       "      <td>43</td>\n",
       "      <td>18/12/2012</td>\n",
       "      <td>2012</td>\n",
       "      <td>12</td>\n",
       "      <td>18</td>\n",
       "      <td>313500</td>\n",
       "    </tr>\n",
       "    <tr>\n",
       "      <th>22</th>\n",
       "      <td>Hermione Butler</td>\n",
       "      <td>Regional Director</td>\n",
       "      <td>London</td>\n",
       "      <td>47</td>\n",
       "      <td>21/03/2011</td>\n",
       "      <td>2011</td>\n",
       "      <td>3</td>\n",
       "      <td>21</td>\n",
       "      <td>356250</td>\n",
       "    </tr>\n",
       "    <tr>\n",
       "      <th>23</th>\n",
       "      <td>Herrod Chandler</td>\n",
       "      <td>Sales Assistant</td>\n",
       "      <td>San Francisco</td>\n",
       "      <td>59</td>\n",
       "      <td>06/08/2012</td>\n",
       "      <td>2012</td>\n",
       "      <td>8</td>\n",
       "      <td>6</td>\n",
       "      <td>137500</td>\n",
       "    </tr>\n",
       "    <tr>\n",
       "      <th>24</th>\n",
       "      <td>Hope Fuentes</td>\n",
       "      <td>Secretary</td>\n",
       "      <td>San Francisco</td>\n",
       "      <td>41</td>\n",
       "      <td>12/02/2010</td>\n",
       "      <td>2010</td>\n",
       "      <td>2</td>\n",
       "      <td>12</td>\n",
       "      <td>109850</td>\n",
       "    </tr>\n",
       "    <tr>\n",
       "      <th>25</th>\n",
       "      <td>Howard Hatfield</td>\n",
       "      <td>Office Manager</td>\n",
       "      <td>San Francisco</td>\n",
       "      <td>51</td>\n",
       "      <td>16/12/2008</td>\n",
       "      <td>2008</td>\n",
       "      <td>12</td>\n",
       "      <td>16</td>\n",
       "      <td>164500</td>\n",
       "    </tr>\n",
       "    <tr>\n",
       "      <th>26</th>\n",
       "      <td>Jackson Bradshaw</td>\n",
       "      <td>Director</td>\n",
       "      <td>New York</td>\n",
       "      <td>65</td>\n",
       "      <td>26/09/2008</td>\n",
       "      <td>2008</td>\n",
       "      <td>9</td>\n",
       "      <td>26</td>\n",
       "      <td>645750</td>\n",
       "    </tr>\n",
       "    <tr>\n",
       "      <th>27</th>\n",
       "      <td>Jena Gaines</td>\n",
       "      <td>Office Manager</td>\n",
       "      <td>London</td>\n",
       "      <td>30</td>\n",
       "      <td>19/12/2008</td>\n",
       "      <td>2008</td>\n",
       "      <td>12</td>\n",
       "      <td>19</td>\n",
       "      <td>90560</td>\n",
       "    </tr>\n",
       "    <tr>\n",
       "      <th>28</th>\n",
       "      <td>Jenette Caldwell</td>\n",
       "      <td>Development Lead</td>\n",
       "      <td>New York</td>\n",
       "      <td>30</td>\n",
       "      <td>03/09/2011</td>\n",
       "      <td>2011</td>\n",
       "      <td>9</td>\n",
       "      <td>3</td>\n",
       "      <td>345000</td>\n",
       "    </tr>\n",
       "    <tr>\n",
       "      <th>29</th>\n",
       "      <td>Jennifer Acosta</td>\n",
       "      <td>Junior Javascript Developer</td>\n",
       "      <td>Edinburgh</td>\n",
       "      <td>43</td>\n",
       "      <td>01/02/2013</td>\n",
       "      <td>2013</td>\n",
       "      <td>2</td>\n",
       "      <td>1</td>\n",
       "      <td>75650</td>\n",
       "    </tr>\n",
       "    <tr>\n",
       "      <th>30</th>\n",
       "      <td>Jennifer Chang</td>\n",
       "      <td>Regional Director</td>\n",
       "      <td>Singapore</td>\n",
       "      <td>28</td>\n",
       "      <td>14/11/2010</td>\n",
       "      <td>2010</td>\n",
       "      <td>11</td>\n",
       "      <td>14</td>\n",
       "      <td>357650</td>\n",
       "    </tr>\n",
       "    <tr>\n",
       "      <th>31</th>\n",
       "      <td>Jonas Alexander</td>\n",
       "      <td>Developer</td>\n",
       "      <td>San Francisco</td>\n",
       "      <td>30</td>\n",
       "      <td>14/07/2010</td>\n",
       "      <td>2010</td>\n",
       "      <td>7</td>\n",
       "      <td>14</td>\n",
       "      <td>86500</td>\n",
       "    </tr>\n",
       "    <tr>\n",
       "      <th>32</th>\n",
       "      <td>Lael Greer</td>\n",
       "      <td>Systems Administrator</td>\n",
       "      <td>London</td>\n",
       "      <td>21</td>\n",
       "      <td>27/02/2009</td>\n",
       "      <td>2009</td>\n",
       "      <td>2</td>\n",
       "      <td>27</td>\n",
       "      <td>103500</td>\n",
       "    </tr>\n",
       "    <tr>\n",
       "      <th>33</th>\n",
       "      <td>Martena Mccray</td>\n",
       "      <td>Post/Sales support</td>\n",
       "      <td>Edinburgh</td>\n",
       "      <td>46</td>\n",
       "      <td>09/03/2011</td>\n",
       "      <td>2011</td>\n",
       "      <td>3</td>\n",
       "      <td>9</td>\n",
       "      <td>324050</td>\n",
       "    </tr>\n",
       "    <tr>\n",
       "      <th>34</th>\n",
       "      <td>Michael Bruce</td>\n",
       "      <td>Javascript Developer</td>\n",
       "      <td>Singapore</td>\n",
       "      <td>29</td>\n",
       "      <td>27/06/2011</td>\n",
       "      <td>2011</td>\n",
       "      <td>6</td>\n",
       "      <td>27</td>\n",
       "      <td>183000</td>\n",
       "    </tr>\n",
       "    <tr>\n",
       "      <th>35</th>\n",
       "      <td>Michael Silva</td>\n",
       "      <td>Marketing Designer</td>\n",
       "      <td>London</td>\n",
       "      <td>66</td>\n",
       "      <td>27/11/2012</td>\n",
       "      <td>2012</td>\n",
       "      <td>11</td>\n",
       "      <td>27</td>\n",
       "      <td>198500</td>\n",
       "    </tr>\n",
       "    <tr>\n",
       "      <th>36</th>\n",
       "      <td>Michelle House</td>\n",
       "      <td>Integration Specialist</td>\n",
       "      <td>Sidney</td>\n",
       "      <td>37</td>\n",
       "      <td>02/06/2011</td>\n",
       "      <td>2011</td>\n",
       "      <td>6</td>\n",
       "      <td>2</td>\n",
       "      <td>95400</td>\n",
       "    </tr>\n",
       "    <tr>\n",
       "      <th>37</th>\n",
       "      <td>Olivia Liang</td>\n",
       "      <td>Support Engineer</td>\n",
       "      <td>Singapore</td>\n",
       "      <td>64</td>\n",
       "      <td>03/02/2011</td>\n",
       "      <td>2011</td>\n",
       "      <td>2</td>\n",
       "      <td>3</td>\n",
       "      <td>234500</td>\n",
       "    </tr>\n",
       "    <tr>\n",
       "      <th>38</th>\n",
       "      <td>Paul Byrd</td>\n",
       "      <td>Chief Financial Officer (CFO)</td>\n",
       "      <td>New York</td>\n",
       "      <td>64</td>\n",
       "      <td>09/06/2010</td>\n",
       "      <td>2010</td>\n",
       "      <td>6</td>\n",
       "      <td>9</td>\n",
       "      <td>725000</td>\n",
       "    </tr>\n",
       "    <tr>\n",
       "      <th>39</th>\n",
       "      <td>Prescott Bartlett</td>\n",
       "      <td>Technical Author</td>\n",
       "      <td>London</td>\n",
       "      <td>27</td>\n",
       "      <td>07/05/2011</td>\n",
       "      <td>2011</td>\n",
       "      <td>5</td>\n",
       "      <td>7</td>\n",
       "      <td>145000</td>\n",
       "    </tr>\n",
       "    <tr>\n",
       "      <th>40</th>\n",
       "      <td>Quinn Flynn</td>\n",
       "      <td>Support Lead</td>\n",
       "      <td>Edinburgh</td>\n",
       "      <td>22</td>\n",
       "      <td>03/03/2013</td>\n",
       "      <td>2013</td>\n",
       "      <td>3</td>\n",
       "      <td>3</td>\n",
       "      <td>342000</td>\n",
       "    </tr>\n",
       "    <tr>\n",
       "      <th>41</th>\n",
       "      <td>Rhona Davidson</td>\n",
       "      <td>Integration Specialist</td>\n",
       "      <td>Tokyo</td>\n",
       "      <td>55</td>\n",
       "      <td>14/10/2010</td>\n",
       "      <td>2010</td>\n",
       "      <td>10</td>\n",
       "      <td>14</td>\n",
       "      <td>327900</td>\n",
       "    </tr>\n",
       "    <tr>\n",
       "      <th>42</th>\n",
       "      <td>Sakura Yamamoto</td>\n",
       "      <td>Support Engineer</td>\n",
       "      <td>Tokyo</td>\n",
       "      <td>37</td>\n",
       "      <td>19/08/2009</td>\n",
       "      <td>2009</td>\n",
       "      <td>8</td>\n",
       "      <td>19</td>\n",
       "      <td>139575</td>\n",
       "    </tr>\n",
       "    <tr>\n",
       "      <th>43</th>\n",
       "      <td>Serge Baldwin</td>\n",
       "      <td>Data Coordinator</td>\n",
       "      <td>Singapore</td>\n",
       "      <td>64</td>\n",
       "      <td>09/04/2012</td>\n",
       "      <td>2012</td>\n",
       "      <td>4</td>\n",
       "      <td>9</td>\n",
       "      <td>138575</td>\n",
       "    </tr>\n",
       "    <tr>\n",
       "      <th>44</th>\n",
       "      <td>Shad Decker</td>\n",
       "      <td>Regional Director</td>\n",
       "      <td>Edinburgh</td>\n",
       "      <td>51</td>\n",
       "      <td>13/11/2008</td>\n",
       "      <td>2008</td>\n",
       "      <td>11</td>\n",
       "      <td>13</td>\n",
       "      <td>183000</td>\n",
       "    </tr>\n",
       "    <tr>\n",
       "      <th>45</th>\n",
       "      <td>Shou Itou</td>\n",
       "      <td>Regional Marketing</td>\n",
       "      <td>Tokyo</td>\n",
       "      <td>20</td>\n",
       "      <td>14/08/2011</td>\n",
       "      <td>2011</td>\n",
       "      <td>8</td>\n",
       "      <td>14</td>\n",
       "      <td>163000</td>\n",
       "    </tr>\n",
       "    <tr>\n",
       "      <th>46</th>\n",
       "      <td>Sonya Frost</td>\n",
       "      <td>Software Engineer</td>\n",
       "      <td>Edinburgh</td>\n",
       "      <td>23</td>\n",
       "      <td>13/12/2008</td>\n",
       "      <td>2008</td>\n",
       "      <td>12</td>\n",
       "      <td>13</td>\n",
       "      <td>103600</td>\n",
       "    </tr>\n",
       "    <tr>\n",
       "      <th>47</th>\n",
       "      <td>Suki Burks</td>\n",
       "      <td>Developer</td>\n",
       "      <td>London</td>\n",
       "      <td>53</td>\n",
       "      <td>22/10/2009</td>\n",
       "      <td>2009</td>\n",
       "      <td>10</td>\n",
       "      <td>22</td>\n",
       "      <td>114500</td>\n",
       "    </tr>\n",
       "    <tr>\n",
       "      <th>48</th>\n",
       "      <td>Tatyana Fitzpatrick</td>\n",
       "      <td>Regional Director</td>\n",
       "      <td>London</td>\n",
       "      <td>19</td>\n",
       "      <td>17/03/2010</td>\n",
       "      <td>2010</td>\n",
       "      <td>3</td>\n",
       "      <td>17</td>\n",
       "      <td>385750</td>\n",
       "    </tr>\n",
       "    <tr>\n",
       "      <th>49</th>\n",
       "      <td>Thor Walton</td>\n",
       "      <td>Developer</td>\n",
       "      <td>New York</td>\n",
       "      <td>61</td>\n",
       "      <td>11/08/2013</td>\n",
       "      <td>2013</td>\n",
       "      <td>8</td>\n",
       "      <td>11</td>\n",
       "      <td>98540</td>\n",
       "    </tr>\n",
       "    <tr>\n",
       "      <th>50</th>\n",
       "      <td>Tiger Nixon</td>\n",
       "      <td>System Architect</td>\n",
       "      <td>Edinburgh</td>\n",
       "      <td>61</td>\n",
       "      <td>25/04/2011</td>\n",
       "      <td>2011</td>\n",
       "      <td>4</td>\n",
       "      <td>25</td>\n",
       "      <td>320800</td>\n",
       "    </tr>\n",
       "    <tr>\n",
       "      <th>51</th>\n",
       "      <td>Timothy Mooney</td>\n",
       "      <td>Office Manager</td>\n",
       "      <td>London</td>\n",
       "      <td>37</td>\n",
       "      <td>11/12/2008</td>\n",
       "      <td>2008</td>\n",
       "      <td>12</td>\n",
       "      <td>11</td>\n",
       "      <td>136200</td>\n",
       "    </tr>\n",
       "    <tr>\n",
       "      <th>52</th>\n",
       "      <td>Unity Butler</td>\n",
       "      <td>Marketing Designer</td>\n",
       "      <td>San Francisco</td>\n",
       "      <td>47</td>\n",
       "      <td>09/12/2009</td>\n",
       "      <td>2009</td>\n",
       "      <td>12</td>\n",
       "      <td>9</td>\n",
       "      <td>85675</td>\n",
       "    </tr>\n",
       "    <tr>\n",
       "      <th>53</th>\n",
       "      <td>Vivian Harrell</td>\n",
       "      <td>Financial Controller</td>\n",
       "      <td>San Francisco</td>\n",
       "      <td>62</td>\n",
       "      <td>14/02/2009</td>\n",
       "      <td>2009</td>\n",
       "      <td>2</td>\n",
       "      <td>14</td>\n",
       "      <td>452500</td>\n",
       "    </tr>\n",
       "    <tr>\n",
       "      <th>54</th>\n",
       "      <td>Yuri Berry</td>\n",
       "      <td>Chief Marketing Officer (CMO)</td>\n",
       "      <td>New York</td>\n",
       "      <td>40</td>\n",
       "      <td>25/06/2009</td>\n",
       "      <td>2009</td>\n",
       "      <td>6</td>\n",
       "      <td>25</td>\n",
       "      <td>675000</td>\n",
       "    </tr>\n",
       "    <tr>\n",
       "      <th>55</th>\n",
       "      <td>Zenaida Frank</td>\n",
       "      <td>Software Engineer</td>\n",
       "      <td>New York</td>\n",
       "      <td>63</td>\n",
       "      <td>04/01/2010</td>\n",
       "      <td>2010</td>\n",
       "      <td>1</td>\n",
       "      <td>4</td>\n",
       "      <td>125250</td>\n",
       "    </tr>\n",
       "    <tr>\n",
       "      <th>56</th>\n",
       "      <td>Zorita Serrano</td>\n",
       "      <td>Software Engineer</td>\n",
       "      <td>San Francisco</td>\n",
       "      <td>56</td>\n",
       "      <td>01/06/2012</td>\n",
       "      <td>2012</td>\n",
       "      <td>6</td>\n",
       "      <td>1</td>\n",
       "      <td>115000</td>\n",
       "    </tr>\n",
       "  </tbody>\n",
       "</table>\n",
       "</div>"
      ],
      "text/plain": [
       "                   Name                       Position         Office  Age  \\\n",
       "0            Airi Satou                     Accountant          Tokyo   33   \n",
       "1        Angelica Ramos  Chief Executive Officer (CEO)         London   47   \n",
       "2            Ashton Cox        Junior Technical Author  San Francisco   66   \n",
       "3         Bradley Greer              Software Engineer         London   41   \n",
       "4        Brenden Wagner              Software Engineer  San Francisco   28   \n",
       "5    Brielle Williamson         Integration Specialist       New York   61   \n",
       "6            Bruno Nash              Software Engineer         London   38   \n",
       "7          Caesar Vance              Pre/Sales Support       New York   21   \n",
       "8          Cara Stevens                Sales Assistant       New York   46   \n",
       "9          Cedric Kelly    Senior Javascript Developer      Edinburgh   22   \n",
       "10      Charde Marshall              Regional Director  San Francisco   36   \n",
       "11        Colleen Hurst           Javascript Developer  San Francisco   39   \n",
       "12             Dai Rios                 Personnel Lead      Edinburgh   35   \n",
       "13         Donna Snider               Customer Support       New York   27   \n",
       "14         Doris Wilder                Sales Assistant         Sidney   23   \n",
       "15         Finn Camacho               Support Engineer  San Francisco   47   \n",
       "16          Fiona Green  Chief Operating Officer (COO)  San Francisco   48   \n",
       "17      Garrett Winters                     Accountant          Tokyo   63   \n",
       "18         Gavin Cortez                    Team Leader  San Francisco   22   \n",
       "19          Gavin Joyce                      Developer      Edinburgh   42   \n",
       "20        Gloria Little          Systems Administrator       New York   59   \n",
       "21        Haley Kennedy      Senior Marketing Designer         London   43   \n",
       "22      Hermione Butler              Regional Director         London   47   \n",
       "23      Herrod Chandler                Sales Assistant  San Francisco   59   \n",
       "24         Hope Fuentes                      Secretary  San Francisco   41   \n",
       "25      Howard Hatfield                 Office Manager  San Francisco   51   \n",
       "26     Jackson Bradshaw                       Director       New York   65   \n",
       "27          Jena Gaines                 Office Manager         London   30   \n",
       "28     Jenette Caldwell               Development Lead       New York   30   \n",
       "29      Jennifer Acosta    Junior Javascript Developer      Edinburgh   43   \n",
       "30       Jennifer Chang              Regional Director      Singapore   28   \n",
       "31      Jonas Alexander                      Developer  San Francisco   30   \n",
       "32           Lael Greer          Systems Administrator         London   21   \n",
       "33       Martena Mccray             Post/Sales support      Edinburgh   46   \n",
       "34        Michael Bruce           Javascript Developer      Singapore   29   \n",
       "35        Michael Silva             Marketing Designer         London   66   \n",
       "36       Michelle House         Integration Specialist         Sidney   37   \n",
       "37         Olivia Liang               Support Engineer      Singapore   64   \n",
       "38            Paul Byrd  Chief Financial Officer (CFO)       New York   64   \n",
       "39    Prescott Bartlett               Technical Author         London   27   \n",
       "40          Quinn Flynn                   Support Lead      Edinburgh   22   \n",
       "41       Rhona Davidson         Integration Specialist          Tokyo   55   \n",
       "42      Sakura Yamamoto               Support Engineer          Tokyo   37   \n",
       "43        Serge Baldwin               Data Coordinator      Singapore   64   \n",
       "44          Shad Decker              Regional Director      Edinburgh   51   \n",
       "45            Shou Itou             Regional Marketing          Tokyo   20   \n",
       "46          Sonya Frost              Software Engineer      Edinburgh   23   \n",
       "47           Suki Burks                      Developer         London   53   \n",
       "48  Tatyana Fitzpatrick              Regional Director         London   19   \n",
       "49          Thor Walton                      Developer       New York   61   \n",
       "50          Tiger Nixon               System Architect      Edinburgh   61   \n",
       "51       Timothy Mooney                 Office Manager         London   37   \n",
       "52         Unity Butler             Marketing Designer  San Francisco   47   \n",
       "53       Vivian Harrell           Financial Controller  San Francisco   62   \n",
       "54           Yuri Berry  Chief Marketing Officer (CMO)       New York   40   \n",
       "55        Zenaida Frank              Software Engineer       New York   63   \n",
       "56       Zorita Serrano              Software Engineer  San Francisco   56   \n",
       "\n",
       "    Start date  year  month  day   Salary  \n",
       "0   28/11/2008  2008     11   28   162700  \n",
       "1   09/10/2009  2009     10    9  1200000  \n",
       "2   12/01/2009  2009      1   12    86000  \n",
       "3   13/10/2012  2012     10   13   132000  \n",
       "4   07/06/2011  2011      6    7   206850  \n",
       "5   02/12/2012  2012     12    2   372000  \n",
       "6   03/05/2011  2011      5    3   163500  \n",
       "7   12/12/2011  2011     12   12   106450  \n",
       "8   06/12/2011  2011     12    6   145600  \n",
       "9   29/03/2012  2012      3   29   433060  \n",
       "10  16/10/2008  2008     10   16   470600  \n",
       "11  15/09/2009  2009      9   15   205500  \n",
       "12  26/09/2012  2012      9   26   217500  \n",
       "13  25/01/2011  2011      1   25   112000  \n",
       "14  20/09/2010  2010      9   20    85600  \n",
       "15  07/07/2009  2009      7    7    87500  \n",
       "16  11/03/2010  2010      3   11   850000  \n",
       "17  25/07/2011  2011      7   25   170750  \n",
       "18  26/10/2008  2008     10   26   235500  \n",
       "19  22/12/2010  2010     12   22    92575  \n",
       "20  10/04/2009  2009      4   10   237500  \n",
       "21  18/12/2012  2012     12   18   313500  \n",
       "22  21/03/2011  2011      3   21   356250  \n",
       "23  06/08/2012  2012      8    6   137500  \n",
       "24  12/02/2010  2010      2   12   109850  \n",
       "25  16/12/2008  2008     12   16   164500  \n",
       "26  26/09/2008  2008      9   26   645750  \n",
       "27  19/12/2008  2008     12   19    90560  \n",
       "28  03/09/2011  2011      9    3   345000  \n",
       "29  01/02/2013  2013      2    1    75650  \n",
       "30  14/11/2010  2010     11   14   357650  \n",
       "31  14/07/2010  2010      7   14    86500  \n",
       "32  27/02/2009  2009      2   27   103500  \n",
       "33  09/03/2011  2011      3    9   324050  \n",
       "34  27/06/2011  2011      6   27   183000  \n",
       "35  27/11/2012  2012     11   27   198500  \n",
       "36  02/06/2011  2011      6    2    95400  \n",
       "37  03/02/2011  2011      2    3   234500  \n",
       "38  09/06/2010  2010      6    9   725000  \n",
       "39  07/05/2011  2011      5    7   145000  \n",
       "40  03/03/2013  2013      3    3   342000  \n",
       "41  14/10/2010  2010     10   14   327900  \n",
       "42  19/08/2009  2009      8   19   139575  \n",
       "43  09/04/2012  2012      4    9   138575  \n",
       "44  13/11/2008  2008     11   13   183000  \n",
       "45  14/08/2011  2011      8   14   163000  \n",
       "46  13/12/2008  2008     12   13   103600  \n",
       "47  22/10/2009  2009     10   22   114500  \n",
       "48  17/03/2010  2010      3   17   385750  \n",
       "49  11/08/2013  2013      8   11    98540  \n",
       "50  25/04/2011  2011      4   25   320800  \n",
       "51  11/12/2008  2008     12   11   136200  \n",
       "52  09/12/2009  2009     12    9    85675  \n",
       "53  14/02/2009  2009      2   14   452500  \n",
       "54  25/06/2009  2009      6   25   675000  \n",
       "55  04/01/2010  2010      1    4   125250  \n",
       "56  01/06/2012  2012      6    1   115000  "
      ]
     },
     "execution_count": 58,
     "metadata": {},
     "output_type": "execute_result"
    }
   ],
   "source": [
    "dataf"
   ]
  },
  {
   "cell_type": "code",
   "execution_count": 59,
   "metadata": {},
   "outputs": [
    {
     "name": "stdout",
     "output_type": "stream",
     "text": [
      "<class 'pandas.core.frame.DataFrame'>\n",
      "RangeIndex: 57 entries, 0 to 56\n",
      "Data columns (total 9 columns):\n",
      "Name          57 non-null object\n",
      "Position      57 non-null object\n",
      "Office        57 non-null object\n",
      "Age           57 non-null int64\n",
      "Start date    57 non-null object\n",
      "year          57 non-null int64\n",
      "month         57 non-null int64\n",
      "day           57 non-null int64\n",
      "Salary        57 non-null int64\n",
      "dtypes: int64(5), object(4)\n",
      "memory usage: 4.1+ KB\n"
     ]
    }
   ],
   "source": [
    "dataf.info()"
   ]
  },
  {
   "cell_type": "code",
   "execution_count": 82,
   "metadata": {},
   "outputs": [
    {
     "data": {
      "text/html": [
       "<div>\n",
       "<style scoped>\n",
       "    .dataframe tbody tr th:only-of-type {\n",
       "        vertical-align: middle;\n",
       "    }\n",
       "\n",
       "    .dataframe tbody tr th {\n",
       "        vertical-align: top;\n",
       "    }\n",
       "\n",
       "    .dataframe thead th {\n",
       "        text-align: right;\n",
       "    }\n",
       "</style>\n",
       "<table border=\"1\" class=\"dataframe\">\n",
       "  <thead>\n",
       "    <tr style=\"text-align: right;\">\n",
       "      <th></th>\n",
       "      <th>nombre</th>\n",
       "      <th>edad</th>\n",
       "      <th>carrera</th>\n",
       "    </tr>\n",
       "  </thead>\n",
       "  <tbody>\n",
       "    <tr>\n",
       "      <th>0</th>\n",
       "      <td>Santiago</td>\n",
       "      <td>18</td>\n",
       "      <td>Eco</td>\n",
       "    </tr>\n",
       "    <tr>\n",
       "      <th>1</th>\n",
       "      <td>Xime</td>\n",
       "      <td>21</td>\n",
       "      <td>Finanzas</td>\n",
       "    </tr>\n",
       "    <tr>\n",
       "      <th>2</th>\n",
       "      <td>Sandy</td>\n",
       "      <td>18</td>\n",
       "      <td>Actuaria</td>\n",
       "    </tr>\n",
       "    <tr>\n",
       "      <th>3</th>\n",
       "      <td>Fernanda</td>\n",
       "      <td>23</td>\n",
       "      <td>Eco</td>\n",
       "    </tr>\n",
       "    <tr>\n",
       "      <th>4</th>\n",
       "      <td>Francisco</td>\n",
       "      <td>20</td>\n",
       "      <td>Eco</td>\n",
       "    </tr>\n",
       "  </tbody>\n",
       "</table>\n",
       "</div>"
      ],
      "text/plain": [
       "      nombre  edad   carrera\n",
       "0   Santiago    18       Eco\n",
       "1       Xime    21  Finanzas\n",
       "2      Sandy    18  Actuaria\n",
       "3   Fernanda    23       Eco\n",
       "4  Francisco    20       Eco"
      ]
     },
     "execution_count": 82,
     "metadata": {},
     "output_type": "execute_result"
    }
   ],
   "source": [
    "defi.head()"
   ]
  },
  {
   "cell_type": "code",
   "execution_count": 84,
   "metadata": {},
   "outputs": [
    {
     "data": {
      "text/html": [
       "<div>\n",
       "<style scoped>\n",
       "    .dataframe tbody tr th:only-of-type {\n",
       "        vertical-align: middle;\n",
       "    }\n",
       "\n",
       "    .dataframe tbody tr th {\n",
       "        vertical-align: top;\n",
       "    }\n",
       "\n",
       "    .dataframe thead th {\n",
       "        text-align: right;\n",
       "    }\n",
       "</style>\n",
       "<table border=\"1\" class=\"dataframe\">\n",
       "  <thead>\n",
       "    <tr style=\"text-align: right;\">\n",
       "      <th></th>\n",
       "      <th>edad</th>\n",
       "    </tr>\n",
       "  </thead>\n",
       "  <tbody>\n",
       "    <tr>\n",
       "      <th>count</th>\n",
       "      <td>6.000000</td>\n",
       "    </tr>\n",
       "    <tr>\n",
       "      <th>mean</th>\n",
       "      <td>19.833333</td>\n",
       "    </tr>\n",
       "    <tr>\n",
       "      <th>std</th>\n",
       "      <td>1.940790</td>\n",
       "    </tr>\n",
       "    <tr>\n",
       "      <th>min</th>\n",
       "      <td>18.000000</td>\n",
       "    </tr>\n",
       "    <tr>\n",
       "      <th>25%</th>\n",
       "      <td>18.250000</td>\n",
       "    </tr>\n",
       "    <tr>\n",
       "      <th>50%</th>\n",
       "      <td>19.500000</td>\n",
       "    </tr>\n",
       "    <tr>\n",
       "      <th>75%</th>\n",
       "      <td>20.750000</td>\n",
       "    </tr>\n",
       "    <tr>\n",
       "      <th>max</th>\n",
       "      <td>23.000000</td>\n",
       "    </tr>\n",
       "  </tbody>\n",
       "</table>\n",
       "</div>"
      ],
      "text/plain": [
       "            edad\n",
       "count   6.000000\n",
       "mean   19.833333\n",
       "std     1.940790\n",
       "min    18.000000\n",
       "25%    18.250000\n",
       "50%    19.500000\n",
       "75%    20.750000\n",
       "max    23.000000"
      ]
     },
     "execution_count": 84,
     "metadata": {},
     "output_type": "execute_result"
    }
   ],
   "source": [
    "defi.describe()"
   ]
  },
  {
   "cell_type": "code",
   "execution_count": 87,
   "metadata": {},
   "outputs": [
    {
     "data": {
      "text/html": [
       "<div>\n",
       "<style scoped>\n",
       "    .dataframe tbody tr th:only-of-type {\n",
       "        vertical-align: middle;\n",
       "    }\n",
       "\n",
       "    .dataframe tbody tr th {\n",
       "        vertical-align: top;\n",
       "    }\n",
       "\n",
       "    .dataframe thead th {\n",
       "        text-align: right;\n",
       "    }\n",
       "</style>\n",
       "<table border=\"1\" class=\"dataframe\">\n",
       "  <thead>\n",
       "    <tr style=\"text-align: right;\">\n",
       "      <th></th>\n",
       "      <th>nombre</th>\n",
       "      <th>edad</th>\n",
       "      <th>carrera</th>\n",
       "    </tr>\n",
       "  </thead>\n",
       "  <tbody>\n",
       "    <tr>\n",
       "      <th>3</th>\n",
       "      <td>Fernanda</td>\n",
       "      <td>23</td>\n",
       "      <td>Eco</td>\n",
       "    </tr>\n",
       "    <tr>\n",
       "      <th>1</th>\n",
       "      <td>Xime</td>\n",
       "      <td>21</td>\n",
       "      <td>Finanzas</td>\n",
       "    </tr>\n",
       "    <tr>\n",
       "      <th>4</th>\n",
       "      <td>Francisco</td>\n",
       "      <td>20</td>\n",
       "      <td>Eco</td>\n",
       "    </tr>\n",
       "    <tr>\n",
       "      <th>5</th>\n",
       "      <td>Luis</td>\n",
       "      <td>19</td>\n",
       "      <td>Finanzas</td>\n",
       "    </tr>\n",
       "    <tr>\n",
       "      <th>0</th>\n",
       "      <td>Santiago</td>\n",
       "      <td>18</td>\n",
       "      <td>Eco</td>\n",
       "    </tr>\n",
       "    <tr>\n",
       "      <th>2</th>\n",
       "      <td>Sandy</td>\n",
       "      <td>18</td>\n",
       "      <td>Actuaria</td>\n",
       "    </tr>\n",
       "  </tbody>\n",
       "</table>\n",
       "</div>"
      ],
      "text/plain": [
       "      nombre  edad   carrera\n",
       "3   Fernanda    23       Eco\n",
       "1       Xime    21  Finanzas\n",
       "4  Francisco    20       Eco\n",
       "5       Luis    19  Finanzas\n",
       "0   Santiago    18       Eco\n",
       "2      Sandy    18  Actuaria"
      ]
     },
     "execution_count": 87,
     "metadata": {},
     "output_type": "execute_result"
    }
   ],
   "source": [
    "defi.sort_values(by=\"edad\",ascending=False)"
   ]
  },
  {
   "cell_type": "code",
   "execution_count": null,
   "metadata": {},
   "outputs": [],
   "source": []
  }
 ],
 "metadata": {
  "kernelspec": {
   "display_name": "Python 3",
   "language": "python",
   "name": "python3"
  },
  "language_info": {
   "codemirror_mode": {
    "name": "ipython",
    "version": 3
   },
   "file_extension": ".py",
   "mimetype": "text/x-python",
   "name": "python",
   "nbconvert_exporter": "python",
   "pygments_lexer": "ipython3",
   "version": "3.6.5"
  }
 },
 "nbformat": 4,
 "nbformat_minor": 2
}
