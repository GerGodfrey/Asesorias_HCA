{
 "cells": [
  {
   "cell_type": "markdown",
   "metadata": {},
   "source": [
    "# Ejercicio 1"
   ]
  },
  {
   "cell_type": "markdown",
   "metadata": {},
   "source": [
    " Si se consideran las alturas sobre el nivel del piso de la Torre Mayor del Paseo de la Reforma (aprox. 226 m.) y el obelisco del ITAM (aprox. 18 m.), situado en el paso del Estacionamiento de Maestros a la Plaza de las Palmeras, ¿Cuántas veces cabe el obelisco en la torre? Escriba su respuesta de dos maneras: i) Con un valor numérico aproximado con decimales ii) Con un valor racional exacto, mostrando un valor entero (cantidad de obeliscos enteros) y un valor racional (una fracción propia de obelisco). \n",
    " "
   ]
  },
  {
   "cell_type": "code",
   "execution_count": 19,
   "metadata": {},
   "outputs": [
    {
     "data": {
      "text/plain": [
       "12"
      ]
     },
     "execution_count": 19,
     "metadata": {},
     "output_type": "execute_result"
    }
   ],
   "source": [
    "a=226/18\n",
    "int(a)"
   ]
  },
  {
   "cell_type": "code",
   "execution_count": 3,
   "metadata": {},
   "outputs": [
    {
     "data": {
      "text/plain": [
       "12.555555555555555"
      ]
     },
     "execution_count": 3,
     "metadata": {},
     "output_type": "execute_result"
    }
   ],
   "source": [
    "226/18"
   ]
  },
  {
   "cell_type": "markdown",
   "metadata": {},
   "source": [
    "# Ejercicio 2"
   ]
  },
  {
   "cell_type": "markdown",
   "metadata": {},
   "source": [
    " De acuerdo con la organización internacional Food and Agriculture Organization (FAO), en el año 2017 la producción mundial anual de trigo fue de 771.7 millones de toneladas métricas, donde cada tonelada métrica equivale a 1000 kg, y podemos considerar que 1000 granos de trigo pesan 0.030 kg en promedio (esto es una consideración aproximada), ¿Cuántos granos de trigo tuvo la producción mundial anual en 2017?\" \n"
   ]
  },
  {
   "cell_type": "code",
   "execution_count": 49,
   "metadata": {},
   "outputs": [
    {
     "name": "stdout",
     "output_type": "stream",
     "text": [
      "granos de trigo son 25723333333.333336\n"
     ]
    }
   ],
   "source": [
    "A=771.7*1000\n",
    "B=A*1000/0.030\n",
    "int(B)\n",
    "print(\"granos de trigo son {0}\".format(B))"
   ]
  },
  {
   "cell_type": "markdown",
   "metadata": {},
   "source": [
    "# Ejercico 3"
   ]
  },
  {
   "cell_type": "markdown",
   "metadata": {},
   "source": [
    "\n",
    " 3. En una empresa textil, 25 sastres fabrican 45 pantalones en un día de trabajo, ¿Cuántos pantalones fabricarán 60 sastres en un día de trabajo? \n",
    " "
   ]
  },
  {
   "cell_type": "code",
   "execution_count": 51,
   "metadata": {},
   "outputs": [
    {
     "name": "stdout",
     "output_type": "stream",
     "text": [
      "pantalones  108\n"
     ]
    }
   ],
   "source": [
    "unsastre=45/25\n",
    "total=unsastre*60\n",
    "t=int(total)\n",
    "print(\"pantalones \", t)"
   ]
  },
  {
   "cell_type": "markdown",
   "metadata": {},
   "source": [
    "# Ejercicio 4"
   ]
  },
  {
   "cell_type": "markdown",
   "metadata": {},
   "source": [
    "4. Si 1 y media gallinas producen dos y medio huevos en cinco días, ¿cuántos huevos produce una gallina en seis días"
   ]
  },
  {
   "cell_type": "code",
   "execution_count": 34,
   "metadata": {},
   "outputs": [
    {
     "name": "stdout",
     "output_type": "stream",
     "text": [
      "gallinas 10.0\n"
     ]
    }
   ],
   "source": [
    "gallinaundia=2.5/1.5\n",
    "gallinaseisdias=gallinaundia*6\n",
    "int(gallinaseisdias)\n",
    "print(\"gallinas {0}\".format(gallinaseisdias))"
   ]
  },
  {
   "cell_type": "markdown",
   "metadata": {},
   "source": [
    "# Ejercicio 5"
   ]
  },
  {
   "cell_type": "markdown",
   "metadata": {},
   "source": [
    "Si en una fábrica, 48 obreros (todos ellos igualmente calificados) ensamblan 30 motores en 10 días de trabajo, ¿Cuántos motores ensamblarán 42 obreros en 8 días de trabajo"
   ]
  },
  {
   "cell_type": "code",
   "execution_count": 38,
   "metadata": {},
   "outputs": [
    {
     "name": "stdout",
     "output_type": "stream",
     "text": [
      "motores 21.0\n"
     ]
    }
   ],
   "source": [
    "trabajadores42aldia=42*3/48\n",
    "trabajadoresen8dias=trabajadores42aldia*8\n",
    "int(trabajadoresen8dias)\n",
    "print(\"motores {0}\".format(trabajadoresen8dias))"
   ]
  },
  {
   "cell_type": "markdown",
   "metadata": {},
   "source": [
    "# Ejercicio 6"
   ]
  },
  {
   "cell_type": "markdown",
   "metadata": {},
   "source": [
    " Actualmente Juanita tiene una cuenta de banco con $1,256.757 donde acaban de ser abonados los intereses correspondientes al mes pasado, calculados con una tasa de interés mensual de 0.14 % (cero punto catorce por ciento).  Si no se hicieron otros depósitos distintos de los intereses del banco, ¿Cuál era la cantidad que Juanita tenía al inicio del mes pasado?\" \n",
    " "
   ]
  },
  {
   "cell_type": "code",
   "execution_count": 40,
   "metadata": {},
   "outputs": [
    {
     "name": "stdout",
     "output_type": "stream",
     "text": [
      "cantidad inicial 1255.0\n"
     ]
    }
   ],
   "source": [
    "cantidadinicial=100*1256.757/100.14\n",
    "print(\"cantidad inicial {0}\".format(cantidadinicial))"
   ]
  },
  {
   "cell_type": "markdown",
   "metadata": {},
   "source": [
    "# Ejercicio 7"
   ]
  },
  {
   "cell_type": "markdown",
   "metadata": {},
   "source": [
    "En la mueblería El Diván, S.A., el precio final de un comedor para el público en general es de $44,244.25 (cuarenta y cuatro mil doscientos cuarenta y cuatro pesos con 25 centavos), incluyendo el impuesto al valor agregado (IVA) de 16%. Responda las dos siguientes preguntas, considerando que todos los muebles vendidos en la tienda están gravados con una tasa de impuesto IVA de 16 % y recuerde que la tasa de impuesto incrementa el precio y es aplicada al subtotal con todos los descuentos, i) ¿Cuál es el precio del comedor antes de aplicar el impuesto? ii) Para los empleados de la mueblería, se ofrece un descuento especial de 16% sobre el precio sin impuesto ¿Cuál es el precio final, con el descuento y el impuesto, del comedor si un empleado es quien lo compra"
   ]
  },
  {
   "cell_type": "code",
   "execution_count": 43,
   "metadata": {},
   "outputs": [
    {
     "name": "stdout",
     "output_type": "stream",
     "text": [
      "El precio sin impuesto es 38141.59482758621\n"
     ]
    }
   ],
   "source": [
    "Preciosinimpuesto=100*44244.25/116\n",
    "print(\"El precio sin impuesto es {0}\".format(Preciosinimpuesto))"
   ]
  },
  {
   "cell_type": "code",
   "execution_count": 44,
   "metadata": {},
   "outputs": [
    {
     "name": "stdout",
     "output_type": "stream",
     "text": [
      "El precio de los trabajadores es 32038.935599999997\n"
     ]
    }
   ],
   "source": [
    "Preciosinimpuesto=38141.59\n",
    "Descuentotrabajadores=Preciosinimpuesto*84/100\n",
    "print(\"El precio de los trabajadores es {0}\".format(Descuentotrabajadores))"
   ]
  },
  {
   "cell_type": "markdown",
   "metadata": {},
   "source": [
    "# Ejercicio 8"
   ]
  },
  {
   "cell_type": "markdown",
   "metadata": {},
   "source": [
    "8. Ya comenzó la temporada de descuentos de una tienda de electrodomésticos; los precios de algunos artículos han sido rebajados y etiquetados nuevamente. i) Si el precio de un refrigerador era 9,534.25 antes de iniciada la temporada, y ahora tiene una etiqueta del 27.5 por ciento de descuento ¿Qué precio tiene el refrigerador?   ii) Si un cliente pagó 5,235.75 por un horno de microondas con un descuento de 33.5% ¿Qué precio tenía el horno antes de iniciada la temporada de descuentos? iii) ¿Qué porcentaje de descuento debe aplicarse a un artículo para que el precio sea rebajado de 5,355.20 a 4,225.50?"
   ]
  },
  {
   "cell_type": "code",
   "execution_count": 46,
   "metadata": {},
   "outputs": [
    {
     "name": "stdout",
     "output_type": "stream",
     "text": [
      "El precio con descuento es 6912.33125\n"
     ]
    }
   ],
   "source": [
    "precio1=9534.25\n",
    "Precio2=precio1*72.5/100\n",
    "print(\"El precio con descuento es {0}\".format(Precio2))"
   ]
  },
  {
   "cell_type": "code",
   "execution_count": 52,
   "metadata": {},
   "outputs": [
    {
     "name": "stdout",
     "output_type": "stream",
     "text": [
      "Precio antes de descuento  7873\n"
     ]
    }
   ],
   "source": [
    "precio1=5235.75\n",
    "precio2=precio1*100/66.5\n",
    "precioint=int(precio2)\n",
    "print(\"Precio antes de descuento \", precioint)"
   ]
  },
  {
   "cell_type": "code",
   "execution_count": 57,
   "metadata": {},
   "outputs": [
    {
     "name": "stdout",
     "output_type": "stream",
     "text": [
      "El descuento que debe aplicarse es  21 %\n"
     ]
    }
   ],
   "source": [
    "Precio1=5355.20\n",
    "Precio2=4255.50\n",
    "Porcentaje=Precio2*100/Precio1\n",
    "Porcentajeint=int(Porcentaje)\n",
    "print(\"El descuento que debe aplicarse es \", 100-Porcentajeint, \"%\")"
   ]
  },
  {
   "cell_type": "code",
   "execution_count": null,
   "metadata": {},
   "outputs": [],
   "source": []
  }
 ],
 "metadata": {
  "kernelspec": {
   "display_name": "Python 3",
   "language": "python",
   "name": "python3"
  },
  "language_info": {
   "codemirror_mode": {
    "name": "ipython",
    "version": 3
   },
   "file_extension": ".py",
   "mimetype": "text/x-python",
   "name": "python",
   "nbconvert_exporter": "python",
   "pygments_lexer": "ipython3",
   "version": "3.6.5"
  }
 },
 "nbformat": 4,
 "nbformat_minor": 2
}
