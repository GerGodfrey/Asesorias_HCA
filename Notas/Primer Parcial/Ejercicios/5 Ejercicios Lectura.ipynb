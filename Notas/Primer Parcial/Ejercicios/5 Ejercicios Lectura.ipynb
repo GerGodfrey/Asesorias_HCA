{
 "cells": [
  {
   "cell_type": "markdown",
   "metadata": {},
   "source": [
    "# Ejercicios de lectura de datos"
   ]
  },
  {
   "cell_type": "markdown",
   "metadata": {},
   "source": [
    "## Ejercicio 1 \n",
    "\n",
    "Busca cuales son las palabras más dichas en el siguiente texto."
   ]
  },
  {
   "cell_type": "code",
   "execution_count": 12,
   "metadata": {},
   "outputs": [],
   "source": [
    "archivo=open(\"discursoPeña.txt\",\"r\")\n",
    "texto=archivo.read()\n",
    "palabras = texto.split()"
   ]
  },
  {
   "cell_type": "code",
   "execution_count": 13,
   "metadata": {},
   "outputs": [
    {
     "name": "stdout",
     "output_type": "stream",
     "text": [
      "['Señor', 'Diputado', 'Jesús', 'Murillo', 'Karam,', 'Presidente', 'de', 'la', 'Cámara', 'de', 'Diputados.', 'Señor', 'Senador', 'Ernesto', 'Cordero', 'Arroyo,', 'Presidente', 'de', 'la', 'Cámara', 'de', 'Senadores.', 'Señor', 'Ministro', 'Juan', 'Silva', 'Meza,', 'Presidente', 'de', 'la', 'Suprema', 'Corte', 'de', 'Justicia', 'de', 'la', 'Nación.', 'Excelentísimos', 'Jefes', 'de', 'Estado', 'y', 'de', 'Gobierno,', 'así', 'como', 'representantes', 'de', 'naciones', 'amigas.', 'Muchas', 'gracias', 'por', 'estar', 'aquí', 'presentes.', 'Señores', 'Embajadores', 'y', 'honorable', 'Cuerpo', 'Diplomático', 'Acreditado', 'en', 'nuestro', 'país.', 'Muy', 'apreciados', 'señores', 'Gobernadores,', 'Gobernadores', 'electos.', 'Señor', 'Jefe', 'de', 'Gobierno', 'electo', 'del', 'Distrito', 'Federal.', 'Señores', 'Ministros', 'e', 'integrantes', 'del', 'Poder', 'Judicial', 'de', 'la', 'Federación.', 'Distinguidos', 'miembros', 'de', 'las', 'Fuerzas', 'Armadas', 'de', 'nuestro', 'país.', 'Señores', 'titulares', 'de', 'los', 'órganos', 'constitucionales', 'autónomos.', 'Señores', 'dirigentes', 'de', 'los', 'partidos', 'políticos.', 'Agradezco', 'la', 'presencia', 'de', 'Josefina', 'Vázquez', 'Mota,', 'quien', 'participara', 'en', 'el', 'proceso', 'electoral', 'de', '2012.', 'Muchas', 'gracias,', 'Josefina.', 'Señores', 'representantes', 'de', 'la', 'sociedad', 'civil', 'organizada', 'de', 'nuestro', 'país.', 'Señores', 'rectores', 'de', 'universidades.', 'Señores', 'dirigentes', 'sindicales', 'y', 'líderes', 'empresariales.', 'Representantes', 'de', 'iglesias', 'y', 'agrupaciones', 'religiosas.', 'Líderes', 'campesinos', 'e', 'indígenas.', 'Intelectuales,', 'artistas,', 'académicos', 'y', 'deportistas.', 'Quiero', 'saludar', 'y', 'agradecer', 'la', 'presencia', 'de', 'Angélica,', 'mi', 'esposa,', 'de', 'nuestros', 'hijos,', 'de', 'mi', 'señora', 'madre,', 'de', 'nuestra', 'familia.', 'Muchas', 'gracias', 'por', 'estar', 'presentes', 'y', 'acompañarnos', 'invariablemente', 'en', 'estos', 'actos.', 'Señores', 'representantes', 'de', 'los', 'medios', 'de', 'comunicación.', 'Señoras', 'y', 'señores.', 'Mexicanos:', 'Esta', 'mañana,', 'por', 'mandato', 'ciudadano,', 'rendí', 'protesta', 'como', 'Presidente', 'de', 'los', 'Estados', 'Unidos', 'Mexicanos', 'ante', 'el', 'Honorable', 'Congreso', 'de', 'la', 'Unión,', 'cumpliendo', 'así', 'con', 'los', 'dispuesto', 'en', 'el', 'Artículo', '87', 'de', 'nuestra', 'Constitución.', 'Desde', 'Palacio', 'Nacional,', 'símbolo', 'de', 'historia', 'y', 'vida', 'republicana,', 'me', 'dirijo', 'por', 'primera', 'vez', 'a', 'los', 'mexicanos', 'como', 'su', 'Presidente.', 'Siento', 'una', 'emoción', 'profunda,', 'en', 'la', 'que', 'se', 'enlaza', 'nuestra', 'historia', 'con', 'la', 'esperanza', 'de', 'un', 'futuro', 'mejor', 'para', 'nuestro', 'gran', 'país.', 'Los', 'mexicanos', 'tenemos', 'un', 'legado', 'prehispánico,', 'colonial,', 'independiente,', 'revolucionario', 'y', 'democrático.', 'El', 'pasado', 'para', 'nosotros', 'es', 'identidad', 'y', 'fuente', 'de', 'inspiración', 'y', 'así', 'lo', 'seguirá', 'siendo', 'en', 'mi', 'Gobierno.', 'Somos', 'herederos', 'de', 'una', 'tradición', 'milenaria,', 'que', 'sobrevive', 'hasta', 'hoy', 'en', 'lenguas', 'y', 'culturas', 'indígenas,', 'que', 'sabré', 'respetar', 'y', 'conservar.', 'Somos', 'la', 'expresión', 'de', 'la', 'gran', 'cultura', 'hispana.', 'Somos', 'hijos,', 'también,', 'de', 'dos', 'poderosas', 'corrientes', 'del', 'Siglo', 'XIX', 'y', 'XX:', 'la', 'liberal', 'y', 'la', 'revolucionaria.', 'Sus', 'valores', 'de', 'independencia,', 'libertad', 'y', 'justicia,', 'renovados', 'para', 'el', 'Siglo', 'XXI,', 'guiarán', 'los', 'actos', 'de', 'mi', 'Gobierno.', 'Pero', 'hay', 'otro', 'pasado', 'que', 'no', 'se', 'remonta', 'a', 'los', 'milenios,', 'ni', 'a', 'los', 'siglos,', 'es', 'el', 'pasado', 'reciente', 'que', 'se', 'mide', 'en', 'décadas,', 'y', 'del', 'cual', 'los', 'mexicanos', 'podemos', 'sentirnos', 'igualmente', 'orgullosos.', 'Me', 'refiero', 'al', 'México', 'que', 'construyó', 'instituciones,', 'para', 'hacer', 'efectivos', 'nuestros', 'derechos.', 'Ejemplo', 'de', 'ello,', 'son', 'nuestras', 'Fuerzas', 'Armadas,', 'institución', 'ejemplar,', 'solidaria,', 'respetada', 'y', 'estimada', 'por', 'todos', 'los', 'mexicanos.', 'Nuestras', 'Fuerzas', 'Armadas', 'siempre', 'han', 'actuado', 'con', 'patriotismo,', 'valor', 'y', 'lealtad', 'al', 'servicio', 'de', 'México.', 'Para', 'ellas,', 'mi', 'especial', 'reconocimiento.', 'Nuestra', 'vocación', 'institucional', 'es', 'un', 'hecho', 'probado', 'por', 'la', 'historia.', 'Muy', 'pocos', 'países,', 'no', 'sólo', 'en', 'América', 'Latina,', 'sino', 'en', 'todo', 'el', 'mundo,', 'han', 'tenido', 'la', 'continuidad', 'del', 'nuestro,', 'que', 'cada', 'seis', 'años,', 'desde', '1934,', 'ha', 'atestiguado', 'la', 'Toma', 'de', 'Protesta', 'de', 'un', 'nuevo', 'Presidente.', 'En', 'el', 'transcurso', 'de', 'estos', 'años,', 'el', 'país', 'ha', 'mantenido', 'el', 'orden', 'político', 'interno.', 'Los', 'mexicanos', 'hemos', 'logrado,', 'sin', 'caudillismos', 'y', 'sin', 'dictaduras,', 'el', 'propósito', 'inicial', 'de', 'nuestra', 'Revolución.', 'La', 'democracia', 'plena', 'llevó', 'su', 'tiempo.', 'Pero', 'hoy,', 'la', 'democracia', 'ha', 'logrado', 'consolidarse', 'y', 'ser', 'parte', 'de', 'nuestra', 'cultura.', 'Millones', 'de', 'mexicanos,', 'desde', '1910,', 'de', 'todas', 'las', 'filiaciones,', 'libraron', 'una', 'gran', 'batalla', 'cívica', 'por', 'la', 'democracia', 'en', 'el', 'Siglo', 'XX.', 'Pero', 'fue', 'a', 'partir', 'del', 'movimiento', 'estudiantil', 'del', '68', 'y', 'de', 'las', 'sucesivas', 'reformas', 'políticas,', 'que', 'se', 'aceleró', 'nuestra', 'democracia.', 'A', 'partir', 'de', 'entonces,', 'generaciones', 'de', 'mujeres', 'y', 'hombres,', 'pensadores,', 'políticos,', 'activistas', 'y', 'ciudadanos,', 'trabajaron', 'para', 'hacerla', 'realidad', 'y,', 'finalmente,', 'la', 'conquistaron.', 'Ese', 'México', 'democrático', 'es', 'el', 'México', 'de', 'nuestros', 'días.', 'En', 'el', 'México', 'de', 'hoy,', 'hay', 'alternancia', 'en', 'todos', 'los', 'órdenes', 'de', 'Gobierno.', 'En', 'el', 'México', 'de', 'hoy,', 'existe', 'una', 'autentica', 'división', 'de', 'Poderes', 'y', 'hay', 'una', 'sana', 'pluralidad', 'de', 'partidos', 'en', 'el', 'Congreso.', 'En', 'el', 'México', 'de', 'hoy,', 'el', 'Federalismo', 'no', 'es', 'un', 'ideal,', 'sino', 'una', 'realidad.', 'En', 'el', 'México', 'de', 'hoy,', 'un', 'instituto', 'ciudadano', 'tiene', 'a', 'su', 'cargo', 'las', 'elecciones.', 'Y', 'en', 'el', 'México', 'de', 'hoy,', 'todas', 'las', 'libertades', 'son', 'reconocidas', 'por', 'el', 'orden', 'constitucional.', 'México', 'vive,', 'en', 'suma,', 'una', 'nueva', 'etapa', 'de', 'su', 'historia:', 'la', 'de', 'una', 'democracia', 'con', 'instituciones', 'sólidas', 'y', 'procesos', 'electorales', 'competidos,', 'plurales', 'y', 'participativos.', 'A', 'estos', 'logros,', 'se', 'agrega', 'la', 'estabilidad', 'macroeconómica', 'de', 'los', 'últimos', 'tres', 'lustros.', 'Tras', 'sucesivas', 'crisis', 'financieras', 'que', 'cimbraron', 'al', 'país,', 'los', 'mexicanos', 'aprendimos', 'duras', 'lecciones', 'y', 'supimos', 'poner', 'orden.', 'De', 'nosotros', 'depende,', 'ahora,', 'aprovechar', 'esta', 'plataforma,', 'para', 'acelerar', 'el', 'crecimiento', 'y', 'lograr', 'el', 'objetivo', 'económico', 'más', 'importante:', 'Mejorar', 'la', 'economía', 'familiar', 'de', 'los', 'mexicanos.', 'Gracias', 'a', 'la', 'solidez', 'de', 'nuestras', 'instituciones,', 'a', 'la', 'realidad', 'irreversible', 'de', 'nuestra', 'democracia', 'y', 'a', 'la', 'solidez', 'de', 'sus', 'finanzas,', 'México', 'ahora', 'está', 'listo', 'para', 'despuntar', 'en', 'el', 'mundo', 'del', 'Siglo', 'XXI.', 'Así,', 'lo', 'reconocen', 'ya,', 'observadores', 'políticos', 'y', 'económicos,', 'nacionales', 'y', 'extranjeros.', 'Todos', 'coinciden', 'en', 'que', 'tenemos', 'una', 'oportunidad', 'histórica', 'para', 'proyectar', 'a', 'México,', 'hasta', 'convertirlo', 'en', 'una', 'potencia,', 'como', 'lo', 'merece', 'ser.', 'Igual', 'que', 'en', 'la', 'vida', 'de', 'las', 'personas,', 'las', 'familias', 'o', 'las', 'comunidades,', 'en', 'la', 'vida', 'de', 'las', 'naciones', 'se', 'presentan,', 'pocas', 'veces,', 'las', 'oportunidades', 'de', 'cambiar', 'de', 'manera', 'trascendental.', 'Cuando', 'aparecen', 'estas', 'oportunidades', 'lo', 'fundamental', 'es', 'reconocerlas,', 'sobre', 'todo,', 'entenderlas', 'y', 'aprovecharlas.', 'Eso', 'es,', 'precisamente,', 'lo', 'que', 'hoy', 'propongo', 'a', 'la', 'Nación.', 'Aprovechar', 'esta', 'magnífica', 'oportunidad', 'para', 'llevar', 'a', 'México', 'al', 'lugar', 'que', 'se', 'merece.', 'Mi', 'compromiso', 'es', 'conducir', 'este', 'esfuerzo', 'colectivo', 'ejerciendo', 'cabalmente', 'las', 'atribuciones', 'de', 'mi', 'cargo', 'en', 'el', 'estricto', 'marco', 'de', 'la', 'ley.', 'A', 'partir', 'de', 'hoy,', 'la', 'primera', 'obligación', 'que', 'tengo', 'como', 'Presidente', 'de', 'la', 'República,', 'es', 'cumplir', 'y', 'hacer', 'cumplir', 'la', 'ley.', 'Como', 'Presidente', 'democrático,', 'respetaré', 'a', 'todas', 'y', 'a', 'cada', 'una', 'de', 'las', 'voces', 'de', 'la', 'sociedad.', 'Voy', 'a', 'ejercer', 'un', 'Gobierno', 'abierto,', 'que', 'hable', 'con', 'verdad,', 'que', 'pida', 'opinión,', 'que', 'escuche', 'a', 'la', 'ciudadanía', 'y', 'tome', 'las', 'mejores', 'decisiones.', 'Quiero', 'que', 'las', 'buenas', 'propuestas', 'guíen', 'a', 'este', 'Gobierno.', 'Será', 'un', 'Gobierno', 'facilitador,', 'un', 'ejecutor', 'de', 'las', 'mejores', 'ideas', 'de', 'los', 'mexicanos.', 'Será,', 'también,', 'un', 'Gobierno', 'responsable,', 'que', 'trabajará', 'fuerte', 'desde', 'el', 'primer', 'día,', 'para', 'cumplir', 'uno', 'a', 'uno', 'todos', 'sus', 'compromisos.', 'Seré', 'un', 'Presidente', 'cercano', 'a', 'la', 'gente,', 'recorreré', 'todo', 'el', 'país', 'acompañado', 'de', 'miembros', 'de', 'mi', 'Gabinete,', 'para', 'que', 'ahí,', 'en', 'cada', 'región,', 'en', 'cada', 'entidad,', 'en', 'cada', 'comunidad,', 'se', 'atiendan', 'y', 'resuelvan', 'sus', 'problemas', 'fundamentales.', 'La', 'cercanía', 'de', 'mi', 'Gobierno', 'se', 'reflejará,', 'también,', 'en', 'una', 'estrecha', 'relación', 'con', 'las', 'organizaciones', 'de', 'la', 'sociedad', 'civil,', 'con', 'los', 'medios', 'de', 'comunicación,', 'con', 'los', 'creadores', 'y', 'científicos.', 'Todos', 'tendrán', 'pleno', 'respeto', 'y', 'respaldo', 'para', 'llevar', 'a', 'cabo', 'sus', 'actividades', 'y', 'contribuir', 'positivamente', 'al', 'desarrollo', 'nacional.', 'Como', 'Presidente', 'democrático,', 'trabajaré', 'en', 'coordinación', 'y', 'corresponsabilidad', 'con', 'los', 'otros', 'órdenes', 'de', 'Gobierno.', 'Desde', 'el', 'Gobierno', 'de', 'la', 'República', 'colaboraré', 'con', 'las', 'autoridades', 'de', 'los', 'estados,', 'del', 'Distrito', 'Federal', 'y', 'de', 'los', 'municipios.', 'El', 'horizonte', 'promisorio', 'de', 'la', 'República', 'está', 'en', 'el', 'esfuerzo', 'compartido', 'de', 'todas', 'sus', 'partes.', 'Como', 'Presidente', 'democrático,', 'acataré', 'el', 'principio', 'de', 'División', 'de', 'Poderes,', 'alentando,', 'siempre,', 'la', 'comunicación', 'y', 'el', 'diálogo', 'institucional', 'consciente', 'de', 'que', 'Legislativo,', 'Ejecutivo', 'y', 'Judicial', 'integramos', 'el', 'supremo', 'poder', 'de', 'la', 'Federación.', 'En', 'este', 'marco,', 'expreso', 'mi', 'respeto', 'y', 'respaldo', 'al', 'Poder', 'Judicial', 'de', 'la', 'Federación,', 'fuente', 'de', 'certeza', 'jurídica', 'que', 'da', 'soporte', 'y', 'vigencia', 'a', 'nuestro', 'régimen', 'constitucional.', 'Invito', 'a', 'su', 'Presidente,', 'a', 'los', 'Ministros', 'y', 'a', 'todos', 'quienes', 'conforman', 'este', 'poder,', 'a', 'profundizar', 'la', 'colaboración', 'institucional', 'y', 'consolidar', 'el', 'Estado', 'democrático', 'de', 'derecho.', 'Expreso,', 'igualmente,', 'mi', 'reconocimiento', 'y', 'consideración', 'a', 'las', 'Cámaras', 'de', 'Senadores', 'y', 'Diputados', 'que', 'integran', 'el', 'Honorable', 'Congreso', 'de', 'la', 'Unión.', 'Sabré', 'trabajar', 'con', 'los', 'Legisladores,', 'aprovechando', 'la', 'pluralidad', 'que', 'los', 'distingue', 'para', 'emprender,', 'juntos,', 'una', 'nueva', 'etapa', 'de', 'acuerdos', 'en', 'favor', 'de', 'México.', 'Mi', 'Gobierno', 'alentará', 'la', 'unidad', 'dentro', 'de', 'la', 'pluralidad.', 'Celebro', 'el', 'ánimo', 'que', 'prevalece', 'en', 'los', 'actores', 'políticos', 'para', 'concretar', 'reformas', 'que', 'sirven', 'a', 'México.', 'Muestra', 'de', 'ello,', 'es', 'la', 'reciente', 'aprobación', 'a', 'la', 'Reforma', 'Laboral', 'y', 'a', 'la', 'Ley', 'de', 'Contabilidad', 'Gubernamental.', 'En', 'este', 'marco,', 'reconozco,', 'también,', 'la', 'colaboración', 'del', 'Presidente', 'Felipe', 'Calderón', 'Hinojosa,', 'cuya', 'disposición', 'institucional', 'permitió', 'una', 'transición', 'ejemplar,', 'transparente,', 'ordenada', 'y', 'apegada', 'a', 'derecho.', 'En', 'esta', 'etapa,', 'quedaron', 'claras', 'no', 'sólo', 'la', 'normalidad', 'democrática', 'y', 'la', 'madurez', 'política', 'que', 'hemos', 'alcanzado,', 'sino,', 'también,', 'la', 'determinación', 'de', 'mi', 'Gobierno', 'por', 'transformar', 'al', 'país', 'sin', 'demoras.', 'Necesitamos', 'transitar', 'hacia', 'una', 'democracia', 'que', 'dé', 'resultados', 'tangibles,', 'y', 'lo', 'necesitamos', 'con', 'urgencia,', 'porque', 'nuestros', 'desafíos', 'son', 'mayores.', 'A', 'pesar', 'de', 'nuestras', 'conquistas', 'en', 'el', 'ámbito', 'de', 'la', 'macroeconomía,', 'de', 'la', 'estabilidad', 'de', 'nuestras', 'instituciones', 'y', 'del', 'vigor', 'de', 'nuestra', 'democracia,', 'México', 'no', 'ha', 'logrado', 'los', 'avances', 'que', 'su', 'población', 'demanda', 'y', 'merece.', 'El', 'Estado', 'ha', 'cedido', 'importantes', 'espacios.', 'La', 'inseguridad', 'y', 'la', 'violencia', 'han', 'robado', 'la', 'paz', 'y', 'libertad', 'de', 'diversas', 'comunidades', 'del', 'territorio', 'nacional.', 'Hoy,', 'somos', 'un', 'país', 'donde', 'pocos', 'lo', 'tienen', 'todo,', 'y', 'la', 'mayoría', 'carece', 'de', 'condiciones', 'para', 'el', 'goce', 'efectivo', 'de', 'sus', 'derechos.', 'Somos', 'una', 'Nación', 'que', 'crece', 'en', 'dos', 'velocidades.', 'Hay', 'un', 'México', 'de', 'progreso', 'y', 'desarrollo,', 'pero', 'hay', 'otro,', 'también,', 'que', 'vive', 'en', 'el', 'atraso', 'y', 'la', 'pobreza.', 'México,', 'México', 'es', 'un', 'país', 'joven', 'y', 'de', 'jóvenes,', 'quienes', 'muchas', 'veces', 'ven', 'frustradas', 'sus', 'aspiraciones', 'por', 'no', 'tener', 'medios', 'para', 'prepararse,', 'por', 'tener,', 'o', 'por', 'no', 'tener', 'una', 'educación', 'de', 'calidad.', 'Hay', 'un', 'gran', 'número', 'de', 'mexicanos', 'que', 'viven', 'al', 'día,', 'preocupados', 'por', 'la', 'falta', 'de', 'empleo', 'y', 'oportunidades,', 'porque', 'el', 'país', 'no', 'ha', 'crecido', 'lo', 'suficiente.', 'Estas', 'condiciones,', 'que', 'nos', 'agravian', 'y', 'nos', 'duelen,', 'también', 'han', 'dañado', 'la', 'imagen', 'de', 'México', 'en', 'el', 'exterior.', 'Éste', 'es', 'el', 'México', 'que', 'hay', 'que', 'transformar.', 'Hoy,', 'los', 'mexicanos', 'queremos', 'un', 'cambio.', 'Queremos', 'elevar', 'la', 'calidad', 'de', 'vida', 'de', 'las', 'familias', 'mexicanas.', 'Este', 'anhelo', 'está', 'presente', 'a', 'lo', 'largo', 'y', 'ancho', 'de', 'nuestro', 'territorio.', 'Es', 'el', 'deseo', 'de', 'un', 'cambio', 'seguro,', 'con', 'rumbo', 'y', 'con', 'dirección.', 'Conducir', 'la', 'transformación', 'es', 'mi', 'responsabilidad,', 'como', 'Presidente', 'de', 'la', 'República.', 'Hacerlo', 'en', 'democracia,', 'es', 'mi', 'obligación', 'ineludible.', 'Los', 'mexicanos', 'demandan', 'un', 'Presidente', 'que', 'asuma', 'su', 'responsabilidad', 'con', 'la', 'República', 'y', 'que', 'cumpla', 'a', 'cabalidad', 'con', 'sus', 'deberes.', 'Para', 'ello,', 'propongo', 'un', 'Programa', 'de', 'Gobierno', 'que', 'impulse', 'la', 'transformación', 'de', 'México.', 'Es', 'una', 'visión', 'responsable', 'y', 'realista', 'para', 'acelerar', 'el', 'desarrollo', 'integral', 'y', 'equilibrado', 'de', 'nuestro', 'país.', 'Trabajaré', 'por', 'un', 'Gobierno', 'eficaz', 'que', 'tenga', 'un', 'propósito', 'fundamental:', 'Hacer', 'realidad', 'los', 'derechos', 'humanos', 'que', 'reconoce', 'nuestra', 'Constitución.', 'Éste', 'será', 'un', 'Gobierno', 'al', 'servicio', 'de', 'los', 'derechos', 'de', 'todos', 'los', 'mexicanos.', 'El', 'bien', 'mayor', 'y', 'el', 'bien', 'último,', 'es', 'la', 'vida', 'humana.', 'Por', 'eso,', 'el', 'primer', 'eje', 'de', 'mi', 'Gobierno', 'es', 'lograr', 'un', 'México', 'en', 'paz.', 'Pondremos', 'al', 'ciudadano', 'y', 'a', 'su', 'familia', 'en', 'el', 'centro', 'de', 'las', 'políticas', 'de', 'seguridad.', 'Para', 'lograr', 'resultados,', 'trabajaremos', 'con', 'estrategia,', 'con', 'una', 'real', 'y', 'eficaz', 'coordinación', 'entre', 'los', 'órdenes', 'de', 'Gobierno,', 'a', 'fin', 'de', 'combatir', 'la', 'impunidad', 'y', 'hacer', 'que', 'prevalezca', 'la', 'justicia', 'y', 'la', 'paz.', 'Las', 'ciudades,', 'los', 'pueblos,', 'las', 'carreteras,', 'deben', 'volver', 'a', 'ser', 'espacios', 'de', 'tranquilidad,', 'en', 'los', 'cuales,', 'los', 'mexicanos', 'transiten', 'con', 'seguridad,', 'sin', 'temor', 'de', 'perder', 'la', 'libertad', 'o', 'la', 'vida.', 'Debemos', 'cambiar', 'de', 'paradigma,', 'entender', 'que', 'no', 'habrá', 'seguridad', 'mientras', 'no', 'haya', 'justicia.', 'En', 'el', 'México', 'que', 'vislumbro', 'hay', 'justicia', 'e', 'inclusión,', 'que', 'serán', 'las', 'bases', 'del', 'pacto', 'social.', 'De', 'ahí,', 'que', 'el', 'segundo', 'eje', 'de', 'mi', 'Gobierno', 'sea', 'lograr', 'un', 'México', 'incluyente.', 'Debemos', 'combatir', 'la', 'pobreza', 'y', 'cerrar', 'la', 'brecha', 'de', 'la', 'desigualdad,', 'que', 'aún,', 'lamentablemente,', 'divide', 'a', 'los', 'mexicanos.', 'Como', 'sociedad,', 'debemos', 'trabajar', 'para', 'que', 'las', 'madres', 'y', 'padres', 'de', 'familia', 'tengan', 'lo', 'suficiente', 'para', 'el', 'sustento', 'diario', 'de', 'sus', 'hijos.', 'Debemos', 'plantearnos', 'como', 'objetivo', 'ser', 'una', 'sociedad', 'de', 'clase', 'media,', 'con', 'equidad', 'y', 'cohesión,', 'con', 'igualdad', 'de', 'oportunidades.', 'Vamos', 'a', 'impulsar', 'nuestra', 'fuente', 'de', 'riqueza,', 'que', 'es', 'el', 'talento,', 'la', 'capacidad', 'y', 'creatividad', 'de', 'nuestra', 'gente.', 'Por', 'eso,', 'el', 'tercer', 'eje', 'de', 'mi', 'Gobierno', 'será', 'lograr', 'un', 'México', 'con', 'educación', 'de', 'calidad', 'para', 'todos.', 'Ese', 'país', 'que', 'podemos', 'ser,', 'hará', 'frente', 'a', 'los', 'rezagos', 'educativos,', 'para', 'estar', 'al', 'nivel', 'de', 'las', 'naciones', 'desarrolladas.', 'Nuestras', 'escuelas', 'deben', 'formar', 'individuos', 'libres,', 'responsables', 'y', 'comprometidos;', 'ciudadanos', 'de', 'México', 'y', 'del', 'mundo,', 'solidarios', 'con', 'sus', 'comunidades.', 'Ésta', 'es', 'mi', 'más', 'íntima', 'convicción:', 'que', 'los', 'jóvenes', 'mexicanos,', 'creativos', 'y', 'emprendedores,', 'desarrollen', 'sus', 'aptitudes,', 'conocimientos', 'y', 'capacidad', 'innovadora', 'para', 'competir,', 'con', 'éxito,', 'en', 'el', 'mundo', 'moderno.', 'La', 'sucesión', 'de', 'revoluciones', 'globales,', 'de', 'la', 'industrial', 'a', 'la', 'tecnológica,', 'nos', 'ha', 'llevado', 'a', 'un', 'mundo', 'vertiginoso,', 'en', 'el', 'cual', 'triunfan', 'los', 'que', 'tienen', 'las', 'herramientas', 'del', 'saber', 'científico', 'y', 'tecnológico.', 'Creo', 'en', 'un', 'México', 'con', 'crecimiento', 'económico', 'sólido', 'y', 'sostenido,', 'que', 'se', 'refleje', 'en', 'toda', 'la', 'geografía', 'nacional.', 'Por', 'eso,', 'lograr', 'un', 'México', 'próspero', 'es', 'el', 'cuarto', 'eje', 'de', 'mi', 'Gobierno.', 'La', 'naturaleza', 'nos', 'ha', 'regalado', 'variados', 'recursos.', 'Alguna', 'vez,', 'nuestra', 'visión', 'de', 'la', 'riqueza', 'se', 'limitó', 'a', 'explotarlos.', 'Y,', 'al', 'hacerlo,', 'dejamos', 'de', 'ver', 'otras', 'opciones', 'productivas,', 'que', 'pudieran', 'generar', 'mayores', 'beneficios', 'para', 'el', 'país.', 'Hoy,', 'debemos', 'explotarlos,', 'pero', 'en', 'forma', 'sustentable', 'y', 'audaz.', 'Agregarles', 'valor,', 'para', 'que', 'su', 'producto', 'llegue', 'al', 'bolsillo', 'de', 'los', 'mexicanos', 'de', 'hoy', 'y', 'de', 'mañana.', 'Y', 'que', 'son,', 'a', 'final', 'de', 'cuentas,', 'ellos,', 'los', 'dueños', 'de', 'esa', 'riqueza.', 'En', 'el', 'compromiso', 'de', 'acelerar', 'el', 'crecimiento', 'económico,', 'vislumbro', 'el', 'que', 'vayamos', 'a', 'fomentar', 'mayor', 'competencia', 'en', 'todos', 'los', 'ámbitos;', 'aumentar', 'el', 'nivel', 'de', 'crédito', 'para', 'financiar', 'áreas', 'estratégicas', 'y', 'promover', 'la', 'economía', 'formal.', 'El', 'nuevo', 'Gobierno', 'de', 'la', 'República', 'está', 'determinado', 'a', 'incrementar', 'la', 'inversión', 'en', 'infraestructura,', 'a', 'fortalecer', 'nuestro', 'mercado', 'interno', 'y,', 'al', 'mismo', 'tiempo,', 'lograr', 'una', 'mayor', 'participación', 'en', 'el', 'mercado', 'global.', 'Debemos', 'impulsar,', 'sin', 'ataduras,', 'ni', 'temores,', 'todos', 'los', 'motores', 'del', 'crecimiento.', 'El', 'campo,', 'el', 'turismo,', 'el', 'desarrollo', 'industrial,', 'serán', 'imprescindibles', 'en', 'la', 'ruta', 'de', 'México', 'para', 'transformarse', 'en', 'una', 'potencia', 'económica', 'emergente.', 'Ese', 'México', 'que', 'está', 'a', 'nuestro', 'alcance,', 'no', 'será', 'un', 'país', 'que', 'sólo', 'vea', 'hacia', 'adentro.', 'Será,', 'también,', 'un', 'país', 'solidario,', 'que', 'asuma', 'su', 'compromiso', 'con', 'las', 'mejores', 'causas', 'de', 'la', 'humanidad.', 'En', 'consecuencia,', 'el', 'quinto', 'eje', 'de', 'mi', 'Gobierno,', 'es', 'lograr', 'que', 'México', 'sea', 'un', 'actor', 'con', 'responsabilidad', 'global.', 'Un', 'país', 'con', 'participación', 'propositiva', 'en', 'el', 'mundo,', 'dispuesto', 'a', 'fomentar', 'la', 'cooperación', 'entre', 'las', 'naciones,', 'con', 'una', 'diplomacia', 'moderna', 'e', 'innovadora.', 'México', 'debe', 'ser', 'un', 'factor', 'de', 'estabilidad', 'en', 'un', 'mundo', 'convulso,', 'una', 'voz', 'que', 'se', 'escuche,', 'una', 'voz', 'que', 'defienda', 'la', 'libertad', 'y', 'promueva', 'un', 'orden', 'más', 'justo', 'y', 'un', 'mundo', 'sustentable', 'en', 'el', 'Siglo', 'XXI.', 'Qué', 'mejor', 'oportunidad', 'que', 'la', 'de', 'este', 'día,', 'en', 'la', 'que', 'están', 'presentes', 'Jefes', 'de', 'Estado', 'y', 'de', 'Gobierno,', 'representantes', 'diplomáticos', 'de', 'países', 'hermanos,', 'para', 'expresarles', 'a', 'todas', 'y', 'a', 'todos', 'la', 'postura', 'que', 'sostendrá', 'México', 'en', 'sus', 'Relaciones', 'Exteriores', 'durante', 'los', 'siguientes', 'seis', 'años.', 'A', 'todos', 'nuestros', 'invitados', 'internacionales,', 'les', 'expreso', 'mi', 'agradecimiento', 'por', 'acompañar', 'a', 'los', 'mexicanos', 'en', 'esta', 'fecha', 'tan', 'significativa,', 'en', 'la', 'que', 'se', 'da', 'el', 'relevo', 'en', 'la', 'titularidad', 'del', 'Poder', 'Ejecutivo.', 'Estos', 'son', 'los', 'cinco', 'ejes', 'del', 'nuevo', 'Gobierno.', 'Es', 'la', 'visión', 'de', 'un', 'México', 'que', 'está', 'a', 'nuestro', 'alcance,', 'que', 'podemos', 'lograr', 'si', 'desterramos', 'el', 'encono', 'y', 'la', 'discordia.', 'Por', 'eso,', 'celebro', 'los', 'acercamientos', 'y', 'pláticas', 'que', 'han', 'sostenido', 'los', 'partidos', 'políticos', 'nacionales', 'a', 'fin', 'de', 'impulsar', 'un', 'gran', 'pacto', 'por', 'México.', 'El', 'Gobierno', 'de', 'la', 'República', 'ofrece', 'participar', 'con', 'entusiasmo', 'para', 'que', 'el', 'acuerdo', 'sea', 'una', 'realidad.', 'Es', 'momento', 'de', 'unirnos', 'en', 'propósitos', 'comunes,', 'de', 'comprometernos', 'con', 'la', 'paz,', 'la', 'justicia,', 'la', 'prosperidad,', 'el', 'respeto', 'y', 'orgullo', 'de', 'nuestra', 'casa', 'común,', 'ésta,', 'que', 'es', 'México.', 'Al', 'inicio', 'del', 'nuevo', 'Gobierno,', 'desde', 'Palacio', 'Nacional,', 'informo', 'de', 'las', 'siguientes', 'decisiones', 'presidenciales:', 'Primera.', 'México', 'exige', 'vivir', 'en', 'paz.', 'Estoy', 'convencido', 'que', 'el', 'delito', 'no', 'sólo', 'se', 'combate', 'con', 'la', 'fuerza.', 'Es', 'imprescindible', 'que', 'el', 'Estado', 'emprenda', 'un', 'esfuerzo', 'integral', 'para', 'reconstruir', 'el', 'tejido', 'social.', 'He', 'instruido', 'a', 'los', 'Secretarios', 'de', 'Gobernación,', 'de', 'Hacienda,', 'de', 'Desarrollo', 'Social,', 'de', 'Educación', 'y', 'de', 'Salud,', 'para', 'la', 'creación', 'de', 'un', 'Programa', 'Nacional', 'de', 'Prevención', 'del', 'Delito.', 'Esta', 'acción', 'deberá', 'reflejarse', 'en', 'la', 'propuesta', 'de', 'Presupuesto', 'de', 'Egresos', 'del', '2013,', 'que', 'someteré', 'a', 'la', 'consideración', 'del', 'Honorable', 'Congreso', 'de', 'la', 'Unión.', 'De', 'ser', 'aprobado,', 'será', 'un', 'programa', 'transversal', 'que', 'involucrará', 'a', 'todas', 'las', 'dependencias', 'Federales', 'en', 'acciones', 'para', 'combatir', 'las', 'adicciones,', 'rescatar', 'los', 'espacios', 'públicos', 'y', 'promover', 'proyectos', 'productivos,', 'entre', 'muchas', 'otras', 'acciones', 'y', 'programas', 'que', 'habremos', 'de', 'desarrollar', 'para', 'alcanzar', 'este', 'objetivo.', 'Segunda', 'decisión.', 'Detrás', 'de', 'cada', 'delito', 'hay', 'una', 'historia', 'de', 'dolor,', 'incluso,', 'la', 'pérdida', 'de', 'un', 'ser', 'querido.', 'El', 'Estado', 'debe', 'estar', 'al', 'lado', 'de', 'las', 'víctimas', 'y', 'de', 'sus', 'familiares.', 'Por', 'ello,', 'y', 'dando', 'cabal', 'cumplimiento', 'a', 'mi', 'compromiso,', 'instruyo', 'a', 'la', 'Consejería', 'Jurídica', 'para', 'que', 'se', 'desista', 'de', 'la', 'controversia', 'constitucional', 'sobre', 'la', 'Ley', 'General', 'de', 'Víctimas,', 'para', 'que,', 'una', 'vez', 'que', 'se', 'acuerde', 'por', 'la', 'Suprema', 'Corte,', 'se', 'publique', 'tal', 'como', 'fue', 'aprobada', 'por', 'el', 'Congreso.', 'Sé', 'que', 'esta', 'ley', 'es', 'perfectible.', 'Mi', 'Gobierno', 'participará', 'de', 'manera', 'inmediata', 'en', 'el', 'diálogo', 'social', 'y', 'político', 'que', 'permita', 'mejorarla.', 'Pero,', 'para', 'tal', 'efecto,', 'debemos', 'partir', 'de', 'una', 'base,', 'contar', 'con', 'una', 'ley', 'vigente', 'que', 'proteja,', 'cuanto', 'antes,', 'a', 'las', 'víctimas', 'de', 'nuestro', 'país.', 'Tercera', 'decisión.', 'Hay,', 'en', 'el', 'país', '33', 'códigos', 'penales,', 'sin', 'considerar', 'el', 'Código', 'Penal', 'del', 'Ejército,', 'o', 'de', 'fuero', 'militar,', 'que', 'castigan', 'de', 'manera', 'distinta', 'los', 'mismos', 'delitos.', 'Ello', 'dificulta', 'la', 'acción', 'de', 'la', 'justicia.', 'Por', 'ello,', 'habré', 'de', 'presentar', 'al', 'Honorable', 'Congreso', 'de', 'la', 'Unión,', 'una', 'iniciativa', 'de', 'reforma', 'constitucional,', 'que', 'permita', 'contar', 'con', 'un', 'solo', 'Código', 'Penal,', 'y', 'otro', 'de', 'Procedimientos', 'Penales,', 'únicos', 'y', 'de', 'aplicación', 'nacional.', 'En', 'caso', 'de', 'aprobarse', 'esta', 'reforma', 'por', 'el', 'Constituyente', 'Permanente,', 'se', 'dará', 'un', 'importante', 'paso', 'contra', 'la', 'impunidad.', 'Cuarta', 'decisión.', 'Estamos', 'en', 'pleno', 'Siglo', 'XXI.', 'México', 'ha', 'logrado', 'avances', 'en', 'diversos', 'sectores,', 'pero', 'es', 'indignante,', 'es', 'inaceptable', 'que', 'millones', 'de', 'mexicanos', 'padezcan', 'aún', 'de', 'hambre.', 'Lograr', 'que', 'las', 'familias', 'mexicanas', 'tengan', 'un', 'piso', 'básico', 'de', 'bienestar,', 'será', 'la', 'prioridad,', 'el', 'principio', 'elemental', 'de', 'mi', 'política', 'social.', 'He', 'dado', 'instrucciones', 'a', 'la', 'Secretaría', 'de', 'Desarrollo', 'Social,', 'para', 'que', 'ponga', 'en', 'marcha', 'en', 'los', 'próximos', '60', 'días,', 'la', 'Cruzada', 'Nacional', 'Contra', 'el', 'Hambre.', 'Convoco', 'a', 'la', 'sociedad', 'civil', 'organizada,', 'a', 'empresarios,', 'a', 'los', 'medios', 'de', 'comunicación,', 'a', 'las', 'agrupaciones', 'religiosas,', 'a', 'Gobernadores,', 'Jefe', 'de', 'Gobierno,', 'Presidentes', 'Municipales', 'y', 'a', 'todos', 'los', 'integrantes', 'del', 'Congreso', 'de', 'la', 'Unión;', 'a', 'los', 'jóvenes', 'y', 'a', 'todo', 'mexicano', 'que', 'quiera', 'aportar', 'tiempo', 'y', 'recursos', 'para', 'sumarse', 'a', 'esta', 'gran', 'causa,', 'que', 'es', 'por', 'todos', 'los', 'que', 'tienen', 'hambre', 'en', 'nuestro', 'país.', 'Quinta', 'decisión.', 'Las', 'mujeres', 'jefas', 'de', 'familia', 'son', 'verdaderas', 'luchadoras.', 'En', 'muchos', 'casos,', 'son', 'padre', 'y', 'madre', 'a', 'la', 'vez.', 'Todos', 'los', 'días', 'trabajan', 'desde', 'muy', 'temprano', 'para', 'llevar', 'el', 'sustento', 'a', 'sus', 'hijos.', 'El', 'Estado', 'tiene', 'la', 'obligación', 'moral', 'de', 'respaldarlas.', 'He', 'instruido', 'a', 'las', 'Secretarías', 'de', 'Desarrollo', 'Social', 'y', 'de', 'Hacienda', 'para', 'crear', 'el', 'Programa', 'de', 'Seguro', 'de', 'Vida', 'para', 'Jefas', 'de', 'Familia,', 'e', 'incluirlo', 'en', 'el', 'Proyecto', 'de', 'Presupuesto', 'de', 'Egresos', 'del', '2013.', 'De', 'ser', 'aprobado', 'por', 'la', 'Cámara', 'de', 'Diputados,', 'iniciará', 'operaciones', 'en', 'enero', 'próximo.', 'Con', 'este', 'programa,', 'las', 'jefas', 'de', 'familia', 'tendrán', 'la', 'tranquilidad', 'de', 'que,', 'en', 'caso', 'de', 'llegar', 'a', 'faltar,', 'el', 'Estado', 'apoyará', 'económicamente', 'a', 'sus', 'hijos', 'hasta', 'que', 'terminen', 'la', 'universidad.', 'Sexta', 'decisión.', 'México', 'es', 'un', 'país', 'en', 'deuda', 'con', 'sus', 'adultos', 'mayores.', 'Lo', 'que', 'somos', 'como', 'Nación,', 'se', 'lo', 'debemos', 'a', 'las', 'generaciones', 'que', 'nos', 'antecedieron.', 'Es', 'tiempo', 'de', 'reconocer', 'esa', 'contribución.', 'He', 'dado', 'instrucciones', 'a', 'la', 'Secretaría', 'de', 'Desarrollo', 'Social', 'y', 'de', 'Hacienda', 'para', 'incluir', 'una', 'partida', 'presupuestal', 'para', 'el', 'Ejercicio', 'Fiscal', '2013', 'que', 'modifique', 'y', 'amplíe', 'el', 'Programa', '70', 'y', 'Más,', 'a', 'fin', 'de', 'que', 'todos', 'los', 'mexicanos', 'mayores', 'de', '65', 'años', 'reciban', 'una', 'pensión.', 'De', 'contar', 'con', 'el', 'respaldo', 'de', 'los', 'Legisladores,', 'se', 'daría', 'el', 'primer', 'paso', 'en', 'la', 'creación', 'del', 'Sistema', 'de', 'Seguridad', 'Social', 'Universal', 'que', 'he', 'comprometido', 'con', 'todos', 'los', 'mexicanos.', 'Séptima', 'decisión.', 'Ha', 'llegado', 'el', 'momento', 'de', 'la', 'Reforma', 'Educativa.', 'Una', 'nación', 'basa', 'su', 'desarrollo', 'en', 'la', 'educación.', 'El', 'capital', 'humano', 'es', 'la', 'base', 'del', 'desarrollo', 'y', 'progreso', 'de', 'un', 'país;', 'ésta', 'es', 'la', 'razón', 'por', 'la', 'que', 'corresponde', 'al', 'Estado', 'la', 'rectoría', 'de', 'la', 'política', 'educativa.', 'Atendiendo', 'a', 'esta', 'responsabilidad,', 'en', 'los', 'siguientes', 'días,', 'enviaré', 'al', 'Congreso', 'de', 'la', 'Unión', 'la', 'iniciativa', 'para', 'reformar', 'el', 'Artículo', 'Tercero', 'Constitucional', 'y,', 'en', 'su', 'momento,', 'la', 'subsecuente', 'Reforma', 'a', 'la', 'Ley', 'General', 'de', 'Educación.', 'Con', 'esta', 'reforma', 'educativa,', 'se', 'establecen', 'las', 'bases', 'para', 'el', 'Servicio', 'Profesional', 'de', 'Carrera', 'Docente.', 'Habrá', 'reglas', 'claras', 'y', 'precisas,', 'para', 'que', 'todo', 'aquel', 'que', 'aspira', 'a', 'ingresar,', 'permanecer', 'y', 'ascender', 'como', 'maestro,', 'director', 'o', 'supervisor,', 'lo', 'haga', 'con', 'base', 'en', 'su', 'trabajo', 'y', 'sus', 'méritos,', 'garantizándoles', 'plena', 'estabilidad', 'laboral.', 'De', 'aprobarse', 'la', 'reforma', 'por', 'el', 'Constituyente', 'Permanente,', 'dejará', 'de', 'haber', 'plazas', 'vitalicias', 'y', 'hereditarias', 'en', 'el', 'Sistema', 'Educativo', 'Nacional.', 'Esta', 'reforma,', 'también', 'incluye', 'la', 'creación', 'del', 'Sistema', 'Nacional', 'de', 'Evaluación', 'Educativa,', 'que', 'identificará,', 'de', 'manera', 'objetiva', 'e', 'imparcial,', 'las', 'necesidades', 'de', 'mejora', 'de', 'maestros,', 'directores,', 'supervisores,', 'escuelas', 'y', 'autoridades.', 'Adicionalmente', 'a', 'la', 'reforma,', 'he', 'instruido', 'al', 'Secretario', 'de', 'Educación', 'Pública', 'solicitar', 'al', 'INEGI', 'la', 'realización', 'de', 'un', 'censo', 'de', 'escuelas,', 'maestros', 'y', 'alumnos.', 'Esta', 'información,', 'que', 'hoy', 'no', 'se', 'tiene,', 'será', 'la', 'base', 'de', 'datos', 'necesaria', 'para', 'lograr', 'una', 'operación', 'más', 'eficiente', 'y', 'transparente', 'del', 'sistema', 'educativo', 'de', 'nuestro', 'país.', 'Octava', 'decisión.', 'La', 'desigualdad', 'en', 'México', 'no', 'sólo', 'afecta', 'a', 'las', 'personas,', 'también', 'a', 'los', 'estados.', 'Hay', 'regiones', 'desarrolladas', 'y', 'otras', 'que', 'padecen', 'aún', 'rezagos', 'importantes.', 'Para', 'cerrar', 'esta', 'brecha', 'e', 'impulsar', 'el', 'crecimiento', 'económico', 'y', 'la', 'competitividad,', 'vamos', 'a', 'dar', 'un', 'impulso', 'decisivo', 'a', 'la', 'infraestructura.', 'He', 'instruido', 'al', 'Secretario', 'de', 'Comunicaciones', 'y', 'Transportes', 'a', 'acelerar', 'la', 'propuesta', 'del', 'Programa', 'Nacional', 'de', 'Infraestructura', 'y', 'Transporte', '2012-2018.', 'Este', 'programa', 'incluirá', 'los', 'proyectos', 'que', 'comprometí', 'a', 'los', 'mexicanos', 'para', 'incrementar', 'la', 'infraestructura', 'carretera,', 'ferroviaria', 'y', 'de', 'puertos', 'del', 'país.', 'Asimismo,', 'contemplará', 'obras', 'de', 'infraestructura', 'para', 'conectar', 'e', 'incorporar', 'el', 'Sur', 'de', 'México', 'a', 'la', 'economía', 'global.', 'Novena', 'decisión.', 'En', 'la', 'historia', 'de', 'México,', 'el', 'tren', 'de', 'pasajeros', 'fue', 'un', 'símbolo', 'de', 'modernidad.', 'Sin', 'embargo,', 'en', 'los', 'últimos', 'años,', 'prácticamente', 'desapareció', 'de', 'nuestro', 'país.', 'En', 'México', 'volveremos', 'a', 'tener', 'trenes', 'de', 'pasajeros', 'para', 'conectar', 'nuestras', 'ciudades.', 'He', 'ordenado', 'al', 'Secretario', 'de', 'Comunicaciones', 'y', 'Transportes', 'arrancar', 'en', 'el', '2013', 'la', 'construcción', 'del', 'tren', 'México-Querétaro.', 'Asimismo,', 'se', 'impulsarán', 'los', 'proyectos', 'de', 'construcción', 'del', 'tren', 'México-Toluca,', 'el', 'tren', 'Transpeninsular', 'Yucatán-Quintana', 'Roo.', 'Para', 'mejorar,', 'de', 'igual', 'forma,', 'las', 'condiciones', 'de', 'tránsito', 'en', 'las', 'grandes', 'ciudades,', 'se', 'iniciarán', 'las', 'obras', 'de', 'la', 'Línea', '3', 'del', 'Metro', 'de', 'Monterrey,', 'el', 'transporte', 'masivo', 'de', 'Chalco', 'a', 'La', 'Paz,', 'en', 'el', 'Estado', 'de', 'México,', 'y', 'se', 'ampliará', 'el', 'tren', 'eléctrico', 'de', 'la', 'Zona', 'Metropolitana', 'de', 'Guadalajara.', 'México', 'necesita', 'resolver', 'de', 'manera', 'integral', 'sus', 'problemas', 'de', 'transporte,', 'contar', 'con', 'trenes', 'modernos,', 'será', 'el', 'inicio', 'de', 'un', 'nuevo', 'capítulo', 'en', 'la', 'historia', 'de', 'las', 'comunicaciones', 'de', 'nuestro', 'país.', 'Décima', 'decisión.', 'Es', 'fundamental', 'generar', 'mayor', 'competencia', 'económica,', 'particularmente,', 'en', 'el', 'sector', 'de', 'las', 'telecomunicaciones.', 'El', 'objetivo', 'es', 'que', 'todos', 'los', 'mexicanos', 'tengamos', 'acceso', 'a', 'productos', 'y', 'servicios', 'de', 'mayor', 'calidad', 'y', 'a', 'mejores', 'precios.', 'Por', 'ello,', 'en', 'los', 'próximos', 'días', 'enviaré', 'una', 'iniciativa', 'para', 'reconocer', 'en', 'la', 'Constitución,', 'el', 'derecho', 'de', 'acceso', 'a', 'la', 'Banda', 'Ancha', 'y', 'un', 'conjunto', 'de', 'reformas', 'para', 'generar', 'mayor', 'competencia', 'en', 'telefonía,', 'servicios', 'de', 'datos,', 'televisión', 'y', 'radio.', 'Y', 'en', 'alcance', 'a', 'este', 'objetivo,', 'el', 'Gobierno', 'de', 'la', 'República', 'licitará', 'dos', 'nuevas', 'cadenas', 'de', 'televisión', 'abierta', 'en', 'los', 'siguientes', 'meses.', 'Décima', 'primera', 'decisión.', 'La', 'deuda', 'de', 'algunos', 'estados', 'y', 'municipios', 'ha', 'llegado', 'a', 'niveles', 'inaceptables,', 'lo', 'que', 'pone', 'en', 'riesgo', 'a', 'las', 'finanzas', 'públicas', 'de', 'las', 'presentes', 'y', 'futuras', 'generaciones.', 'Con', 'el', 'objeto', 'de', 'encontrar', 'una', 'solución', 'inmediata', 'para', 'revertir', 'esta', 'tendencia,', 'en', 'los', 'siguientes', 'días', 'enviaré', 'al', 'Honorable', 'Congreso', 'de', 'la', 'Unión', 'un', 'proyecto', 'de', 'Ley', 'Nacional', 'de', 'Responsabilidad', 'Hacendaria', 'y', 'Deuda', 'Pública.', 'Esta', 'ley', 'pondrá', 'orden', 'al', 'endeudamiento', 'de', 'los', 'gobiernos', 'locales.', 'Décima', 'segunda', 'decisión.', 'Hoy,', 'México', 'es', 'un', 'país', 'reconocido', 'por', 'su', 'estabilidad', 'macroeconómica.', 'En', 'mi', 'Gobierno', 'el', 'manejo', 'responsable', 'de', 'las', 'finanzas', 'públicas', 'será', 'la', 'base', 'para', 'lograr', 'un', 'mayor', 'crecimiento', 'económico', 'sostenido,', 'y', 'promover', 'la', 'generación', 'de', 'empleos.', 'Por', 'ello,', 'en', 'los', 'próximos', 'días', 'pondré', 'a', 'consideración', 'del', 'Congreso', 'de', 'la', 'Unión', 'el', 'Paquete', 'Económico', '2013,', 'con', 'un', 'cero', 'déficit', 'presupuestal.', 'La', 'solidez', 'de', 'las', 'finanzas', 'públicas', 'seguirá', 'siendo', 'pilar', 'en', 'la', 'conducción', 'de', 'la', 'economía', 'nacional.', 'Décima', 'tercera', 'decisión.', 'Los', 'gobiernos', 'tienen', 'la', 'responsabilidad', 'moral', 'de', 'ser', 'medidos', 'y', 'austeros', 'en', 'sus', 'gastos.', 'El', 'Gobierno', 'que', 'hoy', 'inicia,', 'tiene', 'el', 'compromiso', 'de', 'racionar', 'el', 'gasto', 'corriente', 'y', 'destinar', 'mayores', 'recursos', 'al', 'gasto', 'de', 'inversión', 'en', 'obras,', 'programas', 'y', 'acciones', 'de', 'beneficio', 'directo', 'a', 'la', 'población.', 'En', 'este', 'marco,', 'junto', 'a', 'la', 'propuesta', 'de', 'Paquete', 'Económico', '2013,', 'expediré', 'un', 'decreto', 'que', 'establezca', 'medidas', 'de', 'austeridad', 'y', 'disciplina', 'presupuestal', 'en', 'el', 'ejercicio', 'del', 'gasto', 'público.', 'Un', 'Gobierno', 'eficaz', 'debe', 'ser', 'capaz', 'de', 'hacer', 'más', 'con', 'menos.', 'Con', 'estas', 'primeras', 'decisiones,', 'el', 'Ejecutivo', 'Federal', 'ratifica', 'la', 'soberanía', 'plena', 'del', 'poder', 'constitucional', 'y', 'democrático,', 'bajo', 'el', 'imperio', 'de', 'la', 'ley.', 'Son', 'decisiones', 'que,', 'además,', 'fortalecen', 'a', 'la', 'sociedad', 'y', 'a', 'nuestra', 'economía,', 'en', 'favor', 'de', 'los', 'derechos', 'de', 'todos', 'los', 'mexicanos.', 'Con', 'estas', 'decisiones', 'presidenciales', 'iniciamos', 'el', 'camino.', 'Vendrán,', 'por', 'supuesto,', 'más', 'decisiones.', 'Y', 'reitero', 'mi', 'compromiso', 'de', 'lograr', 'consensos', 'para', 'impulsar,', 'en', 'su', 'momento,', 'una', 'reforma', 'energética,', 'una', 'reforma', 'hacendaria', 'y', 'una', 'reforma', 'a', 'nuestro', 'régimen', 'de', 'seguridad', 'social.', 'Vamos', 'hacia', 'adelante.', 'Es', 'tiempo', 'de', 'romper,', 'juntos,', 'los', 'mitos', 'y', 'paradigmas,', 'y', 'todo', 'aquello', 'que', 'ha', 'limitado', 'nuestro', 'desarrollo.', 'La', 'transformación', 'nacional', 'demanda', 'la', 'actuación', 'responsable', 'y', 'decidida', 'del', 'Presidente', 'de', 'la', 'República,', 'pero', 'requiere,', 'también,', 'de', 'la', 'energía', 'creadora', 'de', 'todos', 'los', 'mexicanos.', 'Señoras', 'y', 'señores:', 'Estamos', 'a', 'las', 'puertas', 'de', 'una', 'nueva', 'etapa', 'de', 'nuestra', 'historia.', 'Nuestro', 'país', 'ha', 'sido', 'escenario', 'de', 'grandes', 'movimientos', 'que', 'dejaron', 'huella,', 'reformistas', 'unos,', 'revolucionarios', 'otros;', 'estos', 'movimientos', 'han', 'sacudido', 'la', 'conciencia', 'nacional,', 'para', 'cambiar', 'lo', 'que', 'no', 'puede', 'ni', 'debe', 'permanecer.', 'En', 'el', 'México', 'de', 'hoy,', 'lo', 'que', 'no', 'puede', 'ni', 'debe', 'permanecer', 'es', 'la', 'situación', 'de', 'pobreza', 'y', 'hambre', 'en', 'que', 'se', 'encuentra', 'un', 'amplio', 'sector', 'de', 'nuestra', 'población.', 'Al', 'margen', 'de', 'nuestras', 'legítimas,', 'naturales', 'y', 'sanas', 'diferencias,', 'si', 'todos', 'aportamos', 'nuestro', 'trabajo', 'y', 'empeño,', 'los', 'mexicanos', 'podemos', 'construir', 'un', 'país', 'plenamente', 'desarrollado.', 'Ahora,', 'es', 'tiempo', 'de', 'construir', 'y', 'de', 'ganar', 'el', 'futuro.', 'Hagamos', 'de', 'México', 'un', 'país', 'no', 'sólo', 'orgulloso', 'de', 'su', 'pasado,', 'sino', 'un', 'país', 'empeñado', 'en', 'mejorar', 'su', 'presente', 'y', 'conquistar', 'su', 'futuro.', 'Un', 'país', 'arrojado', 'y', 'audaz,', 'preparado', 'para', 'competir', 'y', 'triunfar,', 'para', 'que', 'esa', 'sea', 'su', 'imagen', 'ante', 'el', 'mundo', 'entero.', 'Un', 'México,', 'como', 'lo', 'he', 'señalado', 'y', 'expresado', 'en', 'reiteradas', 'ocasiones,', 'un', 'México', 'donde', 'cada', 'quien', 'pueda', 'escribir', 'su', 'propia', 'historia', 'de', 'éxito', 'y', 'sea', 'feliz.', 'Un', 'México', 'así,', 'es', 'alcanzable,', 'porque', 'depende', 'de', 'nosotros,', 'de', 'cada', 'uno', 'y', 'de', 'todos.', 'En', 'la', 'vida', 'de', 'un', 'país,', 'seis', 'años', 'son', 'un', 'periodo', 'corto,', 'pero', 'dos', 'mil', '191', 'días', 'son', 'suficientes', 'para', 'sentar', 'las', 'bases', 'de', 'lo', 'que', 'desde', 'ahora', 'debe', 'ser', 'nuestra', 'meta:', 'Hacer', 'de', 'México', 'un', 'país', 'próspero,', 'de', 'oportunidades', 'y', 'de', 'bienestar', 'para', 'todos.', 'Las', 'naciones', 'desarrolladas,', 'en', 'algún', 'momento', 'de', 'su', 'historia,', 'decidieron', 'dar', 'un', 'gran', 'paso.', 'Hoy,', 'toca', 'a', 'los', 'mexicanos', 'dar', 'ese', 'gran', 'paso.', 'Todo', 'cambio', 'profundo', 'es', 'resultado', 'de', 'creer,', 'de', 'creer', 'en', 'lo', 'que', 'hacemos,', 'de', 'creer', 'en', 'lo', 'que', 'somos,', 'de', 'creer', 'en', 'nosotros', 'mismos,', 'de', 'tener', 'confianza', 'en', 'lo', 'que', 'podemos,', 'en', 'lo', 'que', 'somos', 'y', 'podemos', 'ser.', 'Por', 'eso,', 'convoco', 'hoy', 'a', 'todos', 'los', 'mexicanos,', 'a', 'las', 'mujeres', 'y', 'a', 'los', 'hombres,', 'de', 'todas', 'las', 'regiones', 'y', 'de', 'todas', 'las', 'edades,', 'de', 'todos', 'los', 'orígenes,', 'a', 'ser', 'parte', 'de', 'esta', 'gran', 'trasformación.', 'Transformar', 'a', 'México', 'significa', 'vencer', 'los', 'rezagos.', 'Transformar', 'a', 'México', 'implica', 'mover', 'todo', 'lo', 'que', 'se', 'tenga', 'que', 'mover:', 'la', 'gente,', 'la', 'mentalidad,', 'las', 'instituciones.', 'Hay', 'que', 'transformar', 'a', 'México,', 'para', 'que', 'cuando', 'nuestros', 'hijos', 'crezcan,', 'disfruten', 'de', 'un', 'país', 'más', 'grande', 'y', 'mejor', 'del', 'que', 'hoy', 'tenemos.', 'Seamos,', 'todos,', 'parte', 'del', 'México', 'que', 'no', 'le', 'tiene', 'miedo', 'a', 'la', 'transformación,', 'del', 'México', 'dispuesto', 'a', 'trascender', 'y', 'a', 'dejar', 'huella.', 'Nuestro', 'país,', 'nuestra', 'Nación,', 'necesita', 'de', 'todos.', 'El', 'país', 'se', 'construye', 'todos', 'los', 'días.', 'En', 'cada', 'instante,', 'en', 'cada', 'lugar,', 'se', 'va', 'haciendo', 'y', 'construyendo', 'México.', 'Trabajemos', 'con', 'determinación,', 'con', 'audacia', 'y', 'con', 'pasión.', 'Con', 'la', 'mirada', 'puesta', 'en', 'el', 'futuro.', 'Es', 'tiempo', 'de', 'mover', 'a', 'México.', 'Seamos', 'parte', 'de', 'la', 'generación', 'que', 'logre', 'la', 'transformación', 'nacional.', 'Vienen,', 'de', 'eso', 'estoy', 'convencido,', 'mejores', 'tiempos', 'para', 'todos', 'los', 'mexicanos.', 'Porque', 'éste,', 'éste', 'es', 'el', 'momento', 'de', 'México.', 'Muchas', 'gracias.']\n"
     ]
    }
   ],
   "source": [
    "print(palabras)"
   ]
  },
  {
   "cell_type": "code",
   "execution_count": 20,
   "metadata": {},
   "outputs": [],
   "source": [
    "frecuenciaPalab = []\n",
    "for w in palabras:\n",
    "    frecuenciaPalab.append(palabras.count(w))"
   ]
  },
  {
   "cell_type": "code",
   "execution_count": 23,
   "metadata": {},
   "outputs": [
    {
     "name": "stdout",
     "output_type": "stream",
     "text": [
      "Pares\n",
      "[('Señor', 4), ('Diputado', 1), ('Jesús', 1), ('Murillo', 1), ('Karam,', 1), ('Presidente', 13), ('de', 347), ('la', 179), ('Cámara', 3), ('de', 347), ('Diputados.', 1), ('Señor', 4), ('Senador', 1), ('Ernesto', 1), ('Cordero', 1), ('Arroyo,', 1), ('Presidente', 13), ('de', 347), ('la', 179), ('Cámara', 3), ('de', 347), ('Senadores.', 1), ('Señor', 4), ('Ministro', 1), ('Juan', 1), ('Silva', 1), ('Meza,', 1), ('Presidente', 13), ('de', 347), ('la', 179), ('Suprema', 2), ('Corte', 1), ('de', 347), ('Justicia', 1), ('de', 347), ('la', 179), ('Nación.', 2), ('Excelentísimos', 1), ('Jefes', 2), ('de', 347), ('Estado', 10), ('y', 163), ('de', 347), ('Gobierno,', 6), ('así', 3), ('como', 11), ('representantes', 4), ('de', 347), ('naciones', 4), ('amigas.', 1), ('Muchas', 4), ('gracias', 2), ('por', 25), ('estar', 4), ('aquí', 1), ('presentes.', 1), ('Señores', 8), ('Embajadores', 1), ('y', 163), ('honorable', 1), ('Cuerpo', 1), ('Diplomático', 1), ('Acreditado', 1), ('en', 108), ('nuestro', 18), ('país.', 12), ('Muy', 2), ('apreciados', 1), ('señores', 1), ('Gobernadores,', 2), ('Gobernadores', 1), ('electos.', 1), ('Señor', 4), ('Jefe', 2), ('de', 347), ('Gobierno', 21), ('electo', 1), ('del', 41), ('Distrito', 2), ('Federal.', 1), ('Señores', 8), ('Ministros', 2), ('e', 8), ('integrantes', 2), ('del', 41), ('Poder', 3), ('Judicial', 3), ('de', 347), ('la', 179), ('Federación.', 2), ('Distinguidos', 1), ('miembros', 2), ('de', 347), ('las', 55), ('Fuerzas', 3), ('Armadas', 2), ('de', 347), ('nuestro', 18), ('país.', 12), ('Señores', 8), ('titulares', 1), ('de', 347), ('los', 83), ('órganos', 1), ('constitucionales', 1), ('autónomos.', 1), ('Señores', 8), ('dirigentes', 2), ('de', 347), ('los', 83), ('partidos', 3), ('políticos.', 1), ('Agradezco', 1), ('la', 179), ('presencia', 2), ('de', 347), ('Josefina', 1), ('Vázquez', 1), ('Mota,', 1), ('quien', 2), ('participara', 1), ('en', 108), ('el', 117), ('proceso', 1), ('electoral', 1), ('de', 347), ('2012.', 1), ('Muchas', 4), ('gracias,', 1), ('Josefina.', 1), ('Señores', 8), ('representantes', 4), ('de', 347), ('la', 179), ('sociedad', 5), ('civil', 2), ('organizada', 1), ('de', 347), ('nuestro', 18), ('país.', 12), ('Señores', 8), ('rectores', 1), ('de', 347), ('universidades.', 1), ('Señores', 8), ('dirigentes', 2), ('sindicales', 1), ('y', 163), ('líderes', 1), ('empresariales.', 1), ('Representantes', 1), ('de', 347), ('iglesias', 1), ('y', 163), ('agrupaciones', 2), ('religiosas.', 1), ('Líderes', 1), ('campesinos', 1), ('e', 8), ('indígenas.', 1), ('Intelectuales,', 1), ('artistas,', 1), ('académicos', 1), ('y', 163), ('deportistas.', 1), ('Quiero', 2), ('saludar', 1), ('y', 163), ('agradecer', 1), ('la', 179), ('presencia', 2), ('de', 347), ('Angélica,', 1), ('mi', 24), ('esposa,', 1), ('de', 347), ('nuestros', 6), ('hijos,', 2), ('de', 347), ('mi', 24), ('señora', 1), ('madre,', 1), ('de', 347), ('nuestra', 18), ('familia.', 1), ('Muchas', 4), ('gracias', 2), ('por', 25), ('estar', 4), ('presentes', 3), ('y', 163), ('acompañarnos', 1), ('invariablemente', 1), ('en', 108), ('estos', 4), ('actos.', 1), ('Señores', 8), ('representantes', 4), ('de', 347), ('los', 83), ('medios', 4), ('de', 347), ('comunicación.', 1), ('Señoras', 2), ('y', 163), ('señores.', 1), ('Mexicanos:', 1), ('Esta', 5), ('mañana,', 1), ('por', 25), ('mandato', 1), ('ciudadano,', 1), ('rendí', 1), ('protesta', 1), ('como', 11), ('Presidente', 13), ('de', 347), ('los', 83), ('Estados', 1), ('Unidos', 1), ('Mexicanos', 1), ('ante', 2), ('el', 117), ('Honorable', 5), ('Congreso', 8), ('de', 347), ('la', 179), ('Unión,', 2), ('cumpliendo', 1), ('así', 3), ('con', 44), ('los', 83), ('dispuesto', 3), ('en', 108), ('el', 117), ('Artículo', 2), ('87', 1), ('de', 347), ('nuestra', 18), ('Constitución.', 2), ('Desde', 2), ('Palacio', 2), ('Nacional,', 2), ('símbolo', 2), ('de', 347), ('historia', 6), ('y', 163), ('vida', 6), ('republicana,', 1), ('me', 1), ('dirijo', 1), ('por', 25), ('primera', 3), ('vez', 2), ('a', 113), ('los', 83), ('mexicanos', 17), ('como', 11), ('su', 21), ('Presidente.', 2), ('Siento', 1), ('una', 40), ('emoción', 1), ('profunda,', 1), ('en', 108), ('la', 179), ('que', 124), ('se', 29), ('enlaza', 1), ('nuestra', 18), ('historia', 6), ('con', 44), ('la', 179), ('esperanza', 1), ('de', 347), ('un', 66), ('futuro', 1), ('mejor', 3), ('para', 61), ('nuestro', 18), ('gran', 9), ('país.', 12), ('Los', 4), ('mexicanos', 17), ('tenemos', 2), ('un', 66), ('legado', 1), ('prehispánico,', 1), ('colonial,', 1), ('independiente,', 1), ('revolucionario', 1), ('y', 163), ('democrático.', 1), ('El', 13), ('pasado', 3), ('para', 61), ('nosotros', 3), ('es', 34), ('identidad', 1), ('y', 163), ('fuente', 3), ('de', 347), ('inspiración', 1), ('y', 163), ('así', 3), ('lo', 22), ('seguirá', 2), ('siendo', 2), ('en', 108), ('mi', 24), ('Gobierno.', 7), ('Somos', 4), ('herederos', 1), ('de', 347), ('una', 40), ('tradición', 1), ('milenaria,', 1), ('que', 124), ('sobrevive', 1), ('hasta', 3), ('hoy', 7), ('en', 108), ('lenguas', 1), ('y', 163), ('culturas', 1), ('indígenas,', 1), ('que', 124), ('sabré', 1), ('respetar', 1), ('y', 163), ('conservar.', 1), ('Somos', 4), ('la', 179), ('expresión', 1), ('de', 347), ('la', 179), ('gran', 9), ('cultura', 1), ('hispana.', 1), ('Somos', 4), ('hijos,', 2), ('también,', 8), ('de', 347), ('dos', 4), ('poderosas', 1), ('corrientes', 1), ('del', 41), ('Siglo', 6), ('XIX', 1), ('y', 163), ('XX:', 1), ('la', 179), ('liberal', 1), ('y', 163), ('la', 179), ('revolucionaria.', 1), ('Sus', 1), ('valores', 1), ('de', 347), ('independencia,', 1), ('libertad', 4), ('y', 163), ('justicia,', 2), ('renovados', 1), ('para', 61), ('el', 117), ('Siglo', 6), ('XXI,', 1), ('guiarán', 1), ('los', 83), ('actos', 1), ('de', 347), ('mi', 24), ('Gobierno.', 7), ('Pero', 3), ('hay', 7), ('otro', 2), ('pasado', 3), ('que', 124), ('no', 18), ('se', 29), ('remonta', 1), ('a', 113), ('los', 83), ('milenios,', 1), ('ni', 4), ('a', 113), ('los', 83), ('siglos,', 1), ('es', 34), ('el', 117), ('pasado', 3), ('reciente', 2), ('que', 124), ('se', 29), ('mide', 1), ('en', 108), ('décadas,', 1), ('y', 163), ('del', 41), ('cual', 2), ('los', 83), ('mexicanos', 17), ('podemos', 5), ('sentirnos', 1), ('igualmente', 1), ('orgullosos.', 1), ('Me', 1), ('refiero', 1), ('al', 25), ('México', 46), ('que', 124), ('construyó', 1), ('instituciones,', 2), ('para', 61), ('hacer', 4), ('efectivos', 1), ('nuestros', 6), ('derechos.', 2), ('Ejemplo', 1), ('de', 347), ('ello,', 7), ('son', 8), ('nuestras', 6), ('Fuerzas', 3), ('Armadas,', 1), ('institución', 1), ('ejemplar,', 2), ('solidaria,', 1), ('respetada', 1), ('y', 163), ('estimada', 1), ('por', 25), ('todos', 21), ('los', 83), ('mexicanos.', 9), ('Nuestras', 2), ('Fuerzas', 3), ('Armadas', 2), ('siempre', 1), ('han', 6), ('actuado', 1), ('con', 44), ('patriotismo,', 1), ('valor', 1), ('y', 163), ('lealtad', 1), ('al', 25), ('servicio', 2), ('de', 347), ('México.', 9), ('Para', 5), ('ellas,', 1), ('mi', 24), ('especial', 1), ('reconocimiento.', 1), ('Nuestra', 1), ('vocación', 1), ('institucional', 4), ('es', 34), ('un', 66), ('hecho', 1), ('probado', 1), ('por', 25), ('la', 179), ('historia.', 2), ('Muy', 2), ('pocos', 2), ('países,', 1), ('no', 18), ('sólo', 6), ('en', 108), ('América', 1), ('Latina,', 1), ('sino', 3), ('en', 108), ('todo', 6), ('el', 117), ('mundo,', 3), ('han', 6), ('tenido', 1), ('la', 179), ('continuidad', 1), ('del', 41), ('nuestro,', 1), ('que', 124), ('cada', 10), ('seis', 3), ('años,', 3), ('desde', 6), ('1934,', 1), ('ha', 12), ('atestiguado', 1), ('la', 179), ('Toma', 1), ('de', 347), ('Protesta', 1), ('de', 347), ('un', 66), ('nuevo', 5), ('Presidente.', 2), ('En', 20), ('el', 117), ('transcurso', 1), ('de', 347), ('estos', 4), ('años,', 3), ('el', 117), ('país', 21), ('ha', 12), ('mantenido', 1), ('el', 117), ('orden', 4), ('político', 2), ('interno.', 1), ('Los', 4), ('mexicanos', 17), ('hemos', 2), ('logrado,', 1), ('sin', 6), ('caudillismos', 1), ('y', 163), ('sin', 6), ('dictaduras,', 1), ('el', 117), ('propósito', 2), ('inicial', 1), ('de', 347), ('nuestra', 18), ('Revolución.', 1), ('La', 10), ('democracia', 6), ('plena', 3), ('llevó', 1), ('su', 21), ('tiempo.', 1), ('Pero', 3), ('hoy,', 8), ('la', 179), ('democracia', 6), ('ha', 12), ('logrado', 3), ('consolidarse', 1), ('y', 163), ('ser', 11), ('parte', 4), ('de', 347), ('nuestra', 18), ('cultura.', 1), ('Millones', 1), ('de', 347), ('mexicanos,', 3), ('desde', 6), ('1910,', 1), ('de', 347), ('todas', 8), ('las', 55), ('filiaciones,', 1), ('libraron', 1), ('una', 40), ('gran', 9), ('batalla', 1), ('cívica', 1), ('por', 25), ('la', 179), ('democracia', 6), ('en', 108), ('el', 117), ('Siglo', 6), ('XX.', 1), ('Pero', 3), ('fue', 3), ('a', 113), ('partir', 4), ('del', 41), ('movimiento', 1), ('estudiantil', 1), ('del', 41), ('68', 1), ('y', 163), ('de', 347), ('las', 55), ('sucesivas', 2), ('reformas', 3), ('políticas,', 1), ('que', 124), ('se', 29), ('aceleró', 1), ('nuestra', 18), ('democracia.', 1), ('A', 5), ('partir', 4), ('de', 347), ('entonces,', 1), ('generaciones', 2), ('de', 347), ('mujeres', 3), ('y', 163), ('hombres,', 2), ('pensadores,', 1), ('políticos,', 1), ('activistas', 1), ('y', 163), ('ciudadanos,', 1), ('trabajaron', 1), ('para', 61), ('hacerla', 1), ('realidad', 3), ('y,', 3), ('finalmente,', 1), ('la', 179), ('conquistaron.', 1), ('Ese', 3), ('México', 46), ('democrático', 2), ('es', 34), ('el', 117), ('México', 46), ('de', 347), ('nuestros', 6), ('días.', 2), ('En', 20), ('el', 117), ('México', 46), ('de', 347), ('hoy,', 8), ('hay', 7), ('alternancia', 1), ('en', 108), ('todos', 21), ('los', 83), ('órdenes', 3), ('de', 347), ('Gobierno.', 7), ('En', 20), ('el', 117), ('México', 46), ('de', 347), ('hoy,', 8), ('existe', 1), ('una', 40), ('autentica', 1), ('división', 1), ('de', 347), ('Poderes', 1), ('y', 163), ('hay', 7), ('una', 40), ('sana', 1), ('pluralidad', 2), ('de', 347), ('partidos', 3), ('en', 108), ('el', 117), ('Congreso.', 2), ('En', 20), ('el', 117), ('México', 46), ('de', 347), ('hoy,', 8), ('el', 117), ('Federalismo', 1), ('no', 18), ('es', 34), ('un', 66), ('ideal,', 1), ('sino', 3), ('una', 40), ('realidad.', 2), ('En', 20), ('el', 117), ('México', 46), ('de', 347), ('hoy,', 8), ('un', 66), ('instituto', 1), ('ciudadano', 2), ('tiene', 4), ('a', 113), ('su', 21), ('cargo', 2), ('las', 55), ('elecciones.', 1), ('Y', 4), ('en', 108), ('el', 117), ('México', 46), ('de', 347), ('hoy,', 8), ('todas', 8), ('las', 55), ('libertades', 1), ('son', 8), ('reconocidas', 1), ('por', 25), ('el', 117), ('orden', 4), ('constitucional.', 2), ('México', 46), ('vive,', 1), ('en', 108), ('suma,', 1), ('una', 40), ('nueva', 3), ('etapa', 3), ('de', 347), ('su', 21), ('historia:', 1), ('la', 179), ('de', 347), ('una', 40), ('democracia', 6), ('con', 44), ('instituciones', 2), ('sólidas', 1), ('y', 163), ('procesos', 1), ('electorales', 1), ('competidos,', 1), ('plurales', 1), ('y', 163), ('participativos.', 1), ('A', 5), ('estos', 4), ('logros,', 1), ('se', 29), ('agrega', 1), ('la', 179), ('estabilidad', 5), ('macroeconómica', 1), ('de', 347), ('los', 83), ('últimos', 2), ('tres', 1), ('lustros.', 1), ('Tras', 1), ('sucesivas', 2), ('crisis', 1), ('financieras', 1), ('que', 124), ('cimbraron', 1), ('al', 25), ('país,', 3), ('los', 83), ('mexicanos', 17), ('aprendimos', 1), ('duras', 1), ('lecciones', 1), ('y', 163), ('supimos', 1), ('poner', 1), ('orden.', 1), ('De', 6), ('nosotros', 3), ('depende,', 1), ('ahora,', 1), ('aprovechar', 1), ('esta', 12), ('plataforma,', 1), ('para', 61), ('acelerar', 4), ('el', 117), ('crecimiento', 5), ('y', 163), ('lograr', 12), ('el', 117), ('objetivo', 3), ('económico', 4), ('más', 7), ('importante:', 1), ('Mejorar', 1), ('la', 179), ('economía', 4), ('familiar', 1), ('de', 347), ('los', 83), ('mexicanos.', 9), ('Gracias', 1), ('a', 113), ('la', 179), ('solidez', 3), ('de', 347), ('nuestras', 6), ('instituciones,', 2), ('a', 113), ('la', 179), ('realidad', 3), ('irreversible', 1), ('de', 347), ('nuestra', 18), ('democracia', 6), ('y', 163), ('a', 113), ('la', 179), ('solidez', 3), ('de', 347), ('sus', 19), ('finanzas,', 1), ('México', 46), ('ahora', 2), ('está', 6), ('listo', 1), ('para', 61), ('despuntar', 1), ('en', 108), ('el', 117), ('mundo', 6), ('del', 41), ('Siglo', 6), ('XXI.', 3), ('Así,', 1), ('lo', 22), ('reconocen', 1), ('ya,', 1), ('observadores', 1), ('políticos', 3), ('y', 163), ('económicos,', 1), ('nacionales', 2), ('y', 163), ('extranjeros.', 1), ('Todos', 3), ('coinciden', 1), ('en', 108), ('que', 124), ('tenemos', 2), ('una', 40), ('oportunidad', 3), ('histórica', 1), ('para', 61), ('proyectar', 1), ('a', 113), ('México,', 6), ('hasta', 3), ('convertirlo', 1), ('en', 108), ('una', 40), ('potencia,', 1), ('como', 11), ('lo', 22), ('merece', 1), ('ser.', 2), ('Igual', 1), ('que', 124), ('en', 108), ('la', 179), ('vida', 6), ('de', 347), ('las', 55), ('personas,', 2), ('las', 55), ('familias', 3), ('o', 5), ('las', 55), ('comunidades,', 1), ('en', 108), ('la', 179), ('vida', 6), ('de', 347), ('las', 55), ('naciones', 4), ('se', 29), ('presentan,', 1), ('pocas', 1), ('veces,', 1), ('las', 55), ('oportunidades', 3), ('de', 347), ('cambiar', 3), ('de', 347), ('manera', 5), ('trascendental.', 1), ('Cuando', 1), ('aparecen', 1), ('estas', 3), ('oportunidades', 3), ('lo', 22), ('fundamental', 2), ('es', 34), ('reconocerlas,', 1), ('sobre', 2), ('todo,', 2), ('entenderlas', 1), ('y', 163), ('aprovecharlas.', 1), ('Eso', 1), ('es,', 1), ('precisamente,', 1), ('lo', 22), ('que', 124), ('hoy', 7), ('propongo', 2), ('a', 113), ('la', 179), ('Nación.', 2), ('Aprovechar', 1), ('esta', 12), ('magnífica', 1), ('oportunidad', 3), ('para', 61), ('llevar', 3), ('a', 113), ('México', 46), ('al', 25), ('lugar', 1), ('que', 124), ('se', 29), ('merece.', 2), ('Mi', 3), ('compromiso', 5), ('es', 34), ('conducir', 1), ('este', 10), ('esfuerzo', 3), ('colectivo', 1), ('ejerciendo', 1), ('cabalmente', 1), ('las', 55), ('atribuciones', 1), ('de', 347), ('mi', 24), ('cargo', 2), ('en', 108), ('el', 117), ('estricto', 1), ('marco', 1), ('de', 347), ('la', 179), ('ley.', 3), ('A', 5), ('partir', 4), ('de', 347), ('hoy,', 8), ('la', 179), ('primera', 3), ('obligación', 3), ('que', 124), ('tengo', 1), ('como', 11), ('Presidente', 13), ('de', 347), ('la', 179), ('República,', 2), ('es', 34), ('cumplir', 3), ('y', 163), ('hacer', 4), ('cumplir', 3), ('la', 179), ('ley.', 3), ('Como', 4), ('Presidente', 13), ('democrático,', 4), ('respetaré', 1), ('a', 113), ('todas', 8), ('y', 163), ('a', 113), ('cada', 10), ('una', 40), ('de', 347), ('las', 55), ('voces', 1), ('de', 347), ('la', 179), ('sociedad.', 1), ('Voy', 1), ('a', 113), ('ejercer', 1), ('un', 66), ('Gobierno', 21), ('abierto,', 1), ('que', 124), ('hable', 1), ('con', 44), ('verdad,', 1), ('que', 124), ('pida', 1), ('opinión,', 1), ('que', 124), ('escuche', 1), ('a', 113), ('la', 179), ('ciudadanía', 1), ('y', 163), ('tome', 1), ('las', 55), ('mejores', 5), ('decisiones.', 2), ('Quiero', 2), ('que', 124), ('las', 55), ('buenas', 1), ('propuestas', 1), ('guíen', 1), ('a', 113), ('este', 10), ('Gobierno.', 7), ('Será', 1), ('un', 66), ('Gobierno', 21), ('facilitador,', 1), ('un', 66), ('ejecutor', 1), ('de', 347), ('las', 55), ('mejores', 5), ('ideas', 1), ('de', 347), ('los', 83), ('mexicanos.', 9), ('Será,', 2), ('también,', 8), ('un', 66), ('Gobierno', 21), ('responsable,', 1), ('que', 124), ('trabajará', 1), ('fuerte', 1), ('desde', 6), ('el', 117), ('primer', 3), ('día,', 3), ('para', 61), ('cumplir', 3), ('uno', 3), ('a', 113), ('uno', 3), ('todos', 21), ('sus', 19), ('compromisos.', 1), ('Seré', 1), ('un', 66), ('Presidente', 13), ('cercano', 1), ('a', 113), ('la', 179), ('gente,', 2), ('recorreré', 1), ('todo', 6), ('el', 117), ('país', 21), ('acompañado', 1), ('de', 347), ('miembros', 2), ('de', 347), ('mi', 24), ('Gabinete,', 1), ('para', 61), ('que', 124), ('ahí,', 2), ('en', 108), ('cada', 10), ('región,', 1), ('en', 108), ('cada', 10), ('entidad,', 1), ('en', 108), ('cada', 10), ('comunidad,', 1), ('se', 29), ('atiendan', 1), ('y', 163), ('resuelvan', 1), ('sus', 19), ('problemas', 2), ('fundamentales.', 1), ('La', 10), ('cercanía', 1), ('de', 347), ('mi', 24), ('Gobierno', 21), ('se', 29), ('reflejará,', 1), ('también,', 8), ('en', 108), ('una', 40), ('estrecha', 1), ('relación', 1), ('con', 44), ('las', 55), ('organizaciones', 1), ('de', 347), ('la', 179), ('sociedad', 5), ('civil,', 1), ('con', 44), ('los', 83), ('medios', 4), ('de', 347), ('comunicación,', 2), ('con', 44), ('los', 83), ('creadores', 1), ('y', 163), ('científicos.', 1), ('Todos', 3), ('tendrán', 2), ('pleno', 2), ('respeto', 3), ('y', 163), ('respaldo', 3), ('para', 61), ('llevar', 3), ('a', 113), ('cabo', 1), ('sus', 19), ('actividades', 1), ('y', 163), ('contribuir', 1), ('positivamente', 1), ('al', 25), ('desarrollo', 5), ('nacional.', 6), ('Como', 4), ('Presidente', 13), ('democrático,', 4), ('trabajaré', 1), ('en', 108), ('coordinación', 2), ('y', 163), ('corresponsabilidad', 1), ('con', 44), ('los', 83), ('otros', 1), ('órdenes', 3), ('de', 347), ('Gobierno.', 7), ('Desde', 2), ('el', 117), ('Gobierno', 21), ('de', 347), ('la', 179), ('República', 6), ('colaboraré', 1), ('con', 44), ('las', 55), ('autoridades', 1), ('de', 347), ('los', 83), ('estados,', 1), ('del', 41), ('Distrito', 2), ('Federal', 2), ('y', 163), ('de', 347), ('los', 83), ('municipios.', 1), ('El', 13), ('horizonte', 1), ('promisorio', 1), ('de', 347), ('la', 179), ('República', 6), ('está', 6), ('en', 108), ('el', 117), ('esfuerzo', 3), ('compartido', 1), ('de', 347), ('todas', 8), ('sus', 19), ('partes.', 1), ('Como', 4), ('Presidente', 13), ('democrático,', 4), ('acataré', 1), ('el', 117), ('principio', 2), ('de', 347), ('División', 1), ('de', 347), ('Poderes,', 1), ('alentando,', 1), ('siempre,', 1), ('la', 179), ('comunicación', 1), ('y', 163), ('el', 117), ('diálogo', 2), ('institucional', 4), ('consciente', 1), ('de', 347), ('que', 124), ('Legislativo,', 1), ('Ejecutivo', 2), ('y', 163), ('Judicial', 3), ('integramos', 1), ('el', 117), ('supremo', 1), ('poder', 2), ('de', 347), ('la', 179), ('Federación.', 2), ('En', 20), ('este', 10), ('marco,', 3), ('expreso', 2), ('mi', 24), ('respeto', 3), ('y', 163), ('respaldo', 3), ('al', 25), ('Poder', 3), ('Judicial', 3), ('de', 347), ('la', 179), ('Federación,', 1), ('fuente', 3), ('de', 347), ('certeza', 1), ('jurídica', 1), ('que', 124), ('da', 2), ('soporte', 1), ('y', 163), ('vigencia', 1), ('a', 113), ('nuestro', 18), ('régimen', 2), ('constitucional.', 2), ('Invito', 1), ('a', 113), ('su', 21), ('Presidente,', 1), ('a', 113), ('los', 83), ('Ministros', 2), ('y', 163), ('a', 113), ('todos', 21), ('quienes', 2), ('conforman', 1), ('este', 10), ('poder,', 1), ('a', 113), ('profundizar', 1), ('la', 179), ('colaboración', 2), ('institucional', 4), ('y', 163), ('consolidar', 1), ('el', 117), ('Estado', 10), ('democrático', 2), ('de', 347), ('derecho.', 2), ('Expreso,', 1), ('igualmente,', 1), ('mi', 24), ('reconocimiento', 1), ('y', 163), ('consideración', 3), ('a', 113), ('las', 55), ('Cámaras', 1), ('de', 347), ('Senadores', 1), ('y', 163), ('Diputados', 1), ('que', 124), ('integran', 1), ('el', 117), ('Honorable', 5), ('Congreso', 8), ('de', 347), ('la', 179), ('Unión.', 2), ('Sabré', 1), ('trabajar', 2), ('con', 44), ('los', 83), ('Legisladores,', 2), ('aprovechando', 1), ('la', 179), ('pluralidad', 2), ('que', 124), ('los', 83), ('distingue', 1), ('para', 61), ('emprender,', 1), ('juntos,', 2), ('una', 40), ('nueva', 3), ('etapa', 3), ('de', 347), ('acuerdos', 1), ('en', 108), ('favor', 2), ('de', 347), ('México.', 9), ('Mi', 3), ('Gobierno', 21), ('alentará', 1), ('la', 179), ('unidad', 1), ('dentro', 1), ('de', 347), ('la', 179), ('pluralidad.', 1), ('Celebro', 1), ('el', 117), ('ánimo', 1), ('que', 124), ('prevalece', 1), ('en', 108), ('los', 83), ('actores', 1), ('políticos', 3), ('para', 61), ('concretar', 1), ('reformas', 3), ('que', 124), ('sirven', 1), ('a', 113), ('México.', 9), ('Muestra', 1), ('de', 347), ('ello,', 7), ('es', 34), ('la', 179), ('reciente', 2), ('aprobación', 1), ('a', 113), ('la', 179), ('Reforma', 3), ('Laboral', 1), ('y', 163), ('a', 113), ('la', 179), ('Ley', 4), ('de', 347), ('Contabilidad', 1), ('Gubernamental.', 1), ('En', 20), ('este', 10), ('marco,', 3), ('reconozco,', 1), ('también,', 8), ('la', 179), ('colaboración', 2), ('del', 41), ('Presidente', 13), ('Felipe', 1), ('Calderón', 1), ('Hinojosa,', 1), ('cuya', 1), ('disposición', 1), ('institucional', 4), ('permitió', 1), ('una', 40), ('transición', 1), ('ejemplar,', 2), ('transparente,', 1), ('ordenada', 1), ('y', 163), ('apegada', 1), ('a', 113), ('derecho.', 2), ('En', 20), ('esta', 12), ('etapa,', 1), ('quedaron', 1), ('claras', 2), ('no', 18), ('sólo', 6), ('la', 179), ('normalidad', 1), ('democrática', 1), ('y', 163), ('la', 179), ('madurez', 1), ('política', 3), ('que', 124), ('hemos', 2), ('alcanzado,', 1), ('sino,', 1), ('también,', 8), ('la', 179), ('determinación', 1), ('de', 347), ('mi', 24), ('Gobierno', 21), ('por', 25), ('transformar', 2), ('al', 25), ('país', 21), ('sin', 6), ('demoras.', 1), ('Necesitamos', 1), ('transitar', 1), ('hacia', 3), ('una', 40), ('democracia', 6), ('que', 124), ('dé', 1), ('resultados', 1), ('tangibles,', 1), ('y', 163), ('lo', 22), ('necesitamos', 1), ('con', 44), ('urgencia,', 1), ('porque', 3), ('nuestros', 6), ('desafíos', 1), ('son', 8), ('mayores.', 2), ('A', 5), ('pesar', 1), ('de', 347), ('nuestras', 6), ('conquistas', 1), ('en', 108), ('el', 117), ('ámbito', 1), ('de', 347), ('la', 179), ('macroeconomía,', 1), ('de', 347), ('la', 179), ('estabilidad', 5), ('de', 347), ('nuestras', 6), ('instituciones', 2), ('y', 163), ('del', 41), ('vigor', 1), ('de', 347), ('nuestra', 18), ('democracia,', 2), ('México', 46), ('no', 18), ('ha', 12), ('logrado', 3), ('los', 83), ('avances', 2), ('que', 124), ('su', 21), ('población', 1), ('demanda', 2), ('y', 163), ('merece.', 2), ('El', 13), ('Estado', 10), ('ha', 12), ('cedido', 1), ('importantes', 1), ('espacios.', 1), ('La', 10), ('inseguridad', 1), ('y', 163), ('la', 179), ('violencia', 1), ('han', 6), ('robado', 1), ('la', 179), ('paz', 1), ('y', 163), ('libertad', 4), ('de', 347), ('diversas', 1), ('comunidades', 1), ('del', 41), ('territorio', 1), ('nacional.', 6), ('Hoy,', 5), ('somos', 3), ('un', 66), ('país', 21), ('donde', 2), ('pocos', 2), ('lo', 22), ('tienen', 4), ('todo,', 2), ('y', 163), ('la', 179), ('mayoría', 1), ('carece', 1), ('de', 347), ('condiciones', 2), ('para', 61), ('el', 117), ('goce', 1), ('efectivo', 1), ('de', 347), ('sus', 19), ('derechos.', 2), ('Somos', 4), ('una', 40), ('Nación', 1), ('que', 124), ('crece', 1), ('en', 108), ('dos', 4), ('velocidades.', 1), ('Hay', 4), ('un', 66), ('México', 46), ('de', 347), ('progreso', 2), ('y', 163), ('desarrollo,', 1), ('pero', 5), ('hay', 7), ('otro,', 1), ('también,', 8), ('que', 124), ('vive', 1), ('en', 108), ('el', 117), ('atraso', 1), ('y', 163), ('la', 179), ('pobreza.', 1), ('México,', 6), ('México', 46), ('es', 34), ('un', 66), ('país', 21), ('joven', 1), ('y', 163), ('de', 347), ('jóvenes,', 1), ('quienes', 2), ('muchas', 2), ('veces', 1), ('ven', 1), ('frustradas', 1), ('sus', 19), ('aspiraciones', 1), ('por', 25), ('no', 18), ('tener', 4), ('medios', 4), ('para', 61), ('prepararse,', 1), ('por', 25), ('tener,', 1), ('o', 5), ('por', 25), ('no', 18), ('tener', 4), ('una', 40), ('educación', 2), ('de', 347), ('calidad.', 1), ('Hay', 4), ('un', 66), ('gran', 9), ('número', 1), ('de', 347), ('mexicanos', 17), ('que', 124), ('viven', 1), ('al', 25), ('día,', 3), ('preocupados', 1), ('por', 25), ('la', 179), ('falta', 1), ('de', 347), ('empleo', 1), ('y', 163), ('oportunidades,', 1), ('porque', 3), ('el', 117), ('país', 21), ('no', 18), ('ha', 12), ('crecido', 1), ('lo', 22), ('suficiente.', 1), ('Estas', 1), ('condiciones,', 1), ('que', 124), ('nos', 5), ('agravian', 1), ('y', 163), ('nos', 5), ('duelen,', 1), ('también', 3), ('han', 6), ('dañado', 1), ('la', 179), ('imagen', 2), ('de', 347), ('México', 46), ('en', 108), ('el', 117), ('exterior.', 1), ('Éste', 2), ('es', 34), ('el', 117), ('México', 46), ('que', 124), ('hay', 7), ('que', 124), ('transformar.', 1), ('Hoy,', 5), ('los', 83), ('mexicanos', 17), ('queremos', 1), ('un', 66), ('cambio.', 1), ('Queremos', 1), ('elevar', 1), ('la', 179), ('calidad', 3), ('de', 347), ('vida', 6), ('de', 347), ('las', 55), ('familias', 3), ('mexicanas.', 1), ('Este', 2), ('anhelo', 1), ('está', 6), ('presente', 2), ('a', 113), ('lo', 22), ('largo', 1), ('y', 163), ('ancho', 1), ('de', 347), ('nuestro', 18), ('territorio.', 1), ('Es', 9), ('el', 117), ('deseo', 1), ('de', 347), ('un', 66), ('cambio', 2), ('seguro,', 1), ('con', 44), ('rumbo', 1), ('y', 163), ('con', 44), ('dirección.', 1), ('Conducir', 1), ('la', 179), ('transformación', 4), ('es', 34), ('mi', 24), ('responsabilidad,', 2), ('como', 11), ('Presidente', 13), ('de', 347), ('la', 179), ('República.', 1), ('Hacerlo', 1), ('en', 108), ('democracia,', 2), ('es', 34), ('mi', 24), ('obligación', 3), ('ineludible.', 1), ('Los', 4), ('mexicanos', 17), ('demandan', 1), ('un', 66), ('Presidente', 13), ('que', 124), ('asuma', 2), ('su', 21), ('responsabilidad', 3), ('con', 44), ('la', 179), ('República', 6), ('y', 163), ('que', 124), ('cumpla', 1), ('a', 113), ('cabalidad', 1), ('con', 44), ('sus', 19), ('deberes.', 1), ('Para', 5), ('ello,', 7), ('propongo', 2), ('un', 66), ('Programa', 5), ('de', 347), ('Gobierno', 21), ('que', 124), ('impulse', 1), ('la', 179), ('transformación', 4), ('de', 347), ('México.', 9), ('Es', 9), ('una', 40), ('visión', 3), ('responsable', 3), ('y', 163), ('realista', 1), ('para', 61), ('acelerar', 4), ('el', 117), ('desarrollo', 5), ('integral', 3), ('y', 163), ('equilibrado', 1), ('de', 347), ('nuestro', 18), ('país.', 12), ('Trabajaré', 1), ('por', 25), ('un', 66), ('Gobierno', 21), ('eficaz', 3), ('que', 124), ('tenga', 2), ('un', 66), ('propósito', 2), ('fundamental:', 1), ('Hacer', 2), ('realidad', 3), ('los', 83), ('derechos', 3), ('humanos', 1), ('que', 124), ('reconoce', 1), ('nuestra', 18), ('Constitución.', 2), ('Éste', 2), ('será', 8), ('un', 66), ('Gobierno', 21), ('al', 25), ('servicio', 2), ('de', 347), ('los', 83), ('derechos', 3), ('de', 347), ('todos', 21), ('los', 83), ('mexicanos.', 9), ('El', 13), ('bien', 2), ('mayor', 7), ('y', 163), ('el', 117), ('bien', 2), ('último,', 1), ('es', 34), ('la', 179), ('vida', 6), ('humana.', 1), ('Por', 9), ('eso,', 5), ('el', 117), ('primer', 3), ('eje', 5), ('de', 347), ('mi', 24), ('Gobierno', 21), ('es', 34), ('lograr', 12), ('un', 66), ('México', 46), ('en', 108), ('paz.', 3), ('Pondremos', 1), ('al', 25), ('ciudadano', 2), ('y', 163), ('a', 113), ('su', 21), ('familia', 4), ('en', 108), ('el', 117), ('centro', 1), ('de', 347), ('las', 55), ('políticas', 1), ('de', 347), ('seguridad.', 1), ('Para', 5), ('lograr', 12), ('resultados,', 1), ('trabajaremos', 1), ('con', 44), ('estrategia,', 1), ('con', 44), ('una', 40), ('real', 1), ('y', 163), ('eficaz', 3), ('coordinación', 2), ('entre', 3), ('los', 83), ('órdenes', 3), ('de', 347), ('Gobierno,', 6), ('a', 113), ('fin', 3), ('de', 347), ('combatir', 3), ('la', 179), ('impunidad', 1), ('y', 163), ('hacer', 4), ('que', 124), ('prevalezca', 1), ('la', 179), ('justicia', 2), ('y', 163), ('la', 179), ('paz.', 3), ('Las', 3), ('ciudades,', 2), ('los', 83), ('pueblos,', 1), ('las', 55), ('carreteras,', 1), ('deben', 2), ('volver', 1), ('a', 113), ('ser', 11), ('espacios', 2), ('de', 347), ('tranquilidad,', 1), ('en', 108), ('los', 83), ('cuales,', 1), ('los', 83), ('mexicanos', 17), ('transiten', 1), ('con', 44), ('seguridad,', 1), ('sin', 6), ('temor', 1), ('de', 347), ('perder', 1), ('la', 179), ('libertad', 4), ('o', 5), ('la', 179), ('vida.', 1), ('Debemos', 4), ('cambiar', 3), ('de', 347), ('paradigma,', 1), ('entender', 1), ('que', 124), ('no', 18), ('habrá', 1), ('seguridad', 2), ('mientras', 1), ('no', 18), ('haya', 1), ('justicia.', 2), ('En', 20), ('el', 117), ('México', 46), ('que', 124), ('vislumbro', 2), ('hay', 7), ('justicia', 2), ('e', 8), ('inclusión,', 1), ('que', 124), ('serán', 2), ('las', 55), ('bases', 3), ('del', 41), ('pacto', 2), ('social.', 4), ('De', 6), ('ahí,', 2), ('que', 124), ('el', 117), ('segundo', 1), ('eje', 5), ('de', 347), ('mi', 24), ('Gobierno', 21), ('sea', 5), ('lograr', 12), ('un', 66), ('México', 46), ('incluyente.', 1), ('Debemos', 4), ('combatir', 3), ('la', 179), ('pobreza', 2), ('y', 163), ('cerrar', 2), ('la', 179), ('brecha', 2), ('de', 347), ('la', 179), ('desigualdad,', 1), ('que', 124), ('aún,', 1), ('lamentablemente,', 1), ('divide', 1), ('a', 113), ('los', 83), ('mexicanos.', 9), ('Como', 4), ('sociedad,', 1), ('debemos', 4), ('trabajar', 2), ('para', 61), ('que', 124), ('las', 55), ('madres', 1), ('y', 163), ('padres', 1), ('de', 347), ('familia', 4), ('tengan', 2), ('lo', 22), ('suficiente', 1), ('para', 61), ('el', 117), ('sustento', 2), ('diario', 1), ('de', 347), ('sus', 19), ('hijos.', 2), ('Debemos', 4), ('plantearnos', 1), ('como', 11), ('objetivo', 3), ('ser', 11), ('una', 40), ('sociedad', 5), ('de', 347), ('clase', 1), ('media,', 1), ('con', 44), ('equidad', 1), ('y', 163), ('cohesión,', 1), ('con', 44), ('igualdad', 1), ('de', 347), ('oportunidades.', 1), ('Vamos', 2), ('a', 113), ('impulsar', 3), ('nuestra', 18), ('fuente', 3), ('de', 347), ('riqueza,', 1), ('que', 124), ('es', 34), ('el', 117), ('talento,', 1), ('la', 179), ('capacidad', 2), ('y', 163), ('creatividad', 1), ('de', 347), ('nuestra', 18), ('gente.', 1), ('Por', 9), ('eso,', 5), ('el', 117), ('tercer', 1), ('eje', 5), ('de', 347), ('mi', 24), ('Gobierno', 21), ('será', 8), ('lograr', 12), ('un', 66), ('México', 46), ('con', 44), ('educación', 2), ('de', 347), ('calidad', 3), ('para', 61), ('todos.', 4), ('Ese', 3), ('país', 21), ('que', 124), ('podemos', 5), ('ser,', 1), ('hará', 1), ('frente', 1), ('a', 113), ('los', 83), ('rezagos', 2), ('educativos,', 1), ('para', 61), ('estar', 4), ('al', 25), ('nivel', 2), ('de', 347), ('las', 55), ('naciones', 4), ('desarrolladas.', 1), ('Nuestras', 2), ('escuelas', 2), ('deben', 2), ('formar', 1), ('individuos', 1), ('libres,', 1), ('responsables', 1), ('y', 163), ('comprometidos;', 1), ('ciudadanos', 1), ('de', 347), ('México', 46), ('y', 163), ('del', 41), ('mundo,', 3), ('solidarios', 1), ('con', 44), ('sus', 19), ('comunidades.', 1), ('Ésta', 1), ('es', 34), ('mi', 24), ('más', 7), ('íntima', 1), ('convicción:', 1), ('que', 124), ('los', 83), ('jóvenes', 2), ('mexicanos,', 3), ('creativos', 1), ('y', 163), ('emprendedores,', 1), ('desarrollen', 1), ('sus', 19), ('aptitudes,', 1), ('conocimientos', 1), ('y', 163), ('capacidad', 2), ('innovadora', 1), ('para', 61), ('competir,', 1), ('con', 44), ('éxito,', 1), ('en', 108), ('el', 117), ('mundo', 6), ('moderno.', 1), ('La', 10), ('sucesión', 1), ('de', 347), ('revoluciones', 1), ('globales,', 1), ('de', 347), ('la', 179), ('industrial', 1), ('a', 113), ('la', 179), ('tecnológica,', 1), ('nos', 5), ('ha', 12), ('llevado', 1), ('a', 113), ('un', 66), ('mundo', 6), ('vertiginoso,', 1), ('en', 108), ('el', 117), ('cual', 2), ('triunfan', 1), ('los', 83), ('que', 124), ('tienen', 4), ('las', 55), ('herramientas', 1), ('del', 41), ('saber', 1), ('científico', 1), ('y', 163), ('tecnológico.', 1), ('Creo', 1), ('en', 108), ('un', 66), ('México', 46), ('con', 44), ('crecimiento', 5), ('económico', 4), ('sólido', 1), ('y', 163), ('sostenido,', 2), ('que', 124), ('se', 29), ('refleje', 1), ('en', 108), ('toda', 1), ('la', 179), ('geografía', 1), ('nacional.', 6), ('Por', 9), ('eso,', 5), ('lograr', 12), ('un', 66), ('México', 46), ('próspero', 1), ('es', 34), ('el', 117), ('cuarto', 1), ('eje', 5), ('de', 347), ('mi', 24), ('Gobierno.', 7), ('La', 10), ('naturaleza', 1), ('nos', 5), ('ha', 12), ('regalado', 1), ('variados', 1), ('recursos.', 1), ('Alguna', 1), ('vez,', 1), ('nuestra', 18), ('visión', 3), ('de', 347), ('la', 179), ('riqueza', 1), ('se', 29), ('limitó', 1), ('a', 113), ('explotarlos.', 1), ('Y,', 1), ('al', 25), ('hacerlo,', 1), ('dejamos', 1), ('de', 347), ('ver', 1), ('otras', 3), ('opciones', 1), ('productivas,', 1), ('que', 124), ('pudieran', 1), ('generar', 3), ('mayores', 3), ('beneficios', 1), ('para', 61), ('el', 117), ('país.', 12), ('Hoy,', 5), ('debemos', 4), ('explotarlos,', 1), ('pero', 5), ('en', 108), ('forma', 1), ('sustentable', 2), ('y', 163), ('audaz.', 1), ('Agregarles', 1), ('valor,', 1), ('para', 61), ('que', 124), ('su', 21), ('producto', 1), ('llegue', 1), ('al', 25), ('bolsillo', 1), ('de', 347), ('los', 83), ('mexicanos', 17), ('de', 347), ('hoy', 7), ('y', 163), ('de', 347), ('mañana.', 1), ('Y', 4), ('que', 124), ('son,', 1), ('a', 113), ('final', 1), ('de', 347), ('cuentas,', 1), ('ellos,', 1), ('los', 83), ('dueños', 1), ('de', 347), ('esa', 3), ('riqueza.', 1), ('En', 20), ('el', 117), ('compromiso', 5), ('de', 347), ('acelerar', 4), ('el', 117), ('crecimiento', 5), ('económico,', 1), ('vislumbro', 2), ('el', 117), ('que', 124), ('vayamos', 1), ('a', 113), ('fomentar', 2), ('mayor', 7), ('competencia', 3), ('en', 108), ('todos', 21), ('los', 83), ('ámbitos;', 1), ('aumentar', 1), ('el', 117), ('nivel', 2), ('de', 347), ('crédito', 1), ('para', 61), ('financiar', 1), ('áreas', 1), ('estratégicas', 1), ('y', 163), ('promover', 3), ('la', 179), ('economía', 4), ('formal.', 1), ('El', 13), ('nuevo', 5), ('Gobierno', 21), ('de', 347), ('la', 179), ('República', 6), ('está', 6), ('determinado', 1), ('a', 113), ('incrementar', 2), ('la', 179), ('inversión', 2), ('en', 108), ('infraestructura,', 1), ('a', 113), ('fortalecer', 1), ('nuestro', 18), ('mercado', 2), ('interno', 1), ('y,', 3), ('al', 25), ('mismo', 1), ('tiempo,', 1), ('lograr', 12), ('una', 40), ('mayor', 7), ('participación', 2), ('en', 108), ('el', 117), ('mercado', 2), ('global.', 3), ('Debemos', 4), ('impulsar,', 2), ('sin', 6), ('ataduras,', 1), ('ni', 4), ('temores,', 1), ('todos', 21), ('los', 83), ('motores', 1), ('del', 41), ('crecimiento.', 1), ('El', 13), ('campo,', 1), ('el', 117), ('turismo,', 1), ('el', 117), ('desarrollo', 5), ('industrial,', 1), ('serán', 2), ('imprescindibles', 1), ('en', 108), ('la', 179), ('ruta', 1), ('de', 347), ('México', 46), ('para', 61), ('transformarse', 1), ('en', 108), ('una', 40), ('potencia', 1), ('económica', 1), ('emergente.', 1), ('Ese', 3), ('México', 46), ('que', 124), ('está', 6), ('a', 113), ('nuestro', 18), ('alcance,', 2), ('no', 18), ('será', 8), ('un', 66), ('país', 21), ('que', 124), ('sólo', 6), ('vea', 1), ('hacia', 3), ('adentro.', 1), ('Será,', 2), ('también,', 8), ('un', 66), ('país', 21), ('solidario,', 1), ('que', 124), ('asuma', 2), ('su', 21), ('compromiso', 5), ('con', 44), ('las', 55), ('mejores', 5), ('causas', 1), ('de', 347), ('la', 179), ('humanidad.', 1), ('En', 20), ('consecuencia,', 1), ('el', 117), ('quinto', 1), ('eje', 5), ('de', 347), ('mi', 24), ('Gobierno,', 6), ('es', 34), ('lograr', 12), ('que', 124), ('México', 46), ('sea', 5), ('un', 66), ('actor', 1), ('con', 44), ('responsabilidad', 3), ('global.', 3), ('Un', 5), ('país', 21), ('con', 44), ('participación', 2), ('propositiva', 1), ('en', 108), ('el', 117), ('mundo,', 3), ('dispuesto', 3), ('a', 113), ('fomentar', 2), ('la', 179), ('cooperación', 1), ('entre', 3), ('las', 55), ('naciones,', 1), ('con', 44), ('una', 40), ('diplomacia', 1), ('moderna', 1), ('e', 8), ('innovadora.', 1), ('México', 46), ('debe', 6), ('ser', 11), ('un', 66), ('factor', 1), ('de', 347), ('estabilidad', 5), ('en', 108), ('un', 66), ('mundo', 6), ('convulso,', 1), ('una', 40), ('voz', 2), ('que', 124), ('se', 29), ('escuche,', 1), ('una', 40), ('voz', 2), ('que', 124), ('defienda', 1), ('la', 179), ('libertad', 4), ('y', 163), ('promueva', 1), ('un', 66), ('orden', 4), ('más', 7), ('justo', 1), ('y', 163), ('un', 66), ('mundo', 6), ('sustentable', 2), ('en', 108), ('el', 117), ('Siglo', 6), ('XXI.', 3), ('Qué', 1), ('mejor', 3), ('oportunidad', 3), ('que', 124), ('la', 179), ('de', 347), ('este', 10), ('día,', 3), ('en', 108), ('la', 179), ('que', 124), ('están', 1), ('presentes', 3), ('Jefes', 2), ('de', 347), ('Estado', 10), ('y', 163), ('de', 347), ('Gobierno,', 6), ('representantes', 4), ('diplomáticos', 1), ('de', 347), ('países', 1), ('hermanos,', 1), ('para', 61), ('expresarles', 1), ('a', 113), ('todas', 8), ('y', 163), ('a', 113), ('todos', 21), ('la', 179), ('postura', 1), ('que', 124), ('sostendrá', 1), ('México', 46), ('en', 108), ('sus', 19), ('Relaciones', 1), ('Exteriores', 1), ('durante', 1), ('los', 83), ('siguientes', 5), ('seis', 3), ('años.', 1), ('A', 5), ('todos', 21), ('nuestros', 6), ('invitados', 1), ('internacionales,', 1), ('les', 1), ('expreso', 2), ('mi', 24), ('agradecimiento', 1), ('por', 25), ('acompañar', 1), ('a', 113), ('los', 83), ('mexicanos', 17), ('en', 108), ('esta', 12), ('fecha', 1), ('tan', 1), ('significativa,', 1), ('en', 108), ('la', 179), ('que', 124), ('se', 29), ('da', 2), ('el', 117), ('relevo', 1), ('en', 108), ('la', 179), ('titularidad', 1), ('del', 41), ('Poder', 3), ('Ejecutivo.', 1), ('Estos', 1), ('son', 8), ('los', 83), ('cinco', 1), ('ejes', 1), ('del', 41), ('nuevo', 5), ('Gobierno.', 7), ('Es', 9), ('la', 179), ('visión', 3), ('de', 347), ('un', 66), ('México', 46), ('que', 124), ('está', 6), ('a', 113), ('nuestro', 18), ('alcance,', 2), ('que', 124), ('podemos', 5), ('lograr', 12), ('si', 2), ('desterramos', 1), ('el', 117), ('encono', 1), ('y', 163), ('la', 179), ('discordia.', 1), ('Por', 9), ('eso,', 5), ('celebro', 1), ('los', 83), ('acercamientos', 1), ('y', 163), ('pláticas', 1), ('que', 124), ('han', 6), ('sostenido', 1), ('los', 83), ('partidos', 3), ('políticos', 3), ('nacionales', 2), ('a', 113), ('fin', 3), ('de', 347), ('impulsar', 3), ('un', 66), ('gran', 9), ('pacto', 2), ('por', 25), ('México.', 9), ('El', 13), ('Gobierno', 21), ('de', 347), ('la', 179), ('República', 6), ('ofrece', 1), ('participar', 1), ('con', 44), ('entusiasmo', 1), ('para', 61), ('que', 124), ('el', 117), ('acuerdo', 1), ('sea', 5), ('una', 40), ('realidad.', 2), ('Es', 9), ('momento', 4), ('de', 347), ('unirnos', 1), ('en', 108), ('propósitos', 1), ('comunes,', 1), ('de', 347), ('comprometernos', 1), ('con', 44), ('la', 179), ('paz,', 1), ('la', 179), ('justicia,', 2), ('la', 179), ('prosperidad,', 1), ('el', 117), ('respeto', 3), ('y', 163), ('orgullo', 1), ('de', 347), ('nuestra', 18), ('casa', 1), ('común,', 1), ('ésta,', 1), ('que', 124), ('es', 34), ('México.', 9), ('Al', 2), ('inicio', 2), ('del', 41), ('nuevo', 5), ('Gobierno,', 6), ('desde', 6), ('Palacio', 2), ('Nacional,', 2), ('informo', 1), ('de', 347), ('las', 55), ('siguientes', 5), ('decisiones', 3), ('presidenciales:', 1), ('Primera.', 1), ('México', 46), ('exige', 1), ('vivir', 1), ('en', 108), ('paz.', 3), ('Estoy', 1), ('convencido', 1), ('que', 124), ('el', 117), ('delito', 2), ('no', 18), ('sólo', 6), ('se', 29), ('combate', 1), ('con', 44), ('la', 179), ('fuerza.', 1), ('Es', 9), ('imprescindible', 1), ('que', 124), ('el', 117), ('Estado', 10), ('emprenda', 1), ('un', 66), ('esfuerzo', 3), ('integral', 3), ('para', 61), ('reconstruir', 1), ('el', 117), ('tejido', 1), ('social.', 4), ('He', 6), ('instruido', 4), ('a', 113), ('los', 83), ('Secretarios', 1), ('de', 347), ('Gobernación,', 1), ('de', 347), ('Hacienda,', 1), ('de', 347), ('Desarrollo', 4), ('Social,', 2), ('de', 347), ('Educación', 2), ('y', 163), ('de', 347), ('Salud,', 1), ('para', 61), ('la', 179), ('creación', 3), ('de', 347), ('un', 66), ('Programa', 5), ('Nacional', 5), ('de', 347), ('Prevención', 1), ('del', 41), ('Delito.', 1), ('Esta', 5), ('acción', 2), ('deberá', 1), ('reflejarse', 1), ('en', 108), ('la', 179), ('propuesta', 3), ('de', 347), ('Presupuesto', 2), ('de', 347), ('Egresos', 2), ('del', 41), ('2013,', 3), ('que', 124), ('someteré', 1), ('a', 113), ('la', 179), ('consideración', 3), ('del', 41), ('Honorable', 5), ('Congreso', 8), ('de', 347), ('la', 179), ('Unión.', 2), ('De', 6), ('ser', 11), ('aprobado,', 1), ('será', 8), ('un', 66), ('programa', 2), ('transversal', 1), ('que', 124), ('involucrará', 1), ('a', 113), ('todas', 8), ('las', 55), ('dependencias', 1), ('Federales', 1), ('en', 108), ('acciones', 3), ('para', 61), ('combatir', 3), ('las', 55), ('adicciones,', 1), ('rescatar', 1), ('los', 83), ('espacios', 2), ('públicos', 1), ('y', 163), ('promover', 3), ('proyectos', 3), ('productivos,', 1), ('entre', 3), ('muchas', 2), ('otras', 3), ('acciones', 3), ('y', 163), ('programas', 2), ('que', 124), ('habremos', 1), ('de', 347), ('desarrollar', 1), ('para', 61), ('alcanzar', 1), ('este', 10), ('objetivo.', 1), ('Segunda', 1), ('decisión.', 12), ('Detrás', 1), ('de', 347), ('cada', 10), ('delito', 2), ('hay', 7), ('una', 40), ('historia', 6), ('de', 347), ('dolor,', 1), ('incluso,', 1), ('la', 179), ('pérdida', 1), ('de', 347), ('un', 66), ('ser', 11), ('querido.', 1), ('El', 13), ('Estado', 10), ('debe', 6), ('estar', 4), ('al', 25), ('lado', 1), ('de', 347), ('las', 55), ('víctimas', 2), ('y', 163), ('de', 347), ('sus', 19), ('familiares.', 1), ('Por', 9), ('ello,', 7), ('y', 163), ('dando', 1), ('cabal', 1), ('cumplimiento', 1), ('a', 113), ('mi', 24), ('compromiso,', 1), ('instruyo', 1), ('a', 113), ('la', 179), ('Consejería', 1), ('Jurídica', 1), ('para', 61), ('que', 124), ('se', 29), ('desista', 1), ('de', 347), ('la', 179), ('controversia', 1), ('constitucional', 2), ('sobre', 2), ('la', 179), ('Ley', 4), ('General', 2), ('de', 347), ('Víctimas,', 1), ('para', 61), ('que,', 3), ('una', 40), ('vez', 2), ('que', 124), ('se', 29), ('acuerde', 1), ('por', 25), ('la', 179), ('Suprema', 2), ('Corte,', 1), ('se', 29), ('publique', 1), ('tal', 2), ('como', 11), ('fue', 3), ('aprobada', 1), ('por', 25), ('el', 117), ('Congreso.', 2), ('Sé', 1), ('que', 124), ('esta', 12), ('ley', 3), ('es', 34), ('perfectible.', 1), ('Mi', 3), ('Gobierno', 21), ('participará', 1), ('de', 347), ('manera', 5), ('inmediata', 2), ('en', 108), ('el', 117), ('diálogo', 2), ('social', 1), ('y', 163), ('político', 2), ('que', 124), ('permita', 2), ('mejorarla.', 1), ('Pero,', 1), ('para', 61), ('tal', 2), ('efecto,', 1), ('debemos', 4), ('partir', 4), ('de', 347), ('una', 40), ('base,', 1), ('contar', 4), ('con', 44), ('una', 40), ('ley', 3), ('vigente', 1), ('que', 124), ('proteja,', 1), ('cuanto', 1), ('antes,', 1), ('a', 113), ('las', 55), ('víctimas', 2), ('de', 347), ('nuestro', 18), ('país.', 12), ('Tercera', 1), ('decisión.', 12), ('Hay,', 1), ('en', 108), ('el', 117), ('país', 21), ('33', 1), ('códigos', 1), ('penales,', 1), ('sin', 6), ('considerar', 1), ('el', 117), ('Código', 2), ('Penal', 1), ('del', 41), ('Ejército,', 1), ('o', 5), ('de', 347), ('fuero', 1), ('militar,', 1), ('que', 124), ('castigan', 1), ('de', 347), ('manera', 5), ('distinta', 1), ('los', 83), ('mismos', 1), ('delitos.', 1), ('Ello', 1), ('dificulta', 1), ('la', 179), ('acción', 2), ('de', 347), ('la', 179), ('justicia.', 2), ('Por', 9), ('ello,', 7), ('habré', 1), ('de', 347), ('presentar', 1), ('al', 25), ('Honorable', 5), ('Congreso', 8), ('de', 347), ('la', 179), ('Unión,', 2), ('una', 40), ('iniciativa', 3), ('de', 347), ('reforma', 7), ('constitucional,', 1), ('que', 124), ('permita', 2), ('contar', 4), ('con', 44), ('un', 66), ('solo', 1), ('Código', 2), ('Penal,', 1), ('y', 163), ('otro', 2), ('de', 347), ('Procedimientos', 1), ('Penales,', 1), ('únicos', 1), ('y', 163), ('de', 347), ('aplicación', 1), ('nacional.', 6), ('En', 20), ('caso', 2), ('de', 347), ('aprobarse', 2), ('esta', 12), ('reforma', 7), ('por', 25), ('el', 117), ('Constituyente', 2), ('Permanente,', 2), ('se', 29), ('dará', 1), ('un', 66), ('importante', 1), ('paso', 2), ('contra', 1), ('la', 179), ('impunidad.', 1), ('Cuarta', 1), ('decisión.', 12), ('Estamos', 2), ('en', 108), ('pleno', 2), ('Siglo', 6), ('XXI.', 3), ('México', 46), ('ha', 12), ('logrado', 3), ('avances', 2), ('en', 108), ('diversos', 1), ('sectores,', 1), ('pero', 5), ('es', 34), ('indignante,', 1), ('es', 34), ('inaceptable', 1), ('que', 124), ('millones', 1), ('de', 347), ('mexicanos', 17), ('padezcan', 1), ('aún', 2), ('de', 347), ('hambre.', 1), ('Lograr', 1), ('que', 124), ('las', 55), ('familias', 3), ('mexicanas', 1), ('tengan', 2), ('un', 66), ('piso', 1), ('básico', 1), ('de', 347), ('bienestar,', 1), ('será', 8), ('la', 179), ('prioridad,', 1), ('el', 117), ('principio', 2), ('elemental', 1), ('de', 347), ('mi', 24), ('política', 3), ('social.', 4), ('He', 6), ('dado', 2), ('instrucciones', 2), ('a', 113), ('la', 179), ('Secretaría', 2), ('de', 347), ('Desarrollo', 4), ('Social,', 2), ('para', 61), ('que', 124), ('ponga', 1), ('en', 108), ('marcha', 1), ('en', 108), ('los', 83), ('próximos', 3), ('60', 1), ('días,', 2), ('la', 179), ('Cruzada', 1), ('Nacional', 5), ('Contra', 1), ('el', 117), ('Hambre.', 1), ('Convoco', 1), ('a', 113), ('la', 179), ('sociedad', 5), ('civil', 2), ('organizada,', 1), ('a', 113), ('empresarios,', 1), ('a', 113), ('los', 83), ('medios', 4), ('de', 347), ('comunicación,', 2), ('a', 113), ('las', 55), ('agrupaciones', 2), ('religiosas,', 1), ('a', 113), ('Gobernadores,', 2), ('Jefe', 2), ('de', 347), ('Gobierno,', 6), ('Presidentes', 1), ('Municipales', 1), ('y', 163), ('a', 113), ('todos', 21), ('los', 83), ('integrantes', 2), ('del', 41), ('Congreso', 8), ('de', 347), ('la', 179), ('Unión;', 1), ('a', 113), ('los', 83), ('jóvenes', 2), ('y', 163), ('a', 113), ('todo', 6), ('mexicano', 1), ('que', 124), ('quiera', 1), ('aportar', 1), ('tiempo', 5), ('y', 163), ('recursos', 2), ('para', 61), ('sumarse', 1), ('a', 113), ('esta', 12), ('gran', 9), ('causa,', 1), ('que', 124), ('es', 34), ('por', 25), ('todos', 21), ('los', 83), ('que', 124), ('tienen', 4), ('hambre', 2), ('en', 108), ('nuestro', 18), ('país.', 12), ('Quinta', 1), ('decisión.', 12), ('Las', 3), ('mujeres', 3), ('jefas', 2), ('de', 347), ('familia', 4), ('son', 8), ('verdaderas', 1), ('luchadoras.', 1), ('En', 20), ('muchos', 1), ('casos,', 1), ('son', 8), ('padre', 1), ('y', 163), ('madre', 1), ('a', 113), ('la', 179), ('vez.', 1), ('Todos', 3), ('los', 83), ('días', 5), ('trabajan', 1), ('desde', 6), ('muy', 1), ('temprano', 1), ('para', 61), ('llevar', 3), ('el', 117), ('sustento', 2), ('a', 113), ('sus', 19), ('hijos.', 2), ('El', 13), ('Estado', 10), ('tiene', 4), ('la', 179), ('obligación', 3), ('moral', 2), ('de', 347), ('respaldarlas.', 1), ('He', 6), ('instruido', 4), ('a', 113), ('las', 55), ('Secretarías', 1), ('de', 347), ('Desarrollo', 4), ('Social', 3), ('y', 163), ('de', 347), ('Hacienda', 2), ('para', 61), ('crear', 1), ('el', 117), ('Programa', 5), ('de', 347), ('Seguro', 1), ('de', 347), ('Vida', 1), ('para', 61), ('Jefas', 1), ('de', 347), ('Familia,', 1), ('e', 8), ('incluirlo', 1), ('en', 108), ('el', 117), ('Proyecto', 1), ('de', 347), ('Presupuesto', 2), ('de', 347), ('Egresos', 2), ('del', 41), ('2013.', 1), ('De', 6), ('ser', 11), ('aprobado', 1), ('por', 25), ('la', 179), ('Cámara', 3), ('de', 347), ('Diputados,', 1), ('iniciará', 1), ('operaciones', 1), ('en', 108), ('enero', 1), ('próximo.', 1), ('Con', 6), ('este', 10), ('programa,', 1), ('las', 55), ('jefas', 2), ('de', 347), ('familia', 4), ('tendrán', 2), ('la', 179), ('tranquilidad', 1), ('de', 347), ('que,', 3), ('en', 108), ('caso', 2), ('de', 347), ('llegar', 1), ('a', 113), ('faltar,', 1), ('el', 117), ('Estado', 10), ('apoyará', 1), ('económicamente', 1), ('a', 113), ('sus', 19), ('hijos', 2), ('hasta', 3), ('que', 124), ('terminen', 1), ('la', 179), ('universidad.', 1), ('Sexta', 1), ('decisión.', 12), ('México', 46), ('es', 34), ('un', 66), ('país', 21), ('en', 108), ('deuda', 2), ('con', 44), ('sus', 19), ('adultos', 1), ('mayores.', 2), ('Lo', 1), ('que', 124), ('somos', 3), ('como', 11), ('Nación,', 2), ('se', 29), ('lo', 22), ('debemos', 4), ('a', 113), ('las', 55), ('generaciones', 2), ('que', 124), ('nos', 5), ('antecedieron.', 1), ('Es', 9), ('tiempo', 5), ('de', 347), ('reconocer', 2), ('esa', 3), ('contribución.', 1), ('He', 6), ('dado', 2), ('instrucciones', 2), ('a', 113), ('la', 179), ('Secretaría', 2), ('de', 347), ('Desarrollo', 4), ('Social', 3), ('y', 163), ('de', 347), ('Hacienda', 2), ('para', 61), ('incluir', 1), ('una', 40), ('partida', 1), ('presupuestal', 2), ('para', 61), ('el', 117), ('Ejercicio', 1), ('Fiscal', 1), ('2013', 2), ('que', 124), ('modifique', 1), ('y', 163), ('amplíe', 1), ('el', 117), ('Programa', 5), ('70', 1), ('y', 163), ('Más,', 1), ('a', 113), ('fin', 3), ('de', 347), ('que', 124), ('todos', 21), ('los', 83), ('mexicanos', 17), ('mayores', 3), ('de', 347), ('65', 1), ('años', 2), ('reciban', 1), ('una', 40), ('pensión.', 1), ('De', 6), ('contar', 4), ('con', 44), ('el', 117), ('respaldo', 3), ('de', 347), ('los', 83), ('Legisladores,', 2), ('se', 29), ('daría', 1), ('el', 117), ('primer', 3), ('paso', 2), ('en', 108), ('la', 179), ('creación', 3), ('del', 41), ('Sistema', 3), ('de', 347), ('Seguridad', 1), ('Social', 3), ('Universal', 1), ('que', 124), ('he', 3), ('comprometido', 1), ('con', 44), ('todos', 21), ('los', 83), ('mexicanos.', 9), ('Séptima', 1), ('decisión.', 12), ('Ha', 1), ('llegado', 2), ('el', 117), ('momento', 4), ('de', 347), ('la', 179), ('Reforma', 3), ('Educativa.', 1), ('Una', 1), ('nación', 1), ('basa', 1), ('su', 21), ('desarrollo', 5), ('en', 108), ('la', 179), ('educación.', 1), ('El', 13), ('capital', 1), ('humano', 1), ('es', 34), ('la', 179), ('base', 4), ('del', 41), ('desarrollo', 5), ('y', 163), ('progreso', 2), ('de', 347), ('un', 66), ('país;', 1), ('ésta', 1), ('es', 34), ('la', 179), ('razón', 1), ('por', 25), ('la', 179), ('que', 124), ('corresponde', 1), ('al', 25), ('Estado', 10), ('la', 179), ('rectoría', 1), ('de', 347), ('la', 179), ('política', 3), ('educativa.', 1), ('Atendiendo', 1), ('a', 113), ('esta', 12), ('responsabilidad,', 2), ('en', 108), ('los', 83), ('siguientes', 5), ('días,', 2), ('enviaré', 3), ('al', 25), ('Congreso', 8), ('de', 347), ('la', 179), ('Unión', 3), ('la', 179), ('iniciativa', 3), ('para', 61), ('reformar', 1), ('el', 117), ('Artículo', 2), ('Tercero', 1), ('Constitucional', 1), ('y,', 3), ('en', 108), ('su', 21), ('momento,', 2), ('la', 179), ('subsecuente', 1), ('Reforma', 3), ('a', 113), ('la', 179), ('Ley', 4), ('General', 2), ('de', 347), ('Educación.', 1), ('Con', 6), ('esta', 12), ('reforma', 7), ('educativa,', 1), ('se', 29), ('establecen', 1), ('las', 55), ('bases', 3), ('para', 61), ('el', 117), ('Servicio', 1), ('Profesional', 1), ('de', 347), ('Carrera', 1), ('Docente.', 1), ('Habrá', 1), ('reglas', 1), ('claras', 2), ('y', 163), ('precisas,', 1), ('para', 61), ('que', 124), ('todo', 6), ('aquel', 1), ('que', 124), ('aspira', 1), ('a', 113), ('ingresar,', 1), ('permanecer', 2), ('y', 163), ('ascender', 1), ('como', 11), ('maestro,', 1), ('director', 1), ('o', 5), ('supervisor,', 1), ('lo', 22), ('haga', 1), ('con', 44), ('base', 4), ('en', 108), ('su', 21), ('trabajo', 2), ('y', 163), ('sus', 19), ('méritos,', 1), ('garantizándoles', 1), ('plena', 3), ('estabilidad', 5), ('laboral.', 1), ('De', 6), ('aprobarse', 2), ('la', 179), ('reforma', 7), ('por', 25), ('el', 117), ('Constituyente', 2), ('Permanente,', 2), ('dejará', 1), ('de', 347), ('haber', 1), ('plazas', 1), ('vitalicias', 1), ('y', 163), ('hereditarias', 1), ('en', 108), ('el', 117), ('Sistema', 3), ('Educativo', 1), ('Nacional.', 1), ('Esta', 5), ('reforma,', 2), ('también', 3), ('incluye', 1), ('la', 179), ('creación', 3), ('del', 41), ('Sistema', 3), ('Nacional', 5), ('de', 347), ('Evaluación', 1), ('Educativa,', 1), ('que', 124), ('identificará,', 1), ('de', 347), ('manera', 5), ('objetiva', 1), ('e', 8), ('imparcial,', 1), ('las', 55), ('necesidades', 1), ('de', 347), ('mejora', 1), ('de', 347), ('maestros,', 1), ('directores,', 1), ('supervisores,', 1), ('escuelas', 2), ('y', 163), ('autoridades.', 1), ('Adicionalmente', 1), ('a', 113), ('la', 179), ('reforma,', 2), ('he', 3), ('instruido', 4), ('al', 25), ('Secretario', 3), ('de', 347), ('Educación', 2), ('Pública', 1), ('solicitar', 1), ('al', 25), ('INEGI', 1), ('la', 179), ('realización', 1), ('de', 347), ('un', 66), ('censo', 1), ('de', 347), ('escuelas,', 1), ('maestros', 1), ('y', 163), ('alumnos.', 1), ('Esta', 5), ('información,', 1), ('que', 124), ('hoy', 7), ('no', 18), ('se', 29), ('tiene,', 1), ('será', 8), ('la', 179), ('base', 4), ('de', 347), ('datos', 1), ('necesaria', 1), ('para', 61), ('lograr', 12), ('una', 40), ('operación', 1), ('más', 7), ('eficiente', 1), ('y', 163), ('transparente', 1), ('del', 41), ('sistema', 1), ('educativo', 1), ('de', 347), ('nuestro', 18), ('país.', 12), ('Octava', 1), ('decisión.', 12), ('La', 10), ('desigualdad', 1), ('en', 108), ('México', 46), ('no', 18), ('sólo', 6), ('afecta', 1), ('a', 113), ('las', 55), ('personas,', 2), ('también', 3), ('a', 113), ('los', 83), ('estados.', 1), ('Hay', 4), ('regiones', 2), ('desarrolladas', 1), ('y', 163), ('otras', 3), ('que', 124), ('padecen', 1), ('aún', 2), ('rezagos', 2), ('importantes.', 1), ('Para', 5), ('cerrar', 2), ('esta', 12), ('brecha', 2), ('e', 8), ('impulsar', 3), ('el', 117), ('crecimiento', 5), ('económico', 4), ('y', 163), ('la', 179), ('competitividad,', 1), ('vamos', 1), ('a', 113), ('dar', 3), ('un', 66), ('impulso', 1), ('decisivo', 1), ('a', 113), ('la', 179), ('infraestructura.', 1), ('He', 6), ('instruido', 4), ('al', 25), ('Secretario', 3), ('de', 347), ('Comunicaciones', 2), ('y', 163), ('Transportes', 2), ('a', 113), ('acelerar', 4), ('la', 179), ('propuesta', 3), ('del', 41), ('Programa', 5), ('Nacional', 5), ('de', 347), ('Infraestructura', 1), ('y', 163), ('Transporte', 1), ('2012-2018.', 1), ('Este', 2), ('programa', 2), ('incluirá', 1), ('los', 83), ('proyectos', 3), ('que', 124), ('comprometí', 1), ('a', 113), ('los', 83), ('mexicanos', 17), ('para', 61), ('incrementar', 2), ('la', 179), ('infraestructura', 2), ('carretera,', 1), ('ferroviaria', 1), ('y', 163), ('de', 347), ('puertos', 1), ('del', 41), ('país.', 12), ('Asimismo,', 2), ('contemplará', 1), ('obras', 2), ('de', 347), ('infraestructura', 2), ('para', 61), ('conectar', 2), ('e', 8), ('incorporar', 1), ('el', 117), ('Sur', 1), ('de', 347), ('México', 46), ('a', 113), ('la', 179), ('economía', 4), ('global.', 3), ('Novena', 1), ('decisión.', 12), ('En', 20), ('la', 179), ('historia', 6), ('de', 347), ('México,', 6), ('el', 117), ('tren', 5), ('de', 347), ('pasajeros', 2), ('fue', 3), ('un', 66), ('símbolo', 2), ('de', 347), ('modernidad.', 1), ('Sin', 1), ('embargo,', 1), ('en', 108), ('los', 83), ('últimos', 2), ('años,', 3), ('prácticamente', 1), ('desapareció', 1), ('de', 347), ('nuestro', 18), ('país.', 12), ('En', 20), ('México', 46), ('volveremos', 1), ('a', 113), ('tener', 4), ('trenes', 2), ('de', 347), ('pasajeros', 2), ('para', 61), ('conectar', 2), ('nuestras', 6), ('ciudades.', 1), ('He', 6), ('ordenado', 1), ('al', 25), ('Secretario', 3), ('de', 347), ('Comunicaciones', 2), ('y', 163), ('Transportes', 2), ('arrancar', 1), ('en', 108), ('el', 117), ('2013', 2), ('la', 179), ('construcción', 2), ('del', 41), ('tren', 5), ('México-Querétaro.', 1), ('Asimismo,', 2), ('se', 29), ('impulsarán', 1), ('los', 83), ('proyectos', 3), ('de', 347), ('construcción', 2), ('del', 41), ('tren', 5), ('México-Toluca,', 1), ('el', 117), ('tren', 5), ('Transpeninsular', 1), ('Yucatán-Quintana', 1), ('Roo.', 1), ('Para', 5), ('mejorar,', 1), ('de', 347), ('igual', 1), ('forma,', 1), ('las', 55), ('condiciones', 2), ('de', 347), ('tránsito', 1), ('en', 108), ('las', 55), ('grandes', 2), ('ciudades,', 2), ('se', 29), ('iniciarán', 1), ('las', 55), ('obras', 2), ('de', 347), ('la', 179), ('Línea', 1), ('3', 1), ('del', 41), ('Metro', 1), ('de', 347), ('Monterrey,', 1), ('el', 117), ('transporte', 1), ('masivo', 1), ('de', 347), ('Chalco', 1), ('a', 113), ('La', 10), ('Paz,', 1), ('en', 108), ('el', 117), ('Estado', 10), ('de', 347), ('México,', 6), ('y', 163), ('se', 29), ('ampliará', 1), ('el', 117), ('tren', 5), ('eléctrico', 1), ('de', 347), ('la', 179), ('Zona', 1), ('Metropolitana', 1), ('de', 347), ('Guadalajara.', 1), ('México', 46), ('necesita', 2), ('resolver', 1), ('de', 347), ('manera', 5), ('integral', 3), ('sus', 19), ('problemas', 2), ('de', 347), ('transporte,', 1), ('contar', 4), ('con', 44), ('trenes', 2), ('modernos,', 1), ('será', 8), ('el', 117), ('inicio', 2), ('de', 347), ('un', 66), ('nuevo', 5), ('capítulo', 1), ('en', 108), ('la', 179), ('historia', 6), ('de', 347), ('las', 55), ('comunicaciones', 1), ('de', 347), ('nuestro', 18), ('país.', 12), ('Décima', 4), ('decisión.', 12), ('Es', 9), ('fundamental', 2), ('generar', 3), ('mayor', 7), ('competencia', 3), ('económica,', 1), ('particularmente,', 1), ('en', 108), ('el', 117), ('sector', 2), ('de', 347), ('las', 55), ('telecomunicaciones.', 1), ('El', 13), ('objetivo', 3), ('es', 34), ('que', 124), ('todos', 21), ('los', 83), ('mexicanos', 17), ('tengamos', 1), ('acceso', 2), ('a', 113), ('productos', 1), ('y', 163), ('servicios', 2), ('de', 347), ('mayor', 7), ('calidad', 3), ('y', 163), ('a', 113), ('mejores', 5), ('precios.', 1), ('Por', 9), ('ello,', 7), ('en', 108), ('los', 83), ('próximos', 3), ('días', 5), ('enviaré', 3), ('una', 40), ('iniciativa', 3), ('para', 61), ('reconocer', 2), ('en', 108), ('la', 179), ('Constitución,', 1), ('el', 117), ('derecho', 1), ('de', 347), ('acceso', 2), ('a', 113), ('la', 179), ('Banda', 1), ('Ancha', 1), ('y', 163), ('un', 66), ('conjunto', 1), ('de', 347), ('reformas', 3), ('para', 61), ('generar', 3), ('mayor', 7), ('competencia', 3), ('en', 108), ('telefonía,', 1), ('servicios', 2), ('de', 347), ('datos,', 1), ('televisión', 2), ('y', 163), ('radio.', 1), ('Y', 4), ('en', 108), ('alcance', 1), ('a', 113), ('este', 10), ('objetivo,', 1), ('el', 117), ('Gobierno', 21), ('de', 347), ('la', 179), ('República', 6), ('licitará', 1), ('dos', 4), ('nuevas', 1), ('cadenas', 1), ('de', 347), ('televisión', 2), ('abierta', 1), ('en', 108), ('los', 83), ('siguientes', 5), ('meses.', 1), ('Décima', 4), ('primera', 3), ('decisión.', 12), ('La', 10), ('deuda', 2), ('de', 347), ('algunos', 1), ('estados', 1), ('y', 163), ('municipios', 1), ('ha', 12), ('llegado', 2), ('a', 113), ('niveles', 1), ('inaceptables,', 1), ('lo', 22), ('que', 124), ('pone', 1), ('en', 108), ('riesgo', 1), ('a', 113), ('las', 55), ('finanzas', 3), ('públicas', 3), ('de', 347), ('las', 55), ('presentes', 3), ('y', 163), ('futuras', 1), ('generaciones.', 1), ('Con', 6), ('el', 117), ('objeto', 1), ('de', 347), ('encontrar', 1), ('una', 40), ('solución', 1), ('inmediata', 2), ('para', 61), ('revertir', 1), ('esta', 12), ('tendencia,', 1), ('en', 108), ('los', 83), ('siguientes', 5), ('días', 5), ('enviaré', 3), ('al', 25), ('Honorable', 5), ('Congreso', 8), ('de', 347), ('la', 179), ('Unión', 3), ('un', 66), ('proyecto', 1), ('de', 347), ('Ley', 4), ('Nacional', 5), ('de', 347), ('Responsabilidad', 1), ('Hacendaria', 1), ('y', 163), ('Deuda', 1), ('Pública.', 1), ('Esta', 5), ('ley', 3), ('pondrá', 1), ('orden', 4), ('al', 25), ('endeudamiento', 1), ('de', 347), ('los', 83), ('gobiernos', 2), ('locales.', 1), ('Décima', 4), ('segunda', 1), ('decisión.', 12), ('Hoy,', 5), ('México', 46), ('es', 34), ('un', 66), ('país', 21), ('reconocido', 1), ('por', 25), ('su', 21), ('estabilidad', 5), ('macroeconómica.', 1), ('En', 20), ('mi', 24), ('Gobierno', 21), ('el', 117), ('manejo', 1), ('responsable', 3), ('de', 347), ('las', 55), ('finanzas', 3), ('públicas', 3), ('será', 8), ('la', 179), ('base', 4), ('para', 61), ('lograr', 12), ('un', 66), ('mayor', 7), ('crecimiento', 5), ('económico', 4), ('sostenido,', 2), ('y', 163), ('promover', 3), ('la', 179), ('generación', 2), ('de', 347), ('empleos.', 1), ('Por', 9), ('ello,', 7), ('en', 108), ('los', 83), ('próximos', 3), ('días', 5), ('pondré', 1), ('a', 113), ('consideración', 3), ('del', 41), ('Congreso', 8), ('de', 347), ('la', 179), ('Unión', 3), ('el', 117), ('Paquete', 2), ('Económico', 2), ('2013,', 3), ('con', 44), ('un', 66), ('cero', 1), ('déficit', 1), ('presupuestal.', 1), ('La', 10), ('solidez', 3), ('de', 347), ('las', 55), ('finanzas', 3), ('públicas', 3), ('seguirá', 2), ('siendo', 2), ('pilar', 1), ('en', 108), ('la', 179), ('conducción', 1), ('de', 347), ('la', 179), ('economía', 4), ('nacional.', 6), ('Décima', 4), ('tercera', 1), ('decisión.', 12), ('Los', 4), ('gobiernos', 2), ('tienen', 4), ('la', 179), ('responsabilidad', 3), ('moral', 2), ('de', 347), ('ser', 11), ('medidos', 1), ('y', 163), ('austeros', 1), ('en', 108), ('sus', 19), ('gastos.', 1), ('El', 13), ('Gobierno', 21), ('que', 124), ('hoy', 7), ('inicia,', 1), ('tiene', 4), ('el', 117), ('compromiso', 5), ('de', 347), ('racionar', 1), ('el', 117), ('gasto', 3), ('corriente', 1), ('y', 163), ('destinar', 1), ('mayores', 3), ('recursos', 2), ('al', 25), ('gasto', 3), ('de', 347), ('inversión', 2), ('en', 108), ('obras,', 1), ('programas', 2), ('y', 163), ('acciones', 3), ('de', 347), ('beneficio', 1), ('directo', 1), ('a', 113), ('la', 179), ('población.', 2), ('En', 20), ('este', 10), ('marco,', 3), ('junto', 1), ('a', 113), ('la', 179), ('propuesta', 3), ('de', 347), ('Paquete', 2), ('Económico', 2), ('2013,', 3), ('expediré', 1), ('un', 66), ('decreto', 1), ('que', 124), ('establezca', 1), ('medidas', 1), ('de', 347), ('austeridad', 1), ('y', 163), ('disciplina', 1), ('presupuestal', 2), ('en', 108), ('el', 117), ('ejercicio', 1), ('del', 41), ('gasto', 3), ('público.', 1), ('Un', 5), ('Gobierno', 21), ('eficaz', 3), ('debe', 6), ('ser', 11), ('capaz', 1), ('de', 347), ('hacer', 4), ('más', 7), ('con', 44), ('menos.', 1), ('Con', 6), ('estas', 3), ('primeras', 1), ('decisiones,', 1), ('el', 117), ('Ejecutivo', 2), ('Federal', 2), ('ratifica', 1), ('la', 179), ('soberanía', 1), ('plena', 3), ('del', 41), ('poder', 2), ('constitucional', 2), ('y', 163), ('democrático,', 4), ('bajo', 1), ('el', 117), ('imperio', 1), ('de', 347), ('la', 179), ('ley.', 3), ('Son', 1), ('decisiones', 3), ('que,', 3), ('además,', 1), ('fortalecen', 1), ('a', 113), ('la', 179), ('sociedad', 5), ('y', 163), ('a', 113), ('nuestra', 18), ('economía,', 1), ('en', 108), ('favor', 2), ('de', 347), ('los', 83), ('derechos', 3), ('de', 347), ('todos', 21), ('los', 83), ('mexicanos.', 9), ('Con', 6), ('estas', 3), ('decisiones', 3), ('presidenciales', 1), ('iniciamos', 1), ('el', 117), ('camino.', 1), ('Vendrán,', 1), ('por', 25), ('supuesto,', 1), ('más', 7), ('decisiones.', 2), ('Y', 4), ('reitero', 1), ('mi', 24), ('compromiso', 5), ('de', 347), ('lograr', 12), ('consensos', 1), ('para', 61), ('impulsar,', 2), ('en', 108), ('su', 21), ('momento,', 2), ('una', 40), ('reforma', 7), ('energética,', 1), ('una', 40), ('reforma', 7), ('hacendaria', 1), ('y', 163), ('una', 40), ('reforma', 7), ('a', 113), ('nuestro', 18), ('régimen', 2), ('de', 347), ('seguridad', 2), ('social.', 4), ('Vamos', 2), ('hacia', 3), ('adelante.', 1), ('Es', 9), ('tiempo', 5), ('de', 347), ('romper,', 1), ('juntos,', 2), ('los', 83), ('mitos', 1), ('y', 163), ('paradigmas,', 1), ('y', 163), ('todo', 6), ('aquello', 1), ('que', 124), ('ha', 12), ('limitado', 1), ('nuestro', 18), ('desarrollo.', 1), ('La', 10), ('transformación', 4), ('nacional', 1), ('demanda', 2), ('la', 179), ('actuación', 1), ('responsable', 3), ('y', 163), ('decidida', 1), ('del', 41), ('Presidente', 13), ('de', 347), ('la', 179), ('República,', 2), ('pero', 5), ('requiere,', 1), ('también,', 8), ('de', 347), ('la', 179), ('energía', 1), ('creadora', 1), ('de', 347), ('todos', 21), ('los', 83), ('mexicanos.', 9), ('Señoras', 2), ('y', 163), ('señores:', 1), ('Estamos', 2), ('a', 113), ('las', 55), ('puertas', 1), ('de', 347), ('una', 40), ('nueva', 3), ('etapa', 3), ('de', 347), ('nuestra', 18), ('historia.', 2), ('Nuestro', 2), ('país', 21), ('ha', 12), ('sido', 1), ('escenario', 1), ('de', 347), ('grandes', 2), ('movimientos', 2), ('que', 124), ('dejaron', 1), ('huella,', 1), ('reformistas', 1), ('unos,', 1), ('revolucionarios', 1), ('otros;', 1), ('estos', 4), ('movimientos', 2), ('han', 6), ('sacudido', 1), ('la', 179), ('conciencia', 1), ('nacional,', 1), ('para', 61), ('cambiar', 3), ('lo', 22), ('que', 124), ('no', 18), ('puede', 2), ('ni', 4), ('debe', 6), ('permanecer.', 1), ('En', 20), ('el', 117), ('México', 46), ('de', 347), ('hoy,', 8), ('lo', 22), ('que', 124), ('no', 18), ('puede', 2), ('ni', 4), ('debe', 6), ('permanecer', 2), ('es', 34), ('la', 179), ('situación', 1), ('de', 347), ('pobreza', 2), ('y', 163), ('hambre', 2), ('en', 108), ('que', 124), ('se', 29), ('encuentra', 1), ('un', 66), ('amplio', 1), ('sector', 2), ('de', 347), ('nuestra', 18), ('población.', 2), ('Al', 2), ('margen', 1), ('de', 347), ('nuestras', 6), ('legítimas,', 1), ('naturales', 1), ('y', 163), ('sanas', 1), ('diferencias,', 1), ('si', 2), ('todos', 21), ('aportamos', 1), ('nuestro', 18), ('trabajo', 2), ('y', 163), ('empeño,', 1), ('los', 83), ('mexicanos', 17), ('podemos', 5), ('construir', 2), ('un', 66), ('país', 21), ('plenamente', 1), ('desarrollado.', 1), ('Ahora,', 1), ('es', 34), ('tiempo', 5), ('de', 347), ('construir', 2), ('y', 163), ('de', 347), ('ganar', 1), ('el', 117), ('futuro.', 3), ('Hagamos', 1), ('de', 347), ('México', 46), ('un', 66), ('país', 21), ('no', 18), ('sólo', 6), ('orgulloso', 1), ('de', 347), ('su', 21), ('pasado,', 1), ('sino', 3), ('un', 66), ('país', 21), ('empeñado', 1), ('en', 108), ('mejorar', 1), ('su', 21), ('presente', 2), ('y', 163), ('conquistar', 1), ('su', 21), ('futuro.', 3), ('Un', 5), ('país', 21), ('arrojado', 1), ('y', 163), ('audaz,', 1), ('preparado', 1), ('para', 61), ('competir', 1), ('y', 163), ('triunfar,', 1), ('para', 61), ('que', 124), ('esa', 3), ('sea', 5), ('su', 21), ('imagen', 2), ('ante', 2), ('el', 117), ('mundo', 6), ('entero.', 1), ('Un', 5), ('México,', 6), ('como', 11), ('lo', 22), ('he', 3), ('señalado', 1), ('y', 163), ('expresado', 1), ('en', 108), ('reiteradas', 1), ('ocasiones,', 1), ('un', 66), ('México', 46), ('donde', 2), ('cada', 10), ('quien', 2), ('pueda', 1), ('escribir', 1), ('su', 21), ('propia', 1), ('historia', 6), ('de', 347), ('éxito', 1), ('y', 163), ('sea', 5), ('feliz.', 1), ('Un', 5), ('México', 46), ('así,', 1), ('es', 34), ('alcanzable,', 1), ('porque', 3), ('depende', 1), ('de', 347), ('nosotros,', 1), ('de', 347), ('cada', 10), ('uno', 3), ('y', 163), ('de', 347), ('todos.', 4), ('En', 20), ('la', 179), ('vida', 6), ('de', 347), ('un', 66), ('país,', 3), ('seis', 3), ('años', 2), ('son', 8), ('un', 66), ('periodo', 1), ('corto,', 1), ('pero', 5), ('dos', 4), ('mil', 1), ('191', 1), ('días', 5), ('son', 8), ('suficientes', 1), ('para', 61), ('sentar', 1), ('las', 55), ('bases', 3), ('de', 347), ('lo', 22), ('que', 124), ('desde', 6), ('ahora', 2), ('debe', 6), ('ser', 11), ('nuestra', 18), ('meta:', 1), ('Hacer', 2), ('de', 347), ('México', 46), ('un', 66), ('país', 21), ('próspero,', 1), ('de', 347), ('oportunidades', 3), ('y', 163), ('de', 347), ('bienestar', 1), ('para', 61), ('todos.', 4), ('Las', 3), ('naciones', 4), ('desarrolladas,', 1), ('en', 108), ('algún', 1), ('momento', 4), ('de', 347), ('su', 21), ('historia,', 1), ('decidieron', 1), ('dar', 3), ('un', 66), ('gran', 9), ('paso.', 2), ('Hoy,', 5), ('toca', 1), ('a', 113), ('los', 83), ('mexicanos', 17), ('dar', 3), ('ese', 1), ('gran', 9), ('paso.', 2), ('Todo', 1), ('cambio', 2), ('profundo', 1), ('es', 34), ('resultado', 1), ('de', 347), ('creer,', 1), ('de', 347), ('creer', 3), ('en', 108), ('lo', 22), ('que', 124), ('hacemos,', 1), ('de', 347), ('creer', 3), ('en', 108), ('lo', 22), ('que', 124), ('somos,', 1), ('de', 347), ('creer', 3), ('en', 108), ('nosotros', 3), ('mismos,', 1), ('de', 347), ('tener', 4), ('confianza', 1), ('en', 108), ('lo', 22), ('que', 124), ('podemos,', 1), ('en', 108), ('lo', 22), ('que', 124), ('somos', 3), ('y', 163), ('podemos', 5), ('ser.', 2), ('Por', 9), ('eso,', 5), ('convoco', 1), ('hoy', 7), ('a', 113), ('todos', 21), ('los', 83), ('mexicanos,', 3), ('a', 113), ('las', 55), ('mujeres', 3), ('y', 163), ('a', 113), ('los', 83), ('hombres,', 2), ('de', 347), ('todas', 8), ('las', 55), ('regiones', 2), ('y', 163), ('de', 347), ('todas', 8), ('las', 55), ('edades,', 1), ('de', 347), ('todos', 21), ('los', 83), ('orígenes,', 1), ('a', 113), ('ser', 11), ('parte', 4), ('de', 347), ('esta', 12), ('gran', 9), ('trasformación.', 1), ('Transformar', 2), ('a', 113), ('México', 46), ('significa', 1), ('vencer', 1), ('los', 83), ('rezagos.', 1), ('Transformar', 2), ('a', 113), ('México', 46), ('implica', 1), ('mover', 2), ('todo', 6), ('lo', 22), ('que', 124), ('se', 29), ('tenga', 2), ('que', 124), ('mover:', 1), ('la', 179), ('gente,', 2), ('la', 179), ('mentalidad,', 1), ('las', 55), ('instituciones.', 1), ('Hay', 4), ('que', 124), ('transformar', 2), ('a', 113), ('México,', 6), ('para', 61), ('que', 124), ('cuando', 1), ('nuestros', 6), ('hijos', 2), ('crezcan,', 1), ('disfruten', 1), ('de', 347), ('un', 66), ('país', 21), ('más', 7), ('grande', 1), ('y', 163), ('mejor', 3), ('del', 41), ('que', 124), ('hoy', 7), ('tenemos.', 1), ('Seamos,', 1), ('todos,', 1), ('parte', 4), ('del', 41), ('México', 46), ('que', 124), ('no', 18), ('le', 1), ('tiene', 4), ('miedo', 1), ('a', 113), ('la', 179), ('transformación,', 1), ('del', 41), ('México', 46), ('dispuesto', 3), ('a', 113), ('trascender', 1), ('y', 163), ('a', 113), ('dejar', 1), ('huella.', 1), ('Nuestro', 2), ('país,', 3), ('nuestra', 18), ('Nación,', 2), ('necesita', 2), ('de', 347), ('todos.', 4), ('El', 13), ('país', 21), ('se', 29), ('construye', 1), ('todos', 21), ('los', 83), ('días.', 2), ('En', 20), ('cada', 10), ('instante,', 1), ('en', 108), ('cada', 10), ('lugar,', 1), ('se', 29), ('va', 1), ('haciendo', 1), ('y', 163), ('construyendo', 1), ('México.', 9), ('Trabajemos', 1), ('con', 44), ('determinación,', 1), ('con', 44), ('audacia', 1), ('y', 163), ('con', 44), ('pasión.', 1), ('Con', 6), ('la', 179), ('mirada', 1), ('puesta', 1), ('en', 108), ('el', 117), ('futuro.', 3), ('Es', 9), ('tiempo', 5), ('de', 347), ('mover', 2), ('a', 113), ('México.', 9), ('Seamos', 1), ('parte', 4), ('de', 347), ('la', 179), ('generación', 2), ('que', 124), ('logre', 1), ('la', 179), ('transformación', 4), ('nacional.', 6), ('Vienen,', 1), ('de', 347), ('eso', 1), ('estoy', 1), ('convencido,', 1), ('mejores', 5), ('tiempos', 1), ('para', 61), ('todos', 21), ('los', 83), ('mexicanos.', 9), ('Porque', 1), ('éste,', 1), ('éste', 1), ('es', 34), ('el', 117), ('momento', 4), ('de', 347), ('México.', 9), ('Muchas', 4), ('gracias.', 1)]\n"
     ]
    }
   ],
   "source": [
    "print(\"Pares\\n\" + str(list(zip(palabras, frecuenciaPalab))))"
   ]
  },
  {
   "cell_type": "markdown",
   "metadata": {},
   "source": [
    "Esto que acabamos de realizar aún es muy básico ya que encontramos posibles palabras que podríamos evitar o unir con más. Por ejemplo: \"Nación.\" es tomada en cuenta explicitamente como esta escrita, por lo tanto \"nación\" se cuenta diferente. "
   ]
  },
  {
   "cell_type": "code",
   "execution_count": null,
   "metadata": {},
   "outputs": [],
   "source": [
    "Ahora solo nos enfocaremos en las letras "
   ]
  },
  {
   "cell_type": "code",
   "execution_count": 27,
   "metadata": {},
   "outputs": [],
   "source": [
    "palabras = texto\n",
    "lista=list(texto)\n",
    "conjunto=set(lista)"
   ]
  },
  {
   "cell_type": "code",
   "execution_count": 28,
   "metadata": {},
   "outputs": [
    {
     "name": "stdout",
     "output_type": "stream",
     "text": [
      "{'r', '4', 'V', 'C', 'm', 'Z', 'd', '0', '8', 'e', 'ñ', 'E', 'h', 'É', 'v', '5', 'l', '2', 'G', 'X', 'í', 'O', 'M', 'é', 'z', '3', 'J', 'a', '\\n', ':', 'T', '.', 'n', '7', 'c', 's', 'o', 'ó', 'u', 'g', 'K', 't', 'á', 'P', ' ', 'y', 'Q', 'U', 'I', '9', 'ú', 'x', 'q', 'D', 'N', '-', 'i', 'S', ',', 'H', 'B', 'L', 'f', 'b', '6', 'p', 'Y', ';', 'A', 'F', 'R', '1', 'j'}\n"
     ]
    }
   ],
   "source": [
    "print(conjunto)"
   ]
  },
  {
   "cell_type": "code",
   "execution_count": 30,
   "metadata": {},
   "outputs": [
    {
     "data": {
      "text/plain": [
       "73"
      ]
     },
     "execution_count": 30,
     "metadata": {},
     "output_type": "execute_result"
    }
   ],
   "source": [
    "len(conjunto)"
   ]
  },
  {
   "cell_type": "code",
   "execution_count": 31,
   "metadata": {},
   "outputs": [
    {
     "data": {
      "text/plain": [
       "[2613, 3022, 1619, 2150, 813]"
      ]
     },
     "execution_count": 31,
     "metadata": {},
     "output_type": "execute_result"
    }
   ],
   "source": [
    "[lista.count(letra)for letra in [\"a\",\"e\",\"i\",\"o\",\"u\"]]"
   ]
  },
  {
   "cell_type": "code",
   "execution_count": 32,
   "metadata": {},
   "outputs": [],
   "source": [
    "conjtupla=[(letra,lista.count(letra))for letra in conjunto]"
   ]
  },
  {
   "cell_type": "code",
   "execution_count": 34,
   "metadata": {},
   "outputs": [],
   "source": [
    "dic={}\n",
    "for tupla in conjtupla:\n",
    "    dic[tupla[0]]=tupla[1]"
   ]
  },
  {
   "cell_type": "code",
   "execution_count": 36,
   "metadata": {},
   "outputs": [
    {
     "name": "stdout",
     "output_type": "stream",
     "text": [
      "{'r': 1709, '4': 1, 'V': 8, 'C': 51, 'm': 657, 'Z': 1, 'd': 1245, '0': 12, '8': 3, 'e': 3022, 'ñ': 34, 'E': 93, 'h': 144, 'É': 3, 'v': 201, '5': 1, 'l': 1167, '2': 11, 'G': 45, 'X': 14, 'í': 118, 'O': 1, 'M': 89, 'é': 119, 'z': 70, '3': 10, 'J': 14, 'a': 2613, '\\n': 328, ':': 10, 'T': 17, '.': 270, 'n': 1617, '7': 2, 'c': 1136, 's': 1850, 'o': 2150, 'ó': 168, 'u': 813, 'g': 231, 'K': 1, 't': 1022, 'á': 86, 'P': 67, ' ': 4542, 'y': 248, 'Q': 7, 'U': 16, 'I': 11, '9': 3, 'ú': 27, 'x': 119, 'q': 159, 'D': 33, 'N': 21, '-': 4, 'i': 1619, 'S': 65, ',': 412, 'H': 33, 'B': 1, 'L': 30, 'f': 151, 'b': 265, '6': 3, 'p': 603, 'Y': 6, ';': 5, 'A': 27, 'F': 14, 'R': 17, '1': 14, 'j': 96}\n"
     ]
    }
   ],
   "source": [
    "print(dic)"
   ]
  },
  {
   "cell_type": "code",
   "execution_count": null,
   "metadata": {},
   "outputs": [],
   "source": []
  },
  {
   "cell_type": "markdown",
   "metadata": {},
   "source": [
    "## Ejercicio 2 \n",
    "\n",
    "Las cantidades dadas en el archivo de texto inflac.txt indican la tasa de inflación mensual^, es decir,\n",
    "una medida de la tasa de cambio mensual de los precios para el periodo de diciembre de 2005 a junio\n",
    "de 2018; nótese que las cantidades están ordenadas según los meses sucesivos de este periodo\n",
    "indicado.\n",
    "Por ejemplo, el porcentaje de incremento del precio del terreno durante el mes de diciembre de 2005\n",
    "fue 0.59 %, lo cual significa un incremento de valor en este mes de 0.0059; es decir, durante ese mes el\n",
    "terreno cambió su valor en un factor de 1.0059.\n",
    "a) Define una sucesión con las tasas dadas,\n",
    "¿Cuáles son los valores máximo y mínimo de las tasas?\n",
    "b) -Define una lista con las tasas ordenadas de manera descendente.\n",
    "c) Si un terreno estaba valuado en $60,000 (sesenta mil pesos M.N.) al final de noviembre\n",
    "de 2005, incrementándose, o disminuyéndose, el valor en cada uno de los meses\n",
    "siguientes durante varios años, según la tasa de cambio y hasta junio de 2018,\n",
    "¿Qué valor tenía el terreno al final de junio de 2018 después de varios años?"
   ]
  },
  {
   "cell_type": "code",
   "execution_count": 49,
   "metadata": {},
   "outputs": [],
   "source": [
    "archivo=open(\"infla.txt\",\"r\")"
   ]
  },
  {
   "cell_type": "code",
   "execution_count": 50,
   "metadata": {},
   "outputs": [
    {
     "name": "stdout",
     "output_type": "stream",
     "text": [
      "minimo:  -0.01\n",
      "maximo:  1.7\n",
      "max: 1.7\n"
     ]
    }
   ],
   "source": [
    "inflacion=archivo.read().split(\", \")\n",
    "inflacion.sort()\n",
    "#print(inflacion)\n",
    "print(\"minimo: \",inflacion[0])\n",
    "print(\"maximo: \",inflacion[-1])\n",
    "print(\"max:\" , max(inflacion))"
   ]
  },
  {
   "cell_type": "code",
   "execution_count": 54,
   "metadata": {},
   "outputs": [],
   "source": [
    "inflacion.reverse()\n",
    "inflacion.sort(reverse=True)"
   ]
  },
  {
   "cell_type": "code",
   "execution_count": 58,
   "metadata": {},
   "outputs": [
    {
     "name": "stdout",
     "output_type": "stream",
     "text": [
      "60000\n"
     ]
    }
   ],
   "source": [
    "precio=60000\n",
    "for x in inflacion:\n",
    "    precio=precio*(float(x)/100+1)\n",
    "print(precio)"
   ]
  },
  {
   "cell_type": "code",
   "execution_count": 37,
   "metadata": {},
   "outputs": [],
   "source": [
    "archivo.close()"
   ]
  },
  {
   "cell_type": "code",
   "execution_count": null,
   "metadata": {},
   "outputs": [],
   "source": []
  },
  {
   "cell_type": "code",
   "execution_count": 55,
   "metadata": {},
   "outputs": [
    {
     "name": "stdout",
     "output_type": "stream",
     "text": [
      "['0.59', '0.15', '0.13', '0.15', '-0.45', '0.09', '0.27', '0.51', '1.01', '0.44', '0.52', '0.58', '0.52', '0.28', '0.22', '-0.06', '-0.49', '0.12', '0.42', '0.41', '0.78', '0.39', '0.71', '0.41', '0.46', '0.3', '0.72', '0.23', '-0.11', '0.41', '0.56', '0.58', '0.68', '0.68', '1.14', '0.69', '0.23', '0.22', '0.58', '0.35', '-0.29', '0.18', '0.27', '0.24', '0.5', '0.3', '0.52', '0.41', '1.09', '0.58', '0.71', '-0.32', '-0.63', '-0.03', '0.22', '0.28', '0.52', '0.62', '0.8', '0.5', '0.49', '0.38', '0.19', '-0.01', '-0.74', '0', '0.48', '0.16', '0.25', '0.67', '1.08', '0.82', '0.71', '0.2', '0.06', '-0.31', '-0.32', '0.46', '0.56', '0.3', '0.44', '0.51', '0.68', '0.23', '0.4', '0.49', '0.73', '0.07', '-0.33', '-0.06', '-0.03', '0.28', '0.38', '0.48', '0.93', '0.57', '0.89', '0.25', '0.27', '-0.19', '-0.32', '0.17', '0.28', '0.36', '0.44', '0.55', '0.81', '0.49', '-0.09', '0.19', '0.41', '-0.26', '-0.5', '0.17', '0.15', '0.21', '0.37', '0.51', '0.55', '0.41', '0.38', '0.44', '0.15', '-0.32', '-0.45', '0.11', '0.26', '0.28', '0.61', '0.61', '0.78', '0.46', '1.7', '0.58', '0.61', '0.12', '-0.12', '0.25', '0.38', '0.49', '0.31', '0.63', '1.03', '0.59', '0.53', '0.38', '0.32', '-0.34', '-0.16', '0.39', '0.54']\n",
      "1.7\n",
      "-0.01\n"
     ]
    }
   ],
   "source": [
    "inflacion=open(\"infla.txt\",\"r\")\n",
    "lista=inflacion.read()\n",
    "listasplit=lista.split(\", \")\n",
    "print(listasplit)\n",
    "maximo=max(listasplit)\n",
    "minimo=min(listasplit)\n",
    "print(maximo)\n",
    "print(minimo)"
   ]
  },
  {
   "cell_type": "code",
   "execution_count": 56,
   "metadata": {},
   "outputs": [],
   "source": [
    "listasplit.sort(reverse=False)"
   ]
  },
  {
   "cell_type": "code",
   "execution_count": 57,
   "metadata": {},
   "outputs": [
    {
     "name": "stdout",
     "output_type": "stream",
     "text": [
      "4.145929854856209e+20\n"
     ]
    }
   ],
   "source": [
    "terreno=60000\n",
    "#incremento=[60000*x for x in listasplit]\n",
    "for x in list(range(0,len(listasplit))):\n",
    "    terreno = terreno + (terreno * float(listasplit[x]))\n",
    "print(terreno)"
   ]
  },
  {
   "cell_type": "code",
   "execution_count": null,
   "metadata": {},
   "outputs": [],
   "source": []
  },
  {
   "cell_type": "markdown",
   "metadata": {},
   "source": [
    "## Ejercicio 3"
   ]
  },
  {
   "cell_type": "code",
   "execution_count": 46,
   "metadata": {},
   "outputs": [],
   "source": [
    "archivo2=open(\"tipoUSD.txt\", \"r\")"
   ]
  },
  {
   "cell_type": "code",
   "execution_count": 47,
   "metadata": {},
   "outputs": [],
   "source": [
    "USD=archivo2.read().split(\",\")"
   ]
  },
  {
   "cell_type": "code",
   "execution_count": 48,
   "metadata": {},
   "outputs": [
    {
     "data": {
      "text/plain": [
       "['17.2487',\n",
       " '17.3529',\n",
       " '17.3456',\n",
       " '17.4411',\n",
       " '17.6568',\n",
       " '17.9283',\n",
       " '17.9304',\n",
       " '17.9119',\n",
       " '17.85',\n",
       " '17.9121',\n",
       " '18.2108',\n",
       " '18.2327',\n",
       " '18.1947',\n",
       " '18.608',\n",
       " '18.5084',\n",
       " '18.428',\n",
       " '18.5352',\n",
       " '18.4715',\n",
       " '18.453',\n",
       " '18.2906',\n",
       " '18.1935',\n",
       " '18.4902',\n",
       " '18.4537',\n",
       " '18.1891',\n",
       " '18.3748',\n",
       " '18.6959',\n",
       " '18.7818',\n",
       " '18.8089',\n",
       " '19.1754',\n",
       " '19.0392',\n",
       " '18.8471',\n",
       " '18.8148',\n",
       " '18.3895',\n",
       " '18.1439',\n",
       " '18.2762',\n",
       " '18.0568',\n",
       " '18.1948',\n",
       " '18.2893',\n",
       " '18.168',\n",
       " '18.1706',\n",
       " '18.102',\n",
       " '17.9432',\n",
       " '17.8561',\n",
       " '17.8971',\n",
       " '17.7723',\n",
       " '17.7526',\n",
       " '17.9044',\n",
       " '17.7523',\n",
       " '17.8601',\n",
       " '17.7002',\n",
       " '17.7691',\n",
       " '17.926',\n",
       " '17.9308',\n",
       " '17.4034',\n",
       " '17.2995',\n",
       " '17.3361',\n",
       " '17.5273',\n",
       " '17.461',\n",
       " '17.4015',\n",
       " '17.2509',\n",
       " '17.237',\n",
       " '17.3338',\n",
       " '17.4484',\n",
       " '17.7252',\n",
       " '17.7286',\n",
       " '17.893',\n",
       " '17.7391',\n",
       " '17.6452',\n",
       " '17.5719',\n",
       " '17.49',\n",
       " '17.388',\n",
       " '17.5669',\n",
       " '17.4598',\n",
       " '17.2825',\n",
       " '17.3078',\n",
       " '17.4202',\n",
       " '17.4359',\n",
       " '17.5866',\n",
       " '17.4298',\n",
       " '17.3993',\n",
       " '17.2125',\n",
       " '17.1767',\n",
       " '17.2279',\n",
       " '17.5234',\n",
       " '17.7358',\n",
       " '17.7866',\n",
       " '17.9204',\n",
       " '18.1033',\n",
       " '18.0205',\n",
       " '17.9549',\n",
       " '17.9915',\n",
       " '18.1562',\n",
       " '18.1795',\n",
       " '18.3217',\n",
       " '18.3761',\n",
       " '18.5465',\n",
       " '18.3826',\n",
       " '18.4444',\n",
       " '18.4694',\n",
       " '18.452',\n",
       " '18.4572',\n",
       " '18.4527',\n",
       " '18.4777',\n",
       " '18.4118',\n",
       " '18.5299',\n",
       " '18.6097',\n",
       " '18.6283',\n",
       " '18.5889',\n",
       " '18.5067',\n",
       " '18.1491',\n",
       " '18.2742',\n",
       " '18.5046',\n",
       " '18.7915',\n",
       " '18.9814',\n",
       " '18.8672',\n",
       " '18.9968',\n",
       " '18.8527',\n",
       " '18.6559',\n",
       " '18.6444',\n",
       " '18.5325',\n",
       " '18.3207',\n",
       " '18.8716',\n",
       " '19.1283',\n",
       " '18.9113',\n",
       " '18.555',\n",
       " '18.4646',\n",
       " '18.309',\n",
       " '18.3858',\n",
       " '18.7536',\n",
       " '18.8161',\n",
       " '18.8607',\n",
       " '18.5991',\n",
       " '18.4597',\n",
       " '18.3006',\n",
       " '18.3937',\n",
       " '18.3061',\n",
       " '18.492',\n",
       " '18.4879',\n",
       " '18.5719',\n",
       " '18.5729',\n",
       " '18.6022',\n",
       " '18.6089',\n",
       " '18.7569',\n",
       " '18.8114',\n",
       " '18.8602',\n",
       " '18.8979',\n",
       " '18.7837',\n",
       " '18.8504',\n",
       " '18.8966',\n",
       " '18.9117',\n",
       " '18.8612',\n",
       " '18.8691',\n",
       " '18.5716',\n",
       " '18.3842',\n",
       " '18.3479',\n",
       " '18.2678',\n",
       " '18.2455',\n",
       " '18.0363',\n",
       " '17.9869',\n",
       " '18.2598',\n",
       " '18.0832',\n",
       " '18.2674',\n",
       " '18.3023',\n",
       " '18.3202',\n",
       " '18.4971',\n",
       " '18.446',\n",
       " '18.283',\n",
       " '18.5773',\n",
       " '18.7953',\n",
       " '18.8611',\n",
       " '18.8523',\n",
       " '18.6589',\n",
       " '18.5581',\n",
       " '18.3524',\n",
       " '18.3689',\n",
       " '18.5427',\n",
       " '18.8451',\n",
       " '19.0646',\n",
       " '19.152',\n",
       " '19.2275',\n",
       " '19.2514',\n",
       " '19.6097',\n",
       " '19.777',\n",
       " '19.8394',\n",
       " '19.5965',\n",
       " '19.7211',\n",
       " '19.8322',\n",
       " '19.5044',\n",
       " '19.5002',\n",
       " '19.4086',\n",
       " '19.3776',\n",
       " '19.3211',\n",
       " '19.2138',\n",
       " '19.2554',\n",
       " '19.2433',\n",
       " '19.2994',\n",
       " '18.8786',\n",
       " '18.9531',\n",
       " '18.9622',\n",
       " '19.0399',\n",
       " '19.0046',\n",
       " '18.8723',\n",
       " '18.6726',\n",
       " '18.5894',\n",
       " '18.5945',\n",
       " '18.6481',\n",
       " '18.5658',\n",
       " '18.5147',\n",
       " '18.6485',\n",
       " '18.8443',\n",
       " '18.7304',\n",
       " '18.8887',\n",
       " '19.1306',\n",
       " '19.2014',\n",
       " '19.0792',\n",
       " '18.6192',\n",
       " '18.5089',\n",
       " '19.925',\n",
       " '20.4812',\n",
       " '21.0511',\n",
       " '20.8729',\n",
       " '20.349',\n",
       " '20.2884',\n",
       " '20.1898',\n",
       " '20.4193',\n",
       " '20.5205',\n",
       " '20.6901',\n",
       " '20.7051',\n",
       " '20.6475',\n",
       " '20.5521',\n",
       " '20.6225',\n",
       " '20.5155',\n",
       " '20.7488',\n",
       " '20.6149',\n",
       " '20.5927',\n",
       " '20.3863',\n",
       " '20.2967',\n",
       " '20.4162',\n",
       " '20.3305',\n",
       " '20.2567',\n",
       " '20.2226',\n",
       " '20.5973',\n",
       " '20.428',\n",
       " '20.4098',\n",
       " '20.43',\n",
       " '20.4921',\n",
       " '20.7179',\n",
       " '20.6271',\n",
       " '20.6445',\n",
       " '20.7052',\n",
       " '20.7314',\n",
       " '20.664',\n",
       " '20.6194',\n",
       " '20.7323',\n",
       " '20.852',\n",
       " '21.3799',\n",
       " '21.3661',\n",
       " '21.3144',\n",
       " '21.3219',\n",
       " '21.6168',\n",
       " '21.9076',\n",
       " '21.7204']"
      ]
     },
     "execution_count": 48,
     "metadata": {},
     "output_type": "execute_result"
    }
   ],
   "source": [
    "USD"
   ]
  },
  {
   "cell_type": "code",
   "execution_count": 64,
   "metadata": {},
   "outputs": [
    {
     "name": "stdout",
     "output_type": "stream",
     "text": [
      "Using matplotlib backend: MacOSX\n",
      "Populating the interactive namespace from numpy and matplotlib\n"
     ]
    }
   ],
   "source": [
    "USD=[float(x) for x in USD]\n",
    "%pylab\n",
    "promedio=mean(USD)"
   ]
  },
  {
   "cell_type": "code",
   "execution_count": 65,
   "metadata": {},
   "outputs": [],
   "source": [
    "import statistics\n",
    "DE=statistics.stdev(USD)"
   ]
  },
  {
   "cell_type": "code",
   "execution_count": 66,
   "metadata": {},
   "outputs": [],
   "source": [
    "contador=0\n",
    "for x in USD:\n",
    "    if promedio-DE<x and x<promedio+DE:\n",
    "        contador=contador+1\n",
    "        \n",
    "proporcion=contador/len(USD)\n",
    "    "
   ]
  },
  {
   "cell_type": "code",
   "execution_count": 67,
   "metadata": {},
   "outputs": [
    {
     "name": "stdout",
     "output_type": "stream",
     "text": [
      "0.6870229007633588\n"
     ]
    }
   ],
   "source": [
    "print(proporcion)"
   ]
  },
  {
   "cell_type": "code",
   "execution_count": 68,
   "metadata": {},
   "outputs": [],
   "source": [
    "archivo2.close()"
   ]
  },
  {
   "cell_type": "code",
   "execution_count": 69,
   "metadata": {},
   "outputs": [],
   "source": [
    "def tasai (preciopasado,precioactual):\n",
    "    return precioactual/preciopasado-1"
   ]
  },
  {
   "cell_type": "code",
   "execution_count": 70,
   "metadata": {},
   "outputs": [
    {
     "data": {
      "text/plain": [
       "-0.09090909090909094"
      ]
     },
     "execution_count": 70,
     "metadata": {},
     "output_type": "execute_result"
    }
   ],
   "source": [
    "tasai(1.1,1)"
   ]
  },
  {
   "cell_type": "code",
   "execution_count": 72,
   "metadata": {},
   "outputs": [],
   "source": [
    "def tasam (listaprecios):\n",
    "    formula=[tasai(listaprecios[n-1],listaprecios[n]) for n in range (1,len(listaprecios))]\n",
    "    return sum(formula)/(len(formula)-1)"
   ]
  },
  {
   "cell_type": "code",
   "execution_count": 73,
   "metadata": {},
   "outputs": [],
   "source": [
    "a=[7,100,54,13,0]\n",
    "b=[1,10,99,50,1000]"
   ]
  },
  {
   "cell_type": "code",
   "execution_count": 78,
   "metadata": {},
   "outputs": [],
   "source": [
    "def encuentraParesImpares (a,b):\n",
    "    c=a+b\n",
    "    pares=[]\n",
    "    impares=[]\n",
    "    for x in c:\n",
    "        if x%2==0:\n",
    "            pares.append(x)\n",
    "        else:\n",
    "            impares.append(x)\n",
    "    return(pares,impares)\n",
    "    "
   ]
  },
  {
   "cell_type": "code",
   "execution_count": 79,
   "metadata": {},
   "outputs": [
    {
     "data": {
      "text/plain": [
       "([100, 54, 0, 10, 50, 1000], [7, 13, 1, 99])"
      ]
     },
     "execution_count": 79,
     "metadata": {},
     "output_type": "execute_result"
    }
   ],
   "source": [
    "encuentraParesImpares(a,b)"
   ]
  },
  {
   "cell_type": "markdown",
   "metadata": {},
   "source": [
    "## Ejercicio 4\n",
    "\n",
    "En el archivo de texto sorJ.txt con el poema Sentimientos de Ausente de Sor Juana Inés de la Cruz. Note\n",
    "que se define un identificador con el texto del poema y las triples comillas permiten definir un texto\n",
    "escrito sobre varias líneas. Ejecute la instrucción y lleve a cabo lo que se pide a continuación:\n",
    "a. Obtenga e imprima el conjunto de símbolos cualesquiera y usados para escribir el poema. A\n",
    "este conjunto pertenecen los siguientes símbolos: letras mayúsculas y minúsculas, espacio,\n",
    "cambios de renglón, signos de puntuación, etc., los llamados símbolos tipográficos.\n",
    "b. Calcule la cantidad de símbolos del conjunto encontrado.\n",
    "c. Calcule e imprima la cantidad de veces que aparecen las cinco vocales (minúsculas y sin acento)\n",
    "en el poema de Sor Juana.\n",
    "d. Calcule la cantidad de veces que aparecen cada uno de los símbolos del conjunto obtenido en\n",
    "a). Muestre el resultado de dos maneras:\n",
    "i. con una tupla de parejas ordenadas de la forma, (símbolo,frecuencia);\n",
    "ii. con un diccionario cuyas llaves sean los símbolos y cuyos valores sean las\n",
    "frecuencias."
   ]
  },
  {
   "cell_type": "code",
   "execution_count": 38,
   "metadata": {},
   "outputs": [
    {
     "name": "stdout",
     "output_type": "stream",
     "text": [
      "253\n",
      "285\n",
      "145\n",
      "181\n",
      "94\n"
     ]
    }
   ],
   "source": [
    "texto=open(\"poema.txt\",\"r\")\n",
    "poema=texto.read()\n",
    "poema.split()\n",
    "poemaset=set(poema)\n",
    "len(poemaset)\n",
    "poemalista=list(poemaset)\n",
    "a=poema.count(\"a\")\n",
    "b=poema.count(\"e\")\n",
    "c=poema.count(\"i\")\n",
    "d=poema.count(\"o\")\n",
    "e=poema.count(\"u\")\n",
    "print(a)\n",
    "print(b)\n",
    "print(c)\n",
    "print(d)\n",
    "print(e)"
   ]
  },
  {
   "cell_type": "code",
   "execution_count": 39,
   "metadata": {},
   "outputs": [
    {
     "name": "stdout",
     "output_type": "stream",
     "text": [
      "(114, 'r')\n",
      "(3, 'V')\n",
      "(6, 'C')\n",
      "(7, '¿')\n",
      "(81, 'm')\n",
      "(119, 'd')\n",
      "(7, '?')\n",
      "(5, 'E')\n",
      "(3, 'ñ')\n",
      "(285, 'e')\n",
      "(11, 'h')\n",
      "(1, 'É')\n",
      "(31, 'v')\n",
      "(126, 'l')\n",
      "(1, 'G')\n",
      "(10, 'í')\n",
      "(3, 'M')\n",
      "(9, 'é')\n",
      "(19, 'z')\n",
      "(3, 'T')\n",
      "(253, 'a')\n",
      "(103, '\\n')\n",
      "(12, '.')\n",
      "(134, 'n')\n",
      "(70, 'c')\n",
      "(160, 's')\n",
      "(181, 'o')\n",
      "(2, 'ó')\n",
      "(94, 'u')\n",
      "(24, 'g')\n",
      "(94, 't')\n",
      "(17, 'á')\n",
      "(2, 'Ó')\n",
      "(2, 'P')\n",
      "(430, ' ')\n",
      "(9, 'Q')\n",
      "(22, 'y')\n",
      "(1, '¡')\n",
      "(19, 'q')\n",
      "(1, 'x')\n",
      "(3, 'D')\n",
      "(2, 'N')\n",
      "(54, ',')\n",
      "(145, 'i')\n",
      "(14, 'S')\n",
      "(1, 'H')\n",
      "(1, 'B')\n",
      "(3, 'L')\n",
      "(1, '!')\n",
      "(13, 'f')\n",
      "(19, 'b')\n",
      "(9, 'Y')\n",
      "(40, 'p')\n",
      "(5, ';')\n",
      "(6, 'A')\n",
      "(1, 'F')\n",
      "(1, 'R')\n",
      "(15, 'j')\n"
     ]
    }
   ],
   "source": [
    "for x in poemalista:\n",
    "    contador=poema.count(x)\n",
    "    print ( (contador,x) )"
   ]
  },
  {
   "cell_type": "code",
   "execution_count": 40,
   "metadata": {},
   "outputs": [
    {
     "name": "stdout",
     "output_type": "stream",
     "text": [
      "{'r': 114, 'V': 3, 'C': 6, '¿': 7, 'm': 81, 'd': 119, '?': 7, 'E': 5, 'ñ': 3, 'e': 285, 'h': 11, 'É': 1, 'v': 31, 'l': 126, 'G': 1, 'í': 10, 'M': 3, 'é': 9, 'z': 19, 'T': 3, 'a': 253, '\\n': 103, '.': 12, 'n': 134, 'c': 70, 's': 160, 'o': 181, 'ó': 2, 'u': 94, 'g': 24, 't': 94, 'á': 17, 'Ó': 2, 'P': 2, ' ': 430, 'Q': 9, 'y': 22, '¡': 1, 'q': 19, 'x': 1, 'D': 3, 'N': 2, ',': 54, 'i': 145, 'S': 14, 'H': 1, 'B': 1, 'L': 3, '!': 1, 'f': 13, 'b': 19, 'Y': 9, 'p': 40, ';': 5, 'A': 6, 'F': 1, 'R': 1, 'j': 15}\n"
     ]
    }
   ],
   "source": [
    "cuentasCarac = {}\n",
    "for x in poemalista:\n",
    "    contador=poema.count(x)\n",
    "    cuentasCarac[x] = contador\n",
    "print(cuentasCarac)"
   ]
  },
  {
   "cell_type": "markdown",
   "metadata": {},
   "source": [
    "## Ejercicio 5\n",
    "\n",
    "Considera los siguientes tres conjuntos de números enteros, positivos, menores a 10,000:\n",
    "* los múltiplos de 9,\n",
    "\n",
    "{9,18,27,...,9999}\n",
    "\n",
    "* los múltiplos de 11,\n",
    "\n",
    "{11,22,33,44,...9999}\n",
    "\n",
    "* los múltiplos de 7,\n",
    "\n",
    "{7,14,21,28,...9996}\n",
    "  \n",
    "Genera los elementos de los conjuntos descritos y asigna nombres apropiados que\n",
    "identifiquen cada conjunto. \n",
    "  \n",
    "* Con los conjuntos definidos anteriormente y operaciones apropiadas contesta lo siguiente:  \n",
    "  \n",
    "a) Encuentra el conjunto de los números que a la vez son múltiplos de 9 y 11, pero que no son múltiplos de 7 (un elemento de este conjunto es el número 99) y responde, ¿Cuántos elementos tiene el conjunto encontrado?\n",
    "\n",
    "b) Encuentra el conjunto de los números que a la vez son múltiplos de 11 y 7, pero que no son múltiplos de 9 (un elemento de este conjunto es el número 77) y responde, ¿Cuántos elementos tiene el conjunto encontrado?\n",
    "\n",
    "c) Encuentra el conjunto de los números que a la vez son múltiplos de 9 y 7, pero que no son múltiplos de 11 (un elemento de este conjunto es el número 63) y responde, ¿Cuántos elementos tiene el conjunto encontrado?"
   ]
  },
  {
   "cell_type": "code",
   "execution_count": null,
   "metadata": {},
   "outputs": [],
   "source": []
  }
 ],
 "metadata": {
  "kernelspec": {
   "display_name": "Python 3",
   "language": "python",
   "name": "python3"
  },
  "language_info": {
   "codemirror_mode": {
    "name": "ipython",
    "version": 3
   },
   "file_extension": ".py",
   "mimetype": "text/x-python",
   "name": "python",
   "nbconvert_exporter": "python",
   "pygments_lexer": "ipython3",
   "version": "3.8.5"
  }
 },
 "nbformat": 4,
 "nbformat_minor": 2
}
