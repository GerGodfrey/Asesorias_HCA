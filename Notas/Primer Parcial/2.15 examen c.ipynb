{
 "cells": [
  {
   "cell_type": "markdown",
   "metadata": {},
   "source": [
    "<img src=\"../../files/logo.png\" width=200>"
   ]
  },
  {
   "cell_type": "markdown",
   "metadata": {},
   "source": [
    "# HCA Examen Python\n"
   ]
  },
  {
   "cell_type": "markdown",
   "metadata": {},
   "source": [
    "## Pregunta 1"
   ]
  },
  {
   "cell_type": "markdown",
   "metadata": {},
   "source": [
    "Sin correr el programa define si el resultado será True o False"
   ]
  },
  {
   "cell_type": "code",
   "execution_count": 1,
   "metadata": {},
   "outputs": [
    {
     "data": {
      "text/plain": [
       "False"
      ]
     },
     "execution_count": 1,
     "metadata": {},
     "output_type": "execute_result"
    }
   ],
   "source": [
    "(10**2)/2 >= 32 and \"H0la\" == \"H0la\" and [1,2,3] == [3,2,1]"
   ]
  },
  {
   "cell_type": "code",
   "execution_count": null,
   "metadata": {},
   "outputs": [],
   "source": [
    "T T F - > F "
   ]
  },
  {
   "cell_type": "markdown",
   "metadata": {},
   "source": [
    "## Pregunta 2"
   ]
  },
  {
   "cell_type": "markdown",
   "metadata": {},
   "source": [
    "Determina una función para calcular el Retorno de inversión (ROI) \n",
    "* Fórmula ROI:  $ {(v_f - v_i)/v_i} $\n",
    "Y pruébala con los siguientes datos : \n",
    "\n",
    "- nombre_funcion(1000,2000) = 1.0\n",
    "- nombre_funcion (3000,1500) = -0.5\n"
   ]
  },
  {
   "cell_type": "code",
   "execution_count": 4,
   "metadata": {},
   "outputs": [],
   "source": [
    "def fun_roi(vi,vf):\n",
    "    res = (vf-vi)/vi\n",
    "    return res "
   ]
  },
  {
   "cell_type": "code",
   "execution_count": 5,
   "metadata": {},
   "outputs": [
    {
     "data": {
      "text/plain": [
       "1.0"
      ]
     },
     "execution_count": 5,
     "metadata": {},
     "output_type": "execute_result"
    }
   ],
   "source": [
    "fun_roi(1000,2000)"
   ]
  },
  {
   "cell_type": "code",
   "execution_count": 6,
   "metadata": {},
   "outputs": [
    {
     "data": {
      "text/plain": [
       "-0.5"
      ]
     },
     "execution_count": 6,
     "metadata": {},
     "output_type": "execute_result"
    }
   ],
   "source": [
    "fun_roi(3000,1500)"
   ]
  },
  {
   "cell_type": "markdown",
   "metadata": {},
   "source": [
    "## Pregunta 3"
   ]
  },
  {
   "cell_type": "markdown",
   "metadata": {},
   "source": [
    "La taquería de la esquina nos ha pedido laborar un programa para facilitar el cálculo de la cuenta. \n",
    "Debemos definir los siguientes precios individuales: \n",
    "\n",
    "    * Tipo de taco : S para chico $25 , D mediano $40 , T grande $50\n",
    "  \n",
    "    * Con queso $10, Sin queso $0 \n",
    "    \n",
    "    * Orden de cebolla $30 , Sin orden de cebolla $0 \n",
    "    \n",
    "    * Refresco $20, Agua $15 , Nada $0\n",
    "    \n",
    "    * Pago con tarjeta aumentará 3% más\n",
    "    "
   ]
  },
  {
   "cell_type": "code",
   "execution_count": 16,
   "metadata": {},
   "outputs": [
    {
     "name": "stdout",
     "output_type": "stream",
     "text": [
      "que tipo de taco quieres? (s,d,t)d\n",
      "----------------------------------------\n",
      "¿Con queso? (si,no)n\n",
      "----------------------------------------\n",
      "¿Quieres orden de cebollas? (si,no)s\n",
      "----------------------------------------\n",
      "Quieres refresco,agua o nada ? (r,a,n)a\n",
      "----------------------------------------\n",
      "¿Pagaras con tarjeta? (si,no)s\n",
      "La cuenta es de:  87.55\n"
     ]
    }
   ],
   "source": [
    "cuenta = 0 \n",
    "\n",
    "a = input (\"que tipo de taco quieres? (s,d,t)\")\n",
    "if a ==\"s\" or a == \"S\" : \n",
    "    cuenta = cuenta + 25\n",
    "elif a ==\"d\" or a == \"D\" :\n",
    "    cuenta = cuenta + 40 \n",
    "elif a == \"t\" or a == \"T\" : \n",
    "    cuenta = cuenta + 50 \n",
    "else: \n",
    "    cuenta = \"error\"\n",
    "    print(\"cuenta\")\n",
    "    \n",
    "print(\"----------------------------------------\")\n",
    "b = input (\"¿Con queso? (si,no)\")\n",
    "if b == \"s\" or b==\"si\" or b==\"sí\":\n",
    "    cuenta = cuenta + 10 \n",
    "elif b == \"n\" or b == \"no\" : \n",
    "    cuenta = cuenta \n",
    "else: \n",
    "    cuenta = \"error\"\n",
    "    print(\"cuenta\")\n",
    "    \n",
    "print(\"----------------------------------------\")\n",
    "c = input (\"¿Quieres orden de cebollas? (si,no)\")\n",
    "if c == \"s\" or c==\"si\" or c==\"sí\":\n",
    "    cuenta = cuenta + 30\n",
    "elif c == \"n\" or c == \"no\" : \n",
    "    cuenta = cuenta \n",
    "else: \n",
    "    cuenta = \"error\"\n",
    "    print(\"cuenta\")\n",
    "print(\"----------------------------------------\")\n",
    "\n",
    "d = input (\"Quieres refresco,agua o nada ? (r,a,n)\")\n",
    "if d ==\"r\" or d == \"R\" : \n",
    "    cuenta = cuenta + 20\n",
    "elif d ==\"a\" or d == \"A\" :\n",
    "    cuenta = cuenta + 15 \n",
    "elif d == \"n\" or d == \"N\" : \n",
    "    cuenta = cuenta\n",
    "else: \n",
    "    cuenta = \"error\"\n",
    "    print(\"cuenta\")\n",
    "print(\"----------------------------------------\")\n",
    "e = input (\"¿Pagaras con tarjeta? (si,no)\")\n",
    "if e == \"sí\" or e == \"s\" or e == \"si\":\n",
    "    cuenta = cuenta + (cuenta * 0.03)\n",
    "elif e == \"no\" or e == \"n\":\n",
    "    cuenta = cuenta \n",
    "else:\n",
    "    cuenta = \"error\"\n",
    "    print(\"cuenta\")\n",
    "\n",
    "\n",
    "print(\"La cuenta es de: \", cuenta)"
   ]
  },
  {
   "cell_type": "markdown",
   "metadata": {},
   "source": [
    "¿Cómo la pasarías a una función?"
   ]
  },
  {
   "cell_type": "markdown",
   "metadata": {},
   "source": [
    "## Pregunta 4"
   ]
  },
  {
   "cell_type": "markdown",
   "metadata": {},
   "source": [
    "Crea los siguientes 2 conjuntos de números enteros, positivos, menores a 5,000:\n",
    "* los múltiplos de 5,\n",
    "{5,10,15,...,}\n",
    "\n",
    "* los múltiplos de 11,\n",
    "{11,22,33,44,...,}\n",
    "\n",
    "* los múltiplis de 12, \n",
    "{12,24,36,...,}"
   ]
  },
  {
   "cell_type": "code",
   "execution_count": 17,
   "metadata": {},
   "outputs": [],
   "source": [
    "conj5 = set(range(5,5000,5))\n",
    "conj11 = set (range(11,5000,11))\n",
    "conj12 = set (range(12,5000,11))"
   ]
  },
  {
   "cell_type": "markdown",
   "metadata": {},
   "source": [
    "¿Cuál es el conjunto de los números que son múltiplos de 5 y de 7 ?\n",
    "¿Cuáles son los múltiplos de 12 que no pertenecen al conjunto de 5 y 7?"
   ]
  },
  {
   "cell_type": "code",
   "execution_count": 21,
   "metadata": {},
   "outputs": [
    {
     "name": "stdout",
     "output_type": "stream",
     "text": [
      "{1540, 3080, 4620, 1045, 2585, 4125, 550, 2090, 3630, 55, 1595, 3135, 4675, 1100, 2640, 4180, 605, 2145, 3685, 110, 1650, 3190, 4730, 1155, 2695, 4235, 660, 2200, 3740, 165, 1705, 3245, 4785, 1210, 2750, 4290, 715, 2255, 3795, 220, 1760, 3300, 4840, 1265, 2805, 4345, 770, 2310, 3850, 275, 1815, 3355, 4895, 1320, 2860, 4400, 825, 2365, 3905, 330, 1870, 3410, 4950, 1375, 2915, 4455, 880, 2420, 3960, 385, 1925, 3465, 1430, 2970, 4510, 935, 2475, 4015, 440, 1980, 3520, 1485, 3025, 4565, 990, 2530, 4070, 495, 2035, 3575}\n",
      "-------\n",
      "{1024, 4104, 3081, 2058, 1035, 12, 3080, 4115, 3092, 2069, 1046, 23, 1045, 4125, 4126, 3103, 2080, 1057, 34, 4137, 3114, 2091, 1068, 45, 2090, 4148, 3125, 2102, 1079, 56, 55, 4159, 3136, 2113, 1090, 67, 3135, 4170, 3147, 2124, 1101, 78, 1100, 4180, 4181, 3158, 2135, 1112, 89, 4192, 3169, 2146, 1123, 100, 2145, 4203, 3180, 2157, 1134, 111, 110, 4214, 3191, 2168, 1145, 122, 3190, 4225, 3202, 2179, 1156, 133, 1155, 4235, 4236, 3213, 2190, 1167, 144, 4247, 3224, 2201, 1178, 155, 2200, 4258, 3235, 2212, 1189, 166, 165, 4269, 3246, 2223, 1200, 177, 3245, 4280, 3257, 2234, 1211, 188, 1210, 4290, 4291, 3268, 2245, 1222, 199, 4302, 3279, 2256, 1233, 210, 2255, 4313, 3290, 2267, 1244, 221, 220, 4324, 3301, 2278, 1255, 232, 3300, 4335, 3312, 2289, 1266, 243, 1265, 4345, 4346, 3323, 2300, 1277, 254, 4357, 3334, 2311, 1288, 265, 2310, 4368, 3345, 2322, 1299, 276, 275, 4379, 3356, 2333, 1310, 287, 3355, 4390, 3367, 2344, 1321, 298, 1320, 4400, 4401, 3378, 2355, 1332, 309, 4412, 3389, 2366, 1343, 320, 2365, 4423, 3400, 2377, 1354, 331, 330, 4434, 3411, 2388, 1365, 342, 3410, 4445, 3422, 2399, 1376, 353, 1375, 4455, 4456, 3433, 2410, 1387, 364, 4467, 3444, 2421, 1398, 375, 2420, 4478, 3455, 2432, 1409, 386, 385, 4489, 3466, 2443, 1420, 397, 3465, 4500, 3477, 2454, 1431, 408, 1430, 4510, 4511, 3488, 2465, 1442, 419, 4522, 3499, 2476, 1453, 430, 2475, 4533, 3510, 2487, 1464, 441, 440, 4544, 3521, 2498, 1475, 452, 3520, 4555, 3532, 2509, 1486, 463, 1485, 4565, 4566, 3543, 2520, 1497, 474, 4577, 3554, 2531, 1508, 485, 2530, 4588, 3565, 2542, 1519, 496, 495, 4599, 3576, 2553, 1530, 507, 3575, 4610, 3587, 2564, 1541, 518, 1540, 4620, 4621, 3598, 2575, 1552, 529, 4632, 3609, 2586, 1563, 540, 2585, 4643, 3620, 2597, 1574, 551, 550, 4654, 3631, 2608, 1585, 562, 3630, 4665, 3642, 2619, 1596, 573, 1595, 4675, 4676, 3653, 2630, 1607, 584, 4687, 3664, 2641, 1618, 595, 2640, 4698, 3675, 2652, 1629, 606, 605, 4709, 3686, 2663, 1640, 617, 3685, 4720, 3697, 2674, 1651, 628, 1650, 4730, 4731, 3708, 2685, 1662, 639, 4742, 3719, 2696, 1673, 650, 2695, 4753, 3730, 2707, 1684, 661, 660, 4764, 3741, 2718, 1695, 672, 3740, 4775, 3752, 2729, 1706, 683, 1705, 4785, 4786, 3763, 2740, 1717, 694, 4797, 3774, 2751, 1728, 705, 2750, 4808, 3785, 2762, 1739, 716, 715, 4819, 3796, 2773, 1750, 727, 3795, 4830, 3807, 2784, 1761, 738, 1760, 4840, 4841, 3818, 2795, 1772, 749, 4852, 3829, 2806, 1783, 760, 2805, 4863, 3840, 2817, 1794, 771, 770, 4874, 3851, 2828, 1805, 782, 3850, 4885, 3862, 2839, 1816, 793, 1815, 4895, 4896, 3873, 2850, 1827, 804, 4907, 3884, 2861, 1838, 815, 2860, 4918, 3895, 2872, 1849, 826, 825, 4929, 3906, 2883, 1860, 837, 3905, 4940, 3917, 2894, 1871, 848, 1870, 4950, 4951, 3928, 2905, 1882, 859, 4962, 3939, 2916, 1893, 870, 2915, 4973, 3950, 2927, 1904, 881, 880, 4984, 3961, 2938, 1915, 892, 3960, 4995, 3972, 2949, 1926, 903, 1925, 3983, 2960, 1937, 914, 3994, 2971, 1948, 925, 2970, 4005, 2982, 1959, 936, 935, 4015, 4016, 2993, 1970, 947, 4027, 3004, 1981, 958, 1980, 4038, 3015, 1992, 969, 4049, 3026, 2003, 980, 3025, 4060, 3037, 2014, 991, 990, 4070, 4071, 3048, 2025, 1002, 4082, 3059, 2036, 1013, 2035, 4093, 3070, 2047}\n"
     ]
    }
   ],
   "source": [
    "c5c11 = (conj5 & conj11)\n",
    "print(c5c11)\n",
    "print(\"-------\")\n",
    "c12_c5c11 = c5c11 ^ conj12 \n",
    "print(c12_c5c11)"
   ]
  },
  {
   "cell_type": "markdown",
   "metadata": {},
   "source": [
    "## Pregunta 5"
   ]
  },
  {
   "cell_type": "markdown",
   "metadata": {},
   "source": [
    "Escribe un programa que multiplique por dos el valor del siguiente diccionario  \n",
    "\n",
    "{\"perros\":2,\"gatos\":5,\"arañas\":9,\"iguanas\":12}"
   ]
  },
  {
   "cell_type": "code",
   "execution_count": 23,
   "metadata": {},
   "outputs": [],
   "source": [
    "an = {\"perros\":2,\"gatos\":5,\"arañas\":9,\"iguanas\":12} "
   ]
  },
  {
   "cell_type": "code",
   "execution_count": 24,
   "metadata": {},
   "outputs": [
    {
     "data": {
      "text/plain": [
       "[4, 10, 18, 24]"
      ]
     },
     "execution_count": 24,
     "metadata": {},
     "output_type": "execute_result"
    }
   ],
   "source": [
    "[x*2 for x in an.values()]"
   ]
  },
  {
   "cell_type": "code",
   "execution_count": null,
   "metadata": {},
   "outputs": [],
   "source": []
  }
 ],
 "metadata": {
  "kernelspec": {
   "display_name": "Python 3",
   "language": "python",
   "name": "python3"
  },
  "language_info": {
   "codemirror_mode": {
    "name": "ipython",
    "version": 3
   },
   "file_extension": ".py",
   "mimetype": "text/x-python",
   "name": "python",
   "nbconvert_exporter": "python",
   "pygments_lexer": "ipython3",
   "version": "3.8.5"
  }
 },
 "nbformat": 4,
 "nbformat_minor": 4
}
