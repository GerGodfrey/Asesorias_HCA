{
 "cells": [
  {
   "cell_type": "markdown",
   "metadata": {},
   "source": [
    "# Funciones recursivas"
   ]
  },
  {
   "cell_type": "markdown",
   "metadata": {},
   "source": [
    "Son funciones pero con la diferencia que se llaman a sí mismas durante su propia ejecución. Debemos de encargarnos de planificar con exactitud la salida o el momento en que dejan de llamarse a sí mismas o tendremos un ciclo infinito.\n"
   ]
  },
  {
   "cell_type": "code",
   "execution_count": 14,
   "metadata": {},
   "outputs": [],
   "source": [
    "def cuenta_regresiva(num):\n",
    "    if num > 0:\n",
    "        print(num)\n",
    "        num =num - 1\n",
    "        cuenta_regresiva(num)\n",
    "    else:\n",
    "        print (\"Boooooooom!\")"
   ]
  },
  {
   "cell_type": "code",
   "execution_count": 15,
   "metadata": {},
   "outputs": [
    {
     "name": "stdout",
     "output_type": "stream",
     "text": [
      "5\n",
      "4\n",
      "3\n",
      "2\n",
      "1\n",
      "Boooooooom!\n"
     ]
    }
   ],
   "source": [
    "cuenta_regresiva(5)"
   ]
  },
  {
   "cell_type": "markdown",
   "metadata": {},
   "source": [
    "Escribe una función que defina el factorial de cualquier número."
   ]
  },
  {
   "cell_type": "code",
   "execution_count": 18,
   "metadata": {},
   "outputs": [],
   "source": [
    "def factorial(numero):\n",
    "    print(\"Valor inicial: \", numero)\n",
    "    if(numero > 1):\n",
    "        numero = numero * factorial(numero-1)\n",
    "    print(\"Valor final: \", numero)\n",
    "    return numero"
   ]
  },
  {
   "cell_type": "code",
   "execution_count": 19,
   "metadata": {},
   "outputs": [
    {
     "name": "stdout",
     "output_type": "stream",
     "text": [
      "Valor inicial:  5\n",
      "Valor inicial:  4\n",
      "Valor inicial:  3\n",
      "Valor inicial:  2\n",
      "Valor inicial:  1\n",
      "Valor final:  1\n",
      "Valor final:  2\n",
      "Valor final:  6\n",
      "Valor final:  24\n",
      "Valor final:  120\n",
      "120\n"
     ]
    }
   ],
   "source": [
    "print(factorial(5))"
   ]
  },
  {
   "cell_type": "markdown",
   "metadata": {},
   "source": [
    "<h2 style=\"color:#d62728\">Ejercicios</h2>"
   ]
  },
  {
   "cell_type": "code",
   "execution_count": null,
   "metadata": {},
   "outputs": [],
   "source": []
  }
 ],
 "metadata": {
  "kernelspec": {
   "display_name": "Python 3",
   "language": "python",
   "name": "python3"
  },
  "language_info": {
   "codemirror_mode": {
    "name": "ipython",
    "version": 3
   },
   "file_extension": ".py",
   "mimetype": "text/x-python",
   "name": "python",
   "nbconvert_exporter": "python",
   "pygments_lexer": "ipython3",
   "version": "3.8.5"
  }
 },
 "nbformat": 4,
 "nbformat_minor": 4
}
