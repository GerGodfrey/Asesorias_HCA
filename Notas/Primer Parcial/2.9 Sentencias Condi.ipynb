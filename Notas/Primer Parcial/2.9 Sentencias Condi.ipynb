{
 "cells": [
  {
   "cell_type": "markdown",
   "metadata": {},
   "source": [
    "<img src=\"../../files/logo.png\" width=200>"
   ]
  },
  {
   "cell_type": "markdown",
   "metadata": {},
   "source": [
    "# Condicionales"
   ]
  },
  {
   "cell_type": "markdown",
   "metadata": {},
   "source": [
    "Hasta ahora solo hemos visto programas cuya sequencia opera de manera lineal. Cada input sigue la misma serie de pasos independientemente de su valor.\n",
    "<img src=\"../../files/lec02/prg01.png\" width=200>\n",
    "\n"
   ]
  },
  {
   "cell_type": "markdown",
   "metadata": {},
   "source": [
    "Los programas, muy comúnmente, no siguen una serie de pasos que regrese al mismo valor. Por ejemplo, al querer hacer *login* en una página de internet.\n",
    "\n",
    "<img src=\"../../files/lec02/prg02.png\" width=400>"
   ]
  },
  {
   "cell_type": "markdown",
   "metadata": {},
   "source": [
    "## Condición *If*"
   ]
  },
  {
   "cell_type": "markdown",
   "metadata": {},
   "source": [
    "La estructura de control `if` permite que un programa ejecute intrucciones específicas si cumple la condición que sea asignada. La sintaxis de la contrucción `if`  es de la siguiente forma:\n",
    "```python\n",
    "if <condicion>:\n",
    "    <expresion>\n",
    "```\n",
    "* La `<condicion>` hace referencia a una operación booleana, es decir, una operación que regrese `True` o `False`.\n",
    "* La `<expresion>` hace referencia a cualquier otro programa valido. Esta se ejectuta solo **sí** el resultado de `<condicion>` resulta `True`."
   ]
  },
  {
   "cell_type": "code",
   "execution_count": 62,
   "metadata": {},
   "outputs": [
    {
     "name": "stdout",
     "output_type": "stream",
     "text": [
      "Esto es verdadero\n",
      "Esto es verdadero\n",
      "Esto es verdadero\n",
      "Esto es verdadero\n"
     ]
    }
   ],
   "source": [
    "# if Básico\n",
    "if True:\n",
    "    print(\"Esto es verdadero\")\n",
    "    print(\"Esto es verdadero\")\n",
    "    print(\"Esto es verdadero\")\n",
    "    \n",
    "print(\"Esto es verdadero\")"
   ]
  },
  {
   "cell_type": "code",
   "execution_count": 60,
   "metadata": {},
   "outputs": [
    {
     "name": "stdout",
     "output_type": "stream",
     "text": [
      "Esto es verdadero\n",
      "Esto es verdadero\n",
      "Esto es verdadero\n",
      "Esto es verdadero\n"
     ]
    }
   ],
   "source": [
    "if not False:\n",
    "    print(\"Esto es verdadero\")\n",
    "    print(\"Esto es verdadero\")\n",
    "    print(\"Esto es verdadero\")\n",
    "    \n",
    "print(\"Esto es verdadero\")"
   ]
  },
  {
   "cell_type": "markdown",
   "metadata": {},
   "source": [
    "Aquí es dónde entra en juego nuestras operaciones con booleanos. "
   ]
  },
  {
   "cell_type": "code",
   "execution_count": 63,
   "metadata": {},
   "outputs": [
    {
     "data": {
      "text/plain": [
       "False"
      ]
     },
     "execution_count": 63,
     "metadata": {},
     "output_type": "execute_result"
    }
   ],
   "source": [
    "3>4 "
   ]
  },
  {
   "cell_type": "code",
   "execution_count": 66,
   "metadata": {},
   "outputs": [
    {
     "data": {
      "text/plain": [
       "False"
      ]
     },
     "execution_count": 66,
     "metadata": {},
     "output_type": "execute_result"
    }
   ],
   "source": [
    "\"Esto es un texto\" != \"Esto es un texto\""
   ]
  },
  {
   "cell_type": "code",
   "execution_count": 68,
   "metadata": {},
   "outputs": [
    {
     "data": {
      "text/plain": [
       "False"
      ]
     },
     "execution_count": 68,
     "metadata": {},
     "output_type": "execute_result"
    }
   ],
   "source": [
    "3 > 4 and \"GG\" == \"GG\""
   ]
  },
  {
   "cell_type": "code",
   "execution_count": 69,
   "metadata": {},
   "outputs": [
    {
     "data": {
      "text/plain": [
       "True"
      ]
     },
     "execution_count": 69,
     "metadata": {},
     "output_type": "execute_result"
    }
   ],
   "source": [
    "3 > 4 or \"GG\" == \"GG\""
   ]
  },
  {
   "cell_type": "markdown",
   "metadata": {},
   "source": [
    "Primer ejemplo, realiza un programa dónde el usuario escriba un número y si es negativo le indiquemos \"¡Le he dicho que escriba un número positivo!\". Al finalizar esto siempre debemos de imprimir el número escrito."
   ]
  },
  {
   "cell_type": "code",
   "execution_count": 74,
   "metadata": {},
   "outputs": [
    {
     "name": "stdout",
     "output_type": "stream",
     "text": [
      "Dame un num: 900\n",
      "Ha escrito el número 900\n"
     ]
    }
   ],
   "source": [
    "# numero < 0 ---> \"¡Le he dicho que escriba un número positivo!\" \n",
    "\n",
    "#Datos dados \n",
    "numero = int(input(\"Dame un num: \"))\n",
    "#Datos calculados \n",
    "if numero<0:\n",
    "    print(\"¡Le he dicho que escriba un número positivo!\")\n",
    "\n",
    "#Fuera del if\n",
    "print(f\"Ha escrito el número {numero}\")"
   ]
  },
  {
   "cell_type": "code",
   "execution_count": 71,
   "metadata": {},
   "outputs": [
    {
     "data": {
      "text/plain": [
       "True"
      ]
     },
     "execution_count": 71,
     "metadata": {},
     "output_type": "execute_result"
    }
   ],
   "source": [
    "-12 < 0 "
   ]
  },
  {
   "cell_type": "markdown",
   "metadata": {},
   "source": [
    "**Ocupando Listas**\n",
    "\n",
    "Dada una lista y un usuario que nos de la persona. Determina si el usuario está o no en la lista. En caso de que sí lo encuentre imprime \"¡Hola, usuario! Eres Bienvenido\".\n",
    "\n",
    "```python\n",
    "\n",
    "lista_usuarios = ['usr186', 'usr203', 'usr919', 'usr989','usr587', 'usr131', 'usr640', 'usr757','usr237']\n",
    "```\n"
   ]
  },
  {
   "cell_type": "code",
   "execution_count": 80,
   "metadata": {},
   "outputs": [
    {
     "name": "stdout",
     "output_type": "stream",
     "text": [
      "Ingresa tu usuario: usr919\n",
      "¡Hola, usuario! Eres Bienvenido\n"
     ]
    }
   ],
   "source": [
    "#Datos dados \n",
    "lista_usuarios = ['usr186', 'usr203', 'usr919', 'usr989','usr587', 'usr131', 'usr640', 'usr757','usr237']\n",
    "usuario = input(\"Ingresa tu usuario: \")\n",
    "\n",
    "#Datos calculados \n",
    "if usuario in lista_usuarios: \n",
    "    print(\"¡Hola, usuario! Eres Bienvenido\")"
   ]
  },
  {
   "cell_type": "code",
   "execution_count": 77,
   "metadata": {},
   "outputs": [
    {
     "data": {
      "text/plain": [
       "False"
      ]
     },
     "execution_count": 77,
     "metadata": {},
     "output_type": "execute_result"
    }
   ],
   "source": [
    "\"h\" in lista_usuarios"
   ]
  },
  {
   "cell_type": "markdown",
   "metadata": {},
   "source": [
    "¿Qué sucede si queremos imprimir los dos casos (cuándo lo encuentra y cuándo no)? "
   ]
  },
  {
   "cell_type": "markdown",
   "metadata": {},
   "source": [
    "## Condición *If Else*"
   ]
  },
  {
   "cell_type": "markdown",
   "metadata": {},
   "source": [
    "La estructura de control `if else` permite que un programa ejecute unas instrucciones cuando se cumple una condición y otras instrucciones cuando **no** se cumple esa condición.La sintaxis de la contrucción `if else`  es de la siguiente forma:\n",
    "```python\n",
    "if <condicion>:\n",
    "    <expresion>\n",
    "else:\n",
    "    <expresion2>\n",
    "```\n",
    "* La `<condicion>` hace referencia a una operación booleana, es decir, una operación que regrese `True` o `False`.\n",
    "* La `<expresion>` hace referencia a cualquier otro programa válido. Esta se ejectuta solo **si** el resultado de `<condicion>` resulta `True`.\n",
    "* La `<expresion2>` hace referencia a cualquier otro programa válido. Esta se ejecuta solo **si** el resultado de la `<condicion>` resulta `False`. "
   ]
  },
  {
   "cell_type": "markdown",
   "metadata": {},
   "source": [
    "Escribir un programa que dado un número que escriba el usuario, determinemos sí es mayor de edad o no"
   ]
  },
  {
   "cell_type": "code",
   "execution_count": 82,
   "metadata": {},
   "outputs": [
    {
     "name": "stdout",
     "output_type": "stream",
     "text": [
      "¿Cuántos años tienes?99\n",
      "Eres mayor de edad\n"
     ]
    }
   ],
   "source": [
    "# Primera forma \n",
    "#datos dados \n",
    "edad = int(input(\"¿Cuántos años tienes?\"))\n",
    "# edad >= 18 Sí -> eres mayor de edad , No -> eres menor \n",
    "if edad >= 18: \n",
    "    print(\"Eres mayor de edad\")\n",
    "else:\n",
    "    print(\"Eres menor de edad\")"
   ]
  },
  {
   "cell_type": "code",
   "execution_count": 83,
   "metadata": {},
   "outputs": [
    {
     "name": "stdout",
     "output_type": "stream",
     "text": [
      "¿Cuántos años tienes?99\n",
      "Eres mayor de edad\n"
     ]
    }
   ],
   "source": [
    "# Segunda forma \n",
    "edad = int(input(\"¿Cuántos años tienes?\"))\n",
    "# edad < 18 --> Eres menor , NO entonces eres mayor \n",
    "if edad < 18:\n",
    "    print(\"Eres menor de edad\")\n",
    "else:\n",
    "    print(\"Eres mayor de edad\")"
   ]
  },
  {
   "cell_type": "markdown",
   "metadata": {},
   "source": [
    "Escribir un programa que dado un número que escriba el usuario, determinemos sí es impar o par"
   ]
  },
  {
   "cell_type": "code",
   "execution_count": 88,
   "metadata": {},
   "outputs": [
    {
     "name": "stdout",
     "output_type": "stream",
     "text": [
      "Dame un numero: 17\n",
      "17 es impar\n"
     ]
    }
   ],
   "source": [
    "#datos dados \n",
    "numero = int(input (\"Dame un numero: \"))\n",
    "if numero % 2: #Si nos da 1 --> no es divisible, pero entrara al if por lo tanto debemos de poner que es impart \n",
    "    print(f\"{numero} es impar\")\n",
    "else:\n",
    "     print(f\"{numero} es par\")"
   ]
  },
  {
   "cell_type": "markdown",
   "metadata": {},
   "source": [
    "El operador residuo resulta ser sorprendentemente útil. Por ejemplo, puede comprobar si un número es divisible entre otro —si x % y es cero, entonces x es divisible entre y. "
   ]
  },
  {
   "cell_type": "code",
   "execution_count": 89,
   "metadata": {},
   "outputs": [
    {
     "data": {
      "text/plain": [
       "1"
      ]
     },
     "execution_count": 89,
     "metadata": {},
     "output_type": "execute_result"
    }
   ],
   "source": [
    "17 % 2"
   ]
  },
  {
   "cell_type": "code",
   "execution_count": 85,
   "metadata": {},
   "outputs": [
    {
     "data": {
      "text/plain": [
       "True"
      ]
     },
     "execution_count": 85,
     "metadata": {},
     "output_type": "execute_result"
    }
   ],
   "source": [
    "True == 1 # Nos implica entrar al if"
   ]
  },
  {
   "cell_type": "code",
   "execution_count": 86,
   "metadata": {},
   "outputs": [
    {
     "data": {
      "text/plain": [
       "True"
      ]
     },
     "execution_count": 86,
     "metadata": {},
     "output_type": "execute_result"
    }
   ],
   "source": [
    "False == 0 #Nos implica no entrar al if "
   ]
  },
  {
   "cell_type": "markdown",
   "metadata": {},
   "source": [
    "## Condición *Elif*"
   ]
  },
  {
   "cell_type": "markdown",
   "metadata": {},
   "source": [
    "En ocasiones es necesario contar con más de dos condiciones"
   ]
  },
  {
   "cell_type": "markdown",
   "metadata": {},
   "source": [
    "La estructura de control `if .. elif .. else` permite encadenar **varias** condiciones. `Elif` solamente es una contracción de `else if`. La sintaxis de la contrucción `if .. elif .. else`  es de la siguiente forma:\n",
    "```python\n",
    "if <condicion>:\n",
    "    <expresion>\n",
    "elif <condicion2>:\n",
    "    <expresion2>\n",
    "else:\n",
    "    <expresion3>  \n",
    "```\n",
    "\n",
    "* La `<condicion>` hace referencia a una operación booleana, es decir, una operación que regrese `True` o `False`.\n",
    "* La `<expresion>` hace referencia a cualquier otro programa válido. Esta se ejectuta solo **si** el resultado de `<condicion>` resulta `True`.\n",
    "* La `<condicion2>` hace referencia a una operación booleana, es decir, una operación que regrese `True` o `False`.Esta se ejecuta solo si el resultado de la `<condicion>` fue negativo.\n",
    "* La `<expresion2>` hace referencia a cualquier otro programa válido. Esta se ejecuta solo **si** el resultado de la `<condicion2>` resulta `True`.\n",
    "* La `<expresion3>` hace referencia a cualquier otro programa válido. Esta se ejecuta solo **si** el resultado de la `<condicion2>` resulta `False`."
   ]
  },
  {
   "cell_type": "markdown",
   "metadata": {},
   "source": [
    "**Ocupando 2 listas** \n",
    "Dadas dos listas pediremos a la persona que nos proporcione su usuario. Determina si el usuario está en la lista bloqueada para notificarle, si el usuario se encuentra en la lista o si simplemente el usuario no ha sido reconocido\n",
    "\n",
    "```python\n",
    "\n",
    "lista_usuarios = ['usr186', 'usr203', 'usr919', 'usr989','usr587', 'usr131', 'usr640', 'usr757','usr237']\n",
    "lista_usuarios_bloqueados = ['usr160', 'usr464', 'usr461','usr737', 'usr835', 'usr491']\n",
    "```\n"
   ]
  },
  {
   "cell_type": "code",
   "execution_count": null,
   "metadata": {},
   "outputs": [],
   "source": [
    "#datos dados\n",
    "lista_usuarios = ['usr186', 'usr203', 'usr919', 'usr989','usr587', 'usr131', 'usr640', 'usr757','usr237']\n",
    "lista_usuarios_bloqueados = ['usr160', 'usr464', 'usr461','usr737', 'usr835', 'usr491']\n",
    "usuario = input (\"Dame tu usario porfi: \")\n",
    "#datos calculados \n",
    "\n",
    "if usuario in lista_usuarios_bloquados: \n",
    "    print(f\"El usuario {usuario} ha sido bloqueado ....\")\n",
    "elif usuario in lista_usuarios:\n",
    "    print(f\"HOla {usuario} eres bienvenido\")\n",
    "else: \n",
    "    print(\"Usuario no reconocido.\")"
   ]
  },
  {
   "cell_type": "markdown",
   "metadata": {},
   "source": [
    "<h2 style=\"color:#d62728\">Ejercicios</h2>"
   ]
  },
  {
   "cell_type": "markdown",
   "metadata": {},
   "source": [
    "- Escribe una funcion que mencione cómo se encuentra el clima. El Usuario deberá ingresar los grados actual:\n",
    "    * Si `grados` es mayor a 35 o igual, el programa deberá imprimir `\"Hace mucho calor\"`\n",
    "    * Si `grados` es menor a -15, el programa deberá imprimir `\"Hace mucho frío\"`\n",
    "    * Si `grados` es mayor a 25 y menor a 35, el programa deberá imprimir `\"Hace calor\"` \n",
    "    * Si `grados` es mayor o igual a -15 y menor a 12, el programa deberá imprimir `\"Hace frío\"`\n",
    "    * Si `grados` se encuentra entre 12 y 25 (inclusivo), el programa deberá imprimir `\"El clima es templado\"`"
   ]
  },
  {
   "cell_type": "code",
   "execution_count": 90,
   "metadata": {},
   "outputs": [],
   "source": [
    "# grados >= 35 \"Hace mucho calor\"\n",
    "# grados > 25 and grados < 35  \"Hace calor\" \n",
    "# grados >= 12 and grados <= 25 \"El clima es templado\" \n",
    "# grados >= -15 and grados < 12 \"Hace frío\"\n",
    "# grados < -15 \"Hace mucho frío\"\n",
    " \n",
    "def temperatura(grados):\n",
    "    if grados >= 35:\n",
    "        res = \"Hace mucho calor\" \n",
    "    elif (grados > 25 and grados < 35 ):\n",
    "        res = \"Hace calor\"\n",
    "    elif(grados >= 12 and grados <= 25):\n",
    "        res = \"El clima es templado\" \n",
    "    elif (grados >= -15 and grados < 12):\n",
    "        res = \"Hace frío\"\n",
    "    else: \n",
    "        res = \"Hace mucho frío\"\n",
    "    \n",
    "    return res\n",
    "    "
   ]
  },
  {
   "cell_type": "code",
   "execution_count": 93,
   "metadata": {},
   "outputs": [
    {
     "data": {
      "text/plain": [
       "'El clima es templado'"
      ]
     },
     "execution_count": 93,
     "metadata": {},
     "output_type": "execute_result"
    }
   ],
   "source": [
    "temperatura(15)"
   ]
  },
  {
   "cell_type": "markdown",
   "metadata": {},
   "source": [
    "Escribe un programa que le pregunte al usuario un valor del monto de su compra en una tienda, y calcule como salida el precio pagado por el cliente con el descuento incluído según el criterio dado.\n",
    "\n",
    "    * 5  %, si el monto de compra es inferior a 800.00 pesos\n",
    "    * 15 %, si el monto de compra es mayor o igual a 800.00 y menor a 1,500.00 pesos\n",
    "    * 25 %, si el monto de compra es mayor o igual a 1,500.0"
   ]
  },
  {
   "cell_type": "code",
   "execution_count": 96,
   "metadata": {},
   "outputs": [
    {
     "name": "stdout",
     "output_type": "stream",
     "text": [
      "Escribe cuanto gastaste: 2000\n",
      "El monto a pagar es de 1500.0 pesos\n"
     ]
    }
   ],
   "source": [
    "# compra < 800 .05 \n",
    "# compra >= 800 and compra < 1500  .15 \n",
    "# compra >= 1500  .25 \n",
    "\n",
    "compra = int(input(\"Escribe cuanto gastaste: \"))\n",
    "\n",
    "if compra < 800 : \n",
    "    total = compra - (compra * .05)\n",
    "elif compra >= 800 and compra < 1500: \n",
    "    total = compra - (compra * .15)\n",
    "else: \n",
    "    total = compra - (compra * .25)\n",
    "\n",
    "print(f\"El monto a pagar es de {total} pesos\")"
   ]
  },
  {
   "cell_type": "markdown",
   "metadata": {},
   "source": [
    "Define una función cuya entrada sean 4 números. Debemos de evaluar que $ c+d$ sea diferente de cero. En caso de que no lo séa debemos de imprimir \"-1\" y en caso de que sí sea diferente resuelve e imprime $ (a+b) / (c+d) $"
   ]
  },
  {
   "cell_type": "code",
   "execution_count": 99,
   "metadata": {},
   "outputs": [],
   "source": [
    "def tres (a,b,c,d):\n",
    "    if(c+d != 0):\n",
    "        res = (a+b)/(c+d)\n",
    "    else: \n",
    "        res = -1 \n",
    "    \n",
    "    return res"
   ]
  },
  {
   "cell_type": "code",
   "execution_count": 101,
   "metadata": {},
   "outputs": [
    {
     "name": "stdout",
     "output_type": "stream",
     "text": [
      "-1\n",
      "1.0\n"
     ]
    }
   ],
   "source": [
    "#caso -1 \n",
    "print(tres(1,1,0,0))\n",
    "\n",
    "#caso 1 \n",
    "print(tres(1,1,1,1))"
   ]
  },
  {
   "cell_type": "code",
   "execution_count": 104,
   "metadata": {},
   "outputs": [],
   "source": [
    "def tres2 (a,b,c,d):\n",
    "    if(c+d == 0):\n",
    "        res = -1\n",
    "        \n",
    "    else: \n",
    "        res = (a+b)/(c+d)\n",
    "        \n",
    "    return res"
   ]
  },
  {
   "cell_type": "code",
   "execution_count": 105,
   "metadata": {},
   "outputs": [
    {
     "name": "stdout",
     "output_type": "stream",
     "text": [
      "-1\n",
      "1.0\n"
     ]
    }
   ],
   "source": [
    "#caso -1 \n",
    "print(tres2(1,1,0,0))\n",
    "\n",
    "#caso 1 \n",
    "print(tres2(1,1,1,1))"
   ]
  },
  {
   "cell_type": "markdown",
   "metadata": {},
   "source": [
    "Realiza un programa que calcule los impuestos a pagar de un sueldo en particular de acuerdo con los siguientes criterios:\n",
    "\n",
    "* Si gana menos de 5000 pesos entonces tendrá un impuesto de 3%\n",
    "* Si gana entre 5,000 y 8,000 entonces tendrá un impuesto de10%\n",
    "* Si gana entre 8,000 incluido y 25,000 entonces tendrá un impuesto de 15%\n",
    "* Si gana mayores o iguales a 25,000 entonces tendrá un impuesto de 30%\n",
    "\n",
    "El programa debera solicitar el sueldo a calcular"
   ]
  },
  {
   "cell_type": "code",
   "execution_count": 106,
   "metadata": {},
   "outputs": [
    {
     "name": "stdout",
     "output_type": "stream",
     "text": [
      "Dame tu sueldo:   2000\n",
      "El impuesto que debe pagar por un sueldo $2000.0es de $ 60.0\n"
     ]
    }
   ],
   "source": [
    "# sueldo < 5000     .03\n",
    "# sueldo >= 5000 and sueldo < 8000     .10 \n",
    "# sueldo>= 8000  and sueldo < 25000    .15 \n",
    "# sueldo >= 25000    .30 \n",
    "\n",
    "sueldo = float(input(\"Dame tu sueldo:   \"))\n",
    "if sueldo < 5000:\n",
    "    impuesto = sueldo*.03\n",
    "elif sueldo >= 5000 and sueldo < 8000 : \n",
    "    impuesto = sueldo*.10\n",
    "elif sueldo>= 8000  and sueldo < 25000 :\n",
    "    impuesto = sueldo*.15\n",
    "else: \n",
    "    impuesto = sueldo*.30 \n",
    "    \n",
    "print(f\"El impuesto que debe pagar por un sueldo ${sueldo}es de $ {impuesto}\")"
   ]
  },
  {
   "cell_type": "code",
   "execution_count": 107,
   "metadata": {},
   "outputs": [
    {
     "data": {
      "text/plain": [
       "60.0"
      ]
     },
     "execution_count": 107,
     "metadata": {},
     "output_type": "execute_result"
    }
   ],
   "source": []
  },
  {
   "cell_type": "code",
   "execution_count": 108,
   "metadata": {},
   "outputs": [
    {
     "name": "stdout",
     "output_type": "stream",
     "text": [
      "Dame tu sueldo: 2000\n",
      "El impuesto que debe pagar por un sueldo $ 2000.0 es de $ 60.0\n"
     ]
    }
   ],
   "source": [
    "sueldo =float(input(\"Dame tu sueldo: \"))\n",
    "if sueldo < 5000:\n",
    "    impuesto= sueldo*.03\n",
    "else:\n",
    "    if sueldo >= 5000 and sueldo <8000: \n",
    "        impuesto= sueldo*.10\n",
    "    else:\n",
    "        if sueldo>= 8000 and sueldo < 25000 : \n",
    "            impuesto=sueldo*.15\n",
    "        else: \n",
    "            impuesto =sueldo*.30\n",
    "\n",
    "print(\"El impuesto que debe pagar por un sueldo $\",sueldo,\"es de $\",impuesto)"
   ]
  },
  {
   "cell_type": "code",
   "execution_count": null,
   "metadata": {},
   "outputs": [],
   "source": []
  }
 ],
 "metadata": {
  "kernelspec": {
   "display_name": "Python 3",
   "language": "python",
   "name": "python3"
  },
  "language_info": {
   "codemirror_mode": {
    "name": "ipython",
    "version": 3
   },
   "file_extension": ".py",
   "mimetype": "text/x-python",
   "name": "python",
   "nbconvert_exporter": "python",
   "pygments_lexer": "ipython3",
   "version": "3.8.5"
  }
 },
 "nbformat": 4,
 "nbformat_minor": 2
}
