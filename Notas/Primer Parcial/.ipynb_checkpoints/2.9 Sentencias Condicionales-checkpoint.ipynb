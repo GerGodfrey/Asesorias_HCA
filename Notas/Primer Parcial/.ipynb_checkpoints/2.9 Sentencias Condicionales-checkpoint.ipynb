{
 "cells": [
  {
   "cell_type": "markdown",
   "metadata": {},
   "source": [
    "# Condicionales"
   ]
  },
  {
   "cell_type": "markdown",
   "metadata": {},
   "source": [
    "Hasta ahora solo hemos visto programas cuya sequencia opera de manera lineal. Cada input sigue la misma serie de pasos independientemente de su valor.\n",
    "<img src=\"../../files/lec02/prg01.png\" width=200>\n",
    "\n"
   ]
  },
  {
   "cell_type": "markdown",
   "metadata": {},
   "source": [
    "Los programas, muy comúnmente, no siguen una serie de pasos que regrese al mismo valor. Por ejemplo, al querer hacer *login* en una página de internet.\n",
    "\n",
    "<img src=\"../../files/lec02/prg02.png\" width=400>"
   ]
  },
  {
   "cell_type": "markdown",
   "metadata": {},
   "source": [
    "## Condición *If*"
   ]
  },
  {
   "cell_type": "markdown",
   "metadata": {},
   "source": [
    "La estructura de control `if` permite que un programa ejecute intrucciones específicas si cumple la condición que sea asignada. La sintaxis de la contrucción `if`  es de la siguiente forma:\n",
    "```python\n",
    "if <condicion>:\n",
    "    <expresion>\n",
    "```\n",
    "* La `<condicion>` hace referencia a una operación booleana, es decir, una operación que regrese `True` o `False`.\n",
    "* La `<expresion>` hace referencia a cualquier otro programa valido. Esta se ejectuta solo **sí** el resultado de `<condicion>` resulta `True`."
   ]
  },
  {
   "cell_type": "code",
   "execution_count": 5,
   "metadata": {},
   "outputs": [
    {
     "name": "stdout",
     "output_type": "stream",
     "text": [
      "Escriba un número positivo: 9\n",
      "Ha escrito el número 9\n"
     ]
    }
   ],
   "source": [
    "numero = int(input(\"Escriba un número positivo: \"))\n",
    "if numero < 0:\n",
    "    print(\"¡Le he dicho que escriba un número positivo!\")\n",
    "print(f\"Ha escrito el número {numero}\")"
   ]
  },
  {
   "cell_type": "code",
   "execution_count": 10,
   "metadata": {},
   "outputs": [
    {
     "name": "stdout",
     "output_type": "stream",
     "text": [
      "Ingresa tu usuario: usr186\n",
      "¡ Hola, usr186! Eres Bienvenido\n"
     ]
    }
   ],
   "source": [
    "##  ¿ Estas en la lista ? \n",
    "lista_usuarios = ['usr186', 'usr203', 'usr919', 'usr989',\n",
    "                  'usr587', 'usr131', 'usr640', 'usr757',\n",
    "                  'usr237', 'usr491']\n",
    "usuario = input(\"Ingresa tu usuario: \")\n",
    "if usuario in lista_usuarios:\n",
    "    print(f\"¡ Hola, {usuario}! Eres Bienvenido\")"
   ]
  },
  {
   "cell_type": "markdown",
   "metadata": {},
   "source": [
    "¿Qué sucede si el usuario no se reconoce? "
   ]
  },
  {
   "cell_type": "markdown",
   "metadata": {},
   "source": [
    "## Condición *If Else*"
   ]
  },
  {
   "cell_type": "markdown",
   "metadata": {},
   "source": [
    "La estructura de control `if else` permite que un programa ejecute unas instrucciones cuando se cumple una condición y otras instrucciones cuando **no** se cumple esa condición.La sintaxis de la contrucción `if else`  es de la siguiente forma:\n",
    "```python\n",
    "if <condicion>:\n",
    "    <expresion>\n",
    "else:\n",
    "    <expresion2>\n",
    "```\n",
    "* La `<condicion>` hace referencia a una operación booleana, es decir, una operación que regrese `True` o `False`.\n",
    "* La `<expresion>` hace referencia a cualquier otro programa válido. Esta se ejectuta solo **si** el resultado de `<condicion>` resulta `True`.\n",
    "* La `<expresion2>` hace referencia a cualquier otro programa válido. Esta se ejecuta solo **si** el resultado de la `<condicion>` resulta `False`. "
   ]
  },
  {
   "cell_type": "code",
   "execution_count": 3,
   "metadata": {},
   "outputs": [
    {
     "name": "stdout",
     "output_type": "stream",
     "text": [
      "¿Cuántos años tiene? 90\n",
      "Es usted mayor de edad\n"
     ]
    }
   ],
   "source": [
    "edad = int(input(\"¿Cuántos años tiene? \"))\n",
    "if edad < 18:\n",
    "    print(\"Es usted menor de edad\")\n",
    "else:\n",
    "    print(\"Es usted mayor de edad\")"
   ]
  },
  {
   "cell_type": "code",
   "execution_count": 7,
   "metadata": {},
   "outputs": [
    {
     "name": "stdout",
     "output_type": "stream",
     "text": [
      "Escriba un número: 3\n",
      "3 es impar\n"
     ]
    }
   ],
   "source": [
    "numero = int(input(\"Escriba un número: \"))\n",
    "if numero % 2:\n",
    "    print(f\"{numero} es impar\")\n",
    "else:\n",
    "    print(f\"{numero} es par\")"
   ]
  },
  {
   "cell_type": "markdown",
   "metadata": {},
   "source": [
    "## Condición *Elif*"
   ]
  },
  {
   "cell_type": "markdown",
   "metadata": {},
   "source": [
    "En ocasiones es necesario contar con más de dos condiciones"
   ]
  },
  {
   "cell_type": "markdown",
   "metadata": {},
   "source": [
    "La estructura de control `if .. elif .. else` permite encadenar **varias** condiciones. `Elif` solamente es una contracción de `else if`. La sintaxis de la contrucción `if .. elif .. else`  es de la siguiente forma:\n",
    "```python\n",
    "if <condicion>:\n",
    "    <expresion>\n",
    "elif <condicion2>:\n",
    "    <expresion2>\n",
    "else:\n",
    "    <expresion3>  \n",
    "```\n",
    "\n",
    "* La `<condicion>` hace referencia a una operación booleana, es decir, una operación que regrese `True` o `False`.\n",
    "* La `<expresion>` hace referencia a cualquier otro programa válido. Esta se ejectuta solo **si** el resultado de `<condicion>` resulta `True`.\n",
    "* La `<condicion2>` hace referencia a una operación booleana, es decir, una operación que regrese `True` o `False`.Esta se ejecuta solo si el resultado de la `<condicion>` fue negativo.\n",
    "* La `<expresion2>` hace referencia a cualquier otro programa válido. Esta se ejecuta solo **si** el resultado de la `<condicion2>` resulta `True`.\n",
    "* La `<expresion3>` hace referencia a cualquier otro programa válido. Esta se ejecuta solo **si** el resultado de la `<condicion2>` resulta `False`."
   ]
  },
  {
   "cell_type": "code",
   "execution_count": 11,
   "metadata": {},
   "outputs": [
    {
     "name": "stdout",
     "output_type": "stream",
     "text": [
      "Ingresa tu usuario: usr491\n",
      "El usuario usr491 ha sido bloqueado...\n"
     ]
    }
   ],
   "source": [
    "## Saludo a usuario\n",
    "lista_usuarios = ['usr186', 'usr203', 'usr919', 'usr989',\n",
    "                  'usr587', 'usr131', 'usr640', 'usr757',\n",
    "                  'usr237', 'usr491']\n",
    "lista_usuarios_bloqueados = ['usr160', 'usr464', 'usr461',\n",
    "                             'usr737', 'usr835', 'usr491']\n",
    "usuario = input(\"Ingresa tu usuario: \")\n",
    "\n",
    "if usuario in lista_usuarios_bloqueados:\n",
    "    print(f\"El usuario {usuario} ha sido bloqueado...\")\n",
    "elif usuario in lista_usuarios:\n",
    "    print(f\"Hola, {usuario}!\")\n",
    "else:\n",
    "    print(\"Usuario no reconocido\")"
   ]
  },
  {
   "cell_type": "markdown",
   "metadata": {},
   "source": [
    "<h2 style=\"color:#d62728\">Ejercicios</h2>"
   ]
  },
  {
   "cell_type": "markdown",
   "metadata": {},
   "source": [
    "1. Escribe un programa que mencione cómo se encuentra el clima. El Usuario deberá ingresar la temperatura actual:\n",
    "    * Si `temperatura` es mayor a 35 o igual, el programa deberá imprimir `\"Hace mucho calor\"`\n",
    "    * Si `temperatura` es menor a -15, el programa deberá imprimir `\"Hace mucho frío\"`\n",
    "    * Si `temperatura` es mayor a 25 y menor a 35, el programa deberá imprimir `\"Hace calor\"` \n",
    "    * Si `temperatura` es mayor o igual a -15 y menor a 12, el programa deberá imprimir `\"Hace frío\"`\n",
    "    * Si `temperatura` se encuentra entre 12 y 25 (inclusivo), el programa deberá imprimir `\"El clima es templado\"`"
   ]
  },
  {
   "cell_type": "code",
   "execution_count": null,
   "metadata": {},
   "outputs": [],
   "source": []
  },
  {
   "cell_type": "markdown",
   "metadata": {},
   "source": [
    "2. Escribe un programa que le pregunte al usuario un valor del monto de su compra en una tienda, y calcule como salida el precio pagado por el cliente con el descuento incluído según el criterio dado.\n",
    "\n",
    "    * 5%, si el `monto` de compra es inferior a \\$ 800.00\n",
    "    * 15%, si el `monto` de compra es mayor o igual a \\$800.00 y menor a $1,500.00\n",
    "    * 25%, si el `monto` de compra es mayor o igual a \\$ 1,500.0"
   ]
  },
  {
   "cell_type": "code",
   "execution_count": null,
   "metadata": {},
   "outputs": [],
   "source": []
  }
 ],
 "metadata": {
  "kernelspec": {
   "display_name": "Python 3",
   "language": "python",
   "name": "python3"
  },
  "language_info": {
   "codemirror_mode": {
    "name": "ipython",
    "version": 3
   },
   "file_extension": ".py",
   "mimetype": "text/x-python",
   "name": "python",
   "nbconvert_exporter": "python",
   "pygments_lexer": "ipython3",
   "version": "3.8.5"
  }
 },
 "nbformat": 4,
 "nbformat_minor": 2
}
