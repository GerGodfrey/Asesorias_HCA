{
 "cells": [
  {
   "cell_type": "markdown",
   "metadata": {},
   "source": [
    "# Operaciones básicas"
   ]
  },
  {
   "cell_type": "markdown",
   "metadata": {},
   "source": [
    "## Enteros `int` y flotantes `float`\n",
    "Python contiene clases de objetos numéricos."
   ]
  },
  {
   "cell_type": "code",
   "execution_count": null,
   "metadata": {},
   "outputs": [],
   "source": []
  },
  {
   "cell_type": "code",
   "execution_count": null,
   "metadata": {},
   "outputs": [],
   "source": []
  },
  {
   "cell_type": "code",
   "execution_count": null,
   "metadata": {},
   "outputs": [],
   "source": []
  },
  {
   "cell_type": "markdown",
   "metadata": {},
   "source": [
    "## Operaciones Arítmeticas"
   ]
  },
  {
   "cell_type": "code",
   "execution_count": 1,
   "metadata": {},
   "outputs": [],
   "source": [
    "# Suma\n"
   ]
  },
  {
   "cell_type": "code",
   "execution_count": 2,
   "metadata": {},
   "outputs": [],
   "source": [
    "# Resta\n"
   ]
  },
  {
   "cell_type": "code",
   "execution_count": 3,
   "metadata": {},
   "outputs": [],
   "source": [
    "# Multiplicación\n"
   ]
  },
  {
   "cell_type": "code",
   "execution_count": 4,
   "metadata": {},
   "outputs": [],
   "source": [
    "# División\n"
   ]
  },
  {
   "cell_type": "code",
   "execution_count": 5,
   "metadata": {},
   "outputs": [],
   "source": [
    "# División entera (elimina residuo)\n"
   ]
  },
  {
   "cell_type": "code",
   "execution_count": 6,
   "metadata": {},
   "outputs": [],
   "source": [
    "# Potencia\n"
   ]
  },
  {
   "cell_type": "code",
   "execution_count": 7,
   "metadata": {},
   "outputs": [],
   "source": [
    "# Residuo\n"
   ]
  },
  {
   "cell_type": "markdown",
   "metadata": {},
   "source": [
    "## Funciones Numéricas"
   ]
  },
  {
   "cell_type": "code",
   "execution_count": null,
   "metadata": {},
   "outputs": [],
   "source": []
  },
  {
   "cell_type": "code",
   "execution_count": null,
   "metadata": {},
   "outputs": [],
   "source": []
  },
  {
   "cell_type": "code",
   "execution_count": null,
   "metadata": {},
   "outputs": [],
   "source": []
  },
  {
   "cell_type": "code",
   "execution_count": null,
   "metadata": {},
   "outputs": [],
   "source": []
  },
  {
   "cell_type": "code",
   "execution_count": null,
   "metadata": {},
   "outputs": [],
   "source": []
  },
  {
   "cell_type": "code",
   "execution_count": 23,
   "metadata": {},
   "outputs": [
    {
     "data": {
      "text/plain": [
       "'76.45%'"
      ]
     },
     "execution_count": 23,
     "metadata": {},
     "output_type": "execute_result"
    }
   ],
   "source": [
    "format(0.7645, \".2%\")"
   ]
  },
  {
   "cell_type": "code",
   "execution_count": null,
   "metadata": {},
   "outputs": [],
   "source": []
  },
  {
   "cell_type": "code",
   "execution_count": null,
   "metadata": {},
   "outputs": [],
   "source": []
  },
  {
   "cell_type": "markdown",
   "metadata": {},
   "source": [
    "## Variables \n",
    "\n",
    "Es un lugar en memoria la cual guarda un objeto. Definimos una variable de la siguiente manera:\n",
    "```python\n",
    "nombre = <objeto>\n",
    "```\n",
    "\n",
    "**Reglas**:\n",
    "1. Una variable puede contener cualquier carácter alfanumérico o un guión bajo\n",
    "2. Una variable **no** puede empezar con un carácter numérico `0-9`\n",
    "3. Una variable distingue entre mayúsculas y minúsculas, e.g., `variable != Variable`."
   ]
  },
  {
   "cell_type": "code",
   "execution_count": 27,
   "metadata": {},
   "outputs": [],
   "source": [
    "nombre = \"Gerardo\"\n",
    "apellido = \"Castañeda\""
   ]
  },
  {
   "cell_type": "code",
   "execution_count": 29,
   "metadata": {},
   "outputs": [
    {
     "name": "stdout",
     "output_type": "stream",
     "text": [
      "Gerardo\n",
      "Gerardo Castañeda\n"
     ]
    }
   ],
   "source": [
    "print(nombre)\n",
    "print(nombre, apellido)"
   ]
  },
  {
   "cell_type": "code",
   "execution_count": 31,
   "metadata": {},
   "outputs": [
    {
     "name": "stdout",
     "output_type": "stream",
     "text": [
      "Gerardo...Castañeda\n"
     ]
    }
   ],
   "source": [
    "print(nombre, apellido, sep=\"...\")"
   ]
  },
  {
   "cell_type": "code",
   "execution_count": 34,
   "metadata": {},
   "outputs": [
    {
     "name": "stdout",
     "output_type": "stream",
     "text": [
      "<class 'int'>\n",
      "Gerardo...Castañeda...2021\n"
     ]
    }
   ],
   "source": [
    "año = 2021\n",
    "print(type(año))\n",
    "print(nombre, apellido, año, sep=\"...\")"
   ]
  },
  {
   "cell_type": "code",
   "execution_count": 1,
   "metadata": {},
   "outputs": [
    {
     "name": "stdout",
     "output_type": "stream",
     "text": [
      "El costo de una docena es huevos \n",
      " 1.0\n"
     ]
    }
   ],
   "source": [
    "# entrada\n",
    "h1=30\n",
    "co1=2.50\n",
    "h2=12\n",
    "# cálculo\n",
    "co2=h2*co1/h1\n",
    "# Salida\n",
    "print(\"El costo de una docena es huevos \\n\",co2)"
   ]
  },
  {
   "cell_type": "markdown",
   "metadata": {},
   "source": [
    "### Formato al print\n",
    "\n",
    "Consideremos las variables `nombre` y `apellido` y supongamos que deseamos imprimir en la consola\n",
    "```python\n",
    "\"Hola, <nombre>. Adios, <apellido>\"\n",
    "```"
   ]
  },
  {
   "cell_type": "code",
   "execution_count": 43,
   "metadata": {},
   "outputs": [
    {
     "ename": "SyntaxError",
     "evalue": "invalid syntax (<ipython-input-43-859402aeca88>, line 5)",
     "output_type": "error",
     "traceback": [
      "\u001b[0;36m  File \u001b[0;32m\"<ipython-input-43-859402aeca88>\"\u001b[0;36m, line \u001b[0;32m5\u001b[0m\n\u001b[0;31m    cadena = (\"Hola, \", nombre, \". Adios, \", apellido, \".\", sep=\"\")\u001b[0m\n\u001b[0m                                                               ^\u001b[0m\n\u001b[0;31mSyntaxError\u001b[0m\u001b[0;31m:\u001b[0m invalid syntax\n"
     ]
    }
   ],
   "source": [
    "# 1)\n",
    "# Usando Print y dividir los valores a imprimir en varios argumentos.\n",
    "\n",
    "print(\"Hola, \", nombre, \". Adios, \", apellido, \".\", sep=\"\")\n",
    "cadena = (\"Hola, \", nombre, \". Adios, \", apellido, \".\", sep=\"\")"
   ]
  },
  {
   "cell_type": "code",
   "execution_count": 42,
   "metadata": {},
   "outputs": [
    {
     "name": "stdout",
     "output_type": "stream",
     "text": [
      "Hola, Gerardo. Adios, Castañeda.\n",
      "Hola, Gerardo. Adios, Castañeda.\n"
     ]
    }
   ],
   "source": [
    "# 2)\n",
    "# Usando dividir los valores a imprimir y agruparlos por medio de \"+\"\n",
    "print(\"Hola, \" + nombre + \". Adios, \" + apellido + \".\")\n",
    "cadena = (\"Hola, \" + nombre + \". Adios, \" + apellido + \".\")\n",
    "print (cadena)"
   ]
  },
  {
   "cell_type": "markdown",
   "metadata": {},
   "source": [
    "#### Método .format\n",
    "Si agregas el símbolo de llaves {} dentro de un string, al usar el método `format`, podemos asignarle valores a cada llave."
   ]
  },
  {
   "cell_type": "code",
   "execution_count": 44,
   "metadata": {},
   "outputs": [
    {
     "name": "stdout",
     "output_type": "stream",
     "text": [
      "Hola, Gerardo. Adios, Castañeda\n"
     ]
    }
   ],
   "source": [
    "# 3) \n",
    "# método `.format`\n",
    "print(\"Hola, {}. Adios, {}\".format(nombre, apellido))"
   ]
  },
  {
   "cell_type": "markdown",
   "metadata": {},
   "source": [
    "#### f-string\n",
    "Al agregar una 'f' al inicio de un string y dejando los corchetes en la posición deseada con el nombre de la variable dentro también podemos asignar y agregarle un diseño a nuestra impresión."
   ]
  },
  {
   "cell_type": "code",
   "execution_count": 46,
   "metadata": {},
   "outputs": [
    {
     "name": "stdout",
     "output_type": "stream",
     "text": [
      "Hola, Gerardo. Adios, Castañeda\n"
     ]
    }
   ],
   "source": [
    "# 4)\n",
    "# (Python 3.6 en adelante)\n",
    "print(f\"Hola, {nombre}. Adios, {apellido}\")"
   ]
  },
  {
   "cell_type": "code",
   "execution_count": 48,
   "metadata": {},
   "outputs": [
    {
     "name": "stdout",
     "output_type": "stream",
     "text": [
      "5 + 5 = 10\n"
     ]
    }
   ],
   "source": [
    "num1 = 5\n",
    "num2 = 5\n",
    "print(f\"{num1} + {num2} = {num1 + num2}\")"
   ]
  },
  {
   "cell_type": "code",
   "execution_count": 5,
   "metadata": {},
   "outputs": [
    {
     "name": "stdout",
     "output_type": "stream",
     "text": [
      "El iva del monto $ 7777 es 1244.32\n",
      "El iva del monto $ 7777 es 1244.32\n"
     ]
    }
   ],
   "source": [
    "tasa=.16\n",
    "monto=7777\n",
    "iva=monto*tasa\n",
    "print(\"El iva del monto $ {} es {}\".format(monto,iva))\n",
    "print(\"El iva del monto $\", monto, \"es\", iva)"
   ]
  },
  {
   "cell_type": "code",
   "execution_count": 7,
   "metadata": {},
   "outputs": [
    {
     "name": "stdout",
     "output_type": "stream",
     "text": [
      "Using matplotlib backend: MacOSX\n",
      "Populating the interactive namespace from numpy and matplotlib\n",
      "El valor de pi 3.14159265358979\n",
      "El valor de pi 3.1415926535898\n",
      "El valor de pi 3.141592653590\n",
      "El valor de pi 3.14159265359\n",
      "El valor de pi 3.1415926536\n",
      "El valor de pi 3.141592654\n",
      "El valor de pi 3.14159265\n",
      "El valor de pi 3.1415927\n",
      "El valor de pi 3.141593\n"
     ]
    }
   ],
   "source": [
    "%pylab\n",
    "print(\"El valor de pi %1.14f\"%pi)\n",
    "print(\"El valor de pi %1.13f\"%pi)\n",
    "print(\"El valor de pi %1.12f\"%pi)\n",
    "print(\"El valor de pi %1.11f\"%pi)\n",
    "print(\"El valor de pi %1.10f\"%pi)\n",
    "print(\"El valor de pi %1.9f\"%pi)\n",
    "print(\"El valor de pi %1.8f\"%pi)\n",
    "print(\"El valor de pi %1.7f\"%pi)\n",
    "print(\"El valor de pi %1.6f\"%pi)"
   ]
  },
  {
   "cell_type": "markdown",
   "metadata": {},
   "source": [
    "Las funciones serán de gran ayuda para todos aquellos elementos que se necesiten repetir. Esto con el objetivo de no complicarnos y escribirlo muchas veces , pero sobre todo para ser más eficientes en nuestro código. \n",
    "\n",
    "También nos ayudarán a guardar valores que salgan de una operación."
   ]
  },
  {
   "cell_type": "markdown",
   "metadata": {},
   "source": [
    "## Inputs\n",
    "\n",
    "Podemos crear una variable que el usuario defina pro medio de la función `input`\n",
    "\n",
    "```python\n",
    "variable = input(\"Mensaje que lee el usario\")\n",
    "```\n",
    "\n",
    "Por default, el resultado de un `input` es de tipo `str`."
   ]
  },
  {
   "cell_type": "code",
   "execution_count": 58,
   "metadata": {},
   "outputs": [
    {
     "name": "stdout",
     "output_type": "stream",
     "text": [
      "Escribe tu edad: 4\n"
     ]
    }
   ],
   "source": [
    "edadStr = input(\"Escribe tu edad: \")"
   ]
  },
  {
   "cell_type": "code",
   "execution_count": 59,
   "metadata": {},
   "outputs": [
    {
     "data": {
      "text/plain": [
       "str"
      ]
     },
     "execution_count": 59,
     "metadata": {},
     "output_type": "execute_result"
    }
   ],
   "source": [
    "type(edadStr)"
   ]
  },
  {
   "cell_type": "code",
   "execution_count": 60,
   "metadata": {},
   "outputs": [
    {
     "data": {
      "text/plain": [
       "int"
      ]
     },
     "execution_count": 60,
     "metadata": {},
     "output_type": "execute_result"
    }
   ],
   "source": [
    "edadInt = int(edadStr)\n",
    "type(edadInt)"
   ]
  },
  {
   "cell_type": "code",
   "execution_count": 61,
   "metadata": {},
   "outputs": [
    {
     "data": {
      "text/plain": [
       "'4444'"
      ]
     },
     "execution_count": 61,
     "metadata": {},
     "output_type": "execute_result"
    }
   ],
   "source": [
    "edadStr * 4"
   ]
  },
  {
   "cell_type": "code",
   "execution_count": 62,
   "metadata": {},
   "outputs": [
    {
     "data": {
      "text/plain": [
       "16"
      ]
     },
     "execution_count": 62,
     "metadata": {},
     "output_type": "execute_result"
    }
   ],
   "source": [
    "edadInt * 4 "
   ]
  },
  {
   "cell_type": "markdown",
   "metadata": {},
   "source": [
    "<h2 style=\"color:#d62728\">Ejercicios</h2>"
   ]
  },
  {
   "cell_type": "markdown",
   "metadata": {},
   "source": [
    "Escribe un programa que le pida al usuario 2 números y regrese la suma."
   ]
  },
  {
   "cell_type": "code",
   "execution_count": 67,
   "metadata": {},
   "outputs": [
    {
     "name": "stdout",
     "output_type": "stream",
     "text": [
      "Escribe un número: 4.4\n",
      "Escribe otro número: 4.6\n",
      "La suma es : 9.0\n"
     ]
    }
   ],
   "source": [
    "num1 = float (input(\"Escribe un número: \"))\n",
    "num2 = float (input(\"Escribe otro número: \"))\n",
    "print(f\"La suma es : {num1+num2}\")"
   ]
  },
  {
   "cell_type": "markdown",
   "metadata": {},
   "source": [
    "Escribe un programa que pida el nombre y la edad del usuario. Deberá imprimir el nombre del usuario repetido el mismo número de su edad;"
   ]
  },
  {
   "cell_type": "code",
   "execution_count": 70,
   "metadata": {},
   "outputs": [
    {
     "name": "stdout",
     "output_type": "stream",
     "text": [
      "Dame tu nombre: gerry\n",
      "Dame tu edad: 3\n",
      "gerrygerrygerry\n"
     ]
    }
   ],
   "source": [
    "nombre = input(\"Dame tu nombre: \")\n",
    "edad = int(input(\"Dame tu edad: \"))\n",
    "print (nombre*edad) "
   ]
  },
  {
   "cell_type": "markdown",
   "metadata": {},
   "source": [
    "Considerando la variable frase (definida abajo, elimina todas las \"a\" y \"s\" del string.\n",
    "```python\n",
    "frase = \"\"\"El perro,llamado perro doméstico o can, \n",
    "es un mamífero carnívoro de la familia de los cánidos, \"\"\"\n",
    "```"
   ]
  },
  {
   "cell_type": "code",
   "execution_count": 75,
   "metadata": {},
   "outputs": [],
   "source": [
    "frase = \"\"\"El perro,llamado perro domestico o can, \n",
    "es un mamifero carnivoro de la familia de los canidos, \"\"\""
   ]
  },
  {
   "cell_type": "code",
   "execution_count": 78,
   "metadata": {},
   "outputs": [
    {
     "data": {
      "text/plain": [
       "'El perro,llmdo perro dometico o cn, \\ne un mmifero crnivoro de l fmili de lo cnido, '"
      ]
     },
     "execution_count": 78,
     "metadata": {},
     "output_type": "execute_result"
    }
   ],
   "source": [
    "frase.replace(\"a\",\"\").replace(\"s\",\"\")"
   ]
  },
  {
   "cell_type": "markdown",
   "metadata": {},
   "source": [
    "Imprime el número 4.787232 a : un decial, tres decimales y 5 decimales"
   ]
  },
  {
   "cell_type": "code",
   "execution_count": 3,
   "metadata": {},
   "outputs": [
    {
     "name": "stdout",
     "output_type": "stream",
     "text": [
      "con 5 decimales 4.78723\n",
      "con 3 decimales 4.787\n",
      "con 1 decimales 4.8\n"
     ]
    }
   ],
   "source": [
    "m=4.787232\n",
    "print(\"con 5 decimales\",round(m,5))\n",
    "print(\"con 3 decimales\",round(m,3))\n",
    "print(\"con 1 decimales\", round(m,1))"
   ]
  },
  {
   "cell_type": "code",
   "execution_count": null,
   "metadata": {},
   "outputs": [],
   "source": []
  }
 ],
 "metadata": {
  "kernelspec": {
   "display_name": "Python 3",
   "language": "python",
   "name": "python3"
  },
  "language_info": {
   "codemirror_mode": {
    "name": "ipython",
    "version": 3
   },
   "file_extension": ".py",
   "mimetype": "text/x-python",
   "name": "python",
   "nbconvert_exporter": "python",
   "pygments_lexer": "ipython3",
   "version": "3.8.5"
  }
 },
 "nbformat": 4,
 "nbformat_minor": 4
}
