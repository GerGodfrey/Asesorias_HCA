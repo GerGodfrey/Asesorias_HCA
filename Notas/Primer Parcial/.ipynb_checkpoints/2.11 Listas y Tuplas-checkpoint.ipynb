{
 "cells": [
  {
   "cell_type": "markdown",
   "metadata": {},
   "source": [
    "<img src=\"../../files/logo.png\" width=200>"
   ]
  },
  {
   "cell_type": "markdown",
   "metadata": {},
   "source": [
    "# Rangos\n",
    "\n",
    "La forma de crear un rango de números en Python es con la función `range` que tiene 3 vertientes: \n",
    "\n",
    "* `range(a)` rango de valores donde inicia en `0` y termina en `a-1`\n",
    "* `range(a, b)` rango de valores que inician en `a` y termina en `b-1`\n",
    "* `range(a, b, c)` rango de valores de `a` hasta `b-1` de `c` en `c`\n",
    "\n",
    "Su uso principal es para darle comodidad al programador en la creación de otros elementos. "
   ]
  },
  {
   "cell_type": "code",
   "execution_count": 8,
   "metadata": {},
   "outputs": [
    {
     "data": {
      "text/plain": [
       "range"
      ]
     },
     "execution_count": 8,
     "metadata": {},
     "output_type": "execute_result"
    }
   ],
   "source": [
    "#Mi rango:             0,1,2,3,4,5,6,7,8,9\n",
    "#Num de elementos:     1,2,3,4,5,6,7,8,9,10\n",
    "(range(10))"
   ]
  },
  {
   "cell_type": "code",
   "execution_count": 3,
   "metadata": {},
   "outputs": [
    {
     "data": {
      "text/plain": [
       "range(2, 10)"
      ]
     },
     "execution_count": 3,
     "metadata": {},
     "output_type": "execute_result"
    }
   ],
   "source": [
    "#Mi rango:             2,3,4,5,6,7,8,9\n",
    "#Num de elementos:     1,2,3,4,5,6,7,8\n",
    "range(2,10)"
   ]
  },
  {
   "cell_type": "code",
   "execution_count": 6,
   "metadata": {},
   "outputs": [
    {
     "data": {
      "text/plain": [
       "range(0, 10, 2)"
      ]
     },
     "execution_count": 6,
     "metadata": {},
     "output_type": "execute_result"
    }
   ],
   "source": [
    "#Mi rango:             0,2,4,6,8\n",
    "#Num de elemtnos:      1,2,3,4,5\n",
    "range(0,10,2)"
   ]
  },
  {
   "cell_type": "markdown",
   "metadata": {},
   "source": [
    "# Listas y Tuplas"
   ]
  },
  {
   "cell_type": "markdown",
   "metadata": {},
   "source": [
    "## Listas [ ] `list`\n",
    "Una lista es un arreglo ordenado de elementos. Se define por valores separados por coma y encerrados por dos corchetes (`[]`).\n",
    "\n",
    "Tiene dos propiedades de gran valor. Que son heterogéneas y mutables"
   ]
  },
  {
   "cell_type": "code",
   "execution_count": 1,
   "metadata": {},
   "outputs": [
    {
     "data": {
      "text/plain": [
       "list"
      ]
     },
     "execution_count": 1,
     "metadata": {},
     "output_type": "execute_result"
    }
   ],
   "source": [
    "#Lista de mis colores favoritos\n",
    "colores = [\"morado\", \"amarillo\", \"café\", \"negro\", \"blanco\", \"ázul\"]\n",
    "type(colores)"
   ]
  },
  {
   "cell_type": "markdown",
   "metadata": {},
   "source": [
    "### Heterogéneas \n",
    "\n",
    "Las listas pueden agrupar cualquier tipo de :\n",
    "- Objetos `str`\n",
    "- Objetos `int`\n",
    "- Objetos `float`\n",
    "- Objetos `bool`\n",
    "- Estructura de datos `list`\n",
    "- Estructura de datos `tuple`\n",
    "- Estructura de datos `set`\n",
    "- Estructura de datos `dict`"
   ]
  },
  {
   "cell_type": "code",
   "execution_count": 13,
   "metadata": {},
   "outputs": [
    {
     "name": "stdout",
     "output_type": "stream",
     "text": [
      "[1200, 1000, 600, 3000]\n"
     ]
    }
   ],
   "source": [
    "#Lista de diferentes precios de un celular\n",
    "#Elementos: 4 \n",
    "precios = [1200, 1000, 600, 3000]\n",
    "print(precios)\n"
   ]
  },
  {
   "cell_type": "code",
   "execution_count": 14,
   "metadata": {},
   "outputs": [
    {
     "data": {
      "text/plain": [
       "[2022, 2023, 2024, 2025, 2026]"
      ]
     },
     "execution_count": 14,
     "metadata": {},
     "output_type": "execute_result"
    }
   ],
   "source": [
    "#Lista con puras variables\n",
    "#Elementos: 5\n",
    "año = 2021\n",
    "[año+1,año+2,año+3,año+4,año+5]"
   ]
  },
  {
   "cell_type": "code",
   "execution_count": 16,
   "metadata": {},
   "outputs": [
    {
     "name": "stdout",
     "output_type": "stream",
     "text": [
      "[True, 13, 'Python', 43.001, False]\n",
      "<class 'list'>\n"
     ]
    }
   ],
   "source": [
    "#Lista de todo un poco \n",
    "#Elementos: 5\n",
    "deTodounPoco = [True, 13,\"Python\", 43.001,False]\n",
    "print(deTodounPoco)\n",
    "print(type(deTodounPoco))"
   ]
  },
  {
   "cell_type": "code",
   "execution_count": 17,
   "metadata": {},
   "outputs": [
    {
     "name": "stdout",
     "output_type": "stream",
     "text": [
      "[['Luis', 'Martin'], ['Andrea', 'Sof', 'Carmen'], ['Gerry', 'Clara', 'Blanca']]\n"
     ]
    }
   ],
   "source": [
    "#Lista de salones con sus alumnos\n",
    "#Elementos: 3 \n",
    "salones = [[\"Luis\",\"Martin\"], [\"Andrea\",\"Sof\",\"Carmen\"], [\"Gerry\",\"Clara\",\"Blanca\"]]\n",
    "print(salones)"
   ]
  },
  {
   "cell_type": "code",
   "execution_count": 18,
   "metadata": {},
   "outputs": [
    {
     "name": "stdout",
     "output_type": "stream",
     "text": [
      "[0, 1, 2, 3, 4, 5, 6, 7, 8, 9]\n"
     ]
    }
   ],
   "source": [
    "#Lista de salones con un rango\n",
    "#Elementos: 10\n",
    "rango = range(10)\n",
    "lista = list(rango)\n",
    "print(lista)"
   ]
  },
  {
   "cell_type": "code",
   "execution_count": 22,
   "metadata": {},
   "outputs": [
    {
     "name": "stdout",
     "output_type": "stream",
     "text": [
      "[0, 3, 6, 9, 12, 15, 18, 21, 24, 27, 30, 33, 36, 39, 42, 45, 48, 51, 54, 57, 60, 63, 66, 69, 72, 75, 78, 81, 84, 87, 90, 93, 96, 99]\n"
     ]
    }
   ],
   "source": [
    "#Lista que tenga los números del 1 al 100 de 3 en 3. \n",
    "#Elemento: ¿? \n",
    "listaGrande = list(range(0,101,3))\n",
    "print(listaGrande)"
   ]
  },
  {
   "cell_type": "code",
   "execution_count": 108,
   "metadata": {},
   "outputs": [
    {
     "name": "stdout",
     "output_type": "stream",
     "text": [
      "['Este', 'es', 'un', 'string']\n"
     ]
    }
   ],
   "source": [
    "# *Split*: de str a list\n",
    "listaString =\"Este es un string\".split()\n",
    "print(listaString)"
   ]
  },
  {
   "cell_type": "code",
   "execution_count": 114,
   "metadata": {},
   "outputs": [
    {
     "name": "stdout",
     "output_type": "stream",
     "text": [
      "Esta es una lista\n"
     ]
    }
   ],
   "source": [
    "# *join* de list a str\n",
    "lista = [\"Esta\", \"es\", \"una\", \"lista\"]\n",
    "nuevoString = \" \".join(lista)\n",
    "print(nuevoString)"
   ]
  },
  {
   "cell_type": "markdown",
   "metadata": {},
   "source": [
    "### Funciones con `list`"
   ]
  },
  {
   "cell_type": "markdown",
   "metadata": {},
   "source": [
    "**Número de elementos**  \n",
    "Por medio de la función `len` podemos conocer el número de elementos dentro de una lista."
   ]
  },
  {
   "cell_type": "code",
   "execution_count": 23,
   "metadata": {},
   "outputs": [
    {
     "data": {
      "text/plain": [
       "34"
      ]
     },
     "execution_count": 23,
     "metadata": {},
     "output_type": "execute_result"
    }
   ],
   "source": [
    "len(listaGrande)"
   ]
  },
  {
   "cell_type": "markdown",
   "metadata": {},
   "source": [
    "**Suma de elementos**  \n",
    "Otra de las funciones incluidas en Python es `sum`, sobre la cuál podemos sumar todos los elementos de la lista"
   ]
  },
  {
   "cell_type": "code",
   "execution_count": 5,
   "metadata": {},
   "outputs": [
    {
     "data": {
      "text/plain": [
       "10"
      ]
     },
     "execution_count": 5,
     "metadata": {},
     "output_type": "execute_result"
    }
   ],
   "source": [
    "sum([1, 2, 3, 4])"
   ]
  },
  {
   "cell_type": "markdown",
   "metadata": {},
   "source": [
    "**Ordenar elementos**  \n",
    "Si contamos con una lista ya creada y queremos ordernarla de menor a mayor, leyendo de izquierda a derecha,  existe la función `sorted`. Nos devuelve una lista ordenada del objeto iterable especificado"
   ]
  },
  {
   "cell_type": "code",
   "execution_count": 32,
   "metadata": {},
   "outputs": [
    {
     "data": {
      "text/plain": [
       "[1, 1, 2, 3, 4, 5, 9]"
      ]
     },
     "execution_count": 32,
     "metadata": {},
     "output_type": "execute_result"
    }
   ],
   "source": [
    "# De menor a mayor\n",
    "sorted([3, 1, 4, 1, 5, 9, 2])"
   ]
  },
  {
   "cell_type": "code",
   "execution_count": 29,
   "metadata": {},
   "outputs": [
    {
     "name": "stdout",
     "output_type": "stream",
     "text": [
      "['h', 'g', 'f', 'e', 'd', 'c', 'b', 'a']\n"
     ]
    }
   ],
   "source": [
    "# De mayor a menor \n",
    "a = [\"h\", \"b\", \"a\", \"c\", \"f\", \"d\", \"e\", \"g\"]\n",
    "x = sorted(a, reverse=True)\n",
    "print(x)"
   ]
  },
  {
   "cell_type": "markdown",
   "metadata": {},
   "source": [
    "**RECUERDA QUE LAS FUNCIONES NO SON EXCLUSIVAS DE UN OBJETO**"
   ]
  },
  {
   "cell_type": "markdown",
   "metadata": {},
   "source": [
    "### Índices\n",
    "A diferencia de un `str`, un `list` nos permite obtener, asignar, reemplazar y eliminar valores dentro de una lista."
   ]
  },
  {
   "cell_type": "code",
   "execution_count": 36,
   "metadata": {},
   "outputs": [
    {
     "data": {
      "text/plain": [
       "list"
      ]
     },
     "execution_count": 36,
     "metadata": {},
     "output_type": "execute_result"
    }
   ],
   "source": [
    "#Lista de mis colores favoritos\n",
    "#Num Elementos: 6\n",
    "colores = [\"morado\", \"amarillo\", \"café\", \"negro\", \"blanco\", \"ázul\"]\n",
    "type(colores)"
   ]
  },
  {
   "cell_type": "markdown",
   "metadata": {},
   "source": [
    "```c\n",
    " morado amarillo  café   negro   blanco   ázul\n",
    "   0       1       2       3       4       5\n",
    "  -6      -5      -4      -3      -2      -1\n",
    "```"
   ]
  },
  {
   "cell_type": "code",
   "execution_count": 39,
   "metadata": {},
   "outputs": [
    {
     "name": "stdout",
     "output_type": "stream",
     "text": [
      "morado\n",
      "morado\n"
     ]
    }
   ],
   "source": [
    "# Imprimir el primer valor\n",
    "print(colores[-6])\n",
    "print(colores[0])"
   ]
  },
  {
   "cell_type": "markdown",
   "metadata": {},
   "source": [
    "Para obtener el índice del último elemento de una lista lo podemos lograr con: \n",
    "* (Tamaño de la lista o número de elementos) - 1"
   ]
  },
  {
   "cell_type": "code",
   "execution_count": 40,
   "metadata": {},
   "outputs": [
    {
     "name": "stdout",
     "output_type": "stream",
     "text": [
      "5\n"
     ]
    }
   ],
   "source": [
    "indiceUltimoElemento = len(colores) - 1\n",
    "print(indiceUltimoElemento)"
   ]
  },
  {
   "cell_type": "markdown",
   "metadata": {},
   "source": [
    "**Slicing**"
   ]
  },
  {
   "cell_type": "markdown",
   "metadata": {},
   "source": [
    "En general, se puede hacer el *slice* de una lista en cualquiera de las siguientes maneras\n",
    "```python\n",
    "list [ini:fin] # Del índice *ini* hasta el índice *fin - 1*\n",
    "list [ini:]    # Del indice *ini* hasta el fin del string\n",
    "list [:fin]    # Del inicio del string hasta  *fin - 1*\n",
    "list [:]       # Una copia del string\n",
    "```"
   ]
  },
  {
   "cell_type": "code",
   "execution_count": 15,
   "metadata": {},
   "outputs": [
    {
     "data": {
      "text/plain": [
       "['morado', 'amarillo', 'café']"
      ]
     },
     "execution_count": 15,
     "metadata": {},
     "output_type": "execute_result"
    }
   ],
   "source": [
    "# Imprimier los primeros 3 valores \n",
    "colores[0:3]"
   ]
  },
  {
   "cell_type": "code",
   "execution_count": 42,
   "metadata": {},
   "outputs": [
    {
     "data": {
      "text/plain": [
       "['amarillo', 'café', 'negro', 'blanco', 'ázul']"
      ]
     },
     "execution_count": 42,
     "metadata": {},
     "output_type": "execute_result"
    }
   ],
   "source": [
    "#Imprime del segundo color al último\n",
    "colores[1:]"
   ]
  },
  {
   "cell_type": "code",
   "execution_count": 43,
   "metadata": {},
   "outputs": [
    {
     "data": {
      "text/plain": [
       "['morado', 'amarillo', 'café', 'negro', 'blanco', 'ázul']"
      ]
     },
     "execution_count": 43,
     "metadata": {},
     "output_type": "execute_result"
    }
   ],
   "source": [
    "#Imprime toda la lista\n",
    "colores[:]"
   ]
  },
  {
   "cell_type": "markdown",
   "metadata": {},
   "source": [
    "**Copiar dos listas**\n",
    "\n",
    "Cada elemento en python lo identifica un único `id`.\n"
   ]
  },
  {
   "cell_type": "code",
   "execution_count": 53,
   "metadata": {},
   "outputs": [
    {
     "name": "stdout",
     "output_type": "stream",
     "text": [
      "['h', 'g', 'f', 'e', 'd', 'c', 'b', 'a']\n"
     ]
    }
   ],
   "source": [
    "print(x)"
   ]
  },
  {
   "cell_type": "code",
   "execution_count": 55,
   "metadata": {},
   "outputs": [
    {
     "name": "stdout",
     "output_type": "stream",
     "text": [
      "140585336276672\n",
      "140585336421888\n",
      "['f', 'e', 'd', 'c']\n"
     ]
    }
   ],
   "source": [
    "#Copiar de tu lista x a una nueva lista\n",
    "unCachitodex = x[2:6]\n",
    "print(id(x))\n",
    "print(id(unCachitodex))\n",
    "print(unCachitodex)"
   ]
  },
  {
   "cell_type": "markdown",
   "metadata": {},
   "source": [
    "De la lista colores saca los primeros 3 elementos y cópialas a una nueva lista llamada \"menosColores\""
   ]
  },
  {
   "cell_type": "code",
   "execution_count": 47,
   "metadata": {},
   "outputs": [
    {
     "name": "stdout",
     "output_type": "stream",
     "text": [
      "['rosa', 'amarillo', 'café', 'negro', 'blanco', 'ázul']\n",
      "['rosa', 'amarillo', 'café']\n"
     ]
    }
   ],
   "source": [
    "print(colores)\n",
    "menosColores = colores[:3]\n",
    "print(menosColores)"
   ]
  },
  {
   "cell_type": "markdown",
   "metadata": {},
   "source": [
    "### Mutabilidad"
   ]
  },
  {
   "cell_type": "code",
   "execution_count": 44,
   "metadata": {},
   "outputs": [
    {
     "data": {
      "text/plain": [
       "'rosa'"
      ]
     },
     "execution_count": 44,
     "metadata": {},
     "output_type": "execute_result"
    }
   ],
   "source": [
    "#Remplazar el elemento 0 de la lista por el color rosa\n",
    "colores[0] = \"rosa\"\n",
    "colores[0]"
   ]
  },
  {
   "cell_type": "markdown",
   "metadata": {},
   "source": [
    "**Concatenar dos listas**"
   ]
  },
  {
   "cell_type": "code",
   "execution_count": 51,
   "metadata": {},
   "outputs": [
    {
     "name": "stdout",
     "output_type": "stream",
     "text": [
      "['Luis', 'Martha', 'Mario', 'Ale', 'Andrea', 'Rafa']\n"
     ]
    }
   ],
   "source": [
    "alumnos = [\"Luis\", \"Martha\", \"Mario\", \"Ale\"]\n",
    "\n",
    "profesores = [\"Andrea\", \"Rafa\"]\n",
    "\n",
    "personasTotales = alumnos + profesores\n",
    "print(personasTotales)"
   ]
  },
  {
   "cell_type": "code",
   "execution_count": 50,
   "metadata": {},
   "outputs": [
    {
     "ename": "TypeError",
     "evalue": "unsupported operand type(s) for -: 'list' and 'list'",
     "output_type": "error",
     "traceback": [
      "\u001b[0;31m---------------------------------------------------------------------------\u001b[0m",
      "\u001b[0;31mTypeError\u001b[0m                                 Traceback (most recent call last)",
      "\u001b[0;32m<ipython-input-50-e4095d64b608>\u001b[0m in \u001b[0;36m<module>\u001b[0;34m\u001b[0m\n\u001b[1;32m      2\u001b[0m \u001b[0malumnos2\u001b[0m \u001b[0;34m=\u001b[0m \u001b[0;34m[\u001b[0m\u001b[0;34m\"Luis\"\u001b[0m\u001b[0;34m,\u001b[0m \u001b[0;34m\"Martha\"\u001b[0m\u001b[0;34m,\u001b[0m \u001b[0;34m\"Mario\"\u001b[0m\u001b[0;34m,\u001b[0m \u001b[0;34m\"Ale\"\u001b[0m\u001b[0;34m]\u001b[0m\u001b[0;34m\u001b[0m\u001b[0;34m\u001b[0m\u001b[0m\n\u001b[1;32m      3\u001b[0m \u001b[0;34m\u001b[0m\u001b[0m\n\u001b[0;32m----> 4\u001b[0;31m \u001b[0mprint\u001b[0m\u001b[0;34m(\u001b[0m\u001b[0malumnos\u001b[0m \u001b[0;34m-\u001b[0m \u001b[0malumnos2\u001b[0m\u001b[0;34m)\u001b[0m\u001b[0;34m\u001b[0m\u001b[0;34m\u001b[0m\u001b[0m\n\u001b[0m",
      "\u001b[0;31mTypeError\u001b[0m: unsupported operand type(s) for -: 'list' and 'list'"
     ]
    }
   ],
   "source": [
    "alumnos = [\"Luis\", \"Martha\", \"Mario\", \"Ale\"]\n",
    "alumnos2 = [\"Luis\", \"Martha\", \"Mario\", \"Ale\"]\n",
    "\n",
    "print(alumnos - alumnos2)"
   ]
  },
  {
   "cell_type": "markdown",
   "metadata": {},
   "source": [
    "### Métodos de un `list`\n",
    "Al igual que los strings,ints,floats y booleanos , las listas contienen métodos (funciones definidas para una sola clase). En otras palabas, los métodos son únicos para cada tipo de objeto o estructura de dato."
   ]
  },
  {
   "cell_type": "code",
   "execution_count": 98,
   "metadata": {},
   "outputs": [
    {
     "name": "stdout",
     "output_type": "stream",
     "text": [
      "['morado', 'amarillo', 'café', 'negro', 'blanco', 'ázul']\n"
     ]
    }
   ],
   "source": [
    "colores = [\"morado\", \"amarillo\", \"café\", \"negro\", \"blanco\", \"ázul\"]\n",
    "print(colores)"
   ]
  },
  {
   "cell_type": "code",
   "execution_count": 134,
   "metadata": {},
   "outputs": [
    {
     "name": "stdout",
     "output_type": "stream",
     "text": [
      "['CELESTE', 'CELESTE', 'GRIS', 'blanco', 'café']\n"
     ]
    }
   ],
   "source": [
    "#Altera directamente a nuestra lista\n",
    "#NO NECESITAMOS NI PODREMOS GUARDARLA EN UNA VARIBLE\n",
    "#Gira toda nuestra lista\n",
    "colores.reverse()\n",
    "print(colores)"
   ]
  },
  {
   "cell_type": "code",
   "execution_count": 100,
   "metadata": {},
   "outputs": [
    {
     "name": "stdout",
     "output_type": "stream",
     "text": [
      "['ázul', 'blanco', 'negro', 'café', 'amarillo', 'morado', 'GRIS']\n"
     ]
    }
   ],
   "source": [
    "#Agregar un nuevo valor a nuestra lista \n",
    "colores.append(\"GRIS\")\n",
    "print(colores)"
   ]
  },
  {
   "cell_type": "code",
   "execution_count": 126,
   "metadata": {},
   "outputs": [
    {
     "name": "stdout",
     "output_type": "stream",
     "text": [
      "['CELESTE', 'CELESTE', 'GRIS', 'amarillo', 'blanco', 'café', 'morado', 'negro']\n"
     ]
    }
   ],
   "source": [
    "# Insertar 'CELESTE' en la segunda posición (índice)\n",
    "colores.insert(1, \"CELESTE\")\n",
    "print(colores)"
   ]
  },
  {
   "cell_type": "code",
   "execution_count": 102,
   "metadata": {},
   "outputs": [
    {
     "data": {
      "text/plain": [
       "7"
      ]
     },
     "execution_count": 102,
     "metadata": {},
     "output_type": "execute_result"
    }
   ],
   "source": [
    "#Encontrar el índice de un elemento a buscar\n",
    "colores.index(\"GRIS\")"
   ]
  },
  {
   "cell_type": "code",
   "execution_count": 103,
   "metadata": {},
   "outputs": [
    {
     "ename": "ValueError",
     "evalue": "'gris' is not in list",
     "output_type": "error",
     "traceback": [
      "\u001b[0;31m---------------------------------------------------------------------------\u001b[0m",
      "\u001b[0;31mValueError\u001b[0m                                Traceback (most recent call last)",
      "\u001b[0;32m<ipython-input-103-a0218214a3ff>\u001b[0m in \u001b[0;36m<module>\u001b[0;34m\u001b[0m\n\u001b[1;32m      1\u001b[0m \u001b[0;31m#No encontramos el elemento buscado\u001b[0m\u001b[0;34m\u001b[0m\u001b[0;34m\u001b[0m\u001b[0;34m\u001b[0m\u001b[0m\n\u001b[0;32m----> 2\u001b[0;31m \u001b[0mcolores\u001b[0m\u001b[0;34m.\u001b[0m\u001b[0mindex\u001b[0m\u001b[0;34m(\u001b[0m\u001b[0;34m\"gris\"\u001b[0m\u001b[0;34m)\u001b[0m\u001b[0;34m\u001b[0m\u001b[0;34m\u001b[0m\u001b[0m\n\u001b[0m",
      "\u001b[0;31mValueError\u001b[0m: 'gris' is not in list"
     ]
    }
   ],
   "source": [
    "#No encontramos el elemento buscado\n",
    "colores.index(\"gris\")"
   ]
  },
  {
   "cell_type": "code",
   "execution_count": 121,
   "metadata": {},
   "outputs": [
    {
     "name": "stdout",
     "output_type": "stream",
     "text": [
      "['CELESTE', 'GRIS', 'amarillo', 'blanco', 'café', 'morado', 'negro', 'ázul']\n"
     ]
    }
   ],
   "source": [
    "print(colores)"
   ]
  },
  {
   "cell_type": "code",
   "execution_count": 122,
   "metadata": {},
   "outputs": [
    {
     "name": "stdout",
     "output_type": "stream",
     "text": [
      "['CELESTE', 'GRIS', 'amarillo', 'blanco', 'café', 'morado', 'negro', 'ázul']\n"
     ]
    }
   ],
   "source": [
    "#Acomodar de menor a mayor \n",
    "colores.sort()\n",
    "print(colores)"
   ]
  },
  {
   "cell_type": "code",
   "execution_count": 123,
   "metadata": {},
   "outputs": [],
   "source": [
    "#help(list.sort)"
   ]
  },
  {
   "cell_type": "code",
   "execution_count": 131,
   "metadata": {},
   "outputs": [
    {
     "name": "stdout",
     "output_type": "stream",
     "text": [
      "['CELESTE', 'CELESTE', 'GRIS', 'amarillo', 'blanco', 'café']\n",
      "El color --morado-- acaba de ser eliminado\n"
     ]
    }
   ],
   "source": [
    "#Obten último elemento y elimínalo de la lista\n",
    "datoEliminado = colores.pop()\n",
    "print(colores)\n",
    "print(f\"El color --{datoEliminado}-- acaba de ser eliminado\")"
   ]
  },
  {
   "cell_type": "code",
   "execution_count": 132,
   "metadata": {},
   "outputs": [
    {
     "name": "stdout",
     "output_type": "stream",
     "text": [
      "['CELESTE', 'CELESTE', 'GRIS', 'blanco', 'café']\n"
     ]
    }
   ],
   "source": [
    "#Eliminar un dato en específico\n",
    "colores.remove(\"amarillo\")\n",
    "print(colores)"
   ]
  },
  {
   "cell_type": "code",
   "execution_count": 128,
   "metadata": {},
   "outputs": [
    {
     "name": "stdout",
     "output_type": "stream",
     "text": [
      "El total de CELESTES es:  2\n"
     ]
    }
   ],
   "source": [
    "#Contar el número de elementos \n",
    "print(\"El total de CELESTES es: \",colores.count(\"CELESTE\") )"
   ]
  },
  {
   "cell_type": "markdown",
   "metadata": {},
   "source": [
    "Dado que son muchos los métodos para una lista es importante estár enterado mínimo de que existen algunos. Es por eso que se anexa un página fuente para consultar más métodos. \n",
    "\n",
    "https://entrenamiento-python-basico.readthedocs.io/es/latest/leccion3/tipo_listas.html#:~:text=Una%20lista%20en%20Python%20es,el%20%C3%ADndice%20del%20primer%20elemento.&text=La%20funci%C3%B3n%20len()%20devuelve,(su%20cantidad%20de%20elementos)."
   ]
  },
  {
   "cell_type": "markdown",
   "metadata": {},
   "source": [
    "## Tuplas ( ) `tuple`\n",
    "\n",
    "Es un arreglo ordenado e inmutable de elementos. \n",
    "En la salida las tuplas siempre se encierran entre paréntesis, para que las tuplas anidadas puedan interpretarse correctamente. \n",
    "\n",
    "Se parecen a las listas pero no son lo mismo. "
   ]
  },
  {
   "cell_type": "code",
   "execution_count": 135,
   "metadata": {},
   "outputs": [
    {
     "data": {
      "text/plain": [
       "tuple"
      ]
     },
     "execution_count": 135,
     "metadata": {},
     "output_type": "execute_result"
    }
   ],
   "source": [
    "#Tupla de materias\n",
    "materias = (\"HCA\", \"ECO I\", \"IDEAS I\", \"HCA II\", \"ECO II\", \"IDEAS II\")\n",
    "type(materias)"
   ]
  },
  {
   "cell_type": "markdown",
   "metadata": {},
   "source": [
    "### Funciones"
   ]
  },
  {
   "cell_type": "code",
   "execution_count": 136,
   "metadata": {},
   "outputs": [
    {
     "name": "stdout",
     "output_type": "stream",
     "text": [
      "('HCA', 'ECO I', 'IDEAS I', 'HCA II', 'ECO II', 'IDEAS II')\n"
     ]
    }
   ],
   "source": [
    "print(materias)"
   ]
  },
  {
   "cell_type": "code",
   "execution_count": 141,
   "metadata": {},
   "outputs": [
    {
     "data": {
      "text/plain": [
       "6"
      ]
     },
     "execution_count": 141,
     "metadata": {},
     "output_type": "execute_result"
    }
   ],
   "source": [
    "len(materias)"
   ]
  },
  {
   "cell_type": "code",
   "execution_count": 142,
   "metadata": {},
   "outputs": [
    {
     "data": {
      "text/plain": [
       "['ECO I', 'ECO II', 'HCA', 'HCA II', 'IDEAS I', 'IDEAS II']"
      ]
     },
     "execution_count": 142,
     "metadata": {},
     "output_type": "execute_result"
    }
   ],
   "source": [
    "sorted(materias)"
   ]
  },
  {
   "cell_type": "markdown",
   "metadata": {},
   "source": [
    "### Métodos"
   ]
  },
  {
   "cell_type": "code",
   "execution_count": 137,
   "metadata": {},
   "outputs": [
    {
     "data": {
      "text/plain": [
       "1"
      ]
     },
     "execution_count": 137,
     "metadata": {},
     "output_type": "execute_result"
    }
   ],
   "source": [
    "materias.count(\"HCA II\")"
   ]
  },
  {
   "cell_type": "code",
   "execution_count": 138,
   "metadata": {},
   "outputs": [
    {
     "data": {
      "text/plain": [
       "3"
      ]
     },
     "execution_count": 138,
     "metadata": {},
     "output_type": "execute_result"
    }
   ],
   "source": [
    "materias.index(\"HCA II\")"
   ]
  },
  {
   "cell_type": "code",
   "execution_count": 139,
   "metadata": {},
   "outputs": [
    {
     "ename": "ValueError",
     "evalue": "tuple.index(x): x not in tuple",
     "output_type": "error",
     "traceback": [
      "\u001b[0;31m---------------------------------------------------------------------------\u001b[0m",
      "\u001b[0;31mValueError\u001b[0m                                Traceback (most recent call last)",
      "\u001b[0;32m<ipython-input-139-b920a60aea00>\u001b[0m in \u001b[0;36m<module>\u001b[0;34m\u001b[0m\n\u001b[0;32m----> 1\u001b[0;31m \u001b[0mmaterias\u001b[0m\u001b[0;34m.\u001b[0m\u001b[0mindex\u001b[0m\u001b[0;34m(\u001b[0m\u001b[0;36m1\u001b[0m\u001b[0;34m)\u001b[0m\u001b[0;34m\u001b[0m\u001b[0;34m\u001b[0m\u001b[0m\n\u001b[0m",
      "\u001b[0;31mValueError\u001b[0m: tuple.index(x): x not in tuple"
     ]
    }
   ],
   "source": [
    "materias.index(1)"
   ]
  },
  {
   "cell_type": "markdown",
   "metadata": {},
   "source": [
    "**Slicing**"
   ]
  },
  {
   "cell_type": "code",
   "execution_count": 144,
   "metadata": {},
   "outputs": [
    {
     "data": {
      "text/plain": [
       "('HCA', 'ECO I', 'IDEAS I')"
      ]
     },
     "execution_count": 144,
     "metadata": {},
     "output_type": "execute_result"
    }
   ],
   "source": [
    "materias[0:3]"
   ]
  },
  {
   "cell_type": "markdown",
   "metadata": {},
   "source": [
    "**Tuplas anidadas**"
   ]
  },
  {
   "cell_type": "code",
   "execution_count": 158,
   "metadata": {},
   "outputs": [],
   "source": [
    "tupla = ( (True,False), ( (12),(13),(14) ), \"hola\" , [1.0,2.0,3.0] )"
   ]
  },
  {
   "cell_type": "code",
   "execution_count": 154,
   "metadata": {},
   "outputs": [
    {
     "name": "stdout",
     "output_type": "stream",
     "text": [
      "((True, False), (12, 13, 14), 'hola')\n"
     ]
    }
   ],
   "source": [
    "print(tupla)"
   ]
  },
  {
   "cell_type": "code",
   "execution_count": 156,
   "metadata": {},
   "outputs": [
    {
     "data": {
      "text/plain": [
       "3"
      ]
     },
     "execution_count": 156,
     "metadata": {},
     "output_type": "execute_result"
    }
   ],
   "source": [
    "#¿Cuántos elementos tiene la tupla? \n",
    "len(tupla)"
   ]
  },
  {
   "cell_type": "code",
   "execution_count": 157,
   "metadata": {},
   "outputs": [
    {
     "data": {
      "text/plain": [
       "4"
      ]
     },
     "execution_count": 157,
     "metadata": {},
     "output_type": "execute_result"
    }
   ],
   "source": [
    "#¿Cuántos elementos tiene la tupla[2]? \n",
    "len(tupla[2])"
   ]
  },
  {
   "cell_type": "code",
   "execution_count": 146,
   "metadata": {},
   "outputs": [
    {
     "data": {
      "text/plain": [
       "tuple"
      ]
     },
     "execution_count": 146,
     "metadata": {},
     "output_type": "execute_result"
    }
   ],
   "source": [
    "#Crear una tupla sin paréntesis\n",
    "a=1,56,\"hola\",\"a\",\"adiós\",7.0,True\n",
    "type(a)"
   ]
  },
  {
   "cell_type": "markdown",
   "metadata": {},
   "source": [
    "### Propiedades de un *tuple*:"
   ]
  },
  {
   "cell_type": "code",
   "execution_count": 147,
   "metadata": {},
   "outputs": [
    {
     "data": {
      "text/plain": [
       "1"
      ]
     },
     "execution_count": 147,
     "metadata": {},
     "output_type": "execute_result"
    }
   ],
   "source": [
    "a[0]"
   ]
  },
  {
   "cell_type": "code",
   "execution_count": 148,
   "metadata": {},
   "outputs": [
    {
     "ename": "TypeError",
     "evalue": "'tuple' object does not support item assignment",
     "output_type": "error",
     "traceback": [
      "\u001b[0;31m---------------------------------------------------------------------------\u001b[0m",
      "\u001b[0;31mTypeError\u001b[0m                                 Traceback (most recent call last)",
      "\u001b[0;32m<ipython-input-148-8dadcf27e420>\u001b[0m in \u001b[0;36m<module>\u001b[0;34m\u001b[0m\n\u001b[1;32m      1\u001b[0m \u001b[0;31m#DIFERENCIA ENTRE UNA LISTA Y UNA TUPLA\u001b[0m\u001b[0;34m\u001b[0m\u001b[0;34m\u001b[0m\u001b[0;34m\u001b[0m\u001b[0m\n\u001b[1;32m      2\u001b[0m \u001b[0;31m# Una tupla es inmutable, así que una vez creada no puede ser modificada:\u001b[0m\u001b[0;34m\u001b[0m\u001b[0;34m\u001b[0m\u001b[0;34m\u001b[0m\u001b[0m\n\u001b[0;32m----> 3\u001b[0;31m \u001b[0ma\u001b[0m\u001b[0;34m[\u001b[0m\u001b[0;36m0\u001b[0m\u001b[0;34m]\u001b[0m\u001b[0;34m=\u001b[0m\u001b[0;36m3\u001b[0m\u001b[0;34m\u001b[0m\u001b[0;34m\u001b[0m\u001b[0m\n\u001b[0m",
      "\u001b[0;31mTypeError\u001b[0m: 'tuple' object does not support item assignment"
     ]
    }
   ],
   "source": [
    "#DIFERENCIA ENTRE UNA LISTA Y UNA TUPLA\n",
    "# Una tupla es inmutable, así que una vez creada no puede ser modificada:\n",
    "a[0]=3"
   ]
  }
 ],
 "metadata": {
  "kernelspec": {
   "display_name": "Python 3",
   "language": "python",
   "name": "python3"
  },
  "language_info": {
   "codemirror_mode": {
    "name": "ipython",
    "version": 3
   },
   "file_extension": ".py",
   "mimetype": "text/x-python",
   "name": "python",
   "nbconvert_exporter": "python",
   "pygments_lexer": "ipython3",
   "version": "3.8.5"
  }
 },
 "nbformat": 4,
 "nbformat_minor": 2
}
