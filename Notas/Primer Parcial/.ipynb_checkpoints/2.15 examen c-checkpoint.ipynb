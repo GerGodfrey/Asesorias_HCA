{
 "cells": [
  {
   "cell_type": "markdown",
   "metadata": {},
   "source": [
    "<img src=\"../../files/logo.png\" width=200>"
   ]
  },
  {
   "cell_type": "markdown",
   "metadata": {},
   "source": [
    "# HCA Examen Python\n"
   ]
  },
  {
   "cell_type": "markdown",
   "metadata": {},
   "source": [
    "## Pregunta 1"
   ]
  },
  {
   "cell_type": "markdown",
   "metadata": {},
   "source": [
    "Sin correr el programa define si el resultado será True o False"
   ]
  },
  {
   "cell_type": "code",
   "execution_count": 3,
   "metadata": {},
   "outputs": [
    {
     "data": {
      "text/plain": [
       "False"
      ]
     },
     "execution_count": 3,
     "metadata": {},
     "output_type": "execute_result"
    }
   ],
   "source": [
    "(10**2)/2 >= 32 and \"H0la\" == \"H0la\" and [1,2,3] == [3,2,1]"
   ]
  },
  {
   "cell_type": "markdown",
   "metadata": {},
   "source": [
    "## Pregunta 2"
   ]
  },
  {
   "cell_type": "markdown",
   "metadata": {},
   "source": [
    "Determina una función para calcular el Retorno de inversión (ROI) \n",
    "* Fórmula ROI:  $ {(v_f - v_i)/v_i} $\n",
    "Y pruébala con los siguientes datos : \n",
    "\n",
    "- nombre_funcion(1000,2000) = 1.0\n",
    "- nombre_funcion (3000,1500) = -0.05\n"
   ]
  },
  {
   "cell_type": "code",
   "execution_count": 4,
   "metadata": {},
   "outputs": [],
   "source": [
    "def fun_roi (vi,vf):\n",
    "    res = (vf-vi) / vi \n",
    "    return res"
   ]
  },
  {
   "cell_type": "code",
   "execution_count": 5,
   "metadata": {},
   "outputs": [
    {
     "data": {
      "text/plain": [
       "1.0"
      ]
     },
     "execution_count": 5,
     "metadata": {},
     "output_type": "execute_result"
    }
   ],
   "source": [
    "fun_roi(1000,2000)"
   ]
  },
  {
   "cell_type": "code",
   "execution_count": 6,
   "metadata": {},
   "outputs": [
    {
     "data": {
      "text/plain": [
       "-0.5"
      ]
     },
     "execution_count": 6,
     "metadata": {},
     "output_type": "execute_result"
    }
   ],
   "source": [
    "fun_roi(3000,1500)"
   ]
  },
  {
   "cell_type": "markdown",
   "metadata": {},
   "source": [
    "## Pregunta 3"
   ]
  },
  {
   "cell_type": "markdown",
   "metadata": {},
   "source": [
    "La taquería de la esquina nos ha pedido laborar un programa para facilitar el cálculo de la cuenta. \n",
    "Debemos definir los siguientes precios individuales: \n",
    "\n",
    "    * Tipo de taco : S para chico $25 , M mediano $40 , G grande $50\n",
    "  \n",
    "    * Con queso $10, Sin queso $0 \n",
    "    \n",
    "    * Orden de cebolla $30 , Sin orden de cebolla $0 \n",
    "    \n",
    "    * Refresco $20, Agua $15 , Nada $0\n",
    "    \n",
    "    * Pago con tarjeta aumentará 3% más\n",
    "    "
   ]
  },
  {
   "cell_type": "code",
   "execution_count": 12,
   "metadata": {},
   "outputs": [
    {
     "name": "stdout",
     "output_type": "stream",
     "text": [
      "que tipo de hamburguesa quieres? (s,d,t)s\n",
      "¿Con queso? (si,no)n\n",
      "Quieres orden de cebolla? (si,no)n\n",
      "Quieres refresco,agua o nada ? (r,a,n)r\n",
      "¿Pagas con tarjeta? (si,no)n\n",
      "El total ha pagar es de:  45\n"
     ]
    }
   ],
   "source": [
    "cuenta = 0 \n",
    "a=input(\"que tipo de hamburguesa quieres? (s,d,t)\")\n",
    "\n",
    "if a ==\"S\" or a == \"s\":\n",
    "    cuenta = cuenta + 25\n",
    "elif a ==\"D\" or a ==\"d\":\n",
    "    cuenta = cuenta + 40 \n",
    "elif a == \"G\" or a == \"g\":\n",
    "    cuenta = cuenta + 50 \n",
    "else: \n",
    "    cuenta = \"error\"\n",
    "    \n",
    "b = input(\"¿Con queso? (si,no)\")\n",
    "\n",
    "if b ==\"sí\" or b ==\"s\" or b==\"si\":\n",
    "    cuenta = cuenta + 10\n",
    "elif b ==\"no\" or b == \"n\" :\n",
    "    cuenta = cuenta \n",
    "else: \n",
    "    cuenta = \"error\" \n",
    "    \n",
    "c = input(\"Quieres orden de cebolla? (si,no)\")\n",
    "\n",
    "if c ==\"sí\" or c ==\"s\" or c ==\"si\":\n",
    "    cuenta = cuenta + 30 \n",
    "elif c ==\"no\" or c == \"n\" :\n",
    "    cuenta = cuenta \n",
    "else : \n",
    "    cuenta = \"error\"\n",
    "    \n",
    "d = input(\"Quieres refresco,agua o nada ? (r,a,n)\")\n",
    "if d ==\"R\" or d == \"r\":\n",
    "    cuenta = cuenta + 20 \n",
    "elif d ==\"a\" or d == \"A\":\n",
    "    cuenta = cuenta + 15\n",
    "elif d == \"n\" or d == \"N\":\n",
    "    cuenta = cuenta \n",
    "else: \n",
    "    cuenta = \"error\"\n",
    "    \n",
    "e = input(\"¿Pagas con tarjeta? (si,no)\")\n",
    "if e ==\"sí\" or e ==\"s\" or e ==\"si\":\n",
    "    cuenta = cuenta + (cuenta* 0.03)\n",
    "elif e ==\"no\" or e == \"n\" :\n",
    "    cuenta = cuenta \n",
    "else : \n",
    "    cuenta =\"error\"\n",
    "    \n",
    "print (\"El total ha pagar es de: \", cuenta)"
   ]
  },
  {
   "cell_type": "markdown",
   "metadata": {},
   "source": [
    "¿Cómo la pasarías a una función?"
   ]
  },
  {
   "cell_type": "markdown",
   "metadata": {},
   "source": [
    "## Pregunta 4"
   ]
  },
  {
   "cell_type": "markdown",
   "metadata": {},
   "source": [
    "Crea los siguientes 2 conjuntos de números enteros, positivos, menores a 5,000:\n",
    "* los múltiplos de 5,\n",
    "{5,10,15,...,}\n",
    "\n",
    "* los múltiplos de 11,\n",
    "{11,22,33,44,...,}\n",
    "\n",
    "* los múltiplis de 12, \n",
    "{12,24,36,...,}"
   ]
  },
  {
   "cell_type": "code",
   "execution_count": 23,
   "metadata": {},
   "outputs": [],
   "source": [
    "conj5= set(range(5,5000,5))\n",
    "conj11=set(range(11,5000,11))\n",
    "conj12 = set(range(12,5000,12))"
   ]
  },
  {
   "cell_type": "markdown",
   "metadata": {},
   "source": [
    "¿Cuál es el conjunto de los números que son múltiplos de 5 y de 7 ?\n",
    "¿Cuáles son los múltiplos de 12 que no pertenecen al conjunto de 5 y 7?"
   ]
  },
  {
   "cell_type": "code",
   "execution_count": 35,
   "metadata": {},
   "outputs": [
    {
     "name": "stdout",
     "output_type": "stream",
     "text": [
      "{1540, 3080, 4620, 1045, 2585, 4125, 550, 2090, 3630, 55, 1595, 3135, 4675, 1100, 2640, 4180, 605, 2145, 3685, 110, 1650, 3190, 4730, 1155, 2695, 4235, 660, 2200, 3740, 165, 1705, 3245, 4785, 1210, 2750, 4290, 715, 2255, 3795, 220, 1760, 3300, 4840, 1265, 2805, 4345, 770, 2310, 3850, 275, 1815, 3355, 4895, 1320, 2860, 4400, 825, 2365, 3905, 330, 1870, 3410, 4950, 1375, 2915, 4455, 880, 2420, 3960, 385, 1925, 3465, 1430, 2970, 4510, 935, 2475, 4015, 440, 1980, 3520, 1485, 3025, 4565, 990, 2530, 4070, 495, 2035, 3575}\n",
      "------\n",
      "{3072, 2052, 4104, 1032, 3080, 12, 3084, 2064, 4116, 1044, 1045, 24, 3096, 2076, 4125, 4128, 1056, 36, 3108, 2088, 2090, 4140, 1068, 48, 3120, 2100, 55, 4152, 1080, 60, 3132, 3135, 2112, 4164, 1092, 72, 3144, 2124, 1100, 4176, 1104, 84, 3156, 4180, 2136, 4188, 1116, 96, 3168, 2145, 2148, 4200, 1128, 108, 3180, 4092, 110, 2160, 4212, 1140, 3190, 120, 3192, 2172, 4224, 1152, 1155, 132, 3204, 2184, 4235, 4236, 1164, 144, 3216, 2196, 4248, 1176, 2200, 156, 3228, 2208, 4260, 1188, 165, 168, 3240, 2220, 3245, 4272, 1200, 180, 3252, 2232, 1210, 4284, 1212, 192, 3264, 4290, 2244, 4296, 1224, 204, 3276, 2255, 2256, 4308, 1236, 216, 3288, 2268, 220, 4320, 1248, 228, 2280, 4332, 1260, 240, 3312, 1265, 2292, 4344, 1272, 4345, 252, 3324, 2304, 4356, 1284, 2310, 264, 3336, 2316, 4368, 1296, 275, 276, 3348, 2328, 3355, 4380, 1308, 288, 3360, 2340, 4392, 300, 3372, 2352, 4400, 4404, 1332, 312, 3384, 2364, 2365, 4416, 1344, 324, 3396, 2376, 330, 4428, 1356, 336, 3408, 3410, 2388, 4440, 1368, 348, 3420, 1375, 2400, 4452, 1380, 4455, 360, 3432, 2412, 4464, 1392, 372, 3444, 2420, 2424, 4476, 1404, 384, 3456, 385, 2436, 4488, 1416, 3465, 396, 3468, 2448, 4500, 1428, 1430, 408, 3480, 2460, 4510, 4512, 1440, 420, 3492, 2472, 2475, 4524, 1452, 432, 3504, 2484, 4536, 1464, 440, 444, 3516, 2496, 3520, 4548, 1476, 456, 3528, 2508, 1485, 4560, 1488, 468, 3540, 4565, 2520, 4572, 1500, 480, 3552, 2530, 2532, 4584, 1512, 492, 3564, 495, 2544, 4596, 1524, 3575, 504, 3576, 2556, 4608, 1536, 516, 3588, 1540, 2568, 1548, 528, 3600, 2580, 4632, 1560, 2585, 540, 3612, 2592, 4644, 1572, 550, 552, 3624, 2604, 3630, 4656, 1584, 564, 3636, 2616, 1595, 4668, 1596, 576, 3648, 4675, 2628, 4680, 1608, 588, 3660, 4692, 1620, 600, 3672, 2652, 605, 4704, 1632, 612, 3684, 3685, 2664, 4716, 1644, 624, 3696, 1650, 2676, 4728, 1656, 4730, 636, 3708, 2688, 4740, 1668, 2695, 648, 3720, 2700, 4752, 1680, 3732, 2712, 4764, 1692, 3740, 672, 3744, 2724, 4776, 1704, 1705, 684, 3756, 2736, 4785, 4788, 1716, 696, 3768, 2748, 2750, 4800, 1728, 708, 3780, 2760, 715, 4812, 1740, 720, 3792, 3795, 2772, 4824, 1752, 732, 3804, 2784, 1760, 4836, 1764, 744, 3816, 4840, 2796, 4848, 1776, 756, 3828, 2805, 2808, 4860, 1788, 768, 3840, 770, 2820, 4872, 1800, 3850, 780, 3852, 2832, 4884, 1812, 1815, 792, 3864, 2844, 4895, 4896, 1824, 804, 3876, 2856, 4908, 1836, 2860, 816, 3888, 2868, 4920, 1848, 825, 828, 3900, 2880, 3905, 4932, 1860, 840, 3912, 2892, 1870, 4944, 1872, 852, 3924, 4950, 2904, 4956, 1884, 864, 3936, 2915, 2916, 4968, 1896, 876, 3948, 2928, 880, 4980, 1908, 888, 2940, 4992, 1920, 900, 3972, 1925, 2952, 1932, 912, 3984, 2964, 1944, 2970, 924, 3996, 2976, 1956, 935, 936, 4008, 2988, 4015, 1968, 948, 4020, 3000, 960, 4032, 3012, 1992, 972, 4044, 3024, 3025, 2004, 984, 4056, 3036, 990, 2016, 996, 4068, 4070, 3048, 2028, 1008, 4080, 2035, 3060, 2040, 1020}\n"
     ]
    }
   ],
   "source": [
    "c5c11=(conj5&conj11)\n",
    "print(c5c11)\n",
    "print(\"------\")\n",
    "c12_c5c11 = c5c11 ^conj12\n",
    "print(c12_c5c11)"
   ]
  },
  {
   "cell_type": "markdown",
   "metadata": {},
   "source": [
    "## Pregunta 5"
   ]
  },
  {
   "cell_type": "markdown",
   "metadata": {},
   "source": [
    "Escribe un programa que multiplique por dos el valor del siguiente diccionario  \n",
    "\n",
    "{\"perros\":2,\"gatos\":5,\"arañas\":9,\"iguanas\":12}"
   ]
  },
  {
   "cell_type": "code",
   "execution_count": 36,
   "metadata": {},
   "outputs": [],
   "source": [
    "an= {\"perros\":2,\"gatos\":5,\"arañas\":9,\"iguanas\":12}"
   ]
  },
  {
   "cell_type": "code",
   "execution_count": 38,
   "metadata": {},
   "outputs": [
    {
     "data": {
      "text/plain": [
       "[4, 10, 18, 24]"
      ]
     },
     "execution_count": 38,
     "metadata": {},
     "output_type": "execute_result"
    }
   ],
   "source": [
    "[x*2 for x in an.values()]"
   ]
  },
  {
   "cell_type": "code",
   "execution_count": null,
   "metadata": {},
   "outputs": [],
   "source": []
  }
 ],
 "metadata": {
  "kernelspec": {
   "display_name": "Python 3",
   "language": "python",
   "name": "python3"
  },
  "language_info": {
   "codemirror_mode": {
    "name": "ipython",
    "version": 3
   },
   "file_extension": ".py",
   "mimetype": "text/x-python",
   "name": "python",
   "nbconvert_exporter": "python",
   "pygments_lexer": "ipython3",
   "version": "3.8.5"
  }
 },
 "nbformat": 4,
 "nbformat_minor": 4
}
