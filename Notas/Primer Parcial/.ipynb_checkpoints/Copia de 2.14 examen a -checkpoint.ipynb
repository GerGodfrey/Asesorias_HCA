{
 "cells": [
  {
   "cell_type": "markdown",
   "metadata": {},
   "source": [
    "<img src=\"../../files/logo.png\" width=200>"
   ]
  },
  {
   "cell_type": "markdown",
   "metadata": {},
   "source": [
    "# HCA Examen Python"
   ]
  },
  {
   "cell_type": "markdown",
   "metadata": {},
   "source": [
    "##  Pregunta 1"
   ]
  },
  {
   "cell_type": "markdown",
   "metadata": {},
   "source": [
    "A continuación tiene las claves de los productos que se encuentran en diferentes países. "
   ]
  },
  {
   "cell_type": "code",
   "execution_count": 1,
   "metadata": {},
   "outputs": [],
   "source": [
    "Mexico   = {18403,18736,18578,18238,17171,18778,18308,18985,18156,18328,18175,110,18614,18349,18220,17482,17511,17626,17337,17874,17268,17752,18491,18987}\n",
    "Colombia = {18679,18736,18736,18531,18578,18238,18308,17254,18175,17203,18220,17798,18987,110}\n",
    "Eua      ={18578,18238,17071,18778,18985,17254,18156,18175,110,18614,18220,17482,17511,17337,18987}"
   ]
  },
  {
   "cell_type": "code",
   "execution_count": 2,
   "metadata": {},
   "outputs": [
    {
     "data": {
      "text/plain": [
       "set"
      ]
     },
     "execution_count": 2,
     "metadata": {},
     "output_type": "execute_result"
    }
   ],
   "source": [
    "type(Eua)"
   ]
  },
  {
   "cell_type": "code",
   "execution_count": 3,
   "metadata": {},
   "outputs": [
    {
     "name": "stdout",
     "output_type": "stream",
     "text": [
      "Using matplotlib backend: MacOSX\n",
      "Populating the interactive namespace from numpy and matplotlib\n"
     ]
    }
   ],
   "source": [
    "%pylab"
   ]
  },
  {
   "cell_type": "code",
   "execution_count": 4,
   "metadata": {},
   "outputs": [
    {
     "name": "stdout",
     "output_type": "stream",
     "text": [
      "Total Productos de México:  24\n",
      "Total Productos de Colombia:  13\n",
      "Total Productos de Eua:  15\n"
     ]
    }
   ],
   "source": [
    "print(\"Total Productos de México: \", len(Mexico))\n",
    "print(\"Total Productos de Colombia: \", len(Colombia))\n",
    "print(\"Total Productos de Eua: \", len(Eua))"
   ]
  },
  {
   "cell_type": "raw",
   "metadata": {},
   "source": [
    "¿qué país tiene más productos? (1 punto)"
   ]
  },
  {
   "cell_type": "code",
   "execution_count": 5,
   "metadata": {},
   "outputs": [
    {
     "data": {
      "text/plain": [
       "'México'"
      ]
     },
     "execution_count": 5,
     "metadata": {},
     "output_type": "execute_result"
    }
   ],
   "source": [
    "\"México\""
   ]
  },
  {
   "cell_type": "raw",
   "metadata": {},
   "source": [
    "¿qué productos están en todos los países? y ¿cúantos son? (1 punto)"
   ]
  },
  {
   "cell_type": "code",
   "execution_count": 6,
   "metadata": {},
   "outputs": [
    {
     "name": "stdout",
     "output_type": "stream",
     "text": [
      "{18987, 18220, 110, 18578, 18238, 18175}\n"
     ]
    },
    {
     "data": {
      "text/plain": [
       "6"
      ]
     },
     "execution_count": 6,
     "metadata": {},
     "output_type": "execute_result"
    }
   ],
   "source": [
    "mundo=((Mexico).intersection(Colombia)).intersection(Eua)\n",
    "print(mundo)\n",
    "len(mundo)"
   ]
  },
  {
   "cell_type": "raw",
   "metadata": {},
   "source": [
    "¿qué productos están solo en un país? y ¿cúantos son? (1 punto) "
   ]
  },
  {
   "cell_type": "code",
   "execution_count": 9,
   "metadata": {},
   "outputs": [
    {
     "name": "stdout",
     "output_type": "stream",
     "text": [
      "{17798, 18578, 17171, 18328, 18987, 18220, 18349, 17071, 17203, 18491, 18238, 17874, 17752, 17626, 18531, 18403, 110, 17268, 18679, 18175}\n",
      "20\n"
     ]
    }
   ],
   "source": [
    "pais= (Mexico ^ Colombia ^ Eua )\n",
    "print(pais)\n",
    "print(len(pais))"
   ]
  },
  {
   "cell_type": "markdown",
   "metadata": {},
   "source": [
    "Comprueba de alguna manera que que sea correcto "
   ]
  },
  {
   "cell_type": "code",
   "execution_count": 23,
   "metadata": {},
   "outputs": [
    {
     "name": "stdout",
     "output_type": "stream",
     "text": [
      "Colombia 17798\n",
      "EUA 18578\n",
      "México 17171\n",
      "México 18328\n",
      "EUA 18987\n",
      "EUA 18220\n",
      "México 18349\n",
      "EUA 17071\n",
      "Colombia 17203\n",
      "México 18491\n",
      "EUA 18238\n",
      "México 17874\n",
      "México 17752\n",
      "México 17626\n",
      "Colombia 18531\n",
      "México 18403\n",
      "EUA 110\n",
      "México 17268\n",
      "Colombia 18679\n",
      "EUA 18175\n"
     ]
    }
   ],
   "source": [
    "for x in pais:\n",
    "    if(x in Mexico and (not( x in colConj) or not( x in euaConj) )):\n",
    "        print(\"México\", x)\n",
    "    elif (x in colConj and (not( x in Mexico) or not( x in euaConj)) ):\n",
    "        print(\"Colombia\",x)\n",
    "    else:\n",
    "        print(\"EUA\",x)"
   ]
  },
  {
   "cell_type": "markdown",
   "metadata": {},
   "source": [
    "## Pregunta 2"
   ]
  },
  {
   "cell_type": "markdown",
   "metadata": {},
   "source": [
    "Tenemos las cantidades totales de una criptomoneda que poseen nuestros clientes. Su costo en el mercado equivale a 1.5 pesos mexicanos. "
   ]
  },
  {
   "cell_type": "code",
   "execution_count": 24,
   "metadata": {},
   "outputs": [],
   "source": [
    "montoCripto = [3179,8605,7012,7176,3281,8468,6678,8237,9570,9733,8237,7338,8028,4723,1670,8364,3505,2165,4871,9330]\n"
   ]
  },
  {
   "cell_type": "raw",
   "metadata": {},
   "source": [
    "Crea una lista de cuantos pesos mexicanos tiene cada usuario. Esto se calcula el total de criptomonedas entre el costo. (2 puntos)"
   ]
  },
  {
   "cell_type": "code",
   "execution_count": 25,
   "metadata": {},
   "outputs": [
    {
     "name": "stdout",
     "output_type": "stream",
     "text": [
      "[2119.3333333333335, 5736.666666666667, 4674.666666666667, 4784.0, 2187.3333333333335, 5645.333333333333, 4452.0, 5491.333333333333, 6380.0, 6488.666666666667, 5491.333333333333, 4892.0, 5352.0, 3148.6666666666665, 1113.3333333333333, 5576.0, 2336.6666666666665, 1443.3333333333333, 3247.3333333333335, 6220.0]\n"
     ]
    }
   ],
   "source": [
    "pm=1.5\n",
    "\n",
    "totalPesos=[x/pm for x in list(montoCripto)]\n",
    "print(totalPesos)\n",
    "    "
   ]
  },
  {
   "cell_type": "raw",
   "metadata": {},
   "source": [
    "¿cuál es el total de pesos que tenemos como empresa? (1 punto)"
   ]
  },
  {
   "cell_type": "code",
   "execution_count": 26,
   "metadata": {},
   "outputs": [
    {
     "name": "stdout",
     "output_type": "stream",
     "text": [
      "Tenemos $ 86779.99999999999\n"
     ]
    }
   ],
   "source": [
    "print(f\"Tenemos $ {sum(totalPesos)}\")"
   ]
  },
  {
   "cell_type": "markdown",
   "metadata": {},
   "source": [
    "¿Cuántos clientes totales tenemos?"
   ]
  },
  {
   "cell_type": "code",
   "execution_count": 27,
   "metadata": {},
   "outputs": [
    {
     "data": {
      "text/plain": [
       "20"
      ]
     },
     "execution_count": 27,
     "metadata": {},
     "output_type": "execute_result"
    }
   ],
   "source": [
    "len(montoCripto)"
   ]
  },
  {
   "cell_type": "markdown",
   "metadata": {},
   "source": [
    "Los clientes con los 10 montos más bajos de criptomonedas han decidido salirse.\n",
    "Crea una lista apoyándote de la otra para crear está nueva. (No puedes afectar montoCripto)"
   ]
  },
  {
   "cell_type": "code",
   "execution_count": 28,
   "metadata": {},
   "outputs": [],
   "source": [
    "montoCriptoOrdenados = sorted(montoCripto)"
   ]
  },
  {
   "cell_type": "code",
   "execution_count": 34,
   "metadata": {},
   "outputs": [],
   "source": [
    "NuevaCartera = montoCriptoOrdenados[11:]"
   ]
  },
  {
   "cell_type": "code",
   "execution_count": 35,
   "metadata": {},
   "outputs": [
    {
     "name": "stdout",
     "output_type": "stream",
     "text": [
      "La nueva cartera es de : [8028, 8237, 8237, 8364, 8468, 8605, 9330, 9570, 9733]\n"
     ]
    }
   ],
   "source": [
    "print(\"La nueva cartera es de :\",NuevaCartera )"
   ]
  },
  {
   "cell_type": "markdown",
   "metadata": {},
   "source": [
    "Nuestros 10 clientes han hecho movimientos con sus criptomonedas. Se representa en una lista con los montos gastados correspondientemente. Crea una lista con los nuevos montos (3 puntos)"
   ]
  },
  {
   "cell_type": "code",
   "execution_count": 36,
   "metadata": {},
   "outputs": [],
   "source": [
    "montogastado = [28,0,37,64,68,5,1000,30,570,33]\n"
   ]
  },
  {
   "cell_type": "code",
   "execution_count": 37,
   "metadata": {},
   "outputs": [
    {
     "name": "stdout",
     "output_type": "stream",
     "text": [
      "[8000, 8237, 8200, 8300, 8400, 8600, 8330, 9540, 9163]\n"
     ]
    }
   ],
   "source": [
    "gastos=[a-b for a,b in zip(NuevaCartera,montogastado) ]\n",
    "print(gastos)"
   ]
  },
  {
   "cell_type": "code",
   "execution_count": null,
   "metadata": {},
   "outputs": [],
   "source": []
  }
 ],
 "metadata": {
  "kernelspec": {
   "display_name": "Python 3",
   "language": "python",
   "name": "python3"
  },
  "language_info": {
   "codemirror_mode": {
    "name": "ipython",
    "version": 3
   },
   "file_extension": ".py",
   "mimetype": "text/x-python",
   "name": "python",
   "nbconvert_exporter": "python",
   "pygments_lexer": "ipython3",
   "version": "3.8.5"
  }
 },
 "nbformat": 4,
 "nbformat_minor": 4
}
