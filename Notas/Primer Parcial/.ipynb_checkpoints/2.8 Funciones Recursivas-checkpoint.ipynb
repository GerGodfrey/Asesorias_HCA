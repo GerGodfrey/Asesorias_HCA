{
 "cells": [
  {
   "cell_type": "markdown",
   "metadata": {},
   "source": [
    "<img src=\"../../files/logo.png\" width=200>"
   ]
  },
  {
   "cell_type": "markdown",
   "metadata": {},
   "source": [
    "# Funciones recursivas"
   ]
  },
  {
   "cell_type": "markdown",
   "metadata": {},
   "source": [
    "<img src=\"../../files/recu.png\" width=500>"
   ]
  },
  {
   "cell_type": "markdown",
   "metadata": {},
   "source": [
    "Son funciones pero con la diferencia que se llaman a sí mismas durante su propia ejecución. Debemos de encargarnos de planificar con exactitud la salida o el momento en que dejan de llamarse a sí mismas o tendremos un ciclo infinito.\n"
   ]
  },
  {
   "cell_type": "code",
   "execution_count": 31,
   "metadata": {},
   "outputs": [
    {
     "name": "stdout",
     "output_type": "stream",
     "text": [
      "dame num: 5\n",
      "5\n",
      "4\n",
      "3\n",
      "2\n",
      "1\n",
      "Booom!!\n"
     ]
    }
   ],
   "source": [
    "num = int(input(\"dame num: \"))\n",
    "\n",
    "while(num > 0 ):\n",
    "    print(num)\n",
    "    num = num - 1 \n",
    "    \n",
    "print(\"Booom!!\")"
   ]
  },
  {
   "cell_type": "code",
   "execution_count": 34,
   "metadata": {},
   "outputs": [],
   "source": [
    "def cuenta_regresiva(num2):\n",
    "    if num2 > 0 :\n",
    "        print(num2)\n",
    "        num2 = num2 -1\n",
    "        #Lo mágico\n",
    "        cuenta_regresiva(num2)\n",
    "    else:\n",
    "        print(\"Booooooooooooom!!!\")"
   ]
  },
  {
   "cell_type": "code",
   "execution_count": 35,
   "metadata": {},
   "outputs": [
    {
     "name": "stdout",
     "output_type": "stream",
     "text": [
      "5\n",
      "4\n",
      "3\n",
      "2\n",
      "1\n",
      "Booooooooooooom!!!\n"
     ]
    }
   ],
   "source": [
    "cuenta_regresiva(5)\n",
    "# 5 \n",
    "#5 > 0 ->>> 4 \n",
    "# 4\n",
    "# 4 > 0 ->>> 3 \n",
    "# 3 \n",
    "# 3 > 0 ->>> 2 \n",
    "# 2 \n",
    "# 2 > 0 ->>>> 1 \n",
    "# 1 \n",
    "#1 > 0 ->>>> 0\n",
    "#0"
   ]
  },
  {
   "cell_type": "code",
   "execution_count": null,
   "metadata": {},
   "outputs": [],
   "source": []
  },
  {
   "cell_type": "markdown",
   "metadata": {},
   "source": [
    "Escribe una función que defina el factorial de cualquier número."
   ]
  },
  {
   "cell_type": "markdown",
   "metadata": {},
   "source": [
    "<img src=\"../../files/recu2.png\" width=500>"
   ]
  },
  {
   "cell_type": "code",
   "execution_count": 37,
   "metadata": {},
   "outputs": [],
   "source": [
    "def factorial (numero):\n",
    "    print(\"Valor inicial: \", numero)\n",
    "    if(numero > 1 ):\n",
    "        numero = numero * factorial(numero-1)\n",
    "    print(\"Valor final: \", numero)\n",
    "    return numero"
   ]
  },
  {
   "cell_type": "code",
   "execution_count": 38,
   "metadata": {},
   "outputs": [
    {
     "name": "stdout",
     "output_type": "stream",
     "text": [
      "Valor inicial:  5\n",
      "Valor inicial:  4\n",
      "Valor inicial:  3\n",
      "Valor inicial:  2\n",
      "Valor inicial:  1\n",
      "Valor final:  1\n",
      "Valor final:  2\n",
      "Valor final:  6\n",
      "Valor final:  24\n",
      "Valor final:  120\n",
      "120\n"
     ]
    }
   ],
   "source": [
    "print(factorial(5))"
   ]
  },
  {
   "cell_type": "markdown",
   "metadata": {},
   "source": [
    "<h2 style=\"color:#d62728\">Ejercicios</h2>"
   ]
  },
  {
   "cell_type": "markdown",
   "metadata": {},
   "source": [
    "Defina una función el cuál el usuario deba de escribir su contraseña y si no es igual a \"HolaMundo\" por tres veces le imprima error y lo saque del programa"
   ]
  },
  {
   "cell_type": "code",
   "execution_count": 40,
   "metadata": {},
   "outputs": [],
   "source": [
    "def fun (contar=3):  # 3 , 2 , 1 \n",
    "    contraseña = input(\"escribe una contraseña\")\n",
    "    if(contar <= 1):\n",
    "        print(\"Sin intentos---ERROR-----\")\n",
    "    elif(contraseña != \"HolaMundo\"):\n",
    "        print(contar)\n",
    "        fun(contar-1)\n",
    "    else: \n",
    "        print(\"Bienvenido\")"
   ]
  },
  {
   "cell_type": "code",
   "execution_count": 41,
   "metadata": {},
   "outputs": [
    {
     "name": "stdout",
     "output_type": "stream",
     "text": [
      "escribe una contraseñajjjjj\n"
     ]
    },
    {
     "ename": "NameError",
     "evalue": "name 'contador' is not defined",
     "output_type": "error",
     "traceback": [
      "\u001b[0;31m---------------------------------------------------------------------------\u001b[0m",
      "\u001b[0;31mNameError\u001b[0m                                 Traceback (most recent call last)",
      "\u001b[0;32m<ipython-input-41-d9f830ba61f1>\u001b[0m in \u001b[0;36m<module>\u001b[0;34m\u001b[0m\n\u001b[0;32m----> 1\u001b[0;31m \u001b[0mfun\u001b[0m\u001b[0;34m(\u001b[0m\u001b[0;34m)\u001b[0m\u001b[0;34m\u001b[0m\u001b[0;34m\u001b[0m\u001b[0m\n\u001b[0m",
      "\u001b[0;32m<ipython-input-40-641fbc972f4d>\u001b[0m in \u001b[0;36mfun\u001b[0;34m(contar)\u001b[0m\n\u001b[1;32m      1\u001b[0m \u001b[0;32mdef\u001b[0m \u001b[0mfun\u001b[0m \u001b[0;34m(\u001b[0m\u001b[0mcontar\u001b[0m\u001b[0;34m=\u001b[0m\u001b[0;36m3\u001b[0m\u001b[0;34m)\u001b[0m\u001b[0;34m:\u001b[0m  \u001b[0;31m# 3 , 2 , 1\u001b[0m\u001b[0;34m\u001b[0m\u001b[0;34m\u001b[0m\u001b[0m\n\u001b[1;32m      2\u001b[0m     \u001b[0mcontraseña\u001b[0m \u001b[0;34m=\u001b[0m \u001b[0minput\u001b[0m\u001b[0;34m(\u001b[0m\u001b[0;34m\"escribe una contraseña\"\u001b[0m\u001b[0;34m)\u001b[0m\u001b[0;34m\u001b[0m\u001b[0;34m\u001b[0m\u001b[0m\n\u001b[0;32m----> 3\u001b[0;31m     \u001b[0;32mif\u001b[0m\u001b[0;34m(\u001b[0m\u001b[0mcontador\u001b[0m \u001b[0;34m<=\u001b[0m \u001b[0;36m1\u001b[0m\u001b[0;34m)\u001b[0m\u001b[0;34m:\u001b[0m\u001b[0;34m\u001b[0m\u001b[0;34m\u001b[0m\u001b[0m\n\u001b[0m\u001b[1;32m      4\u001b[0m         \u001b[0mprint\u001b[0m\u001b[0;34m(\u001b[0m\u001b[0;34m\"Sin intentos---ERROR-----\"\u001b[0m\u001b[0;34m)\u001b[0m\u001b[0;34m\u001b[0m\u001b[0;34m\u001b[0m\u001b[0m\n\u001b[1;32m      5\u001b[0m     \u001b[0;32melif\u001b[0m\u001b[0;34m(\u001b[0m\u001b[0mcontraseña\u001b[0m \u001b[0;34m!=\u001b[0m \u001b[0;34m\"HolaMundo\"\u001b[0m\u001b[0;34m)\u001b[0m\u001b[0;34m:\u001b[0m\u001b[0;34m\u001b[0m\u001b[0;34m\u001b[0m\u001b[0m\n",
      "\u001b[0;31mNameError\u001b[0m: name 'contador' is not defined"
     ]
    }
   ],
   "source": [
    "fun()"
   ]
  },
  {
   "cell_type": "code",
   "execution_count": null,
   "metadata": {},
   "outputs": [],
   "source": []
  }
 ],
 "metadata": {
  "kernelspec": {
   "display_name": "Python 3",
   "language": "python",
   "name": "python3"
  },
  "language_info": {
   "codemirror_mode": {
    "name": "ipython",
    "version": 3
   },
   "file_extension": ".py",
   "mimetype": "text/x-python",
   "name": "python",
   "nbconvert_exporter": "python",
   "pygments_lexer": "ipython3",
   "version": "3.8.5"
  }
 },
 "nbformat": 4,
 "nbformat_minor": 4
}
