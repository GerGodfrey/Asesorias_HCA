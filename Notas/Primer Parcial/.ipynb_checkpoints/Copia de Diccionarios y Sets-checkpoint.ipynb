{
 "cells": [
  {
   "cell_type": "markdown",
   "metadata": {},
   "source": [
    "<img src=\"../../files/logo.png\" width=200>"
   ]
  },
  {
   "cell_type": "markdown",
   "metadata": {},
   "source": [
    "# Diccionarios y Conjuntos"
   ]
  },
  {
   "cell_type": "markdown",
   "metadata": {},
   "source": [
    "## Diccionarios { }  `dict`\n",
    "\n",
    "Hasta el momento hemos visto colecciones de elementos ordenados por un único índice número y numerado. Ahora veremos otra clase de objetos, los **diccionarios**, los cuáles son listas asociativas indexadas por llave; no por orden.\n",
    "\n",
    "La sintáxis de un diccionario:\n",
    "```python\n",
    "{llave1: valor1,\n",
    " llave2: valor2,\n",
    " ...\n",
    " llaven: valorn}\n",
    "```"
   ]
  },
  {
   "cell_type": "code",
   "execution_count": 2,
   "metadata": {},
   "outputs": [],
   "source": [
    "alumnos = [\n",
    "    [\"José\", 11, \"rojo\", \"Administración\"],\n",
    "    [\"Charlie\", 33, \"Violeta\", \"Actuaría\"],\n",
    "    [\"Luis\", 23, \"Negro\", \"Matemáticas\"],\n",
    "    [\"Johanna\", 18, \"Gris\", \"Actuaría\"]\n",
    "]"
   ]
  },
  {
   "cell_type": "markdown",
   "metadata": {},
   "source": [
    "### ¿Por qué usaríamos un diccionario y no una lista?:\n",
    "Un diccionario de personas"
   ]
  },
  {
   "cell_type": "code",
   "execution_count": 3,
   "metadata": {},
   "outputs": [
    {
     "data": {
      "text/plain": [
       "23"
      ]
     },
     "execution_count": 3,
     "metadata": {},
     "output_type": "execute_result"
    }
   ],
   "source": [
    "alumnos[2][1]"
   ]
  },
  {
   "cell_type": "code",
   "execution_count": 2,
   "metadata": {},
   "outputs": [
    {
     "data": {
      "text/plain": [
       "{'José': [11, 'rojo', 'Administración'],\n",
       " 'Charlie': [33, 'Violeta', 'Ingeniería'],\n",
       " 'Luis': [23, 'Negro', 'Matemáticas'],\n",
       " 'Johanna': [18, 'Gris', 'Finanzas']}"
      ]
     },
     "execution_count": 2,
     "metadata": {},
     "output_type": "execute_result"
    }
   ],
   "source": [
    "alumnos = {\n",
    "    \"José\":    [11, \"rojo\", \"Administración\"],\n",
    "    \"Charlie\": [33, \"Violeta\", \"Ingeniería\"],\n",
    "    \"Luis\": [23, \"Negro\", \"Matemáticas\"],\n",
    "    \"Johanna\": {\n",
    "        \"edad\": 18,\n",
    "        \"color\": \"Gris\",\n",
    "        \"Lic\": \"Actuaria\"\n",
    "    }\n",
    "}\n",
    "alumnos"
   ]
  },
  {
   "cell_type": "code",
   "execution_count": 1,
   "metadata": {},
   "outputs": [
    {
     "ename": "NameError",
     "evalue": "name 'alumnos' is not defined",
     "output_type": "error",
     "traceback": [
      "\u001b[0;31m---------------------------------------------------------------------------\u001b[0m",
      "\u001b[0;31mNameError\u001b[0m                                 Traceback (most recent call last)",
      "\u001b[0;32m<ipython-input-1-2528f8d53ced>\u001b[0m in \u001b[0;36m<module>\u001b[0;34m\u001b[0m\n\u001b[0;32m----> 1\u001b[0;31m \u001b[0malumnos\u001b[0m\u001b[0;34m[\u001b[0m\u001b[0;34m\"Johanna\"\u001b[0m\u001b[0;34m]\u001b[0m\u001b[0;34m[\u001b[0m\u001b[0;34m\"color\"\u001b[0m\u001b[0;34m]\u001b[0m\u001b[0;34m\u001b[0m\u001b[0;34m\u001b[0m\u001b[0m\n\u001b[0m",
      "\u001b[0;31mNameError\u001b[0m: name 'alumnos' is not defined"
     ]
    }
   ],
   "source": [
    "alumnos[\"Johanna\"][\"color\"]"
   ]
  },
  {
   "cell_type": "code",
   "execution_count": 3,
   "metadata": {},
   "outputs": [
    {
     "data": {
      "text/plain": [
       "dict"
      ]
     },
     "execution_count": 3,
     "metadata": {},
     "output_type": "execute_result"
    }
   ],
   "source": [
    "type(alumnos)"
   ]
  },
  {
   "cell_type": "code",
   "execution_count": 5,
   "metadata": {},
   "outputs": [
    {
     "data": {
      "text/plain": [
       "{'José': [11, 'rojo', 'Administración'],\n",
       " 'Charlie': [33, 'Violeta', 'Ingeniería'],\n",
       " 'Johanna': [18, 'Gris', 'Finanzas']}"
      ]
     },
     "execution_count": 5,
     "metadata": {},
     "output_type": "execute_result"
    }
   ],
   "source": [
    "del alumnos[\"Luis\"]\n",
    "alumnos"
   ]
  },
  {
   "cell_type": "markdown",
   "metadata": {},
   "source": [
    "Agregamos un elemento a un diccionario indexándolo sobre la llave de referencia y asignandole el valor deseado."
   ]
  },
  {
   "cell_type": "code",
   "execution_count": 6,
   "metadata": {},
   "outputs": [
    {
     "data": {
      "text/plain": [
       "{'José': [11, 'rojo', 'Administración'],\n",
       " 'Charlie': [33, 'Violeta', 'Ingeniería'],\n",
       " 'Johanna': [18, 'Gris', 'Finanzas'],\n",
       " 'Gerardo': [23, 'vino', 'Actuaría']}"
      ]
     },
     "execution_count": 6,
     "metadata": {},
     "output_type": "execute_result"
    }
   ],
   "source": [
    "alumnos[\"Gerardo\"] = [23, \"vino\", \"Actuaría\"]\n",
    "alumnos"
   ]
  },
  {
   "cell_type": "markdown",
   "metadata": {},
   "source": [
    "### Métodos dentro de un diccionario\n"
   ]
  },
  {
   "cell_type": "markdown",
   "metadata": {},
   "source": [
    "* **clear()**. Este método remueve todos los elementos del diccionario.\n",
    "* **copy()** . Este método devuelve una copia del diccionario\n",
    "* **get()** . Este método devuelve el valor en base a una coincidencia de búsqueda en un diccionario mediante una clave, de lo contrario devuelve el objeto None\n",
    "* **items()**. Este método devuelve una lista de pares de diccionarios (clave, valor), como 2 tuplas.\n",
    "* **pop()**. Este método remueve específicamente una clave de diccionario y devuelve valor correspondiente\n",
    "* **keys()**. Este método devuelve una lista de las claves del diccionario\n",
    "* **values()**. Este método devuelve una lista de los valores del diccionario\n",
    "* **update()**. Este método actualiza un diccionario agregando los pares clave-valores"
   ]
  },
  {
   "cell_type": "code",
   "execution_count": 8,
   "metadata": {},
   "outputs": [
    {
     "name": "stdout",
     "output_type": "stream",
     "text": [
      "dict_keys(['José', 'Charlie', 'Johanna', 'Gerardo'])\n"
     ]
    }
   ],
   "source": [
    "# Las llaves del diccionario\n",
    "print(alumnos.keys())"
   ]
  },
  {
   "cell_type": "code",
   "execution_count": 9,
   "metadata": {},
   "outputs": [
    {
     "data": {
      "text/plain": [
       "dict_items([('José', [11, 'rojo', 'Administración']), ('Charlie', [33, 'Violeta', 'Ingeniería']), ('Johanna', [18, 'Gris', 'Finanzas']), ('Gerardo', [23, 'vino', 'Actuaría'])])"
      ]
     },
     "execution_count": 9,
     "metadata": {},
     "output_type": "execute_result"
    }
   ],
   "source": [
    "# Lista de tuplas con dos elementos. La primera llave el nombre y la segunda los valoresb\n",
    "alumnos.items()"
   ]
  },
  {
   "cell_type": "markdown",
   "metadata": {},
   "source": [
    "## {Sets}\n",
    "\n",
    "Un `set` (conjunto) es una colección no ordenada de valores únicos. Para dos conjuntos `A`, `B` y valores `a` dentro de `A` y `b` dentro de `B`, se cumplen con las siguientes características\n",
    "* `A & B` (Intersección): Elementos en `A` y en `B`\n",
    "* `A | B` (Unión): Elementos en `A` o en `B`\n",
    "* `A - B` (Diferencia): Elementos en `A` no presentes en `B`\n",
    "* `A ^ B` (Diferencia Simétrica): Elementos en cualquiera de los conjuntos `A` o `B`, mas no en los dos.\n",
    "* `A <= B` (Subconjunto): Prueba si todos los elementos en `A` se encuentran dentro de `B`\n",
    "* `A >= B` (Superconjunto): Prueba si todos los elementos en `B` se encuentran dentro de `A`"
   ]
  },
  {
   "cell_type": "code",
   "execution_count": 4,
   "metadata": {},
   "outputs": [],
   "source": [
    "vocales = {'a', 'e', 'i', 'o', 'u'}\n",
    "p1 = {'c', 'a', 'r', 'r', 'o'}"
   ]
  },
  {
   "cell_type": "code",
   "execution_count": 5,
   "metadata": {},
   "outputs": [
    {
     "data": {
      "text/plain": [
       "set"
      ]
     },
     "execution_count": 5,
     "metadata": {},
     "output_type": "execute_result"
    }
   ],
   "source": [
    "type(vocales)"
   ]
  },
  {
   "cell_type": "code",
   "execution_count": 15,
   "metadata": {},
   "outputs": [
    {
     "data": {
      "text/plain": [
       "{'a', 'o'}"
      ]
     },
     "execution_count": 15,
     "metadata": {},
     "output_type": "execute_result"
    }
   ],
   "source": [
    "p1 & vocales"
   ]
  },
  {
   "cell_type": "code",
   "execution_count": 16,
   "metadata": {},
   "outputs": [
    {
     "data": {
      "text/plain": [
       "{'a', 'o'}"
      ]
     },
     "execution_count": 16,
     "metadata": {},
     "output_type": "execute_result"
    }
   ],
   "source": [
    "p1.intersection(vocales)"
   ]
  },
  {
   "cell_type": "code",
   "execution_count": 13,
   "metadata": {},
   "outputs": [
    {
     "data": {
      "text/plain": [
       "{'a', 'c', 'e', 'i', 'o', 'r', 'u'}"
      ]
     },
     "execution_count": 13,
     "metadata": {},
     "output_type": "execute_result"
    }
   ],
   "source": [
    "p1 | vocales"
   ]
  },
  {
   "cell_type": "code",
   "execution_count": 17,
   "metadata": {},
   "outputs": [
    {
     "data": {
      "text/plain": [
       "{'a', 'c', 'e', 'i', 'o', 'r', 'u'}"
      ]
     },
     "execution_count": 17,
     "metadata": {},
     "output_type": "execute_result"
    }
   ],
   "source": [
    "p1.union(vocales)"
   ]
  },
  {
   "cell_type": "code",
   "execution_count": 14,
   "metadata": {},
   "outputs": [
    {
     "data": {
      "text/plain": [
       "{'c', 'r'}"
      ]
     },
     "execution_count": 14,
     "metadata": {},
     "output_type": "execute_result"
    }
   ],
   "source": [
    "p1 - vocales"
   ]
  },
  {
   "cell_type": "code",
   "execution_count": 18,
   "metadata": {},
   "outputs": [
    {
     "data": {
      "text/plain": [
       "{'c', 'r'}"
      ]
     },
     "execution_count": 18,
     "metadata": {},
     "output_type": "execute_result"
    }
   ],
   "source": [
    "p1.difference(vocales)"
   ]
  },
  {
   "cell_type": "code",
   "execution_count": 15,
   "metadata": {},
   "outputs": [
    {
     "data": {
      "text/plain": [
       "{'c', 'e', 'i', 'r', 'u'}"
      ]
     },
     "execution_count": 15,
     "metadata": {},
     "output_type": "execute_result"
    }
   ],
   "source": [
    "p1 ^ vocales"
   ]
  },
  {
   "cell_type": "markdown",
   "metadata": {},
   "source": [
    "También se pueden construir tablas con los diccionarios."
   ]
  },
  {
   "cell_type": "code",
   "execution_count": 1,
   "metadata": {},
   "outputs": [
    {
     "name": "stdout",
     "output_type": "stream",
     "text": [
      "{'nombre': ('Sandy', 'Diego', 'Laura'), 'edad': (18, 20, 18), 'carrera': ('Eco', 'Conta', 'Eco')}\n"
     ]
    }
   ],
   "source": [
    "dato1 =('Sandy','Diego','Laura')\n",
    "dato2 = (18, 20, 18)\n",
    "dato3 = ('Eco', 'Conta', 'Eco')\n",
    "tabla = {'nombre':dato1, 'edad':dato2, 'carrera': dato3}\n",
    "print(tabla)"
   ]
  },
  {
   "cell_type": "code",
   "execution_count": 2,
   "metadata": {},
   "outputs": [
    {
     "name": "stdout",
     "output_type": "stream",
     "text": [
      "Sandy\n",
      "Eco\n",
      "18\n"
     ]
    }
   ],
   "source": [
    "print(tabla[\"nombre\"][0]) \n",
    "print(tabla[\"carrera\"][0])\n",
    "print(tabla[\"edad\"][0])"
   ]
  },
  {
   "cell_type": "code",
   "execution_count": 3,
   "metadata": {},
   "outputs": [
    {
     "data": {
      "text/plain": [
       "dict_items([('nombre', ('Sandy', 'Diego', 'Laura')), ('edad', (18, 20, 18)), ('carrera', ('Eco', 'Conta', 'Eco'))])"
      ]
     },
     "execution_count": 3,
     "metadata": {},
     "output_type": "execute_result"
    }
   ],
   "source": [
    "tabla.items()"
   ]
  },
  {
   "cell_type": "code",
   "execution_count": 4,
   "metadata": {},
   "outputs": [
    {
     "data": {
      "text/plain": [
       "('Sandy', 18, 'Eco')"
      ]
     },
     "execution_count": 4,
     "metadata": {},
     "output_type": "execute_result"
    }
   ],
   "source": [
    "tabla['nombre'][0], tabla['edad'][0], tabla['carrera'][0]"
   ]
  },
  {
   "cell_type": "code",
   "execution_count": 5,
   "metadata": {},
   "outputs": [
    {
     "data": {
      "text/plain": [
       "dict_keys(['nombre', 'edad', 'carrera'])"
      ]
     },
     "execution_count": 5,
     "metadata": {},
     "output_type": "execute_result"
    }
   ],
   "source": [
    "tabla.keys()"
   ]
  },
  {
   "cell_type": "markdown",
   "metadata": {},
   "source": [
    "Otra forma más directa"
   ]
  },
  {
   "cell_type": "code",
   "execution_count": 6,
   "metadata": {},
   "outputs": [],
   "source": [
    "dicc={'nombre':('Hugo','Paco','Luis','Ximena','Ari'),\n",
    "      'edad':(18,16,18,23,19),\n",
    "      'carrera':('Mate','Finanzas','Eco','Act','Act y Mate'),\n",
    "      'semestre':(2,2,1,4,3)}"
   ]
  },
  {
   "cell_type": "code",
   "execution_count": 7,
   "metadata": {},
   "outputs": [
    {
     "data": {
      "text/plain": [
       "'Mate'"
      ]
     },
     "execution_count": 7,
     "metadata": {},
     "output_type": "execute_result"
    }
   ],
   "source": [
    "dicc['carrera'][0]"
   ]
  },
  {
   "cell_type": "code",
   "execution_count": 8,
   "metadata": {},
   "outputs": [
    {
     "name": "stdout",
     "output_type": "stream",
     "text": [
      "['nombre', 'edad', 'carrera', 'semestre']\n"
     ]
    }
   ],
   "source": [
    "prueba= [i for i in dicc]   # muestra el nombre de las llaves\n",
    "print(prueba)"
   ]
  },
  {
   "cell_type": "code",
   "execution_count": 9,
   "metadata": {},
   "outputs": [
    {
     "name": "stdout",
     "output_type": "stream",
     "text": [
      "[('Hugo', 'Paco', 'Luis', 'Ximena', 'Ari'), (18, 16, 18, 23, 19), ('Mate', 'Finanzas', 'Eco', 'Act', 'Act y Mate'), (2, 2, 1, 4, 3)]\n"
     ]
    }
   ],
   "source": [
    "print([dicc[i] for i in dicc])  # muestra la informacion"
   ]
  },
  {
   "cell_type": "code",
   "execution_count": null,
   "metadata": {},
   "outputs": [],
   "source": []
  },
  {
   "cell_type": "markdown",
   "metadata": {},
   "source": [
    "## Ejercicio 1\n",
    "Dados 3 strings, sepáralos y agrupalos en una lista para que después convertir cada uno en un conjunto diferente.\n",
    "Al final compara el tamaño de la primera lista con el primer conjunto y así sucesivamente. Explica que pasa.\n",
    "\n",
    "\"naranja rojo azul amarillo naranja rojo\" , \"rosa azul rojo verde gris rosa morado\", \"naranja azul gris negro azul gris\""
   ]
  },
  {
   "cell_type": "code",
   "execution_count": 9,
   "metadata": {},
   "outputs": [],
   "source": [
    "l1= \"naranja rojo azul amarillo naranja rojo\".split()\n",
    "l2= \"rosa azul rojo verde gris rosa morado\".split()\n",
    "l3= \"naranja azul gris negro azul gris\".split()"
   ]
  },
  {
   "cell_type": "code",
   "execution_count": 10,
   "metadata": {},
   "outputs": [],
   "source": [
    "c1=set(l1) \n",
    "c2=set(l2)\n",
    "c3=set(l3)"
   ]
  },
  {
   "cell_type": "code",
   "execution_count": 11,
   "metadata": {},
   "outputs": [
    {
     "name": "stdout",
     "output_type": "stream",
     "text": [
      "Tamaño de la lista 1: 6 y tamaño del conjunto 1: 4\n",
      "Tamaño de la lista 2: 7 y tamaño del conjunto 2: 6\n",
      "Tamaño de la lista 3: 6 y tamaño del conjunto 3: 4\n"
     ]
    }
   ],
   "source": [
    "print(f\"Tamaño de la lista 1: {len(l1)} y tamaño del conjunto 1: {len(c1)}\") \n",
    "print(f\"Tamaño de la lista 2: {len(l2)} y tamaño del conjunto 2: {len(c2)}\") \n",
    "print(f\"Tamaño de la lista 3: {len(l3)} y tamaño del conjunto 3: {len(c3)}\") "
   ]
  },
  {
   "cell_type": "markdown",
   "metadata": {},
   "source": [
    "## Ejercicio 2 \n",
    "\n",
    "Define dos conjuntos sets con las siguientes características: \n",
    "- El conjunto \"gamma\" debe de tener una enumeración del 1 al 200.\n",
    "- El conjunto \"theta\" debe de tener una enumeración del 100 al 200 en saltos de 3.\n",
    "- Saca la intersección de estos dos conjuntos\n",
    "- Saca la diferencia de los dos conjuntos\n",
    "- Saca la intersección de estos dos últimos conjuntos calculados"
   ]
  },
  {
   "cell_type": "code",
   "execution_count": 21,
   "metadata": {},
   "outputs": [],
   "source": [
    "gamma=set(range (1,201))\n",
    "theta=set(range(100,200,3))"
   ]
  },
  {
   "cell_type": "code",
   "execution_count": 23,
   "metadata": {},
   "outputs": [],
   "source": [
    "i = gamma.intersection(theta)\n",
    "d =  gamma.difference(theta)\n",
    "res = i.intersection(d)"
   ]
  },
  {
   "cell_type": "code",
   "execution_count": null,
   "metadata": {},
   "outputs": [],
   "source": []
  }
 ],
 "metadata": {
  "kernelspec": {
   "display_name": "Python 3",
   "language": "python",
   "name": "python3"
  },
  "language_info": {
   "codemirror_mode": {
    "name": "ipython",
    "version": 3
   },
   "file_extension": ".py",
   "mimetype": "text/x-python",
   "name": "python",
   "nbconvert_exporter": "python",
   "pygments_lexer": "ipython3",
   "version": "3.8.5"
  }
 },
 "nbformat": 4,
 "nbformat_minor": 4
}
