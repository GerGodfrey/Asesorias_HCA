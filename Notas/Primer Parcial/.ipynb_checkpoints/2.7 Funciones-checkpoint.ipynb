{
 "cells": [
  {
   "cell_type": "markdown",
   "metadata": {},
   "source": [
    "<img src=\"../../files/logo.png\" width=200>"
   ]
  },
  {
   "cell_type": "markdown",
   "metadata": {},
   "source": [
    "# Funciones"
   ]
  },
  {
   "cell_type": "markdown",
   "metadata": {},
   "source": [
    "* Es una sección de un programa cuyo objetivo es realizar una tarea ya específica.\n",
    "* La mayoría de los lenguajes de programación ya tienen librerías definidas para poder trabajar."
   ]
  },
  {
   "cell_type": "markdown",
   "metadata": {},
   "source": [
    "## Funciones ya conocidas"
   ]
  },
  {
   "cell_type": "code",
   "execution_count": 1,
   "metadata": {},
   "outputs": [
    {
     "data": {
      "text/plain": [
       "4"
      ]
     },
     "execution_count": 1,
     "metadata": {},
     "output_type": "execute_result"
    }
   ],
   "source": [
    "len('hola')"
   ]
  },
  {
   "cell_type": "code",
   "execution_count": 1,
   "metadata": {},
   "outputs": [
    {
     "data": {
      "text/plain": [
       "list"
      ]
     },
     "execution_count": 1,
     "metadata": {},
     "output_type": "execute_result"
    }
   ],
   "source": [
    "type([3,3,3,3])"
   ]
  },
  {
   "cell_type": "code",
   "execution_count": 3,
   "metadata": {},
   "outputs": [
    {
     "data": {
      "text/plain": [
       "8"
      ]
     },
     "execution_count": 3,
     "metadata": {},
     "output_type": "execute_result"
    }
   ],
   "source": [
    "pow(2,3)"
   ]
  },
  {
   "cell_type": "code",
   "execution_count": 4,
   "metadata": {},
   "outputs": [
    {
     "name": "stdout",
     "output_type": "stream",
     "text": [
      "HCA\n"
     ]
    }
   ],
   "source": [
    "print(\"HCA\")"
   ]
  },
  {
   "cell_type": "markdown",
   "metadata": {},
   "source": [
    "## Declaración de una función\n",
    "\n",
    "Ocupamos la palabra `def` (*definition*) y la sintáxis es de la siguiente forma:\n",
    "\n",
    "```python\n",
    "def nombre (parametro1, parametro2, ..., parametroN):\n",
    "    <operaciones>\n",
    "```\n",
    "\n",
    "* `parametro1`, `parametro2` son objetos que servirán como entradas a la función.\n",
    "* El cuerpo de una función inicia con `def` y posteriormente todo el contenido de las operaciones se vera marcado con una sangría hasta llegar al final.\n",
    "* El valor que tome cada uno de los parámetros se le llama **argumento** y estos se toman de una manera ordenada.\n"
   ]
  },
  {
   "cell_type": "code",
   "execution_count": 5,
   "metadata": {},
   "outputs": [],
   "source": [
    "def funcionBasica():\n",
    "    print(\"Esto es mi primera función\")"
   ]
  },
  {
   "cell_type": "code",
   "execution_count": 6,
   "metadata": {},
   "outputs": [
    {
     "name": "stdout",
     "output_type": "stream",
     "text": [
      "Esto es mi primera función\n"
     ]
    }
   ],
   "source": [
    "funcionBasica()"
   ]
  },
  {
   "cell_type": "code",
   "execution_count": 36,
   "metadata": {},
   "outputs": [],
   "source": [
    "##  Funcion que Suma \n",
    "def sumita(a,b):\n",
    "    print((a+b))"
   ]
  },
  {
   "cell_type": "code",
   "execution_count": 37,
   "metadata": {},
   "outputs": [
    {
     "name": "stdout",
     "output_type": "stream",
     "text": [
      "1\n"
     ]
    }
   ],
   "source": [
    "#False = 0 y True = 1 \n",
    "sumita(False,True)"
   ]
  },
  {
   "cell_type": "code",
   "execution_count": 38,
   "metadata": {},
   "outputs": [
    {
     "name": "stdout",
     "output_type": "stream",
     "text": [
      "ab\n"
     ]
    }
   ],
   "source": [
    "sumita(\"a\",\"b\")"
   ]
  },
  {
   "cell_type": "code",
   "execution_count": 39,
   "metadata": {},
   "outputs": [
    {
     "name": "stdout",
     "output_type": "stream",
     "text": [
      "4\n"
     ]
    }
   ],
   "source": [
    "sumita(2.4,2.9)"
   ]
  },
  {
   "cell_type": "markdown",
   "metadata": {},
   "source": [
    "El tipo de parámetro no importa, hasta que nuestras operaciones lo detengan"
   ]
  },
  {
   "cell_type": "code",
   "execution_count": 42,
   "metadata": {},
   "outputs": [],
   "source": [
    "##  Funcion que Suma al cuadrado \n",
    "##  PARA a,b flotantes \n",
    "def sumaCuadrada(a,b):\n",
    "    print((a+b)**2)"
   ]
  },
  {
   "cell_type": "code",
   "execution_count": 43,
   "metadata": {},
   "outputs": [
    {
     "name": "stdout",
     "output_type": "stream",
     "text": [
      "1\n"
     ]
    }
   ],
   "source": [
    "sumaCuadrada(False,True)"
   ]
  },
  {
   "cell_type": "code",
   "execution_count": 46,
   "metadata": {},
   "outputs": [],
   "source": [
    "# NO PODEMOS ELEVAR AL CUADRADO DOS STRINGS\n",
    "#sumaCuadrada(\"ho\",\"la\")"
   ]
  },
  {
   "cell_type": "code",
   "execution_count": 45,
   "metadata": {},
   "outputs": [
    {
     "name": "stdout",
     "output_type": "stream",
     "text": [
      "9\n"
     ]
    }
   ],
   "source": [
    "sumaCuadrada(2,2)"
   ]
  },
  {
   "cell_type": "markdown",
   "metadata": {},
   "source": [
    "Los parámetros de una función y las variables declaradas dentro de la misma función son **locales**, es decir que solo se ven afectadas dentro de la función"
   ]
  },
  {
   "cell_type": "code",
   "execution_count": 51,
   "metadata": {},
   "outputs": [],
   "source": [
    "##Analizando parámetros, varibales de una función\n",
    "def prueba(a): \n",
    "    b = 3 \n",
    "    a = a * 5\n",
    "    print (a)"
   ]
  },
  {
   "cell_type": "code",
   "execution_count": 52,
   "metadata": {},
   "outputs": [],
   "source": [
    "# ¿ Cuánto vale b ? \n",
    "b = 9 \n",
    "a = 3 \n"
   ]
  },
  {
   "cell_type": "code",
   "execution_count": 53,
   "metadata": {},
   "outputs": [
    {
     "name": "stdout",
     "output_type": "stream",
     "text": [
      "15\n"
     ]
    }
   ],
   "source": [
    "#Mandar a llamar con a \n",
    "prueba(a)"
   ]
  },
  {
   "cell_type": "code",
   "execution_count": 54,
   "metadata": {},
   "outputs": [
    {
     "name": "stdout",
     "output_type": "stream",
     "text": [
      "9\n",
      "3\n"
     ]
    }
   ],
   "source": [
    "print(b)\n",
    "print(a)"
   ]
  },
  {
   "cell_type": "code",
   "execution_count": 55,
   "metadata": {},
   "outputs": [
    {
     "name": "stdout",
     "output_type": "stream",
     "text": [
      "45\n"
     ]
    }
   ],
   "source": [
    "#Mandar a llamar con b \n",
    "# 9*5 = 45 \n",
    "prueba(b)"
   ]
  },
  {
   "cell_type": "code",
   "execution_count": 56,
   "metadata": {},
   "outputs": [
    {
     "name": "stdout",
     "output_type": "stream",
     "text": [
      "55\n"
     ]
    }
   ],
   "source": [
    "# 11 * 5 \n",
    "prueba(11)"
   ]
  },
  {
   "cell_type": "markdown",
   "metadata": {},
   "source": [
    "Escribe una función con dos parámetros tales que el resultado sea el siguiente : \n",
    "    resultado = a^b "
   ]
  },
  {
   "cell_type": "code",
   "execution_count": 24,
   "metadata": {},
   "outputs": [],
   "source": [
    "def potencia(x, y):\n",
    "    print(x ** y) "
   ]
  },
  {
   "cell_type": "code",
   "execution_count": 24,
   "metadata": {},
   "outputs": [
    {
     "name": "stdout",
     "output_type": "stream",
     "text": [
      "1024\n"
     ]
    }
   ],
   "source": [
    "## Calcule 2^10\n",
    "potencia (2,10)"
   ]
  },
  {
   "cell_type": "code",
   "execution_count": 25,
   "metadata": {},
   "outputs": [
    {
     "name": "stdout",
     "output_type": "stream",
     "text": [
      "100\n"
     ]
    }
   ],
   "source": [
    "## Calcule 10^2\n",
    "potencia (10,2)"
   ]
  },
  {
   "cell_type": "markdown",
   "metadata": {},
   "source": [
    "Otra forma de declararlo es : "
   ]
  },
  {
   "cell_type": "code",
   "execution_count": 27,
   "metadata": {},
   "outputs": [
    {
     "name": "stdout",
     "output_type": "stream",
     "text": [
      "8\n",
      "8\n"
     ]
    }
   ],
   "source": [
    "potencia(x=2, y=3)\n",
    "potencia(y=3, x=2)"
   ]
  },
  {
   "cell_type": "markdown",
   "metadata": {},
   "source": [
    "### Return\n",
    "En la mayoría de los casos lo que nos puede interesar de una función ( que realiza una tarea en específico ) es el último valor que se obtiene. Por eso es que **NO** podemos ocupar la sintaxis pasada, ahora tenemos lo siguiente: \n",
    "```python\n",
    "def nombre (parametro1, parametro2, ..., parametroN):\n",
    "    <operaciones>\n",
    "    return valorDeseado\n",
    "```\n"
   ]
  },
  {
   "cell_type": "markdown",
   "metadata": {},
   "source": [
    "Con la función potencia ya definida anteriormente, guarde el resultado de 10^2 y súmele los primeros 4 dígitos de los  años que tiene la tierra."
   ]
  },
  {
   "cell_type": "code",
   "execution_count": 33,
   "metadata": {},
   "outputs": [
    {
     "name": "stdout",
     "output_type": "stream",
     "text": [
      "100\n"
     ]
    },
    {
     "ename": "TypeError",
     "evalue": "unsupported operand type(s) for +: 'NoneType' and 'int'",
     "output_type": "error",
     "traceback": [
      "\u001b[0;31m---------------------------------------------------------------------------\u001b[0m",
      "\u001b[0;31mTypeError\u001b[0m                                 Traceback (most recent call last)",
      "\u001b[0;32m<ipython-input-33-878ee19f7f1e>\u001b[0m in \u001b[0;36m<module>\u001b[0;34m\u001b[0m\n\u001b[1;32m      1\u001b[0m \u001b[0;31m##ejemplo1\u001b[0m\u001b[0;34m\u001b[0m\u001b[0;34m\u001b[0m\u001b[0;34m\u001b[0m\u001b[0m\n\u001b[1;32m      2\u001b[0m \u001b[0ma\u001b[0m \u001b[0;34m=\u001b[0m \u001b[0mpotencia\u001b[0m \u001b[0;34m(\u001b[0m\u001b[0;36m10\u001b[0m\u001b[0;34m,\u001b[0m\u001b[0;36m2\u001b[0m\u001b[0;34m)\u001b[0m\u001b[0;34m\u001b[0m\u001b[0;34m\u001b[0m\u001b[0m\n\u001b[0;32m----> 3\u001b[0;31m \u001b[0msuma\u001b[0m \u001b[0;34m=\u001b[0m \u001b[0ma\u001b[0m \u001b[0;34m+\u001b[0m \u001b[0;36m4543\u001b[0m\u001b[0;34m\u001b[0m\u001b[0;34m\u001b[0m\u001b[0m\n\u001b[0m",
      "\u001b[0;31mTypeError\u001b[0m: unsupported operand type(s) for +: 'NoneType' and 'int'"
     ]
    }
   ],
   "source": [
    "##ejemplo1\n",
    "a = potencia (10,2)\n",
    "suma = a + 4543"
   ]
  },
  {
   "cell_type": "code",
   "execution_count": 29,
   "metadata": {},
   "outputs": [
    {
     "name": "stdout",
     "output_type": "stream",
     "text": [
      "100\n"
     ]
    },
    {
     "data": {
      "text/plain": [
       "NoneType"
      ]
     },
     "execution_count": 29,
     "metadata": {},
     "output_type": "execute_result"
    }
   ],
   "source": [
    "type(potencia (10,2) )"
   ]
  },
  {
   "cell_type": "code",
   "execution_count": 31,
   "metadata": {},
   "outputs": [
    {
     "name": "stdout",
     "output_type": "stream",
     "text": [
      "4643\n"
     ]
    }
   ],
   "source": [
    "verdaderaSuma = 100 + 4543\n",
    "print(verdaderaSuma)"
   ]
  },
  {
   "cell_type": "markdown",
   "metadata": {},
   "source": [
    "Es por eso, que debemos de \"modificar\" nuestra función agregando un `return` en la parte final de nuestra función. \n",
    "* Solo debes de tener un `return` por función \n",
    "* Puedes ocupar el print dentro de la función para \"analizar\" nuestro resultado \n",
    "* El valor que tendrá el `return` será con el que deseamos trabajar"
   ]
  },
  {
   "cell_type": "code",
   "execution_count": 6,
   "metadata": {},
   "outputs": [],
   "source": [
    "def potencia(x, y):\n",
    "    \"\"\"\n",
    "    Eleva el número x a la pontencia y.\n",
    "    Parameters\n",
    "    ------------\n",
    "    x float \n",
    "    y float\n",
    "    \n",
    "    \n",
    "    Returns\n",
    "    float:\n",
    "    -------\n",
    "    \"\"\"\n",
    "    return (x ** y) "
   ]
  },
  {
   "cell_type": "code",
   "execution_count": null,
   "metadata": {},
   "outputs": [],
   "source": [
    "type(potencia(10.0,2.0))"
   ]
  },
  {
   "cell_type": "code",
   "execution_count": 8,
   "metadata": {},
   "outputs": [
    {
     "name": "stdout",
     "output_type": "stream",
     "text": [
      "251.18864315095797\n"
     ]
    }
   ],
   "source": [
    "a = potencia(10,2.4)\n",
    "print (a )"
   ]
  },
  {
   "cell_type": "code",
   "execution_count": 5,
   "metadata": {},
   "outputs": [
    {
     "name": "stdout",
     "output_type": "stream",
     "text": [
      "Help on function potencia in module __main__:\n",
      "\n",
      "potencia(x, y)\n",
      "    Eleva el número x a la pontencia y.\n",
      "    Parameters\n",
      "    ------------\n",
      "    x float \n",
      "    y float\n",
      "\n"
     ]
    }
   ],
   "source": [
    "help(potencia)"
   ]
  },
  {
   "cell_type": "markdown",
   "metadata": {},
   "source": [
    "### Argumentos Opcionales\n",
    "En python podemos definir funciones cuyos parámetros toman algún argumento predefinido. Estos parámetros se conocen como **argumentos opcionales**"
   ]
  },
  {
   "cell_type": "markdown",
   "metadata": {},
   "source": [
    "Haz una función que resuelva la fórmula x^2 + 3y + 2z. EL valor de z tendrá que ser opcional y en caso de que el usuario no escoga ninguno debera de tomarse como cero. "
   ]
  },
  {
   "cell_type": "code",
   "execution_count": 11,
   "metadata": {},
   "outputs": [],
   "source": [
    "def funcion(x, y, z=0):\n",
    "    return (x**2 + 3*y + 2*z)"
   ]
  },
  {
   "cell_type": "code",
   "execution_count": 13,
   "metadata": {},
   "outputs": [
    {
     "data": {
      "text/plain": [
       "4"
      ]
     },
     "execution_count": 13,
     "metadata": {},
     "output_type": "execute_result"
    }
   ],
   "source": [
    "# 1^2 + 1*3 + 0 = 1+3 = 4\n",
    "funcion(1,1)"
   ]
  },
  {
   "cell_type": "code",
   "execution_count": 14,
   "metadata": {},
   "outputs": [
    {
     "data": {
      "text/plain": [
       "6"
      ]
     },
     "execution_count": 14,
     "metadata": {},
     "output_type": "execute_result"
    }
   ],
   "source": [
    "# 1^2 + 1*3 + 2*1 = 1 + 3 +2\n",
    "funcion(1,1,1)"
   ]
  },
  {
   "cell_type": "markdown",
   "metadata": {},
   "source": [
    "<h2 style=\"color:#d62728\">Ejercicios</h2>"
   ]
  },
  {
   "cell_type": "markdown",
   "metadata": {},
   "source": [
    "Define una función que calcule el iva. Dado que nuestro programa es universal el usuario deberá de poner el número en punto decimal para el porcentaje que corresponda. Ejemplo, la llamada a la función iva(.16,2345) nos tiene que regresar 375.2 "
   ]
  },
  {
   "cell_type": "code",
   "execution_count": 2,
   "metadata": {},
   "outputs": [],
   "source": [
    "def iva(t,m):\n",
    "    r=t*m\n",
    "    return r"
   ]
  },
  {
   "cell_type": "code",
   "execution_count": 3,
   "metadata": {},
   "outputs": [
    {
     "data": {
      "text/plain": [
       "375.2"
      ]
     },
     "execution_count": 3,
     "metadata": {},
     "output_type": "execute_result"
    }
   ],
   "source": [
    "iva(.16,2345)"
   ]
  },
  {
   "cell_type": "markdown",
   "metadata": {},
   "source": [
    "Se sabe que la velocidad es función de la distancia y el tiempo, define una función que calcule la velocidad recibiendo distancia y tiempo.\n",
    "\n",
    "$V = \\frac{D}{T}$"
   ]
  },
  {
   "cell_type": "code",
   "execution_count": 4,
   "metadata": {},
   "outputs": [],
   "source": [
    "def velocidad(distancia,tiempo):\n",
    "    #print(\"El valor de la distancia es \", distancia)\n",
    "    v=distancia/tiempo\n",
    "    return(v)"
   ]
  },
  {
   "cell_type": "code",
   "execution_count": 5,
   "metadata": {},
   "outputs": [
    {
     "name": "stdout",
     "output_type": "stream",
     "text": [
      "dame la distancia4\n",
      "dame el tiempo4\n",
      "la velocidad es \n",
      " 1.0\n"
     ]
    }
   ],
   "source": [
    "dis = int(input(\"Dame la distancia: \"))\n",
    "tie = int(input (\"Dame el tiempo: \"))\n",
    "print(\"La velocidad es: \\n \", velocidad(dis,tie))"
   ]
  },
  {
   "cell_type": "markdown",
   "metadata": {},
   "source": [
    "Realice una función que calcule la distancia entre dos putos. El programa debera de tomar mínimo la posición x2 y y2 ya que x1 debera tener un valor por defecto de 2 y para y1 de 4.\n",
    "\n",
    "* Fórmula $ \\sqrt{(x_1 - x_2)^2 + (y_1 - y_2)^2} $\n",
    "\n",
    "Calcule las dos siguientes operaciones \n",
    "\n",
    "- distancia(10,9)\n",
    "- distancia (10,9,0,0)"
   ]
  },
  {
   "cell_type": "code",
   "execution_count": 19,
   "metadata": {},
   "outputs": [],
   "source": [
    "def distancia(x2, y2, x1=2, y1=4):\n",
    "    return ((x1 - x2) ** 2 + (y1 - y2) **2) ** (1/2) \n"
   ]
  },
  {
   "cell_type": "code",
   "execution_count": 20,
   "metadata": {},
   "outputs": [
    {
     "data": {
      "text/plain": [
       "9.433981132056603"
      ]
     },
     "execution_count": 20,
     "metadata": {},
     "output_type": "execute_result"
    }
   ],
   "source": [
    "# x2 = 10 , y2 = 9 , x1 = 2 , y1 = 4 \n",
    "distancia(10,9)"
   ]
  },
  {
   "cell_type": "code",
   "execution_count": 21,
   "metadata": {},
   "outputs": [
    {
     "data": {
      "text/plain": [
       "13.45362404707371"
      ]
     },
     "execution_count": 21,
     "metadata": {},
     "output_type": "execute_result"
    }
   ],
   "source": [
    "# x2 = 10 , y2 = 9 , x1 = 0 , y1 = 0\n",
    "distancia (10,9,0,0)"
   ]
  },
  {
   "cell_type": "code",
   "execution_count": null,
   "metadata": {},
   "outputs": [],
   "source": []
  }
 ],
 "metadata": {
  "kernelspec": {
   "display_name": "Python 3",
   "language": "python",
   "name": "python3"
  },
  "language_info": {
   "codemirror_mode": {
    "name": "ipython",
    "version": 3
   },
   "file_extension": ".py",
   "mimetype": "text/x-python",
   "name": "python",
   "nbconvert_exporter": "python",
   "pygments_lexer": "ipython3",
   "version": "3.8.5"
  }
 },
 "nbformat": 4,
 "nbformat_minor": 4
}
