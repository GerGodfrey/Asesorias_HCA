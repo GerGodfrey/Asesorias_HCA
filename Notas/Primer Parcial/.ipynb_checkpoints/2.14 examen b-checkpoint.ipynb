{
 "cells": [
  {
   "cell_type": "markdown",
   "metadata": {},
   "source": [
    "<img src=\"../../files/logo.png\" width=200>"
   ]
  },
  {
   "cell_type": "markdown",
   "metadata": {},
   "source": [
    "# HCA Examen Python"
   ]
  },
  {
   "cell_type": "markdown",
   "metadata": {},
   "source": [
    "## Pregunta 1"
   ]
  },
  {
   "cell_type": "markdown",
   "metadata": {},
   "source": [
    "La tienda de la esquina quiere implementar una función para saber si eres cliente frecuente o no. El cliente debera de escribir cuantas veces ha ido en una semana a comprar a esa tienda y el monto total de su compra de ese día. \n",
    "\n",
    "Si el cliente ha comprado menos de 4 veces no se le aplicará ningún descuento. Si ha ido entre 4 y 10 se le aplicara un descuento del 10% de su compra total y en caso de que haya comprado más de 10 veces en una semana se le hará un descuento del 50%. La función deberá de calcular el costo total aplicando el descuento correspondiente (1 punto)."
   ]
  },
  {
   "cell_type": "code",
   "execution_count": 23,
   "metadata": {},
   "outputs": [
    {
     "name": "stdout",
     "output_type": "stream",
     "text": [
      "Using matplotlib backend: MacOSX\n",
      "Populating the interactive namespace from numpy and matplotlib\n"
     ]
    }
   ],
   "source": [
    "%pylab"
   ]
  },
  {
   "cell_type": "code",
   "execution_count": 24,
   "metadata": {},
   "outputs": [],
   "source": [
    "import math"
   ]
  },
  {
   "cell_type": "code",
   "execution_count": 26,
   "metadata": {},
   "outputs": [],
   "source": [
    "def descuento(compras,total):\n",
    "    if(compras < 4):\n",
    "        res = total \n",
    "    elif( 4 <= compras and compras < 10):\n",
    "        res = total - (total*.10)\n",
    "    else:\n",
    "        res = total -(total*.50)\n",
    "    return res"
   ]
  },
  {
   "cell_type": "code",
   "execution_count": 27,
   "metadata": {},
   "outputs": [
    {
     "data": {
      "text/plain": [
       "50.0"
      ]
     },
     "execution_count": 27,
     "metadata": {},
     "output_type": "execute_result"
    }
   ],
   "source": [
    "descuento(10,100)"
   ]
  },
  {
   "cell_type": "markdown",
   "metadata": {},
   "source": [
    "## Pregunta 2 "
   ]
  },
  {
   "cell_type": "markdown",
   "metadata": {},
   "source": [
    "Dada la variable \"letra\" que representa una canción, debemos de encontrar de dos formas diferentes cuántas palabras \"Azul\" o \"azul\" tienen.\n",
    "\n",
    "- Ocupa el ciclo \"for\" \n",
    "- Ocupa alguno de los métodos de los Strings\n",
    "\n",
    "(3 puntos)."
   ]
  },
  {
   "cell_type": "code",
   "execution_count": 29,
   "metadata": {},
   "outputs": [],
   "source": [
    "letra = \"Fue una mañana que yo te encontré Cuando la brisa besaba tu dulce piel Tus ojos tristes que al ver adore La noche que yo te ame, eh Azul, cuando en silencio por fin te bese Azul, sentí muy dentro nacer este amor Azul, hoy miro al cielo y en ti puedo ver La estrella que siempre soñé Azul, y es que este amor es azul como el mar Azul, como de tu mirada nació mi ilusión Azul como una lagrima cuando hay perdón Tan puro y tan azul que embriago el corazón Es que este amor es azul como el mar Azul, como el azul del cielo nació entre los dos Azul, como el lucero de nuestra pasión Un manantial azul que me llena de amor Como el milagro que tanto espere Eres la niña que siempre busque Azul, es tu inocencia que quiero entender Tu príncipe azul yo seré Azul, es mi locura si estoy junto a ti Azul, rayo de luna serás para mí Azul, con la lluvia pintada de azul Por siempre serás solo tú Azul, y es que este amor es azul como el mar Azul, como de tu mirada nació mi ilusión Azul como una lagrima cuando hay perdón Tan puro y tan azul que embriago el corazón Es que este amor es azul como el mar Azul, como el azul del cielo nació entre los dos Azul, como el lucero de nuestra pasión Un manantial azul que me llena de amor Azul, y es que este amor es azul como el mar Azul, como de tu mirada nació mi ilusión Azul como una lagrima cuando hay perdón Tan puro y tan azul que embriago el corazón Es que este amor es azul como el mar Azul, como el azul del cielo nació entre los dos Azul, como el lucero de nuestra pasión Un manantial azul que me llena de amor Es que este amor es azul como el mar Azul, como de tu mirada nació mi ilusión Azul como una lagrima cuando hay perdón Tan puro y tan azul que embriago el corazón (uh-eh-uh-eh-uh-eh-eh-eh) Y es que este amor es azul como el mar Azul, como el azul del cielo nació entre los dos Azul, como el lucero de nuestra pasión Un manantial azul que me llena de amor Y es que este amor es azul como el mar Azul, como de tu mirada nació mi ilusión Azul como una lagrima cuando hay perdón Tan puro y tan azul que embriago el corazón (uh-eh-ih-eh) Y es que este amor es azul como el mar Azul, como el azul del cielo nació entre los dos Azul, como el lucero de nuestra pasión Un manantial azul que me llena de amor\""
   ]
  },
  {
   "cell_type": "code",
   "execution_count": 36,
   "metadata": {},
   "outputs": [],
   "source": [
    "letra = letra.replace(\",\",\"\")\n",
    "lista= letra.split()"
   ]
  },
  {
   "cell_type": "code",
   "execution_count": 39,
   "metadata": {},
   "outputs": [
    {
     "name": "stdout",
     "output_type": "stream",
     "text": [
      "La canción tiene 57 veces la palabra Azul/azul\n"
     ]
    }
   ],
   "source": [
    "count = 0 \n",
    "for x in lista: \n",
    "    if(x == \"Azul\" or x == \"azul\"):\n",
    "        count = count +1 \n",
    "print(f\"La canción tiene {count} veces la palabra Azul/azul\")"
   ]
  },
  {
   "cell_type": "code",
   "execution_count": 40,
   "metadata": {},
   "outputs": [
    {
     "name": "stdout",
     "output_type": "stream",
     "text": [
      "La canción tiene 57 veces la palabra Azul/azul\n"
     ]
    }
   ],
   "source": [
    "count2 = letra.count(\"Azul\") + letra.count(\"azul\")\n",
    "print(f\"La canción tiene {count2} veces la palabra Azul/azul\")"
   ]
  },
  {
   "cell_type": "markdown",
   "metadata": {},
   "source": [
    "## Pregunta 3\n",
    "En un trayecto por varios sitios turísticos del Norte del país, un auto que va a 75 Km/hr., tarda 2 horas 20 min., en hacer su recorrido, cuanto tardará otro auto que hace exactamente el mismo recorrido pero a una velocidad de 110 Km/hr.?\n",
    "\n",
    "No olvides utilizar variables para representar tu información. (1 punto)"
   ]
  },
  {
   "cell_type": "code",
   "execution_count": 42,
   "metadata": {},
   "outputs": [],
   "source": [
    "velocidad = 75\n",
    "velocidad2 =110\n",
    "tiempo = 140"
   ]
  },
  {
   "cell_type": "code",
   "execution_count": 45,
   "metadata": {},
   "outputs": [
    {
     "name": "stdout",
     "output_type": "stream",
     "text": [
      "58.92857142857143\n"
     ]
    }
   ],
   "source": [
    "tiempo2 = velocidad2*velocidad / tiempo\n",
    "print(tiempo2)"
   ]
  },
  {
   "cell_type": "markdown",
   "metadata": {},
   "source": [
    "## Pregunta 4 \n",
    "Una empresa que se dedica a reparar computadoras tiene la lista \"marcas\" todo su catálogo de marcas que le puede dar servicio. \n",
    "El número de reparaciones y su costo están dados en las listas \"cantidad\" y \"costo\" asignadas correspondientemente."
   ]
  },
  {
   "cell_type": "markdown",
   "metadata": {},
   "source": [
    "Genera una nueva lista con las ganancias obtenidas de cada una de las marcas (Las ganancias se obtienen multiplicando el costo por la cantidad) (1 punto).\n"
   ]
  },
  {
   "cell_type": "code",
   "execution_count": 2,
   "metadata": {},
   "outputs": [],
   "source": [
    "marcas=['Mac','HP','Sony','LG','Huawei','Asus','Lenovo','Alienware','Razer','Dell']\n",
    "cantidad=[100,2,32,1,10,17,21,0,15,27]\n",
    "costo=[4300,10000,1700,197,3700,8561,4520,5160,347,2680]"
   ]
  },
  {
   "cell_type": "code",
   "execution_count": 46,
   "metadata": {},
   "outputs": [
    {
     "name": "stdout",
     "output_type": "stream",
     "text": [
      "[83300, 19600, 116100, 13818, 37000, 14552, 9492, 4480, 20205, 72360]\n"
     ]
    }
   ],
   "source": [
    "res1 = [x * y for x,y in zip(cantidad,costo)]\n",
    "print(res1)"
   ]
  },
  {
   "cell_type": "code",
   "execution_count": 47,
   "metadata": {},
   "outputs": [
    {
     "name": "stdout",
     "output_type": "stream",
     "text": [
      "[83300, 19600, 116100, 13818, 37000, 14552, 9492, 4480, 20205, 72360]\n"
     ]
    }
   ],
   "source": [
    "res2 = [cantidad[x] * costo[x] for x in range(0,10,1)]\n",
    "print(res2)"
   ]
  },
  {
   "cell_type": "code",
   "execution_count": null,
   "metadata": {},
   "outputs": [],
   "source": []
  },
  {
   "cell_type": "markdown",
   "metadata": {},
   "source": [
    "Escribe cuál fue la ganancia promedio de todas las marcas que maneja la empresa. (1 punto)."
   ]
  },
  {
   "cell_type": "code",
   "execution_count": 49,
   "metadata": {},
   "outputs": [
    {
     "data": {
      "text/plain": [
       "39090.7"
      ]
     },
     "execution_count": 49,
     "metadata": {},
     "output_type": "execute_result"
    }
   ],
   "source": [
    "mean(res2)"
   ]
  },
  {
   "cell_type": "code",
   "execution_count": 51,
   "metadata": {},
   "outputs": [
    {
     "name": "stdout",
     "output_type": "stream",
     "text": [
      "39090.7\n"
     ]
    }
   ],
   "source": [
    "promedio = sum(res1)/len(res1)\n",
    "print(promedio)"
   ]
  },
  {
   "cell_type": "markdown",
   "metadata": {},
   "source": [
    "## Pregunta 5\n",
    "Realiza un programa que escriba una secuencia de números:\n",
    "\n",
    "El programa deberá de pedir un número y mientras no se llegue a 1 realizar lo siguiente:  \n",
    "\n",
    "Si el número es par, deberá dividirse entre 2 y guardar este número.  \n",
    "Si el número es impar, deberá de restarle 1 y volver a preguntar si es par. \n",
    "\n",
    "Esto se deberá repetir hasta que el número sea 1.  \n",
    "\n",
    "Ejemplo: si el número es 38, deberá escribir:  \n",
    "19 9 4 2 1\n",
    "\n",
    "(3 puntos)\n"
   ]
  },
  {
   "cell_type": "code",
   "execution_count": 52,
   "metadata": {},
   "outputs": [
    {
     "name": "stdout",
     "output_type": "stream",
     "text": [
      "Dame num: 38\n",
      " 19 9 4 2 1\n"
     ]
    }
   ],
   "source": [
    "x = int(input(\"Dame num: \"))\n",
    "cadena = \"\"\n",
    "\n",
    "while x != 1:\n",
    "    if x%2 == 0:\n",
    "        x= int(x/2)\n",
    "        cadena = cadena + \" \" + str(x)\n",
    "    else:\n",
    "        x = x-1\n",
    "\n",
    "print(cadena)"
   ]
  },
  {
   "cell_type": "code",
   "execution_count": null,
   "metadata": {},
   "outputs": [],
   "source": []
  }
 ],
 "metadata": {
  "kernelspec": {
   "display_name": "Python 3",
   "language": "python",
   "name": "python3"
  },
  "language_info": {
   "codemirror_mode": {
    "name": "ipython",
    "version": 3
   },
   "file_extension": ".py",
   "mimetype": "text/x-python",
   "name": "python",
   "nbconvert_exporter": "python",
   "pygments_lexer": "ipython3",
   "version": "3.8.5"
  }
 },
 "nbformat": 4,
 "nbformat_minor": 2
}
