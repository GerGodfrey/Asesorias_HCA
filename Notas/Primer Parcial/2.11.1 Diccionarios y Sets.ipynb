{
 "cells": [
  {
   "cell_type": "markdown",
   "metadata": {},
   "source": [
    "# Diccionarios y Sets"
   ]
  },
  {
   "cell_type": "markdown",
   "metadata": {},
   "source": [
    "## {Diccionaries: Values}\n",
    "Hasta el momento hemos visto colecciones de elementos ordenados por un único índice número y numerado. Ahora veremos otra clase de objetos, los **diccionarios**, los cuáles son listas asociativas indexadas por llave; no por orden.\n",
    "\n",
    "La sintáxis de un diccionario:\n",
    "```python\n",
    "{llave1: valor1,\n",
    " llave2: valor2,\n",
    " ...\n",
    " llaven: valorn}\n",
    "```"
   ]
  },
  {
   "cell_type": "markdown",
   "metadata": {},
   "source": [
    "### ¿Por qué usaríamos un diccionario y no una lista?:\n",
    "Un diccionario de personas"
   ]
  },
  {
   "cell_type": "code",
   "execution_count": 3,
   "metadata": {},
   "outputs": [],
   "source": [
    "alumnos = [\n",
    "    [\"José\", 11, \"rojo\", \"Administración\"],\n",
    "    [\"Charlie\", 33, \"Violeta\", \"Actuaría\"],\n",
    "    [\"Luis\", 23, \"Negro\", \"Matemáticas\"],\n",
    "    [\"Johanna\", 18, \"Gris\", \"Actuaría\"]\n",
    "]"
   ]
  },
  {
   "cell_type": "markdown",
   "metadata": {},
   "source": [
    "¿Cómo encontraríamos la edad del tercer estudiante?\n",
    "Lo más probable es que nos preguntemos cuál es la edad de `\"Luis\"`.\n",
    "\n",
    "Usamos un diccionario cuando la relación de los elementos es de mayor importancia al orden de dónde provienen."
   ]
  },
  {
   "cell_type": "code",
   "execution_count": 4,
   "metadata": {},
   "outputs": [
    {
     "data": {
      "text/plain": [
       "{'José': [11, 'rojo', 'Administración'],\n",
       " 'Charlie': [33, 'Violeta', 'Ingeniería'],\n",
       " 'Luis': [23, 'Negro', 'Matemáticas'],\n",
       " 'Johanna': [18, 'Gris', 'Finanzas']}"
      ]
     },
     "execution_count": 4,
     "metadata": {},
     "output_type": "execute_result"
    }
   ],
   "source": [
    "alumnos = {\n",
    "    \"José\":    [11, \"rojo\", \"Administración\"],\n",
    "    \"Charlie\": [33, \"Violeta\", \"Ingeniería\"],\n",
    "    \"Luis\": [23, \"Negro\", \"Matemáticas\"],\n",
    "    \"Johanna\": [18, \"Gris\", \"Finanzas\"]\n",
    "}\n",
    "alumnos"
   ]
  },
  {
   "cell_type": "code",
   "execution_count": 5,
   "metadata": {},
   "outputs": [
    {
     "data": {
      "text/plain": [
       "{'José': [11, 'rojo', 'Administración'],\n",
       " 'Charlie': [33, 'Violeta', 'Ingeniería'],\n",
       " 'Johanna': [18, 'Gris', 'Finanzas']}"
      ]
     },
     "execution_count": 5,
     "metadata": {},
     "output_type": "execute_result"
    }
   ],
   "source": [
    "del alumnos[\"Luis\"]\n",
    "alumnos"
   ]
  },
  {
   "cell_type": "markdown",
   "metadata": {},
   "source": [
    "Agregamos un elemento a un diccionario indexándolo sobre la llave de referencia y asignandole el valor deseado."
   ]
  },
  {
   "cell_type": "code",
   "execution_count": 6,
   "metadata": {},
   "outputs": [
    {
     "data": {
      "text/plain": [
       "{'José': [11, 'rojo', 'Administración'],\n",
       " 'Charlie': [33, 'Violeta', 'Ingeniería'],\n",
       " 'Johanna': [18, 'Gris', 'Finanzas'],\n",
       " 'Gerardo': [23, 'vino', 'Actuaría']}"
      ]
     },
     "execution_count": 6,
     "metadata": {},
     "output_type": "execute_result"
    }
   ],
   "source": [
    "alumnos[\"Gerardo\"] = [23, \"vino\", \"Actuaría\"]\n",
    "alumnos"
   ]
  },
  {
   "cell_type": "markdown",
   "metadata": {},
   "source": [
    "### Métodos dentro de un diccionario\n"
   ]
  },
  {
   "cell_type": "code",
   "execution_count": 8,
   "metadata": {},
   "outputs": [
    {
     "name": "stdout",
     "output_type": "stream",
     "text": [
      "dict_keys(['José', 'Charlie', 'Johanna', 'Gerardo'])\n"
     ]
    }
   ],
   "source": [
    "# Las llaves del diccionario\n",
    "print(alumnos.keys())"
   ]
  },
  {
   "cell_type": "code",
   "execution_count": 9,
   "metadata": {},
   "outputs": [
    {
     "data": {
      "text/plain": [
       "dict_items([('José', [11, 'rojo', 'Administración']), ('Charlie', [33, 'Violeta', 'Ingeniería']), ('Johanna', [18, 'Gris', 'Finanzas']), ('Gerardo', [23, 'vino', 'Actuaría'])])"
      ]
     },
     "execution_count": 9,
     "metadata": {},
     "output_type": "execute_result"
    }
   ],
   "source": [
    "# Lista de tuplas con dos elementos. La primera llave el nombre y la segunda los valoresb\n",
    "alumnos.items()"
   ]
  },
  {
   "cell_type": "markdown",
   "metadata": {},
   "source": [
    "## {Sets}\n",
    "\n",
    "Un `set` (conjunto) es una colección no ordenada de valores únicos. Para dos conjuntos `A`, `B` y valores `a` dentro de `A` y `b` dentro de `B`, se cumplen con las siguientes características\n",
    "* `A & B` (Intersección): Elementos en `A` y en `B`\n",
    "* `A | B` (Unión): Elementos en `A` o en `B`\n",
    "* `A - B` (Diferencia): Elementos en `A` no presentes en `B`\n",
    "* `A ^ B` (Diferencia Simétrica): Elementos en cualquiera de los conjuntos `A` o `B`, mas no en los dos.\n",
    "* `A <= B` (Subconjunto): Prueba si todos los elementos en `A` se encuentran dentro de `B`\n",
    "* `A >= B` (Superconjunto): Prueba si todos los elementos en `B` se encuentran dentro de `A`"
   ]
  },
  {
   "cell_type": "code",
   "execution_count": 10,
   "metadata": {},
   "outputs": [],
   "source": [
    "vocales = {'a', 'e', 'i', 'o', 'u'}\n",
    "p1 = {'c', 'a', 'r', 'r', 'o'}"
   ]
  },
  {
   "cell_type": "code",
   "execution_count": 11,
   "metadata": {},
   "outputs": [
    {
     "data": {
      "text/plain": [
       "set"
      ]
     },
     "execution_count": 11,
     "metadata": {},
     "output_type": "execute_result"
    }
   ],
   "source": [
    "type(vocales)"
   ]
  },
  {
   "cell_type": "code",
   "execution_count": 12,
   "metadata": {},
   "outputs": [
    {
     "data": {
      "text/plain": [
       "{'a', 'o'}"
      ]
     },
     "execution_count": 12,
     "metadata": {},
     "output_type": "execute_result"
    }
   ],
   "source": [
    "p1 & vocales"
   ]
  },
  {
   "cell_type": "code",
   "execution_count": 13,
   "metadata": {},
   "outputs": [
    {
     "data": {
      "text/plain": [
       "{'a', 'c', 'e', 'i', 'o', 'r', 'u'}"
      ]
     },
     "execution_count": 13,
     "metadata": {},
     "output_type": "execute_result"
    }
   ],
   "source": [
    "p1 | vocales"
   ]
  },
  {
   "cell_type": "code",
   "execution_count": 14,
   "metadata": {},
   "outputs": [
    {
     "data": {
      "text/plain": [
       "{'c', 'r'}"
      ]
     },
     "execution_count": 14,
     "metadata": {},
     "output_type": "execute_result"
    }
   ],
   "source": [
    "p1 - vocales"
   ]
  },
  {
   "cell_type": "code",
   "execution_count": 15,
   "metadata": {},
   "outputs": [
    {
     "data": {
      "text/plain": [
       "{'c', 'e', 'i', 'r', 'u'}"
      ]
     },
     "execution_count": 15,
     "metadata": {},
     "output_type": "execute_result"
    }
   ],
   "source": [
    "p1 ^ vocales"
   ]
  },
  {
   "cell_type": "code",
   "execution_count": null,
   "metadata": {},
   "outputs": [],
   "source": []
  }
 ],
 "metadata": {
  "kernelspec": {
   "display_name": "Python 3",
   "language": "python",
   "name": "python3"
  },
  "language_info": {
   "codemirror_mode": {
    "name": "ipython",
    "version": 3
   },
   "file_extension": ".py",
   "mimetype": "text/x-python",
   "name": "python",
   "nbconvert_exporter": "python",
   "pygments_lexer": "ipython3",
   "version": "3.7.3"
  }
 },
 "nbformat": 4,
 "nbformat_minor": 2
}
