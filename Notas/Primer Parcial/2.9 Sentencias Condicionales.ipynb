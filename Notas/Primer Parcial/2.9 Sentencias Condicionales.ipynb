{
 "cells": [
  {
   "cell_type": "markdown",
   "metadata": {},
   "source": [
    "# Condicionales"
   ]
  },
  {
   "cell_type": "markdown",
   "metadata": {},
   "source": [
    "Hasta ahora solo hemos visto programas cuya sequencia opera de manera lineal. Cada input sigue la misma serie de pasos independientemente de su valor.\n",
    "<img src=\"../../files/lec02/prg01.png\" width=200>\n",
    "\n"
   ]
  },
  {
   "cell_type": "markdown",
   "metadata": {},
   "source": [
    "Los programas, muy comúnmente, no siguen una serie de pasos que regrese al mismo valor. Por ejemplo, al querer hacer *login* en una página de internet.\n",
    "\n",
    "<img src=\"../../files/lec02/prg02.png\" width=400>"
   ]
  },
  {
   "cell_type": "markdown",
   "metadata": {},
   "source": [
    "## Condición *If*"
   ]
  },
  {
   "cell_type": "markdown",
   "metadata": {},
   "source": [
    "La estructura de control `if` permite que un programa ejecute intrucciones específicas si cumple la condición que sea asignada. La sintaxis de la contrucción `if`  es de la siguiente forma:\n",
    "```python\n",
    "if <condicion>:\n",
    "    <expresion>\n",
    "```\n",
    "* La `<condicion>` hace referencia a una operación booleana, es decir, una operación que regrese `True` o `False`.\n",
    "* La `<expresion>` hace referencia a cualquier otro programa valido. Esta se ejectuta solo **sí** el resultado de `<condicion>` resulta `True`."
   ]
  },
  {
   "cell_type": "code",
   "execution_count": 5,
   "metadata": {},
   "outputs": [
    {
     "name": "stdout",
     "output_type": "stream",
     "text": [
      "Escriba un número positivo: 9\n",
      "Ha escrito el número 9\n"
     ]
    }
   ],
   "source": [
    "numero = int(input(\"Escriba un número positivo: \"))\n",
    "if numero < 0:\n",
    "    print(\"¡Le he dicho que escriba un número positivo!\")\n",
    "print(f\"Ha escrito el número {numero}\")"
   ]
  },
  {
   "cell_type": "code",
   "execution_count": 1,
   "metadata": {},
   "outputs": [
    {
     "name": "stdout",
     "output_type": "stream",
     "text": [
      "Ingresa tu usuario: k\n"
     ]
    }
   ],
   "source": [
    "##  ¿ Estas en la lista ? \n",
    "lista_usuarios = ['usr186', 'usr203', 'usr919', 'usr989',\n",
    "                  'usr587', 'usr131', 'usr640', 'usr757',\n",
    "                  'usr237', 'usr491']\n",
    "usuario = input(\"Ingresa tu usuario: \")\n",
    "if usuario in lista_usuarios:\n",
    "    print(f\"¡ Hola, {usuario}! Eres Bienvenido\")"
   ]
  },
  {
   "cell_type": "markdown",
   "metadata": {},
   "source": [
    "¿Qué sucede si el usuario no se reconoce? "
   ]
  },
  {
   "cell_type": "markdown",
   "metadata": {},
   "source": [
    "## Condición *If Else*"
   ]
  },
  {
   "cell_type": "markdown",
   "metadata": {},
   "source": [
    "La estructura de control `if else` permite que un programa ejecute unas instrucciones cuando se cumple una condición y otras instrucciones cuando **no** se cumple esa condición.La sintaxis de la contrucción `if else`  es de la siguiente forma:\n",
    "```python\n",
    "if <condicion>:\n",
    "    <expresion>\n",
    "else:\n",
    "    <expresion2>\n",
    "```\n",
    "* La `<condicion>` hace referencia a una operación booleana, es decir, una operación que regrese `True` o `False`.\n",
    "* La `<expresion>` hace referencia a cualquier otro programa válido. Esta se ejectuta solo **si** el resultado de `<condicion>` resulta `True`.\n",
    "* La `<expresion2>` hace referencia a cualquier otro programa válido. Esta se ejecuta solo **si** el resultado de la `<condicion>` resulta `False`. "
   ]
  },
  {
   "cell_type": "code",
   "execution_count": 3,
   "metadata": {},
   "outputs": [
    {
     "name": "stdout",
     "output_type": "stream",
     "text": [
      "¿Cuántos años tiene? 90\n",
      "Es usted mayor de edad\n"
     ]
    }
   ],
   "source": [
    "edad = int(input(\"¿Cuántos años tiene? \"))\n",
    "if edad < 18:\n",
    "    print(\"Es usted menor de edad\")\n",
    "else:\n",
    "    print(\"Es usted mayor de edad\")"
   ]
  },
  {
   "cell_type": "code",
   "execution_count": 7,
   "metadata": {},
   "outputs": [
    {
     "name": "stdout",
     "output_type": "stream",
     "text": [
      "Escriba un número: 3\n",
      "3 es impar\n"
     ]
    }
   ],
   "source": [
    "numero = int(input(\"Escriba un número: \"))\n",
    "if numero % 2:\n",
    "    print(f\"{numero} es impar\")\n",
    "else:\n",
    "    print(f\"{numero} es par\")"
   ]
  },
  {
   "cell_type": "markdown",
   "metadata": {},
   "source": [
    "## Condición *Elif*"
   ]
  },
  {
   "cell_type": "markdown",
   "metadata": {},
   "source": [
    "En ocasiones es necesario contar con más de dos condiciones"
   ]
  },
  {
   "cell_type": "markdown",
   "metadata": {},
   "source": [
    "La estructura de control `if .. elif .. else` permite encadenar **varias** condiciones. `Elif` solamente es una contracción de `else if`. La sintaxis de la contrucción `if .. elif .. else`  es de la siguiente forma:\n",
    "```python\n",
    "if <condicion>:\n",
    "    <expresion>\n",
    "elif <condicion2>:\n",
    "    <expresion2>\n",
    "else:\n",
    "    <expresion3>  \n",
    "```\n",
    "\n",
    "* La `<condicion>` hace referencia a una operación booleana, es decir, una operación que regrese `True` o `False`.\n",
    "* La `<expresion>` hace referencia a cualquier otro programa válido. Esta se ejectuta solo **si** el resultado de `<condicion>` resulta `True`.\n",
    "* La `<condicion2>` hace referencia a una operación booleana, es decir, una operación que regrese `True` o `False`.Esta se ejecuta solo si el resultado de la `<condicion>` fue negativo.\n",
    "* La `<expresion2>` hace referencia a cualquier otro programa válido. Esta se ejecuta solo **si** el resultado de la `<condicion2>` resulta `True`.\n",
    "* La `<expresion3>` hace referencia a cualquier otro programa válido. Esta se ejecuta solo **si** el resultado de la `<condicion2>` resulta `False`."
   ]
  },
  {
   "cell_type": "code",
   "execution_count": 11,
   "metadata": {},
   "outputs": [
    {
     "name": "stdout",
     "output_type": "stream",
     "text": [
      "Ingresa tu usuario: usr491\n",
      "El usuario usr491 ha sido bloqueado...\n"
     ]
    }
   ],
   "source": [
    "## Saludo a usuario\n",
    "lista_usuarios = ['usr186', 'usr203', 'usr919', 'usr989',\n",
    "                  'usr587', 'usr131', 'usr640', 'usr757',\n",
    "                  'usr237', 'usr491']\n",
    "lista_usuarios_bloqueados = ['usr160', 'usr464', 'usr461',\n",
    "                             'usr737', 'usr835', 'usr491']\n",
    "usuario = input(\"Ingresa tu usuario: \")\n",
    "\n",
    "if usuario in lista_usuarios_bloqueados:\n",
    "    print(f\"El usuario {usuario} ha sido bloqueado...\")\n",
    "elif usuario in lista_usuarios:\n",
    "    print(f\"Hola, {usuario}!\")\n",
    "else:\n",
    "    print(\"Usuario no reconocido\")"
   ]
  },
  {
   "cell_type": "markdown",
   "metadata": {},
   "source": [
    "<h2 style=\"color:#d62728\">Ejercicios</h2>"
   ]
  },
  {
   "cell_type": "markdown",
   "metadata": {},
   "source": [
    "1. Escribe un programa que mencione cómo se encuentra el clima. El Usuario deberá ingresar la temperatura actual:\n",
    "    * Si `temperatura` es mayor a 35 o igual, el programa deberá imprimir `\"Hace mucho calor\"`\n",
    "    * Si `temperatura` es menor a -15, el programa deberá imprimir `\"Hace mucho frío\"`\n",
    "    * Si `temperatura` es mayor a 25 y menor a 35, el programa deberá imprimir `\"Hace calor\"` \n",
    "    * Si `temperatura` es mayor o igual a -15 y menor a 12, el programa deberá imprimir `\"Hace frío\"`\n",
    "    * Si `temperatura` se encuentra entre 12 y 25 (inclusivo), el programa deberá imprimir `\"El clima es templado\"`"
   ]
  },
  {
   "cell_type": "code",
   "execution_count": null,
   "metadata": {},
   "outputs": [],
   "source": []
  },
  {
   "cell_type": "markdown",
   "metadata": {},
   "source": [
    "2. Escribe un programa que le pregunte al usuario un valor del monto de su compra en una tienda, y calcule como salida el precio pagado por el cliente con el descuento incluído según el criterio dado.\n",
    "\n",
    "    * 5%, si el `monto` de compra es inferior a \\$ 800.00\n",
    "    * 15%, si el `monto` de compra es mayor o igual a \\$800.00 y menor a $1,500.00\n",
    "    * 25%, si el `monto` de compra es mayor o igual a \\$ 1,500.0"
   ]
  },
  {
   "cell_type": "markdown",
   "metadata": {},
   "source": [
    "Define una función cuya entrada sean 4 números como resultado indicar cero si C +D es cero o negativo, en otro caso resuelve: A+B / C+D"
   ]
  },
  {
   "cell_type": "code",
   "execution_count": 1,
   "metadata": {},
   "outputs": [],
   "source": [
    "def tres (a,b,c,d):\n",
    "    if(0 == c+d):\n",
    "        res = -1\n",
    "    else:\n",
    "        res = a+b/c+d\n",
    "    return res "
   ]
  },
  {
   "cell_type": "code",
   "execution_count": 3,
   "metadata": {},
   "outputs": [
    {
     "name": "stdout",
     "output_type": "stream",
     "text": [
      "Dame un número1\n",
      "Dame un número2\n",
      "Dame un número0\n",
      "Dame un número0\n"
     ]
    },
    {
     "data": {
      "text/plain": [
       "-1"
      ]
     },
     "execution_count": 3,
     "metadata": {},
     "output_type": "execute_result"
    }
   ],
   "source": [
    "A=int(input(\"Dame un número\"))\n",
    "B=int(input(\"Dame un número\"))\n",
    "C=int(input(\"Dame un número\"))\n",
    "D=int(input(\"Dame un número\"))\n",
    "\n",
    "tres(A,B,C,D)"
   ]
  },
  {
   "cell_type": "markdown",
   "metadata": {},
   "source": [
    "Realiza un programa que calcule los impuestos a pagar de un sueldo en particular de acuerdo con los siguientes criterios:\n",
    "\n",
    "si gana menos de 5,000----3%\n",
    "Entre 5,000 y 10,000----10%\n",
    "Entre 10,000 incluido y 20,000----15%\n",
    "Mayores o iguales a 20,000----30%\n",
    "Tu programa debera solicitar el sueldo a calcular"
   ]
  },
  {
   "cell_type": "code",
   "execution_count": 4,
   "metadata": {},
   "outputs": [
    {
     "name": "stdout",
     "output_type": "stream",
     "text": [
      "Dame el sueldo3\n",
      "El impuesto que debe pagar por un sueldo $3.0 es de $0.09\n",
      "El impuesto que debe pagar por un sueldo 3.0 es de $ 0.09\n"
     ]
    }
   ],
   "source": [
    "#Forma 1\n",
    "sueldo=float(input(\"Dame el sueldo\"))\n",
    "if sueldo<5000:\n",
    "    i=sueldo*.03\n",
    "else:\n",
    "    if sueldo>=5000 and sueldo<10000:\n",
    "        i=sueldo*.1\n",
    "    else:\n",
    "        if sueldo>=10000 and sueldo<20000:\n",
    "                i=sueldo*.15\n",
    "        else:\n",
    "            i=sueldo*.30\n",
    "print(\"El impuesto que debe pagar por un sueldo ${} es de ${}\".format(sueldo,i))\n",
    "print(\"El impuesto que debe pagar por un sueldo\",sueldo,\"es de $\",i)"
   ]
  },
  {
   "cell_type": "code",
   "execution_count": 5,
   "metadata": {},
   "outputs": [
    {
     "ename": "KeyboardInterrupt",
     "evalue": "Interrupted by user",
     "output_type": "error",
     "traceback": [
      "\u001b[0;31m---------------------------------------------------------------------------\u001b[0m",
      "\u001b[0;31mKeyboardInterrupt\u001b[0m                         Traceback (most recent call last)",
      "\u001b[0;32m<ipython-input-5-3a5bf9ae8324>\u001b[0m in \u001b[0;36m<module>\u001b[0;34m\u001b[0m\n\u001b[1;32m      1\u001b[0m \u001b[0;31m#Forma 3\u001b[0m\u001b[0;34m\u001b[0m\u001b[0;34m\u001b[0m\u001b[0;34m\u001b[0m\u001b[0m\n\u001b[0;32m----> 2\u001b[0;31m \u001b[0msueldo2\u001b[0m\u001b[0;34m=\u001b[0m\u001b[0mfloat\u001b[0m\u001b[0;34m(\u001b[0m\u001b[0minput\u001b[0m\u001b[0;34m(\u001b[0m\u001b[0;34m\"Dame tu sueldo\"\u001b[0m\u001b[0;34m)\u001b[0m\u001b[0;34m)\u001b[0m\u001b[0;34m\u001b[0m\u001b[0;34m\u001b[0m\u001b[0m\n\u001b[0m\u001b[1;32m      3\u001b[0m \u001b[0;32mif\u001b[0m \u001b[0msueldo2\u001b[0m\u001b[0;34m<\u001b[0m\u001b[0;36m5000\u001b[0m\u001b[0;34m:\u001b[0m\u001b[0;34m\u001b[0m\u001b[0;34m\u001b[0m\u001b[0m\n\u001b[1;32m      4\u001b[0m     \u001b[0mimp\u001b[0m\u001b[0;34m=\u001b[0m\u001b[0msueldo2\u001b[0m\u001b[0;34m*\u001b[0m\u001b[0;36m.03\u001b[0m\u001b[0;34m\u001b[0m\u001b[0;34m\u001b[0m\u001b[0m\n\u001b[1;32m      5\u001b[0m \u001b[0;32melif\u001b[0m \u001b[0msueldo2\u001b[0m\u001b[0;34m<\u001b[0m\u001b[0;36m10000\u001b[0m\u001b[0;34m:\u001b[0m\u001b[0;34m\u001b[0m\u001b[0;34m\u001b[0m\u001b[0m\n",
      "\u001b[0;32m/opt/anaconda3/lib/python3.8/site-packages/ipykernel/kernelbase.py\u001b[0m in \u001b[0;36mraw_input\u001b[0;34m(self, prompt)\u001b[0m\n\u001b[1;32m    858\u001b[0m                 \u001b[0;34m\"raw_input was called, but this frontend does not support input requests.\"\u001b[0m\u001b[0;34m\u001b[0m\u001b[0;34m\u001b[0m\u001b[0m\n\u001b[1;32m    859\u001b[0m             )\n\u001b[0;32m--> 860\u001b[0;31m         return self._input_request(str(prompt),\n\u001b[0m\u001b[1;32m    861\u001b[0m             \u001b[0mself\u001b[0m\u001b[0;34m.\u001b[0m\u001b[0m_parent_ident\u001b[0m\u001b[0;34m,\u001b[0m\u001b[0;34m\u001b[0m\u001b[0;34m\u001b[0m\u001b[0m\n\u001b[1;32m    862\u001b[0m             \u001b[0mself\u001b[0m\u001b[0;34m.\u001b[0m\u001b[0m_parent_header\u001b[0m\u001b[0;34m,\u001b[0m\u001b[0;34m\u001b[0m\u001b[0;34m\u001b[0m\u001b[0m\n",
      "\u001b[0;32m/opt/anaconda3/lib/python3.8/site-packages/ipykernel/kernelbase.py\u001b[0m in \u001b[0;36m_input_request\u001b[0;34m(self, prompt, ident, parent, password)\u001b[0m\n\u001b[1;32m    902\u001b[0m             \u001b[0;32mexcept\u001b[0m \u001b[0mKeyboardInterrupt\u001b[0m\u001b[0;34m:\u001b[0m\u001b[0;34m\u001b[0m\u001b[0;34m\u001b[0m\u001b[0m\n\u001b[1;32m    903\u001b[0m                 \u001b[0;31m# re-raise KeyboardInterrupt, to truncate traceback\u001b[0m\u001b[0;34m\u001b[0m\u001b[0;34m\u001b[0m\u001b[0;34m\u001b[0m\u001b[0m\n\u001b[0;32m--> 904\u001b[0;31m                 \u001b[0;32mraise\u001b[0m \u001b[0mKeyboardInterrupt\u001b[0m\u001b[0;34m(\u001b[0m\u001b[0;34m\"Interrupted by user\"\u001b[0m\u001b[0;34m)\u001b[0m \u001b[0;32mfrom\u001b[0m \u001b[0;32mNone\u001b[0m\u001b[0;34m\u001b[0m\u001b[0;34m\u001b[0m\u001b[0m\n\u001b[0m\u001b[1;32m    905\u001b[0m             \u001b[0;32mexcept\u001b[0m \u001b[0mException\u001b[0m \u001b[0;32mas\u001b[0m \u001b[0me\u001b[0m\u001b[0;34m:\u001b[0m\u001b[0;34m\u001b[0m\u001b[0;34m\u001b[0m\u001b[0m\n\u001b[1;32m    906\u001b[0m                 \u001b[0mself\u001b[0m\u001b[0;34m.\u001b[0m\u001b[0mlog\u001b[0m\u001b[0;34m.\u001b[0m\u001b[0mwarning\u001b[0m\u001b[0;34m(\u001b[0m\u001b[0;34m\"Invalid Message:\"\u001b[0m\u001b[0;34m,\u001b[0m \u001b[0mexc_info\u001b[0m\u001b[0;34m=\u001b[0m\u001b[0;32mTrue\u001b[0m\u001b[0;34m)\u001b[0m\u001b[0;34m\u001b[0m\u001b[0;34m\u001b[0m\u001b[0m\n",
      "\u001b[0;31mKeyboardInterrupt\u001b[0m: Interrupted by user"
     ]
    }
   ],
   "source": [
    "#Forma 3\n",
    "sueldo2=float(input(\"Dame tu sueldo\"))\n",
    "if sueldo2<5000:\n",
    "    imp=sueldo2*.03\n",
    "elif sueldo2<10000:\n",
    "    imp=sueldo2*.1\n",
    "elif sueldo2<20000:\n",
    "    imp=sueldo2*.15\n",
    "else:\n",
    "    imp=sueldo2*.3\n",
    "print(\"El impuesto que debe pagar por un sueldo\",sueldo2,\"es de $\",imp)"
   ]
  },
  {
   "cell_type": "code",
   "execution_count": null,
   "metadata": {},
   "outputs": [],
   "source": []
  }
 ],
 "metadata": {
  "kernelspec": {
   "display_name": "Python 3",
   "language": "python",
   "name": "python3"
  },
  "language_info": {
   "codemirror_mode": {
    "name": "ipython",
    "version": 3
   },
   "file_extension": ".py",
   "mimetype": "text/x-python",
   "name": "python",
   "nbconvert_exporter": "python",
   "pygments_lexer": "ipython3",
   "version": "3.8.5"
  }
 },
 "nbformat": 4,
 "nbformat_minor": 2
}
