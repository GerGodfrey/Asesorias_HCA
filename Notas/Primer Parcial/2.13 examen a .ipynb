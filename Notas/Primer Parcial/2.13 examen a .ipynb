{
 "cells": [
  {
   "cell_type": "markdown",
   "metadata": {},
   "source": [
    "<img src=\"../../files/logo.png\" width=200>"
   ]
  },
  {
   "cell_type": "markdown",
   "metadata": {},
   "source": [
    "# HCA Examen Python"
   ]
  },
  {
   "cell_type": "markdown",
   "metadata": {},
   "source": [
    "##  Pregunta 1"
   ]
  },
  {
   "cell_type": "markdown",
   "metadata": {},
   "source": [
    "A continuación tiene las claves de los productos que se encuentran en diferentes países. "
   ]
  },
  {
   "cell_type": "code",
   "execution_count": 35,
   "metadata": {},
   "outputs": [
    {
     "name": "stdout",
     "output_type": "stream",
     "text": [
      "Using matplotlib backend: MacOSX\n",
      "Populating the interactive namespace from numpy and matplotlib\n"
     ]
    }
   ],
   "source": [
    "%pylab"
   ]
  },
  {
   "cell_type": "code",
   "execution_count": 3,
   "metadata": {},
   "outputs": [],
   "source": [
    "Mexico   = {18403,18736,18578,18238,17171,18778,18308,18985,18156,18328,18175,110,18614,18349,18220,17482,17511,17626,17337,17874,17268,17752,18491,18987}\n",
    "Colombia = {18679,18736,18736,18531,18578,18238,18308,17254,18175,17203,18220,17798,18987,110}\n",
    "Eua      = {18578,18238,17071,18778,18985,17254,18156,18175,110,18614,18220,17482,17511,17337,18987}"
   ]
  },
  {
   "cell_type": "raw",
   "metadata": {},
   "source": [
    "¿qué país tiene más productos? (1 punto)"
   ]
  },
  {
   "cell_type": "code",
   "execution_count": 36,
   "metadata": {},
   "outputs": [
    {
     "name": "stdout",
     "output_type": "stream",
     "text": [
      "Total de productos de Mexico:  24\n",
      "Total de productos de Colombia:  13\n",
      "Total de productos de Eua:  15\n"
     ]
    }
   ],
   "source": [
    "print(\"Total de productos de Mexico: \", len(Mexico))\n",
    "print(\"Total de productos de Colombia: \", len(Colombia))\n",
    "print(\"Total de productos de Eua: \", len(Eua))"
   ]
  },
  {
   "cell_type": "code",
   "execution_count": 37,
   "metadata": {},
   "outputs": [
    {
     "name": "stdout",
     "output_type": "stream",
     "text": [
      "El país con más productos es Mexico\n"
     ]
    }
   ],
   "source": [
    "print(\"El país con más productos es Mexico\")"
   ]
  },
  {
   "cell_type": "raw",
   "metadata": {},
   "source": [
    "¿qué productos están en todos los países? y ¿cúantos son? (1 punto)"
   ]
  },
  {
   "cell_type": "code",
   "execution_count": 39,
   "metadata": {},
   "outputs": [
    {
     "name": "stdout",
     "output_type": "stream",
     "text": [
      "{18987, 18220, 110, 18578, 18238, 18175}\n",
      "6\n"
     ]
    }
   ],
   "source": [
    "mundo = Mexico.intersection(Colombia).intersection(Eua)\n",
    "print(mundo)\n",
    "print(len(mundo))"
   ]
  },
  {
   "cell_type": "raw",
   "metadata": {},
   "source": [
    "¿qué productos están solo en Mexico? y ¿cúantos son? (1 punto) "
   ]
  },
  {
   "cell_type": "markdown",
   "metadata": {},
   "source": [
    "A - B (Diferencia): Elementos en A no presentes en B"
   ]
  },
  {
   "cell_type": "code",
   "execution_count": 44,
   "metadata": {},
   "outputs": [
    {
     "name": "stdout",
     "output_type": "stream",
     "text": [
      "Productos solo en México:  {18403, 18349, 17874, 17171, 17268, 18328, 17752, 17626, 18491}\n",
      "Total de productos: 9\n"
     ]
    }
   ],
   "source": [
    "pais= (Mexico - Colombia) - Eua \n",
    "print(\"Productos solo en México: \", pais)\n",
    "print(\"Total de productos:\", len(pais))"
   ]
  },
  {
   "cell_type": "code",
   "execution_count": null,
   "metadata": {},
   "outputs": [],
   "source": []
  },
  {
   "cell_type": "markdown",
   "metadata": {},
   "source": [
    "Comprueba el resultado de arriba pero ocupando ciclo for e if. (3 puntos)"
   ]
  },
  {
   "cell_type": "code",
   "execution_count": 45,
   "metadata": {},
   "outputs": [
    {
     "name": "stdout",
     "output_type": "stream",
     "text": [
      "18403 es producto mexicano: True\n",
      "18349 es producto mexicano: True\n",
      "17874 es producto mexicano: True\n",
      "17171 es producto mexicano: True\n",
      "17268 es producto mexicano: True\n",
      "18328 es producto mexicano: True\n",
      "17752 es producto mexicano: True\n",
      "17626 es producto mexicano: True\n",
      "18491 es producto mexicano: True\n"
     ]
    }
   ],
   "source": [
    "for x in pais:\n",
    "    if(x in Colombia or x in Eua):\n",
    "        print(\"ERROR\")\n",
    "    else:\n",
    "        print(f\"{x} es producto mexicano: {x in Mexico}\")"
   ]
  },
  {
   "cell_type": "markdown",
   "metadata": {},
   "source": [
    "## Pregunta 2"
   ]
  },
  {
   "cell_type": "markdown",
   "metadata": {},
   "source": [
    "Tenemos las cantidades totales de una criptomoneda que poseen nuestros clientes. Su costo en el mercado equivale a 1.5 pesos mexicanos. "
   ]
  },
  {
   "cell_type": "code",
   "execution_count": 47,
   "metadata": {},
   "outputs": [],
   "source": [
    "montoCripto = [3179,8605,7012,7176,3281,8468,6678,8237,9570,9733,8237,7338,8028,4723,1670,8364,3505,2165,4871,9330]\n"
   ]
  },
  {
   "cell_type": "code",
   "execution_count": null,
   "metadata": {},
   "outputs": [],
   "source": []
  },
  {
   "cell_type": "raw",
   "metadata": {},
   "source": [
    "Crea una lista de cuantos pesos mexicanos tiene cada usuario. Esto se calcula el total de criptomonedas entre el costo. (1 punto)"
   ]
  },
  {
   "cell_type": "code",
   "execution_count": 48,
   "metadata": {},
   "outputs": [
    {
     "name": "stdout",
     "output_type": "stream",
     "text": [
      "[2119.3333333333335, 5736.666666666667, 4674.666666666667, 4784.0, 2187.3333333333335, 5645.333333333333, 4452.0, 5491.333333333333, 6380.0, 6488.666666666667, 5491.333333333333, 4892.0, 5352.0, 3148.6666666666665, 1113.3333333333333, 5576.0, 2336.6666666666665, 1443.3333333333333, 3247.3333333333335, 6220.0]\n"
     ]
    }
   ],
   "source": [
    "costo = 1.5 \n",
    "totalPesos = [x/costo for x in list(montoCripto)]\n",
    "print(totalPesos)"
   ]
  },
  {
   "cell_type": "raw",
   "metadata": {},
   "source": [
    "¿cuál es el total de pesos que tenemos como empresa? (.5 punto)"
   ]
  },
  {
   "cell_type": "code",
   "execution_count": 50,
   "metadata": {},
   "outputs": [
    {
     "name": "stdout",
     "output_type": "stream",
     "text": [
      "Tenemos $ 86780.0 en la empresa\n"
     ]
    }
   ],
   "source": [
    "print(f\"Tenemos $ {sum(totalPesos)} en la empresa\")"
   ]
  },
  {
   "cell_type": "markdown",
   "metadata": {},
   "source": [
    "¿Cuántos clientes totales tenemos? (.5 punto)"
   ]
  },
  {
   "cell_type": "code",
   "execution_count": 52,
   "metadata": {},
   "outputs": [
    {
     "name": "stdout",
     "output_type": "stream",
     "text": [
      "20\n"
     ]
    }
   ],
   "source": [
    "print(len(montoCripto))"
   ]
  },
  {
   "cell_type": "markdown",
   "metadata": {},
   "source": [
    "Los clientes con los 10 montos más bajos de criptomonedas han decidido salirse.\n",
    "Crea una lista apoyándote de la otra para crear está nueva. (No puedes afectar montoCripto) (1 punto)"
   ]
  },
  {
   "cell_type": "code",
   "execution_count": 53,
   "metadata": {},
   "outputs": [],
   "source": [
    "montoCriptoOrdenados = sorted(montoCripto)"
   ]
  },
  {
   "cell_type": "code",
   "execution_count": 56,
   "metadata": {},
   "outputs": [
    {
     "name": "stdout",
     "output_type": "stream",
     "text": [
      "[3179, 8605, 7012, 7176, 3281, 8468, 6678, 8237, 9570, 9733, 8237, 7338, 8028, 4723, 1670, 8364, 3505, 2165, 4871, 9330]\n"
     ]
    }
   ],
   "source": [
    "print(montoCripto)"
   ]
  },
  {
   "cell_type": "code",
   "execution_count": 54,
   "metadata": {},
   "outputs": [
    {
     "name": "stdout",
     "output_type": "stream",
     "text": [
      "[1670, 2165, 3179, 3281, 3505, 4723, 4871, 6678, 7012, 7176, 7338, 8028, 8237, 8237, 8364, 8468, 8605, 9330, 9570, 9733]\n"
     ]
    }
   ],
   "source": [
    "print(montoCriptoOrdenados)"
   ]
  },
  {
   "cell_type": "code",
   "execution_count": 58,
   "metadata": {},
   "outputs": [
    {
     "name": "stdout",
     "output_type": "stream",
     "text": [
      "[7338, 8028, 8237, 8237, 8364, 8468, 8605, 9330, 9570, 9733]\n"
     ]
    }
   ],
   "source": [
    "NuevaCartera = montoCriptoOrdenados[10:]\n",
    "print(NuevaCartera)"
   ]
  },
  {
   "cell_type": "markdown",
   "metadata": {},
   "source": [
    "Nuestros 10 clientes han hecho movimientos con sus criptomonedas. Se representa en una lista con los montos gastados correspondientemente. Crea una lista con los nuevos montos (1 punto)"
   ]
  },
  {
   "cell_type": "code",
   "execution_count": 60,
   "metadata": {},
   "outputs": [],
   "source": [
    "montogastado = [28,0,37,64,68,5,1000,30,570,33]\n"
   ]
  },
  {
   "cell_type": "code",
   "execution_count": 61,
   "metadata": {},
   "outputs": [
    {
     "name": "stdout",
     "output_type": "stream",
     "text": [
      "[7310, 8028, 8200, 8173, 8296, 8463, 7605, 9300, 9000, 9700]\n"
     ]
    }
   ],
   "source": [
    "CarteraconGastos = [a-b for a,b in zip(NuevaCartera,montogastado)]\n",
    "print(CarteraconGastos)"
   ]
  },
  {
   "cell_type": "code",
   "execution_count": null,
   "metadata": {},
   "outputs": [],
   "source": []
  }
 ],
 "metadata": {
  "kernelspec": {
   "display_name": "Python 3",
   "language": "python",
   "name": "python3"
  },
  "language_info": {
   "codemirror_mode": {
    "name": "ipython",
    "version": 3
   },
   "file_extension": ".py",
   "mimetype": "text/x-python",
   "name": "python",
   "nbconvert_exporter": "python",
   "pygments_lexer": "ipython3",
   "version": "3.8.5"
  }
 },
 "nbformat": 4,
 "nbformat_minor": 4
}
