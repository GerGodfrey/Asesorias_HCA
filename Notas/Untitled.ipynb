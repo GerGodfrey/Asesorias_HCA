{
 "cells": [
  {
   "cell_type": "code",
   "execution_count": 113,
   "metadata": {},
   "outputs": [],
   "source": [
    "ruta  = \"Datos1.txt\"\n",
    "f = open(ruta)\n",
    "a = f.read()\n"
   ]
  },
  {
   "cell_type": "code",
   "execution_count": 140,
   "metadata": {},
   "outputs": [
    {
     "name": "stdout",
     "output_type": "stream",
     "text": [
      "Python fue creado a finales de los 80 por Guido van Rossum en el\n",
      "Centro para las Matematicas y la Informatica, Centrum Wiskunde and \n",
      "Informatica, en los Paises Bajos, como un sucesor del lenguaje de \n",
      "programacion ABC!!.\n",
      "El nombre del lenguaje proviene de la aficion de su creador por los \n",
      "humoristas britanicos Monthy Python.\n",
      "\n"
     ]
    }
   ],
   "source": [
    "print(a)"
   ]
  },
  {
   "cell_type": "code",
   "execution_count": 143,
   "metadata": {},
   "outputs": [
    {
     "name": "stdout",
     "output_type": "stream",
     "text": [
      "0\n",
      "0\n",
      "0\n"
     ]
    }
   ],
   "source": [
    "def newLine(linea,contador=0):\n",
    "    resultado=linea.splitlines()\n",
    "    \n",
    "    for x in resultado:\n",
    "        for i in x:\n",
    "            if(i==\" \" or i ==\".\"):\n",
    "                contador=contador+1\n",
    "        print(contador)\n",
    "        contador = 0\n",
    "newLine(linea)"
   ]
  },
  {
   "cell_type": "code",
   "execution_count": 144,
   "metadata": {},
   "outputs": [
    {
     "name": "stdout",
     "output_type": "stream",
     "text": [
      "13\n",
      "10\n",
      "11\n",
      "2\n",
      "13\n",
      "4\n"
     ]
    }
   ],
   "source": [
    "newLine(a)"
   ]
  },
  {
   "cell_type": "code",
   "execution_count": null,
   "metadata": {},
   "outputs": [],
   "source": []
  }
 ],
 "metadata": {
  "kernelspec": {
   "display_name": "Python 3",
   "language": "python",
   "name": "python3"
  },
  "language_info": {
   "codemirror_mode": {
    "name": "ipython",
    "version": 3
   },
   "file_extension": ".py",
   "mimetype": "text/x-python",
   "name": "python",
   "nbconvert_exporter": "python",
   "pygments_lexer": "ipython3",
   "version": "3.8.5"
  }
 },
 "nbformat": 4,
 "nbformat_minor": 4
}
