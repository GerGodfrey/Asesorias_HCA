{
 "cells": [
  {
   "cell_type": "code",
   "execution_count": null,
   "metadata": {},
   "outputs": [],
   "source": [
    "# diccionarios\n",
    "# {llave : valor}"
   ]
  },
  {
   "cell_type": "code",
   "execution_count": 2,
   "metadata": {},
   "outputs": [
    {
     "name": "stdout",
     "output_type": "stream",
     "text": [
      "Using matplotlib backend: Qt5Agg\n",
      "Populating the interactive namespace from numpy and matplotlib\n"
     ]
    }
   ],
   "source": [
    "%pylab"
   ]
  },
  {
   "cell_type": "code",
   "execution_count": 8,
   "metadata": {},
   "outputs": [],
   "source": [
    "diccCalif = {'Eco':8, 'Mate':9, 'HCA':10, 'Ideas':7, 'HCA':9}"
   ]
  },
  {
   "cell_type": "code",
   "execution_count": 9,
   "metadata": {},
   "outputs": [
    {
     "name": "stdout",
     "output_type": "stream",
     "text": [
      "{'Eco': 8, 'Mate': 9, 'HCA': 9, 'Ideas': 7}\n",
      "<class 'dict'>\n",
      "4\n"
     ]
    }
   ],
   "source": [
    "print(diccCalif)\n",
    "print( type(diccCalif) )\n",
    "\n",
    "print( len(diccCalif) )"
   ]
  },
  {
   "cell_type": "code",
   "execution_count": 13,
   "metadata": {},
   "outputs": [
    {
     "name": "stdout",
     "output_type": "stream",
     "text": [
      "dict_keys(['Eco', 'Mate', 'HCA', 'Ideas'])\n",
      "<class 'dict_keys'>\n",
      "dict_values([8, 9, 9, 7])\n",
      "<class 'dict_values'>\n"
     ]
    },
    {
     "data": {
      "text/plain": [
       "8.25"
      ]
     },
     "execution_count": 13,
     "metadata": {},
     "output_type": "execute_result"
    }
   ],
   "source": [
    "print( diccCalif.keys() )\n",
    "print( type( diccCalif.keys() ) )\n",
    "\n",
    "print( diccCalif.values() )\n",
    "print( type( diccCalif.values() ) )\n",
    "\n",
    "mean( list( diccCalif.values() ) )"
   ]
  },
  {
   "cell_type": "code",
   "execution_count": null,
   "metadata": {},
   "outputs": [],
   "source": [
    "# funciones"
   ]
  },
  {
   "cell_type": "code",
   "execution_count": 16,
   "metadata": {},
   "outputs": [],
   "source": [
    "def areaCirc(radio):\n",
    "    return math.pi * radio**2\n",
    "\n",
    "def areaRect(base, altura):\n",
    "    return base * altura "
   ]
  },
  {
   "cell_type": "code",
   "execution_count": 17,
   "metadata": {},
   "outputs": [
    {
     "data": {
      "text/plain": [
       "314.1592653589793"
      ]
     },
     "execution_count": 17,
     "metadata": {},
     "output_type": "execute_result"
    }
   ],
   "source": [
    "areaCirc(10)"
   ]
  },
  {
   "cell_type": "code",
   "execution_count": 18,
   "metadata": {},
   "outputs": [
    {
     "data": {
      "text/plain": [
       "50"
      ]
     },
     "execution_count": 18,
     "metadata": {},
     "output_type": "execute_result"
    }
   ],
   "source": [
    "areaRect(10,5)"
   ]
  },
  {
   "cell_type": "code",
   "execution_count": 19,
   "metadata": {},
   "outputs": [
    {
     "data": {
      "text/plain": [
       "[28.274333882308138, 314.1592653589793, 5026.548245743669]"
      ]
     },
     "execution_count": 19,
     "metadata": {},
     "output_type": "execute_result"
    }
   ],
   "source": [
    "lstRadios = [3,10,40]\n",
    "[areaCirc(radio)  for radio in lstRadios]"
   ]
  },
  {
   "cell_type": "code",
   "execution_count": 21,
   "metadata": {},
   "outputs": [
    {
     "data": {
      "text/plain": [
       "tuple"
      ]
     },
     "execution_count": 21,
     "metadata": {},
     "output_type": "execute_result"
    }
   ],
   "source": [
    "miTupla = (10,5)\n",
    "type(miTupla)"
   ]
  },
  {
   "cell_type": "code",
   "execution_count": 24,
   "metadata": {},
   "outputs": [
    {
     "data": {
      "text/plain": [
       "5"
      ]
     },
     "execution_count": 24,
     "metadata": {},
     "output_type": "execute_result"
    }
   ],
   "source": [
    "miTupla[1]"
   ]
  },
  {
   "cell_type": "code",
   "execution_count": 27,
   "metadata": {},
   "outputs": [
    {
     "data": {
      "text/plain": [
       "[50, 6, 40, 30]"
      ]
     },
     "execution_count": 27,
     "metadata": {},
     "output_type": "execute_result"
    }
   ],
   "source": [
    "lstBA= [(5,10), (2,3), (4,10), (5,6)]\n",
    "[areaRect(recTupla[0],recTupla[1])  for recTupla in lstBA]\n",
    "\n",
    "[areaRect(b,a)  for (a,b) in lstBA]"
   ]
  },
  {
   "cell_type": "code",
   "execution_count": 37,
   "metadata": {},
   "outputs": [],
   "source": [
    "# funcion para calcular el monto de descuento\n",
    "# recibe el monto original\n",
    "# devuelve el monto del descuento\n",
    "def descuento(monto):\n",
    "    if monto <= 100:\n",
    "        md = monto * 0.20\n",
    "    else:\n",
    "        md = monto * 0.30\n",
    "    return md"
   ]
  },
  {
   "cell_type": "code",
   "execution_count": 38,
   "metadata": {},
   "outputs": [
    {
     "name": "stdout",
     "output_type": "stream",
     "text": [
      "2.0\n",
      "20.0\n",
      "300.0\n"
     ]
    }
   ],
   "source": [
    "print( descuento(10) )\n",
    "print( descuento(100) )\n",
    "print( descuento(1000) )"
   ]
  },
  {
   "cell_type": "code",
   "execution_count": null,
   "metadata": {},
   "outputs": [],
   "source": [
    "# total cobrado\n",
    "# total en descuentos"
   ]
  },
  {
   "cell_type": "code",
   "execution_count": 42,
   "metadata": {},
   "outputs": [
    {
     "name": "stdout",
     "output_type": "stream",
     "text": [
      "182.0\n",
      "478.0\n"
     ]
    }
   ],
   "source": [
    "lstMontos = [100,200,300, 10, 20, 30]\n",
    "\n",
    "totalDesc = sum( [descuento(monto) for monto in lstMontos])\n",
    "totalMontos = sum(lstMontos)\n",
    "\n",
    "\n",
    "# total en descuentos\n",
    "print(totalDesc)\n",
    "\n",
    "# total cobrado\n",
    "print(totalMontos- totalDesc)"
   ]
  },
  {
   "cell_type": "code",
   "execution_count": 9,
   "metadata": {},
   "outputs": [],
   "source": [
    "miCURP  = 'SOTT641124MDFLLL00'\n",
    "miCURP2 = 'SOTT641124HQRLLL00'"
   ]
  },
  {
   "cell_type": "code",
   "execution_count": 5,
   "metadata": {},
   "outputs": [
    {
     "name": "stdout",
     "output_type": "stream",
     "text": [
      "M\n",
      "DF\n"
     ]
    }
   ],
   "source": [
    "print( miCURP[10] )\n",
    "print( miCURP[11:13] )"
   ]
  },
  {
   "cell_type": "code",
   "execution_count": 5,
   "metadata": {},
   "outputs": [],
   "source": [
    "# funcion que reciba una CURP y \n",
    "# devuelva bool si es mujer\n",
    "\n",
    "def esMujer(curp):\n",
    "    if curp[10] == 'M':\n",
    "        resp = True\n",
    "    else:\n",
    "        resp = False\n",
    "    return resp\n",
    "\n",
    "def esMujer2(curp):\n",
    "    return curp[10] == 'M'"
   ]
  },
  {
   "cell_type": "code",
   "execution_count": 13,
   "metadata": {},
   "outputs": [
    {
     "data": {
      "text/plain": [
       "True"
      ]
     },
     "execution_count": 13,
     "metadata": {},
     "output_type": "execute_result"
    }
   ],
   "source": [
    "esMujer2(miCURP)"
   ]
  },
  {
   "cell_type": "code",
   "execution_count": 10,
   "metadata": {},
   "outputs": [],
   "source": [
    "# función que reciba una CURP\n",
    "# devuelve las iniciales del estado\n",
    "def queEstado(curp):\n",
    "    return curp[11:13]"
   ]
  },
  {
   "cell_type": "code",
   "execution_count": 11,
   "metadata": {},
   "outputs": [
    {
     "name": "stdout",
     "output_type": "stream",
     "text": [
      "DF\n",
      "QR\n"
     ]
    }
   ],
   "source": [
    "print( queEstado(miCURP) )\n",
    "print( queEstado(miCURP2) )"
   ]
  },
  {
   "cell_type": "code",
   "execution_count": 4,
   "metadata": {},
   "outputs": [],
   "source": [
    "# abrir un archivo CSV\n",
    "archivo = open('CURP_A.csv','r')\n",
    "\n",
    "# lee el contenido del archivo y lo guarda en la variable contenido\n",
    "contenido = archivo.read()\n",
    "\n",
    "# cierra el archivo \n",
    "archivo.close()\n",
    "\n",
    "# separa los elementos cada cambio de renglón\n",
    "lstCURP = contenido.split('\\n')"
   ]
  },
  {
   "cell_type": "code",
   "execution_count": 16,
   "metadata": {},
   "outputs": [
    {
     "data": {
      "text/plain": [
       "'KUYU740709HYNXDY2O'"
      ]
     },
     "execution_count": 16,
     "metadata": {},
     "output_type": "execute_result"
    }
   ],
   "source": [
    "lstCURP[2]"
   ]
  },
  {
   "cell_type": "code",
   "execution_count": 10,
   "metadata": {},
   "outputs": [
    {
     "data": {
      "text/plain": [
       "83"
      ]
     },
     "execution_count": 10,
     "metadata": {},
     "output_type": "execute_result"
    }
   ],
   "source": [
    "lstGenero = [esMujer(c) for c in lstCURP]\n",
    "lstGenero.count(True)"
   ]
  },
  {
   "cell_type": "code",
   "execution_count": 19,
   "metadata": {},
   "outputs": [],
   "source": [
    "lstEdos = [queEstado(curp) for curp in lstCURP]"
   ]
  },
  {
   "cell_type": "code",
   "execution_count": 20,
   "metadata": {},
   "outputs": [
    {
     "data": {
      "text/plain": [
       "4"
      ]
     },
     "execution_count": 20,
     "metadata": {},
     "output_type": "execute_result"
    }
   ],
   "source": [
    "lstEdos.count('DF')"
   ]
  },
  {
   "cell_type": "code",
   "execution_count": 21,
   "metadata": {},
   "outputs": [
    {
     "data": {
      "text/plain": [
       "3"
      ]
     },
     "execution_count": 21,
     "metadata": {},
     "output_type": "execute_result"
    }
   ],
   "source": [
    "lstEdos.count('QR')"
   ]
  },
  {
   "cell_type": "code",
   "execution_count": 11,
   "metadata": {},
   "outputs": [],
   "source": [
    "# una funcion que calcule que % son hombre y cual mujeres\n",
    "#      recibe una lista con CURPs\n",
    "#      revuelve una tupla donde 1 valor es % H y el segune % M\n",
    "\n",
    "def porcGeneroTupla(listaCURP):\n",
    "    # listaCURP es una variable local\n",
    "    lstGenero = [esMujer(c) for c in listaCURP]\n",
    "    # usando la función esMujer se obtiene una lista \n",
    "    #     donde True es mujer y  False es hombre\n",
    "    \n",
    "    cantM = lstGenero.count(True)\n",
    "    cantH = lstGenero.count(False)\n",
    "    total = len(lstGenero)\n",
    "    return (cantM/total,  cantH/total)"
   ]
  },
  {
   "cell_type": "code",
   "execution_count": 12,
   "metadata": {},
   "outputs": [
    {
     "data": {
      "text/plain": [
       "(0.42346938775510207, 0.576530612244898)"
      ]
     },
     "execution_count": 12,
     "metadata": {},
     "output_type": "execute_result"
    }
   ],
   "source": [
    "porcGeneroTupla(lstCURP)"
   ]
  },
  {
   "cell_type": "code",
   "execution_count": 13,
   "metadata": {},
   "outputs": [],
   "source": [
    "# función que reciba una CURP\n",
    "# devuelve las iniciales del estado\n",
    "def queEstado(curp):\n",
    "    return curp[11:13]\n",
    "\n",
    "# una funcion cuenta la cantidad de personas que petenecen al estado\n",
    "#    recibe una lista con los CURP y el estado (str)\n",
    "#    devuelve el % de personas de las lista que nacieron en el estado indicado\n",
    "def porcEstado(listaCURP, estado):\n",
    "    lstEstado = [queEstado(curp) for curp in listaCURP]\n",
    "    return lstEstado.count(estado) / len(lstEstado)\n"
   ]
  },
  {
   "cell_type": "code",
   "execution_count": 16,
   "metadata": {},
   "outputs": [
    {
     "name": "stdout",
     "output_type": "stream",
     "text": [
      "0.030612244897959183\n",
      "0.015306122448979591\n",
      "0.02040816326530612\n"
     ]
    }
   ],
   "source": [
    "print( porcEstado(lstCURP, 'PL') )\n",
    "print( porcEstado(lstCURP, 'NL') )\n",
    "print( porcEstado(lstCURP, 'DF') )"
   ]
  },
  {
   "cell_type": "code",
   "execution_count": 17,
   "metadata": {},
   "outputs": [],
   "source": [
    "# una funcion que calcule que % son hombre y cual mujeres\n",
    "#      recibe una lista con CURPs\n",
    "#      revuelve un diccionario  % H  % M\n",
    "\n",
    "def porcGeneroDicc(listaCURP):\n",
    "    # listaCURP es una variable local\n",
    "    lstGenero = [esMujer(c) for c in listaCURP]\n",
    "    # usando la función esMujer se obtiene una lista \n",
    "    #     donde True es mujer y  False es hombre\n",
    "    \n",
    "    total = len(lstGenero)\n",
    "    porcM = lstGenero.count(True) / total\n",
    "    porcH = lstGenero.count(False) / total\n",
    "    \n",
    "    return {'M': porcM, 'H':porcH}"
   ]
  },
  {
   "cell_type": "code",
   "execution_count": 19,
   "metadata": {},
   "outputs": [
    {
     "data": {
      "text/plain": [
       "{'M': 0.42346938775510207, 'H': 0.576530612244898}"
      ]
     },
     "execution_count": 19,
     "metadata": {},
     "output_type": "execute_result"
    }
   ],
   "source": [
    "porcGeneroDicc(lstCURP)"
   ]
  },
  {
   "cell_type": "code",
   "execution_count": null,
   "metadata": {},
   "outputs": [],
   "source": []
  },
  {
   "cell_type": "code",
   "execution_count": null,
   "metadata": {},
   "outputs": [],
   "source": []
  },
  {
   "cell_type": "code",
   "execution_count": null,
   "metadata": {},
   "outputs": [],
   "source": []
  },
  {
   "cell_type": "code",
   "execution_count": null,
   "metadata": {},
   "outputs": [],
   "source": []
  }
 ],
 "metadata": {
  "kernelspec": {
   "display_name": "Python 3",
   "language": "python",
   "name": "python3"
  },
  "language_info": {
   "codemirror_mode": {
    "name": "ipython",
    "version": 3
   },
   "file_extension": ".py",
   "mimetype": "text/x-python",
   "name": "python",
   "nbconvert_exporter": "python",
   "pygments_lexer": "ipython3",
   "version": "3.7.1"
  }
 },
 "nbformat": 4,
 "nbformat_minor": 2
}
