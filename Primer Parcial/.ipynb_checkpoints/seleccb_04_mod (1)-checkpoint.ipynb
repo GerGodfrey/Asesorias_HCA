{
 "cells": [
  {
   "cell_type": "markdown",
   "metadata": {},
   "source": [
    "# selección de ejercicios B"
   ]
  },
  {
   "cell_type": "markdown",
   "metadata": {},
   "source": [
    "### ejercicio 1\n",
    "Para las secuencias numéricas sugeridas a continuación, genere listas de **40 valores** y asígne un nombre o identificador a cada una.  Los valores deben mostrarse en notación entera o decimal, según sea el caso.\n",
    "#### a) 2,4,6,8,...,78,80\n",
    "#### b) 3,5,7,9,11,13,...\n",
    "#### c) 0.25, 0.5, 0.75, 1.0, 1.25, 1.5,...\n",
    "#### d) 1, 4, 9, 16, 25, 36,...\n",
    "#### e) 1, 2, 4, 8, 16, 32,...\n",
    "#### f)  1, -2, 4, -8, 16, -32,...\n",
    "#### g) 0.25, 1.25, 6.25, 31.25, 156.25, 781.25,..."
   ]
  },
  {
   "cell_type": "code",
   "execution_count": 17,
   "metadata": {},
   "outputs": [
    {
     "name": "stdout",
     "output_type": "stream",
     "text": [
      "[0, 1, 2, 3, 4, 5, 6, 7, 8, 9, 10]\n"
     ]
    }
   ],
   "source": [
    "# previa [0,10]\n",
    "lista0 = list(range(0,11))\n",
    "print( lista0 )"
   ]
  },
  {
   "cell_type": "code",
   "execution_count": 18,
   "metadata": {},
   "outputs": [
    {
     "name": "stdout",
     "output_type": "stream",
     "text": [
      "[2, 4, 6, 8, 10, 12, 14, 16, 18, 20, 22, 24, 26, 28, 30, 32, 34, 36, 38, 40, 42, 44, 46, 48, 50, 52, 54, 56, 58, 60, 62, 64, 66, 68, 70, 72, 74, 76, 78, 80]\n",
      "-------------------------------------\n",
      "[3, 5, 7, 9, 11, 13, 15, 17, 19, 21, 23, 25, 27, 29, 31, 33, 35, 37, 39, 41, 43, 45, 47, 49, 51, 53, 55, 57, 59, 61, 63, 65, 67, 69, 71, 73, 75, 77, 79, 81]\n",
      "-------------------------------------\n",
      "[0.0, 0.25, 0.5, 0.75, 1.0, 1.25, 1.5, 1.75, 2.0, 2.25, 2.5, 2.75, 3.0, 3.25, 3.5, 3.75, 4.0, 4.25, 4.5, 4.75, 5.0, 5.25, 5.5, 5.75, 6.0, 6.25, 6.5, 6.75, 7.0, 7.25, 7.5, 7.75, 8.0, 8.25, 8.5, 8.75, 9.0, 9.25, 9.5, 9.75]\n",
      "-------------------------------------\n",
      "[1, 4, 9, 16, 25, 36, 49, 64, 81, 100, 121, 144, 169, 196, 225, 256, 289, 324, 361, 400, 441, 484, 529, 576, 625, 676, 729, 784, 841, 900, 961, 1024, 1089, 1156, 1225, 1296, 1369, 1444, 1521]\n",
      "-------------------------------------\n",
      "[1, 2, 4, 8, 16, 32, 64, 128, 256, 512, 1024, 2048, 4096, 8192, 16384, 32768, 65536, 131072, 262144, 524288, 1048576, 2097152, 4194304, 8388608, 16777216, 33554432, 67108864, 134217728, 268435456, 536870912, 1073741824, 2147483648, 4294967296, 8589934592, 17179869184, 34359738368, 68719476736, 137438953472, 274877906944, 549755813888]\n",
      "-------------------------------------\n",
      "[1, -2, 4, -8, 16, -32, 64, -128, 256, -512, 1024, -2048, 4096, -8192, 16384, -32768, 65536, -131072, 262144, -524288, 1048576, -2097152, 4194304, -8388608, 16777216, -33554432, 67108864, -134217728, 268435456, -536870912, 1073741824, -2147483648, 4294967296, -8589934592, 17179869184, -34359738368, 68719476736, -137438953472, 274877906944, -549755813888]\n",
      "-------------------------------------\n",
      "[0.25, 1.25, 6.25, 31.25, 156.25, 781.25, 3906.25, 19531.25, 97656.25, 488281.25, 2441406.25]\n",
      "-------------------------------------\n"
     ]
    }
   ],
   "source": [
    "listaA  = list(range(2,82,2))\n",
    "print( listaA )\n",
    "print (\"-------------------------------------\")\n",
    "listaB  = list(range(3,83,2))\n",
    "print( listaB )\n",
    "print (\"-------------------------------------\")\n",
    "listaC = [x * .25 for x in list ( range(0,40)) ]\n",
    "print(listaC)\n",
    "print (\"-------------------------------------\")\n",
    "y= 3\n",
    "listaD  = [valor**2   for valor  in list(range(1,40,1)) ]\n",
    "print (listaD)\n",
    "print (\"-------------------------------------\")\n",
    "#EXPONENTE\n",
    "listaE  = [2**x   for x  in list(range(0,40)) ]\n",
    "print( listaE )\n",
    "print (\"-------------------------------------\")\n",
    "listaF = [ (2**x) * ((-1)**x)  for x  in list(range(0,40)) ]\n",
    "print (listaF)\n",
    "print (\"-------------------------------------\")\n",
    "listaG  = [(5**x)/4   for x  in list(range(0,11,1)) ]\n",
    "print(listaG)\n",
    "print (\"-------------------------------------\")"
   ]
  },
  {
   "cell_type": "code",
   "execution_count": 40,
   "metadata": {},
   "outputs": [
    {
     "data": {
      "text/plain": [
       "40"
      ]
     },
     "execution_count": 40,
     "metadata": {},
     "output_type": "execute_result"
    }
   ],
   "source": [
    "# cantidad de elementos que contiene la lista\n",
    "len(listaE)"
   ]
  },
  {
   "cell_type": "code",
   "execution_count": 89,
   "metadata": {},
   "outputs": [
    {
     "name": "stdout",
     "output_type": "stream",
     "text": [
      "[1, -2, 4, -8, 16, -32, 64, -128, 256, -512, 1024, -2048, 4096, -8192, 16384, -32768, 65536, -131072, 262144, -524288, 1048576, -2097152, 4194304, -8388608, 16777216, -33554432, 67108864, -134217728, 268435456, -536870912, 1073741824, -2147483648L, 4294967296L, -8589934592L, 17179869184L, -34359738368L, 68719476736L, -137438953472L, 274877906944L, -549755813888L]\n"
     ]
    }
   ],
   "source": [
    "print (listaF)"
   ]
  },
  {
   "cell_type": "markdown",
   "metadata": {},
   "source": [
    "### ejercicio 2\n",
    "Calcula el promedio aritmético de la siguiente lista de *n* números, a partir de la suma de los valores y la división entre la cantidad de ellos:\n",
    "12.5, 14.3, 56.7, 28.1, 18.0, 25.6, 33.0, 11.0, 2.5, 39.7, 3.0, 28.1, 14.2, 11.3  \n",
    "$$\\frac{1}{n}\\sum_{i=1}^{n} valor_i$$"
   ]
  },
  {
   "cell_type": "code",
   "execution_count": 8,
   "metadata": {
    "collapsed": true
   },
   "outputs": [],
   "source": [
    "datos_2= [12.5, 14.3, 56.7, 28.1, 18.0, 25.6, 33.0, 11.0, 2.5, 39.7, 3.0, 28.1, 14.2, 11.3]\n",
    "\n"
   ]
  },
  {
   "cell_type": "code",
   "execution_count": 11,
   "metadata": {},
   "outputs": [
    {
     "name": "stdout",
     "output_type": "stream",
     "text": [
      "298.0\n",
      "14\n",
      "21.285714285714285\n"
     ]
    }
   ],
   "source": [
    "# hace la suma de los elementos de la lista\n",
    "print( sum(datos_2) )\n",
    "\n",
    "# cuenta la cantidad de elementos de la lista\n",
    "print( len(datos_2) ) \n",
    "\n",
    "print (sum(datos_2) / len(datos_2) )"
   ]
  },
  {
   "cell_type": "code",
   "execution_count": 13,
   "metadata": {},
   "outputs": [
    {
     "name": "stdout",
     "output_type": "stream",
     "text": [
      "Using matplotlib backend: Qt5Agg\n",
      "Populating the interactive namespace from numpy and matplotlib\n"
     ]
    },
    {
     "data": {
      "text/plain": [
       "21.285714285714285"
      ]
     },
     "execution_count": 13,
     "metadata": {},
     "output_type": "execute_result"
    }
   ],
   "source": [
    "# carga la libreria para hacerlo más rápido\n",
    "%pylab\n",
    "mean(datos_2)"
   ]
  },
  {
   "cell_type": "markdown",
   "metadata": {},
   "source": [
    "### ejercicio 3\n",
    "Los precios en pesos mexicanos del tipo de cambio del dólar americano (USD) para solventar obligaciones y publicados del 4 de enero de 2016 al 17 de enero de 2018 en los días hábiles bancarios se listan en la siguiente celda:  \n",
    "(El tipo de cambio FIX se determina a las 12:00 del día por el Banco de México y publicado en el Diario Oficial de la Federación el día hábil bancario inmediato siguiente al de su determinación:   http://www.banxico.org.mx/dyn/portal-mercado-cambiario/index.html)\n",
    "  \n",
    "a) A partir de los *n* valores listados, calcule el valor promedio del tipo de cambio (calculando la suma y dividiendo entre la cantidad de valores) y llámelo *media*:  \n",
    "$$media=\\frac{1}{n}\\sum_{i=1}^{n} tc_i$$\n",
    "b) Para conocer la dispersión de los valores, calcule la desviación estándar:\n",
    "* i) Primero, calculando la lista de los cuadrados de las diferencias del valor del tipo de cambio y su *media*;  \n",
    "\n",
    "* ii) Segundo, calculando la raíz cuadrada del promedio de los cuadrados calculados en i): \n",
    "\n",
    "$$\\sqrt{\\frac{1}{n}\\sum_{i=1}^{n} (tc_i-media)^{2}}$$"
   ]
  },
  {
   "cell_type": "code",
   "execution_count": 92,
   "metadata": {},
   "outputs": [
    {
     "name": "stdout",
     "output_type": "stream",
     "text": [
      "[17.2487, 17.3529, 17.3456, 17.4411, 17.6568, 17.9283, 17.9304, 17.9119, 17.85, 17.9121, 18.2108, 18.2327, 18.1947, 18.608, 18.5084, 18.428, 18.5352, 18.4715, 18.453, 18.2906, 18.1935, 18.4902, 18.4537, 18.1891, 18.3748, 18.6959, 18.7818, 18.8089, 19.1754, 19.0392, 18.8471, 18.8148, 18.3895, 18.1439, 18.2762, 18.0568, 18.1948, 18.2893, 18.168, 18.1706, 18.102, 17.9432, 17.8561, 17.8971, 17.7723, 17.7526, 17.9044, 17.7523, 17.8601, 17.7002, 17.7691, 17.926, 17.9308, 17.4034, 17.2995, 17.3361, 17.5273, 17.461, 17.4015, 17.2509, 17.237, 17.3338, 17.4484, 17.7252, 17.7286, 17.893, 17.7391, 17.6452, 17.5719, 17.49, 17.388, 17.5669, 17.4598, 17.2825, 17.3078, 17.4202, 17.4359, 17.5866, 17.4298, 17.3993, 17.2125, 17.1767, 17.2279, 17.5234, 17.7358, 17.7866, 17.9204, 18.1033, 18.0205, 17.9549, 17.9915, 18.1562, 18.1795, 18.3217, 18.3761, 18.5465, 18.3826, 18.4444, 18.4694, 18.452, 18.4572, 18.4527, 18.4777, 18.4118, 18.5299, 18.6097, 18.6283, 18.5889, 18.5067, 18.1491, 18.2742, 18.5046, 18.7915, 18.9814, 18.8672, 18.9968, 18.8527, 18.6559, 18.6444, 18.5325, 18.3207, 18.8716, 19.1283, 18.9113, 18.555, 18.4646, 18.309, 18.3858, 18.7536, 18.8161, 18.8607, 18.5991, 18.4597, 18.3006, 18.3937, 18.3061, 18.492, 18.4879, 18.5719, 18.5729, 18.6022, 18.6089, 18.7569, 18.8114, 18.8602, 18.8979, 18.7837, 18.8504, 18.8966, 18.9117, 18.8612, 18.8691, 18.5716, 18.3842, 18.3479, 18.2678, 18.2455, 18.0363, 17.9869, 18.2598, 18.0832, 18.2674, 18.3023, 18.3202, 18.4971, 18.446, 18.283, 18.5773, 18.7953, 18.8611, 18.8523, 18.6589, 18.5581, 18.3524, 18.3689, 18.5427, 18.8451, 19.0646, 19.152, 19.2275, 19.2514, 19.6097, 19.777, 19.8394, 19.5965, 19.7211, 19.8322, 19.5044, 19.5002, 19.4086, 19.3776, 19.3211, 19.2138, 19.2554, 19.2433, 19.2994, 18.8786, 18.9531, 18.9622, 19.0399, 19.0046, 18.8723, 18.6726, 18.5894, 18.5945, 18.6481, 18.5658, 18.5147, 18.6485, 18.8443, 18.7304, 18.8887, 19.1306, 19.2014, 19.0792, 18.6192, 18.5089, 19.925, 20.4812, 21.0511, 20.8729, 20.349, 20.2884, 20.1898, 20.4193, 20.5205, 20.6901, 20.7051, 20.6475, 20.5521, 20.6225, 20.5155, 20.7488, 20.6149, 20.5927, 20.3863, 20.2967, 20.4162, 20.3305, 20.2567, 20.2226, 20.5973, 20.428, 20.4098, 20.43, 20.4921, 20.7179, 20.6271, 20.6445, 20.7052, 20.7314, 20.664, 20.6194, 20.7323, 20.852, 21.3799, 21.3661, 21.3144, 21.3219, 21.6168, 21.9076, 21.7204]\n"
     ]
    }
   ],
   "source": [
    "tipoUSD=[17.2487,17.3529,17.3456,17.4411,17.6568,17.9283,17.9304,17.9119,17.85,17.9121,18.2108,18.2327,18.1947,18.608,18.5084,18.428,18.5352,18.4715,18.453,18.2906,18.1935,18.4902,18.4537,18.1891,18.3748,18.6959,18.7818,18.8089,19.1754,19.0392,18.8471,18.8148,18.3895,18.1439,18.2762,18.0568,18.1948,18.2893,18.168,18.1706,18.102,17.9432,17.8561,17.8971,17.7723,17.7526,17.9044,17.7523,17.8601,17.7002,17.7691,17.926,17.9308,17.4034,17.2995,17.3361,17.5273,17.461,17.4015,17.2509,17.237,17.3338,17.4484,17.7252,17.7286,17.893,17.7391,17.6452,17.5719,17.49,17.388,17.5669,17.4598,17.2825,17.3078,17.4202,17.4359,17.5866,17.4298,17.3993,17.2125,17.1767,17.2279,17.5234,17.7358,17.7866,17.9204,18.1033,18.0205,17.9549,17.9915,18.1562,18.1795,18.3217,18.3761,18.5465,18.3826,18.4444,18.4694,18.452,18.4572,18.4527,18.4777,18.4118,18.5299,18.6097,18.6283,18.5889,18.5067,18.1491,18.2742,18.5046,18.7915,18.9814,18.8672,18.9968,18.8527,18.6559,18.6444,18.5325,18.3207,18.8716,19.1283,18.9113,18.555,18.4646,18.309,18.3858,18.7536,18.8161,18.8607,18.5991,18.4597,18.3006,18.3937,18.3061,18.492,18.4879,18.5719,18.5729,18.6022,18.6089,18.7569,18.8114,18.8602,18.8979,18.7837,18.8504,18.8966,18.9117,18.8612,18.8691,18.5716,18.3842,18.3479,18.2678,18.2455,18.0363,17.9869,18.2598,18.0832,18.2674,18.3023,18.3202,18.4971,18.446,18.283,18.5773,18.7953,18.8611,18.8523,18.6589,18.5581,18.3524,18.3689,18.5427,18.8451,19.0646,19.152,19.2275,19.2514,19.6097,19.777,19.8394,19.5965,19.7211,19.8322,19.5044,19.5002,19.4086,19.3776,19.3211,19.2138,19.2554,19.2433,19.2994,18.8786,18.9531,18.9622,19.0399,19.0046,18.8723,18.6726,18.5894,18.5945,18.6481,18.5658,18.5147,18.6485,18.8443,18.7304,18.8887,19.1306,19.2014,19.0792,18.6192,18.5089,19.925,20.4812,21.0511,20.8729,20.349,20.2884,20.1898,20.4193,20.5205,20.6901,20.7051,20.6475,20.5521,20.6225,20.5155,20.7488,20.6149,20.5927,20.3863,20.2967,20.4162,20.3305,20.2567,20.2226,20.5973,20.428,20.4098,20.43,20.4921,20.7179,20.6271,20.6445,20.7052,20.7314,20.664,20.6194,20.7323,20.852,21.3799,21.3661,21.3144,21.3219,21.6168,21.9076,21.7204]\n",
    "print(tipoUSD)"
   ]
  },
  {
   "cell_type": "code",
   "execution_count": 94,
   "metadata": {},
   "outputs": [
    {
     "name": "stdout",
     "output_type": "stream",
     "text": [
      "Using matplotlib backend: Qt4Agg\n",
      "Populating the interactive namespace from numpy and matplotlib\n",
      "18.774778626\n"
     ]
    }
   ],
   "source": [
    "%pylab\n",
    "media = mean(tipoUSD)\n",
    "print( media )"
   ]
  },
  {
   "cell_type": "code",
   "execution_count": 101,
   "metadata": {},
   "outputs": [
    {
     "name": "stdout",
     "output_type": "stream",
     "text": [
      "18.774778626\n",
      "1.03860610943\n"
     ]
    }
   ],
   "source": [
    "# en varios pasos\n",
    "\n",
    "suma = sum(tipoUSD)\n",
    "n = len(tipoUSD)\n",
    "media = suma / n\n",
    "\n",
    "print( media )\n",
    "\n",
    "#1\n",
    "terminos = [(tc-media)**2 for tc in tipoUSD]\n",
    "#2\n",
    "varianzaPasos = sqrt( sum(terminos) / n )\n",
    "print( varianzaPasos )"
   ]
  },
  {
   "cell_type": "code",
   "execution_count": 5,
   "metadata": {},
   "outputs": [
    {
     "name": "stdout",
     "output_type": "stream",
     "text": [
      "1.0386061094252799\n"
     ]
    }
   ],
   "source": [
    "varianzaUnPaso = sqrt( sum([(tc-media)**2for tc in tipoUSD]) / len(tipoUSD) )\n",
    "print( varianzaUnPaso )"
   ]
  },
  {
   "cell_type": "markdown",
   "metadata": {},
   "source": [
    "### ejercicio 4\n",
    "Se dice que en el siglo VI a.c., el inventor del juego de ajedrez ofreció a su monarca este juego y como recompensa le pidió los granos de trigo que resultaran de la siguiente prescripción: un grano por la primera casilla del tablero, dos granos por la segunda casilla, cuatro granos por la tercera casilla, ocho granos por la cuarta, dieciséis granos por la quinta, y así sucesivamente hasta terminar con la casilla número 64 (el tablero del juego de ajedrez tiene 64 casillas). Observando que el número de granos pedidos por una casilla, a partir de la segunda, es igual al doble de los granos pedidos por la casilla anterior. El monarca, un poco molesto por lo que le pareció una cantidad insignificante de granos que el inventor solicitaba, pidió a sus calculistas determinaran la cantidad total de granos de trigo, se trajera ésta de los graneros del reino y de inmediato se le entregara al inventor.  \n",
    "\n",
    "a) Calcule la cantidad total de granos de trigo que el inventor del ajedrez de la historia\n",
    "solicitó a su monarca. (Después de algunas semanas los calculistas reconocieron que lo que\n",
    "pedía el inventor rebasaba los recursos del reino.) \n",
    "\n",
    "b) Si la producción mundial anual en granos de trigo es:  \n",
    "$$2.377 \\cdot 10^{16}$$\n",
    "determine cuántos años de producción mundial son nevesario para obteher la cantidad obtenida\n",
    "en a).  "
   ]
  },
  {
   "cell_type": "code",
   "execution_count": 106,
   "metadata": {},
   "outputs": [
    {
     "name": "stdout",
     "output_type": "stream",
     "text": [
      "1.84467440737e+19\n"
     ]
    }
   ],
   "source": [
    "lista = [2**x for x in list (range(0,64))]\n",
    "total_granos = sum(lista)\n",
    "print (total_granos)"
   ]
  },
  {
   "cell_type": "code",
   "execution_count": 113,
   "metadata": {},
   "outputs": [
    {
     "name": "stdout",
     "output_type": "stream",
     "text": [
      "Los años totales son 776.05149658\n"
     ]
    }
   ],
   "source": [
    "p_t = 2.377 * 10 **16\n",
    "a_t = total_granos / p_t\n",
    "print ('Los años totales son {}' .format(a_t))"
   ]
  },
  {
   "cell_type": "markdown",
   "metadata": {},
   "source": [
    "### ejercicio 5\n",
    "Un bebé midió al nacer 42 centímetros. Durante los siguientes años de vida la estatura aumentó de la siguiente manera:  \n",
    "* en el primer año, la estatura se incrementó 24 %;\n",
    "* en el segundo año, la estatura se incrementó 20 %;\n",
    "* en el tercer año, la estatura se incrementó 14 %;\n",
    "* en el cuarto año, la estatura se incrementó 13 %;\n",
    "* en el quinto año, la estatura se incrementó 10 %;\n",
    "* en el sexto año, la estatura se incrementó 9 %, y\n",
    "* en el séptimo año, se dio un estirón, pues la estatura se incrementó 12 %.  \n",
    "\n",
    "¿Cuánto mide el nene después de siete años de vida?\n",
    "\n"
   ]
  },
  {
   "cell_type": "code",
   "execution_count": 115,
   "metadata": {},
   "outputs": [
    {
     "name": "stdout",
     "output_type": "stream",
     "text": [
      "Using matplotlib backend: Qt4Agg\n",
      "Populating the interactive namespace from numpy and matplotlib\n"
     ]
    },
    {
     "data": {
      "text/plain": [
       "1.0811170640793599"
      ]
     },
     "execution_count": 115,
     "metadata": {},
     "output_type": "execute_result"
    }
   ],
   "source": [
    "%pylab\n",
    "tasaCrec = [0.42, 1.24, 1.20, 1.14, 1.13, 1.10, 1.09, 1.12]\n",
    "\n",
    "prod(tasaCrec)\n"
   ]
  },
  {
   "cell_type": "code",
   "execution_count": 23,
   "metadata": {},
   "outputs": [
    {
     "data": {
      "text/plain": [
       "-257408.82478080006"
      ]
     },
     "execution_count": 23,
     "metadata": {},
     "output_type": "execute_result"
    }
   ],
   "source": [
    "prod( [100000, 1.24, -1.20, -1.14, 1.13, 1.10, 1.09, -1.12]  )"
   ]
  },
  {
   "cell_type": "code",
   "execution_count": 128,
   "metadata": {},
   "outputs": [
    {
     "name": "stdout",
     "output_type": "stream",
     "text": [
      "1.08111706408\n"
     ]
    }
   ],
   "source": [
    "estatura = .42\n",
    "t_C = [.24,.20,.14,.13,.10,.09,.12]\n",
    "\n",
    "for x in t_C :\n",
    "    estatura = (estatura * x) + estatura\n",
    "    \n",
    "\n",
    "\n",
    "print (estatura)"
   ]
  },
  {
   "cell_type": "markdown",
   "metadata": {},
   "source": [
    "### ejercicio 6\n",
    "A fines del año pasado Jaime decidió depositar \\$10,000.00 (diez mil pesos)en el banco ABC S.A. a un plazo de dos años. El plan de ahorro comenzó el 1° de enero de 2016 y se fijaron las siguientes condiciones:  \n",
    "A partir del 1° de enero de 2016, la lista de las tasas mensuales de interés aplicables a cada uno de los meses de los años 2016-2017, de enero 2016 a diciembre de 2017, es la siguiente:  \n",
    "(de acuerdo con el orden de los meses)\n",
    "#### [0.001, 0.003,0.005, 0.007,0.009,0.011,0.013,0.015,0.017,0.019,0.021,0.023,0.025, 0.027, 0.029, 0.031, 0.033, 0.035, 0.037, 0.039, 0.041, 0.043, 0.045, 0.047]  \n",
    "  \n",
    "El plan, para la conveniencia de Jaime, estipula que al final de cada mes \n",
    "los intereses ganados se abonarán al capital (capitalización mensual):  \n",
    "#### (capital al final del mes) = (capital al inicio del mes) + (intereses ganados en el mes y calculados sobre el capital al inicio del mes)\n",
    "  \n",
    "Es decir, si se considera sólo los tres primeros meses de 2016, al final cada uno de éstos,  \n",
    "Jaime contará con una cantidad que se incrementaría de la siguiente manera:  \n",
    "  \n",
    "* #### al final de enero: \\$10,000.00 + \\$10,000.00\\*0.1% = \\$10,010.00 (diez mil diez pesos);  \n",
    "* #### al final de febrero: \\$10,010.00 + \\$10,010.00\\*0.3% = \\$10,040.03 (diez mil cuarenta pesos con tres centavos, 3/100)  \n",
    "* #### al final de marzo: \\$10,040.03 + \\$10,040.03\\*0.5% = \\$10,090.23 (diez mil noventa pesos con ventitrés centavos, 23/100)  \n",
    "* #### etc.\n",
    "\n",
    "debiéndose considerar la tasa mensual aplicable a cada uno de los meses siguientes y calculando de manera análoga los intereses y el nuevo capital mes tras mes.\n",
    "\n",
    "- a) Defina una lista con las tasas mensuales aplicables a cada uno de los meses de 2016 y 2017.\n",
    "- b) A partir de la lista definida en a), calcule la cantidad final que tendrá Jaime al terminar el año 2017,  después de 24 meses de tener depositado el dinero en el banco ABC S.A."
   ]
  },
  {
   "cell_type": "code",
   "execution_count": null,
   "metadata": {
    "collapsed": true
   },
   "outputs": [],
   "source": []
  },
  {
   "cell_type": "code",
   "execution_count": null,
   "metadata": {
    "collapsed": true
   },
   "outputs": [],
   "source": []
  },
  {
   "cell_type": "code",
   "execution_count": null,
   "metadata": {
    "collapsed": true
   },
   "outputs": [],
   "source": []
  },
  {
   "cell_type": "markdown",
   "metadata": {},
   "source": [
    "### ejercicio 7\n",
    "Las cantidades dadas en la celda de abajo indican la tasa de inflación mensual^, es decir, una medida de la *tasa de cambio mensual* de los precios para el periodo de diciembre de 2005 a junio e 2018; nótese que las cantidades están ordenadas según los meses sucesivos de este periodo indicado.\n",
    "\n",
    "Por ejemplo, el porcentaje de incremento del precio del terreno durante el mes de diciembre de 2005 fue 0.59 %, lo cual significa un incremento de valor en este mes de 0.0059; es decir, durante ese mes el terreno cambió su valor en un factor de 1.0059.\n",
    "\n",
    " Define una tupla con las tasas dadas:\n",
    " \n",
    "- ¿Cuales son los valores máximo y mínimo de las tasas?\n",
    "\n",
    "- Define una lista con las tasa ordenadas de manera descendente.\n",
    "\n",
    "- Si el terreno estaba valuado en $60,000 (sesenta mil pesos M.N.) al final de noviembre de 2005, incrementándose, o disminuyéndose, el valor en cada uno de los meses siguientes durante varios años, según la tasa de cambio y hasta junio de 2018  ¿Qué valor tenía el terreno al final de junio de 2018 después de varios años?\n",
    "\n",
    "^Fuente: Consulta de los Índices de Precios al Consumidor de Banxico, http://www.banxico.org.mx/"
   ]
  },
  {
   "cell_type": "code",
   "execution_count": 136,
   "metadata": {},
   "outputs": [
    {
     "name": "stdout",
     "output_type": "stream",
     "text": [
      "(0.59, 0.15, 0.13, 0.15, -0.45, 0.09, 0.27, 0.51, 1.01, 0.44, 0.52, 0.58, 0.52, 0.28, 0.22, -0.06, -0.49, 0.12, 0.42, 0.41, 0.78, 0.39, 0.71, 0.41, 0.46, 0.3, 0.72, 0.23, -0.11, 0.41, 0.56, 0.58, 0.68, 0.68, 1.14, 0.69, 0.23, 0.22, 0.58, 0.35, -0.29, 0.18, 0.27, 0.24, 0.5, 0.3, 0.52, 0.41, 1.09, 0.58, 0.71, -0.32, -0.63, -0.03, 0.22, 0.28, 0.52, 0.62, 0.8, 0.5, 0.49, 0.38, 0.19, -0.01, -0.74, 0, 0.48, 0.16, 0.25, 0.67, 1.08, 0.82, 0.71, 0.2, 0.06, -0.31, -0.32, 0.46, 0.56, 0.3, 0.44, 0.51, 0.68, 0.23, 0.4, 0.49, 0.73, 0.07, -0.33, -0.06, -0.03, 0.28, 0.38, 0.48, 0.93, 0.57, 0.89, 0.25, 0.27, -0.19, -0.32, 0.17, 0.28, 0.36, 0.44, 0.55, 0.81, 0.49, -0.09, 0.19, 0.41, -0.26, -0.5, 0.17, 0.15, 0.21, 0.37, 0.51, 0.55, 0.41, 0.38, 0.44, 0.15, -0.32, -0.45, 0.11, 0.26, 0.28, 0.61, 0.61, 0.78, 0.46, 1.7, 0.58, 0.61, 0.12, -0.12, 0.25, 0.38, 0.49, 0.31, 0.63, 1.03, 0.59, 0.53, 0.38, 0.32, -0.34, -0.16, 0.39, 0.54)\n"
     ]
    }
   ],
   "source": [
    "tasas=(0.59,0.15,0.13,0.15,-0.45,0.09,0.27,0.51,1.01,0.44,0.52,0.58,0.52,0.28,0.22,-0.06,-0.49,0.12,0.42,0.41,0.78,0.39,0.71,0.41,0.46,0.3,0.72,0.23,-0.11,0.41,0.56,0.58,0.68,0.68,1.14,0.69,0.23,0.22,0.58,0.35,-0.29,0.18,0.27,0.24,0.5,0.3,0.52,0.41,1.09,0.58,0.71,-0.32,-0.63,-0.03,0.22,0.28,0.52,0.62,0.8,0.5,0.49,0.38,0.19,-0.01,-0.74,0,0.48,0.16,0.25,0.67,1.08,0.82,0.71,0.2,0.06,-0.31,-0.32,0.46,0.56,0.3,0.44,0.51,0.68,0.23,0.4,0.49,0.73,0.07,-0.33,-0.06,-0.03,0.28,0.38,0.48,0.93,0.57,0.89,0.25,0.27,-0.19,-0.32,0.17,0.28,0.36,0.44,0.55,0.81,0.49,-0.09,0.19,0.41,-0.26,-0.5,0.17,0.15,0.21,0.37,0.51,0.55,0.41,0.38,0.44,0.15,-0.32,-0.45,0.11,0.26,0.28,0.61,0.61,0.78,0.46,1.7,0.58,0.61,0.12,-0.12,0.25,0.38,0.49,0.31,0.63,1.03,0.59,0.53,0.38,0.32,-0.34,-0.16,0.39,0.54)\n",
    "print(tasas)"
   ]
  },
  {
   "cell_type": "code",
   "execution_count": 145,
   "metadata": {},
   "outputs": [
    {
     "name": "stdout",
     "output_type": "stream",
     "text": [
      "-0.74\n",
      "1.7\n",
      "[-0.74, -0.63, -0.5, -0.49, -0.45, -0.45, -0.34, -0.33, -0.32, -0.32, -0.32, -0.32, -0.31, -0.29, -0.26, -0.19, -0.16, -0.12, -0.11, -0.09, -0.06, -0.06, -0.03, -0.03, -0.01, 0, 0.06, 0.07, 0.09, 0.11, 0.12, 0.12, 0.13, 0.15, 0.15, 0.15, 0.15, 0.16, 0.17, 0.17, 0.18, 0.19, 0.19, 0.2, 0.21, 0.22, 0.22, 0.22, 0.23, 0.23, 0.23, 0.24, 0.25, 0.25, 0.25, 0.26, 0.27, 0.27, 0.27, 0.28, 0.28, 0.28, 0.28, 0.28, 0.3, 0.3, 0.3, 0.31, 0.32, 0.35, 0.36, 0.37, 0.38, 0.38, 0.38, 0.38, 0.38, 0.39, 0.39, 0.4, 0.41, 0.41, 0.41, 0.41, 0.41, 0.41, 0.42, 0.44, 0.44, 0.44, 0.44, 0.46, 0.46, 0.46, 0.48, 0.48, 0.49, 0.49, 0.49, 0.49, 0.5, 0.5, 0.51, 0.51, 0.51, 0.52, 0.52, 0.52, 0.52, 0.53, 0.54, 0.55, 0.55, 0.56, 0.56, 0.57, 0.58, 0.58, 0.58, 0.58, 0.58, 0.59, 0.59, 0.61, 0.61, 0.61, 0.62, 0.63, 0.67, 0.68, 0.68, 0.68, 0.69, 0.71, 0.71, 0.71, 0.72, 0.73, 0.78, 0.78, 0.8, 0.81, 0.82, 0.89, 0.93, 1.01, 1.03, 1.08, 1.09, 1.14, 1.7]\n"
     ]
    }
   ],
   "source": [
    "mi = min (tasas)\n",
    "print (mi)\n",
    "ma = max (tasas)\n",
    "print (ma)\n",
    "tasas_ordenadas = sorted(tasas)\n",
    "print (tasas_ordenadas)"
   ]
  },
  {
   "cell_type": "markdown",
   "metadata": {},
   "source": [
    "### ejercicio 8\n",
    "Genere exactamente 50 elementos de la sucesión sugerida:\n",
    "\n",
    "#### 1, 7, 19, 37, 61, 91, 127, 169, 217, 271,... \n",
    "\n",
    "a partir de las diferencias entre dos enteros consecutivos elevados al cubo*, es decir:\n",
    "- 1 es (1-0),\n",
    "- 7 es (8-1), \n",
    "- 19 es (27-8), \n",
    "- 37 es (64-27), \n",
    "- 61 es (125-64), etc.\n",
    "\n",
    "*Note que de las diferencias entre dos enteros elevados al cuadrado (0,1,4,9,16,25,36,...) resultan los números impares (1,3,5,7,9,11,...), y que esto se puede ilustrar con una construcción geométrica de cuadrados de lado entero e inscritos sucesivamente con un vértice en común. Esta construcción puede extenderse a cubos de lado entero para dar lugar a la sucesión requerida."
   ]
  },
  {
   "cell_type": "code",
   "execution_count": 134,
   "metadata": {},
   "outputs": [
    {
     "name": "stdout",
     "output_type": "stream",
     "text": [
      "[1, 7, 19, 37, 61, 91, 127, 169, 217, 271, 331, 397, 469, 547, 631, 721, 817, 919, 1027, 1141, 1261, 1387, 1519, 1657, 1801, 1951, 2107, 2269, 2437, 2611, 2791, 2977, 3169, 3367, 3571, 3781, 3997, 4219, 4447, 4681, 4921, 5167, 5419, 5677, 5941, 6211, 6487, 6769, 7057, 7351]\n"
     ]
    },
    {
     "data": {
      "text/plain": [
       "50"
      ]
     },
     "execution_count": 134,
     "metadata": {},
     "output_type": "execute_result"
    }
   ],
   "source": [
    "lista  = [x**3 - (x-1)**3 for x in list (range (1, 51))]\n",
    "print (lista)\n",
    "len (lista)"
   ]
  },
  {
   "cell_type": "markdown",
   "metadata": {},
   "source": [
    "### ejercicio 9\n",
    "a) Se tienen dos listas, en la primera de ellas se guardan las calificaciones de 5 trabajos de un estudiante, [5,9,7,10,6]; en la segunda se guardan las ponderaciones correspondientes a cada uno de los trabajos de la primera lista (esto es qué porcentaje vale cada trabajo al calcular la calificación final), [0.20,0.10,0.10,0.30,0.30].  \n",
    "Se le pide obtener la calificación final del estudiante según un promedio ponderado: multiplicando cada calificación por el peso correspondiente y sumando los productos obtenidos.\n",
    "\n",
    "b) ¿Cuál es el promedio aritmético de la siguiente lista [5, 5, 9, 7, 10, 10, 10, 6, 6, 6]?  \n",
    "¿coincide con el promedio obtenido en a)? ¿por qué?\n",
    "\n",
    "\n"
   ]
  },
  {
   "cell_type": "code",
   "execution_count": 33,
   "metadata": {},
   "outputs": [
    {
     "name": "stdout",
     "output_type": "stream",
     "text": [
      "[1.0, 0.9, 0.7000000000000001, 3.0, 1.7999999999999998]\n",
      "7.3999999999999995\n"
     ]
    }
   ],
   "source": [
    "cal = [5,9,7,10,6]\n",
    "por = [.20,.10,.10,.30,.30]\n",
    "\n",
    "#OTRA FORMA COMO EL EJERCICIO 10\n",
    "lista_multi = [a*b for a,b in zip(cal, por)]\n",
    "print(lista_multi)\n",
    "tot = sum ( lista_multi)\n",
    "print (tot)"
   ]
  },
  {
   "cell_type": "code",
   "execution_count": 164,
   "metadata": {},
   "outputs": [
    {
     "name": "stdout",
     "output_type": "stream",
     "text": [
      "7\n"
     ]
    }
   ],
   "source": [
    "cal_todos = [5, 5, 9, 7, 10, 10, 10, 6, 6, 6]\n",
    "t = len ( cal_todos)\n",
    "suma = sum (cal_todos)\n",
    "promedio = suma / t\n",
    "print (promedio)"
   ]
  },
  {
   "cell_type": "markdown",
   "metadata": {},
   "source": [
    "### ejercicio 10\n",
    "Se tiene una lista de productos que compró Pedro en el mercado:\n",
    "\n",
    "['peras', 'naranjas', 'papaya', 'ciruelas', 'manzanas', 'chicozapotes', 'uvas', 'mandarinas'];\n",
    "\n",
    "los precios correspondientes por kilogramo, según el orden dado en la lista de productos, son:\n",
    "\n",
    "[31.50, 8.50, 15.40, 25.30, 18.80, 32.20, 21.40, 6.50];\n",
    "\n",
    "y la cantidad de kilogramos de cada producto compredo, según el orden dado en las listas dadas:\n",
    "\n",
    "[1, 3, 3.50, 0, 2, 2, 1.5, 0].\n",
    "\n",
    "¿Cuánto debe pagar el cliente en total?\n"
   ]
  },
  {
   "cell_type": "code",
   "execution_count": 168,
   "metadata": {
    "collapsed": true
   },
   "outputs": [],
   "source": [
    "prec = [31.50, 8.50, 15.40, 25.30, 18.80, 32.20, 21.40, 6.50]\n",
    "cant = [1, 3, 3.50, 0, 2, 2, 1.5, 0]"
   ]
  },
  {
   "cell_type": "code",
   "execution_count": 170,
   "metadata": {},
   "outputs": [
    {
     "name": "stdout",
     "output_type": "stream",
     "text": [
      "8\n"
     ]
    },
    {
     "data": {
      "text/plain": [
       "245.0"
      ]
     },
     "execution_count": 170,
     "metadata": {},
     "output_type": "execute_result"
    }
   ],
   "source": [
    "# long. de la lista\n",
    "print( len(prec) )\n",
    "#OTRA FORMA COMO EL EJERCICIO 9\n",
    "sum( [prec[i] * cant[i] for i in  list( range(0,len(prec)) )]  )\n"
   ]
  },
  {
   "cell_type": "code",
   "execution_count": 12,
   "metadata": {},
   "outputs": [
    {
     "data": {
      "text/plain": [
       "[0, 1, 2, 3, 4, 5, 6, 7]"
      ]
     },
     "execution_count": 12,
     "metadata": {},
     "output_type": "execute_result"
    }
   ],
   "source": [
    "list(range(0,len(prec))  )"
   ]
  },
  {
   "cell_type": "markdown",
   "metadata": {
    "collapsed": true
   },
   "source": [
    "### ejercicio 11\n",
    "Encuentre el conjunto de símbolos tipográficos (letras, espacios, signos de puntuación, etc.) que aparecen en el texto de Sor Juana Inés de la Cruz que se escribe abajo y calcule la cantidad de estos símbolos que hay en el conjunto. El texto es el siguiente:\n",
    "\n",
    "Si ves el ciervo herido/Que baja por el monte, acelerado/Buscando dolorido/Alivio del mal en un arroyo helado,/Y sediento al cristal se precipita,/No en el alivio en el dolor me imita,/Si la liebre encogida/Huye medrosa de los galgos fieros,/Y por salvar la vida/No deja estampa de los pies ligeros,/Tal mi esperanza en dudas y recelos/Se ve acosa de villanos celos.\n",
    "\n",
    "- a) Defina el conjunto de símbolos tipográficos (letras, espacios, signos de puntuación, etc.) que aparecen en el texto.\n",
    "- b) Calcule la cantidad de símbolos que hay en el conjunto definido en a); es decir, la cantidad de elementos del conjunto.\n",
    "- c) ¿Cuántas veces aparece la letra 'a', en letra minúscula o mayúscula, en la escritura del texto?\n",
    "- d) ¿Cuántas veces aparecen las dos letras 'er' (seguidas), en letra minúscula o mayúscula, en la escritura del texto? ¿Y cuántas las letras 'el'?"
   ]
  },
  {
   "cell_type": "code",
   "execution_count": 2,
   "metadata": {},
   "outputs": [
    {
     "name": "stdout",
     "output_type": "stream",
     "text": [
      "36\n"
     ]
    }
   ],
   "source": [
    "texto = 'Si ves el ciervo herido/Que baja por el monte, acelerado/Buscando dolorido/Alivio del mal en un arroyo helado,/Y sediento al cristal se precipita,/No en el alivio en el dolor me imita,/Si la liebre encogida/Huye medrosa de los galgos fieros,/Y por salvar la vida/No deja estampa de los pies ligeros,/Tal mi esperanza en dudas y recelos/Se ve acosa de villanos celos.'\n",
    "\n",
    "lista = texto.split()\n",
    "carac = \"qwertyuiop´+}{ñlkjhgfdsazxcvbnm-_/,.\"\n",
    "tam = len (carac)\n",
    "print (tam)\n"
   ]
  },
  {
   "cell_type": "code",
   "execution_count": 5,
   "metadata": {},
   "outputs": [
    {
     "name": "stdout",
     "output_type": "stream",
     "text": [
      "32\n"
     ]
    }
   ],
   "source": [
    "sum_a = 0\n",
    "for x in lista: \n",
    "    if 'a' in x or 'A' in x:\n",
    "        for y in x:\n",
    "            if y == 'a' or y == 'A':\n",
    "                sum_a = sum_a + 1\n",
    "print (sum_a)\n"
   ]
  },
  {
   "cell_type": "code",
   "execution_count": 8,
   "metadata": {},
   "outputs": [],
   "source": [
    "from collections import Counter"
   ]
  },
  {
   "cell_type": "code",
   "execution_count": 11,
   "metadata": {},
   "outputs": [
    {
     "data": {
      "text/plain": [
       "32"
      ]
     },
     "execution_count": 11,
     "metadata": {},
     "output_type": "execute_result"
    }
   ],
   "source": [
    "Counter(texto.lower())['a'] "
   ]
  },
  {
   "cell_type": "code",
   "execution_count": 21,
   "metadata": {},
   "outputs": [
    {
     "name": "stdout",
     "output_type": "stream",
     "text": [
      "6\n"
     ]
    }
   ],
   "source": [
    "sum_er = 0\n",
    "\n",
    "for x in lista: \n",
    "    if 'er' in x or 'ER' in x:\n",
    "        sum_er = sum_er + 1\n",
    "print (sum_er)"
   ]
  },
  {
   "cell_type": "code",
   "execution_count": 23,
   "metadata": {},
   "outputs": [
    {
     "data": {
      "text/plain": [
       "0"
      ]
     },
     "execution_count": 23,
     "metadata": {},
     "output_type": "execute_result"
    }
   ],
   "source": [
    "Counter(texto.lower())['er'] "
   ]
  },
  {
   "cell_type": "code",
   "execution_count": 32,
   "metadata": {},
   "outputs": [
    {
     "data": {
      "text/plain": [
       "6"
      ]
     },
     "execution_count": 32,
     "metadata": {},
     "output_type": "execute_result"
    }
   ],
   "source": [
    "sep = [texto[x:x+2] for x in range(len(texto)-1)]\n",
    "Counter(sep)\n",
    "Counter(sep)['er']"
   ]
  },
  {
   "cell_type": "code",
   "execution_count": 218,
   "metadata": {},
   "outputs": [
    {
     "name": "stdout",
     "output_type": "stream",
     "text": [
      "9\n"
     ]
    }
   ],
   "source": [
    "sum_el = 0\n",
    "\n",
    "for x in lista: \n",
    "    if 'el' in x or 'EL' in x:\n",
    "        sum_el = sum_el + 1\n",
    "print (sum_el)"
   ]
  },
  {
   "cell_type": "markdown",
   "metadata": {},
   "source": [
    "### ejercicio 12\n",
    "¿Qué letras del alfabeto tienen en común las siguientes 5 palabras (se omiten acentos)?  \n",
    "'esternocleidomastoideo' (es un músculo del cuello): 'e','s','t','r','n','o','c','l','i','d','m','a'  \n",
    "'estereocinematografia': 'e','s','t','r','n','o','c','i','m','a','g','f'  \n",
    "'eurocomunismo':'e','s','r','n','o','c','i','m','u'  \n",
    "'estafilococo': 'e','s','t','o','c','l','i','a','f'  \n",
    "'espectrofotometria': 'e','s','t','r','o','c','i','m','a','f','p'  \n",
    "¿Qué letras del alfabeto aparecen en la palabra 'esternocleidomastoideo' pero no aparecen en ninguna de las palabras 'estereocinematografia' y 'espectrofotometria'?"
   ]
  },
  {
   "cell_type": "code",
   "execution_count": null,
   "metadata": {
    "collapsed": true
   },
   "outputs": [],
   "source": []
  },
  {
   "cell_type": "code",
   "execution_count": null,
   "metadata": {
    "collapsed": true
   },
   "outputs": [],
   "source": []
  },
  {
   "cell_type": "code",
   "execution_count": null,
   "metadata": {
    "collapsed": true
   },
   "outputs": [],
   "source": []
  },
  {
   "cell_type": "markdown",
   "metadata": {},
   "source": [
    "### ejercicio 13\n",
    "Considera los siguientes tres conjuntos de números enteros, positivos, menores a 10,000:\n",
    "* los múltiplos de 9,\n",
    "\n",
    "{9,18,27,...,9999}\n",
    "\n",
    "* los múltiplos de 11,\n",
    "\n",
    "{11,22,33,44,...9999}\n",
    "\n",
    "* los múltiplos de 7,\n",
    "\n",
    "{7,14,21,28,...9996}\n",
    "  \n",
    "Genera los elementos de los conjuntos descritos y asigna nombres apropiados que\n",
    "identifiquen cada conjunto. \n",
    "  \n",
    "* Con los conjuntos definidos anteriormente y operaciones apropiadas contesta lo siguiente:  \n",
    "  \n",
    "a) Encuentra el conjunto de los números que a la vez son múltiplos de 9 y 11, pero que no son múltiplos de 7 (un elemento de este conjunto es el número 99) y responde, ¿Cuántos elementos tiene el conjunto encontrado?\n",
    "\n",
    "b) Encuentra el conjunto de los números que a la vez son múltiplos de 11 y 7, pero que no son múltiplos de 9 (un elemento de este conjunto es el número 77) y responde, ¿Cuántos elementos tiene el conjunto encontrado?\n",
    "\n",
    "c) Encuentra el conjunto de los números que a la vez son múltiplos de 9 y 7, pero que no son múltiplos de 11 (un elemento de este conjunto es el número 63) y responde, ¿Cuántos elementos tiene el conjunto encontrado?"
   ]
  },
  {
   "cell_type": "code",
   "execution_count": 36,
   "metadata": {},
   "outputs": [],
   "source": [
    "m9 = listaA  = list(range(9,10000,9))\n",
    "m11 = listaB  = list(range(11,10000,11))\n",
    "m7 = listaC = list(range(7,10000,7))"
   ]
  },
  {
   "cell_type": "code",
   "execution_count": 53,
   "metadata": {},
   "outputs": [
    {
     "name": "stdout",
     "output_type": "stream",
     "text": [
      "<class 'list'>\n",
      "<class 'set'>\n"
     ]
    }
   ],
   "source": [
    "print(type(m9))\n",
    "m9s = set(listaA)\n",
    "print(type(m9s))\n",
    "m11s = set(listaB)\n",
    "m7s = set(listaC)"
   ]
  },
  {
   "cell_type": "code",
   "execution_count": 56,
   "metadata": {},
   "outputs": [
    {
     "name": "stdout",
     "output_type": "stream",
     "text": [
      "87\n"
     ]
    }
   ],
   "source": [
    "#print((m9s & m11s)- m7s)\n",
    "# | UNION\n",
    "# & INTER\n",
    "# - DIFERENCIA\n",
    "print( len((m9s & m11s)- m7s))"
   ]
  },
  {
   "cell_type": "code",
   "execution_count": null,
   "metadata": {},
   "outputs": [],
   "source": []
  },
  {
   "cell_type": "markdown",
   "metadata": {
    "collapsed": true
   },
   "source": [
    "### ejercicio 14\n",
    "Jimena y Enrique van a tener un bebé, de quien no saben si es niño o niña, y van a selecionar algunos nombres del siguiente grupo,  \n",
    "  \n",
    "'Olontetl', 'Ollin', 'Azcatl', 'Acatl', 'Chimalma', 'Tecpatl', 'Necucyaotl', 'Tonatiuh', 'Tepochtli', 'Ixualxochiotl', 'Quetzalxilotl', 'Xiuhcóatl', 'Omecatl', 'Huitzilihuitl', 'Mazatzin', 'Yaotl', 'Ixtlixóchitl', 'Tlexochitl', 'Mixtle', 'Tlanextli', 'Cuicacani', 'Tlecuauhtli', 'Tepiltzin', 'Topiltzin', 'Tlacaelel', 'Ohtonqui', 'Tlazohtzin', 'Cihuateopixqui', 'Xocoyotzin', 'Nicté', 'Cuauhtli', 'Xalaquia', 'Opochtli', 'Nelli', 'Quetzalzin', 'Aztlan', 'Nezahualcóyotl', 'Tzilmiztli', 'Iztli', 'Noxochicoztli', 'Yohualticitl', 'Atototzin', 'Cuauhcihuatl', 'Cuauhtémoc', 'Anáhuac', 'Xochiyotl', 'Xihuitl', 'Ehécatl', 'Cihuacoatl', 'Citlalinicue', 'Chalchiuhtlicue', 'Zipactonal', 'Hiuhtonal', 'Tezcatlipoca', 'Ueman', 'Alotl', 'Ilhuitemoc', 'Quecholli', 'Tlayolohtli', 'Zyanya', 'Nahui', 'Imacatlezohtzin', 'Huitzillin', 'Cozcaapa', 'Yolyamanitzin', 'Teotl', 'Papalotl', 'Atlanxochitl', 'Yaocihuatl', 'Tonahuac', 'Cihuaxochitl', 'Tlahcuilo', 'Ameyal', 'Iztapapalotl', 'Tlazohtlaloni', 'Ilhuicamina', 'Matlalcóatl', 'Cihuatl', 'Malinaltzin', 'Coatlicue', 'Ixcatzin', 'Chicomecoatl', 'Xochiquiahuitl', 'Quetzalli', 'Tochtli', 'Ayauhtli', 'Tonalna', 'Ahuizotl', 'Xilonen', 'Pelaxilla', 'Xochicotzin', 'Xochiltlanezi'  \n",
    "  \n",
    "Después de meditar detenidamente, los futuros padres seleccionaron dos conjuntos: 1) los nombres elegidos por Jimena, y 2) los nombres elegidos por Enrique.  Los dos conjuntos mencionados son los siguientes:  \n",
    "  \n",
    "Los nombres elegidos por Jimena son,  \n",
    "  \n",
    "'Cihuacoatl', 'Tonalna', 'Quetzalli', 'Cozcaapa', 'Tlayolohtli', 'Ilhuicamina', 'Yaotl', 'Cihuatl', 'Mixtle', 'Xihuitl', 'Ayauhtli', 'Xalaquia', 'Ollin', 'Nezahualcóyotl', 'Iztapapalotl', 'Tlanextli', 'Necucyaotl', 'Opochtli', 'Hiuhtonal', 'Teotl', 'Malinaltzin', 'Acatl', 'Chimalma', 'Pelaxilla', 'Tezcatlipoca', 'Tlazohtlaloni', 'Aztlan', 'Tepiltzin', 'Cihuaxochitl', 'Cuauhtémoc', 'Huitzilihuitl', 'Olontetl', 'Ehécatl', 'Cuicacani', 'Yohualticitl', 'Cuauhtli', 'Azcatl', 'Yaocihuatl', 'Xiuhcóatl', 'Xochicotzin', 'Ohtonqui', 'Imacatlezohtzin', 'Chicomecoatl', 'Tlexochitl', 'Nicté'  \n",
    "  \n",
    "Los nombres elegidos por Enrique son,  \n",
    "  \n",
    "'Xihuitl', 'Atlanxochitl', 'Quetzalxilotl', 'Necucyaotl', 'Ehécatl', 'Topiltzin', 'Cihuatl', 'Xochiltlanezi', 'Ixtlixóchitl', 'Nahui', 'Yohualticitl', 'Tepiltzin', 'Aztlan', 'Cihuacoatl', 'Zyanya', 'Iztli', 'Xochiyotl', 'Imacatlezohtzin', 'Tlacaelel', 'Nicté', 'Tonahuac', 'Ohtonqui', 'Tlayolohtli', 'Tlecuauhtli', 'Ixcatzin', 'Huitzilihuitl', 'Anáhuac', 'Nezahualcóyotl', 'Quecholli', 'Chimalma', 'Cozcaapa', 'Hiuhtonal', 'Cihuaxochitl', 'Opochtli', 'Iztapapalotl', 'Tlazohtlaloni'  \n",
    "  \n",
    "Para ayudar con el proceso de decisión del nombre del bebé de Jimena y Enrique, encuentre lo que se pide a continuación, aplicando las operaciones apropiadas.  \n",
    "  \n",
    "a) Encuentre el conjunto con los nombres coincidentes, elegidos igualmente por ambos padres, Jimena y Enrique ¿Cuántos nombres son?  \n",
    "  \n",
    "b) Encuentre el conjunto de los nombres que fueron elegidos por solo uno de los papás, Jimena o Enrique, sin incluir los nombres donde ambos padres coinciden ¿Cuántos nombres son?  \n",
    "  \n",
    "c) Encuentre el conjunto de los nombres que pertenecen al grupo original de todos los nombres, pero que no fueron considerados por los futuros padres ¿Cuántos nombres son? \n",
    "  \n"
   ]
  },
  {
   "cell_type": "code",
   "execution_count": 49,
   "metadata": {},
   "outputs": [
    {
     "name": "stdout",
     "output_type": "stream",
     "text": [
      "{'Xihuitl', 'Tlazohtlaloni', 'Imacatlezohtzin', 'Tezcatlipoca', 'Ayauhtli', 'Iztli', 'Quetzalxilotl', 'Ixualxochiotl', 'Tonalna', 'Yaocihuatl', 'Matlalcóatl', 'Ollin', 'Iztapapalotl', 'Xochicotzin', 'Teotl', 'Tlecuauhtli', 'Ohtonqui', 'Tochtli', 'Hiuhtonal', 'Cihuatl', 'Xochiyotl', 'Tlanextli', 'Cuauhtémoc', 'Ehécatl', 'Nicté', 'Coatlicue', 'Xilonen', 'Ixtlixóchitl', 'Opochtli', 'Acatl', 'Nahui', 'Zyanya', 'Anáhuac', 'Tonahuac', 'Mazatzin', 'Noxochicoztli', 'Ameyal', 'Cihuaxochitl', 'Tepochtli', 'Yaotl', 'Tzilmiztli', 'Huitzilihuitl', 'Zipactonal', 'Alotl', 'Chimalma', 'Mixtle', 'Ahuizotl', 'Xalaquia', 'Olontetl', 'Xiuhcóatl', 'Chicomecoatl', 'Xochiquiahuitl', 'Cihuacoatl', 'Xocoyotzin', 'Ixcatzin', 'Cozcaapa', 'Atlanxochitl', 'Tlazohtzin', 'Tecpatl', 'Yolyamanitzin', 'Tlahcuilo', 'Papalotl', 'Tlexochitl', 'Azcatl', 'Quetzalzin', 'Atototzin', 'Quecholli', 'Yohualticitl', 'Cuauhcihuatl', 'Ueman', 'Pelaxilla', 'Malinaltzin', 'Tlayolohtli', 'Citlalinicue', 'Huitzillin', 'Necucyaotl', 'Ilhuitemoc', 'Quetzalli', 'Omecatl', 'Chalchiuhtlicue', 'Tonatiuh', 'Topiltzin', 'Xochiltlanezi', 'Ilhuicamina', 'Tepiltzin', 'Nelli', 'Cuicacani', 'Cuauhtli', 'Tlacaelel', 'Aztlan', 'Cihuateopixqui', 'Nezahualcóyotl'}\n"
     ]
    }
   ],
   "source": [
    "nombresG = {'Olontetl', 'Ollin', 'Azcatl', 'Acatl', 'Chimalma', 'Tecpatl', 'Necucyaotl', 'Tonatiuh', 'Tepochtli', 'Ixualxochiotl', 'Quetzalxilotl', 'Xiuhcóatl', 'Omecatl', 'Huitzilihuitl', 'Mazatzin', 'Yaotl', 'Ixtlixóchitl', 'Tlexochitl', 'Mixtle', 'Tlanextli', 'Cuicacani', 'Tlecuauhtli', 'Tepiltzin', 'Topiltzin', 'Tlacaelel', 'Ohtonqui', 'Tlazohtzin', 'Cihuateopixqui', 'Xocoyotzin', 'Nicté', 'Cuauhtli', 'Xalaquia', 'Opochtli', 'Nelli', 'Quetzalzin', 'Aztlan', 'Nezahualcóyotl', 'Tzilmiztli', 'Iztli', 'Noxochicoztli', 'Yohualticitl', 'Atototzin', 'Cuauhcihuatl', 'Cuauhtémoc', 'Anáhuac', 'Xochiyotl', 'Xihuitl', 'Ehécatl', 'Cihuacoatl', 'Citlalinicue', 'Chalchiuhtlicue', 'Zipactonal', 'Hiuhtonal', 'Tezcatlipoca', 'Ueman', 'Alotl', 'Ilhuitemoc', 'Quecholli', 'Tlayolohtli', 'Zyanya', 'Nahui', 'Imacatlezohtzin', 'Huitzillin', 'Cozcaapa', 'Yolyamanitzin', 'Teotl', 'Papalotl', 'Atlanxochitl', 'Yaocihuatl', 'Tonahuac', 'Cihuaxochitl', 'Tlahcuilo', 'Ameyal', 'Iztapapalotl', 'Tlazohtlaloni', 'Ilhuicamina', 'Matlalcóatl', 'Cihuatl', 'Malinaltzin', 'Coatlicue', 'Ixcatzin', 'Chicomecoatl', 'Xochiquiahuitl', 'Quetzalli', 'Tochtli', 'Ayauhtli', 'Tonalna', 'Ahuizotl', 'Xilonen', 'Pelaxilla', 'Xochicotzin', 'Xochiltlanezi'}\n",
    "print(nombres)\n",
    "nombresJim = {'Cihuacoatl', 'Tonalna', 'Quetzalli', 'Cozcaapa', 'Tlayolohtli', 'Ilhuicamina', 'Yaotl', 'Cihuatl', 'Mixtle', 'Xihuitl', 'Ayauhtli', 'Xalaquia', 'Ollin', 'Nezahualcóyotl', 'Iztapapalotl', 'Tlanextli', 'Necucyaotl', 'Opochtli', 'Hiuhtonal', 'Teotl', 'Malinaltzin', 'Acatl', 'Chimalma', 'Pelaxilla', 'Tezcatlipoca', 'Tlazohtlaloni', 'Aztlan', 'Tepiltzin', 'Cihuaxochitl', 'Cuauhtémoc', 'Huitzilihuitl', 'Olontetl', 'Ehécatl', 'Cuicacani', 'Yohualticitl', 'Cuauhtli', 'Azcatl', 'Yaocihuatl', 'Xiuhcóatl', 'Xochicotzin', 'Ohtonqui', 'Imacatlezohtzin', 'Chicomecoatl', 'Tlexochitl', 'Nicté'}\n",
    "nombresEnr = {'Xihuitl', 'Atlanxochitl', 'Quetzalxilotl', 'Necucyaotl', 'Ehécatl', 'Topiltzin', 'Cihuatl', 'Xochiltlanezi', 'Ixtlixóchitl', 'Nahui', 'Yohualticitl', 'Tepiltzin', 'Aztlan', 'Cihuacoatl', 'Zyanya', 'Iztli', 'Xochiyotl', 'Imacatlezohtzin', 'Tlacaelel', 'Nicté', 'Tonahuac', 'Ohtonqui', 'Tlayolohtli', 'Tlecuauhtli', 'Ixcatzin', 'Huitzilihuitl', 'Anáhuac', 'Nezahualcóyotl', 'Quecholli', 'Chimalma', 'Cozcaapa', 'Hiuhtonal', 'Cihuaxochitl', 'Opochtli', 'Iztapapalotl', 'Tlazohtlaloni'}\n",
    "\n"
   ]
  },
  {
   "cell_type": "code",
   "execution_count": 57,
   "metadata": {},
   "outputs": [
    {
     "name": "stdout",
     "output_type": "stream",
     "text": [
      "{'Chicomecoatl', 'Ixtlixóchitl', 'Acatl', 'Pelaxilla', 'Nahui', 'Ixcatzin', 'Ayauhtli', 'Atlanxochitl', 'Tezcatlipoca', 'Malinaltzin', 'Iztli', 'Zyanya', 'Anáhuac', 'Quetzalxilotl', 'Tonahuac', 'Tonalna', 'Yaocihuatl', 'Tlexochitl', 'Ollin', 'Yaotl', 'Xochicotzin', 'Quetzalli', 'Teotl', 'Azcatl', 'Topiltzin', 'Xochiltlanezi', 'Tlecuauhtli', 'Quecholli', 'Ilhuicamina', 'Mixtle', 'Cuicacani', 'Cuauhtli', 'Xalaquia', 'Xochiyotl', 'Tlacaelel', 'Olontetl', 'Tlanextli', 'Cuauhtémoc', 'Xiuhcóatl'}\n"
     ]
    }
   ],
   "source": [
    "#DIFERENCIA ASIM'ETRICA \n",
    "print(nombresJim ^ nombresEnr)"
   ]
  },
  {
   "cell_type": "code",
   "execution_count": null,
   "metadata": {
    "collapsed": true
   },
   "outputs": [],
   "source": []
  },
  {
   "cell_type": "markdown",
   "metadata": {},
   "source": [
    "### ejercicio 15\n",
    "Considera la sucesión de nombres de algunos países de América que se escribe en la celda de abajo.\n",
    "\n",
    "\n",
    "a) Genera una lista con la primera letra que aparece en mayúscula de cada uno de los nombres de los países.\n",
    "\n",
    "\n",
    "\n",
    "b) Define un conjunto con las letras iniciales de los nombres dados\n",
    "\n",
    "\n",
    "\n",
    "c) Genera una nueva lista con los nombres en sentido inverso.\n",
    "\n",
    "\n",
    "\n",
    "d) Genera una lista con la última letra de cada uno de los nombres de países.\n",
    "\n"
   ]
  },
  {
   "cell_type": "code",
   "execution_count": 4,
   "metadata": {},
   "outputs": [
    {
     "name": "stdout",
     "output_type": "stream",
     "text": [
      "('Guatemala', 'Costa Rica', 'México', 'Venezuela', 'Chile', 'Belice', 'Cuba', 'Jamaica', 'Argentina', 'Ecuador', 'Perú', 'Bolivia', 'Uruguay', 'Paraguay', 'Colombia', 'Panamá', 'Guyana', 'Brasil', 'Honduras', 'Nicaragua', 'República Dominicana', 'Haití', 'Canadá', 'Estados Unidos', 'Trinidad y Tobago', 'El Salvador')\n"
     ]
    }
   ],
   "source": [
    "nombrePais=('Guatemala','Costa Rica','México','Venezuela','Chile','Belice','Cuba','Jamaica','Argentina','Ecuador','Perú','Bolivia','Uruguay','Paraguay','Colombia', 'Panamá','Guyana','Brasil','Honduras','Nicaragua','República Dominicana','Haití','Canadá','Estados Unidos','Trinidad y Tobago','El Salvador')\n",
    "print(nombrePais)"
   ]
  },
  {
   "cell_type": "code",
   "execution_count": null,
   "metadata": {
    "collapsed": true
   },
   "outputs": [],
   "source": []
  },
  {
   "cell_type": "code",
   "execution_count": null,
   "metadata": {
    "collapsed": true
   },
   "outputs": [],
   "source": []
  },
  {
   "cell_type": "markdown",
   "metadata": {},
   "source": [
    "### ejercicio 16\n",
    "¿Cuál es el conjunto de los números enteros entre 1 y 10,000 que son iguales al cubo de un número entero?\n",
    "\n",
    "De los números del conjunto encontrado,\n",
    "\n",
    "¿Cuáles son divisibles entre 13?\n",
    "\n",
    "Responda estas preguntas para los números entre 1 y 1,000,000 (un millón)"
   ]
  },
  {
   "cell_type": "code",
   "execution_count": null,
   "metadata": {
    "collapsed": true
   },
   "outputs": [],
   "source": []
  },
  {
   "cell_type": "code",
   "execution_count": 2,
   "metadata": {},
   "outputs": [
    {
     "name": "stdout",
     "output_type": "stream",
     "text": [
      "{'Puebla', 'EdoMex', 'CDMX', 'Oaxaca', 'Chiapas'}\n"
     ]
    }
   ],
   "source": [
    "lugarNac = [\"CDMX\", \"EdoMex\",\"Chiapas\",\"EdoMex\", \"Oaxaca\",\"Puebla\"]\n",
    "\n",
    "# convierte la lista a conjunto\n",
    "lugarNacUnicos = set(lugarNac)\n",
    "\n",
    "print( lugarNacUnicos )"
   ]
  },
  {
   "cell_type": "code",
   "execution_count": 3,
   "metadata": {},
   "outputs": [
    {
     "data": {
      "text/plain": [
       "1"
      ]
     },
     "execution_count": 3,
     "metadata": {},
     "output_type": "execute_result"
    }
   ],
   "source": [
    "# cuenta cuantas veces esta CDMX en la lista\n",
    "lugarNac.count(\"CDMX\")"
   ]
  },
  {
   "cell_type": "code",
   "execution_count": 4,
   "metadata": {},
   "outputs": [
    {
     "data": {
      "text/plain": [
       "2"
      ]
     },
     "execution_count": 4,
     "metadata": {},
     "output_type": "execute_result"
    }
   ],
   "source": [
    "lugarNac.count(\"EdoMex\")"
   ]
  },
  {
   "cell_type": "code",
   "execution_count": 5,
   "metadata": {},
   "outputs": [
    {
     "data": {
      "text/plain": [
       "'D'"
      ]
     },
     "execution_count": 5,
     "metadata": {},
     "output_type": "execute_result"
    }
   ],
   "source": [
    "texto = 'CDMX'\n",
    "texto[1]"
   ]
  },
  {
   "cell_type": "code",
   "execution_count": 1,
   "metadata": {},
   "outputs": [
    {
     "ename": "ModuleNotFoundError",
     "evalue": "No module named 'bbc'",
     "output_type": "error",
     "traceback": [
      "\u001b[0;31m---------------------------------------------------------------------------\u001b[0m",
      "\u001b[0;31mModuleNotFoundError\u001b[0m                       Traceback (most recent call last)",
      "\u001b[0;32m<ipython-input-1-e5b87d5316eb>\u001b[0m in \u001b[0;36m<module>\u001b[0;34m\u001b[0m\n\u001b[1;32m      1\u001b[0m \u001b[0;32mimport\u001b[0m \u001b[0mscrapy\u001b[0m\u001b[0;34m\u001b[0m\u001b[0;34m\u001b[0m\u001b[0m\n\u001b[0;32m----> 2\u001b[0;31m \u001b[0;32mfrom\u001b[0m \u001b[0mbbc\u001b[0m\u001b[0;34m.\u001b[0m\u001b[0mitems\u001b[0m \u001b[0;32mimport\u001b[0m \u001b[0mBbcItem\u001b[0m\u001b[0;34m\u001b[0m\u001b[0;34m\u001b[0m\u001b[0m\n\u001b[0m\u001b[1;32m      3\u001b[0m \u001b[0;32mfrom\u001b[0m \u001b[0mdatetime\u001b[0m \u001b[0;32mimport\u001b[0m \u001b[0mdatetime\u001b[0m\u001b[0;34m\u001b[0m\u001b[0;34m\u001b[0m\u001b[0m\n\u001b[1;32m      4\u001b[0m \u001b[0;32mimport\u001b[0m \u001b[0mre\u001b[0m\u001b[0;34m\u001b[0m\u001b[0;34m\u001b[0m\u001b[0m\n",
      "\u001b[0;31mModuleNotFoundError\u001b[0m: No module named 'bbc'"
     ]
    }
   ],
   "source": []
  },
  {
   "cell_type": "code",
   "execution_count": null,
   "metadata": {
    "collapsed": true
   },
   "outputs": [],
   "source": []
  },
  {
   "cell_type": "code",
   "execution_count": null,
   "metadata": {
    "collapsed": true
   },
   "outputs": [],
   "source": []
  },
  {
   "cell_type": "code",
   "execution_count": null,
   "metadata": {
    "collapsed": true
   },
   "outputs": [],
   "source": []
  },
  {
   "cell_type": "code",
   "execution_count": null,
   "metadata": {
    "collapsed": true
   },
   "outputs": [],
   "source": []
  }
 ],
 "metadata": {
  "kernelspec": {
   "display_name": "Python 3",
   "language": "python",
   "name": "python3"
  },
  "language_info": {
   "codemirror_mode": {
    "name": "ipython",
    "version": 3
   },
   "file_extension": ".py",
   "mimetype": "text/x-python",
   "name": "python",
   "nbconvert_exporter": "python",
   "pygments_lexer": "ipython3",
   "version": "3.7.1"
  }
 },
 "nbformat": 4,
 "nbformat_minor": 1
}
