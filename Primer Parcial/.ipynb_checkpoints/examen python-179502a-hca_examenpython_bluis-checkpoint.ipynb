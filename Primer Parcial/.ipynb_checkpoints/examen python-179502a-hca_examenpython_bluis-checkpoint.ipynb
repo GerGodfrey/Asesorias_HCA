{
 "cells": [
  {
   "cell_type": "markdown",
   "metadata": {},
   "source": [
    "# HCA Examen Python"
   ]
  },
  {
   "cell_type": "raw",
   "metadata": {},
   "source": []
  },
  {
   "cell_type": "raw",
   "metadata": {},
   "source": []
  },
  {
   "cell_type": "raw",
   "metadata": {},
   "source": [
    "1) A continuación tiene las claves únicas de estudiantes inscritos por materia. "
   ]
  },
  {
   "cell_type": "code",
   "execution_count": null,
   "metadata": {},
   "outputs": [],
   "source": [
    "HCA = {18403,18736,18578,18238,17171,18778,18308,18985,17254,18156,18328,18175,18614,18349,18220,17482,17511,17626,17337,17874,17268,17752,18491,18987}\n",
    "Mate = {18679,18736,18736,18531,18578,18238,18308,17254,18175,17203,18220,17482,17798,18987}\n",
    "Eco={18578,18238,17071,18778,18985,17254,18156,18175,18614,18220,17482,17511,17337,18987}"
   ]
  },
  {
   "cell_type": "code",
   "execution_count": 1,
   "metadata": {},
   "outputs": [
    {
     "name": "stdout",
     "output_type": "stream",
     "text": [
      "Using matplotlib backend: Qt5Agg\n",
      "Populating the interactive namespace from numpy and matplotlib\n"
     ]
    }
   ],
   "source": [
    "%pylab"
   ]
  },
  {
   "cell_type": "code",
   "execution_count": 6,
   "metadata": {},
   "outputs": [
    {
     "data": {
      "text/plain": [
       "24"
      ]
     },
     "execution_count": 6,
     "metadata": {},
     "output_type": "execute_result"
    }
   ],
   "source": [
    "hca=[18403,18736,18578,18238,17171,18778,18308,18985,17254,18156,18328,18175,18614,18349,18220,17482,17511,17626,17337,17874,17268,17752,18491,18987]\n",
    "len(hca)\n"
   ]
  },
  {
   "cell_type": "code",
   "execution_count": 7,
   "metadata": {},
   "outputs": [
    {
     "data": {
      "text/plain": [
       "13"
      ]
     },
     "execution_count": 7,
     "metadata": {},
     "output_type": "execute_result"
    }
   ],
   "source": [
    "mate = {18679,18736,18736,18531,18578,18238,18308,17254,18175,17203,18220,17482,17798,18987}\n",
    "len(mate)"
   ]
  },
  {
   "cell_type": "code",
   "execution_count": 8,
   "metadata": {},
   "outputs": [
    {
     "data": {
      "text/plain": [
       "14"
      ]
     },
     "execution_count": 8,
     "metadata": {},
     "output_type": "execute_result"
    }
   ],
   "source": [
    "eco={18578,18238,17071,18778,18985,17254,18156,18175,18614,18220,17482,17511,17337,18987}\n",
    "len(eco)"
   ]
  },
  {
   "cell_type": "raw",
   "metadata": {},
   "source": [
    " 1.a) (1 punto)\n",
    "    ¿qué materia tiene más estudiantes inscritos ??"
   ]
  },
  {
   "cell_type": "code",
   "execution_count": 9,
   "metadata": {},
   "outputs": [
    {
     "data": {
      "text/plain": [
       "'HCA'"
      ]
     },
     "execution_count": 9,
     "metadata": {},
     "output_type": "execute_result"
    }
   ],
   "source": [
    "'HCA'"
   ]
  },
  {
   "cell_type": "code",
   "execution_count": null,
   "metadata": {},
   "outputs": [],
   "source": []
  },
  {
   "cell_type": "raw",
   "metadata": {},
   "source": [
    "1.b) (1 punto)\n",
    "    ¿qué estudiantes cursan todas las materias ? y ¿cúantos son?"
   ]
  },
  {
   "cell_type": "code",
   "execution_count": 22,
   "metadata": {},
   "outputs": [
    {
     "name": "stdout",
     "output_type": "stream",
     "text": [
      "{18308, 18578, 17171, 18328, 18985, 18987, 18220, 18349, 18736, 18614, 17337, 18491, 18238, 17482, 17874, 17752, 17626, 18778, 18403, 17254, 17511, 18156, 17268, 18175}\n",
      "{18531, 18308, 17254, 17798, 17482, 18987, 18220, 18736, 18578, 17203, 18679, 18238, 18175}\n",
      "{17254, 17511, 18985, 17482, 18987, 18156, 18220, 17071, 18578, 18614, 17337, 18778, 18238, 18175}\n"
     ]
    }
   ],
   "source": [
    "hca1=set(hca)\n",
    "print(hca1)\n",
    "mate2=set(mate)\n",
    "print(mate2)\n",
    "eco3=set(eco)\n",
    "print(eco3)\n"
   ]
  },
  {
   "cell_type": "code",
   "execution_count": 40,
   "metadata": {},
   "outputs": [
    {
     "name": "stdout",
     "output_type": "stream",
     "text": [
      "{17254, 17482, 18987, 18220, 18578, 18238, 18175}\n"
     ]
    },
    {
     "data": {
      "text/plain": [
       "7"
      ]
     },
     "execution_count": 40,
     "metadata": {},
     "output_type": "execute_result"
    }
   ],
   "source": [
    "comun=((hca1).intersection(mate2)).intersection(eco3)\n",
    "print(comun)\n",
    "len(comun)\n",
    "# 7 alumnos cursan todaslas materias"
   ]
  },
  {
   "cell_type": "raw",
   "metadata": {},
   "source": [
    "1.c) (1 punto)\n",
    "    ¿qué estudiantes cursan solamente una materia ? y ¿cúantos son?"
   ]
  },
  {
   "cell_type": "code",
   "execution_count": 42,
   "metadata": {},
   "outputs": [
    {
     "name": "stdout",
     "output_type": "stream",
     "text": [
      "{18403, 18349, 17874, 17171, 17268, 18328, 17752, 17626, 18491}\n"
     ]
    },
    {
     "data": {
      "text/plain": [
       "9"
      ]
     },
     "execution_count": 42,
     "metadata": {},
     "output_type": "execute_result"
    }
   ],
   "source": [
    "una=hca1 - mate2 - eco3\n",
    "print(una)\n",
    "len(una)\n",
    "# 9 estudiantes cursan una materia(corrección eran 14 alumnos)"
   ]
  },
  {
   "cell_type": "code",
   "execution_count": null,
   "metadata": {},
   "outputs": [],
   "source": []
  },
  {
   "cell_type": "raw",
   "metadata": {},
   "source": [
    "2) Tiene una lista con los montos en pesos que un grupo de clientes desean convertir a dólares."
   ]
  },
  {
   "cell_type": "code",
   "execution_count": null,
   "metadata": {},
   "outputs": [],
   "source": [
    "montoPesos = [3179,8605,7012,7176,3281,8468,6678,8237,9570,9733,8237,7338,8028,4723,1670,8364,3505,2165,4871,9330]\n"
   ]
  },
  {
   "cell_type": "raw",
   "metadata": {},
   "source": [
    "2.a) (2 puntos)\n",
    "    ¿cuántos dólares se lleva cada cliente (tipo de cambio 19.14)?"
   ]
  },
  {
   "cell_type": "code",
   "execution_count": 29,
   "metadata": {},
   "outputs": [
    {
     "name": "stdout",
     "output_type": "stream",
     "text": [
      "[166.0919540229885, 449.58202716823405, 366.3531870428422, 374.92163009404385, 171.42110762800417, 442.42424242424244, 348.9028213166144, 430.35527690700104, 500.0, 508.5161964472309, 430.35527690700104, 383.38557993730404, 419.435736677116, 246.760710553814, 87.25182863113898, 436.99059561128524, 183.12434691745037, 113.11389759665622, 254.4932079414838, 487.4608150470219]\n"
     ]
    }
   ],
   "source": [
    "tc=19.14\n",
    "pesos=[3179,8605,7012,7176,3281,8468,6678,8237,9570,9733,8237,7338,8028,4723,1670,8364,3505,2165,4871,9330]\n",
    "dolares=[x/tc for x in list(pesos)]\n",
    "print(dolares)\n",
    "    "
   ]
  },
  {
   "cell_type": "code",
   "execution_count": null,
   "metadata": {},
   "outputs": [],
   "source": []
  },
  {
   "cell_type": "raw",
   "metadata": {},
   "source": [
    "2.b) (1 punto)\n",
    "    ¿cuál es el monto total de dólares entregados?"
   ]
  },
  {
   "cell_type": "code",
   "execution_count": 30,
   "metadata": {},
   "outputs": [
    {
     "data": {
      "text/plain": [
       "6800.940438871474"
      ]
     },
     "execution_count": 30,
     "metadata": {},
     "output_type": "execute_result"
    }
   ],
   "source": [
    "sum(dolares)"
   ]
  },
  {
   "cell_type": "code",
   "execution_count": null,
   "metadata": {},
   "outputs": [],
   "source": []
  },
  {
   "cell_type": "raw",
   "metadata": {},
   "source": [
    "2.c) (2 puntos)\n",
    "    ¿de cuánto es el cambio en pesos para cada cliente (tipo de cambio 19.14)?  \n",
    "    Imagina que existen monedas en pesos y centavos"
   ]
  },
  {
   "cell_type": "code",
   "execution_count": 4,
   "metadata": {},
   "outputs": [
    {
     "name": "stdout",
     "output_type": "stream",
     "text": [
      "[1.7599999999999056, 11.139999999999745, 6.759999999999792, 17.639999999999787, 8.059999999999903, 8.119999999999749, 17.279999999999802, 6.799999999999756, 19.139999999999716, 9.879999999999711, 6.799999999999756, 7.379999999999782, 8.339999999999762, 14.55999999999986, 4.8199999999999505, 18.959999999999752, 2.379999999999896, 2.1799999999999358, 9.439999999999856, 8.819999999999723]\n"
     ]
    }
   ],
   "source": [
    "pesos=[3179,8605,7012,7176,3281,8468,6678,8237,9570,9733,8237,7338,8028,4723,1670,8364,3505,2165,4871,9330]\n",
    "tc=19.14\n",
    "b=[x%tc for x in list(pesos)]\n",
    "print(b)\n",
    "#respuesta correcta"
   ]
  },
  {
   "cell_type": "raw",
   "metadata": {},
   "source": [
    "2.d) (3 puntos) A continuación se muestra una lista con los gastos en dólares de cada cliente.\n",
    "    ¿cuántos dólares le quedan a cada uno?"
   ]
  },
  {
   "cell_type": "code",
   "execution_count": null,
   "metadata": {},
   "outputs": [],
   "source": [
    "montogastado = [26,41,35,38,48,41,30,25,33,37,29,47,37,46,20,31,16,32,24,32]\n"
   ]
  },
  {
   "cell_type": "code",
   "execution_count": 37,
   "metadata": {},
   "outputs": [
    {
     "name": "stdout",
     "output_type": "stream",
     "text": [
      "[140.0919540229885, 408.58202716823405, 331.3531870428422, 336.92163009404385, 123.42110762800417, 401.42424242424244, 318.9028213166144, 405.35527690700104, 467.0, 471.5161964472309, 401.35527690700104, 336.38557993730404, 382.435736677116, 200.760710553814, 67.25182863113898, 405.99059561128524, 167.12434691745037, 81.11389759665622, 230.4932079414838, 455.4608150470219]\n"
     ]
    }
   ],
   "source": [
    "montogastado = [26,41,35,38,48,41,30,25,33,37,29,47,37,46,20,31,16,32,24,32]\n",
    "gastos=[a-b for a,b in zip(dolares,montogastado) ]\n",
    "print(gastos)"
   ]
  }
 ],
 "metadata": {
  "kernelspec": {
   "display_name": "Python 3",
   "language": "python",
   "name": "python3"
  },
  "language_info": {
   "codemirror_mode": {
    "name": "ipython",
    "version": 3
   },
   "file_extension": ".py",
   "mimetype": "text/x-python",
   "name": "python",
   "nbconvert_exporter": "python",
   "pygments_lexer": "ipython3",
   "version": "3.7.1"
  }
 },
 "nbformat": 4,
 "nbformat_minor": 2
}
