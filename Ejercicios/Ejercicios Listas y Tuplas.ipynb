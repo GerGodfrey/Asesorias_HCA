{
 "cells": [
  {
   "cell_type": "markdown",
   "metadata": {},
   "source": [
    "### Ejercicio 1\n",
    "Para las secuencias numéricas sugeridas a continuación, genere listas de **40 valores** y asígne un nombre o identificador a cada una.  Los valores deben mostrarse en notación entera o decimal, según sea el caso.\n",
    "#### a) 2,4,6,8,...,78,80\n",
    "#### b) 3,5,7,9,11,13,...\n",
    "#### c) 0.25, 0.5, 0.75, 1.0, 1.25, 1.5,...\n",
    "#### d) 1, 4, 9, 16, 25, 36,...\n",
    "#### e) 1, 2, 4, 8, 16, 32,...\n",
    "#### f)  1, -2, 4, -8, 16, -32,...\n",
    "#### g) 0.25, 1.25, 6.25, 31.25, 156.25, 781.25,..."
   ]
  },
  {
   "cell_type": "code",
   "execution_count": 15,
   "metadata": {},
   "outputs": [
    {
     "name": "stdout",
     "output_type": "stream",
     "text": [
      "[0, 1, 2, 3, 4, 5, 6, 7, 8, 9, 10, 11, 12, 13, 14, 15, 16, 17, 18, 19, 20, 21, 22, 23, 24, 25, 26, 27, 28, 29, 30, 31, 32, 33, 34, 35, 36, 37, 38, 39]\n"
     ]
    }
   ],
   "source": [
    "Listauno=list(range(0,40))\n",
    "print(Listauno)\n",
    "var1 = [ (2**x) * ((-1)**x) for x in  Listauno ]\n",
    " "
   ]
  },
  {
   "cell_type": "code",
   "execution_count": 2,
   "metadata": {},
   "outputs": [
    {
     "name": "stdout",
     "output_type": "stream",
     "text": [
      "[2, 4, 6, 8, 10, 12, 14, 16, 18, 20, 22, 24, 26, 28, 30, 32, 34, 36, 38, 40, 42, 44, 46, 48, 50, 52, 54, 56, 58, 60, 62, 64, 66, 68, 70, 72, 74, 76, 78, 80]\n",
      "-------------------------------------\n",
      "[3, 5, 7, 9, 11, 13, 15, 17, 19, 21, 23, 25, 27, 29, 31, 33, 35, 37, 39, 41, 43, 45, 47, 49, 51, 53, 55, 57, 59, 61, 63, 65, 67, 69, 71, 73, 75, 77, 79, 81]\n",
      "-------------------------------------\n",
      "[0.0, 0.25, 0.5, 0.75, 1.0, 1.25, 1.5, 1.75, 2.0, 2.25, 2.5, 2.75, 3.0, 3.25, 3.5, 3.75, 4.0, 4.25, 4.5, 4.75, 5.0, 5.25, 5.5, 5.75, 6.0, 6.25, 6.5, 6.75, 7.0, 7.25, 7.5, 7.75, 8.0, 8.25, 8.5, 8.75, 9.0, 9.25, 9.5, 9.75]\n",
      "-------------------------------------\n",
      "[1, 4, 9, 16, 25, 36, 49, 64, 81, 100, 121, 144, 169, 196, 225, 256, 289, 324, 361, 400, 441, 484, 529, 576, 625, 676, 729, 784, 841, 900, 961, 1024, 1089, 1156, 1225, 1296, 1369, 1444, 1521]\n",
      "-------------------------------------\n",
      "[1, 2, 4, 8, 16, 32, 64, 128, 256, 512, 1024, 2048, 4096, 8192, 16384, 32768, 65536, 131072, 262144, 524288, 1048576, 2097152, 4194304, 8388608, 16777216, 33554432, 67108864, 134217728, 268435456, 536870912, 1073741824, 2147483648, 4294967296, 8589934592, 17179869184, 34359738368, 68719476736, 137438953472, 274877906944, 549755813888]\n",
      "-------------------------------------\n",
      "[1, -2, 4, -8, 16, -32, 64, -128, 256, -512, 1024, -2048, 4096, -8192, 16384, -32768, 65536, -131072, 262144, -524288, 1048576, -2097152, 4194304, -8388608, 16777216, -33554432, 67108864, -134217728, 268435456, -536870912, 1073741824, -2147483648, 4294967296, -8589934592, 17179869184, -34359738368, 68719476736, -137438953472, 274877906944, -549755813888]\n",
      "-------------------------------------\n",
      "[0.25, 1.25, 6.25, 31.25, 156.25, 781.25, 3906.25, 19531.25, 97656.25, 488281.25, 2441406.25]\n",
      "-------------------------------------\n"
     ]
    }
   ],
   "source": [
    "listaA  = list(range(2,82,2))\n",
    "print( listaA )\n",
    "print (\"-------------------------------------\")\n",
    "listaB  = list(range(3,83,2))\n",
    "print( listaB )\n",
    "print (\"-------------------------------------\")\n",
    "listaC = [x * .25 for x in list ( range(0,40)) ]\n",
    "print(listaC)\n",
    "print (\"-------------------------------------\")\n",
    "y= 3\n",
    "listaD  = [valor**2   for valor  in list(range(1,40,1)) ]\n",
    "print (listaD)\n",
    "print (\"-------------------------------------\")\n",
    "#EXPONENTE\n",
    "listaE  = [2**x   for x  in list(range(0,40)) ]\n",
    "print( listaE )\n",
    "print (\"-------------------------------------\")\n",
    "listaF = [ (2**x) * ((-1)**x)  for x  in list(range(0,40)) ]\n",
    "print (listaF)\n",
    "print (\"-------------------------------------\")\n",
    "listaG  = [(5**x)/4   for x  in list(range(0,11,1)) ]\n",
    "print(listaG)\n",
    "print (\"-------------------------------------\")"
   ]
  },
  {
   "cell_type": "markdown",
   "metadata": {},
   "source": [
    "Escribe la cantidad de elementos de la pregunta **g**"
   ]
  },
  {
   "cell_type": "code",
   "execution_count": 4,
   "metadata": {},
   "outputs": [
    {
     "data": {
      "text/plain": [
       "11"
      ]
     },
     "execution_count": 4,
     "metadata": {},
     "output_type": "execute_result"
    }
   ],
   "source": [
    "len(listaG)"
   ]
  },
  {
   "cell_type": "markdown",
   "metadata": {},
   "source": [
    "### ejercicio 2\n",
    "Calcula el promedio aritmético de la siguiente lista de *n* números, a partir de la suma de los valores y la división entre la cantidad de ellos:\n",
    "12.5, 14.3, 56.7, 28.1, 18.0, 25.6, 33.0, 11.0, 2.5, 39.7, 3.0, 28.1, 14.2, 11.3  \n",
    "$$\\frac{1}{n}\\sum_{i=1}^{n} valor_i$$"
   ]
  },
  {
   "cell_type": "code",
   "execution_count": 5,
   "metadata": {},
   "outputs": [],
   "source": [
    "datos_2= [12.5, 14.3, 56.7, 28.1, 18.0, 25.6, 33.0, 11.0, 2.5, 39.7, 3.0, 28.1, 14.2, 11.3]"
   ]
  },
  {
   "cell_type": "code",
   "execution_count": 6,
   "metadata": {},
   "outputs": [
    {
     "name": "stdout",
     "output_type": "stream",
     "text": [
      "298.0\n",
      "14\n",
      "21.285714285714285\n"
     ]
    }
   ],
   "source": [
    "# hace la suma de los elementos de la lista\n",
    "print( sum(datos_2) )\n",
    "\n",
    "# cuenta la cantidad de elementos de la lista\n",
    "print( len(datos_2) ) \n",
    "\n",
    "print (sum(datos_2) / len(datos_2) )"
   ]
  },
  {
   "cell_type": "code",
   "execution_count": 7,
   "metadata": {},
   "outputs": [
    {
     "name": "stdout",
     "output_type": "stream",
     "text": [
      "Using matplotlib backend: Qt5Agg\n",
      "Populating the interactive namespace from numpy and matplotlib\n"
     ]
    },
    {
     "data": {
      "text/plain": [
       "21.285714285714285"
      ]
     },
     "execution_count": 7,
     "metadata": {},
     "output_type": "execute_result"
    }
   ],
   "source": [
    "# carga la libreria para hacerlo más rápido\n",
    "%pylab\n",
    "mean(datos_2)"
   ]
  },
  {
   "cell_type": "markdown",
   "metadata": {},
   "source": [
    "### ejercicio 3\n",
    "Los precios en pesos mexicanos del tipo de cambio del dólar americano (USD) para solventar obligaciones y publicados del 4 de enero de 2016 al 17 de enero de 2018 en los días hábiles bancarios se listan en la siguiente celda:  \n",
    "(El tipo de cambio FIX se determina a las 12:00 del día por el Banco de México y publicado en el Diario Oficial de la Federación el día hábil bancario inmediato siguiente al de su determinación:   http://www.banxico.org.mx/dyn/portal-mercado-cambiario/index.html)\n",
    "  \n",
    "a) A partir de los *n* valores listados, calcule el valor promedio del tipo de cambio (calculando la suma y dividiendo entre la cantidad de valores) y llámelo *media*:  \n",
    "$$media=\\frac{1}{n}\\sum_{i=1}^{n} tc_i$$\n",
    "b) Para conocer la dispersión de los valores, calcule la desviación estándar:\n",
    "* i) Primero, calculando la lista de los cuadrados de las diferencias del valor del tipo de cambio y su *media*;  \n",
    "\n",
    "* ii) Segundo, calculando la raíz cuadrada del promedio de los cuadrados calculados en i): \n",
    "\n",
    "$$\\sqrt{\\frac{1}{n}\\sum_{i=1}^{n} (tc_i-media)^{2}}$$"
   ]
  },
  {
   "cell_type": "code",
   "execution_count": 8,
   "metadata": {},
   "outputs": [
    {
     "name": "stdout",
     "output_type": "stream",
     "text": [
      "[17.2487, 17.3529, 17.3456, 17.4411, 17.6568, 17.9283, 17.9304, 17.9119, 17.85, 17.9121, 18.2108, 18.2327, 18.1947, 18.608, 18.5084, 18.428, 18.5352, 18.4715, 18.453, 18.2906, 18.1935, 18.4902, 18.4537, 18.1891, 18.3748, 18.6959, 18.7818, 18.8089, 19.1754, 19.0392, 18.8471, 18.8148, 18.3895, 18.1439, 18.2762, 18.0568, 18.1948, 18.2893, 18.168, 18.1706, 18.102, 17.9432, 17.8561, 17.8971, 17.7723, 17.7526, 17.9044, 17.7523, 17.8601, 17.7002, 17.7691, 17.926, 17.9308, 17.4034, 17.2995, 17.3361, 17.5273, 17.461, 17.4015, 17.2509, 17.237, 17.3338, 17.4484, 17.7252, 17.7286, 17.893, 17.7391, 17.6452, 17.5719, 17.49, 17.388, 17.5669, 17.4598, 17.2825, 17.3078, 17.4202, 17.4359, 17.5866, 17.4298, 17.3993, 17.2125, 17.1767, 17.2279, 17.5234, 17.7358, 17.7866, 17.9204, 18.1033, 18.0205, 17.9549, 17.9915, 18.1562, 18.1795, 18.3217, 18.3761, 18.5465, 18.3826, 18.4444, 18.4694, 18.452, 18.4572, 18.4527, 18.4777, 18.4118, 18.5299, 18.6097, 18.6283, 18.5889, 18.5067, 18.1491, 18.2742, 18.5046, 18.7915, 18.9814, 18.8672, 18.9968, 18.8527, 18.6559, 18.6444, 18.5325, 18.3207, 18.8716, 19.1283, 18.9113, 18.555, 18.4646, 18.309, 18.3858, 18.7536, 18.8161, 18.8607, 18.5991, 18.4597, 18.3006, 18.3937, 18.3061, 18.492, 18.4879, 18.5719, 18.5729, 18.6022, 18.6089, 18.7569, 18.8114, 18.8602, 18.8979, 18.7837, 18.8504, 18.8966, 18.9117, 18.8612, 18.8691, 18.5716, 18.3842, 18.3479, 18.2678, 18.2455, 18.0363, 17.9869, 18.2598, 18.0832, 18.2674, 18.3023, 18.3202, 18.4971, 18.446, 18.283, 18.5773, 18.7953, 18.8611, 18.8523, 18.6589, 18.5581, 18.3524, 18.3689, 18.5427, 18.8451, 19.0646, 19.152, 19.2275, 19.2514, 19.6097, 19.777, 19.8394, 19.5965, 19.7211, 19.8322, 19.5044, 19.5002, 19.4086, 19.3776, 19.3211, 19.2138, 19.2554, 19.2433, 19.2994, 18.8786, 18.9531, 18.9622, 19.0399, 19.0046, 18.8723, 18.6726, 18.5894, 18.5945, 18.6481, 18.5658, 18.5147, 18.6485, 18.8443, 18.7304, 18.8887, 19.1306, 19.2014, 19.0792, 18.6192, 18.5089, 19.925, 20.4812, 21.0511, 20.8729, 20.349, 20.2884, 20.1898, 20.4193, 20.5205, 20.6901, 20.7051, 20.6475, 20.5521, 20.6225, 20.5155, 20.7488, 20.6149, 20.5927, 20.3863, 20.2967, 20.4162, 20.3305, 20.2567, 20.2226, 20.5973, 20.428, 20.4098, 20.43, 20.4921, 20.7179, 20.6271, 20.6445, 20.7052, 20.7314, 20.664, 20.6194, 20.7323, 20.852, 21.3799, 21.3661, 21.3144, 21.3219, 21.6168, 21.9076, 21.7204]\n"
     ]
    }
   ],
   "source": [
    "tipoUSD=[17.2487,17.3529,17.3456,17.4411,17.6568,17.9283,17.9304,17.9119,17.85,17.9121,18.2108,18.2327,18.1947,18.608,18.5084,18.428,18.5352,18.4715,18.453,18.2906,18.1935,18.4902,18.4537,18.1891,18.3748,18.6959,18.7818,18.8089,19.1754,19.0392,18.8471,18.8148,18.3895,18.1439,18.2762,18.0568,18.1948,18.2893,18.168,18.1706,18.102,17.9432,17.8561,17.8971,17.7723,17.7526,17.9044,17.7523,17.8601,17.7002,17.7691,17.926,17.9308,17.4034,17.2995,17.3361,17.5273,17.461,17.4015,17.2509,17.237,17.3338,17.4484,17.7252,17.7286,17.893,17.7391,17.6452,17.5719,17.49,17.388,17.5669,17.4598,17.2825,17.3078,17.4202,17.4359,17.5866,17.4298,17.3993,17.2125,17.1767,17.2279,17.5234,17.7358,17.7866,17.9204,18.1033,18.0205,17.9549,17.9915,18.1562,18.1795,18.3217,18.3761,18.5465,18.3826,18.4444,18.4694,18.452,18.4572,18.4527,18.4777,18.4118,18.5299,18.6097,18.6283,18.5889,18.5067,18.1491,18.2742,18.5046,18.7915,18.9814,18.8672,18.9968,18.8527,18.6559,18.6444,18.5325,18.3207,18.8716,19.1283,18.9113,18.555,18.4646,18.309,18.3858,18.7536,18.8161,18.8607,18.5991,18.4597,18.3006,18.3937,18.3061,18.492,18.4879,18.5719,18.5729,18.6022,18.6089,18.7569,18.8114,18.8602,18.8979,18.7837,18.8504,18.8966,18.9117,18.8612,18.8691,18.5716,18.3842,18.3479,18.2678,18.2455,18.0363,17.9869,18.2598,18.0832,18.2674,18.3023,18.3202,18.4971,18.446,18.283,18.5773,18.7953,18.8611,18.8523,18.6589,18.5581,18.3524,18.3689,18.5427,18.8451,19.0646,19.152,19.2275,19.2514,19.6097,19.777,19.8394,19.5965,19.7211,19.8322,19.5044,19.5002,19.4086,19.3776,19.3211,19.2138,19.2554,19.2433,19.2994,18.8786,18.9531,18.9622,19.0399,19.0046,18.8723,18.6726,18.5894,18.5945,18.6481,18.5658,18.5147,18.6485,18.8443,18.7304,18.8887,19.1306,19.2014,19.0792,18.6192,18.5089,19.925,20.4812,21.0511,20.8729,20.349,20.2884,20.1898,20.4193,20.5205,20.6901,20.7051,20.6475,20.5521,20.6225,20.5155,20.7488,20.6149,20.5927,20.3863,20.2967,20.4162,20.3305,20.2567,20.2226,20.5973,20.428,20.4098,20.43,20.4921,20.7179,20.6271,20.6445,20.7052,20.7314,20.664,20.6194,20.7323,20.852,21.3799,21.3661,21.3144,21.3219,21.6168,21.9076,21.7204]\n",
    "print(tipoUSD)"
   ]
  },
  {
   "cell_type": "code",
   "execution_count": 9,
   "metadata": {},
   "outputs": [
    {
     "name": "stdout",
     "output_type": "stream",
     "text": [
      "Using matplotlib backend: Qt5Agg\n",
      "Populating the interactive namespace from numpy and matplotlib\n",
      "18.774778625954198\n"
     ]
    }
   ],
   "source": [
    "%pylab\n",
    "media = mean(tipoUSD)\n",
    "print( media )"
   ]
  },
  {
   "cell_type": "code",
   "execution_count": 11,
   "metadata": {},
   "outputs": [
    {
     "name": "stdout",
     "output_type": "stream",
     "text": [
      "18.774778625954198\n",
      "1.0386061094252799\n"
     ]
    }
   ],
   "source": [
    "# en varios pasos\n",
    "\n",
    "suma = sum(tipoUSD)\n",
    "n = len(tipoUSD)\n",
    "media = suma / n\n",
    "\n",
    "print( media )\n",
    "\n",
    "#1\n",
    "terminos = [(tc-media)**2 for tc in tipoUSD]\n",
    "#2\n",
    "varianzaPasos = sqrt( sum(terminos) / n )\n",
    "print( varianzaPasos )"
   ]
  },
  {
   "cell_type": "code",
   "execution_count": 12,
   "metadata": {},
   "outputs": [
    {
     "name": "stdout",
     "output_type": "stream",
     "text": [
      "1.0386061094252799\n"
     ]
    }
   ],
   "source": [
    "varianzaUnPaso = sqrt( sum([(tc-media)**2for tc in tipoUSD]) / len(tipoUSD) )\n",
    "print( varianzaUnPaso )"
   ]
  },
  {
   "cell_type": "markdown",
   "metadata": {},
   "source": [
    "### ejercicio 4\n",
    "Se dice que en el siglo VI a.c., el inventor del juego de ajedrez ofreció a su monarca este juego y como recompensa le pidió los granos de trigo que resultaran de la siguiente prescripción: un grano por la primera casilla del tablero, dos granos por la segunda casilla, cuatro granos por la tercera casilla, ocho granos por la cuarta, dieciséis granos por la quinta, y así sucesivamente hasta terminar con la casilla número 64 (el tablero del juego de ajedrez tiene 64 casillas). Observando que el número de granos pedidos por una casilla, a partir de la segunda, es igual al doble de los granos pedidos por la casilla anterior. El monarca, un poco molesto por lo que le pareció una cantidad insignificante de granos que el inventor solicitaba, pidió a sus calculistas determinaran la cantidad total de granos de trigo, se trajera ésta de los graneros del reino y de inmediato se le entregara al inventor.  \n",
    "\n",
    "a) Calcule la cantidad total de granos de trigo que el inventor del ajedrez de la historia\n",
    "solicitó a su monarca. (Después de algunas semanas los calculistas reconocieron que lo que\n",
    "pedía el inventor rebasaba los recursos del reino.) \n",
    "\n",
    "b) Si la producción mundial anual en granos de trigo es:  \n",
    "$$2.377 \\cdot 10^{16}$$\n",
    "determine cuántos años de producción mundial son nevesario para obteher la cantidad obtenida\n",
    "en a).  "
   ]
  },
  {
   "cell_type": "code",
   "execution_count": 13,
   "metadata": {},
   "outputs": [
    {
     "name": "stdout",
     "output_type": "stream",
     "text": [
      "1.8446744073709552e+19\n"
     ]
    }
   ],
   "source": [
    "lista = [2**x for x in list (range(0,64))]\n",
    "total_granos = sum(lista)\n",
    "print (total_granos)"
   ]
  },
  {
   "cell_type": "code",
   "execution_count": 14,
   "metadata": {},
   "outputs": [
    {
     "name": "stdout",
     "output_type": "stream",
     "text": [
      "Los años totales son 776.0514965801243\n"
     ]
    }
   ],
   "source": [
    "p_t = 2.377 * 10 **16\n",
    "a_t = total_granos / p_t\n",
    "print ('Los años totales son {}' .format(a_t))"
   ]
  },
  {
   "cell_type": "markdown",
   "metadata": {},
   "source": [
    "### ejercicio 5\n",
    "Genere exactamente 50 elementos de la sucesión sugerida:\n",
    "\n",
    "#### 1, 7, 19, 37, 61, 91, 127, 169, 217, 271,... \n",
    "\n",
    "a partir de las diferencias entre dos enteros consecutivos elevados al cubo*, es decir:\n",
    "- 1 es (1-0),\n",
    "- 7 es (8-1), \n",
    "- 19 es (27-8), \n",
    "- 37 es (64-27), \n",
    "- 61 es (125-64), etc.\n",
    "\n",
    "*Note que de las diferencias entre dos enteros elevados al cuadrado (0,1,4,9,16,25,36,...) resultan los números impares (1,3,5,7,9,11,...), y que esto se puede ilustrar con una construcción geométrica de cuadrados de lado entero e inscritos sucesivamente con un vértice en común. Esta construcción puede extenderse a cubos de lado entero para dar lugar a la sucesión requerida."
   ]
  },
  {
   "cell_type": "code",
   "execution_count": 17,
   "metadata": {},
   "outputs": [
    {
     "name": "stdout",
     "output_type": "stream",
     "text": [
      "[1, 7, 19, 37, 61, 91, 127, 169, 217, 271, 331, 397, 469, 547, 631, 721, 817, 919, 1027, 1141, 1261, 1387, 1519, 1657, 1801, 1951, 2107, 2269, 2437, 2611, 2791, 2977, 3169, 3367, 3571, 3781, 3997, 4219, 4447, 4681, 4921, 5167, 5419, 5677, 5941, 6211, 6487, 6769, 7057, 7351]\n"
     ]
    },
    {
     "data": {
      "text/plain": [
       "50"
      ]
     },
     "execution_count": 17,
     "metadata": {},
     "output_type": "execute_result"
    }
   ],
   "source": [
    "lista  = [x**3 - (x-1)**3 for x in list (range (1, 51))]\n",
    "print (lista)\n",
    "len (lista)"
   ]
  },
  {
   "cell_type": "markdown",
   "metadata": {},
   "source": [
    "### ejercicio 6\n",
    "a) Se tienen dos listas, en la primera de ellas se guardan las calificaciones de 5 trabajos de un estudiante, [5,9,7,10,6]; en la segunda se guardan las ponderaciones correspondientes a cada uno de los trabajos de la primera lista (esto es qué porcentaje vale cada trabajo al calcular la calificación final), [0.20,0.10,0.10,0.30,0.30].  \n",
    "Se le pide obtener la calificación final del estudiante según un promedio ponderado: multiplicando cada calificación por el peso correspondiente y sumando los productos obtenidos.\n",
    "\n",
    "b) ¿Cuál es el promedio aritmético de la siguiente lista [5, 5, 9, 7, 10, 10, 10, 6, 6, 6]?  \n",
    "¿coincide con el promedio obtenido en a)? ¿por qué?"
   ]
  },
  {
   "cell_type": "code",
   "execution_count": 18,
   "metadata": {},
   "outputs": [
    {
     "name": "stdout",
     "output_type": "stream",
     "text": [
      "7.3999999999999995\n"
     ]
    }
   ],
   "source": [
    "cal = [5,9,7,10,6]\n",
    "por = [.20,.10,.10,.30,.30]\n",
    "\n",
    "lista_multi = [a*b for a,b in zip(cal, por)]\n",
    "tot = sum ( lista_multi)\n",
    "print (tot)"
   ]
  },
  {
   "cell_type": "code",
   "execution_count": 19,
   "metadata": {},
   "outputs": [
    {
     "name": "stdout",
     "output_type": "stream",
     "text": [
      "7.4\n"
     ]
    }
   ],
   "source": [
    "cal_todos = [5, 5, 9, 7, 10, 10, 10, 6, 6, 6]\n",
    "t = len ( cal_todos)\n",
    "suma = sum (cal_todos)\n",
    "promedio = suma / t\n",
    "print (promedio)"
   ]
  },
  {
   "cell_type": "markdown",
   "metadata": {},
   "source": [
    "### ejercicio 7\n",
    "Se tiene una lista de productos que compró Pedro en el mercado:\n",
    "\n",
    "['peras', 'naranjas', 'papaya', 'ciruelas', 'manzanas', 'chicozapotes', 'uvas', 'mandarinas'];\n",
    "\n",
    "los precios correspondientes por kilogramo, según el orden dado en la lista de productos, son:\n",
    "\n",
    "[31.50, 8.50, 15.40, 25.30, 18.80, 32.20, 21.40, 6.50];\n",
    "\n",
    "y la cantidad de kilogramos de cada producto compredo, según el orden dado en las listas dadas:\n",
    "\n",
    "[1, 3, 3.50, 0, 2, 2, 1.5, 0].\n",
    "\n",
    "¿Cuánto debe pagar el cliente en total?"
   ]
  },
  {
   "cell_type": "code",
   "execution_count": 20,
   "metadata": {},
   "outputs": [
    {
     "data": {
      "text/plain": [
       "245.0"
      ]
     },
     "execution_count": 20,
     "metadata": {},
     "output_type": "execute_result"
    }
   ],
   "source": [
    "prec = [31.50, 8.50, 15.40, 25.30, 18.80, 32.20, 21.40, 6.50]\n",
    "cant = [1, 3, 3.50, 0, 2, 2, 1.5, 0]\n",
    "\n",
    "sum( [prec[i] * cant[i] for i in  list( range(0,len(prec)) )]  )\n"
   ]
  },
  {
   "cell_type": "code",
   "execution_count": null,
   "metadata": {},
   "outputs": [],
   "source": []
  }
 ],
 "metadata": {
  "kernelspec": {
   "display_name": "Python 3",
   "language": "python",
   "name": "python3"
  },
  "language_info": {
   "codemirror_mode": {
    "name": "ipython",
    "version": 3
   },
   "file_extension": ".py",
   "mimetype": "text/x-python",
   "name": "python",
   "nbconvert_exporter": "python",
   "pygments_lexer": "ipython3",
   "version": "3.7.3"
  }
 },
 "nbformat": 4,
 "nbformat_minor": 2
}
