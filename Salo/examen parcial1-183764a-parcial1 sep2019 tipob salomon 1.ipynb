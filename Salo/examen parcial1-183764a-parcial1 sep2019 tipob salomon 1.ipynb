{
 "cells": [
  {
   "cell_type": "markdown",
   "metadata": {},
   "source": [
    "# Herramientas Computacionales y Algoritmos  Primer Examen Parcial\n",
    "## Miércoles 25 de septiembre de 2019                                     Tipo B"
   ]
  },
  {
   "cell_type": "markdown",
   "metadata": {},
   "source": [
    "#### Nombre:    "
   ]
  },
  {
   "cell_type": "markdown",
   "metadata": {},
   "source": [
    "#### Clave unica:"
   ]
  },
  {
   "cell_type": "markdown",
   "metadata": {},
   "source": [
    "#### Máquina número:"
   ]
  },
  {
   "cell_type": "markdown",
   "metadata": {},
   "source": [
    "Indicaciones:  \n",
    "\n",
    "    Copia el archivo de Python en una carpeta en tu disco local.\n",
    "    Lee cuidadosamente el enunciado de los problemas antes de contestar. Guarda periódicamente tu trabajo.  \n",
    "    Utiliza las instrucciones de Python necesarias para resolver cada problema.  \n",
    "    Envía por Comunidad ITAM el examen resuelto.  \n",
    "    Recuerda utilizar la pestaña EXAMEN.  "
   ]
  },
  {
   "cell_type": "markdown",
   "metadata": {},
   "source": [
    "## Pregunta 1 (2.5 pts.)"
   ]
  },
  {
   "cell_type": "markdown",
   "metadata": {},
   "source": [
    "Una Escuela de Computación necesita que le ayudes a calcular lo que tiene que pagar un alumno por cada semestre.  \n",
    "Para ello te pide que realices una función (def) que tenga como parámetros, el tipo de alumno (Nacional o Extranjero) y el número de créditos que está cursando, y que regrese la cantidad que tiene que pagar el alumno.  \n",
    "El criterio que se sigue para calcular el costo del semestre es el siguiente:  \n",
    "\n",
    "Si el alumno es Nacional, solamente tendrá que pagar el costo por crédito (que es de 2,610.00) multiplicado por el número de créditos que lleva el alumno.  \n",
    "\n",
    "Si se trata de un alumno extranjero, al costo anterior, se le tendrá que añadir un monto de 5,000.00 pesos por seguro de gastos médicos.  \n"
   ]
  },
  {
   "cell_type": "code",
   "execution_count": 56,
   "metadata": {},
   "outputs": [
    {
     "name": "stdout",
     "output_type": "stream",
     "text": [
      "Dame tu credito5\n",
      "Dame tu nacionalidadmexicana\n"
     ]
    }
   ],
   "source": [
    "credito=2610\n",
    "numcredito=int(input(\"Dame tu credito\"))\n",
    "nacionalidad=str(input(\"Dame tu nacionalidad\"))\n"
   ]
  },
  {
   "cell_type": "code",
   "execution_count": 54,
   "metadata": {},
   "outputs": [],
   "source": [
    "def colegiatura (x,y):\n",
    "    if nacionalidad==\"mexicana\":\n",
    "        total=credito*numcredito\n",
    "    elif nacionalidad==\"extranjera\":\n",
    "            total=credito*numcredito+5000\n",
    "    \n",
    "    return total"
   ]
  },
  {
   "cell_type": "code",
   "execution_count": 55,
   "metadata": {},
   "outputs": [
    {
     "name": "stdout",
     "output_type": "stream",
     "text": [
      "Dame tu credito5\n",
      "Dame tu nacionalidadmexicana\n"
     ]
    }
   ],
   "source": []
  },
  {
   "cell_type": "markdown",
   "metadata": {},
   "source": [
    "## Pregunta 2 (1.5 pts.)"
   ]
  },
  {
   "cell_type": "markdown",
   "metadata": {},
   "source": [
    "Se sabe que para cubrir un jardín de 2 metros de largo se necesitan 6 rollos de alambre. En un proyecto se requiere cubrir un jardín que tiene 25 metros de largo.\n",
    "\n",
    "¿Cuántos rollos de alambre necesitaremos?  \n",
    "Utiliza variables para indicar el planteamiento y solución.\n"
   ]
  },
  {
   "cell_type": "code",
   "execution_count": 1,
   "metadata": {},
   "outputs": [],
   "source": [
    "dosmetros=6\n",
    "unmetro=dosmetros/2\n",
    "jardin=25"
   ]
  },
  {
   "cell_type": "code",
   "execution_count": 2,
   "metadata": {},
   "outputs": [],
   "source": [
    "totaljardin=jardin/unmetro"
   ]
  },
  {
   "cell_type": "code",
   "execution_count": 3,
   "metadata": {},
   "outputs": [
    {
     "name": "stdout",
     "output_type": "stream",
     "text": [
      "8.333333333333334 rollos necesarios ara la alberca\n"
     ]
    }
   ],
   "source": [
    "print((totaljardin), \"rollos necesarios ara la alberca\")"
   ]
  },
  {
   "cell_type": "markdown",
   "metadata": {},
   "source": [
    "## Pregunta 3 (1.5 pts.)"
   ]
  },
  {
   "cell_type": "markdown",
   "metadata": {},
   "source": [
    "En un trayecto por varios sitios turísticos del Norte del país, un auto que va a 75 Km/hr., tarda 2 horas 20 min., en hacer su recorrido, cuanto tardará otro auto que hace exactamente el mismo recorrido pero a una velocidad de 110 Km/hr.?\n",
    "\n",
    "No olvides utilizar variables para representar tu información."
   ]
  },
  {
   "cell_type": "code",
   "execution_count": 46,
   "metadata": {},
   "outputs": [],
   "source": [
    "velocidad1=75\n",
    "velocidad2=110\n",
    "tiempo1=140\n"
   ]
  },
  {
   "cell_type": "code",
   "execution_count": 49,
   "metadata": {},
   "outputs": [
    {
     "name": "stdout",
     "output_type": "stream",
     "text": [
      "58.92857142857143\n"
     ]
    }
   ],
   "source": [
    "tiempo2=velocidad2*velocidad1/tiempo1\n",
    "print(tiempo2)"
   ]
  },
  {
   "cell_type": "code",
   "execution_count": 50,
   "metadata": {},
   "outputs": [
    {
     "name": "stdout",
     "output_type": "stream",
     "text": [
      "58.92857142857143\n"
     ]
    }
   ],
   "source": []
  },
  {
   "cell_type": "markdown",
   "metadata": {},
   "source": [
    "## Pregunta 4 (2.5 pts.)"
   ]
  },
  {
   "cell_type": "markdown",
   "metadata": {},
   "source": [
    "Una empresa que se dedica a reparar smartphones tiene en su catálogo de servicios el siguiente registro de marcas de celular:\n",
    "\n",
    "Marcas=['Iphone','Samsung','Sony','LG','Huawei',Motorola','Lenovo','Nokia','ZTE','Oppo']\n",
    "\n",
    "Y se tiene el número de reparaciones de cada marca:\n",
    "\n",
    "cantidad=[17,2,43,14,10,17,21,8,15,27]\n",
    "\n",
    "La siguiente lista muestra el costo de cada reparación según la marca correspondiente:\n",
    "\n",
    "costo=[4900,9800,2700,987,3700,856,452,560,1347,2680]\n",
    "\n",
    "a) Genera una nueva lista con las ganancias obtenidas de cada una de las marcas (Las ganancias se obtienen multiplicando el costo por la cantidad).  \n",
    "\n",
    "Nota: recuerda que puedes crear una lista vacía con: lista=[]\n"
   ]
  },
  {
   "cell_type": "code",
   "execution_count": 7,
   "metadata": {},
   "outputs": [],
   "source": [
    "marcas=[\"iphone\",\"samsung\",\"sony\",\"lg\",\"huawei\",\"motorola\",\"lenovo\",\"nokia\",\"zte\",\"oppo\"]\n",
    "cantidad=[17,2,43,14,10,17,21,8,15,27]\n",
    "costo=[4900,9800,2700,987,3700,856,452,560,1347,2680]"
   ]
  },
  {
   "cell_type": "code",
   "execution_count": 13,
   "metadata": {},
   "outputs": [],
   "source": [
    "A=[cantidad[x]*costo[x]for x in range(0,10,1)]"
   ]
  },
  {
   "cell_type": "code",
   "execution_count": 14,
   "metadata": {},
   "outputs": [
    {
     "name": "stdout",
     "output_type": "stream",
     "text": [
      "[83300, 19600, 116100, 13818, 37000, 14552, 9492, 4480, 20205, 72360]\n"
     ]
    }
   ],
   "source": [
    "print(A)"
   ]
  },
  {
   "cell_type": "markdown",
   "metadata": {},
   "source": [
    "b) Escribe cuál fue la ganancia promedio de todas las marcas que maneja la empresa. Escribe tu respuesta utilizando un letrero adecuado y el número con 3 decimales."
   ]
  },
  {
   "cell_type": "code",
   "execution_count": 15,
   "metadata": {},
   "outputs": [],
   "source": [
    "import math"
   ]
  },
  {
   "cell_type": "code",
   "execution_count": 21,
   "metadata": {},
   "outputs": [
    {
     "data": {
      "text/plain": [
       "390907"
      ]
     },
     "execution_count": 21,
     "metadata": {},
     "output_type": "execute_result"
    }
   ],
   "source": [
    "sum(A)"
   ]
  },
  {
   "cell_type": "code",
   "execution_count": 22,
   "metadata": {},
   "outputs": [],
   "source": [
    "promedio=sum(A)/10"
   ]
  },
  {
   "cell_type": "code",
   "execution_count": 23,
   "metadata": {},
   "outputs": [
    {
     "name": "stdout",
     "output_type": "stream",
     "text": [
      "39090.7\n"
     ]
    }
   ],
   "source": [
    "print(promedio)"
   ]
  },
  {
   "cell_type": "markdown",
   "metadata": {},
   "source": [
    "## Pregunta 5 (2.0 pts.)"
   ]
  },
  {
   "cell_type": "raw",
   "metadata": {},
   "source": [
    "Se te pide que realices un programa (no una función) que escriba una secuencia de números de acuerdo a los siguientes criterios:\n",
    "Tu programa deberá pedir un número y, mientras no se llegue a 1 realizar lo siguiente:  \n",
    "\n",
    "Si el número es par, deberá dividirse entre 2 y escribir este número.  \n",
    "\n",
    "Esto se deberá repetir hasta que el número sea 1.  \n",
    "\n",
    "Ejemplo: si el número es 23, deberá escribir:  \n",
    "11  5  2  1\n"
   ]
  },
  {
   "cell_type": "code",
   "execution_count": 42,
   "metadata": {},
   "outputs": [
    {
     "ename": "SyntaxError",
     "evalue": "invalid syntax (<ipython-input-42-0b4c1e79dae1>, line 2)",
     "output_type": "error",
     "traceback": [
      "\u001b[1;36m  File \u001b[1;32m\"<ipython-input-42-0b4c1e79dae1>\"\u001b[1;36m, line \u001b[1;32m2\u001b[0m\n\u001b[1;33m    if a>1 and %2==0:\u001b[0m\n\u001b[1;37m               ^\u001b[0m\n\u001b[1;31mSyntaxError\u001b[0m\u001b[1;31m:\u001b[0m invalid syntax\n"
     ]
    }
   ],
   "source": [
    "a=int(input(\"Dame un numero\"))\n",
    "if a>1 and %2==0:\n",
    "    resultado=a/2"
   ]
  },
  {
   "cell_type": "code",
   "execution_count": null,
   "metadata": {},
   "outputs": [],
   "source": []
  },
  {
   "cell_type": "code",
   "execution_count": null,
   "metadata": {},
   "outputs": [],
   "source": []
  },
  {
   "cell_type": "markdown",
   "metadata": {},
   "source": [
    "##  Suerte!!!"
   ]
  },
  {
   "cell_type": "code",
   "execution_count": null,
   "metadata": {},
   "outputs": [],
   "source": []
  }
 ],
 "metadata": {
  "kernelspec": {
   "display_name": "Python 3",
   "language": "python",
   "name": "python3"
  },
  "language_info": {
   "codemirror_mode": {
    "name": "ipython",
    "version": 3
   },
   "file_extension": ".py",
   "mimetype": "text/x-python",
   "name": "python",
   "nbconvert_exporter": "python",
   "pygments_lexer": "ipython3",
   "version": "3.7.3"
  }
 },
 "nbformat": 4,
 "nbformat_minor": 2
}
