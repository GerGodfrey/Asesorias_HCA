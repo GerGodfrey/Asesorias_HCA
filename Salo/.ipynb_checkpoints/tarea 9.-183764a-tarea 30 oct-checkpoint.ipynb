{
 "cells": [
  {
   "cell_type": "markdown",
   "metadata": {},
   "source": [
    "Salomon Romero 183764"
   ]
  },
  {
   "cell_type": "code",
   "execution_count": 10,
   "metadata": {},
   "outputs": [],
   "source": [
    "a=[3,8,23]\n",
    "b=[99,10,1]\n",
    "def ipc(a,b):\n",
    "    return [a[i]/b[i] for i in range (0,len(a))]\n"
   ]
  },
  {
   "cell_type": "code",
   "execution_count": 11,
   "metadata": {},
   "outputs": [
    {
     "data": {
      "text/plain": [
       "[0.030303030303030304, 0.8, 23.0]"
      ]
     },
     "execution_count": 11,
     "metadata": {},
     "output_type": "execute_result"
    }
   ],
   "source": [
    "ipc(a,b)"
   ]
  },
  {
   "cell_type": "code",
   "execution_count": 12,
   "metadata": {},
   "outputs": [],
   "source": [
    "def sumaipc (a,b):\n",
    "    return sum(ipc(a,b))\n",
    "\n",
    "    "
   ]
  },
  {
   "cell_type": "code",
   "execution_count": 13,
   "metadata": {},
   "outputs": [
    {
     "data": {
      "text/plain": [
       "23.830303030303032"
      ]
     },
     "execution_count": 13,
     "metadata": {},
     "output_type": "execute_result"
    }
   ],
   "source": [
    "sumaipc(a,b)"
   ]
  },
  {
   "cell_type": "code",
   "execution_count": 22,
   "metadata": {},
   "outputs": [],
   "source": [
    "def nicomaco(n):\n",
    "    aux=1\n",
    "    impar=1\n",
    "    while(aux<=n):\n",
    "        suma=0\n",
    "        cad=\"\"\n",
    "        for i in range(0,aux):\n",
    "            cad=cad+\"+\"+str(impar)\n",
    "            suma=suma+impar\n",
    "            impar=impar+2\n",
    "        cad=cad+\"=\"+str(aux)+\"^3=\"+str(suma)\n",
    "        aux=aux+1\n",
    "        print(cad)"
   ]
  },
  {
   "cell_type": "code",
   "execution_count": 23,
   "metadata": {},
   "outputs": [
    {
     "name": "stdout",
     "output_type": "stream",
     "text": [
      "+1=1^3=1\n",
      "+3+5=2^3=8\n",
      "+7+9+11=3^3=27\n",
      "+13+15+17+19=4^3=64\n",
      "+21+23+25+27+29=5^3=125\n"
     ]
    }
   ],
   "source": [
    "nicomaco(5)"
   ]
  },
  {
   "cell_type": "code",
   "execution_count": 27,
   "metadata": {},
   "outputs": [],
   "source": [
    "archivo=open(\"Sorjuana.txt\",\"r\")\n",
    "texto=archivo.read()"
   ]
  },
  {
   "cell_type": "code",
   "execution_count": 28,
   "metadata": {},
   "outputs": [
    {
     "name": "stdout",
     "output_type": "stream",
     "text": [
      "Amado dueño mío,\n",
      "Escucha un rato mis cansadas quejas,\n",
      "Pues del viento las fío,\n",
      "Que breve las conduzca a tus orejas,\n",
      "Si no se desvanece el triste acento\n",
      "Como mis esperanzas en el viento.\n",
      "\n",
      "Óyeme con los ojos,\n",
      "Ya que están tan distantes los oídos,\n",
      "Y de ausentes enojos\n",
      "En ecos de mi pluma mis gemidos;\n",
      "Y ya que a ti no llega mi voz ruda,\n",
      "Óyeme sordo, pues me quejo muda.\n",
      "\n",
      "Si del campo te agradas,\n",
      "Goza de sus frescuras venturosas\n",
      "Sin que aquestas cansadas\n",
      "Lágrimas te detengan enfadosas;\n",
      "Que en él verás, si atento te entretienes\n",
      "Ejemplo de mis males y mis bienes.\n",
      "\n",
      "Si al arroyo parlero\n",
      "Ves, galán de las flores en el prado,\n",
      "Que amante y lisonjero\n",
      "A cuantas mira intima su cuidado,\n",
      "En su corriente mi dolor te avisa\n",
      "Que a costa de mi llanto tiene risa.\n",
      "\n",
      "Si ves que triste llora\n",
      "Su esperanza marchita, en ramo verde,\n",
      "Tórtola gemidora,\n",
      "En él y en ella mi dolor te acuerde,\n",
      "Que imitan con verdor y con lamento,\n",
      "Él mi esperanza y ella mi tormento.\n",
      "\n",
      "Si la flor delicada,\n",
      "Si la peña, que altiva no consiente\n",
      "Del tiempo ser hollada,\n",
      "Ambas me imitan, aunque variamente,\n",
      "Ya con fragilidad, ya con dureza,\n",
      "Mi dicha aquélla y ésta mi firmeza.\n",
      "\n",
      "Si ves el ciervo herido\n",
      "Que baja por el monte, acelerado\n",
      "Buscando dolorido\n",
      "Alivio del mal en un arroyo helado,\n",
      "Y sediento al cristal se precipita,\n",
      "No en el alivio en el dolor me imita,\n",
      "\n",
      "Si la liebre encogida\n",
      "Huye medrosa de los galgos fieros,\n",
      "Y por salvar la vida\n",
      "No deja estampa de los pies ligeros,\n",
      "Tal mi esperanza en dudas y recelos\n",
      "Se ve acosa de villanos celos.\n",
      "\n",
      "Si ves el cielo claro,\n",
      "Tal es la sencillez del alma mía;\n",
      "Y si, de luz avaro,\n",
      "De tinieblas emboza el claro día,\n",
      "es con su oscuridad y su inclemencia,\n",
      "imagen de mi vida en esta ausencia.\n",
      "\n",
      "Así que, Fabio amado\n",
      "Saber puede mis males sin costarte\n",
      "La noticia cuidado,\n",
      "Pues puedes de los campos informarte;\n",
      "Y pues yo a todo mi dolor ajusto,\n",
      "Saber mi pena sin dejar tu gusto.\n",
      "\n",
      "Mas ¿cuándo ¡ay gloria mía!\n",
      "Mereceré gozar tu luz serena?\n",
      "¿Cuándo llegará el día\n",
      "que pongas dulce fin a tanta pena?\n",
      "¿Cuándo veré tus ojos, dulce encanto,\n",
      "y de los míos quitarás el llanto?\n",
      "\n",
      "¿Cuándo tu voz sonora\n",
      "herirá mis oídos delicada,\n",
      "y el alma que te adora,\n",
      "de inundación de gozos anegada,\n",
      "a recibirte con amante prisa\n",
      "saldrá a los ojos desatada en risa?\n",
      "\n",
      "¿Cuándo tu luz hermosa\n",
      "revestirá de gloria mis sentidos?\n",
      "Y ¿cuándo yo dichosa,\n",
      "mis suspiros daré por bien perdidos,\n",
      "teniendo en poco el precio de mi llanto?\n",
      "Que tanto ha de penar quien goza tanto.\n",
      "\n",
      "¿Cuándo de tu apacible\n",
      "rostro alegre veré el semblante afable,\n",
      "y aquel bien indecible\n",
      "a toda humana pluma inexplicable?\n",
      "Que mal se ceñirá a lo definido\n",
      "Lo que no cabe en todo lo sentido.\n",
      "\n",
      "Ven, pues, mi prenda amada,\n",
      "Que ya fallece mi cansada vida\n",
      "De esta ausencia pesada;\n",
      "Ven, pues, que mientras tarda tu venida,\n",
      "Aunque me cueste su verdor enojos,\n",
      "Regaré mi esperanza con mis ojos.\n"
     ]
    }
   ],
   "source": [
    "print(texto)"
   ]
  },
  {
   "cell_type": "code",
   "execution_count": 35,
   "metadata": {},
   "outputs": [],
   "source": [
    "listapoema=list(texto)\n",
    "conjpoema=set(listapoema)"
   ]
  },
  {
   "cell_type": "code",
   "execution_count": 36,
   "metadata": {},
   "outputs": [
    {
     "name": "stdout",
     "output_type": "stream",
     "text": [
      "{'l', 'e', 'o', 'p', 'N', 'H', '.', 'ñ', 'm', 'í', 'V', 'M', 'c', 'v', 'C', 't', ';', 'R', 'E', 'q', 'u', 'T', 'P', 'B', ',', 'b', '?', 'f', 'ó', 'j', 'd', 'x', '¡', 'n', 'g', '¿', 'Ó', 'L', 'h', 's', 'a', 'á', 'F', 'A', 'Y', 'É', 'S', '!', 'é', 'D', 'Q', 'G', ' ', '\\n', 'y', 'z', 'r', 'i'}\n"
     ]
    }
   ],
   "source": [
    "print(conjpoema)"
   ]
  },
  {
   "cell_type": "code",
   "execution_count": 37,
   "metadata": {},
   "outputs": [
    {
     "data": {
      "text/plain": [
       "58"
      ]
     },
     "execution_count": 37,
     "metadata": {},
     "output_type": "execute_result"
    }
   ],
   "source": [
    "len(conjpoema)"
   ]
  },
  {
   "cell_type": "code",
   "execution_count": 42,
   "metadata": {},
   "outputs": [
    {
     "data": {
      "text/plain": [
       "[253, 285, 145, 181, 94]"
      ]
     },
     "execution_count": 42,
     "metadata": {},
     "output_type": "execute_result"
    }
   ],
   "source": [
    "[listapoema.count(letra)for letra in [\"a\",\"e\",\"i\",\"o\",\"u\"]]"
   ]
  },
  {
   "cell_type": "code",
   "execution_count": 47,
   "metadata": {},
   "outputs": [],
   "source": [
    "conjtupla=[(letra,listapoema.count(letra))for letra in conjpoema]"
   ]
  },
  {
   "cell_type": "code",
   "execution_count": 50,
   "metadata": {},
   "outputs": [],
   "source": [
    "dic={}\n",
    "for tupla in conjtupla:\n",
    "    dic[tupla[0]]=tupla[1]\n",
    "    \n"
   ]
  },
  {
   "cell_type": "code",
   "execution_count": 51,
   "metadata": {},
   "outputs": [
    {
     "data": {
      "text/plain": [
       "{'l': 126,\n",
       " 'e': 285,\n",
       " 'o': 181,\n",
       " 'p': 40,\n",
       " 'N': 2,\n",
       " 'H': 1,\n",
       " '.': 12,\n",
       " 'ñ': 3,\n",
       " 'm': 81,\n",
       " 'í': 10,\n",
       " 'V': 3,\n",
       " 'M': 3,\n",
       " 'c': 70,\n",
       " 'v': 31,\n",
       " 'C': 6,\n",
       " 't': 94,\n",
       " ';': 5,\n",
       " 'R': 1,\n",
       " 'E': 5,\n",
       " 'q': 19,\n",
       " 'u': 94,\n",
       " 'T': 3,\n",
       " 'P': 2,\n",
       " 'B': 1,\n",
       " ',': 54,\n",
       " 'b': 19,\n",
       " '?': 7,\n",
       " 'f': 13,\n",
       " 'ó': 2,\n",
       " 'j': 15,\n",
       " 'd': 119,\n",
       " 'x': 1,\n",
       " '¡': 1,\n",
       " 'n': 134,\n",
       " 'g': 24,\n",
       " '¿': 7,\n",
       " 'Ó': 2,\n",
       " 'L': 3,\n",
       " 'h': 11,\n",
       " 's': 160,\n",
       " 'a': 253,\n",
       " 'á': 17,\n",
       " 'F': 1,\n",
       " 'A': 6,\n",
       " 'Y': 9,\n",
       " 'É': 1,\n",
       " 'S': 14,\n",
       " '!': 1,\n",
       " 'é': 9,\n",
       " 'D': 3,\n",
       " 'Q': 9,\n",
       " 'G': 1,\n",
       " ' ': 430,\n",
       " '\\n': 103,\n",
       " 'y': 22,\n",
       " 'z': 19,\n",
       " 'r': 114,\n",
       " 'i': 145}"
      ]
     },
     "execution_count": 51,
     "metadata": {},
     "output_type": "execute_result"
    }
   ],
   "source": [
    "dic"
   ]
  },
  {
   "cell_type": "code",
   "execution_count": null,
   "metadata": {},
   "outputs": [],
   "source": []
  }
 ],
 "metadata": {
  "kernelspec": {
   "display_name": "Python 3",
   "language": "python",
   "name": "python3"
  },
  "language_info": {
   "codemirror_mode": {
    "name": "ipython",
    "version": 3
   },
   "file_extension": ".py",
   "mimetype": "text/x-python",
   "name": "python",
   "nbconvert_exporter": "python",
   "pygments_lexer": "ipython3",
   "version": "3.7.3"
  }
 },
 "nbformat": 4,
 "nbformat_minor": 2
}
