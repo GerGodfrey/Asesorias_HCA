{
 "cells": [
  {
   "cell_type": "markdown",
   "metadata": {},
   "source": [
    "### ejer|cicio 2\n",
    "Calcula el promedio aritmético de la siguiente lista de *n* números, a partir de la suma de los valores y la división entre la cantidad de ellos:\n",
    "12.5, 14.3, 56.7, 28.1, 18.0, 25.6, 33.0, 11.0, 2.5, 39.7, 3.0, 28.1, 14.2, 11.3  \n",
    "$$\\frac{1}{n}\\sum_{i=1}^{n} valor_i$$"
   ]
  },
  {
   "cell_type": "code",
   "execution_count": 3,
   "metadata": {},
   "outputs": [],
   "source": [
    "datos_2= [12.5, 14.3, 56.7, 28.1, 18.0, 25.6, 33.0, 11.0, 2.5, 39.7, 3.0, 28.1, 14.2, 11.3]"
   ]
  },
  {
   "cell_type": "code",
   "execution_count": 6,
   "metadata": {},
   "outputs": [],
   "source": [
    "A=sum(datos_2)"
   ]
  },
  {
   "cell_type": "code",
   "execution_count": 7,
   "metadata": {},
   "outputs": [],
   "source": [
    "B=len(datos_2)"
   ]
  },
  {
   "cell_type": "code",
   "execution_count": 9,
   "metadata": {},
   "outputs": [
    {
     "name": "stdout",
     "output_type": "stream",
     "text": [
      "21.285714285714285\n"
     ]
    }
   ],
   "source": [
    "C=A/B\n",
    "print(C)"
   ]
  },
  {
   "cell_type": "code",
   "execution_count": null,
   "metadata": {},
   "outputs": [],
   "source": []
  },
  {
   "cell_type": "markdown",
   "metadata": {},
   "source": [
    "### ejercicio 4\n",
    "Se dice que en el siglo VI a.c., el inventor del juego de ajedrez ofreció a su monarca este juego y como recompensa le pidió los granos de trigo que resultaran de la siguiente prescripción: un grano por la primera casilla del tablero, dos granos por la segunda casilla, cuatro granos por la tercera casilla, ocho granos por la cuarta, dieciséis granos por la quinta, y así sucesivamente hasta terminar con la casilla número 64 (el tablero del juego de ajedrez tiene 64 casillas). Observando que el número de granos pedidos por una casilla, a partir de la segunda, es igual al doble de los granos pedidos por la casilla anterior. El monarca, un poco molesto por lo que le pareció una cantidad insignificante de granos que el inventor solicitaba, pidió a sus calculistas determinaran la cantidad total de granos de trigo, se trajera ésta de los graneros del reino y de inmediato se le entregara al inventor.  \n",
    "\n",
    "a) Calcule la cantidad total de granos de trigo que el inventor del ajedrez de la historia\n",
    "solicitó a su monarca. (Después de algunas semanas los calculistas reconocieron que lo que\n",
    "pedía el inventor rebasaba los recursos del reino.) \n",
    "\n",
    "b) Si la producción mundial anual en granos de trigo es:  \n",
    "$$2.377 \\cdot 10^{16}$$\n",
    "determine cuántos años de producción mundial son nevesario para obteher la cantidad obtenida\n",
    "en a).  "
   ]
  },
  {
   "cell_type": "code",
   "execution_count": 18,
   "metadata": {},
   "outputs": [
    {
     "ename": "SyntaxError",
     "evalue": "invalid syntax (<ipython-input-18-1542688d5ce3>, line 5)",
     "output_type": "error",
     "traceback": [
      "\u001b[1;36m  File \u001b[1;32m\"<ipython-input-18-1542688d5ce3>\"\u001b[1;36m, line \u001b[1;32m5\u001b[0m\n\u001b[1;33m    formula=[dinero = dinero*x for x in listaint]\u001b[0m\n\u001b[1;37m                    ^\u001b[0m\n\u001b[1;31mSyntaxError\u001b[0m\u001b[1;31m:\u001b[0m invalid syntax\n"
     ]
    }
   ],
   "source": [
    "\n",
    "listaint=[0.001, 0.003,0.005, 0.007,0.009,0.011,0.013,0.015,0.017,0.019,0.021,0.023,0.025, 0.027, 0.029, 0.031, 0.033, 0.035, 0.037, 0.039, 0.041, 0.043, 0.045, 0.047]\n",
    "\n",
    "\n",
    "\n",
    "formula=[dinero = dinero*x for x in listaint]\n",
    "ganancia=sum(formula)\n",
    "total=ganancia+dinero\n",
    "print(total)"
   ]
  },
  {
   "cell_type": "code",
   "execution_count": 26,
   "metadata": {},
   "outputs": [
    {
     "name": "stdout",
     "output_type": "stream",
     "text": [
      "17629.751848446438\n"
     ]
    }
   ],
   "source": [
    "dinero=10000\n",
    "for x in listaint:\n",
    "    dinero = dinero*(x+1)\n",
    "print(dinero)"
   ]
  },
  {
   "cell_type": "code",
   "execution_count": 28,
   "metadata": {},
   "outputs": [
    {
     "data": {
      "text/plain": [
       "[1, 2, 4, 8, 16, 32, 64, 128, 256, 512, 1024]"
      ]
     },
     "execution_count": 28,
     "metadata": {},
     "output_type": "execute_result"
    }
   ],
   "source": [
    "[2**x for x in list(range(0,11))]"
   ]
  },
  {
   "cell_type": "code",
   "execution_count": 55,
   "metadata": {},
   "outputs": [],
   "source": [
    "def bl (x):\n",
    "    while (x != 1):       \n",
    "        if (x%2 == 0):\n",
    "            x=x/2\n",
    "        else:\n",
    "            x=x*3+1    \n",
    "        print(x)\n",
    "    return x"
   ]
  },
  {
   "cell_type": "code",
   "execution_count": 56,
   "metadata": {},
   "outputs": [
    {
     "name": "stdout",
     "output_type": "stream",
     "text": [
      "22.0\n",
      "11.0\n",
      "34.0\n",
      "17.0\n",
      "52.0\n",
      "26.0\n",
      "13.0\n",
      "40.0\n",
      "20.0\n",
      "10.0\n",
      "5.0\n",
      "16.0\n",
      "8.0\n",
      "4.0\n",
      "2.0\n",
      "1.0\n"
     ]
    },
    {
     "data": {
      "text/plain": [
       "1.0"
      ]
     },
     "execution_count": 56,
     "metadata": {},
     "output_type": "execute_result"
    }
   ],
   "source": [
    "bl(44)"
   ]
  },
  {
   "cell_type": "code",
   "execution_count": null,
   "metadata": {},
   "outputs": [],
   "source": [
    "\"esternocleidomastoideo\" (es un músculo del cuello): \"e\",\"s\",\"t\",\"r\",\"n\",\"o\",\"c\",\"l\",\"i\",\"d\",\"m\",\"a\"\n",
    "\n",
    "\"estereocinematografia\": \"e\",\"s\",\"t\",\"r\",\"n\",\"o\",\"c\",\"i\",\"m\",\"a\",\"g\",\"f\"\n",
    "\n",
    "\"eurocomunismo\":\"e\",\"s\",\"r\",\"n\",\"o\",\"c\",\"i\",\"m\",\"u\"\n",
    "\n",
    "\"estafilococo\": \"e\",\"s\",\"t\",\"o\",\"c\",\"l\",\"i\",\"a\",\"f\"\n",
    "\n",
    "\"espectrofotometria\": \"e\",\"s\",\"t\",\"r\",\"o\",\"c\",\"i\",\"m\",\"a\",\"f\",\"p\""
   ]
  },
  {
   "cell_type": "code",
   "execution_count": 66,
   "metadata": {},
   "outputs": [
    {
     "data": {
      "text/plain": [
       "{'c', 'e', 'i', 'o', 's'}"
      ]
     },
     "execution_count": 66,
     "metadata": {},
     "output_type": "execute_result"
    }
   ],
   "source": [
    "a = set(\"eurocomunismo\")\n",
    "b=set(\"estafilococo\")\n",
    "a.intersection(b)"
   ]
  },
  {
   "cell_type": "code",
   "execution_count": 67,
   "metadata": {},
   "outputs": [
    {
     "data": {
      "text/plain": [
       "{'c', 'e', 'i', 'o', 's'}"
      ]
     },
     "execution_count": 67,
     "metadata": {},
     "output_type": "execute_result"
    }
   ],
   "source": [
    "a & b "
   ]
  },
  {
   "cell_type": "code",
   "execution_count": 83,
   "metadata": {},
   "outputs": [
    {
     "name": "stdout",
     "output_type": "stream",
     "text": [
      "[1, 3, 5, 7, 9, 11, 13, 15, 17, 19, 21, 23, 25, 27, 29, 31, 33, 35, 37, 39, 41, 43, 45, 47, 49, 51, 53, 55, 57, 59, 61, 63, 65, 67, 69, 71, 73, 75, 77, 79, 81, 83, 85, 87, 89, 91, 93, 95, 97, 99]\n",
      "[1, 2, 3, 4, 5, 6, 7, 8, 9, 10, 11, 12, 13, 14, 15, 16, 17, 18, 19, 20, 21, 22, 23, 24, 25, 26, 27, 28, 29, 30, 31, 32, 33, 34, 35, 36, 37, 38, 39, 40, 41, 42, 43, 44, 45, 46, 47, 48, 49, 50, 51, 52, 53, 54, 55, 56, 57, 58, 59, 60, 61, 62, 63, 64, 65, 66, 67, 68, 69, 70, 71, 72, 73, 74, 75, 76, 77, 78, 79, 80, 81, 82, 83, 84, 85, 86, 87, 88, 89, 90, 91, 92, 93, 94, 95, 96, 97, 98, 99]\n",
      "[3, 6, 9, 12, 15, 18, 21, 24, 27, 30, 33, 36, 39, 42, 45, 48, 51, 54, 57, 60, 63, 66, 69, 72, 75, 78, 81, 84, 87, 90, 93, 96, 99]\n"
     ]
    },
    {
     "data": {
      "text/plain": [
       "{1,\n",
       " 3,\n",
       " 5,\n",
       " 7,\n",
       " 9,\n",
       " 11,\n",
       " 13,\n",
       " 15,\n",
       " 17,\n",
       " 19,\n",
       " 21,\n",
       " 23,\n",
       " 25,\n",
       " 27,\n",
       " 29,\n",
       " 31,\n",
       " 33,\n",
       " 35,\n",
       " 37,\n",
       " 39,\n",
       " 41,\n",
       " 43,\n",
       " 45,\n",
       " 47,\n",
       " 49,\n",
       " 51,\n",
       " 53,\n",
       " 55,\n",
       " 57,\n",
       " 59,\n",
       " 61,\n",
       " 63,\n",
       " 65,\n",
       " 67,\n",
       " 69,\n",
       " 71,\n",
       " 73,\n",
       " 75,\n",
       " 77,\n",
       " 79,\n",
       " 81,\n",
       " 83,\n",
       " 85,\n",
       " 87,\n",
       " 89,\n",
       " 91,\n",
       " 93,\n",
       " 95,\n",
       " 97,\n",
       " 99}"
      ]
     },
     "execution_count": 83,
     "metadata": {},
     "output_type": "execute_result"
    }
   ],
   "source": [
    "N=[ 2*x-1 for x in list(range(1,51,1))]\n",
    "print(N)\n",
    "S=[ x for x in list(range(1,100,1))]\n",
    "print(S)\n",
    "C=[ 3*x for x in list(range(1,34,1))]\n",
    "print(C)\n",
    "Nset=set(N)\n",
    "Nset"
   ]
  },
  {
   "cell_type": "code",
   "execution_count": 69,
   "metadata": {},
   "outputs": [
    {
     "data": {
      "text/plain": [
       "range(0, 101)"
      ]
     },
     "execution_count": 69,
     "metadata": {},
     "output_type": "execute_result"
    }
   ],
   "source": [
    "range(0,101,1)"
   ]
  },
  {
   "cell_type": "code",
   "execution_count": 85,
   "metadata": {},
   "outputs": [],
   "source": [
    "paises= [\"Guatemala\", \"Costa Rica\", \"México\", \"Venezuela\", \"Chile\", \"Belice\", \"Cuba\", \"Jamaica\", \"Argentina\", \"Ecuador\", \"Perú\", \"Bolivia\", \"Uruguay\", \"Paraguay\", \"Colombia\", \"Panamá\", \"Guyana\", \"Brasil\", \"Honduras\", \"Nicaragua\", \"República Dominicana\", \"Haití\", \"Canadá\", \"Estados Unidos\", \"Trinidad y Tobago\", \"El Salvador\"]"
   ]
  },
  {
   "cell_type": "code",
   "execution_count": 87,
   "metadata": {},
   "outputs": [
    {
     "name": "stdout",
     "output_type": "stream",
     "text": [
      "['a', 'a', 'o', 'a', 'e', 'e', 'a', 'a', 'a', 'r', 'ú', 'a', 'y', 'y', 'a', 'á', 'a', 'l', 's', 'a', 'a', 'í', 'á', 's', 'o', 'r']\n"
     ]
    }
   ],
   "source": [
    "primeraletra=[x[-1] for x in paises]\n",
    "print(primeraletra)"
   ]
  },
  {
   "cell_type": "code",
   "execution_count": 88,
   "metadata": {},
   "outputs": [
    {
     "data": {
      "text/plain": [
       "'r'"
      ]
     },
     "execution_count": 88,
     "metadata": {},
     "output_type": "execute_result"
    }
   ],
   "source": [
    "primeraletra[-1]"
   ]
  },
  {
   "cell_type": "code",
   "execution_count": 100,
   "metadata": {},
   "outputs": [],
   "source": [
    "calificacion=[5,9,4,10,6]\n",
    "ponderaciones=[0.20,0.10,0.10,0.30,0.30]"
   ]
  },
  {
   "cell_type": "code",
   "execution_count": 101,
   "metadata": {},
   "outputs": [
    {
     "data": {
      "text/plain": [
       "7.1"
      ]
     },
     "execution_count": 101,
     "metadata": {},
     "output_type": "execute_result"
    }
   ],
   "source": [
    "    a = [x*y for (x,y) in zip (calificacion,ponderaciones)]\n",
    "sum(a)"
   ]
  },
  {
   "cell_type": "code",
   "execution_count": 102,
   "metadata": {},
   "outputs": [
    {
     "data": {
      "text/plain": [
       "True"
      ]
     },
     "execution_count": 102,
     "metadata": {},
     "output_type": "execute_result"
    }
   ],
   "source": [
    "len(calificacion) == len(ponderaciones)"
   ]
  },
  {
   "cell_type": "code",
   "execution_count": 104,
   "metadata": {},
   "outputs": [
    {
     "data": {
      "text/plain": [
       "6.8"
      ]
     },
     "execution_count": 104,
     "metadata": {},
     "output_type": "execute_result"
    }
   ],
   "source": [
    "sum(calificacion)/ len(calificacion)"
   ]
  },
  {
   "cell_type": "markdown",
   "metadata": {},
   "source": [
    "# problema 5 tare 7"
   ]
  },
  {
   "cell_type": "code",
   "execution_count": 140,
   "metadata": {},
   "outputs": [],
   "source": [
    "def estacionamiento (horasentrada,minutosentrada,horassalida,minutossalida):\n",
    "    costoprimerahora=15\n",
    "    costox15min=3\n",
    "    totaltiempo= horassalida*60+minutossalida-horasentrada*60-minutosentrada\n",
    "    if totaltiempo<60:\n",
    "        return 15\n",
    "    else:\n",
    "        totalprecio=((totaltiempo-60)//15)*3 +15\n",
    "    return totalprecio\n",
    "    "
   ]
  },
  {
   "cell_type": "code",
   "execution_count": 141,
   "metadata": {},
   "outputs": [
    {
     "data": {
      "text/plain": [
       "15"
      ]
     },
     "execution_count": 141,
     "metadata": {},
     "output_type": "execute_result"
    }
   ],
   "source": [
    "estacionamiento(13,15,13,50)"
   ]
  },
  {
   "cell_type": "markdown",
   "metadata": {},
   "source": [
    "# Tarea 5 problema 1"
   ]
  },
  {
   "cell_type": "markdown",
   "metadata": {},
   "source": [
    "Un número de Armstrong también conocido como narcisista es un número que es igual a la suma de los\n",
    "cubos de sus dígitos. Por ejemplo 370 es un numero de Armstrong porque 370 = 27 + 343 + 0. El 407 es otro\n",
    "ejemplo de número narcisista. Crea una función lógica que reciba un número y determine si es o no número\n",
    "de Armstrong"
   ]
  },
  {
   "cell_type": "code",
   "execution_count": 245,
   "metadata": {},
   "outputs": [],
   "source": [
    "def Armstrong (a):\n",
    "    a = str(a)\n",
    "    lista=list(a)\n",
    "    formula=[(int(lista[x]))**3 for x in list(range(0,len(lista) ))]\n",
    "    suma=sum(formula)\n",
    "    if str(suma)==a:\n",
    "        return \"Si es\"\n",
    "    else:\n",
    "        return \"No es armstrong\""
   ]
  },
  {
   "cell_type": "code",
   "execution_count": 256,
   "metadata": {},
   "outputs": [
    {
     "name": "stdout",
     "output_type": "stream",
     "text": [
      "0\n",
      "27\n",
      "370\n"
     ]
    },
    {
     "data": {
      "text/plain": [
       "'Si es'"
      ]
     },
     "execution_count": 256,
     "metadata": {},
     "output_type": "execute_result"
    }
   ],
   "source": [
    "Armstrong2(370)"
   ]
  },
  {
   "cell_type": "code",
   "execution_count": 255,
   "metadata": {},
   "outputs": [],
   "source": [
    "# def Armstrong2 (numero):\n",
    "#     suma = 0\n",
    "#     str_num = str(numero)\n",
    "#     for x in str_num:\n",
    "#         print(suma)\n",
    "#         suma = suma + int(x)**3 \n",
    "#     if suma==numero:\n",
    "#         return \"Si es\"\n",
    "#     else:\n",
    "#         return \"No es armstrong\""
   ]
  },
  {
   "cell_type": "markdown",
   "metadata": {},
   "source": [
    "# tarea 5 ej 2"
   ]
  },
  {
   "cell_type": "markdown",
   "metadata": {},
   "source": [
    "¿Cuál es el conjunto de los números enteros entre 1 y 10,000 que son iguales al cubo de un número\n",
    "entero?\n",
    "Entre estos números ¿Cuáles son divisibles entre 13? (¿Podría responder estas preguntas para los\n",
    "números entre 1 y 1,000,000?)"
   ]
  },
  {
   "cell_type": "code",
   "execution_count": 264,
   "metadata": {},
   "outputs": [
    {
     "data": {
      "text/plain": [
       "{0, 2197}"
      ]
     },
     "execution_count": 264,
     "metadata": {},
     "output_type": "execute_result"
    }
   ],
   "source": [
    "lista=list(range(0,10001,1))\n",
    "setlista=set(lista)\n",
    "listacubo=[(x**3) for x in lista]\n",
    "setlistacubo=set(listacubo)\n",
    "c=setlista.intersection(setlistacubo)\n",
    "lista13=list(range(0,1000000,13))\n",
    "setlista13=set(lista13)\n",
    "setlista13.intersection(c)"
   ]
  },
  {
   "cell_type": "markdown",
   "metadata": {},
   "source": [
    "# Tarea 5 ej 3"
   ]
  },
  {
   "cell_type": "markdown",
   "metadata": {},
   "source": [
    "Se dice que en el siglo VI a.c., el inventor del juego de ajedrez ofreció a su monarca este juego y como\n",
    "recompensa le pidió los granos de trigo que resultaran de la siguiente prescripción: un grano por la\n",
    "primera casilla del tablero, dos granos por la segunda casilla, cuatro granos por la tercera casilla, ocho\n",
    "granos por la cuarta, dieciséis granos por la quinta, y así sucesivamente hasta terminar con la casilla\n",
    "número 64 (el tablero del juego de ajedrez tiene 64 casillas). Observando que el número de granos\n",
    "pedidos por una casilla, a partir de la segunda, es igual al doble de los granos pedidos por la casilla\n",
    "anterior. El monarca, un poco molesto por lo que le pareció una cantidad insignificante de granos que el\n",
    "inventor solicitaba, pidió a sus calculistas determinaran la cantidad total de granos de trigo, se trajera\n",
    "ésta de los graneros del reino y de inmediato se le entregara al inventor.\n",
    "\n",
    "a.Calcule la cantidad total de granos de trigo que el inventor del ajedrez de la historia solicitó a su\n",
    "monarca. (Después de algunas semanas los calculistas reconocieron que lo que pedía el inventor\n",
    "rebasaba los recursos del reino.)\n",
    "b. Si la producción mundial anual en granos de trigo es(2436/947) × 1016 granos, determine cuántos\n",
    "años de producción mundial serían equivalentes a la cantidad obtenida en a). Observe el\n",
    "resultado obtenido en el problema 2 de esta lista.\n"
   ]
  },
  {
   "cell_type": "code",
   "execution_count": 122,
   "metadata": {},
   "outputs": [
    {
     "name": "stdout",
     "output_type": "stream",
     "text": [
      "1\n"
     ]
    }
   ],
   "source": [
    "tabla=[2**x for x in list(range(0,64,1))]\n",
    "x=x\n",
    "print(tabla[0])\n",
    "# print(len(tabla))\n",
    "# length=len(tabla)\n",
    "# print(length)\n",
    "# total=sum(tabla)\n",
    "# print(total)"
   ]
  },
  {
   "cell_type": "code",
   "execution_count": 119,
   "metadata": {},
   "outputs": [],
   "source": [
    "tablaMod = []\n",
    "for x in list(range(0,64,1)):\n",
    "    var = 2**x\n",
    "    tablaMod.append(var)"
   ]
  },
  {
   "cell_type": "code",
   "execution_count": 121,
   "metadata": {},
   "outputs": [
    {
     "data": {
      "text/plain": [
       "1"
      ]
     },
     "execution_count": 121,
     "metadata": {},
     "output_type": "execute_result"
    }
   ],
   "source": [
    "tablaMod[0]"
   ]
  },
  {
   "cell_type": "code",
   "execution_count": 294,
   "metadata": {},
   "outputs": [
    {
     "name": "stdout",
     "output_type": "stream",
     "text": [
      "2613.491024287223\n",
      "7058277186446634.0\n"
     ]
    }
   ],
   "source": [
    "produccion=(2436/947) * 1016 \n",
    "print(producanual)\n",
    "años=total/produccion\n",
    "print(años)"
   ]
  },
  {
   "cell_type": "markdown",
   "metadata": {},
   "source": [
    "# Tarea 5 ej 4"
   ]
  },
  {
   "cell_type": "markdown",
   "metadata": {},
   "source": [
    "Un bebé midió al nacer 42 centímetros. Durante los siguientes años de vida la estatura aumentó de la\n",
    "siguiente manera:\n",
    "-en el primer año, la estatura se incrementó 24 %;\n",
    "-en el segundo año, la estatura se incrementó 20 %;\n",
    "-en el tercer año, la estatura se incrementó 14 %;\n",
    "-en el cuarto año, la estatura se incrementó 13 %;\n",
    "-en el quinto año, la estatura se incrementó 10 %;\n",
    "-en el sexto año, la estatura se incrementó 9 %;\n",
    "-y en el séptimo año, se dio un estirón, pues la estatura se incrementó 12 %.\n",
    "¿Cuánto mide el nene después de siete años de vida?"
   ]
  },
  {
   "cell_type": "code",
   "execution_count": 297,
   "metadata": {},
   "outputs": [
    {
     "name": "stdout",
     "output_type": "stream",
     "text": [
      "108.11170640793601\n"
     ]
    }
   ],
   "source": [
    "inicial=42\n",
    "final=inicial*1.24*1.20*1.14*1.13*1.10*1.09*1.12\n",
    "print(final)"
   ]
  },
  {
   "cell_type": "markdown",
   "metadata": {},
   "source": [
    "# Tarea 9 ej 1"
   ]
  },
  {
   "cell_type": "code",
   "execution_count": 299,
   "metadata": {},
   "outputs": [],
   "source": [
    "listaa =  [3.2,4.3,5.6,7]\n",
    "listab = [3,5,7,9]\n",
    "\n",
    "ipc=[listaa[x]/listab[x] for x in list(range(0,len(listaa)))]"
   ]
  },
  {
   "cell_type": "code",
   "execution_count": 301,
   "metadata": {},
   "outputs": [
    {
     "name": "stdout",
     "output_type": "stream",
     "text": [
      "[1.0666666666666667, 0.86, 0.7999999999999999, 0.7777777777777778]\n",
      "3.5044444444444443\n"
     ]
    }
   ],
   "source": [
    "print(ipc)\n",
    "sumaipc=sum(ipc)\n",
    "print(sumaipc)"
   ]
  },
  {
   "cell_type": "markdown",
   "metadata": {},
   "source": [
    "# Tarea 9 ej 2"
   ]
  },
  {
   "cell_type": "markdown",
   "metadata": {},
   "source": [
    "Calcula, en forma de una cadena, los primeros n cubos de Nicómaco. Para ello, considera la siguiente\n",
    "propiedad descubierta por Nicómaco de Gerasa: “Con el primer número impar, se obtiene el primer\n",
    "cubo. Sumando los dos siguientes impares se obtiene el segundo cubo. Sumando los tres siguientes, se\n",
    "obtiene el tercer cubo, etc.”"
   ]
  },
  {
   "cell_type": "code",
   "execution_count": 336,
   "metadata": {},
   "outputs": [],
   "source": [
    "def nicomaco(n):\n",
    "    aux=1\n",
    "    impar=1\n",
    "    while(aux<=n):\n",
    "        suma=0\n",
    "        cad=\"\"\n",
    "        for i in range(0,aux):\n",
    "            cad=cad+\"+\"+str(impar)\n",
    "            suma=suma+impar\n",
    "            impar=impar+2\n",
    "        cad=cad+\"=\"+str(aux)+\"^3=\"+str(suma)\n",
    "        aux=aux+1\n",
    "        print(cad)"
   ]
  },
  {
   "cell_type": "code",
   "execution_count": 338,
   "metadata": {},
   "outputs": [
    {
     "name": "stdout",
     "output_type": "stream",
     "text": [
      "+1=1^3=1\n",
      "+3+5=2^3=8\n",
      "+7+9+11=3^3=27\n"
     ]
    }
   ],
   "source": [
    "nicomaco(3)"
   ]
  },
  {
   "cell_type": "code",
   "execution_count": 342,
   "metadata": {},
   "outputs": [
    {
     "data": {
      "text/plain": [
       "[0]"
      ]
     },
     "execution_count": 342,
     "metadata": {},
     "output_type": "execute_result"
    }
   ],
   "source": [
    "list(range(0,1))"
   ]
  },
  {
   "cell_type": "markdown",
   "metadata": {},
   "source": [
    "# Tarea 9 ej 3 "
   ]
  },
  {
   "cell_type": "markdown",
   "metadata": {},
   "source": [
    "En el archivo de texto sorJ.txt con el poema Sentimientos de Ausente de Sor Juana Inés de la Cruz. Note\n",
    "que se define un identificador con el texto del poema y las triples comillas permiten definir un texto\n",
    "escrito sobre varias líneas. Ejecute la instrucción y lleve a cabo lo que se pide a continuación:\n",
    "a. Obtenga e imprima el conjunto de símbolos cualesquiera y usados para escribir el poema. A\n",
    "este conjunto pertenecen los siguientes símbolos: letras mayúsculas y minúsculas, espacio,\n",
    "cambios de renglón, signos de puntuación, etc., los llamados símbolos tipográficos.\n",
    "b. Calcule la cantidad de símbolos del conjunto encontrado.\n",
    "c. Calcule e imprima la cantidad de veces que aparecen las cinco vocales (minúsculas y sin acento)\n",
    "en el poema de Sor Juana.\n",
    "d. Calcule la cantidad de veces que aparecen cada uno de los símbolos del conjunto obtenido en\n",
    "a). Muestre el resultado de dos maneras:\n",
    "i. con una tupla de parejas ordenadas de la forma, (símbolo,frecuencia);\n",
    "ii. con un diccionario cuyas llaves sean los símbolos y cuyos valores sean las\n",
    "frecuencias."
   ]
  },
  {
   "cell_type": "code",
   "execution_count": 43,
   "metadata": {},
   "outputs": [
    {
     "name": "stdout",
     "output_type": "stream",
     "text": [
      "253\n",
      "285\n",
      "145\n",
      "181\n",
      "94\n"
     ]
    }
   ],
   "source": [
    "texto=open(\"archivo.txt\",\"r\")\n",
    "poema=texto.read()\n",
    "poema.split()\n",
    "poemaset=set(poema)\n",
    "len(poemaset)\n",
    "poemalista=list(poemaset)\n",
    "a=poema.count(\"a\")\n",
    "b=poema.count(\"e\")\n",
    "c=poema.count(\"i\")\n",
    "d=poema.count(\"o\")\n",
    "e=poema.count(\"u\")\n",
    "print(a)\n",
    "print(b)\n",
    "print(c)\n",
    "print(d)\n",
    "print(e)"
   ]
  },
  {
   "cell_type": "code",
   "execution_count": 69,
   "metadata": {},
   "outputs": [
    {
     "name": "stdout",
     "output_type": "stream",
     "text": [
      "(19, 'b')\n",
      "(3, 'D')\n",
      "(24, 'g')\n",
      "(9, 'é')\n",
      "(3, 'V')\n",
      "(22, 'y')\n",
      "(119, 'd')\n",
      "(94, 'u')\n",
      "(10, 'í')\n",
      "(6, 'A')\n",
      "(81, 'm')\n",
      "(1, 'R')\n",
      "(160, 's')\n",
      "(430, ' ')\n",
      "(114, 'r')\n",
      "(3, 'L')\n",
      "(181, 'o')\n",
      "(1, 'F')\n",
      "(40, 'p')\n",
      "(13, 'f')\n",
      "(145, 'i')\n",
      "(285, 'e')\n",
      "(134, 'n')\n",
      "(14, 'S')\n",
      "(3, 'ñ')\n",
      "(1, '!')\n",
      "(94, 't')\n",
      "(5, ';')\n",
      "(7, '?')\n",
      "(19, 'q')\n",
      "(126, 'l')\n",
      "(253, 'a')\n",
      "(7, '¿')\n",
      "(31, 'v')\n",
      "(3, 'M')\n",
      "(70, 'c')\n",
      "(6, 'C')\n",
      "(1, 'x')\n",
      "(1, 'H')\n",
      "(1, 'B')\n",
      "(1, '¡')\n",
      "(5, 'E')\n",
      "(2, 'Ó')\n",
      "(15, 'j')\n",
      "(3, 'T')\n",
      "(1, 'É')\n",
      "(11, 'h')\n",
      "(19, 'z')\n",
      "(1, 'G')\n",
      "(17, 'á')\n",
      "(12, '.')\n",
      "(9, 'Y')\n",
      "(103, '\\n')\n",
      "(2, 'ó')\n",
      "(2, 'N')\n",
      "(2, 'P')\n",
      "(54, ',')\n",
      "(9, 'Q')\n"
     ]
    }
   ],
   "source": [
    "for x in poemalista:\n",
    "    contador=poema.count(x)\n",
    "    print ( (contador,x) )"
   ]
  },
  {
   "cell_type": "code",
   "execution_count": 68,
   "metadata": {},
   "outputs": [
    {
     "name": "stdout",
     "output_type": "stream",
     "text": [
      "{'b': 19, 'D': 3, 'g': 24, 'é': 9, 'V': 3, 'y': 22, 'd': 119, 'u': 94, 'í': 10, 'A': 6, 'm': 81, 'R': 1, 's': 160, ' ': 430, 'r': 114, 'L': 3, 'o': 181, 'F': 1, 'p': 40, 'f': 13, 'i': 145, 'e': 285, 'n': 134, 'S': 14, 'ñ': 3, '!': 1, 't': 94, ';': 5, '?': 7, 'q': 19, 'l': 126, 'a': 253, '¿': 7, 'v': 31, 'M': 3, 'c': 70, 'C': 6, 'x': 1, 'H': 1, 'B': 1, '¡': 1, 'E': 5, 'Ó': 2, 'j': 15, 'T': 3, 'É': 1, 'h': 11, 'z': 19, 'G': 1, 'á': 17, '.': 12, 'Y': 9, '\\n': 103, 'ó': 2, 'N': 2, 'P': 2, ',': 54, 'Q': 9}\n"
     ]
    }
   ],
   "source": [
    "cuentasCarac = {}\n",
    "for x in poemalista:\n",
    "    contador=poema.count(x)\n",
    "    cuentasCarac[x] = contador\n",
    "print(cuentasCarac)"
   ]
  },
  {
   "cell_type": "markdown",
   "metadata": {},
   "source": [
    "# Tarea 8 ej 1"
   ]
  },
  {
   "cell_type": "markdown",
   "metadata": {},
   "source": [
    "Las cantidades dadas en el archivo de texto inflac.txt indican la tasa de inflación mensual^, es decir,\n",
    "una medida de la tasa de cambio mensual de los precios para el periodo de diciembre de 2005 a junio\n",
    "de 2018; nótese que las cantidades están ordenadas según los meses sucesivos de este periodo\n",
    "indicado.\n",
    "Por ejemplo, el porcentaje de incremento del precio del terreno durante el mes de diciembre de 2005\n",
    "fue 0.59 %, lo cual significa un incremento de valor en este mes de 0.0059; es decir, durante ese mes el\n",
    "terreno cambió su valor en un factor de 1.0059.\n",
    "a) Define una sucesión con las tasas dadas,\n",
    "¿Cuáles son los valores máximo y mínimo de las tasas?\n",
    "b) -Define una lista con las tasas ordenadas de manera descendente.\n",
    "c) Si un terreno estaba valuado en $60,000 (sesenta mil pesos M.N.) al final de noviembre\n",
    "de 2005, incrementándose, o disminuyéndose, el valor en cada uno de los meses\n",
    "siguientes durante varios años, según la tasa de cambio y hasta junio de 2018,\n",
    "¿Qué valor tenía el terreno al final de junio de 2018 después de varios años?\n"
   ]
  },
  {
   "cell_type": "code",
   "execution_count": 99,
   "metadata": {},
   "outputs": [
    {
     "name": "stdout",
     "output_type": "stream",
     "text": [
      "['0.59', '0.15', '0.13', '0.15', '-0.45', '0.09', '0.27', '0.51', '1.01', '0.44', '0.52', '0.58', '0.52', '0.28', '0.22', '-0.06', '-0.49', '0.12', '0.42', '0.41', '0.78', '0.39', '0.71', '0.41', '0.46', '0.3', '0.72', '0.23', '-0.11', '0.41', '0.56', '0.58', '0.68', '0.68', '1.14', '0.69', '0.23', '0.22', '0.58', '0.35', '-0.29', '0.18', '0.27', '0.24', '0.5', '0.3', '0.52', '0.41', '1.09', '0.58', '0.71', '-0.32', '-0.63', '-0.03', '0.22', '0.28', '0.52', '0.62', '0.8', '0.5', '0.49', '0.38', '0.19', '-0.01', '-0.74', '0', '0.48', '0.16', '0.25', '0.67', '1.08', '0.82', '0.71', '0.2', '0.06', '-0.31', '-0.32', '0.46', '0.56', '0.3', '0.44', '0.51', '0.68', '0.23', '0.4', '0.49', '0.73', '0.07', '-0.33', '-0.06', '-0.03', '0.28', '0.38', '0.48', '0.93', '0.57', '0.89', '0.25', '0.27', '-0.19', '-0.32', '0.17', '0.28', '0.36', '0.44', '0.55', '0.81', '0.49', '-0.09', '0.19', '0.41', '-0.26', '-0.5', '0.17', '0.15', '0.21', '0.37', '0.51', '0.55', '0.41', '0.38', '0.44', '0.15', '-0.32', '-0.45', '0.11', '0.26', '0.28', '0.61', '0.61', '0.78', '0.46', '1.7', '0.58', '0.61', '0.12', '-0.12', '0.25', '0.38', '0.49', '0.31', '0.63', '1.03', '0.59', '0.53', '0.38', '0.32', '-0.34', '-0.16', '0.39', '0.54']\n",
      "1.7\n",
      "-0.01\n"
     ]
    }
   ],
   "source": [
    "inflacion=open(\"archivo2.txt\",\"r\")\n",
    "lista=inflacion.read()\n",
    "listasplit=lista.split(\", \")\n",
    "print(listasplit)\n",
    "maximo=max(listasplit)\n",
    "minimo=min(listasplit)\n",
    "print(maximo)\n",
    "print(minimo)"
   ]
  },
  {
   "cell_type": "code",
   "execution_count": 97,
   "metadata": {},
   "outputs": [],
   "source": [
    "listasplit.sort(reverse=False)"
   ]
  },
  {
   "cell_type": "code",
   "execution_count": 112,
   "metadata": {},
   "outputs": [
    {
     "name": "stdout",
     "output_type": "stream",
     "text": [
      "4.145929854856215e+20\n"
     ]
    }
   ],
   "source": [
    "terreno=60000\n",
    "#incremento=[60000*x for x in listasplit]\n",
    "for x in list(range(0,len(listasplit))):\n",
    "    terreno = terreno + (terreno * float(listasplit[x]))\n",
    "print(terreno)"
   ]
  },
  {
   "cell_type": "code",
   "execution_count": null,
   "metadata": {},
   "outputs": [],
   "source": [
    "b = []"
   ]
  }
 ],
 "metadata": {
  "kernelspec": {
   "display_name": "Python 3",
   "language": "python",
   "name": "python3"
  },
  "language_info": {
   "codemirror_mode": {
    "name": "ipython",
    "version": 3
   },
   "file_extension": ".py",
   "mimetype": "text/x-python",
   "name": "python",
   "nbconvert_exporter": "python",
   "pygments_lexer": "ipython3",
   "version": "3.7.3"
  }
 },
 "nbformat": 4,
 "nbformat_minor": 2
}
