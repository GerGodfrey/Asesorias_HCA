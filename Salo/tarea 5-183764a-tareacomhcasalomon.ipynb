{
 "cells": [
  {
   "cell_type": "markdown",
   "metadata": {},
   "source": [
    "Dado el número (10110)2 en base 2 conviértelo al sistema decimal, en base 10. Crea una función que convierta un número arbitrario en base 2 a decimal."
   ]
  },
  {
   "cell_type": "code",
   "execution_count": 23,
   "metadata": {},
   "outputs": [],
   "source": [
    "def decimalabinario (x):\n",
    "    resultado=[]\n",
    "    while x>0:\n",
    "            \n",
    "            resultado.append(x%2)\n",
    "            \n",
    "            x=int(x/2)\n",
    "    resultado.reverse()\n",
    "    return resultado"
   ]
  },
  {
   "cell_type": "code",
   "execution_count": 24,
   "metadata": {},
   "outputs": [
    {
     "data": {
      "text/plain": [
       "[1, 0, 0, 0, 1, 1, 0]"
      ]
     },
     "execution_count": 24,
     "metadata": {},
     "output_type": "execute_result"
    }
   ],
   "source": [
    "decimalabinario(70)\n"
   ]
  },
  {
   "cell_type": "markdown",
   "metadata": {},
   "source": [
    "Un número de Armstrong también conocido como narcisista es un número que es igual a la suma de los\n",
    "cubos de sus dígitos. Por ejemplo 370 es un numero de Armstrong porque 370 = 27 + 343 + 0. El 407 es otro\n",
    "ejemplo de número narcisista. Crea una función lógica que reciba un número y determine si es o no número\n",
    "de Armstrong."
   ]
  },
  {
   "cell_type": "code",
   "execution_count": 27,
   "metadata": {},
   "outputs": [],
   "source": [
    "def armstrong (x):\n",
    "    res=0\n",
    "    for i in range(0, len(str(x))):\n",
    "        res=res+int(str(x)[i])**3\n",
    "    if(res==x):\n",
    "        return True\n",
    "    else:\n",
    "        return False"
   ]
  },
  {
   "cell_type": "code",
   "execution_count": 32,
   "metadata": {},
   "outputs": [
    {
     "data": {
      "text/plain": [
       "False"
      ]
     },
     "execution_count": 32,
     "metadata": {},
     "output_type": "execute_result"
    }
   ],
   "source": [
    "armstrong(372)"
   ]
  },
  {
   "cell_type": "markdown",
   "metadata": {},
   "source": [
    "24. ¿Cuál es el conjunto de los números enteros entre 1 y 10,000 que son iguales al cubo de un número entero?\n",
    "Entre estos números ¿Cuáles son divisibles entre 13? (¿Podría responder estas preguntas para los números entre 1 y 1,000,000?)\n"
   ]
  },
  {
   "cell_type": "code",
   "execution_count": 39,
   "metadata": {},
   "outputs": [
    {
     "name": "stdout",
     "output_type": "stream",
     "text": [
      "[2197]\n"
     ]
    }
   ],
   "source": [
    "res=[]\n",
    "n=1\n",
    "while (n**3<=10000):\n",
    "    x=n**3\n",
    "    if x%13==0:\n",
    "        res.append(x)\n",
    "    n=n+1\n",
    "print(res)"
   ]
  },
  {
   "cell_type": "markdown",
   "metadata": {},
   "source": [
    "25. Se dice que en el siglo VI a.c., el inventor del juego de ajedrez ofreció a su monarca este juego y como recompensa le pidió los granos de trigo que resultaran de la siguiente prescripción: un grano por la primera casilla del tablero, dos granos por la segunda casilla, cuatro granos por la tercera casilla, ocho granos por la cuarta, dieciséis granos por la quinta, y así sucesivamente hasta terminar con la casilla número 64 (el tablero del juego de ajedrez tiene 64 casillas). Observando que el número de granos pedidos por una casilla, a partir de la segunda, es igual al doble de los granos pedidos por la casilla anterior. El monarca, un poco molesto por lo que le pareció una cantidad insignificante de granos que el inventor solicitaba, pidió a sus calculistas determinaran la cantidad total de granos de trigo, se trajera ésta de los graneros del reino y de inmediato se le entregara al inventor."
   ]
  },
  {
   "cell_type": "code",
   "execution_count": 47,
   "metadata": {},
   "outputs": [
    {
     "name": "stdout",
     "output_type": "stream",
     "text": [
      "18446744073709551615\n"
     ]
    }
   ],
   "source": [
    "cont=0\n",
    "res=0\n",
    "while(cont<64):\n",
    "    res=res+2**cont\n",
    "    cont=cont+1\n",
    "print(res)"
   ]
  },
  {
   "cell_type": "code",
   "execution_count": 49,
   "metadata": {},
   "outputs": [
    {
     "name": "stdout",
     "output_type": "stream",
     "text": [
      "717.1209621429781\n"
     ]
    }
   ],
   "source": [
    "tiempo=res/(2436/947*10**16)\n",
    "print(tiempo)"
   ]
  },
  {
   "cell_type": "markdown",
   "metadata": {},
   "source": [
    "n bebé midió al nacer 42 centímetros. Durante los siguientes años de vida la estatura aumentó de la siguiente manera:\n",
    "-en el primer año, la estatura se incrementó 24 %;\n",
    "-en el segundo año, la estatura se incrementó 20 %;\n",
    "-en el tercer año, la estatura se incrementó 14 %; -en el cuarto año, la estatura se incrementó 13 %; -en el quinto año, la estatura se incrementó 10 %; -en el sexto año, la estatura se incrementó 9 %;\n",
    "-y en el séptimo año, se dio un estirón, pues la estatura se incrementó 12 %. ¿Cuánto mide el nene después de siete años de vida?"
   ]
  },
  {
   "cell_type": "code",
   "execution_count": 52,
   "metadata": {},
   "outputs": [
    {
     "name": "stdout",
     "output_type": "stream",
     "text": [
      "108.11170640793601 cm\n"
     ]
    }
   ],
   "source": [
    "inicial=42\n",
    "inicialfinal=42*1.24*1.20*1.14*1.13*1.10*1.09*1.12\n",
    "print(inicialfinal, \"cm\")"
   ]
  },
  {
   "cell_type": "code",
   "execution_count": null,
   "metadata": {},
   "outputs": [],
   "source": []
  }
 ],
 "metadata": {
  "kernelspec": {
   "display_name": "Python 3",
   "language": "python",
   "name": "python3"
  },
  "language_info": {
   "codemirror_mode": {
    "name": "ipython",
    "version": 3
   },
   "file_extension": ".py",
   "mimetype": "text/x-python",
   "name": "python",
   "nbconvert_exporter": "python",
   "pygments_lexer": "ipython3",
   "version": "3.7.3"
  }
 },
 "nbformat": 4,
 "nbformat_minor": 2
}
